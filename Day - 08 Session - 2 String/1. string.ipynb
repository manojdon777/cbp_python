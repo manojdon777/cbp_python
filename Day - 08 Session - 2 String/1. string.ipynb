{
 "cells": [
  {
   "cell_type": "markdown",
   "id": "9267f6ea",
   "metadata": {},
   "source": [
    "# Definition"
   ]
  },
  {
   "cell_type": "code",
   "execution_count": null,
   "id": "2b13cc21",
   "metadata": {},
   "outputs": [],
   "source": [
    "- collection of characters enclosed with single quotes or double quotes or triple single quotes\n",
    "- immutable\n",
    "- ordered\n",
    "- can contain duplicates\n",
    "- no single quote/quotes within single quotes\n",
    "- no double quote/quotes within double quotes"
   ]
  },
  {
   "cell_type": "code",
   "execution_count": 2,
   "id": "cfe9bd9c",
   "metadata": {},
   "outputs": [
    {
     "data": {
      "text/plain": [
       "'This is my string'"
      ]
     },
     "execution_count": 2,
     "metadata": {},
     "output_type": "execute_result"
    }
   ],
   "source": [
    "string = 'This is my string'\n",
    "string"
   ]
  },
  {
   "cell_type": "code",
   "execution_count": 3,
   "id": "c2728a33",
   "metadata": {},
   "outputs": [
    {
     "data": {
      "text/plain": [
       "'This is my string'"
      ]
     },
     "execution_count": 3,
     "metadata": {},
     "output_type": "execute_result"
    }
   ],
   "source": [
    "string = \"This is my string\"\n",
    "string"
   ]
  },
  {
   "cell_type": "code",
   "execution_count": 4,
   "id": "d863dbe8",
   "metadata": {},
   "outputs": [
    {
     "data": {
      "text/plain": [
       "'This is my string'"
      ]
     },
     "execution_count": 4,
     "metadata": {},
     "output_type": "execute_result"
    }
   ],
   "source": [
    "string = '''This is my string'''\n",
    "string"
   ]
  },
  {
   "cell_type": "code",
   "execution_count": 5,
   "id": "5e0289a7",
   "metadata": {},
   "outputs": [
    {
     "ename": "SyntaxError",
     "evalue": "unterminated string literal (detected at line 1) (1976266085.py, line 1)",
     "output_type": "error",
     "traceback": [
      "\u001b[0;36m  File \u001b[0;32m\"/tmp/ipykernel_9297/1976266085.py\"\u001b[0;36m, line \u001b[0;32m1\u001b[0m\n\u001b[0;31m    string = 'This is my\u001b[0m\n\u001b[0m             ^\u001b[0m\n\u001b[0;31mSyntaxError\u001b[0m\u001b[0;31m:\u001b[0m unterminated string literal (detected at line 1)\n"
     ]
    }
   ],
   "source": [
    "string = 'This is my \n",
    "           string'\n",
    "string"
   ]
  },
  {
   "cell_type": "code",
   "execution_count": 25,
   "id": "70f55566",
   "metadata": {},
   "outputs": [
    {
     "name": "stdout",
     "output_type": "stream",
     "text": [
      "This is my \n",
      "string\n"
     ]
    }
   ],
   "source": [
    "string = '''This is my \n",
    "string'''\n",
    "print(string)"
   ]
  },
  {
   "cell_type": "code",
   "execution_count": 9,
   "id": "53764e8f",
   "metadata": {},
   "outputs": [
    {
     "ename": "SyntaxError",
     "evalue": "invalid syntax (638546813.py, line 1)",
     "output_type": "error",
     "traceback": [
      "\u001b[0;36m  File \u001b[0;32m\"/tmp/ipykernel_9297/638546813.py\"\u001b[0;36m, line \u001b[0;32m1\u001b[0m\n\u001b[0;31m    string = 'this 'is my' class'\u001b[0m\n\u001b[0m                         ^\u001b[0m\n\u001b[0;31mSyntaxError\u001b[0m\u001b[0;31m:\u001b[0m invalid syntax\n"
     ]
    }
   ],
   "source": [
    "string = 'this 'is my' class'"
   ]
  },
  {
   "cell_type": "code",
   "execution_count": 13,
   "id": "8309d2da",
   "metadata": {},
   "outputs": [
    {
     "name": "stdout",
     "output_type": "stream",
     "text": [
      "this \"is my\" class\n"
     ]
    }
   ],
   "source": [
    "string = 'this \"is my\" class'\n",
    "print(string)"
   ]
  },
  {
   "cell_type": "code",
   "execution_count": 10,
   "id": "03ae512c",
   "metadata": {},
   "outputs": [
    {
     "ename": "SyntaxError",
     "evalue": "invalid syntax (1234868613.py, line 1)",
     "output_type": "error",
     "traceback": [
      "\u001b[0;36m  File \u001b[0;32m\"/tmp/ipykernel_9297/1234868613.py\"\u001b[0;36m, line \u001b[0;32m1\u001b[0m\n\u001b[0;31m    string = \"this \"is my\" class\"\u001b[0m\n\u001b[0m                         ^\u001b[0m\n\u001b[0;31mSyntaxError\u001b[0m\u001b[0;31m:\u001b[0m invalid syntax\n"
     ]
    }
   ],
   "source": [
    "string = \"this \"is my\" class\""
   ]
  },
  {
   "cell_type": "code",
   "execution_count": 14,
   "id": "4c3b17b5",
   "metadata": {},
   "outputs": [
    {
     "name": "stdout",
     "output_type": "stream",
     "text": [
      "this 'is my' class\n"
     ]
    }
   ],
   "source": [
    "string = \"this 'is my' class\"\n",
    "print(string)"
   ]
  },
  {
   "cell_type": "code",
   "execution_count": 15,
   "id": "6923b3de",
   "metadata": {},
   "outputs": [
    {
     "name": "stdout",
     "output_type": "stream",
     "text": [
      "It's my class\n"
     ]
    }
   ],
   "source": [
    "string = \"It's my class\"\n",
    "print(string)"
   ]
  },
  {
   "cell_type": "markdown",
   "id": "0b1998d6",
   "metadata": {},
   "source": [
    "## empty string / null string"
   ]
  },
  {
   "cell_type": "code",
   "execution_count": 43,
   "id": "f26bb84f",
   "metadata": {},
   "outputs": [
    {
     "name": "stdout",
     "output_type": "stream",
     "text": [
      "\n"
     ]
    },
    {
     "data": {
      "text/plain": [
       "str"
      ]
     },
     "execution_count": 43,
     "metadata": {},
     "output_type": "execute_result"
    }
   ],
   "source": [
    "string = str()\n",
    "print(string)\n",
    "type(string)"
   ]
  },
  {
   "cell_type": "code",
   "execution_count": null,
   "id": "ca48d1a4",
   "metadata": {},
   "outputs": [],
   "source": [
    "string = ''\n",
    "string = \"\""
   ]
  },
  {
   "cell_type": "code",
   "execution_count": null,
   "id": "b62ccd28",
   "metadata": {},
   "outputs": [],
   "source": [
    "string = ' '"
   ]
  },
  {
   "cell_type": "markdown",
   "id": "8cdce8c6",
   "metadata": {},
   "source": [
    "## white spaces"
   ]
  },
  {
   "cell_type": "code",
   "execution_count": null,
   "id": "89f501d0",
   "metadata": {},
   "outputs": [],
   "source": [
    "- new line -> '\\n'\n",
    "- one or more spaces -> ' '\n",
    "- tab -> '\\t'"
   ]
  },
  {
   "cell_type": "markdown",
   "id": "f2f55132",
   "metadata": {},
   "source": [
    "## Escape characters"
   ]
  },
  {
   "cell_type": "code",
   "execution_count": null,
   "id": "020190cf",
   "metadata": {},
   "outputs": [],
   "source": [
    "\\t\n",
    "\\n\n",
    "\\r -> return carriage"
   ]
  },
  {
   "cell_type": "raw",
   "id": "3e9de9b4",
   "metadata": {},
   "source": [
    "It's my class"
   ]
  },
  {
   "cell_type": "code",
   "execution_count": 18,
   "id": "b6097dad",
   "metadata": {},
   "outputs": [
    {
     "name": "stdout",
     "output_type": "stream",
     "text": [
      "It's my class\n"
     ]
    }
   ],
   "source": [
    "string = 'It\\'s my class'\n",
    "print(string)"
   ]
  },
  {
   "cell_type": "raw",
   "id": "589e58b3",
   "metadata": {},
   "source": [
    "Indian supercomputer names begins with \"Param\" like Paramshavak."
   ]
  },
  {
   "cell_type": "code",
   "execution_count": 19,
   "id": "a74d8229",
   "metadata": {},
   "outputs": [
    {
     "name": "stdout",
     "output_type": "stream",
     "text": [
      "Indian supercomputer names begins with \"Param\" like Paramshavak.\n"
     ]
    }
   ],
   "source": [
    "string = \"Indian supercomputer names begins with \\\"Param\\\" like Paramshavak.\"\n",
    "print(string)"
   ]
  },
  {
   "cell_type": "code",
   "execution_count": 21,
   "id": "a25b82cb",
   "metadata": {},
   "outputs": [
    {
     "name": "stdout",
     "output_type": "stream",
     "text": [
      "abc\txyz\n"
     ]
    }
   ],
   "source": [
    "string = 'abc\\txyz'\n",
    "print(string)"
   ]
  },
  {
   "cell_type": "code",
   "execution_count": 26,
   "id": "9eb663d5",
   "metadata": {},
   "outputs": [
    {
     "name": "stdout",
     "output_type": "stream",
     "text": [
      "abc\n",
      "xyz\n"
     ]
    }
   ],
   "source": [
    "string = 'abc\\nxyz'\n",
    "print(string)"
   ]
  },
  {
   "cell_type": "code",
   "execution_count": 28,
   "id": "7e252439",
   "metadata": {},
   "outputs": [
    {
     "name": "stdout",
     "output_type": "stream",
     "text": [
      "1234567\r",
      "bbb\n"
     ]
    }
   ],
   "source": [
    "string = '1234567\\rbbb'\n",
    "print(string)"
   ]
  },
  {
   "cell_type": "markdown",
   "id": "7f3666da",
   "metadata": {},
   "source": [
    "## iterator over string"
   ]
  },
  {
   "cell_type": "code",
   "execution_count": 29,
   "id": "4e4698c0",
   "metadata": {},
   "outputs": [
    {
     "name": "stdout",
     "output_type": "stream",
     "text": [
      "1-2-3-4-5-6-7-8-9-0-a-b-c-d-e-f-g-h-"
     ]
    }
   ],
   "source": [
    "string = '1234567890abcdefgh'\n",
    "for i in string:\n",
    "    print(i, end = '-')"
   ]
  },
  {
   "cell_type": "code",
   "execution_count": 31,
   "id": "6a111eb5",
   "metadata": {},
   "outputs": [
    {
     "name": "stdout",
     "output_type": "stream",
     "text": [
      "1-2-3-4-5-6-7-8-9-0-a-b-c-d-e-f-g-h-"
     ]
    }
   ],
   "source": [
    "string = '1234567890abcdefgh'\n",
    "for i in range(len(string)):\n",
    "    print(string[i], end = '-')"
   ]
  },
  {
   "cell_type": "markdown",
   "id": "9b1f8c5d",
   "metadata": {},
   "source": [
    "# String formatting"
   ]
  },
  {
   "cell_type": "code",
   "execution_count": null,
   "id": "28b0969e",
   "metadata": {},
   "outputs": [],
   "source": [
    "1. .format()\n",
    "2. f''\n",
    "3. format specifier"
   ]
  },
  {
   "cell_type": "markdown",
   "id": "ac56e08c",
   "metadata": {},
   "source": [
    "### format()"
   ]
  },
  {
   "cell_type": "code",
   "execution_count": 46,
   "id": "03559cfe",
   "metadata": {},
   "outputs": [
    {
     "name": "stdout",
     "output_type": "stream",
     "text": [
      "Age = 22 Marks = 89\n"
     ]
    }
   ],
   "source": [
    "age = 22\n",
    "marks = 89\n",
    "print('Age =', age, 'Marks =', marks)"
   ]
  },
  {
   "cell_type": "code",
   "execution_count": 47,
   "id": "a2fa0828",
   "metadata": {},
   "outputs": [
    {
     "name": "stdout",
     "output_type": "stream",
     "text": [
      "Age = 22, Marks = 89\n"
     ]
    }
   ],
   "source": [
    "print('Age = {}, Marks = {}'.format(age, marks))"
   ]
  },
  {
   "cell_type": "code",
   "execution_count": 49,
   "id": "63fe7ee6",
   "metadata": {},
   "outputs": [
    {
     "name": "stdout",
     "output_type": "stream",
     "text": [
      "Age = 22, Marks = 89, 22, [1, 2, 3, 4]\n"
     ]
    }
   ],
   "source": [
    "print('Age = {}, Marks = {}, {}, {}'.format(age, marks, age, [1,2,3,4]))"
   ]
  },
  {
   "cell_type": "markdown",
   "id": "0000241f",
   "metadata": {},
   "source": [
    "## f-string"
   ]
  },
  {
   "cell_type": "code",
   "execution_count": 52,
   "id": "af0844fa",
   "metadata": {},
   "outputs": [
    {
     "name": "stdout",
     "output_type": "stream",
     "text": [
      "Age = 22, Marks = 89, 999, CBP\n"
     ]
    }
   ],
   "source": [
    "print(f'Age = {age}, Marks = {marks}, {999}, {\"CBP\"}')"
   ]
  },
  {
   "cell_type": "markdown",
   "id": "2b1d25c3",
   "metadata": {},
   "source": [
    "## format specifier"
   ]
  },
  {
   "cell_type": "code",
   "execution_count": null,
   "id": "2843d344",
   "metadata": {},
   "outputs": [],
   "source": [
    "int   - %d\n",
    "float - %f\n",
    "str   - %s"
   ]
  },
  {
   "cell_type": "code",
   "execution_count": 54,
   "id": "ecf031a9",
   "metadata": {},
   "outputs": [
    {
     "name": "stdout",
     "output_type": "stream",
     "text": [
      "Age = 22, marks = 89\n"
     ]
    }
   ],
   "source": [
    "print('Age = %d, marks = %d'%(age, marks))"
   ]
  },
  {
   "cell_type": "code",
   "execution_count": 55,
   "id": "91e1bf96",
   "metadata": {},
   "outputs": [
    {
     "name": "stdout",
     "output_type": "stream",
     "text": [
      "Name = ABC, percentage = 89.890000\n"
     ]
    }
   ],
   "source": [
    "name = 'ABC'\n",
    "percentage = 89.89\n",
    "print('Name = %s, percentage = %f'%(name, percentage))"
   ]
  },
  {
   "cell_type": "markdown",
   "id": "b65a342d",
   "metadata": {},
   "source": [
    "# Raw string"
   ]
  },
  {
   "cell_type": "code",
   "execution_count": 56,
   "id": "60d1c006",
   "metadata": {},
   "outputs": [
    {
     "name": "stdout",
     "output_type": "stream",
     "text": [
      "hello\n",
      "world\n"
     ]
    }
   ],
   "source": [
    "abc = 'hello\\nworld'\n",
    "print(abc)"
   ]
  },
  {
   "cell_type": "code",
   "execution_count": 57,
   "id": "49d7151c",
   "metadata": {},
   "outputs": [
    {
     "name": "stdout",
     "output_type": "stream",
     "text": [
      "hello\\nworld\n"
     ]
    }
   ],
   "source": [
    "abc = r'hello\\nworld'\n",
    "print(abc)"
   ]
  },
  {
   "cell_type": "code",
   "execution_count": 58,
   "id": "1eea7fda",
   "metadata": {},
   "outputs": [
    {
     "name": "stdout",
     "output_type": "stream",
     "text": [
      "hello\tworld\n"
     ]
    }
   ],
   "source": [
    "string = 'hello\\tworld'\n",
    "print(string)"
   ]
  },
  {
   "cell_type": "code",
   "execution_count": 59,
   "id": "d5bf3c6d",
   "metadata": {},
   "outputs": [
    {
     "name": "stdout",
     "output_type": "stream",
     "text": [
      "hello\\tworld\n"
     ]
    }
   ],
   "source": [
    "string = r'hello\\tworld'\n",
    "print(string)"
   ]
  },
  {
   "cell_type": "markdown",
   "id": "919091af",
   "metadata": {},
   "source": [
    "## Type casting"
   ]
  },
  {
   "cell_type": "code",
   "execution_count": 60,
   "id": "f9f5aea3",
   "metadata": {},
   "outputs": [
    {
     "data": {
      "text/plain": [
       "1"
      ]
     },
     "execution_count": 60,
     "metadata": {},
     "output_type": "execute_result"
    }
   ],
   "source": [
    "st = '1'\n",
    "int(1)"
   ]
  },
  {
   "cell_type": "code",
   "execution_count": 61,
   "id": "a8a62e7a",
   "metadata": {},
   "outputs": [
    {
     "data": {
      "text/plain": [
       "1234"
      ]
     },
     "execution_count": 61,
     "metadata": {},
     "output_type": "execute_result"
    }
   ],
   "source": [
    "st = '1234'\n",
    "int(st)"
   ]
  },
  {
   "cell_type": "code",
   "execution_count": 62,
   "id": "d3f2a02a",
   "metadata": {},
   "outputs": [
    {
     "data": {
      "text/plain": [
       "7.89123"
      ]
     },
     "execution_count": 62,
     "metadata": {},
     "output_type": "execute_result"
    }
   ],
   "source": [
    "st = '7.89123'\n",
    "float(st)"
   ]
  },
  {
   "cell_type": "code",
   "execution_count": 63,
   "id": "0b33aaa7",
   "metadata": {},
   "outputs": [
    {
     "ename": "ValueError",
     "evalue": "invalid literal for int() with base 10: '7.89123'",
     "output_type": "error",
     "traceback": [
      "\u001b[0;31m---------------------------------------------------------------------------\u001b[0m",
      "\u001b[0;31mValueError\u001b[0m                                Traceback (most recent call last)",
      "\u001b[0;32m/tmp/ipykernel_9297/3319648939.py\u001b[0m in \u001b[0;36m<module>\u001b[0;34m\u001b[0m\n\u001b[1;32m      1\u001b[0m \u001b[0mst\u001b[0m \u001b[0;34m=\u001b[0m \u001b[0;34m'7.89123'\u001b[0m\u001b[0;34m\u001b[0m\u001b[0;34m\u001b[0m\u001b[0m\n\u001b[0;32m----> 2\u001b[0;31m \u001b[0mint\u001b[0m\u001b[0;34m(\u001b[0m\u001b[0mst\u001b[0m\u001b[0;34m)\u001b[0m\u001b[0;34m\u001b[0m\u001b[0;34m\u001b[0m\u001b[0m\n\u001b[0m",
      "\u001b[0;31mValueError\u001b[0m: invalid literal for int() with base 10: '7.89123'"
     ]
    }
   ],
   "source": [
    "st = '7.89123'\n",
    "int(st)"
   ]
  },
  {
   "cell_type": "code",
   "execution_count": 64,
   "id": "d33b6089",
   "metadata": {},
   "outputs": [
    {
     "data": {
      "text/plain": [
       "7"
      ]
     },
     "execution_count": 64,
     "metadata": {},
     "output_type": "execute_result"
    }
   ],
   "source": [
    "st = '7.89123'\n",
    "int(float(st))"
   ]
  },
  {
   "cell_type": "code",
   "execution_count": 65,
   "id": "834ae6dd",
   "metadata": {},
   "outputs": [
    {
     "data": {
      "text/plain": [
       "'123'"
      ]
     },
     "execution_count": 65,
     "metadata": {},
     "output_type": "execute_result"
    }
   ],
   "source": [
    "num = 123\n",
    "str(num)"
   ]
  },
  {
   "cell_type": "code",
   "execution_count": 66,
   "id": "47aa20a9",
   "metadata": {},
   "outputs": [
    {
     "data": {
      "text/plain": [
       "'3.145'"
      ]
     },
     "execution_count": 66,
     "metadata": {},
     "output_type": "execute_result"
    }
   ],
   "source": [
    "num = 3.145\n",
    "str(num)"
   ]
  },
  {
   "cell_type": "markdown",
   "id": "e754f6ab",
   "metadata": {},
   "source": [
    "## concatenation"
   ]
  },
  {
   "cell_type": "code",
   "execution_count": 68,
   "id": "b97765da",
   "metadata": {},
   "outputs": [
    {
     "data": {
      "text/plain": [
       "'ABC123'"
      ]
     },
     "execution_count": 68,
     "metadata": {},
     "output_type": "execute_result"
    }
   ],
   "source": [
    "str1 = 'ABC'\n",
    "str2 = '123'\n",
    "str3 = str1 + str2\n",
    "str3"
   ]
  },
  {
   "cell_type": "code",
   "execution_count": 69,
   "id": "7841f874",
   "metadata": {},
   "outputs": [
    {
     "data": {
      "text/plain": [
       "'123ABC'"
      ]
     },
     "execution_count": 69,
     "metadata": {},
     "output_type": "execute_result"
    }
   ],
   "source": [
    "str1 = 'ABC'\n",
    "str2 = '123'\n",
    "str3 = str2 + str1\n",
    "str3"
   ]
  },
  {
   "cell_type": "code",
   "execution_count": 90,
   "id": "4a731e99",
   "metadata": {},
   "outputs": [
    {
     "name": "stdout",
     "output_type": "stream",
     "text": [
      "140581504274672\n",
      "140581015589360\n"
     ]
    },
    {
     "data": {
      "text/plain": [
       "'ABC123'"
      ]
     },
     "execution_count": 90,
     "metadata": {},
     "output_type": "execute_result"
    }
   ],
   "source": [
    "str1 = 'ABC'\n",
    "str2 = '123'\n",
    "print(id(str1))\n",
    "str1 = str1 + str2\n",
    "print(id(str1))\n",
    "str1"
   ]
  },
  {
   "cell_type": "code",
   "execution_count": 91,
   "id": "664e2ca3",
   "metadata": {},
   "outputs": [
    {
     "data": {
      "text/plain": [
       "'strstrstrstr'"
      ]
     },
     "execution_count": 91,
     "metadata": {},
     "output_type": "execute_result"
    }
   ],
   "source": [
    "string = 'str' * 4\n",
    "string"
   ]
  },
  {
   "cell_type": "code",
   "execution_count": 92,
   "id": "fe691c34",
   "metadata": {},
   "outputs": [
    {
     "data": {
      "text/plain": [
       "'****'"
      ]
     },
     "execution_count": 92,
     "metadata": {},
     "output_type": "execute_result"
    }
   ],
   "source": [
    "string = '*' * 4\n",
    "string"
   ]
  },
  {
   "cell_type": "code",
   "execution_count": 93,
   "id": "b4225045",
   "metadata": {},
   "outputs": [
    {
     "name": "stdout",
     "output_type": "stream",
     "text": [
      "\n",
      "*\n",
      "**\n",
      "***\n",
      "****\n",
      "*****\n",
      "******\n"
     ]
    }
   ],
   "source": [
    "for i in range(7):\n",
    "    for j in range(i):\n",
    "        print('*', end = '')\n",
    "    print()"
   ]
  },
  {
   "cell_type": "code",
   "execution_count": 96,
   "id": "d8279658",
   "metadata": {},
   "outputs": [
    {
     "name": "stdout",
     "output_type": "stream",
     "text": [
      "\n",
      "*\n",
      "**\n",
      "***\n",
      "****\n",
      "*****\n",
      "******\n"
     ]
    }
   ],
   "source": [
    "for i in range(7):\n",
    "    print('*'*i, end = '')\n",
    "    print()"
   ]
  },
  {
   "cell_type": "code",
   "execution_count": 97,
   "id": "90a48296",
   "metadata": {},
   "outputs": [
    {
     "data": {
      "text/plain": [
       "[1, 3]"
      ]
     },
     "execution_count": 97,
     "metadata": {},
     "output_type": "execute_result"
    }
   ],
   "source": [
    "a = [1,2,3]\n",
    "del a[1]\n",
    "a"
   ]
  },
  {
   "cell_type": "code",
   "execution_count": 98,
   "id": "a1b65683",
   "metadata": {},
   "outputs": [
    {
     "ename": "TypeError",
     "evalue": "'str' object doesn't support item deletion",
     "output_type": "error",
     "traceback": [
      "\u001b[0;31m---------------------------------------------------------------------------\u001b[0m",
      "\u001b[0;31mTypeError\u001b[0m                                 Traceback (most recent call last)",
      "\u001b[0;32m/tmp/ipykernel_9297/3173230070.py\u001b[0m in \u001b[0;36m<module>\u001b[0;34m\u001b[0m\n\u001b[1;32m      1\u001b[0m \u001b[0ma\u001b[0m \u001b[0;34m=\u001b[0m \u001b[0;34m'abcdefg'\u001b[0m\u001b[0;34m\u001b[0m\u001b[0;34m\u001b[0m\u001b[0m\n\u001b[0;32m----> 2\u001b[0;31m \u001b[0;32mdel\u001b[0m \u001b[0ma\u001b[0m\u001b[0;34m[\u001b[0m\u001b[0;36m1\u001b[0m\u001b[0;34m]\u001b[0m\u001b[0;34m\u001b[0m\u001b[0;34m\u001b[0m\u001b[0m\n\u001b[0m\u001b[1;32m      3\u001b[0m \u001b[0ma\u001b[0m\u001b[0;34m\u001b[0m\u001b[0;34m\u001b[0m\u001b[0m\n",
      "\u001b[0;31mTypeError\u001b[0m: 'str' object doesn't support item deletion"
     ]
    }
   ],
   "source": [
    "a = 'abcdefg'\n",
    "del a[1]\n",
    "a"
   ]
  },
  {
   "cell_type": "markdown",
   "id": "6441d6e4",
   "metadata": {},
   "source": [
    "## enumerate()"
   ]
  },
  {
   "cell_type": "code",
   "execution_count": 100,
   "id": "e92089da",
   "metadata": {},
   "outputs": [
    {
     "name": "stdout",
     "output_type": "stream",
     "text": [
      "Character a is present as index 0\n",
      "Character b is present as index 1\n",
      "Character c is present as index 2\n",
      "Character d is present as index 3\n",
      "Character e is present as index 4\n",
      "Character f is present as index 5\n",
      "Character g is present as index 6\n",
      "Character h is present as index 7\n"
     ]
    }
   ],
   "source": [
    "string = 'abcdefgh'\n",
    "for i, v in enumerate(string):\n",
    "    print(f'Character {v} is present as index {i}')"
   ]
  },
  {
   "cell_type": "markdown",
   "id": "1ca71a63",
   "metadata": {},
   "source": [
    "## Indexing"
   ]
  },
  {
   "cell_type": "markdown",
   "id": "a96bf19d",
   "metadata": {},
   "source": [
    "### positive"
   ]
  },
  {
   "cell_type": "code",
   "execution_count": 101,
   "id": "cbccf0cb",
   "metadata": {},
   "outputs": [
    {
     "name": "stdout",
     "output_type": "stream",
     "text": [
      "0 1 2 3 4 5 6 7 8 9 "
     ]
    }
   ],
   "source": [
    "string = '0123456789'\n",
    "for i in range(len(string)):\n",
    "    print(string[i], end = ' ')"
   ]
  },
  {
   "cell_type": "markdown",
   "id": "6ffbbb64",
   "metadata": {},
   "source": [
    "### negative"
   ]
  },
  {
   "cell_type": "code",
   "execution_count": 106,
   "id": "aedb1502",
   "metadata": {},
   "outputs": [
    {
     "name": "stdout",
     "output_type": "stream",
     "text": [
      "9 8 7 6 5 4 3 2 1 0 "
     ]
    }
   ],
   "source": [
    "string = '0123456789'\n",
    "for i in range(-1, -len(string)-1, -1):\n",
    "    print(string[i], end = ' ')"
   ]
  },
  {
   "cell_type": "code",
   "execution_count": 112,
   "id": "57a05f03",
   "metadata": {},
   "outputs": [
    {
     "name": "stdout",
     "output_type": "stream",
     "text": [
      "9 8 7 6 5 4 3 2 1 0 "
     ]
    }
   ],
   "source": [
    "string = '0123456789'\n",
    "for i in range(-1, -len(string)-1, -1):\n",
    "    print(string[i], end = ' ')"
   ]
  },
  {
   "cell_type": "code",
   "execution_count": 110,
   "id": "35115f25",
   "metadata": {},
   "outputs": [
    {
     "data": {
      "text/plain": [
       "'0'"
      ]
     },
     "execution_count": 110,
     "metadata": {},
     "output_type": "execute_result"
    }
   ],
   "source": [
    "string[-10]"
   ]
  },
  {
   "cell_type": "markdown",
   "id": "6d5a2330",
   "metadata": {},
   "source": [
    "## Slicing"
   ]
  },
  {
   "cell_type": "code",
   "execution_count": null,
   "id": "fe64f036",
   "metadata": {},
   "outputs": [],
   "source": [
    "string[ start_index : end_index : step_size]\n",
    "start_index-> default = 0\n",
    "end_index-> default = length of object\n",
    "step_size-> default = 1"
   ]
  },
  {
   "cell_type": "code",
   "execution_count": 113,
   "id": "7659253e",
   "metadata": {},
   "outputs": [
    {
     "data": {
      "text/plain": [
       "'34567'"
      ]
     },
     "execution_count": 113,
     "metadata": {},
     "output_type": "execute_result"
    }
   ],
   "source": [
    "string = '0123456789'\n",
    "string[3:8:]"
   ]
  },
  {
   "cell_type": "code",
   "execution_count": 114,
   "id": "be08bebe",
   "metadata": {},
   "outputs": [
    {
     "data": {
      "text/plain": [
       "64"
      ]
     },
     "execution_count": 114,
     "metadata": {},
     "output_type": "execute_result"
    }
   ],
   "source": [
    "string = \"Indian supercomputer names begins with \\\"Param\\\" like Paramshavak.\"\n",
    "len(string)"
   ]
  },
  {
   "cell_type": "code",
   "execution_count": 115,
   "id": "5c56c82c",
   "metadata": {},
   "outputs": [
    {
     "data": {
      "text/plain": [
       "'aucu eestPmi'"
      ]
     },
     "execution_count": 115,
     "metadata": {},
     "output_type": "execute_result"
    }
   ],
   "source": [
    "string[4:50:4]"
   ]
  },
  {
   "cell_type": "code",
   "execution_count": 116,
   "id": "87500aac",
   "metadata": {},
   "outputs": [
    {
     "data": {
      "text/plain": [
       "'.kavahsmaraP ekil \"maraP\" htiw snigeb seman retupmocrepus naidnI'"
      ]
     },
     "execution_count": 116,
     "metadata": {},
     "output_type": "execute_result"
    }
   ],
   "source": [
    "string[::-1]"
   ]
  },
  {
   "cell_type": "code",
   "execution_count": 117,
   "id": "ba981d8c",
   "metadata": {},
   "outputs": [
    {
     "data": {
      "text/plain": [
       "'\"r\"t ibenep'"
      ]
     },
     "execution_count": 117,
     "metadata": {},
     "output_type": "execute_result"
    }
   ],
   "source": [
    "string[45:13:-3]"
   ]
  },
  {
   "cell_type": "code",
   "execution_count": null,
   "id": "91786784",
   "metadata": {},
   "outputs": [],
   "source": []
  },
  {
   "cell_type": "code",
   "execution_count": null,
   "id": "8d4e05c7",
   "metadata": {},
   "outputs": [],
   "source": []
  },
  {
   "cell_type": "code",
   "execution_count": null,
   "id": "cf8d4e2c",
   "metadata": {},
   "outputs": [],
   "source": []
  },
  {
   "cell_type": "markdown",
   "id": "719ee8f2",
   "metadata": {},
   "source": [
    "# string functions"
   ]
  },
  {
   "cell_type": "code",
   "execution_count": 33,
   "id": "11d891b9",
   "metadata": {},
   "outputs": [
    {
     "name": "stdout",
     "output_type": "stream",
     "text": [
      "Guwahati is the largest city of the Indian state of Assam and also the largest metropolis in northeastern India.\n"
     ]
    }
   ],
   "source": [
    "string = 'Guwahati is the largest city of the Indian state of \\\n",
    "Assam and also the largest metropolis in northeastern India.'\n",
    "print(string)"
   ]
  },
  {
   "cell_type": "markdown",
   "id": "60b45ff4",
   "metadata": {},
   "source": [
    "## 1. capitalize()\n",
    "- capitalize first chharacter of whole string\n",
    "- rest of the characters converted to lower case if they are in upper case"
   ]
  },
  {
   "cell_type": "code",
   "execution_count": 34,
   "id": "fca062c2",
   "metadata": {},
   "outputs": [
    {
     "data": {
      "text/plain": [
       "'Guwahati is the largest city of the indian state of assam and also the largest metropolis in northeastern india.'"
      ]
     },
     "execution_count": 34,
     "metadata": {},
     "output_type": "execute_result"
    }
   ],
   "source": [
    "string.capitalize()"
   ]
  },
  {
   "cell_type": "markdown",
   "id": "4d6dc8af",
   "metadata": {},
   "source": [
    "## 2. title()\n",
    "- changes first character to capital for each word in string separated by space\n",
    "- rest of the characters converted to lower case if they are in upper case"
   ]
  },
  {
   "cell_type": "code",
   "execution_count": 35,
   "id": "0900dfbd",
   "metadata": {},
   "outputs": [
    {
     "data": {
      "text/plain": [
       "'Guwahati Is The Largest City Of The Indian State Of Assam And Also The Largest Metropolis In Northeastern India.'"
      ]
     },
     "execution_count": 35,
     "metadata": {},
     "output_type": "execute_result"
    }
   ],
   "source": [
    "string.title()"
   ]
  },
  {
   "cell_type": "code",
   "execution_count": 36,
   "id": "6cc50854",
   "metadata": {},
   "outputs": [
    {
     "data": {
      "text/plain": [
       "'Abcc Asbh'"
      ]
     },
     "execution_count": 36,
     "metadata": {},
     "output_type": "execute_result"
    }
   ],
   "source": [
    "'ABcc asbh'.title()"
   ]
  },
  {
   "cell_type": "markdown",
   "id": "fff021e8",
   "metadata": {},
   "source": [
    "## 3. upper()"
   ]
  },
  {
   "cell_type": "code",
   "execution_count": 37,
   "id": "0d1f812e",
   "metadata": {},
   "outputs": [
    {
     "data": {
      "text/plain": [
       "'GUWAHATI IS THE LARGEST CITY OF THE INDIAN STATE OF ASSAM AND ALSO THE LARGEST METROPOLIS IN NORTHEASTERN INDIA.'"
      ]
     },
     "execution_count": 37,
     "metadata": {},
     "output_type": "execute_result"
    }
   ],
   "source": [
    "string.upper()"
   ]
  },
  {
   "cell_type": "code",
   "execution_count": 39,
   "id": "62899636",
   "metadata": {},
   "outputs": [
    {
     "data": {
      "text/plain": [
       "'ABCDEFGHIJKL'"
      ]
     },
     "execution_count": 39,
     "metadata": {},
     "output_type": "execute_result"
    }
   ],
   "source": [
    "abc = 'AbCdEfGhIjKl'\n",
    "abc.upper()"
   ]
  },
  {
   "cell_type": "markdown",
   "id": "0a17c65b",
   "metadata": {},
   "source": [
    "## 4. lower()"
   ]
  },
  {
   "cell_type": "code",
   "execution_count": 38,
   "id": "1de5488d",
   "metadata": {},
   "outputs": [
    {
     "data": {
      "text/plain": [
       "'guwahati is the largest city of the indian state of assam and also the largest metropolis in northeastern india.'"
      ]
     },
     "execution_count": 38,
     "metadata": {},
     "output_type": "execute_result"
    }
   ],
   "source": [
    "string.lower()"
   ]
  },
  {
   "cell_type": "code",
   "execution_count": 40,
   "id": "d905bf04",
   "metadata": {},
   "outputs": [
    {
     "data": {
      "text/plain": [
       "'abcdefghijkl'"
      ]
     },
     "execution_count": 40,
     "metadata": {},
     "output_type": "execute_result"
    }
   ],
   "source": [
    "abc = 'AbCdEfGhIjKl'\n",
    "abc.lower()"
   ]
  },
  {
   "cell_type": "code",
   "execution_count": null,
   "id": "01e2fde1",
   "metadata": {},
   "outputs": [],
   "source": [
    "string."
   ]
  },
  {
   "cell_type": "code",
   "execution_count": null,
   "id": "1865e351",
   "metadata": {},
   "outputs": [],
   "source": [
    "## strip"
   ]
  },
  {
   "cell_type": "code",
   "execution_count": null,
   "id": "bd6e1f46",
   "metadata": {},
   "outputs": [],
   "source": [
    "## strip"
   ]
  },
  {
   "cell_type": "code",
   "execution_count": null,
   "id": "ae1600b2",
   "metadata": {},
   "outputs": [],
   "source": [
    "## strip"
   ]
  },
  {
   "cell_type": "code",
   "execution_count": null,
   "id": "f41ce960",
   "metadata": {},
   "outputs": [],
   "source": []
  },
  {
   "cell_type": "code",
   "execution_count": null,
   "id": "774ea280",
   "metadata": {},
   "outputs": [],
   "source": []
  },
  {
   "cell_type": "code",
   "execution_count": null,
   "id": "21cd9ac6",
   "metadata": {},
   "outputs": [],
   "source": []
  },
  {
   "cell_type": "code",
   "execution_count": null,
   "id": "31487fd2",
   "metadata": {},
   "outputs": [],
   "source": []
  }
 ],
 "metadata": {
  "kernelspec": {
   "display_name": "Python 3 (ipykernel)",
   "language": "python",
   "name": "python3"
  },
  "language_info": {
   "codemirror_mode": {
    "name": "ipython",
    "version": 3
   },
   "file_extension": ".py",
   "mimetype": "text/x-python",
   "name": "python",
   "nbconvert_exporter": "python",
   "pygments_lexer": "ipython3",
   "version": "3.10.12"
  }
 },
 "nbformat": 4,
 "nbformat_minor": 5
}
