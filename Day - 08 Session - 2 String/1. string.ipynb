{
 "cells": [
  {
   "cell_type": "markdown",
   "id": "a25c1eb1",
   "metadata": {},
   "source": [
    "## Definition"
   ]
  },
  {
   "cell_type": "code",
   "execution_count": null,
   "id": "a13218bc",
   "metadata": {},
   "outputs": [],
   "source": [
    "- collection of characters enclosed with single quotes or double quotes or triple single quotes\n",
    "- immutable\n",
    "- ordered\n",
    "- can contain duplicates\n",
    "- no single quote/quotes within single quotes\n",
    "- no double quote/quotes within double quotes"
   ]
  },
  {
   "cell_type": "code",
   "execution_count": 2,
   "id": "7e107a6d",
   "metadata": {},
   "outputs": [
    {
     "data": {
      "text/plain": [
       "'This is my string'"
      ]
     },
     "execution_count": 2,
     "metadata": {},
     "output_type": "execute_result"
    }
   ],
   "source": [
    "string = 'This is my string'\n",
    "string"
   ]
  },
  {
   "cell_type": "code",
   "execution_count": 3,
   "id": "227aeac5",
   "metadata": {},
   "outputs": [
    {
     "data": {
      "text/plain": [
       "'This is my string'"
      ]
     },
     "execution_count": 3,
     "metadata": {},
     "output_type": "execute_result"
    }
   ],
   "source": [
    "string = \"This is my string\"\n",
    "string"
   ]
  },
  {
   "cell_type": "code",
   "execution_count": 4,
   "id": "469241bd",
   "metadata": {},
   "outputs": [
    {
     "data": {
      "text/plain": [
       "'This is my string'"
      ]
     },
     "execution_count": 4,
     "metadata": {},
     "output_type": "execute_result"
    }
   ],
   "source": [
    "string = '''This is my string'''\n",
    "string"
   ]
  },
  {
   "cell_type": "code",
   "execution_count": 5,
   "id": "51720bb5",
   "metadata": {},
   "outputs": [
    {
     "ename": "SyntaxError",
     "evalue": "unterminated string literal (detected at line 1) (1976266085.py, line 1)",
     "output_type": "error",
     "traceback": [
      "\u001b[0;36m  File \u001b[0;32m\"/tmp/ipykernel_9297/1976266085.py\"\u001b[0;36m, line \u001b[0;32m1\u001b[0m\n\u001b[0;31m    string = 'This is my\u001b[0m\n\u001b[0m             ^\u001b[0m\n\u001b[0;31mSyntaxError\u001b[0m\u001b[0;31m:\u001b[0m unterminated string literal (detected at line 1)\n"
     ]
    }
   ],
   "source": [
    "string = 'This is my \n",
    "           string'\n",
    "string"
   ]
  },
  {
   "cell_type": "code",
   "execution_count": 25,
   "id": "295e0ae4",
   "metadata": {},
   "outputs": [
    {
     "name": "stdout",
     "output_type": "stream",
     "text": [
      "This is my \n",
      "string\n"
     ]
    }
   ],
   "source": [
    "string = '''This is my \n",
    "string'''\n",
    "print(string)"
   ]
  },
  {
   "cell_type": "code",
   "execution_count": 9,
   "id": "85c32b51",
   "metadata": {},
   "outputs": [
    {
     "ename": "SyntaxError",
     "evalue": "invalid syntax (638546813.py, line 1)",
     "output_type": "error",
     "traceback": [
      "\u001b[0;36m  File \u001b[0;32m\"/tmp/ipykernel_9297/638546813.py\"\u001b[0;36m, line \u001b[0;32m1\u001b[0m\n\u001b[0;31m    string = 'this 'is my' class'\u001b[0m\n\u001b[0m                         ^\u001b[0m\n\u001b[0;31mSyntaxError\u001b[0m\u001b[0;31m:\u001b[0m invalid syntax\n"
     ]
    }
   ],
   "source": [
    "string = 'this 'is my' class'"
   ]
  },
  {
   "cell_type": "code",
   "execution_count": 13,
   "id": "9dc7e72a",
   "metadata": {},
   "outputs": [
    {
     "name": "stdout",
     "output_type": "stream",
     "text": [
      "this \"is my\" class\n"
     ]
    }
   ],
   "source": [
    "string = 'this \"is my\" class'\n",
    "print(string)"
   ]
  },
  {
   "cell_type": "code",
   "execution_count": 10,
   "id": "86f835f8",
   "metadata": {},
   "outputs": [
    {
     "ename": "SyntaxError",
     "evalue": "invalid syntax (1234868613.py, line 1)",
     "output_type": "error",
     "traceback": [
      "\u001b[0;36m  File \u001b[0;32m\"/tmp/ipykernel_9297/1234868613.py\"\u001b[0;36m, line \u001b[0;32m1\u001b[0m\n\u001b[0;31m    string = \"this \"is my\" class\"\u001b[0m\n\u001b[0m                         ^\u001b[0m\n\u001b[0;31mSyntaxError\u001b[0m\u001b[0;31m:\u001b[0m invalid syntax\n"
     ]
    }
   ],
   "source": [
    "string = \"this \"is my\" class\""
   ]
  },
  {
   "cell_type": "code",
   "execution_count": 14,
   "id": "35d01e13",
   "metadata": {},
   "outputs": [
    {
     "name": "stdout",
     "output_type": "stream",
     "text": [
      "this 'is my' class\n"
     ]
    }
   ],
   "source": [
    "string = \"this 'is my' class\"\n",
    "print(string)"
   ]
  },
  {
   "cell_type": "code",
   "execution_count": 15,
   "id": "2e6ce2fd",
   "metadata": {},
   "outputs": [
    {
     "name": "stdout",
     "output_type": "stream",
     "text": [
      "It's my class\n"
     ]
    }
   ],
   "source": [
    "string = \"It's my class\"\n",
    "print(string)"
   ]
  },
  {
   "cell_type": "code",
   "execution_count": null,
   "id": "97c931b9",
   "metadata": {},
   "outputs": [],
   "source": []
  },
  {
   "cell_type": "code",
   "execution_count": null,
   "id": "b7db633c",
   "metadata": {},
   "outputs": [],
   "source": []
  },
  {
   "cell_type": "markdown",
   "id": "868c0ee7",
   "metadata": {},
   "source": [
    "## white spaces"
   ]
  },
  {
   "cell_type": "code",
   "execution_count": null,
   "id": "836125e4",
   "metadata": {},
   "outputs": [],
   "source": [
    "- new line -> '\\n'\n",
    "- one or more spaces -> ' '\n",
    "- tab -> '\\t'"
   ]
  },
  {
   "cell_type": "markdown",
   "id": "25b8e6ec",
   "metadata": {},
   "source": [
    "## Escape characters"
   ]
  },
  {
   "cell_type": "code",
   "execution_count": null,
   "id": "2f8e356e",
   "metadata": {},
   "outputs": [],
   "source": [
    "\\t\n",
    "\\n\n",
    "\\r -> return carriage"
   ]
  },
  {
   "cell_type": "raw",
   "id": "60403023",
   "metadata": {},
   "source": [
    "It's my class"
   ]
  },
  {
   "cell_type": "code",
   "execution_count": 18,
   "id": "e0d29c32",
   "metadata": {},
   "outputs": [
    {
     "name": "stdout",
     "output_type": "stream",
     "text": [
      "It's my class\n"
     ]
    }
   ],
   "source": [
    "string = 'It\\'s my class'\n",
    "print(string)"
   ]
  },
  {
   "cell_type": "raw",
   "id": "ff68a25b",
   "metadata": {},
   "source": [
    "Indian supercomputer names begins with \"Param\" like Paramshavak."
   ]
  },
  {
   "cell_type": "code",
   "execution_count": 19,
   "id": "f74b5338",
   "metadata": {},
   "outputs": [
    {
     "name": "stdout",
     "output_type": "stream",
     "text": [
      "Indian supercomputer names begins with \"Param\" like Paramshavak.\n"
     ]
    }
   ],
   "source": [
    "string = \"Indian supercomputer names begins with \\\"Param\\\" like Paramshavak.\"\n",
    "print(string)"
   ]
  },
  {
   "cell_type": "code",
   "execution_count": 21,
   "id": "ef3a8ba3",
   "metadata": {},
   "outputs": [
    {
     "name": "stdout",
     "output_type": "stream",
     "text": [
      "abc\txyz\n"
     ]
    }
   ],
   "source": [
    "string = 'abc\\txyz'\n",
    "print(string)"
   ]
  },
  {
   "cell_type": "code",
   "execution_count": 26,
   "id": "522f54c9",
   "metadata": {},
   "outputs": [
    {
     "name": "stdout",
     "output_type": "stream",
     "text": [
      "abc\n",
      "xyz\n"
     ]
    }
   ],
   "source": [
    "string = 'abc\\nxyz'\n",
    "print(string)"
   ]
  },
  {
   "cell_type": "code",
   "execution_count": 28,
   "id": "bca543ba",
   "metadata": {},
   "outputs": [
    {
     "name": "stdout",
     "output_type": "stream",
     "text": [
      "1234567\r",
      "bbb\n"
     ]
    }
   ],
   "source": [
    "string = '1234567\\rbbb'\n",
    "print(string)"
   ]
  },
  {
   "cell_type": "markdown",
   "id": "cf5b5e16",
   "metadata": {},
   "source": [
    "## iterator over string"
   ]
  },
  {
   "cell_type": "code",
   "execution_count": 29,
   "id": "03b40d0c",
   "metadata": {},
   "outputs": [
    {
     "name": "stdout",
     "output_type": "stream",
     "text": [
      "1-2-3-4-5-6-7-8-9-0-a-b-c-d-e-f-g-h-"
     ]
    }
   ],
   "source": [
    "string = '1234567890abcdefgh'\n",
    "for i in string:\n",
    "    print(i, end = '-')"
   ]
  },
  {
   "cell_type": "code",
   "execution_count": 31,
   "id": "92651eea",
   "metadata": {},
   "outputs": [
    {
     "name": "stdout",
     "output_type": "stream",
     "text": [
      "1-2-3-4-5-6-7-8-9-0-a-b-c-d-e-f-g-h-"
     ]
    }
   ],
   "source": [
    "string = '1234567890abcdefgh'\n",
    "for i in range(len(string)):\n",
    "    print(string[i], end = '-')"
   ]
  },
  {
   "cell_type": "markdown",
   "id": "96ad082f",
   "metadata": {},
   "source": [
    "## string functions"
   ]
  },
  {
   "cell_type": "code",
   "execution_count": 33,
   "id": "38902107",
   "metadata": {},
   "outputs": [
    {
     "name": "stdout",
     "output_type": "stream",
     "text": [
      "Guwahati is the largest city of the Indian state of Assam and also the largest metropolis in northeastern India.\n"
     ]
    }
   ],
   "source": [
    "string = 'Guwahati is the largest city of the Indian state of \\\n",
    "Assam and also the largest metropolis in northeastern India.'\n",
    "print(string)"
   ]
  },
  {
   "cell_type": "markdown",
   "id": "b5a2eda7",
   "metadata": {},
   "source": [
    "## capitalize()\n",
    "- capitalize first chharacter of whole string\n",
    "- rest of the characters converted to lower case if they are in upper case"
   ]
  },
  {
   "cell_type": "code",
   "execution_count": 34,
   "id": "c7dffe44",
   "metadata": {},
   "outputs": [
    {
     "data": {
      "text/plain": [
       "'Guwahati is the largest city of the indian state of assam and also the largest metropolis in northeastern india.'"
      ]
     },
     "execution_count": 34,
     "metadata": {},
     "output_type": "execute_result"
    }
   ],
   "source": [
    "string.capitalize()"
   ]
  },
  {
   "cell_type": "markdown",
   "id": "dd6f5a54",
   "metadata": {},
   "source": [
    "## title()\n",
    "- changes first character to capital for each word in string separated by space\n",
    "- rest of the characters converted to lower case if they are in upper case"
   ]
  },
  {
   "cell_type": "code",
   "execution_count": 35,
   "id": "cd89d149",
   "metadata": {},
   "outputs": [
    {
     "data": {
      "text/plain": [
       "'Guwahati Is The Largest City Of The Indian State Of Assam And Also The Largest Metropolis In Northeastern India.'"
      ]
     },
     "execution_count": 35,
     "metadata": {},
     "output_type": "execute_result"
    }
   ],
   "source": [
    "string.title()"
   ]
  },
  {
   "cell_type": "code",
   "execution_count": 36,
   "id": "c978bf5a",
   "metadata": {},
   "outputs": [
    {
     "data": {
      "text/plain": [
       "'Abcc Asbh'"
      ]
     },
     "execution_count": 36,
     "metadata": {},
     "output_type": "execute_result"
    }
   ],
   "source": [
    "'ABcc asbh'.title()"
   ]
  },
  {
   "cell_type": "markdown",
   "id": "9f41c34e",
   "metadata": {},
   "source": [
    "## upper()"
   ]
  },
  {
   "cell_type": "code",
   "execution_count": 37,
   "id": "15e72151",
   "metadata": {},
   "outputs": [
    {
     "data": {
      "text/plain": [
       "'GUWAHATI IS THE LARGEST CITY OF THE INDIAN STATE OF ASSAM AND ALSO THE LARGEST METROPOLIS IN NORTHEASTERN INDIA.'"
      ]
     },
     "execution_count": 37,
     "metadata": {},
     "output_type": "execute_result"
    }
   ],
   "source": [
    "string.upper()"
   ]
  },
  {
   "cell_type": "code",
   "execution_count": 39,
   "id": "a840a883",
   "metadata": {},
   "outputs": [
    {
     "data": {
      "text/plain": [
       "'ABCDEFGHIJKL'"
      ]
     },
     "execution_count": 39,
     "metadata": {},
     "output_type": "execute_result"
    }
   ],
   "source": [
    "abc = 'AbCdEfGhIjKl'\n",
    "abc.upper()"
   ]
  },
  {
   "cell_type": "markdown",
   "id": "17d59f38",
   "metadata": {},
   "source": [
    "## lower()"
   ]
  },
  {
   "cell_type": "code",
   "execution_count": 38,
   "id": "f03a8e2d",
   "metadata": {},
   "outputs": [
    {
     "data": {
      "text/plain": [
       "'guwahati is the largest city of the indian state of assam and also the largest metropolis in northeastern india.'"
      ]
     },
     "execution_count": 38,
     "metadata": {},
     "output_type": "execute_result"
    }
   ],
   "source": [
    "string.lower()"
   ]
  },
  {
   "cell_type": "code",
   "execution_count": 40,
   "id": "a75db882",
   "metadata": {},
   "outputs": [
    {
     "data": {
      "text/plain": [
       "'abcdefghijkl'"
      ]
     },
     "execution_count": 40,
     "metadata": {},
     "output_type": "execute_result"
    }
   ],
   "source": [
    "abc = 'AbCdEfGhIjKl'\n",
    "abc.lower()"
   ]
  },
  {
   "cell_type": "code",
   "execution_count": null,
   "id": "09559e57",
   "metadata": {},
   "outputs": [],
   "source": [
    "string."
   ]
  },
  {
   "cell_type": "code",
   "execution_count": null,
   "id": "b7e13a1b",
   "metadata": {},
   "outputs": [],
   "source": []
  },
  {
   "cell_type": "code",
   "execution_count": null,
   "id": "323e4b24",
   "metadata": {},
   "outputs": [],
   "source": []
  },
  {
   "cell_type": "code",
   "execution_count": null,
   "id": "19d22155",
   "metadata": {},
   "outputs": [],
   "source": []
  },
  {
   "cell_type": "code",
   "execution_count": null,
   "id": "083a1ad0",
   "metadata": {},
   "outputs": [],
   "source": []
  },
  {
   "cell_type": "code",
   "execution_count": null,
   "id": "09ea77c9",
   "metadata": {},
   "outputs": [],
   "source": []
  },
  {
   "cell_type": "code",
   "execution_count": null,
   "id": "79ee2047",
   "metadata": {},
   "outputs": [],
   "source": []
  },
  {
   "cell_type": "code",
   "execution_count": null,
   "id": "078d95be",
   "metadata": {},
   "outputs": [],
   "source": []
  }
 ],
 "metadata": {
  "kernelspec": {
   "display_name": "Python 3 (ipykernel)",
   "language": "python",
   "name": "python3"
  },
  "language_info": {
   "codemirror_mode": {
    "name": "ipython",
    "version": 3
   },
   "file_extension": ".py",
   "mimetype": "text/x-python",
   "name": "python",
   "nbconvert_exporter": "python",
   "pygments_lexer": "ipython3",
   "version": "3.10.12"
  }
 },
 "nbformat": 4,
 "nbformat_minor": 5
}
