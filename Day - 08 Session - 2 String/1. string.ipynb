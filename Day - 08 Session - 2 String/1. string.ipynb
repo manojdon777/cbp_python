{
 "cells": [
  {
   "cell_type": "markdown",
   "id": "7e2f145f",
   "metadata": {},
   "source": [
    "# Definition"
   ]
  },
  {
   "cell_type": "code",
   "execution_count": null,
   "id": "b677405c",
   "metadata": {},
   "outputs": [],
   "source": [
    "- collection of characters enclosed with single quotes or double quotes or triple single quotes\n",
    "- immutable\n",
    "- ordered\n",
    "- can contain duplicates\n",
    "- no single quote/quotes within single quotes\n",
    "- no double quote/quotes within double quotes"
   ]
  },
  {
   "cell_type": "code",
   "execution_count": 2,
   "id": "6ca26581",
   "metadata": {},
   "outputs": [
    {
     "data": {
      "text/plain": [
       "'This is my string'"
      ]
     },
     "execution_count": 2,
     "metadata": {},
     "output_type": "execute_result"
    }
   ],
   "source": [
    "string = 'This is my string'\n",
    "string"
   ]
  },
  {
   "cell_type": "code",
   "execution_count": 3,
   "id": "48fa40b8",
   "metadata": {},
   "outputs": [
    {
     "data": {
      "text/plain": [
       "'This is my string'"
      ]
     },
     "execution_count": 3,
     "metadata": {},
     "output_type": "execute_result"
    }
   ],
   "source": [
    "string = \"This is my string\"\n",
    "string"
   ]
  },
  {
   "cell_type": "code",
   "execution_count": 4,
   "id": "3944da60",
   "metadata": {},
   "outputs": [
    {
     "data": {
      "text/plain": [
       "'This is my string'"
      ]
     },
     "execution_count": 4,
     "metadata": {},
     "output_type": "execute_result"
    }
   ],
   "source": [
    "string = '''This is my string'''\n",
    "string"
   ]
  },
  {
   "cell_type": "code",
   "execution_count": 5,
   "id": "d027ad90",
   "metadata": {},
   "outputs": [
    {
     "ename": "SyntaxError",
     "evalue": "unterminated string literal (detected at line 1) (1976266085.py, line 1)",
     "output_type": "error",
     "traceback": [
      "\u001b[0;36m  File \u001b[0;32m\"/tmp/ipykernel_9297/1976266085.py\"\u001b[0;36m, line \u001b[0;32m1\u001b[0m\n\u001b[0;31m    string = 'This is my\u001b[0m\n\u001b[0m             ^\u001b[0m\n\u001b[0;31mSyntaxError\u001b[0m\u001b[0;31m:\u001b[0m unterminated string literal (detected at line 1)\n"
     ]
    }
   ],
   "source": [
    "string = 'This is my \n",
    "           string'\n",
    "string"
   ]
  },
  {
   "cell_type": "code",
   "execution_count": 25,
   "id": "6828e89f",
   "metadata": {},
   "outputs": [
    {
     "name": "stdout",
     "output_type": "stream",
     "text": [
      "This is my \n",
      "string\n"
     ]
    }
   ],
   "source": [
    "string = '''This is my \n",
    "string'''\n",
    "print(string)"
   ]
  },
  {
   "cell_type": "code",
   "execution_count": 9,
   "id": "6fe4fe36",
   "metadata": {},
   "outputs": [
    {
     "ename": "SyntaxError",
     "evalue": "invalid syntax (638546813.py, line 1)",
     "output_type": "error",
     "traceback": [
      "\u001b[0;36m  File \u001b[0;32m\"/tmp/ipykernel_9297/638546813.py\"\u001b[0;36m, line \u001b[0;32m1\u001b[0m\n\u001b[0;31m    string = 'this 'is my' class'\u001b[0m\n\u001b[0m                         ^\u001b[0m\n\u001b[0;31mSyntaxError\u001b[0m\u001b[0;31m:\u001b[0m invalid syntax\n"
     ]
    }
   ],
   "source": [
    "string = 'this 'is my' class'"
   ]
  },
  {
   "cell_type": "code",
   "execution_count": 13,
   "id": "d334c1c8",
   "metadata": {},
   "outputs": [
    {
     "name": "stdout",
     "output_type": "stream",
     "text": [
      "this \"is my\" class\n"
     ]
    }
   ],
   "source": [
    "string = 'this \"is my\" class'\n",
    "print(string)"
   ]
  },
  {
   "cell_type": "code",
   "execution_count": 10,
   "id": "7c1f86d1",
   "metadata": {},
   "outputs": [
    {
     "ename": "SyntaxError",
     "evalue": "invalid syntax (1234868613.py, line 1)",
     "output_type": "error",
     "traceback": [
      "\u001b[0;36m  File \u001b[0;32m\"/tmp/ipykernel_9297/1234868613.py\"\u001b[0;36m, line \u001b[0;32m1\u001b[0m\n\u001b[0;31m    string = \"this \"is my\" class\"\u001b[0m\n\u001b[0m                         ^\u001b[0m\n\u001b[0;31mSyntaxError\u001b[0m\u001b[0;31m:\u001b[0m invalid syntax\n"
     ]
    }
   ],
   "source": [
    "string = \"this \"is my\" class\""
   ]
  },
  {
   "cell_type": "code",
   "execution_count": 14,
   "id": "59371415",
   "metadata": {},
   "outputs": [
    {
     "name": "stdout",
     "output_type": "stream",
     "text": [
      "this 'is my' class\n"
     ]
    }
   ],
   "source": [
    "string = \"this 'is my' class\"\n",
    "print(string)"
   ]
  },
  {
   "cell_type": "code",
   "execution_count": 15,
   "id": "be939933",
   "metadata": {},
   "outputs": [
    {
     "name": "stdout",
     "output_type": "stream",
     "text": [
      "It's my class\n"
     ]
    }
   ],
   "source": [
    "string = \"It's my class\"\n",
    "print(string)"
   ]
  },
  {
   "cell_type": "markdown",
   "id": "26b0f3ab",
   "metadata": {},
   "source": [
    "## empty string / null string"
   ]
  },
  {
   "cell_type": "code",
   "execution_count": 43,
   "id": "09d4c7dc",
   "metadata": {},
   "outputs": [
    {
     "name": "stdout",
     "output_type": "stream",
     "text": [
      "\n"
     ]
    },
    {
     "data": {
      "text/plain": [
       "str"
      ]
     },
     "execution_count": 43,
     "metadata": {},
     "output_type": "execute_result"
    }
   ],
   "source": [
    "string = str()\n",
    "print(string)\n",
    "type(string)"
   ]
  },
  {
   "cell_type": "code",
   "execution_count": null,
   "id": "3262898f",
   "metadata": {},
   "outputs": [],
   "source": [
    "string = ''\n",
    "string = \"\""
   ]
  },
  {
   "cell_type": "code",
   "execution_count": null,
   "id": "bcfd6044",
   "metadata": {},
   "outputs": [],
   "source": [
    "string = ' '"
   ]
  },
  {
   "cell_type": "markdown",
   "id": "bc9cf669",
   "metadata": {},
   "source": [
    "## white spaces"
   ]
  },
  {
   "cell_type": "code",
   "execution_count": null,
   "id": "d31d024b",
   "metadata": {},
   "outputs": [],
   "source": [
    "- new line -> '\\n'\n",
    "- one or more spaces -> ' '\n",
    "- tab -> '\\t'"
   ]
  },
  {
   "cell_type": "markdown",
   "id": "134bd7d7",
   "metadata": {},
   "source": [
    "## Escape characters"
   ]
  },
  {
   "cell_type": "code",
   "execution_count": null,
   "id": "bd661b8e",
   "metadata": {},
   "outputs": [],
   "source": [
    "\\t\n",
    "\\n\n",
    "\\r -> return carriage"
   ]
  },
  {
   "cell_type": "raw",
   "id": "bf38ad9c",
   "metadata": {},
   "source": [
    "It's my class"
   ]
  },
  {
   "cell_type": "code",
   "execution_count": 18,
   "id": "4007f1d5",
   "metadata": {},
   "outputs": [
    {
     "name": "stdout",
     "output_type": "stream",
     "text": [
      "It's my class\n"
     ]
    }
   ],
   "source": [
    "string = 'It\\'s my class'\n",
    "print(string)"
   ]
  },
  {
   "cell_type": "raw",
   "id": "7ca2ea88",
   "metadata": {},
   "source": [
    "Indian supercomputer names begins with \"Param\" like Paramshavak."
   ]
  },
  {
   "cell_type": "code",
   "execution_count": 19,
   "id": "0494cff5",
   "metadata": {},
   "outputs": [
    {
     "name": "stdout",
     "output_type": "stream",
     "text": [
      "Indian supercomputer names begins with \"Param\" like Paramshavak.\n"
     ]
    }
   ],
   "source": [
    "string = \"Indian supercomputer names begins with \\\"Param\\\" like Paramshavak.\"\n",
    "print(string)"
   ]
  },
  {
   "cell_type": "code",
   "execution_count": 21,
   "id": "0413d05d",
   "metadata": {},
   "outputs": [
    {
     "name": "stdout",
     "output_type": "stream",
     "text": [
      "abc\txyz\n"
     ]
    }
   ],
   "source": [
    "string = 'abc\\txyz'\n",
    "print(string)"
   ]
  },
  {
   "cell_type": "code",
   "execution_count": 26,
   "id": "cacd6771",
   "metadata": {},
   "outputs": [
    {
     "name": "stdout",
     "output_type": "stream",
     "text": [
      "abc\n",
      "xyz\n"
     ]
    }
   ],
   "source": [
    "string = 'abc\\nxyz'\n",
    "print(string)"
   ]
  },
  {
   "cell_type": "code",
   "execution_count": 28,
   "id": "fd2d348e",
   "metadata": {},
   "outputs": [
    {
     "name": "stdout",
     "output_type": "stream",
     "text": [
      "1234567\r",
      "bbb\n"
     ]
    }
   ],
   "source": [
    "string = '1234567\\rbbb'\n",
    "print(string)"
   ]
  },
  {
   "cell_type": "markdown",
   "id": "e5d74781",
   "metadata": {},
   "source": [
    "## iterator over string"
   ]
  },
  {
   "cell_type": "code",
   "execution_count": 29,
   "id": "a99fdead",
   "metadata": {},
   "outputs": [
    {
     "name": "stdout",
     "output_type": "stream",
     "text": [
      "1-2-3-4-5-6-7-8-9-0-a-b-c-d-e-f-g-h-"
     ]
    }
   ],
   "source": [
    "string = '1234567890abcdefgh'\n",
    "for i in string:\n",
    "    print(i, end = '-')"
   ]
  },
  {
   "cell_type": "code",
   "execution_count": 31,
   "id": "b2edb837",
   "metadata": {},
   "outputs": [
    {
     "name": "stdout",
     "output_type": "stream",
     "text": [
      "1-2-3-4-5-6-7-8-9-0-a-b-c-d-e-f-g-h-"
     ]
    }
   ],
   "source": [
    "string = '1234567890abcdefgh'\n",
    "for i in range(len(string)):\n",
    "    print(string[i], end = '-')"
   ]
  },
  {
   "cell_type": "markdown",
   "id": "59967aa5",
   "metadata": {},
   "source": [
    "# String formatting"
   ]
  },
  {
   "cell_type": "code",
   "execution_count": null,
   "id": "0f1fbe84",
   "metadata": {},
   "outputs": [],
   "source": [
    "1. .format()\n",
    "2. f''\n",
    "3. format specifier"
   ]
  },
  {
   "cell_type": "markdown",
   "id": "7a82ba40",
   "metadata": {},
   "source": [
    "### format()"
   ]
  },
  {
   "cell_type": "code",
   "execution_count": 46,
   "id": "2c2b21eb",
   "metadata": {},
   "outputs": [
    {
     "name": "stdout",
     "output_type": "stream",
     "text": [
      "Age = 22 Marks = 89\n"
     ]
    }
   ],
   "source": [
    "age = 22\n",
    "marks = 89\n",
    "print('Age =', age, 'Marks =', marks)"
   ]
  },
  {
   "cell_type": "code",
   "execution_count": 47,
   "id": "171bfbfa",
   "metadata": {},
   "outputs": [
    {
     "name": "stdout",
     "output_type": "stream",
     "text": [
      "Age = 22, Marks = 89\n"
     ]
    }
   ],
   "source": [
    "print('Age = {}, Marks = {}'.format(age, marks))"
   ]
  },
  {
   "cell_type": "code",
   "execution_count": 49,
   "id": "8101ba8a",
   "metadata": {},
   "outputs": [
    {
     "name": "stdout",
     "output_type": "stream",
     "text": [
      "Age = 22, Marks = 89, 22, [1, 2, 3, 4]\n"
     ]
    }
   ],
   "source": [
    "print('Age = {}, Marks = {}, {}, {}'.format(age, marks, age, [1,2,3,4]))"
   ]
  },
  {
   "cell_type": "markdown",
   "id": "bd82211e",
   "metadata": {},
   "source": [
    "## f-string"
   ]
  },
  {
   "cell_type": "code",
   "execution_count": 52,
   "id": "3a2b8c6d",
   "metadata": {},
   "outputs": [
    {
     "name": "stdout",
     "output_type": "stream",
     "text": [
      "Age = 22, Marks = 89, 999, CBP\n"
     ]
    }
   ],
   "source": [
    "print(f'Age = {age}, Marks = {marks}, {999}, {\"CBP\"}')"
   ]
  },
  {
   "cell_type": "markdown",
   "id": "5df9cf48",
   "metadata": {},
   "source": [
    "## format specifier"
   ]
  },
  {
   "cell_type": "code",
   "execution_count": null,
   "id": "b837626c",
   "metadata": {},
   "outputs": [],
   "source": [
    "int   - %d\n",
    "float - %f\n",
    "str   - %s"
   ]
  },
  {
   "cell_type": "code",
   "execution_count": 54,
   "id": "9c11c7b3",
   "metadata": {},
   "outputs": [
    {
     "name": "stdout",
     "output_type": "stream",
     "text": [
      "Age = 22, marks = 89\n"
     ]
    }
   ],
   "source": [
    "print('Age = %d, marks = %d'%(age, marks))"
   ]
  },
  {
   "cell_type": "code",
   "execution_count": 55,
   "id": "2a02cb24",
   "metadata": {},
   "outputs": [
    {
     "name": "stdout",
     "output_type": "stream",
     "text": [
      "Name = ABC, percentage = 89.890000\n"
     ]
    }
   ],
   "source": [
    "name = 'ABC'\n",
    "percentage = 89.89\n",
    "print('Name = %s, percentage = %f'%(name, percentage))"
   ]
  },
  {
   "cell_type": "markdown",
   "id": "9fbf1639",
   "metadata": {},
   "source": [
    "# Raw string"
   ]
  },
  {
   "cell_type": "code",
   "execution_count": 56,
   "id": "8bbb4eb6",
   "metadata": {},
   "outputs": [
    {
     "name": "stdout",
     "output_type": "stream",
     "text": [
      "hello\n",
      "world\n"
     ]
    }
   ],
   "source": [
    "abc = 'hello\\nworld'\n",
    "print(abc)"
   ]
  },
  {
   "cell_type": "code",
   "execution_count": 57,
   "id": "7da587d0",
   "metadata": {},
   "outputs": [
    {
     "name": "stdout",
     "output_type": "stream",
     "text": [
      "hello\\nworld\n"
     ]
    }
   ],
   "source": [
    "abc = r'hello\\nworld'\n",
    "print(abc)"
   ]
  },
  {
   "cell_type": "code",
   "execution_count": 58,
   "id": "03ac36fe",
   "metadata": {},
   "outputs": [
    {
     "name": "stdout",
     "output_type": "stream",
     "text": [
      "hello\tworld\n"
     ]
    }
   ],
   "source": [
    "string = 'hello\\tworld'\n",
    "print(string)"
   ]
  },
  {
   "cell_type": "code",
   "execution_count": 59,
   "id": "fba55a00",
   "metadata": {},
   "outputs": [
    {
     "name": "stdout",
     "output_type": "stream",
     "text": [
      "hello\\tworld\n"
     ]
    }
   ],
   "source": [
    "string = r'hello\\tworld'\n",
    "print(string)"
   ]
  },
  {
   "cell_type": "markdown",
   "id": "5f225ac0",
   "metadata": {},
   "source": [
    "## Type casting"
   ]
  },
  {
   "cell_type": "code",
   "execution_count": 60,
   "id": "37778236",
   "metadata": {},
   "outputs": [
    {
     "data": {
      "text/plain": [
       "1"
      ]
     },
     "execution_count": 60,
     "metadata": {},
     "output_type": "execute_result"
    }
   ],
   "source": [
    "st = '1'\n",
    "int(1)"
   ]
  },
  {
   "cell_type": "code",
   "execution_count": 61,
   "id": "96db9ace",
   "metadata": {},
   "outputs": [
    {
     "data": {
      "text/plain": [
       "1234"
      ]
     },
     "execution_count": 61,
     "metadata": {},
     "output_type": "execute_result"
    }
   ],
   "source": [
    "st = '1234'\n",
    "int(st)"
   ]
  },
  {
   "cell_type": "code",
   "execution_count": 62,
   "id": "cb3d7086",
   "metadata": {},
   "outputs": [
    {
     "data": {
      "text/plain": [
       "7.89123"
      ]
     },
     "execution_count": 62,
     "metadata": {},
     "output_type": "execute_result"
    }
   ],
   "source": [
    "st = '7.89123'\n",
    "float(st)"
   ]
  },
  {
   "cell_type": "code",
   "execution_count": 63,
   "id": "d7abdbfb",
   "metadata": {},
   "outputs": [
    {
     "ename": "ValueError",
     "evalue": "invalid literal for int() with base 10: '7.89123'",
     "output_type": "error",
     "traceback": [
      "\u001b[0;31m---------------------------------------------------------------------------\u001b[0m",
      "\u001b[0;31mValueError\u001b[0m                                Traceback (most recent call last)",
      "\u001b[0;32m/tmp/ipykernel_9297/3319648939.py\u001b[0m in \u001b[0;36m<module>\u001b[0;34m\u001b[0m\n\u001b[1;32m      1\u001b[0m \u001b[0mst\u001b[0m \u001b[0;34m=\u001b[0m \u001b[0;34m'7.89123'\u001b[0m\u001b[0;34m\u001b[0m\u001b[0;34m\u001b[0m\u001b[0m\n\u001b[0;32m----> 2\u001b[0;31m \u001b[0mint\u001b[0m\u001b[0;34m(\u001b[0m\u001b[0mst\u001b[0m\u001b[0;34m)\u001b[0m\u001b[0;34m\u001b[0m\u001b[0;34m\u001b[0m\u001b[0m\n\u001b[0m",
      "\u001b[0;31mValueError\u001b[0m: invalid literal for int() with base 10: '7.89123'"
     ]
    }
   ],
   "source": [
    "st = '7.89123'\n",
    "int(st)"
   ]
  },
  {
   "cell_type": "code",
   "execution_count": 64,
   "id": "27f823e3",
   "metadata": {},
   "outputs": [
    {
     "data": {
      "text/plain": [
       "7"
      ]
     },
     "execution_count": 64,
     "metadata": {},
     "output_type": "execute_result"
    }
   ],
   "source": [
    "st = '7.89123'\n",
    "int(float(st))"
   ]
  },
  {
   "cell_type": "code",
   "execution_count": 65,
   "id": "d5ab6a02",
   "metadata": {},
   "outputs": [
    {
     "data": {
      "text/plain": [
       "'123'"
      ]
     },
     "execution_count": 65,
     "metadata": {},
     "output_type": "execute_result"
    }
   ],
   "source": [
    "num = 123\n",
    "str(num)"
   ]
  },
  {
   "cell_type": "code",
   "execution_count": 66,
   "id": "2455b56d",
   "metadata": {},
   "outputs": [
    {
     "data": {
      "text/plain": [
       "'3.145'"
      ]
     },
     "execution_count": 66,
     "metadata": {},
     "output_type": "execute_result"
    }
   ],
   "source": [
    "num = 3.145\n",
    "str(num)"
   ]
  },
  {
   "cell_type": "markdown",
   "id": "ba6ef1d3",
   "metadata": {},
   "source": [
    "## concatenation"
   ]
  },
  {
   "cell_type": "code",
   "execution_count": 68,
   "id": "081b09c3",
   "metadata": {},
   "outputs": [
    {
     "data": {
      "text/plain": [
       "'ABC123'"
      ]
     },
     "execution_count": 68,
     "metadata": {},
     "output_type": "execute_result"
    }
   ],
   "source": [
    "str1 = 'ABC'\n",
    "str2 = '123'\n",
    "str3 = str1 + str2\n",
    "str3"
   ]
  },
  {
   "cell_type": "code",
   "execution_count": 69,
   "id": "f07c1cfa",
   "metadata": {},
   "outputs": [
    {
     "data": {
      "text/plain": [
       "'123ABC'"
      ]
     },
     "execution_count": 69,
     "metadata": {},
     "output_type": "execute_result"
    }
   ],
   "source": [
    "str1 = 'ABC'\n",
    "str2 = '123'\n",
    "str3 = str2 + str1\n",
    "str3"
   ]
  },
  {
   "cell_type": "code",
   "execution_count": 90,
   "id": "72d5ac19",
   "metadata": {},
   "outputs": [
    {
     "name": "stdout",
     "output_type": "stream",
     "text": [
      "140581504274672\n",
      "140581015589360\n"
     ]
    },
    {
     "data": {
      "text/plain": [
       "'ABC123'"
      ]
     },
     "execution_count": 90,
     "metadata": {},
     "output_type": "execute_result"
    }
   ],
   "source": [
    "str1 = 'ABC'\n",
    "str2 = '123'\n",
    "print(id(str1))\n",
    "str1 = str1 + str2\n",
    "print(id(str1))\n",
    "str1"
   ]
  },
  {
   "cell_type": "code",
   "execution_count": 91,
   "id": "2f233346",
   "metadata": {},
   "outputs": [
    {
     "data": {
      "text/plain": [
       "'strstrstrstr'"
      ]
     },
     "execution_count": 91,
     "metadata": {},
     "output_type": "execute_result"
    }
   ],
   "source": [
    "string = 'str' * 4\n",
    "string"
   ]
  },
  {
   "cell_type": "code",
   "execution_count": 92,
   "id": "01effef6",
   "metadata": {},
   "outputs": [
    {
     "data": {
      "text/plain": [
       "'****'"
      ]
     },
     "execution_count": 92,
     "metadata": {},
     "output_type": "execute_result"
    }
   ],
   "source": [
    "string = '*' * 4\n",
    "string"
   ]
  },
  {
   "cell_type": "code",
   "execution_count": 93,
   "id": "85f846bd",
   "metadata": {},
   "outputs": [
    {
     "name": "stdout",
     "output_type": "stream",
     "text": [
      "\n",
      "*\n",
      "**\n",
      "***\n",
      "****\n",
      "*****\n",
      "******\n"
     ]
    }
   ],
   "source": [
    "for i in range(7):\n",
    "    for j in range(i):\n",
    "        print('*', end = '')\n",
    "    print()"
   ]
  },
  {
   "cell_type": "code",
   "execution_count": 96,
   "id": "ab4cc395",
   "metadata": {},
   "outputs": [
    {
     "name": "stdout",
     "output_type": "stream",
     "text": [
      "\n",
      "*\n",
      "**\n",
      "***\n",
      "****\n",
      "*****\n",
      "******\n"
     ]
    }
   ],
   "source": [
    "for i in range(7):\n",
    "    print('*'*i, end = '')\n",
    "    print()"
   ]
  },
  {
   "cell_type": "code",
   "execution_count": 97,
   "id": "eaa05314",
   "metadata": {},
   "outputs": [
    {
     "data": {
      "text/plain": [
       "[1, 3]"
      ]
     },
     "execution_count": 97,
     "metadata": {},
     "output_type": "execute_result"
    }
   ],
   "source": [
    "a = [1,2,3]\n",
    "del a[1]\n",
    "a"
   ]
  },
  {
   "cell_type": "code",
   "execution_count": 98,
   "id": "b5d438c6",
   "metadata": {},
   "outputs": [
    {
     "ename": "TypeError",
     "evalue": "'str' object doesn't support item deletion",
     "output_type": "error",
     "traceback": [
      "\u001b[0;31m---------------------------------------------------------------------------\u001b[0m",
      "\u001b[0;31mTypeError\u001b[0m                                 Traceback (most recent call last)",
      "\u001b[0;32m/tmp/ipykernel_9297/3173230070.py\u001b[0m in \u001b[0;36m<module>\u001b[0;34m\u001b[0m\n\u001b[1;32m      1\u001b[0m \u001b[0ma\u001b[0m \u001b[0;34m=\u001b[0m \u001b[0;34m'abcdefg'\u001b[0m\u001b[0;34m\u001b[0m\u001b[0;34m\u001b[0m\u001b[0m\n\u001b[0;32m----> 2\u001b[0;31m \u001b[0;32mdel\u001b[0m \u001b[0ma\u001b[0m\u001b[0;34m[\u001b[0m\u001b[0;36m1\u001b[0m\u001b[0;34m]\u001b[0m\u001b[0;34m\u001b[0m\u001b[0;34m\u001b[0m\u001b[0m\n\u001b[0m\u001b[1;32m      3\u001b[0m \u001b[0ma\u001b[0m\u001b[0;34m\u001b[0m\u001b[0;34m\u001b[0m\u001b[0m\n",
      "\u001b[0;31mTypeError\u001b[0m: 'str' object doesn't support item deletion"
     ]
    }
   ],
   "source": [
    "a = 'abcdefg'\n",
    "del a[1]\n",
    "a"
   ]
  },
  {
   "cell_type": "markdown",
   "id": "cda997c2",
   "metadata": {},
   "source": [
    "## enumerate()"
   ]
  },
  {
   "cell_type": "code",
   "execution_count": 100,
   "id": "39959314",
   "metadata": {},
   "outputs": [
    {
     "name": "stdout",
     "output_type": "stream",
     "text": [
      "Character a is present as index 0\n",
      "Character b is present as index 1\n",
      "Character c is present as index 2\n",
      "Character d is present as index 3\n",
      "Character e is present as index 4\n",
      "Character f is present as index 5\n",
      "Character g is present as index 6\n",
      "Character h is present as index 7\n"
     ]
    }
   ],
   "source": [
    "string = 'abcdefgh'\n",
    "for i, v in enumerate(string):\n",
    "    print(f'Character {v} is present as index {i}')"
   ]
  },
  {
   "cell_type": "markdown",
   "id": "646439a6",
   "metadata": {},
   "source": [
    "## Indexing"
   ]
  },
  {
   "cell_type": "markdown",
   "id": "59df3743",
   "metadata": {},
   "source": [
    "### positive"
   ]
  },
  {
   "cell_type": "code",
   "execution_count": 101,
   "id": "ce333a7a",
   "metadata": {},
   "outputs": [
    {
     "name": "stdout",
     "output_type": "stream",
     "text": [
      "0 1 2 3 4 5 6 7 8 9 "
     ]
    }
   ],
   "source": [
    "string = '0123456789'\n",
    "for i in range(len(string)):\n",
    "    print(string[i], end = ' ')"
   ]
  },
  {
   "cell_type": "markdown",
   "id": "3374a83f",
   "metadata": {},
   "source": [
    "### negative"
   ]
  },
  {
   "cell_type": "code",
   "execution_count": 106,
   "id": "b352217a",
   "metadata": {},
   "outputs": [
    {
     "name": "stdout",
     "output_type": "stream",
     "text": [
      "9 8 7 6 5 4 3 2 1 0 "
     ]
    }
   ],
   "source": [
    "string = '0123456789'\n",
    "for i in range(-1, -len(string)-1, -1):\n",
    "    print(string[i], end = ' ')"
   ]
  },
  {
   "cell_type": "code",
   "execution_count": 112,
   "id": "132efa86",
   "metadata": {},
   "outputs": [
    {
     "name": "stdout",
     "output_type": "stream",
     "text": [
      "9 8 7 6 5 4 3 2 1 0 "
     ]
    }
   ],
   "source": [
    "string = '0123456789'\n",
    "for i in range(-1, -len(string)-1, -1):\n",
    "    print(string[i], end = ' ')"
   ]
  },
  {
   "cell_type": "code",
   "execution_count": 110,
   "id": "15d08bdc",
   "metadata": {},
   "outputs": [
    {
     "data": {
      "text/plain": [
       "'0'"
      ]
     },
     "execution_count": 110,
     "metadata": {},
     "output_type": "execute_result"
    }
   ],
   "source": [
    "string[-10]"
   ]
  },
  {
   "cell_type": "markdown",
   "id": "9934ebb3",
   "metadata": {},
   "source": [
    "## Slicing"
   ]
  },
  {
   "cell_type": "code",
   "execution_count": null,
   "id": "b99055ac",
   "metadata": {},
   "outputs": [],
   "source": [
    "string[ start_index : end_index : step_size]\n",
    "start_index-> default = 0\n",
    "end_index-> default = length of object\n",
    "step_size-> default = 1"
   ]
  },
  {
   "cell_type": "code",
   "execution_count": 113,
   "id": "d73b4f8b",
   "metadata": {},
   "outputs": [
    {
     "data": {
      "text/plain": [
       "'34567'"
      ]
     },
     "execution_count": 113,
     "metadata": {},
     "output_type": "execute_result"
    }
   ],
   "source": [
    "string = '0123456789'\n",
    "string[3:8:]"
   ]
  },
  {
   "cell_type": "code",
   "execution_count": 114,
   "id": "f060f8f0",
   "metadata": {},
   "outputs": [
    {
     "data": {
      "text/plain": [
       "64"
      ]
     },
     "execution_count": 114,
     "metadata": {},
     "output_type": "execute_result"
    }
   ],
   "source": [
    "string = \"Indian supercomputer names begins with \\\"Param\\\" like Paramshavak.\"\n",
    "len(string)"
   ]
  },
  {
   "cell_type": "code",
   "execution_count": 115,
   "id": "3c56cd03",
   "metadata": {},
   "outputs": [
    {
     "data": {
      "text/plain": [
       "'aucu eestPmi'"
      ]
     },
     "execution_count": 115,
     "metadata": {},
     "output_type": "execute_result"
    }
   ],
   "source": [
    "string[4:50:4]"
   ]
  },
  {
   "cell_type": "code",
   "execution_count": 116,
   "id": "4a337368",
   "metadata": {},
   "outputs": [
    {
     "data": {
      "text/plain": [
       "'.kavahsmaraP ekil \"maraP\" htiw snigeb seman retupmocrepus naidnI'"
      ]
     },
     "execution_count": 116,
     "metadata": {},
     "output_type": "execute_result"
    }
   ],
   "source": [
    "string[::-1]"
   ]
  },
  {
   "cell_type": "code",
   "execution_count": null,
   "id": "9067ef14",
   "metadata": {},
   "outputs": [],
   "source": [
    "string[45:13:-3]"
   ]
  },
  {
   "cell_type": "code",
   "execution_count": null,
   "id": "04983991",
   "metadata": {},
   "outputs": [],
   "source": []
  },
  {
   "cell_type": "code",
   "execution_count": null,
   "id": "74436da7",
   "metadata": {},
   "outputs": [],
   "source": []
  },
  {
   "cell_type": "code",
   "execution_count": null,
   "id": "c1d5171f",
   "metadata": {},
   "outputs": [],
   "source": []
  },
  {
   "cell_type": "markdown",
   "id": "0e39ede9",
   "metadata": {},
   "source": [
    "# string functions"
   ]
  },
  {
   "cell_type": "code",
   "execution_count": 33,
   "id": "3f267c38",
   "metadata": {},
   "outputs": [
    {
     "name": "stdout",
     "output_type": "stream",
     "text": [
      "Guwahati is the largest city of the Indian state of Assam and also the largest metropolis in northeastern India.\n"
     ]
    }
   ],
   "source": [
    "string = 'Guwahati is the largest city of the Indian state of \\\n",
    "Assam and also the largest metropolis in northeastern India.'\n",
    "print(string)"
   ]
  },
  {
   "cell_type": "markdown",
   "id": "1a22303a",
   "metadata": {},
   "source": [
    "## 1. capitalize()\n",
    "- capitalize first chharacter of whole string\n",
    "- rest of the characters converted to lower case if they are in upper case"
   ]
  },
  {
   "cell_type": "code",
   "execution_count": 34,
   "id": "59dec5e7",
   "metadata": {},
   "outputs": [
    {
     "data": {
      "text/plain": [
       "'Guwahati is the largest city of the indian state of assam and also the largest metropolis in northeastern india.'"
      ]
     },
     "execution_count": 34,
     "metadata": {},
     "output_type": "execute_result"
    }
   ],
   "source": [
    "string.capitalize()"
   ]
  },
  {
   "cell_type": "markdown",
   "id": "b0729b6d",
   "metadata": {},
   "source": [
    "## 2. title()\n",
    "- changes first character to capital for each word in string separated by space\n",
    "- rest of the characters converted to lower case if they are in upper case"
   ]
  },
  {
   "cell_type": "code",
   "execution_count": 35,
   "id": "89da4274",
   "metadata": {},
   "outputs": [
    {
     "data": {
      "text/plain": [
       "'Guwahati Is The Largest City Of The Indian State Of Assam And Also The Largest Metropolis In Northeastern India.'"
      ]
     },
     "execution_count": 35,
     "metadata": {},
     "output_type": "execute_result"
    }
   ],
   "source": [
    "string.title()"
   ]
  },
  {
   "cell_type": "code",
   "execution_count": 36,
   "id": "79c15989",
   "metadata": {},
   "outputs": [
    {
     "data": {
      "text/plain": [
       "'Abcc Asbh'"
      ]
     },
     "execution_count": 36,
     "metadata": {},
     "output_type": "execute_result"
    }
   ],
   "source": [
    "'ABcc asbh'.title()"
   ]
  },
  {
   "cell_type": "markdown",
   "id": "a0fb8bb2",
   "metadata": {},
   "source": [
    "## 3. upper()"
   ]
  },
  {
   "cell_type": "code",
   "execution_count": 37,
   "id": "75c86017",
   "metadata": {},
   "outputs": [
    {
     "data": {
      "text/plain": [
       "'GUWAHATI IS THE LARGEST CITY OF THE INDIAN STATE OF ASSAM AND ALSO THE LARGEST METROPOLIS IN NORTHEASTERN INDIA.'"
      ]
     },
     "execution_count": 37,
     "metadata": {},
     "output_type": "execute_result"
    }
   ],
   "source": [
    "string.upper()"
   ]
  },
  {
   "cell_type": "code",
   "execution_count": 39,
   "id": "f7937406",
   "metadata": {},
   "outputs": [
    {
     "data": {
      "text/plain": [
       "'ABCDEFGHIJKL'"
      ]
     },
     "execution_count": 39,
     "metadata": {},
     "output_type": "execute_result"
    }
   ],
   "source": [
    "abc = 'AbCdEfGhIjKl'\n",
    "abc.upper()"
   ]
  },
  {
   "cell_type": "markdown",
   "id": "217b5db9",
   "metadata": {},
   "source": [
    "## 4. lower()"
   ]
  },
  {
   "cell_type": "code",
   "execution_count": 38,
   "id": "d86d97ff",
   "metadata": {},
   "outputs": [
    {
     "data": {
      "text/plain": [
       "'guwahati is the largest city of the indian state of assam and also the largest metropolis in northeastern india.'"
      ]
     },
     "execution_count": 38,
     "metadata": {},
     "output_type": "execute_result"
    }
   ],
   "source": [
    "string.lower()"
   ]
  },
  {
   "cell_type": "code",
   "execution_count": 40,
   "id": "55d1d359",
   "metadata": {},
   "outputs": [
    {
     "data": {
      "text/plain": [
       "'abcdefghijkl'"
      ]
     },
     "execution_count": 40,
     "metadata": {},
     "output_type": "execute_result"
    }
   ],
   "source": [
    "abc = 'AbCdEfGhIjKl'\n",
    "abc.lower()"
   ]
  },
  {
   "cell_type": "code",
   "execution_count": null,
   "id": "84c0a730",
   "metadata": {},
   "outputs": [],
   "source": [
    "string."
   ]
  },
  {
   "cell_type": "code",
   "execution_count": null,
   "id": "ded92ac4",
   "metadata": {},
   "outputs": [],
   "source": [
    "## strip"
   ]
  },
  {
   "cell_type": "code",
   "execution_count": null,
   "id": "3f0dc9fa",
   "metadata": {},
   "outputs": [],
   "source": [
    "## strip"
   ]
  },
  {
   "cell_type": "code",
   "execution_count": null,
   "id": "1d29cc2f",
   "metadata": {},
   "outputs": [],
   "source": [
    "## strip"
   ]
  },
  {
   "cell_type": "code",
   "execution_count": null,
   "id": "3f26a1ad",
   "metadata": {},
   "outputs": [],
   "source": []
  },
  {
   "cell_type": "code",
   "execution_count": null,
   "id": "5aa8947a",
   "metadata": {},
   "outputs": [],
   "source": []
  },
  {
   "cell_type": "code",
   "execution_count": null,
   "id": "e8eb0f45",
   "metadata": {},
   "outputs": [],
   "source": []
  },
  {
   "cell_type": "code",
   "execution_count": null,
   "id": "db49d14e",
   "metadata": {},
   "outputs": [],
   "source": []
  }
 ],
 "metadata": {
  "kernelspec": {
   "display_name": "Python 3 (ipykernel)",
   "language": "python",
   "name": "python3"
  },
  "language_info": {
   "codemirror_mode": {
    "name": "ipython",
    "version": 3
   },
   "file_extension": ".py",
   "mimetype": "text/x-python",
   "name": "python",
   "nbconvert_exporter": "python",
   "pygments_lexer": "ipython3",
   "version": "3.10.12"
  }
 },
 "nbformat": 4,
 "nbformat_minor": 5
}
