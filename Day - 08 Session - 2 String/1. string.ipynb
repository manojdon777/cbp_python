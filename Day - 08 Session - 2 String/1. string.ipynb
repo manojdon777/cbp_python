{
 "cells": [
  {
   "cell_type": "markdown",
   "id": "f4676d86",
   "metadata": {},
   "source": [
    "# Definition"
   ]
  },
  {
   "cell_type": "code",
   "execution_count": null,
   "id": "982048bb",
   "metadata": {},
   "outputs": [],
   "source": [
    "- collection of characters enclosed with single quotes or double quotes or triple single quotes\n",
    "- immutable\n",
    "- ordered\n",
    "- can contain duplicates\n",
    "- no single quote/quotes within single quotes\n",
    "- no double quote/quotes within double quotes"
   ]
  },
  {
   "cell_type": "code",
   "execution_count": 2,
   "id": "52198c41",
   "metadata": {},
   "outputs": [
    {
     "data": {
      "text/plain": [
       "'This is my string'"
      ]
     },
     "execution_count": 2,
     "metadata": {},
     "output_type": "execute_result"
    }
   ],
   "source": [
    "string = 'This is my string'\n",
    "string"
   ]
  },
  {
   "cell_type": "code",
   "execution_count": 3,
   "id": "0d9ec425",
   "metadata": {},
   "outputs": [
    {
     "data": {
      "text/plain": [
       "'This is my string'"
      ]
     },
     "execution_count": 3,
     "metadata": {},
     "output_type": "execute_result"
    }
   ],
   "source": [
    "string = \"This is my string\"\n",
    "string"
   ]
  },
  {
   "cell_type": "code",
   "execution_count": 4,
   "id": "78c051f1",
   "metadata": {},
   "outputs": [
    {
     "data": {
      "text/plain": [
       "'This is my string'"
      ]
     },
     "execution_count": 4,
     "metadata": {},
     "output_type": "execute_result"
    }
   ],
   "source": [
    "string = '''This is my string'''\n",
    "string"
   ]
  },
  {
   "cell_type": "code",
   "execution_count": 5,
   "id": "a248a97e",
   "metadata": {},
   "outputs": [
    {
     "ename": "SyntaxError",
     "evalue": "unterminated string literal (detected at line 1) (1976266085.py, line 1)",
     "output_type": "error",
     "traceback": [
      "\u001b[0;36m  File \u001b[0;32m\"/tmp/ipykernel_9297/1976266085.py\"\u001b[0;36m, line \u001b[0;32m1\u001b[0m\n\u001b[0;31m    string = 'This is my\u001b[0m\n\u001b[0m             ^\u001b[0m\n\u001b[0;31mSyntaxError\u001b[0m\u001b[0;31m:\u001b[0m unterminated string literal (detected at line 1)\n"
     ]
    }
   ],
   "source": [
    "string = 'This is my \n",
    "           string'\n",
    "string"
   ]
  },
  {
   "cell_type": "code",
   "execution_count": 25,
   "id": "fa6c8d27",
   "metadata": {},
   "outputs": [
    {
     "name": "stdout",
     "output_type": "stream",
     "text": [
      "This is my \n",
      "string\n"
     ]
    }
   ],
   "source": [
    "string = '''This is my \n",
    "string'''\n",
    "print(string)"
   ]
  },
  {
   "cell_type": "code",
   "execution_count": 9,
   "id": "4664a8cb",
   "metadata": {},
   "outputs": [
    {
     "ename": "SyntaxError",
     "evalue": "invalid syntax (638546813.py, line 1)",
     "output_type": "error",
     "traceback": [
      "\u001b[0;36m  File \u001b[0;32m\"/tmp/ipykernel_9297/638546813.py\"\u001b[0;36m, line \u001b[0;32m1\u001b[0m\n\u001b[0;31m    string = 'this 'is my' class'\u001b[0m\n\u001b[0m                         ^\u001b[0m\n\u001b[0;31mSyntaxError\u001b[0m\u001b[0;31m:\u001b[0m invalid syntax\n"
     ]
    }
   ],
   "source": [
    "string = 'this 'is my' class'"
   ]
  },
  {
   "cell_type": "code",
   "execution_count": 13,
   "id": "273962e7",
   "metadata": {},
   "outputs": [
    {
     "name": "stdout",
     "output_type": "stream",
     "text": [
      "this \"is my\" class\n"
     ]
    }
   ],
   "source": [
    "string = 'this \"is my\" class'\n",
    "print(string)"
   ]
  },
  {
   "cell_type": "code",
   "execution_count": 10,
   "id": "0604622d",
   "metadata": {},
   "outputs": [
    {
     "ename": "SyntaxError",
     "evalue": "invalid syntax (1234868613.py, line 1)",
     "output_type": "error",
     "traceback": [
      "\u001b[0;36m  File \u001b[0;32m\"/tmp/ipykernel_9297/1234868613.py\"\u001b[0;36m, line \u001b[0;32m1\u001b[0m\n\u001b[0;31m    string = \"this \"is my\" class\"\u001b[0m\n\u001b[0m                         ^\u001b[0m\n\u001b[0;31mSyntaxError\u001b[0m\u001b[0;31m:\u001b[0m invalid syntax\n"
     ]
    }
   ],
   "source": [
    "string = \"this \"is my\" class\""
   ]
  },
  {
   "cell_type": "code",
   "execution_count": 14,
   "id": "de054979",
   "metadata": {},
   "outputs": [
    {
     "name": "stdout",
     "output_type": "stream",
     "text": [
      "this 'is my' class\n"
     ]
    }
   ],
   "source": [
    "string = \"this 'is my' class\"\n",
    "print(string)"
   ]
  },
  {
   "cell_type": "code",
   "execution_count": 15,
   "id": "388161c2",
   "metadata": {},
   "outputs": [
    {
     "name": "stdout",
     "output_type": "stream",
     "text": [
      "It's my class\n"
     ]
    }
   ],
   "source": [
    "string = \"It's my class\"\n",
    "print(string)"
   ]
  },
  {
   "cell_type": "markdown",
   "id": "358f35cb",
   "metadata": {},
   "source": [
    "## empty string / null string"
   ]
  },
  {
   "cell_type": "code",
   "execution_count": 43,
   "id": "7714b40e",
   "metadata": {},
   "outputs": [
    {
     "name": "stdout",
     "output_type": "stream",
     "text": [
      "\n"
     ]
    },
    {
     "data": {
      "text/plain": [
       "str"
      ]
     },
     "execution_count": 43,
     "metadata": {},
     "output_type": "execute_result"
    }
   ],
   "source": [
    "string = str()\n",
    "print(string)\n",
    "type(string)"
   ]
  },
  {
   "cell_type": "code",
   "execution_count": null,
   "id": "8c6c5be4",
   "metadata": {},
   "outputs": [],
   "source": [
    "string = ''\n",
    "string = \"\""
   ]
  },
  {
   "cell_type": "code",
   "execution_count": null,
   "id": "4a920d63",
   "metadata": {},
   "outputs": [],
   "source": [
    "string = ' '"
   ]
  },
  {
   "cell_type": "markdown",
   "id": "9b558df9",
   "metadata": {},
   "source": [
    "## white spaces"
   ]
  },
  {
   "cell_type": "code",
   "execution_count": null,
   "id": "6d4d7531",
   "metadata": {},
   "outputs": [],
   "source": [
    "- new line -> '\\n'\n",
    "- one or more spaces -> ' '\n",
    "- tab -> '\\t'"
   ]
  },
  {
   "cell_type": "markdown",
   "id": "55a839f1",
   "metadata": {},
   "source": [
    "## Escape characters"
   ]
  },
  {
   "cell_type": "code",
   "execution_count": null,
   "id": "7292338f",
   "metadata": {},
   "outputs": [],
   "source": [
    "\\t\n",
    "\\n\n",
    "\\r -> return carriage"
   ]
  },
  {
   "cell_type": "raw",
   "id": "63eca875",
   "metadata": {},
   "source": [
    "It's my class"
   ]
  },
  {
   "cell_type": "code",
   "execution_count": 18,
   "id": "f87de72c",
   "metadata": {},
   "outputs": [
    {
     "name": "stdout",
     "output_type": "stream",
     "text": [
      "It's my class\n"
     ]
    }
   ],
   "source": [
    "string = 'It\\'s my class'\n",
    "print(string)"
   ]
  },
  {
   "cell_type": "raw",
   "id": "fe24533d",
   "metadata": {},
   "source": [
    "Indian supercomputer names begins with \"Param\" like Paramshavak."
   ]
  },
  {
   "cell_type": "code",
   "execution_count": 19,
   "id": "b0d1294a",
   "metadata": {},
   "outputs": [
    {
     "name": "stdout",
     "output_type": "stream",
     "text": [
      "Indian supercomputer names begins with \"Param\" like Paramshavak.\n"
     ]
    }
   ],
   "source": [
    "string = \"Indian supercomputer names begins with \\\"Param\\\" like Paramshavak.\"\n",
    "print(string)"
   ]
  },
  {
   "cell_type": "code",
   "execution_count": 21,
   "id": "5aaf958d",
   "metadata": {},
   "outputs": [
    {
     "name": "stdout",
     "output_type": "stream",
     "text": [
      "abc\txyz\n"
     ]
    }
   ],
   "source": [
    "string = 'abc\\txyz'\n",
    "print(string)"
   ]
  },
  {
   "cell_type": "code",
   "execution_count": 26,
   "id": "1efe4c3a",
   "metadata": {},
   "outputs": [
    {
     "name": "stdout",
     "output_type": "stream",
     "text": [
      "abc\n",
      "xyz\n"
     ]
    }
   ],
   "source": [
    "string = 'abc\\nxyz'\n",
    "print(string)"
   ]
  },
  {
   "cell_type": "code",
   "execution_count": 28,
   "id": "9e9b34b5",
   "metadata": {},
   "outputs": [
    {
     "name": "stdout",
     "output_type": "stream",
     "text": [
      "1234567\r",
      "bbb\n"
     ]
    }
   ],
   "source": [
    "string = '1234567\\rbbb'\n",
    "print(string)"
   ]
  },
  {
   "cell_type": "markdown",
   "id": "951d3f6f",
   "metadata": {},
   "source": [
    "## iterator over string"
   ]
  },
  {
   "cell_type": "code",
   "execution_count": 29,
   "id": "ef08aa7a",
   "metadata": {},
   "outputs": [
    {
     "name": "stdout",
     "output_type": "stream",
     "text": [
      "1-2-3-4-5-6-7-8-9-0-a-b-c-d-e-f-g-h-"
     ]
    }
   ],
   "source": [
    "string = '1234567890abcdefgh'\n",
    "for i in string:\n",
    "    print(i, end = '-')"
   ]
  },
  {
   "cell_type": "code",
   "execution_count": 31,
   "id": "da450b05",
   "metadata": {},
   "outputs": [
    {
     "name": "stdout",
     "output_type": "stream",
     "text": [
      "1-2-3-4-5-6-7-8-9-0-a-b-c-d-e-f-g-h-"
     ]
    }
   ],
   "source": [
    "string = '1234567890abcdefgh'\n",
    "for i in range(len(string)):\n",
    "    print(string[i], end = '-')"
   ]
  },
  {
   "cell_type": "markdown",
   "id": "e79e6712",
   "metadata": {},
   "source": [
    "# String formatting"
   ]
  },
  {
   "cell_type": "code",
   "execution_count": null,
   "id": "c794f5d4",
   "metadata": {},
   "outputs": [],
   "source": [
    "1. .format()\n",
    "2. f''\n",
    "3. format specifier"
   ]
  },
  {
   "cell_type": "markdown",
   "id": "d745274c",
   "metadata": {},
   "source": [
    "### format()"
   ]
  },
  {
   "cell_type": "code",
   "execution_count": 46,
   "id": "cc6c1f0b",
   "metadata": {},
   "outputs": [
    {
     "name": "stdout",
     "output_type": "stream",
     "text": [
      "Age = 22 Marks = 89\n"
     ]
    }
   ],
   "source": [
    "age = 22\n",
    "marks = 89\n",
    "print('Age =', age, 'Marks =', marks)"
   ]
  },
  {
   "cell_type": "code",
   "execution_count": 47,
   "id": "61f9b908",
   "metadata": {},
   "outputs": [
    {
     "name": "stdout",
     "output_type": "stream",
     "text": [
      "Age = 22, Marks = 89\n"
     ]
    }
   ],
   "source": [
    "print('Age = {}, Marks = {}'.format(age, marks))"
   ]
  },
  {
   "cell_type": "code",
   "execution_count": 49,
   "id": "e5afa34d",
   "metadata": {},
   "outputs": [
    {
     "name": "stdout",
     "output_type": "stream",
     "text": [
      "Age = 22, Marks = 89, 22, [1, 2, 3, 4]\n"
     ]
    }
   ],
   "source": [
    "print('Age = {}, Marks = {}, {}, {}'.format(age, marks, age, [1,2,3,4]))"
   ]
  },
  {
   "cell_type": "markdown",
   "id": "3f8a8747",
   "metadata": {},
   "source": [
    "## f-string"
   ]
  },
  {
   "cell_type": "code",
   "execution_count": 52,
   "id": "9e0fd467",
   "metadata": {},
   "outputs": [
    {
     "name": "stdout",
     "output_type": "stream",
     "text": [
      "Age = 22, Marks = 89, 999, CBP\n"
     ]
    }
   ],
   "source": [
    "print(f'Age = {age}, Marks = {marks}, {999}, {\"CBP\"}')"
   ]
  },
  {
   "cell_type": "markdown",
   "id": "2e425fe1",
   "metadata": {},
   "source": [
    "## format specifier"
   ]
  },
  {
   "cell_type": "code",
   "execution_count": null,
   "id": "4b23fc82",
   "metadata": {},
   "outputs": [],
   "source": [
    "int   - %d\n",
    "float - %f\n",
    "str   - %s"
   ]
  },
  {
   "cell_type": "code",
   "execution_count": 54,
   "id": "5fabec06",
   "metadata": {},
   "outputs": [
    {
     "name": "stdout",
     "output_type": "stream",
     "text": [
      "Age = 22, marks = 89\n"
     ]
    }
   ],
   "source": [
    "print('Age = %d, marks = %d'%(age, marks))"
   ]
  },
  {
   "cell_type": "code",
   "execution_count": 55,
   "id": "c60ec713",
   "metadata": {},
   "outputs": [
    {
     "name": "stdout",
     "output_type": "stream",
     "text": [
      "Name = ABC, percentage = 89.890000\n"
     ]
    }
   ],
   "source": [
    "name = 'ABC'\n",
    "percentage = 89.89\n",
    "print('Name = %s, percentage = %f'%(name, percentage))"
   ]
  },
  {
   "cell_type": "markdown",
   "id": "d6b9eb9d",
   "metadata": {},
   "source": [
    "# Raw string"
   ]
  },
  {
   "cell_type": "code",
   "execution_count": 56,
   "id": "bd7c8689",
   "metadata": {},
   "outputs": [
    {
     "name": "stdout",
     "output_type": "stream",
     "text": [
      "hello\n",
      "world\n"
     ]
    }
   ],
   "source": [
    "abc = 'hello\\nworld'\n",
    "print(abc)"
   ]
  },
  {
   "cell_type": "code",
   "execution_count": 57,
   "id": "e90a4196",
   "metadata": {},
   "outputs": [
    {
     "name": "stdout",
     "output_type": "stream",
     "text": [
      "hello\\nworld\n"
     ]
    }
   ],
   "source": [
    "abc = r'hello\\nworld'\n",
    "print(abc)"
   ]
  },
  {
   "cell_type": "code",
   "execution_count": 58,
   "id": "66c010ec",
   "metadata": {},
   "outputs": [
    {
     "name": "stdout",
     "output_type": "stream",
     "text": [
      "hello\tworld\n"
     ]
    }
   ],
   "source": [
    "string = 'hello\\tworld'\n",
    "print(string)"
   ]
  },
  {
   "cell_type": "code",
   "execution_count": 59,
   "id": "35b3e43f",
   "metadata": {},
   "outputs": [
    {
     "name": "stdout",
     "output_type": "stream",
     "text": [
      "hello\\tworld\n"
     ]
    }
   ],
   "source": [
    "string = r'hello\\tworld'\n",
    "print(string)"
   ]
  },
  {
   "cell_type": "markdown",
   "id": "93df555a",
   "metadata": {},
   "source": [
    "## Type casting"
   ]
  },
  {
   "cell_type": "code",
   "execution_count": 60,
   "id": "5c3a5699",
   "metadata": {},
   "outputs": [
    {
     "data": {
      "text/plain": [
       "1"
      ]
     },
     "execution_count": 60,
     "metadata": {},
     "output_type": "execute_result"
    }
   ],
   "source": [
    "st = '1'\n",
    "int(1)"
   ]
  },
  {
   "cell_type": "code",
   "execution_count": 61,
   "id": "d6f41299",
   "metadata": {},
   "outputs": [
    {
     "data": {
      "text/plain": [
       "1234"
      ]
     },
     "execution_count": 61,
     "metadata": {},
     "output_type": "execute_result"
    }
   ],
   "source": [
    "st = '1234'\n",
    "int(st)"
   ]
  },
  {
   "cell_type": "code",
   "execution_count": 62,
   "id": "2f2064bf",
   "metadata": {},
   "outputs": [
    {
     "data": {
      "text/plain": [
       "7.89123"
      ]
     },
     "execution_count": 62,
     "metadata": {},
     "output_type": "execute_result"
    }
   ],
   "source": [
    "st = '7.89123'\n",
    "float(st)"
   ]
  },
  {
   "cell_type": "code",
   "execution_count": 63,
   "id": "b05b87c7",
   "metadata": {},
   "outputs": [
    {
     "ename": "ValueError",
     "evalue": "invalid literal for int() with base 10: '7.89123'",
     "output_type": "error",
     "traceback": [
      "\u001b[0;31m---------------------------------------------------------------------------\u001b[0m",
      "\u001b[0;31mValueError\u001b[0m                                Traceback (most recent call last)",
      "\u001b[0;32m/tmp/ipykernel_9297/3319648939.py\u001b[0m in \u001b[0;36m<module>\u001b[0;34m\u001b[0m\n\u001b[1;32m      1\u001b[0m \u001b[0mst\u001b[0m \u001b[0;34m=\u001b[0m \u001b[0;34m'7.89123'\u001b[0m\u001b[0;34m\u001b[0m\u001b[0;34m\u001b[0m\u001b[0m\n\u001b[0;32m----> 2\u001b[0;31m \u001b[0mint\u001b[0m\u001b[0;34m(\u001b[0m\u001b[0mst\u001b[0m\u001b[0;34m)\u001b[0m\u001b[0;34m\u001b[0m\u001b[0;34m\u001b[0m\u001b[0m\n\u001b[0m",
      "\u001b[0;31mValueError\u001b[0m: invalid literal for int() with base 10: '7.89123'"
     ]
    }
   ],
   "source": [
    "st = '7.89123'\n",
    "int(st)"
   ]
  },
  {
   "cell_type": "code",
   "execution_count": 64,
   "id": "2e02886c",
   "metadata": {},
   "outputs": [
    {
     "data": {
      "text/plain": [
       "7"
      ]
     },
     "execution_count": 64,
     "metadata": {},
     "output_type": "execute_result"
    }
   ],
   "source": [
    "st = '7.89123'\n",
    "int(float(st))"
   ]
  },
  {
   "cell_type": "code",
   "execution_count": 65,
   "id": "61f0b37a",
   "metadata": {},
   "outputs": [
    {
     "data": {
      "text/plain": [
       "'123'"
      ]
     },
     "execution_count": 65,
     "metadata": {},
     "output_type": "execute_result"
    }
   ],
   "source": [
    "num = 123\n",
    "str(num)"
   ]
  },
  {
   "cell_type": "code",
   "execution_count": 66,
   "id": "c1378a10",
   "metadata": {},
   "outputs": [
    {
     "data": {
      "text/plain": [
       "'3.145'"
      ]
     },
     "execution_count": 66,
     "metadata": {},
     "output_type": "execute_result"
    }
   ],
   "source": [
    "num = 3.145\n",
    "str(num)"
   ]
  },
  {
   "cell_type": "markdown",
   "id": "ffa48543",
   "metadata": {},
   "source": [
    "## concatenation"
   ]
  },
  {
   "cell_type": "code",
   "execution_count": 68,
   "id": "1f3b767a",
   "metadata": {},
   "outputs": [
    {
     "data": {
      "text/plain": [
       "'ABC123'"
      ]
     },
     "execution_count": 68,
     "metadata": {},
     "output_type": "execute_result"
    }
   ],
   "source": [
    "str1 = 'ABC'\n",
    "str2 = '123'\n",
    "str3 = str1 + str2\n",
    "str3"
   ]
  },
  {
   "cell_type": "code",
   "execution_count": 69,
   "id": "21801b21",
   "metadata": {},
   "outputs": [
    {
     "data": {
      "text/plain": [
       "'123ABC'"
      ]
     },
     "execution_count": 69,
     "metadata": {},
     "output_type": "execute_result"
    }
   ],
   "source": [
    "str1 = 'ABC'\n",
    "str2 = '123'\n",
    "str3 = str2 + str1\n",
    "str3"
   ]
  },
  {
   "cell_type": "code",
   "execution_count": 90,
   "id": "5e7a1354",
   "metadata": {},
   "outputs": [
    {
     "name": "stdout",
     "output_type": "stream",
     "text": [
      "140581504274672\n",
      "140581015589360\n"
     ]
    },
    {
     "data": {
      "text/plain": [
       "'ABC123'"
      ]
     },
     "execution_count": 90,
     "metadata": {},
     "output_type": "execute_result"
    }
   ],
   "source": [
    "str1 = 'ABC'\n",
    "str2 = '123'\n",
    "print(id(str1))\n",
    "str1 = str1 + str2\n",
    "print(id(str1))\n",
    "str1"
   ]
  },
  {
   "cell_type": "code",
   "execution_count": 91,
   "id": "49e0fee3",
   "metadata": {},
   "outputs": [
    {
     "data": {
      "text/plain": [
       "'strstrstrstr'"
      ]
     },
     "execution_count": 91,
     "metadata": {},
     "output_type": "execute_result"
    }
   ],
   "source": [
    "string = 'str' * 4\n",
    "string"
   ]
  },
  {
   "cell_type": "code",
   "execution_count": 92,
   "id": "5155f9d2",
   "metadata": {},
   "outputs": [
    {
     "data": {
      "text/plain": [
       "'****'"
      ]
     },
     "execution_count": 92,
     "metadata": {},
     "output_type": "execute_result"
    }
   ],
   "source": [
    "string = '*' * 4\n",
    "string"
   ]
  },
  {
   "cell_type": "code",
   "execution_count": 93,
   "id": "3bb35c1b",
   "metadata": {},
   "outputs": [
    {
     "name": "stdout",
     "output_type": "stream",
     "text": [
      "\n",
      "*\n",
      "**\n",
      "***\n",
      "****\n",
      "*****\n",
      "******\n"
     ]
    }
   ],
   "source": [
    "for i in range(7):\n",
    "    for j in range(i):\n",
    "        print('*', end = '')\n",
    "    print()"
   ]
  },
  {
   "cell_type": "code",
   "execution_count": 96,
   "id": "454efff0",
   "metadata": {},
   "outputs": [
    {
     "name": "stdout",
     "output_type": "stream",
     "text": [
      "\n",
      "*\n",
      "**\n",
      "***\n",
      "****\n",
      "*****\n",
      "******\n"
     ]
    }
   ],
   "source": [
    "for i in range(7):\n",
    "    print('*'*i, end = '')\n",
    "    print()"
   ]
  },
  {
   "cell_type": "code",
   "execution_count": 97,
   "id": "7a66ff83",
   "metadata": {},
   "outputs": [
    {
     "data": {
      "text/plain": [
       "[1, 3]"
      ]
     },
     "execution_count": 97,
     "metadata": {},
     "output_type": "execute_result"
    }
   ],
   "source": [
    "a = [1,2,3]\n",
    "del a[1]\n",
    "a"
   ]
  },
  {
   "cell_type": "code",
   "execution_count": 98,
   "id": "1a9ab488",
   "metadata": {},
   "outputs": [
    {
     "ename": "TypeError",
     "evalue": "'str' object doesn't support item deletion",
     "output_type": "error",
     "traceback": [
      "\u001b[0;31m---------------------------------------------------------------------------\u001b[0m",
      "\u001b[0;31mTypeError\u001b[0m                                 Traceback (most recent call last)",
      "\u001b[0;32m/tmp/ipykernel_9297/3173230070.py\u001b[0m in \u001b[0;36m<module>\u001b[0;34m\u001b[0m\n\u001b[1;32m      1\u001b[0m \u001b[0ma\u001b[0m \u001b[0;34m=\u001b[0m \u001b[0;34m'abcdefg'\u001b[0m\u001b[0;34m\u001b[0m\u001b[0;34m\u001b[0m\u001b[0m\n\u001b[0;32m----> 2\u001b[0;31m \u001b[0;32mdel\u001b[0m \u001b[0ma\u001b[0m\u001b[0;34m[\u001b[0m\u001b[0;36m1\u001b[0m\u001b[0;34m]\u001b[0m\u001b[0;34m\u001b[0m\u001b[0;34m\u001b[0m\u001b[0m\n\u001b[0m\u001b[1;32m      3\u001b[0m \u001b[0ma\u001b[0m\u001b[0;34m\u001b[0m\u001b[0;34m\u001b[0m\u001b[0m\n",
      "\u001b[0;31mTypeError\u001b[0m: 'str' object doesn't support item deletion"
     ]
    }
   ],
   "source": [
    "a = 'abcdefg'\n",
    "del a[1]\n",
    "a"
   ]
  },
  {
   "cell_type": "markdown",
   "id": "5649856b",
   "metadata": {},
   "source": [
    "## enumerate()"
   ]
  },
  {
   "cell_type": "code",
   "execution_count": 100,
   "id": "eba4b7d5",
   "metadata": {},
   "outputs": [
    {
     "name": "stdout",
     "output_type": "stream",
     "text": [
      "Character a is present as index 0\n",
      "Character b is present as index 1\n",
      "Character c is present as index 2\n",
      "Character d is present as index 3\n",
      "Character e is present as index 4\n",
      "Character f is present as index 5\n",
      "Character g is present as index 6\n",
      "Character h is present as index 7\n"
     ]
    }
   ],
   "source": [
    "string = 'abcdefgh'\n",
    "for i, v in enumerate(string):\n",
    "    print(f'Character {v} is present as index {i}')"
   ]
  },
  {
   "cell_type": "markdown",
   "id": "58f284da",
   "metadata": {},
   "source": [
    "## Indexing"
   ]
  },
  {
   "cell_type": "markdown",
   "id": "97b5f15b",
   "metadata": {},
   "source": [
    "### positive"
   ]
  },
  {
   "cell_type": "code",
   "execution_count": null,
   "id": "0d663349",
   "metadata": {},
   "outputs": [],
   "source": [
    "string = '012345678'"
   ]
  },
  {
   "cell_type": "code",
   "execution_count": null,
   "id": "19ccd870",
   "metadata": {},
   "outputs": [],
   "source": []
  },
  {
   "cell_type": "code",
   "execution_count": null,
   "id": "10866ea4",
   "metadata": {},
   "outputs": [],
   "source": []
  },
  {
   "cell_type": "markdown",
   "id": "038b5ad3",
   "metadata": {},
   "source": [
    "# string functions"
   ]
  },
  {
   "cell_type": "code",
   "execution_count": 33,
   "id": "03009cbf",
   "metadata": {},
   "outputs": [
    {
     "name": "stdout",
     "output_type": "stream",
     "text": [
      "Guwahati is the largest city of the Indian state of Assam and also the largest metropolis in northeastern India.\n"
     ]
    }
   ],
   "source": [
    "string = 'Guwahati is the largest city of the Indian state of \\\n",
    "Assam and also the largest metropolis in northeastern India.'\n",
    "print(string)"
   ]
  },
  {
   "cell_type": "markdown",
   "id": "bf4a6219",
   "metadata": {},
   "source": [
    "## 1. capitalize()\n",
    "- capitalize first chharacter of whole string\n",
    "- rest of the characters converted to lower case if they are in upper case"
   ]
  },
  {
   "cell_type": "code",
   "execution_count": 34,
   "id": "9c4fc0bd",
   "metadata": {},
   "outputs": [
    {
     "data": {
      "text/plain": [
       "'Guwahati is the largest city of the indian state of assam and also the largest metropolis in northeastern india.'"
      ]
     },
     "execution_count": 34,
     "metadata": {},
     "output_type": "execute_result"
    }
   ],
   "source": [
    "string.capitalize()"
   ]
  },
  {
   "cell_type": "markdown",
   "id": "388e2de1",
   "metadata": {},
   "source": [
    "## 2. title()\n",
    "- changes first character to capital for each word in string separated by space\n",
    "- rest of the characters converted to lower case if they are in upper case"
   ]
  },
  {
   "cell_type": "code",
   "execution_count": 35,
   "id": "591816f3",
   "metadata": {},
   "outputs": [
    {
     "data": {
      "text/plain": [
       "'Guwahati Is The Largest City Of The Indian State Of Assam And Also The Largest Metropolis In Northeastern India.'"
      ]
     },
     "execution_count": 35,
     "metadata": {},
     "output_type": "execute_result"
    }
   ],
   "source": [
    "string.title()"
   ]
  },
  {
   "cell_type": "code",
   "execution_count": 36,
   "id": "afb1294c",
   "metadata": {},
   "outputs": [
    {
     "data": {
      "text/plain": [
       "'Abcc Asbh'"
      ]
     },
     "execution_count": 36,
     "metadata": {},
     "output_type": "execute_result"
    }
   ],
   "source": [
    "'ABcc asbh'.title()"
   ]
  },
  {
   "cell_type": "markdown",
   "id": "aeafea91",
   "metadata": {},
   "source": [
    "## 3. upper()"
   ]
  },
  {
   "cell_type": "code",
   "execution_count": 37,
   "id": "6eefc063",
   "metadata": {},
   "outputs": [
    {
     "data": {
      "text/plain": [
       "'GUWAHATI IS THE LARGEST CITY OF THE INDIAN STATE OF ASSAM AND ALSO THE LARGEST METROPOLIS IN NORTHEASTERN INDIA.'"
      ]
     },
     "execution_count": 37,
     "metadata": {},
     "output_type": "execute_result"
    }
   ],
   "source": [
    "string.upper()"
   ]
  },
  {
   "cell_type": "code",
   "execution_count": 39,
   "id": "1588e558",
   "metadata": {},
   "outputs": [
    {
     "data": {
      "text/plain": [
       "'ABCDEFGHIJKL'"
      ]
     },
     "execution_count": 39,
     "metadata": {},
     "output_type": "execute_result"
    }
   ],
   "source": [
    "abc = 'AbCdEfGhIjKl'\n",
    "abc.upper()"
   ]
  },
  {
   "cell_type": "markdown",
   "id": "d8c856f4",
   "metadata": {},
   "source": [
    "## 4. lower()"
   ]
  },
  {
   "cell_type": "code",
   "execution_count": 38,
   "id": "2d9f62b3",
   "metadata": {},
   "outputs": [
    {
     "data": {
      "text/plain": [
       "'guwahati is the largest city of the indian state of assam and also the largest metropolis in northeastern india.'"
      ]
     },
     "execution_count": 38,
     "metadata": {},
     "output_type": "execute_result"
    }
   ],
   "source": [
    "string.lower()"
   ]
  },
  {
   "cell_type": "code",
   "execution_count": 40,
   "id": "c281062e",
   "metadata": {},
   "outputs": [
    {
     "data": {
      "text/plain": [
       "'abcdefghijkl'"
      ]
     },
     "execution_count": 40,
     "metadata": {},
     "output_type": "execute_result"
    }
   ],
   "source": [
    "abc = 'AbCdEfGhIjKl'\n",
    "abc.lower()"
   ]
  },
  {
   "cell_type": "code",
   "execution_count": null,
   "id": "d6c255b7",
   "metadata": {},
   "outputs": [],
   "source": [
    "string."
   ]
  },
  {
   "cell_type": "code",
   "execution_count": null,
   "id": "d6372b1c",
   "metadata": {},
   "outputs": [],
   "source": [
    "## strip"
   ]
  },
  {
   "cell_type": "code",
   "execution_count": null,
   "id": "4b9d78f8",
   "metadata": {},
   "outputs": [],
   "source": [
    "## strip"
   ]
  },
  {
   "cell_type": "code",
   "execution_count": null,
   "id": "9355cab9",
   "metadata": {},
   "outputs": [],
   "source": [
    "## strip"
   ]
  },
  {
   "cell_type": "code",
   "execution_count": null,
   "id": "ed895736",
   "metadata": {},
   "outputs": [],
   "source": []
  },
  {
   "cell_type": "code",
   "execution_count": null,
   "id": "254a7961",
   "metadata": {},
   "outputs": [],
   "source": []
  },
  {
   "cell_type": "code",
   "execution_count": null,
   "id": "519dd1d6",
   "metadata": {},
   "outputs": [],
   "source": []
  },
  {
   "cell_type": "code",
   "execution_count": null,
   "id": "e4503db3",
   "metadata": {},
   "outputs": [],
   "source": []
  }
 ],
 "metadata": {
  "kernelspec": {
   "display_name": "Python 3 (ipykernel)",
   "language": "python",
   "name": "python3"
  },
  "language_info": {
   "codemirror_mode": {
    "name": "ipython",
    "version": 3
   },
   "file_extension": ".py",
   "mimetype": "text/x-python",
   "name": "python",
   "nbconvert_exporter": "python",
   "pygments_lexer": "ipython3",
   "version": "3.10.12"
  }
 },
 "nbformat": 4,
 "nbformat_minor": 5
}
