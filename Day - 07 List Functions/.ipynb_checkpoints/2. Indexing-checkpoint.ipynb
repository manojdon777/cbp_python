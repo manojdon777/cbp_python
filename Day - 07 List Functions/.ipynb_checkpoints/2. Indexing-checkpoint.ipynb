{
 "cells": [
  {
   "cell_type": "markdown",
   "id": "4622b60e",
   "metadata": {},
   "source": [
    "## Indexing"
   ]
  },
  {
   "cell_type": "markdown",
   "id": "69dff7ea",
   "metadata": {},
   "source": [
    "### Positive indexing"
   ]
  },
  {
   "cell_type": "code",
   "execution_count": 2,
   "id": "a3f7e799",
   "metadata": {},
   "outputs": [
    {
     "name": "stdout",
     "output_type": "stream",
     "text": [
      "a[0] = 11\n",
      "a[1] = 22\n",
      "a[2] = 33\n",
      "a[3] = 44\n",
      "a[4] = 55\n",
      "a[5] = 66\n"
     ]
    }
   ],
   "source": [
    "a = [ 11, 22, 33, 44, 55, 66]\n",
    "for i in range(len(a)):\n",
    "    print('a[', i, '] = ', a[i], sep = '')"
   ]
  },
  {
   "cell_type": "code",
   "execution_count": 3,
   "id": "f3165631",
   "metadata": {},
   "outputs": [
    {
     "data": {
      "text/plain": [
       "44"
      ]
     },
     "execution_count": 3,
     "metadata": {},
     "output_type": "execute_result"
    }
   ],
   "source": [
    "a[3]"
   ]
  },
  {
   "cell_type": "code",
   "execution_count": 4,
   "id": "105bcc33",
   "metadata": {},
   "outputs": [
    {
     "data": {
      "text/plain": [
       "66"
      ]
     },
     "execution_count": 4,
     "metadata": {},
     "output_type": "execute_result"
    }
   ],
   "source": [
    "a[5]"
   ]
  },
  {
   "cell_type": "markdown",
   "id": "32c50d62",
   "metadata": {},
   "source": [
    "## Negative indexing"
   ]
  },
  {
   "cell_type": "code",
   "execution_count": 5,
   "id": "a2de245d",
   "metadata": {},
   "outputs": [
    {
     "data": {
      "text/plain": [
       "66"
      ]
     },
     "execution_count": 5,
     "metadata": {},
     "output_type": "execute_result"
    }
   ],
   "source": [
    "a = [ 11, 22, 33, 44, 55, 66]\n",
    "a[-1]"
   ]
  },
  {
   "cell_type": "code",
   "execution_count": 6,
   "id": "a81484f9",
   "metadata": {},
   "outputs": [
    {
     "data": {
      "text/plain": [
       "55"
      ]
     },
     "execution_count": 6,
     "metadata": {},
     "output_type": "execute_result"
    }
   ],
   "source": [
    "a[-2]"
   ]
  },
  {
   "cell_type": "code",
   "execution_count": 11,
   "id": "7b1afd08",
   "metadata": {},
   "outputs": [
    {
     "name": "stdout",
     "output_type": "stream",
     "text": [
      "66 55 44 33 22 11 "
     ]
    }
   ],
   "source": [
    "index = [-1, -2, -3, -4, -5, -6]\n",
    "for i in index:\n",
    "#     print(i, end = ' ')\n",
    "    print(a[i], end = ' ')"
   ]
  },
  {
   "cell_type": "code",
   "execution_count": 12,
   "id": "c1ba8a03",
   "metadata": {},
   "outputs": [
    {
     "name": "stdout",
     "output_type": "stream",
     "text": [
      "66 55 44 33 22 11 "
     ]
    }
   ],
   "source": [
    "a = [ 11, 22, 33, 44, 55, 66]\n",
    "index = [-1, -2, -3, -4, -5, -6]\n",
    "\n",
    "for i in range(len(index)):\n",
    "#     print(i, end = ' ')\n",
    "    print(a[index[i]], end = ' ')"
   ]
  },
  {
   "cell_type": "code",
   "execution_count": 16,
   "id": "672aebe3",
   "metadata": {},
   "outputs": [
    {
     "name": "stdout",
     "output_type": "stream",
     "text": [
      "66 55 44 33 22 "
     ]
    }
   ],
   "source": [
    "a = [ 11, 22, 33, 44, 55, 66] # last number is missing\n",
    "\n",
    "for i in range(5, 0, -1):\n",
    "\n",
    "    print(a[i], end = ' ')"
   ]
  },
  {
   "cell_type": "code",
   "execution_count": 17,
   "id": "9b70a38f",
   "metadata": {},
   "outputs": [
    {
     "name": "stdout",
     "output_type": "stream",
     "text": [
      "66 55 44 33 22 11 "
     ]
    }
   ],
   "source": [
    "a = [ 11, 22, 33, 44, 55, 66]\n",
    "\n",
    "for i in range(5, -1, -1):\n",
    "\n",
    "    print(a[i], end = ' ')"
   ]
  },
  {
   "cell_type": "code",
   "execution_count": 18,
   "id": "47bcb56e",
   "metadata": {},
   "outputs": [
    {
     "data": {
      "text/plain": [
       "66"
      ]
     },
     "execution_count": 18,
     "metadata": {},
     "output_type": "execute_result"
    }
   ],
   "source": [
    "a[-1]"
   ]
  },
  {
   "cell_type": "code",
   "execution_count": 19,
   "id": "095b21ab",
   "metadata": {},
   "outputs": [
    {
     "data": {
      "text/plain": [
       "66"
      ]
     },
     "execution_count": 19,
     "metadata": {},
     "output_type": "execute_result"
    }
   ],
   "source": [
    "a[len(a) - 1]"
   ]
  },
  {
   "cell_type": "code",
   "execution_count": 20,
   "id": "2a9505d0",
   "metadata": {},
   "outputs": [
    {
     "data": {
      "text/plain": [
       "6"
      ]
     },
     "execution_count": 20,
     "metadata": {},
     "output_type": "execute_result"
    }
   ],
   "source": [
    "len(a)"
   ]
  },
  {
   "cell_type": "code",
   "execution_count": 21,
   "id": "ae171d4a",
   "metadata": {},
   "outputs": [
    {
     "data": {
      "text/plain": [
       "5"
      ]
     },
     "execution_count": 21,
     "metadata": {},
     "output_type": "execute_result"
    }
   ],
   "source": [
    "len(a) - 1"
   ]
  },
  {
   "cell_type": "code",
   "execution_count": null,
   "id": "6c24bb4f",
   "metadata": {},
   "outputs": [],
   "source": []
  },
  {
   "cell_type": "code",
   "execution_count": null,
   "id": "f80872f2",
   "metadata": {},
   "outputs": [],
   "source": []
  },
  {
   "cell_type": "code",
   "execution_count": null,
   "id": "0f854b6d",
   "metadata": {},
   "outputs": [],
   "source": []
  },
  {
   "cell_type": "code",
   "execution_count": null,
   "id": "0ee15c9d",
   "metadata": {},
   "outputs": [],
   "source": []
  },
  {
   "cell_type": "code",
   "execution_count": null,
   "id": "c4552b64",
   "metadata": {},
   "outputs": [],
   "source": []
  },
  {
   "cell_type": "code",
   "execution_count": null,
   "id": "bc384d6d",
   "metadata": {},
   "outputs": [],
   "source": []
  }
 ],
 "metadata": {
  "kernelspec": {
   "display_name": "Python 3 (ipykernel)",
   "language": "python",
   "name": "python3"
  },
  "language_info": {
   "codemirror_mode": {
    "name": "ipython",
    "version": 3
   },
   "file_extension": ".py",
   "mimetype": "text/x-python",
   "name": "python",
   "nbconvert_exporter": "python",
   "pygments_lexer": "ipython3",
   "version": "3.10.12"
  }
 },
 "nbformat": 4,
 "nbformat_minor": 5
}
