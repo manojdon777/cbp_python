{
 "cells": [
  {
   "cell_type": "markdown",
   "id": "4487bd68",
   "metadata": {},
   "source": [
    "## listObj.sort()"
   ]
  },
  {
   "cell_type": "markdown",
   "id": "c297e669",
   "metadata": {},
   "source": [
    "### Ascending"
   ]
  },
  {
   "cell_type": "code",
   "execution_count": 2,
   "id": "4d0fa6d5",
   "metadata": {},
   "outputs": [
    {
     "data": {
      "text/plain": [
       "[94, 38, 15, 92, 43, 22, 2, 70, 78, 18, 99, 25, 3, 20, 51, 25, 6, 55, 33, 65]"
      ]
     },
     "execution_count": 2,
     "metadata": {},
     "output_type": "execute_result"
    }
   ],
   "source": [
    "import random\n",
    "array = []\n",
    "for i in range(20):\n",
    "    array.append(random.randint(0,100))\n",
    "array"
   ]
  },
  {
   "cell_type": "code",
   "execution_count": 2,
   "id": "3ff9ed6c",
   "metadata": {},
   "outputs": [
    {
     "data": {
      "text/plain": [
       "[2, 9, 24, 27, 28, 46, 47, 53, 53, 55, 64, 65, 67, 77, 83, 88, 94, 94, 94, 100]"
      ]
     },
     "execution_count": 2,
     "metadata": {},
     "output_type": "execute_result"
    }
   ],
   "source": [
    "array.sort()\n",
    "array"
   ]
  },
  {
   "cell_type": "markdown",
   "id": "13c476b7",
   "metadata": {},
   "source": [
    "### Descending"
   ]
  },
  {
   "cell_type": "code",
   "execution_count": 4,
   "id": "93ddbed2",
   "metadata": {},
   "outputs": [
    {
     "data": {
      "text/plain": [
       "[46, 62, 73, 64, 70, 63, 32, 92, 48, 4, 19, 9, 85, 12, 18, 74, 74, 95, 63, 86]"
      ]
     },
     "execution_count": 4,
     "metadata": {},
     "output_type": "execute_result"
    }
   ],
   "source": [
    "array = []\n",
    "for i in range(20):\n",
    "    array.append(random.randint(0,100))\n",
    "array"
   ]
  },
  {
   "cell_type": "code",
   "execution_count": 5,
   "id": "a4118074",
   "metadata": {},
   "outputs": [
    {
     "data": {
      "text/plain": [
       "[95, 92, 86, 85, 74, 74, 73, 70, 64, 63, 63, 62, 48, 46, 32, 19, 18, 12, 9, 4]"
      ]
     },
     "execution_count": 5,
     "metadata": {},
     "output_type": "execute_result"
    }
   ],
   "source": [
    "array.sort(reverse=True)\n",
    "array"
   ]
  },
  {
   "cell_type": "code",
   "execution_count": 6,
   "id": "5d688767",
   "metadata": {},
   "outputs": [
    {
     "data": {
      "text/plain": [
       "[68, 75, 25, 1, 48, 51, 9, 5, 55, 88, 0, 88, 77, 23, 81, 50, 28, 93, 17, 38]"
      ]
     },
     "execution_count": 6,
     "metadata": {},
     "output_type": "execute_result"
    }
   ],
   "source": [
    "array = []\n",
    "for i in range(20):\n",
    "    array.append(random.randint(0,100))\n",
    "array"
   ]
  },
  {
   "cell_type": "code",
   "execution_count": 7,
   "id": "923f1104",
   "metadata": {},
   "outputs": [
    {
     "data": {
      "text/plain": [
       "[0, 1, 5, 9, 17, 23, 25, 28, 38, 48, 50, 51, 55, 68, 75, 77, 81, 88, 88, 93]"
      ]
     },
     "execution_count": 7,
     "metadata": {},
     "output_type": "execute_result"
    }
   ],
   "source": [
    "array.sort(reverse=False)\n",
    "array"
   ]
  },
  {
   "cell_type": "markdown",
   "id": "9ddc9add",
   "metadata": {},
   "source": [
    "## listObj.reverse()"
   ]
  },
  {
   "cell_type": "code",
   "execution_count": 9,
   "id": "97d7a208",
   "metadata": {},
   "outputs": [
    {
     "data": {
      "text/plain": [
       "[0, 1, 2, 3, 4, 5, 6, 7, 8, 9, 10, 11, 12, 13, 14]"
      ]
     },
     "execution_count": 9,
     "metadata": {},
     "output_type": "execute_result"
    }
   ],
   "source": [
    "array1 = []\n",
    "for i in range(15):\n",
    "    array1.append(i)\n",
    "array1"
   ]
  },
  {
   "cell_type": "code",
   "execution_count": 10,
   "id": "2e1b6b74",
   "metadata": {},
   "outputs": [
    {
     "data": {
      "text/plain": [
       "[14, 13, 12, 11, 10, 9, 8, 7, 6, 5, 4, 3, 2, 1, 0]"
      ]
     },
     "execution_count": 10,
     "metadata": {},
     "output_type": "execute_result"
    }
   ],
   "source": [
    "array1.reverse()\n",
    "array1"
   ]
  },
  {
   "cell_type": "code",
   "execution_count": 11,
   "id": "a7d687cf",
   "metadata": {},
   "outputs": [
    {
     "data": {
      "text/plain": [
       "['Dibrugarh', 'Guwahati', 'Mumbai', 'Delhi']"
      ]
     },
     "execution_count": 11,
     "metadata": {},
     "output_type": "execute_result"
    }
   ],
   "source": [
    "cities = ['Delhi', 'Mumbai', 'Guwahati', 'Dibrugarh']\n",
    "cities.reverse()\n",
    "cities"
   ]
  },
  {
   "cell_type": "code",
   "execution_count": 12,
   "id": "a71752f8",
   "metadata": {},
   "outputs": [
    {
     "name": "stdout",
     "output_type": "stream",
     "text": [
      "abcd\n"
     ]
    }
   ],
   "source": [
    "print('abcd')"
   ]
  },
  {
   "cell_type": "code",
   "execution_count": 13,
   "id": "1c5c6f78",
   "metadata": {},
   "outputs": [
    {
     "name": "stdout",
     "output_type": "stream",
     "text": [
      "['Dibrugarh', 'Guwahati', 'Mumbai', 'Delhi']\n"
     ]
    }
   ],
   "source": [
    "print(cities)"
   ]
  },
  {
   "cell_type": "markdown",
   "id": "9ebac8bc",
   "metadata": {},
   "source": [
    "## sorted()"
   ]
  },
  {
   "cell_type": "code",
   "execution_count": 20,
   "id": "00ee7f1e",
   "metadata": {},
   "outputs": [
    {
     "name": "stdout",
     "output_type": "stream",
     "text": [
      "[64, 71, 73, 92, 88, 92, 61, 68, 100, 90, 16, 23, 7, 37]\n",
      "[7, 16, 23, 37, 61, 64, 68, 71, 73, 88, 90, 92, 92, 100]\n"
     ]
    }
   ],
   "source": [
    "array = []\n",
    "for i in range(14):\n",
    "    array.append(random.randint(0,100))\n",
    "print(array)\n",
    "array_sorted = sorted(array)\n",
    "print(array_sorted)"
   ]
  },
  {
   "cell_type": "code",
   "execution_count": 21,
   "id": "d86139a2",
   "metadata": {},
   "outputs": [
    {
     "name": "stdout",
     "output_type": "stream",
     "text": [
      "[30, 91, 50, 63, 87, 8, 96, 5, 15, 78, 87, 92, 87, 36]\n",
      "[96, 92, 91, 87, 87, 87, 78, 63, 50, 36, 30, 15, 8, 5]\n"
     ]
    }
   ],
   "source": [
    "array = []\n",
    "for i in range(14):\n",
    "    array.append(random.randint(0,100))\n",
    "print(array)\n",
    "array_sorted = sorted(array, reverse=True)\n",
    "print(array_sorted)"
   ]
  },
  {
   "cell_type": "code",
   "execution_count": 22,
   "id": "7a2dabb5",
   "metadata": {},
   "outputs": [
    {
     "name": "stdout",
     "output_type": "stream",
     "text": [
      "[73, 94, 93, 84, 63, 31, 35, 66, 88, 82, 13, 90, 33, 6]\n",
      "[6, 13, 31, 33, 35, 63, 66, 73, 82, 84, 88, 90, 93, 94]\n"
     ]
    }
   ],
   "source": [
    "array = []\n",
    "for i in range(14):\n",
    "    array.append(random.randint(0,100))\n",
    "print(array)\n",
    "array_sorted = sorted(array, reverse=False)\n",
    "print(array_sorted)"
   ]
  },
  {
   "cell_type": "markdown",
   "id": "aaaf0256",
   "metadata": {},
   "source": [
    "## reversed()"
   ]
  },
  {
   "cell_type": "code",
   "execution_count": 24,
   "id": "ed8d23b3",
   "metadata": {},
   "outputs": [
    {
     "data": {
      "text/plain": [
       "[998, 645, 376, 271, 342, 548, 485, 131, 780]"
      ]
     },
     "execution_count": 24,
     "metadata": {},
     "output_type": "execute_result"
    }
   ],
   "source": [
    "array = []\n",
    "for i in range(9):\n",
    "    array.append(random.randint(100,999))\n",
    "array"
   ]
  },
  {
   "cell_type": "code",
   "execution_count": 28,
   "id": "9fcad87f",
   "metadata": {},
   "outputs": [
    {
     "data": {
      "text/plain": [
       "[780, 131, 485, 548, 342, 271, 376, 645, 998]"
      ]
     },
     "execution_count": 28,
     "metadata": {},
     "output_type": "execute_result"
    }
   ],
   "source": [
    "array2 = reversed(array)\n",
    "array2 = list(array2)\n",
    "array2"
   ]
  },
  {
   "cell_type": "code",
   "execution_count": 31,
   "id": "764b0058",
   "metadata": {},
   "outputs": [
    {
     "name": "stdout",
     "output_type": "stream",
     "text": [
      "[0, 1, 2, 3, 4, 5, 6, 7, 8, 9]\n"
     ]
    },
    {
     "data": {
      "text/plain": [
       "[9, 8, 7, 6, 5, 4, 3, 2, 1, 0]"
      ]
     },
     "execution_count": 31,
     "metadata": {},
     "output_type": "execute_result"
    }
   ],
   "source": [
    "array = []\n",
    "for i in range(10):\n",
    "    array.append(i)\n",
    "print(array)\n",
    "array2 = list(reversed(array))\n",
    "array2"
   ]
  },
  {
   "cell_type": "markdown",
   "id": "d8eccecd",
   "metadata": {},
   "source": [
    "## max()"
   ]
  },
  {
   "cell_type": "code",
   "execution_count": 3,
   "id": "2e514ef6",
   "metadata": {},
   "outputs": [
    {
     "name": "stdout",
     "output_type": "stream",
     "text": [
      "[87, 80, 44, 30, 43, 93, 69, 63, 48, 49, 3, 21, 22, 87]\n"
     ]
    }
   ],
   "source": [
    "array = []\n",
    "for i in range(14):\n",
    "    array.append(random.randint(0,100))\n",
    "print(array)"
   ]
  },
  {
   "cell_type": "code",
   "execution_count": 4,
   "id": "80c1b456",
   "metadata": {},
   "outputs": [
    {
     "data": {
      "text/plain": [
       "93"
      ]
     },
     "execution_count": 4,
     "metadata": {},
     "output_type": "execute_result"
    }
   ],
   "source": [
    "max_number = max(array)\n",
    "max_number"
   ]
  },
  {
   "cell_type": "markdown",
   "id": "72975b3b",
   "metadata": {},
   "source": [
    "## min()"
   ]
  },
  {
   "cell_type": "code",
   "execution_count": 35,
   "id": "3253e499",
   "metadata": {},
   "outputs": [
    {
     "data": {
      "text/plain": [
       "3"
      ]
     },
     "execution_count": 35,
     "metadata": {},
     "output_type": "execute_result"
    }
   ],
   "source": [
    "min_number = min(array)\n",
    "min_number"
   ]
  },
  {
   "cell_type": "markdown",
   "id": "2e163f23",
   "metadata": {},
   "source": [
    "## sum()"
   ]
  },
  {
   "cell_type": "code",
   "execution_count": 5,
   "id": "06fbd089",
   "metadata": {},
   "outputs": [
    {
     "data": {
      "text/plain": [
       "739"
      ]
     },
     "execution_count": 5,
     "metadata": {},
     "output_type": "execute_result"
    }
   ],
   "source": [
    "sum_of_list = sum(array)\n",
    "sum_of_list"
   ]
  },
  {
   "cell_type": "markdown",
   "id": "460ea69f",
   "metadata": {},
   "source": [
    "## listObj.index()"
   ]
  },
  {
   "cell_type": "code",
   "execution_count": null,
   "id": "85056d07",
   "metadata": {},
   "outputs": [],
   "source": [
    "returns the index of first occurence of an element"
   ]
  },
  {
   "cell_type": "code",
   "execution_count": 48,
   "id": "2eaa31e6",
   "metadata": {},
   "outputs": [
    {
     "data": {
      "text/plain": [
       "['Delhi', 'Mumbai', 'Guwahati', 'Dibrugarh']"
      ]
     },
     "execution_count": 48,
     "metadata": {},
     "output_type": "execute_result"
    }
   ],
   "source": [
    "cities = ['Delhi', 'Mumbai', 'Guwahati', 'Dibrugarh']\n",
    "cities"
   ]
  },
  {
   "cell_type": "code",
   "execution_count": 51,
   "id": "95022223",
   "metadata": {},
   "outputs": [
    {
     "data": {
      "text/plain": [
       "0"
      ]
     },
     "execution_count": 51,
     "metadata": {},
     "output_type": "execute_result"
    }
   ],
   "source": [
    "cities.index('Delhi')"
   ]
  },
  {
   "cell_type": "code",
   "execution_count": 52,
   "id": "e60df1d4",
   "metadata": {},
   "outputs": [
    {
     "ename": "ValueError",
     "evalue": "'Pune' is not in list",
     "output_type": "error",
     "traceback": [
      "\u001b[0;31m---------------------------------------------------------------------------\u001b[0m",
      "\u001b[0;31mValueError\u001b[0m                                Traceback (most recent call last)",
      "\u001b[0;32m/tmp/ipykernel_422205/1699205579.py\u001b[0m in \u001b[0;36m<module>\u001b[0;34m\u001b[0m\n\u001b[0;32m----> 1\u001b[0;31m \u001b[0mcities\u001b[0m\u001b[0;34m.\u001b[0m\u001b[0mindex\u001b[0m\u001b[0;34m(\u001b[0m\u001b[0;34m'Pune'\u001b[0m\u001b[0;34m)\u001b[0m\u001b[0;34m\u001b[0m\u001b[0;34m\u001b[0m\u001b[0m\n\u001b[0m",
      "\u001b[0;31mValueError\u001b[0m: 'Pune' is not in list"
     ]
    }
   ],
   "source": [
    "cities.index('Pune')\n"
   ]
  },
  {
   "cell_type": "code",
   "execution_count": 57,
   "id": "be962619",
   "metadata": {},
   "outputs": [
    {
     "data": {
      "text/plain": [
       "[1, 4, 1, 0, 1, 1, 2, 3, 1, 4, 3, 3]"
      ]
     },
     "execution_count": 57,
     "metadata": {},
     "output_type": "execute_result"
    }
   ],
   "source": [
    "list1 = [1, 4, 1, 0, 1, 1, 2, 3, 1, 4, 3, 3]\n",
    "list1"
   ]
  },
  {
   "cell_type": "code",
   "execution_count": 58,
   "id": "6c13b5f0",
   "metadata": {},
   "outputs": [
    {
     "data": {
      "text/plain": [
       "7"
      ]
     },
     "execution_count": 58,
     "metadata": {},
     "output_type": "execute_result"
    }
   ],
   "source": [
    "list1.index(3)"
   ]
  },
  {
   "cell_type": "code",
   "execution_count": null,
   "id": "e2e5b991",
   "metadata": {},
   "outputs": [],
   "source": []
  },
  {
   "cell_type": "markdown",
   "id": "261b44d1",
   "metadata": {},
   "source": [
    "## listObj.count()"
   ]
  },
  {
   "cell_type": "code",
   "execution_count": 56,
   "id": "2e13be71",
   "metadata": {},
   "outputs": [
    {
     "data": {
      "text/plain": [
       "[1, 4, 1, 0, 1, 1, 2, 3, 1, 4, 3, 3]"
      ]
     },
     "execution_count": 56,
     "metadata": {},
     "output_type": "execute_result"
    }
   ],
   "source": [
    "numbers = []\n",
    "for i in range(12):\n",
    "    numbers.append(random.randint(0,5))\n",
    "numbers"
   ]
  },
  {
   "cell_type": "code",
   "execution_count": 59,
   "id": "e2c7c33c",
   "metadata": {},
   "outputs": [
    {
     "data": {
      "text/plain": [
       "1"
      ]
     },
     "execution_count": 59,
     "metadata": {},
     "output_type": "execute_result"
    }
   ],
   "source": [
    "count_of_num = numbers.count(0)\n",
    "count_of_num"
   ]
  },
  {
   "cell_type": "code",
   "execution_count": 60,
   "id": "098eadaa",
   "metadata": {},
   "outputs": [
    {
     "data": {
      "text/plain": [
       "3"
      ]
     },
     "execution_count": 60,
     "metadata": {},
     "output_type": "execute_result"
    }
   ],
   "source": [
    "numbers.count(3)"
   ]
  },
  {
   "cell_type": "code",
   "execution_count": 61,
   "id": "59ad3f31",
   "metadata": {},
   "outputs": [
    {
     "data": {
      "text/plain": [
       "5"
      ]
     },
     "execution_count": 61,
     "metadata": {},
     "output_type": "execute_result"
    }
   ],
   "source": [
    "numbers.count(1)"
   ]
  },
  {
   "cell_type": "markdown",
   "id": "9d84771d",
   "metadata": {},
   "source": [
    "## listObj.copy()"
   ]
  },
  {
   "cell_type": "code",
   "execution_count": 62,
   "id": "2f065c28",
   "metadata": {},
   "outputs": [
    {
     "data": {
      "text/plain": [
       "['param', 192.56, 999, (1, 1, 1)]"
      ]
     },
     "execution_count": 62,
     "metadata": {},
     "output_type": "execute_result"
    }
   ],
   "source": [
    "list1 = ['param', 192.56, 999, (1,1,1)]\n",
    "list1"
   ]
  },
  {
   "cell_type": "code",
   "execution_count": 64,
   "id": "3d0af9b2",
   "metadata": {},
   "outputs": [
    {
     "data": {
      "text/plain": [
       "['param', 192.56, 999, (1, 1, 1)]"
      ]
     },
     "execution_count": 64,
     "metadata": {},
     "output_type": "execute_result"
    }
   ],
   "source": [
    "list2 = list1\n",
    "list2"
   ]
  },
  {
   "cell_type": "code",
   "execution_count": 65,
   "id": "85545ce1",
   "metadata": {},
   "outputs": [
    {
     "name": "stdout",
     "output_type": "stream",
     "text": [
      "139818404717504\n",
      "139818404717504\n"
     ]
    }
   ],
   "source": [
    "print(id(list1))\n",
    "print(id(list2))"
   ]
  },
  {
   "cell_type": "code",
   "execution_count": 67,
   "id": "546733ef",
   "metadata": {},
   "outputs": [
    {
     "name": "stdout",
     "output_type": "stream",
     "text": [
      "['param', 192.56, 999, (1, 1, 1), 'Guwahati', 'Guwahati']\n",
      "['param', 192.56, 999, (1, 1, 1), 'Guwahati', 'Guwahati']\n"
     ]
    }
   ],
   "source": [
    "list1.append('Guwahati')\n",
    "print(list1)\n",
    "print(list2)"
   ]
  },
  {
   "cell_type": "code",
   "execution_count": 68,
   "id": "5b437ac8",
   "metadata": {},
   "outputs": [
    {
     "data": {
      "text/plain": [
       "['param', 192.56, 999, (1, 1, 1), 'Guwahati', 'Guwahati']"
      ]
     },
     "execution_count": 68,
     "metadata": {},
     "output_type": "execute_result"
    }
   ],
   "source": [
    "list3 = list1.copy() #shallow copy\n",
    "list3"
   ]
  },
  {
   "cell_type": "code",
   "execution_count": 71,
   "id": "fb7a7492",
   "metadata": {},
   "outputs": [
    {
     "name": "stdout",
     "output_type": "stream",
     "text": [
      "139818404717504\n",
      "139818405940864\n"
     ]
    }
   ],
   "source": [
    "print(id(list1))\n",
    "print(id(list3))"
   ]
  },
  {
   "cell_type": "code",
   "execution_count": 72,
   "id": "66a50cb0",
   "metadata": {},
   "outputs": [
    {
     "data": {
      "text/plain": [
       "[[1, 2, 3], [4, 5, 6], [7, 8, 9]]"
      ]
     },
     "execution_count": 72,
     "metadata": {},
     "output_type": "execute_result"
    }
   ],
   "source": [
    "list1 = [\n",
    "            [1,2,3],\n",
    "            [4,5,6],\n",
    "            [7,8,9]\n",
    "        ]\n",
    "list1"
   ]
  },
  {
   "cell_type": "code",
   "execution_count": null,
   "id": "ce9be2ee",
   "metadata": {},
   "outputs": [],
   "source": [
    "\n"
   ]
  }
 ],
 "metadata": {
  "kernelspec": {
   "display_name": "Python 3 (ipykernel)",
   "language": "python",
   "name": "python3"
  },
  "language_info": {
   "codemirror_mode": {
    "name": "ipython",
    "version": 3
   },
   "file_extension": ".py",
   "mimetype": "text/x-python",
   "name": "python",
   "nbconvert_exporter": "python",
   "pygments_lexer": "ipython3",
   "version": "3.10.12"
  }
 },
 "nbformat": 4,
 "nbformat_minor": 5
}
