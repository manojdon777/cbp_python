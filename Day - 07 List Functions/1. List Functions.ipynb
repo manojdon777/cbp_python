{
 "cells": [
  {
   "cell_type": "markdown",
   "id": "7e2bf098",
   "metadata": {},
   "source": [
    "## listObj.sort()"
   ]
  },
  {
   "cell_type": "markdown",
   "id": "ab3ddca4",
   "metadata": {},
   "source": [
    "### Ascending"
   ]
  },
  {
   "cell_type": "code",
   "execution_count": 1,
   "id": "3a801d40",
   "metadata": {},
   "outputs": [
    {
     "data": {
      "text/plain": [
       "[55, 77, 53, 100, 94, 94, 47, 27, 88, 94, 53, 65, 24, 64, 9, 28, 46, 67, 2, 83]"
      ]
     },
     "execution_count": 1,
     "metadata": {},
     "output_type": "execute_result"
    }
   ],
   "source": [
    "import random\n",
    "array = []\n",
    "for i in range(20):\n",
    "    array.append(random.randint(0,100))\n",
    "array"
   ]
  },
  {
   "cell_type": "code",
   "execution_count": 2,
   "id": "1cc71308",
   "metadata": {},
   "outputs": [
    {
     "data": {
      "text/plain": [
       "[2, 9, 24, 27, 28, 46, 47, 53, 53, 55, 64, 65, 67, 77, 83, 88, 94, 94, 94, 100]"
      ]
     },
     "execution_count": 2,
     "metadata": {},
     "output_type": "execute_result"
    }
   ],
   "source": [
    "array.sort()\n",
    "array"
   ]
  },
  {
   "cell_type": "markdown",
   "id": "3701ac8f",
   "metadata": {},
   "source": [
    "### Descending"
   ]
  },
  {
   "cell_type": "code",
   "execution_count": 4,
   "id": "a420cb0e",
   "metadata": {},
   "outputs": [
    {
     "data": {
      "text/plain": [
       "[46, 62, 73, 64, 70, 63, 32, 92, 48, 4, 19, 9, 85, 12, 18, 74, 74, 95, 63, 86]"
      ]
     },
     "execution_count": 4,
     "metadata": {},
     "output_type": "execute_result"
    }
   ],
   "source": [
    "array = []\n",
    "for i in range(20):\n",
    "    array.append(random.randint(0,100))\n",
    "array"
   ]
  },
  {
   "cell_type": "code",
   "execution_count": 5,
   "id": "6643e241",
   "metadata": {},
   "outputs": [
    {
     "data": {
      "text/plain": [
       "[95, 92, 86, 85, 74, 74, 73, 70, 64, 63, 63, 62, 48, 46, 32, 19, 18, 12, 9, 4]"
      ]
     },
     "execution_count": 5,
     "metadata": {},
     "output_type": "execute_result"
    }
   ],
   "source": [
    "array.sort(reverse=True)\n",
    "array"
   ]
  },
  {
   "cell_type": "code",
   "execution_count": 6,
   "id": "49faf303",
   "metadata": {},
   "outputs": [
    {
     "data": {
      "text/plain": [
       "[68, 75, 25, 1, 48, 51, 9, 5, 55, 88, 0, 88, 77, 23, 81, 50, 28, 93, 17, 38]"
      ]
     },
     "execution_count": 6,
     "metadata": {},
     "output_type": "execute_result"
    }
   ],
   "source": [
    "array = []\n",
    "for i in range(20):\n",
    "    array.append(random.randint(0,100))\n",
    "array"
   ]
  },
  {
   "cell_type": "code",
   "execution_count": 7,
   "id": "80ff0e7b",
   "metadata": {},
   "outputs": [
    {
     "data": {
      "text/plain": [
       "[0, 1, 5, 9, 17, 23, 25, 28, 38, 48, 50, 51, 55, 68, 75, 77, 81, 88, 88, 93]"
      ]
     },
     "execution_count": 7,
     "metadata": {},
     "output_type": "execute_result"
    }
   ],
   "source": [
    "array.sort(reverse=False)\n",
    "array"
   ]
  },
  {
   "cell_type": "markdown",
   "id": "29f77ae4",
   "metadata": {},
   "source": [
    "## listObj.reverse()"
   ]
  },
  {
   "cell_type": "code",
   "execution_count": 9,
   "id": "be5e065b",
   "metadata": {},
   "outputs": [
    {
     "data": {
      "text/plain": [
       "[0, 1, 2, 3, 4, 5, 6, 7, 8, 9, 10, 11, 12, 13, 14]"
      ]
     },
     "execution_count": 9,
     "metadata": {},
     "output_type": "execute_result"
    }
   ],
   "source": [
    "array1 = []\n",
    "for i in range(15):\n",
    "    array1.append(i)\n",
    "array1"
   ]
  },
  {
   "cell_type": "code",
   "execution_count": 10,
   "id": "1ec22bb9",
   "metadata": {},
   "outputs": [
    {
     "data": {
      "text/plain": [
       "[14, 13, 12, 11, 10, 9, 8, 7, 6, 5, 4, 3, 2, 1, 0]"
      ]
     },
     "execution_count": 10,
     "metadata": {},
     "output_type": "execute_result"
    }
   ],
   "source": [
    "array1.reverse()\n",
    "array1"
   ]
  },
  {
   "cell_type": "code",
   "execution_count": 11,
   "id": "d928d485",
   "metadata": {},
   "outputs": [
    {
     "data": {
      "text/plain": [
       "['Dibrugarh', 'Guwahati', 'Mumbai', 'Delhi']"
      ]
     },
     "execution_count": 11,
     "metadata": {},
     "output_type": "execute_result"
    }
   ],
   "source": [
    "cities = ['Delhi', 'Mumbai', 'Guwahati', 'Dibrugarh']\n",
    "cities.reverse()\n",
    "cities"
   ]
  },
  {
   "cell_type": "code",
   "execution_count": 12,
   "id": "147d951a",
   "metadata": {},
   "outputs": [
    {
     "name": "stdout",
     "output_type": "stream",
     "text": [
      "abcd\n"
     ]
    }
   ],
   "source": [
    "print('abcd')"
   ]
  },
  {
   "cell_type": "code",
   "execution_count": 13,
   "id": "f518f153",
   "metadata": {},
   "outputs": [
    {
     "name": "stdout",
     "output_type": "stream",
     "text": [
      "['Dibrugarh', 'Guwahati', 'Mumbai', 'Delhi']\n"
     ]
    }
   ],
   "source": [
    "print(cities)"
   ]
  },
  {
   "cell_type": "markdown",
   "id": "f1a55b26",
   "metadata": {},
   "source": [
    "## sorted()"
   ]
  },
  {
   "cell_type": "code",
   "execution_count": 20,
   "id": "17cf6fc6",
   "metadata": {},
   "outputs": [
    {
     "name": "stdout",
     "output_type": "stream",
     "text": [
      "[64, 71, 73, 92, 88, 92, 61, 68, 100, 90, 16, 23, 7, 37]\n",
      "[7, 16, 23, 37, 61, 64, 68, 71, 73, 88, 90, 92, 92, 100]\n"
     ]
    }
   ],
   "source": [
    "array = []\n",
    "for i in range(14):\n",
    "    array.append(random.randint(0,100))\n",
    "print(array)\n",
    "array_sorted = sorted(array)\n",
    "print(array_sorted)"
   ]
  },
  {
   "cell_type": "code",
   "execution_count": 21,
   "id": "a9c6d4fb",
   "metadata": {},
   "outputs": [
    {
     "name": "stdout",
     "output_type": "stream",
     "text": [
      "[30, 91, 50, 63, 87, 8, 96, 5, 15, 78, 87, 92, 87, 36]\n",
      "[96, 92, 91, 87, 87, 87, 78, 63, 50, 36, 30, 15, 8, 5]\n"
     ]
    }
   ],
   "source": [
    "array = []\n",
    "for i in range(14):\n",
    "    array.append(random.randint(0,100))\n",
    "print(array)\n",
    "array_sorted = sorted(array, reverse=True)\n",
    "print(array_sorted)"
   ]
  },
  {
   "cell_type": "code",
   "execution_count": 22,
   "id": "695d4e47",
   "metadata": {},
   "outputs": [
    {
     "name": "stdout",
     "output_type": "stream",
     "text": [
      "[73, 94, 93, 84, 63, 31, 35, 66, 88, 82, 13, 90, 33, 6]\n",
      "[6, 13, 31, 33, 35, 63, 66, 73, 82, 84, 88, 90, 93, 94]\n"
     ]
    }
   ],
   "source": [
    "array = []\n",
    "for i in range(14):\n",
    "    array.append(random.randint(0,100))\n",
    "print(array)\n",
    "array_sorted = sorted(array, reverse=False)\n",
    "print(array_sorted)"
   ]
  },
  {
   "cell_type": "markdown",
   "id": "7b2e61de",
   "metadata": {},
   "source": [
    "## reversed()"
   ]
  },
  {
   "cell_type": "code",
   "execution_count": 24,
   "id": "0984d634",
   "metadata": {},
   "outputs": [
    {
     "data": {
      "text/plain": [
       "[998, 645, 376, 271, 342, 548, 485, 131, 780]"
      ]
     },
     "execution_count": 24,
     "metadata": {},
     "output_type": "execute_result"
    }
   ],
   "source": [
    "array = []\n",
    "for i in range(9):\n",
    "    array.append(random.randint(100,999))\n",
    "array"
   ]
  },
  {
   "cell_type": "code",
   "execution_count": 28,
   "id": "b0ceded4",
   "metadata": {},
   "outputs": [
    {
     "data": {
      "text/plain": [
       "[780, 131, 485, 548, 342, 271, 376, 645, 998]"
      ]
     },
     "execution_count": 28,
     "metadata": {},
     "output_type": "execute_result"
    }
   ],
   "source": [
    "array2 = reversed(array)\n",
    "array2 = list(array2)\n",
    "array2"
   ]
  },
  {
   "cell_type": "code",
   "execution_count": 31,
   "id": "b1f90b5e",
   "metadata": {},
   "outputs": [
    {
     "name": "stdout",
     "output_type": "stream",
     "text": [
      "[0, 1, 2, 3, 4, 5, 6, 7, 8, 9]\n"
     ]
    },
    {
     "data": {
      "text/plain": [
       "[9, 8, 7, 6, 5, 4, 3, 2, 1, 0]"
      ]
     },
     "execution_count": 31,
     "metadata": {},
     "output_type": "execute_result"
    }
   ],
   "source": [
    "array = []\n",
    "for i in range(10):\n",
    "    array.append(i)\n",
    "print(array)\n",
    "array2 = list(reversed(array))\n",
    "array2"
   ]
  },
  {
   "cell_type": "markdown",
   "id": "7b48f4eb",
   "metadata": {},
   "source": [
    "## max()"
   ]
  },
  {
   "cell_type": "code",
   "execution_count": 32,
   "id": "8cc63345",
   "metadata": {},
   "outputs": [
    {
     "name": "stdout",
     "output_type": "stream",
     "text": [
      "[89, 56, 30, 70, 84, 22, 68, 47, 96, 67, 3, 65, 93, 76]\n"
     ]
    }
   ],
   "source": [
    "array = []\n",
    "for i in range(14):\n",
    "    array.append(random.randint(0,100))\n",
    "print(array)"
   ]
  },
  {
   "cell_type": "code",
   "execution_count": 34,
   "id": "4d09f618",
   "metadata": {},
   "outputs": [
    {
     "data": {
      "text/plain": [
       "96"
      ]
     },
     "execution_count": 34,
     "metadata": {},
     "output_type": "execute_result"
    }
   ],
   "source": [
    "max_number = max(array)\n",
    "max_number"
   ]
  },
  {
   "cell_type": "markdown",
   "id": "8a8e00f3",
   "metadata": {},
   "source": [
    "## min()"
   ]
  },
  {
   "cell_type": "code",
   "execution_count": 35,
   "id": "7d2faad0",
   "metadata": {},
   "outputs": [
    {
     "data": {
      "text/plain": [
       "3"
      ]
     },
     "execution_count": 35,
     "metadata": {},
     "output_type": "execute_result"
    }
   ],
   "source": [
    "min_number = min(array)\n",
    "min_number"
   ]
  },
  {
   "cell_type": "markdown",
   "id": "b377e3f8",
   "metadata": {},
   "source": [
    "## listObj.index()"
   ]
  },
  {
   "cell_type": "code",
   "execution_count": null,
   "id": "1394316a",
   "metadata": {},
   "outputs": [],
   "source": [
    "returns the index of first occurence of an element"
   ]
  },
  {
   "cell_type": "code",
   "execution_count": 48,
   "id": "dadc789a",
   "metadata": {},
   "outputs": [
    {
     "data": {
      "text/plain": [
       "['Delhi', 'Mumbai', 'Guwahati', 'Dibrugarh']"
      ]
     },
     "execution_count": 48,
     "metadata": {},
     "output_type": "execute_result"
    }
   ],
   "source": [
    "cities = ['Delhi', 'Mumbai', 'Guwahati', 'Dibrugarh']\n",
    "cities"
   ]
  },
  {
   "cell_type": "code",
   "execution_count": 51,
   "id": "ad7bf441",
   "metadata": {},
   "outputs": [
    {
     "data": {
      "text/plain": [
       "0"
      ]
     },
     "execution_count": 51,
     "metadata": {},
     "output_type": "execute_result"
    }
   ],
   "source": [
    "cities.index('Delhi')"
   ]
  },
  {
   "cell_type": "code",
   "execution_count": 52,
   "id": "fd8f49a8",
   "metadata": {},
   "outputs": [
    {
     "ename": "ValueError",
     "evalue": "'Pune' is not in list",
     "output_type": "error",
     "traceback": [
      "\u001b[0;31m---------------------------------------------------------------------------\u001b[0m",
      "\u001b[0;31mValueError\u001b[0m                                Traceback (most recent call last)",
      "\u001b[0;32m/tmp/ipykernel_422205/1699205579.py\u001b[0m in \u001b[0;36m<module>\u001b[0;34m\u001b[0m\n\u001b[0;32m----> 1\u001b[0;31m \u001b[0mcities\u001b[0m\u001b[0;34m.\u001b[0m\u001b[0mindex\u001b[0m\u001b[0;34m(\u001b[0m\u001b[0;34m'Pune'\u001b[0m\u001b[0;34m)\u001b[0m\u001b[0;34m\u001b[0m\u001b[0;34m\u001b[0m\u001b[0m\n\u001b[0m",
      "\u001b[0;31mValueError\u001b[0m: 'Pune' is not in list"
     ]
    }
   ],
   "source": [
    "cities.index('Pune')\n"
   ]
  },
  {
   "cell_type": "code",
   "execution_count": 57,
   "id": "83acfbf4",
   "metadata": {},
   "outputs": [
    {
     "data": {
      "text/plain": [
       "[1, 4, 1, 0, 1, 1, 2, 3, 1, 4, 3, 3]"
      ]
     },
     "execution_count": 57,
     "metadata": {},
     "output_type": "execute_result"
    }
   ],
   "source": [
    "list1 = [1, 4, 1, 0, 1, 1, 2, 3, 1, 4, 3, 3]\n",
    "list1"
   ]
  },
  {
   "cell_type": "code",
   "execution_count": 58,
   "id": "b2025531",
   "metadata": {},
   "outputs": [
    {
     "data": {
      "text/plain": [
       "7"
      ]
     },
     "execution_count": 58,
     "metadata": {},
     "output_type": "execute_result"
    }
   ],
   "source": [
    "list1.index(3)"
   ]
  },
  {
   "cell_type": "code",
   "execution_count": null,
   "id": "103d0777",
   "metadata": {},
   "outputs": [],
   "source": []
  },
  {
   "cell_type": "markdown",
   "id": "7ee547b9",
   "metadata": {},
   "source": [
    "## listObj.count()"
   ]
  },
  {
   "cell_type": "code",
   "execution_count": 56,
   "id": "91413289",
   "metadata": {},
   "outputs": [
    {
     "data": {
      "text/plain": [
       "[1, 4, 1, 0, 1, 1, 2, 3, 1, 4, 3, 3]"
      ]
     },
     "execution_count": 56,
     "metadata": {},
     "output_type": "execute_result"
    }
   ],
   "source": [
    "numbers = []\n",
    "for i in range(12):\n",
    "    numbers.append(random.randint(0,5))\n",
    "numbers"
   ]
  },
  {
   "cell_type": "code",
   "execution_count": 55,
   "id": "23a638a4",
   "metadata": {},
   "outputs": [
    {
     "data": {
      "text/plain": [
       "3"
      ]
     },
     "execution_count": 55,
     "metadata": {},
     "output_type": "execute_result"
    }
   ],
   "source": [
    "count_of_num = numbers.count(0)\n",
    "count_of_num"
   ]
  },
  {
   "cell_type": "code",
   "execution_count": null,
   "id": "3c12b68f",
   "metadata": {},
   "outputs": [],
   "source": [
    "numbers.count(3)"
   ]
  },
  {
   "cell_type": "code",
   "execution_count": null,
   "id": "e979ed7a",
   "metadata": {},
   "outputs": [],
   "source": []
  },
  {
   "cell_type": "code",
   "execution_count": null,
   "id": "fd237464",
   "metadata": {},
   "outputs": [],
   "source": []
  },
  {
   "cell_type": "code",
   "execution_count": null,
   "id": "e8d68113",
   "metadata": {},
   "outputs": [],
   "source": []
  },
  {
   "cell_type": "code",
   "execution_count": null,
   "id": "cbd328a1",
   "metadata": {},
   "outputs": [],
   "source": [
    "# sort()\n",
    "# reverse()\n",
    "# sorted()\n",
    "# reversed()\n",
    "# index()\n",
    "# count()\n",
    "# copy()\n",
    "# nested list\n"
   ]
  }
 ],
 "metadata": {
  "kernelspec": {
   "display_name": "Python 3 (ipykernel)",
   "language": "python",
   "name": "python3"
  },
  "language_info": {
   "codemirror_mode": {
    "name": "ipython",
    "version": 3
   },
   "file_extension": ".py",
   "mimetype": "text/x-python",
   "name": "python",
   "nbconvert_exporter": "python",
   "pygments_lexer": "ipython3",
   "version": "3.10.12"
  }
 },
 "nbformat": 4,
 "nbformat_minor": 5
}
