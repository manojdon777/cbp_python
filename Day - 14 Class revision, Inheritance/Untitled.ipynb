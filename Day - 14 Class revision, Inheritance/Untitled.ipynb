{
 "cells": [
  {
   "cell_type": "markdown",
   "id": "b1835133",
   "metadata": {},
   "source": [
    "# Class"
   ]
  },
  {
   "cell_type": "code",
   "execution_count": 1,
   "id": "9b92de29",
   "metadata": {},
   "outputs": [
    {
     "name": "stdout",
     "output_type": "stream",
     "text": [
      "I am in class function\n"
     ]
    }
   ],
   "source": [
    "class Student:    \n",
    "    def fun(self):\n",
    "        print('I am in class function')\n",
    "        \n",
    "\n",
    "object = Student()\n",
    "object.fun()\n"
   ]
  },
  {
   "cell_type": "code",
   "execution_count": 2,
   "id": "44bd65e2",
   "metadata": {},
   "outputs": [
    {
     "name": "stdout",
     "output_type": "stream",
     "text": [
      "I am in call member function\n",
      "Name: Abc\n",
      "Age: 23\n",
      "Roll no: 10034\n"
     ]
    }
   ],
   "source": [
    "class Student: \n",
    "    name = None\n",
    "    age = None\n",
    "    roll_no = None\n",
    "    def __init__(self, name, age, roll_no):\n",
    "        self.name = name\n",
    "        self.age = age\n",
    "        self.roll_no = roll_no\n",
    "    def display(self):\n",
    "        print('I am in call member function')\n",
    "        print('Name:', self.name)\n",
    "        print('Age:', self.age)\n",
    "        print('Roll no:', self.roll_no)\n",
    "        \n",
    "\n",
    "object = Student('Abc', 23, 10034)\n",
    "object.display()"
   ]
  },
  {
   "cell_type": "markdown",
   "id": "1420e78e",
   "metadata": {},
   "source": [
    "### there shud be first arg in every member function of class that is reference to current object, normally prgrammer name it as 'self', you can replace self with any name like 'vivek' in below code"
   ]
  },
  {
   "cell_type": "code",
   "execution_count": 3,
   "id": "44faa4fd",
   "metadata": {},
   "outputs": [
    {
     "name": "stdout",
     "output_type": "stream",
     "text": [
      "I am in call member function\n",
      "Name: Abc\n",
      "Age: 23\n",
      "Roll no: 10034\n"
     ]
    }
   ],
   "source": [
    "class Student: \n",
    "    name = None\n",
    "    age = None\n",
    "    roll_no = None\n",
    "    def __init__(vivek, name, age, roll_no):\n",
    "        vivek.name = name\n",
    "        vivek.age = age\n",
    "        vivek.roll_no = roll_no\n",
    "    def display(self):\n",
    "        print('I am in call member function')\n",
    "        print('Name:', self.name)\n",
    "        print('Age:', self.age)\n",
    "        print('Roll no:', self.roll_no)\n",
    "        \n",
    "\n",
    "object = Student('Abc', 23, 10034)\n",
    "object.display()"
   ]
  },
  {
   "cell_type": "code",
   "execution_count": 4,
   "id": "5c236b9f",
   "metadata": {},
   "outputs": [
    {
     "name": "stdout",
     "output_type": "stream",
     "text": [
      "I am in call member function\n"
     ]
    }
   ],
   "source": [
    "class Student:\n",
    "    def display(self):\n",
    "        print('I am in call member function')       \n",
    "\n",
    "object = Student()\n",
    "object.display()"
   ]
  },
  {
   "cell_type": "code",
   "execution_count": 5,
   "id": "001fc180",
   "metadata": {},
   "outputs": [
    {
     "name": "stdout",
     "output_type": "stream",
     "text": [
      "I am in call member function\n",
      "Name: Abc\n",
      "Age: 23\n",
      "Roll no: 10034\n"
     ]
    }
   ],
   "source": [
    "class Student: \n",
    "    def __init__(vivek, name, age, roll_no):\n",
    "        vivek.name = name\n",
    "        vivek.age = age\n",
    "        vivek.roll_no = roll_no\n",
    "    def display(self):\n",
    "        print('I am in call member function')\n",
    "        print('Name:', self.name)\n",
    "        print('Age:', self.age)\n",
    "        print('Roll no:', self.roll_no)\n",
    "        \n",
    "\n",
    "object = Student('Abc', 23, 10034)\n",
    "object.display()"
   ]
  },
  {
   "cell_type": "code",
   "execution_count": 59,
   "id": "8a6cb9df",
   "metadata": {},
   "outputs": [
    {
     "name": "stdout",
     "output_type": "stream",
     "text": [
      "Boo\n",
      "Foo\n"
     ]
    }
   ],
   "source": [
    "class My_Class:\n",
    "    def __init__(self, name, age):\n",
    "        self.name = name\n",
    "        self.age = age\n",
    "        \n",
    "    def foo(self):\n",
    "        print('Foo')\n",
    "        \n",
    "    def boo(self):\n",
    "        print('Boo')\n",
    "        self.foo()\n",
    "\n",
    "obj_1 = My_Class('Abc', 34)\n",
    "obj_1.boo()"
   ]
  },
  {
   "cell_type": "code",
   "execution_count": null,
   "id": "8b547d0a",
   "metadata": {},
   "outputs": [],
   "source": []
  },
  {
   "cell_type": "markdown",
   "id": "7b6d37de",
   "metadata": {},
   "source": [
    "# Inheritance"
   ]
  },
  {
   "cell_type": "code",
   "execution_count": 6,
   "id": "8ee9f341",
   "metadata": {},
   "outputs": [],
   "source": [
    "class Parent:\n",
    "    pass\n",
    "\n",
    "class Child(Parent):\n",
    "    pass\n",
    "\n",
    "obj = Child()"
   ]
  },
  {
   "cell_type": "code",
   "execution_count": 7,
   "id": "4b3fc421",
   "metadata": {},
   "outputs": [
    {
     "name": "stdout",
     "output_type": "stream",
     "text": [
      "John Cena\n",
      "23\n",
      "45000\n"
     ]
    }
   ],
   "source": [
    "class Parent:    \n",
    "    name = 'John Cena'\n",
    "\n",
    "class Child(Parent):\n",
    "    def __init__(self, age, roll):\n",
    "        self.age = age\n",
    "        self.roll = roll\n",
    "    def display_info(self):\n",
    "        print(self.name)\n",
    "        print(self.age)\n",
    "        print(self.roll)\n",
    "\n",
    "obj = Child(23, 45000)\n",
    "obj.display_info()"
   ]
  },
  {
   "cell_type": "code",
   "execution_count": 8,
   "id": "25c33c78",
   "metadata": {},
   "outputs": [
    {
     "name": "stdout",
     "output_type": "stream",
     "text": [
      "John\n"
     ]
    }
   ],
   "source": [
    "class Student:\n",
    "    name = 'John'\n",
    "obj = Student()\n",
    "print(obj.name)"
   ]
  },
  {
   "cell_type": "code",
   "execution_count": null,
   "id": "ddb542e8",
   "metadata": {},
   "outputs": [],
   "source": []
  },
  {
   "cell_type": "code",
   "execution_count": 9,
   "id": "b5e6ea98",
   "metadata": {},
   "outputs": [
    {
     "name": "stdout",
     "output_type": "stream",
     "text": [
      "John Cena\n",
      "I am in Parenc class\n",
      "Name:  John Cena\n"
     ]
    }
   ],
   "source": [
    "class Parent:    \n",
    "    name = 'John Cena'\n",
    "    \n",
    "    def display_name(self):\n",
    "        print('I am in Parenc class')\n",
    "        print('Name: ', self.name)\n",
    "\n",
    "class Child(Parent):\n",
    "    def __init__(self, age, roll):\n",
    "        self.age = age\n",
    "        self.roll = roll\n",
    "    def display_info(self):\n",
    "        print(self.name)\n",
    "        print(self.age)\n",
    "        print(self.roll)\n",
    "\n",
    "obj = Child(23, 45000)\n",
    "# obj.display_info()\n",
    "print(obj.name)\n",
    "obj.display_name()"
   ]
  },
  {
   "cell_type": "code",
   "execution_count": 16,
   "id": "ff9d1490",
   "metadata": {},
   "outputs": [
    {
     "ename": "TypeError",
     "evalue": "'Student' object is not callable",
     "output_type": "error",
     "traceback": [
      "\u001b[0;31m---------------------------------------------------------------------------\u001b[0m",
      "\u001b[0;31mTypeError\u001b[0m                                 Traceback (most recent call last)",
      "\u001b[0;32m/tmp/ipykernel_568874/1767945029.py\u001b[0m in \u001b[0;36m<module>\u001b[0;34m\u001b[0m\n\u001b[1;32m      2\u001b[0m     \u001b[0;32mdef\u001b[0m \u001b[0mfun\u001b[0m\u001b[0;34m(\u001b[0m\u001b[0mself\u001b[0m\u001b[0;34m)\u001b[0m\u001b[0;34m:\u001b[0m\u001b[0;34m\u001b[0m\u001b[0;34m\u001b[0m\u001b[0m\n\u001b[1;32m      3\u001b[0m         \u001b[0mprint\u001b[0m\u001b[0;34m(\u001b[0m\u001b[0;34m'Abcd'\u001b[0m\u001b[0;34m)\u001b[0m\u001b[0;34m\u001b[0m\u001b[0;34m\u001b[0m\u001b[0m\n\u001b[0;32m----> 4\u001b[0;31m \u001b[0mobj\u001b[0m \u001b[0;34m=\u001b[0m \u001b[0mABCD\u001b[0m\u001b[0;34m(\u001b[0m\u001b[0;34m)\u001b[0m\u001b[0;34m\u001b[0m\u001b[0;34m\u001b[0m\u001b[0m\n\u001b[0m\u001b[1;32m      5\u001b[0m \u001b[0mobj\u001b[0m\u001b[0;34m.\u001b[0m\u001b[0mfun\u001b[0m\u001b[0;34m(\u001b[0m\u001b[0;34m)\u001b[0m\u001b[0;34m\u001b[0m\u001b[0;34m\u001b[0m\u001b[0m\n",
      "\u001b[0;31mTypeError\u001b[0m: 'Student' object is not callable"
     ]
    }
   ],
   "source": [
    "class ABCD(object):\n",
    "    def fun(self):\n",
    "        print('Abcd')\n",
    "obj = ABCD()\n",
    "obj.fun()"
   ]
  },
  {
   "cell_type": "code",
   "execution_count": null,
   "id": "1eb41030",
   "metadata": {},
   "outputs": [],
   "source": []
  },
  {
   "cell_type": "markdown",
   "id": "dfd1c8a2",
   "metadata": {},
   "source": [
    "## super() is function which return object of parent class"
   ]
  },
  {
   "cell_type": "code",
   "execution_count": 11,
   "id": "9a83b661",
   "metadata": {},
   "outputs": [
    {
     "name": "stdout",
     "output_type": "stream",
     "text": [
      "BBBBBBBB\n",
      "AAAAAAAA\n"
     ]
    }
   ],
   "source": [
    "class Parent:    \n",
    "    name = 'AAAAAAAA'\n",
    "    \n",
    "class Child(Parent):\n",
    "    def __init__(self, string):\n",
    "        self.name = string\n",
    "        \n",
    "    def display(self):\n",
    "        print(self.name)\n",
    "        print(super().name)\n",
    "\n",
    "obj = Child('BBBBBBBB')\n",
    "\n",
    "obj.display()"
   ]
  },
  {
   "cell_type": "code",
   "execution_count": 21,
   "id": "3a854484",
   "metadata": {},
   "outputs": [
    {
     "name": "stdout",
     "output_type": "stream",
     "text": [
      "I am in child class\n"
     ]
    }
   ],
   "source": [
    "class Parent:    \n",
    "    def display(self):\n",
    "        print('I am in parent class')\n",
    "    \n",
    "class Child(Parent):\n",
    "    def display(self):\n",
    "        print('I am in child class')\n",
    "\n",
    "obj = Child()\n",
    "\n",
    "obj.display()"
   ]
  },
  {
   "cell_type": "code",
   "execution_count": 20,
   "id": "fc0084b7",
   "metadata": {},
   "outputs": [
    {
     "name": "stdout",
     "output_type": "stream",
     "text": [
      "I am in parent class\n"
     ]
    }
   ],
   "source": [
    "class Parent:    \n",
    "    def display(self):\n",
    "        print('I am in parent class')\n",
    "    \n",
    "class Child(Parent):\n",
    "    def display_child(self):\n",
    "        print('I amm in child class')\n",
    "\n",
    "obj = Child()\n",
    "\n",
    "obj.display()"
   ]
  },
  {
   "cell_type": "markdown",
   "id": "34b185df",
   "metadata": {},
   "source": [
    "### function overriding\n",
    "- rewriting parent class function in child class"
   ]
  },
  {
   "cell_type": "code",
   "execution_count": 24,
   "id": "92df74a3",
   "metadata": {},
   "outputs": [
    {
     "name": "stdout",
     "output_type": "stream",
     "text": [
      "I am in parent class\n",
      "I am in child class\n"
     ]
    }
   ],
   "source": [
    "class Parent:    \n",
    "    def display(self):\n",
    "        print('I am in parent class')\n",
    "    \n",
    "class Child(Parent):\n",
    "    def display(self):\n",
    "        super().display()\n",
    "        print('I am in child class')\n",
    "\n",
    "obj = Child()\n",
    "\n",
    "obj.display()"
   ]
  },
  {
   "cell_type": "code",
   "execution_count": null,
   "id": "68c2bce1",
   "metadata": {},
   "outputs": [],
   "source": []
  },
  {
   "cell_type": "code",
   "execution_count": null,
   "id": "cad0ca82",
   "metadata": {},
   "outputs": [],
   "source": []
  },
  {
   "cell_type": "markdown",
   "id": "19cf96fb",
   "metadata": {},
   "source": [
    "## Types of inheritance"
   ]
  },
  {
   "cell_type": "markdown",
   "id": "16f6bb4a",
   "metadata": {},
   "source": [
    "1. Simple Inheritance\n",
    "2. Multiple Inheritance\n",
    "3. Multilevel Inheritance\n",
    "4. Hybrid Inheritance"
   ]
  },
  {
   "cell_type": "markdown",
   "id": "dfd88df5",
   "metadata": {},
   "source": [
    "### Multilevel inheritance"
   ]
  },
  {
   "cell_type": "code",
   "execution_count": 39,
   "id": "a4d52d56",
   "metadata": {},
   "outputs": [
    {
     "name": "stdout",
     "output_type": "stream",
     "text": [
      "1199011\n",
      "23\n",
      "ABC XYZ\n"
     ]
    }
   ],
   "source": [
    "class Parent:\n",
    "    def __init__(self):\n",
    "        self.name = 'ABC XYZ'\n",
    "\n",
    "class Child(Parent):\n",
    "    def __init__(self):\n",
    "        super().__init__()\n",
    "        self.age = 23\n",
    "        \n",
    "class GrandChild(Child):\n",
    "    def __init__(self):\n",
    "        super().__init__()\n",
    "        self.roll = 1199011\n",
    "\n",
    "obj = GrandChild()\n",
    "print(obj.roll)\n",
    "print(obj.age)\n",
    "print(obj.name)\n"
   ]
  },
  {
   "cell_type": "code",
   "execution_count": 40,
   "id": "d2e6f21e",
   "metadata": {},
   "outputs": [
    {
     "name": "stdout",
     "output_type": "stream",
     "text": [
      "I am in GrandChild\n"
     ]
    }
   ],
   "source": [
    "class Parent:\n",
    "    def display(self):\n",
    "        print('I am in Parent')\n",
    "\n",
    "class Child(Parent):\n",
    "    def display(self):\n",
    "        print('I am in Child')\n",
    "        \n",
    "class GrandChild(Child):\n",
    "    def display(self):\n",
    "        print('I am in GrandChild')\n",
    "\n",
    "obj = GrandChild()\n",
    "obj.display()"
   ]
  },
  {
   "cell_type": "code",
   "execution_count": 44,
   "id": "11a99f53",
   "metadata": {},
   "outputs": [
    {
     "name": "stdout",
     "output_type": "stream",
     "text": [
      "I am in Child\n"
     ]
    }
   ],
   "source": [
    "class Parent:\n",
    "    def display(self):\n",
    "        print('I am in Parent')\n",
    "\n",
    "class Child(Parent):\n",
    "    def display(self):\n",
    "        print('I am in Child')\n",
    "        \n",
    "class GrandChild(Child):\n",
    "    def display_111(self):\n",
    "        print('I am in GrandChild')\n",
    "\n",
    "obj = GrandChild()\n",
    "obj.display()"
   ]
  },
  {
   "cell_type": "code",
   "execution_count": 46,
   "id": "35223ad1",
   "metadata": {},
   "outputs": [
    {
     "name": "stdout",
     "output_type": "stream",
     "text": [
      "I am in Parent\n"
     ]
    }
   ],
   "source": [
    "class Parent:\n",
    "    def display(self):\n",
    "        print('I am in Parent')\n",
    "\n",
    "class Child(Parent):\n",
    "    def display_222(self):\n",
    "        print('I am in Child')\n",
    "        \n",
    "class GrandChild(Child):\n",
    "    def display_111(self):\n",
    "        print('I am in GrandChild')\n",
    "\n",
    "obj = GrandChild()\n",
    "obj.display()"
   ]
  },
  {
   "cell_type": "markdown",
   "id": "f9d060ee",
   "metadata": {},
   "source": [
    "### Multiple inheritance"
   ]
  },
  {
   "cell_type": "code",
   "execution_count": 52,
   "id": "7b275b97",
   "metadata": {},
   "outputs": [
    {
     "name": "stdout",
     "output_type": "stream",
     "text": [
      "I am in child\n",
      "I am in parent 2\n",
      "I am in parent 1\n"
     ]
    }
   ],
   "source": [
    "class Parent1:\n",
    "    def display_1(self):\n",
    "        print('I am in parent 1')\n",
    "        \n",
    "class Parent2:\n",
    "    def display_2(self):\n",
    "        print('I am in parent 2')\n",
    "        \n",
    "class Child(Parent1, Parent2):\n",
    "    def display(self):\n",
    "        print('I am in child')    \n",
    "\n",
    "obj = Child()\n",
    "obj.display()\n",
    "obj.display_2()\n",
    "obj.display_1()"
   ]
  },
  {
   "cell_type": "code",
   "execution_count": 53,
   "id": "19d4e13a",
   "metadata": {},
   "outputs": [
    {
     "name": "stdout",
     "output_type": "stream",
     "text": [
      "I am in parent 1\n"
     ]
    }
   ],
   "source": [
    "class Parent1:\n",
    "    def display(self):\n",
    "        print('I am in parent 1')\n",
    "        \n",
    "class Parent2:\n",
    "    def display(self):\n",
    "        print('I am in parent 2')\n",
    "        \n",
    "class Child(Parent1, Parent2):\n",
    "    def info(self):\n",
    "        print('I am in child')    \n",
    "\n",
    "obj = Child()\n",
    "obj.display()"
   ]
  },
  {
   "cell_type": "code",
   "execution_count": 54,
   "id": "134266f5",
   "metadata": {},
   "outputs": [
    {
     "name": "stdout",
     "output_type": "stream",
     "text": [
      "I am in parent 2\n"
     ]
    }
   ],
   "source": [
    "class Parent1:\n",
    "    def display(self):\n",
    "        print('I am in parent 1')\n",
    "        \n",
    "class Parent2:\n",
    "    def display(self):\n",
    "        print('I am in parent 2')\n",
    "        \n",
    "class Child(Parent2, Parent1):\n",
    "    def info(self):\n",
    "        print('I am in child')    \n",
    "\n",
    "obj = Child()\n",
    "obj.display()"
   ]
  },
  {
   "cell_type": "code",
   "execution_count": null,
   "id": "eb13fa0d",
   "metadata": {},
   "outputs": [],
   "source": [
    "int.__"
   ]
  },
  {
   "cell_type": "code",
   "execution_count": null,
   "id": "74abbe5c",
   "metadata": {},
   "outputs": [],
   "source": []
  },
  {
   "cell_type": "code",
   "execution_count": null,
   "id": "a70ff345",
   "metadata": {},
   "outputs": [],
   "source": []
  },
  {
   "cell_type": "code",
   "execution_count": null,
   "id": "f7e4b114",
   "metadata": {},
   "outputs": [],
   "source": []
  },
  {
   "cell_type": "code",
   "execution_count": null,
   "id": "8da84f9d",
   "metadata": {},
   "outputs": [],
   "source": []
  }
 ],
 "metadata": {
  "kernelspec": {
   "display_name": "Python 3 (ipykernel)",
   "language": "python",
   "name": "python3"
  },
  "language_info": {
   "codemirror_mode": {
    "name": "ipython",
    "version": 3
   },
   "file_extension": ".py",
   "mimetype": "text/x-python",
   "name": "python",
   "nbconvert_exporter": "python",
   "pygments_lexer": "ipython3",
   "version": "3.10.12"
  }
 },
 "nbformat": 4,
 "nbformat_minor": 5
}
