{
 "cells": [
  {
   "cell_type": "markdown",
   "id": "989ea774",
   "metadata": {},
   "source": [
    "# Class"
   ]
  },
  {
   "cell_type": "code",
   "execution_count": 6,
   "id": "ce1ebc81",
   "metadata": {},
   "outputs": [
    {
     "name": "stdout",
     "output_type": "stream",
     "text": [
      "I am in class function\n"
     ]
    }
   ],
   "source": [
    "class Student:    \n",
    "    def fun(self):\n",
    "        print('I am in class function')\n",
    "        \n",
    "\n",
    "object = Student()\n",
    "object.fun()\n"
   ]
  },
  {
   "cell_type": "code",
   "execution_count": 9,
   "id": "2e7ca266",
   "metadata": {},
   "outputs": [
    {
     "name": "stdout",
     "output_type": "stream",
     "text": [
      "I am in call member function\n",
      "Name: Abc\n",
      "Age: 23\n",
      "Roll no: 10034\n"
     ]
    }
   ],
   "source": [
    "class Student: \n",
    "    name = None\n",
    "    age = None\n",
    "    roll_no = None\n",
    "    def __init__(self, name, age, roll_no):\n",
    "        self.name = name\n",
    "        self.age = age\n",
    "        self.roll_no = roll_no\n",
    "    def display(self):\n",
    "        print('I am in call member function')\n",
    "        print('Name:', self.name)\n",
    "        print('Age:', self.age)\n",
    "        print('Roll no:', self.roll_no)\n",
    "        \n",
    "\n",
    "object = Student('Abc', 23, 10034)\n",
    "object.display()"
   ]
  },
  {
   "cell_type": "markdown",
   "id": "3a0307ad",
   "metadata": {},
   "source": [
    "### there shud be first arg in every member function of class that is reference to current object, normally prgrammer name it as 'self', you can replace self with any name like 'vivek' in below code"
   ]
  },
  {
   "cell_type": "code",
   "execution_count": 10,
   "id": "dde3a9da",
   "metadata": {},
   "outputs": [
    {
     "name": "stdout",
     "output_type": "stream",
     "text": [
      "I am in call member function\n",
      "Name: Abc\n",
      "Age: 23\n",
      "Roll no: 10034\n"
     ]
    }
   ],
   "source": [
    "class Student: \n",
    "    name = None\n",
    "    age = None\n",
    "    roll_no = None\n",
    "    def __init__(vivek, name, age, roll_no):\n",
    "        vivek.name = name\n",
    "        vivek.age = age\n",
    "        vivek.roll_no = roll_no\n",
    "    def display(self):\n",
    "        print('I am in call member function')\n",
    "        print('Name:', self.name)\n",
    "        print('Age:', self.age)\n",
    "        print('Roll no:', self.roll_no)\n",
    "        \n",
    "\n",
    "object = Student('Abc', 23, 10034)\n",
    "object.display()"
   ]
  },
  {
   "cell_type": "code",
   "execution_count": 14,
   "id": "fe41b171",
   "metadata": {},
   "outputs": [
    {
     "name": "stdout",
     "output_type": "stream",
     "text": [
      "I am in call member function\n"
     ]
    }
   ],
   "source": [
    "class Student:\n",
    "    def display(self):\n",
    "        print('I am in call member function')       \n",
    "\n",
    "object = Student()\n",
    "object.display()"
   ]
  },
  {
   "cell_type": "code",
   "execution_count": 15,
   "id": "b963d50b",
   "metadata": {},
   "outputs": [
    {
     "name": "stdout",
     "output_type": "stream",
     "text": [
      "I am in call member function\n",
      "Name: Abc\n",
      "Age: 23\n",
      "Roll no: 10034\n"
     ]
    }
   ],
   "source": [
    "class Student: \n",
    "    def __init__(vivek, name, age, roll_no):\n",
    "        vivek.name = name\n",
    "        vivek.age = age\n",
    "        vivek.roll_no = roll_no\n",
    "    def display(self):\n",
    "        print('I am in call member function')\n",
    "        print('Name:', self.name)\n",
    "        print('Age:', self.age)\n",
    "        print('Roll no:', self.roll_no)\n",
    "        \n",
    "\n",
    "object = Student('Abc', 23, 10034)\n",
    "object.display()"
   ]
  },
  {
   "cell_type": "code",
   "execution_count": null,
   "id": "6fc31f49",
   "metadata": {},
   "outputs": [],
   "source": []
  },
  {
   "cell_type": "markdown",
   "id": "21481ec1",
   "metadata": {},
   "source": [
    "# Inheritance"
   ]
  },
  {
   "cell_type": "code",
   "execution_count": 19,
   "id": "46801c7f",
   "metadata": {},
   "outputs": [],
   "source": [
    "class Parent:\n",
    "    pass\n",
    "\n",
    "class Child(Parent):\n",
    "    pass\n",
    "\n",
    "obj = Child()"
   ]
  },
  {
   "cell_type": "code",
   "execution_count": 29,
   "id": "1e0ce9e2",
   "metadata": {},
   "outputs": [
    {
     "name": "stdout",
     "output_type": "stream",
     "text": [
      "John Cena\n",
      "23\n",
      "45000\n"
     ]
    }
   ],
   "source": [
    "class Parent:    \n",
    "    name = 'John Cena'\n",
    "\n",
    "class Child(Parent):\n",
    "    def __init__(self, age, roll):\n",
    "        self.age = age\n",
    "        self.roll = roll\n",
    "    def display_info(self):\n",
    "        print(self.name)\n",
    "        print(self.age)\n",
    "        print(self.roll)\n",
    "\n",
    "obj = Child(23, 45000)\n",
    "obj.display_info()"
   ]
  },
  {
   "cell_type": "code",
   "execution_count": 22,
   "id": "a6b79707",
   "metadata": {},
   "outputs": [
    {
     "name": "stdout",
     "output_type": "stream",
     "text": [
      "John\n"
     ]
    }
   ],
   "source": [
    "class Student:\n",
    "    name = 'John'\n",
    "obj = Student()\n",
    "print(obj.name)"
   ]
  },
  {
   "cell_type": "code",
   "execution_count": 26,
   "id": "286974b8",
   "metadata": {},
   "outputs": [
    {
     "ename": "NameError",
     "evalue": "name 'self' is not defined",
     "output_type": "error",
     "traceback": [
      "\u001b[0;31m---------------------------------------------------------------------------\u001b[0m",
      "\u001b[0;31mNameError\u001b[0m                                 Traceback (most recent call last)",
      "\u001b[0;32m/tmp/ipykernel_564775/3691202826.py\u001b[0m in \u001b[0;36m<module>\u001b[0;34m\u001b[0m\n\u001b[0;32m----> 1\u001b[0;31m \u001b[0;32mclass\u001b[0m \u001b[0mStudent\u001b[0m\u001b[0;34m:\u001b[0m\u001b[0;34m\u001b[0m\u001b[0;34m\u001b[0m\u001b[0m\n\u001b[0m\u001b[1;32m      2\u001b[0m     \u001b[0mself\u001b[0m\u001b[0;34m.\u001b[0m\u001b[0mname\u001b[0m \u001b[0;34m=\u001b[0m \u001b[0;32mNone\u001b[0m\u001b[0;34m\u001b[0m\u001b[0;34m\u001b[0m\u001b[0m\n\u001b[1;32m      3\u001b[0m \u001b[0;34m\u001b[0m\u001b[0m\n\u001b[1;32m      4\u001b[0m     \u001b[0;32mdef\u001b[0m \u001b[0m__init__\u001b[0m\u001b[0;34m(\u001b[0m\u001b[0mself\u001b[0m\u001b[0;34m)\u001b[0m\u001b[0;34m:\u001b[0m\u001b[0;34m\u001b[0m\u001b[0;34m\u001b[0m\u001b[0m\n\u001b[1;32m      5\u001b[0m         \u001b[0mself\u001b[0m\u001b[0;34m.\u001b[0m\u001b[0mname\u001b[0m \u001b[0;34m=\u001b[0m \u001b[0;34m'John'\u001b[0m\u001b[0;34m\u001b[0m\u001b[0;34m\u001b[0m\u001b[0m\n",
      "\u001b[0;32m/tmp/ipykernel_564775/3691202826.py\u001b[0m in \u001b[0;36mStudent\u001b[0;34m()\u001b[0m\n\u001b[1;32m      1\u001b[0m \u001b[0;32mclass\u001b[0m \u001b[0mStudent\u001b[0m\u001b[0;34m:\u001b[0m\u001b[0;34m\u001b[0m\u001b[0;34m\u001b[0m\u001b[0m\n\u001b[0;32m----> 2\u001b[0;31m     \u001b[0mself\u001b[0m\u001b[0;34m.\u001b[0m\u001b[0mname\u001b[0m \u001b[0;34m=\u001b[0m \u001b[0;32mNone\u001b[0m\u001b[0;34m\u001b[0m\u001b[0;34m\u001b[0m\u001b[0m\n\u001b[0m\u001b[1;32m      3\u001b[0m \u001b[0;34m\u001b[0m\u001b[0m\n\u001b[1;32m      4\u001b[0m     \u001b[0;32mdef\u001b[0m \u001b[0m__init__\u001b[0m\u001b[0;34m(\u001b[0m\u001b[0mself\u001b[0m\u001b[0;34m)\u001b[0m\u001b[0;34m:\u001b[0m\u001b[0;34m\u001b[0m\u001b[0;34m\u001b[0m\u001b[0m\n\u001b[1;32m      5\u001b[0m         \u001b[0mself\u001b[0m\u001b[0;34m.\u001b[0m\u001b[0mname\u001b[0m \u001b[0;34m=\u001b[0m \u001b[0;34m'John'\u001b[0m\u001b[0;34m\u001b[0m\u001b[0;34m\u001b[0m\u001b[0m\n",
      "\u001b[0;31mNameError\u001b[0m: name 'self' is not defined"
     ]
    }
   ],
   "source": []
  },
  {
   "cell_type": "code",
   "execution_count": 32,
   "id": "5ac1f2a5",
   "metadata": {},
   "outputs": [
    {
     "name": "stdout",
     "output_type": "stream",
     "text": [
      "John Cena\n",
      "I am in Parenc class\n",
      "Name:  John Cena\n"
     ]
    }
   ],
   "source": [
    "class Parent:    \n",
    "    name = 'John Cena'\n",
    "    \n",
    "    def display_name(self):\n",
    "        print('I am in Parenc class')\n",
    "        print('Name: ', self.name)\n",
    "\n",
    "class Child(Parent):\n",
    "    def __init__(self, age, roll):\n",
    "        self.age = age\n",
    "        self.roll = roll\n",
    "    def display_info(self):\n",
    "        print(self.name)\n",
    "        print(self.age)\n",
    "        print(self.roll)\n",
    "\n",
    "obj = Child(23, 45000)\n",
    "# obj.display_info()\n",
    "print(obj.name)\n",
    "obj.display_name()"
   ]
  },
  {
   "cell_type": "code",
   "execution_count": 43,
   "id": "c2cfba44",
   "metadata": {},
   "outputs": [
    {
     "name": "stdout",
     "output_type": "stream",
     "text": [
      "BBBBBBBB\n",
      "AAAAAAAA\n"
     ]
    }
   ],
   "source": [
    "class Parent:    \n",
    "    name = 'AAAAAAAA'\n",
    "    \n",
    "class Child(Parent):\n",
    "    def __init__(self, string):\n",
    "        self.name = string\n",
    "        \n",
    "    def display(self):\n",
    "        print(self.name)\n",
    "        print(super().name)\n",
    "\n",
    "obj = Child('BBBBBBBB')\n",
    "\n",
    "obj.display()"
   ]
  },
  {
   "cell_type": "code",
   "execution_count": null,
   "id": "d559c264",
   "metadata": {},
   "outputs": [],
   "source": []
  },
  {
   "cell_type": "code",
   "execution_count": null,
   "id": "51bb39d3",
   "metadata": {},
   "outputs": [],
   "source": []
  },
  {
   "cell_type": "code",
   "execution_count": null,
   "id": "ba9cf418",
   "metadata": {},
   "outputs": [],
   "source": []
  },
  {
   "cell_type": "code",
   "execution_count": null,
   "id": "235b9497",
   "metadata": {},
   "outputs": [],
   "source": []
  },
  {
   "cell_type": "code",
   "execution_count": null,
   "id": "2252dd11",
   "metadata": {},
   "outputs": [],
   "source": []
  }
 ],
 "metadata": {
  "kernelspec": {
   "display_name": "Python 3 (ipykernel)",
   "language": "python",
   "name": "python3"
  },
  "language_info": {
   "codemirror_mode": {
    "name": "ipython",
    "version": 3
   },
   "file_extension": ".py",
   "mimetype": "text/x-python",
   "name": "python",
   "nbconvert_exporter": "python",
   "pygments_lexer": "ipython3",
   "version": "3.10.12"
  }
 },
 "nbformat": 4,
 "nbformat_minor": 5
}
