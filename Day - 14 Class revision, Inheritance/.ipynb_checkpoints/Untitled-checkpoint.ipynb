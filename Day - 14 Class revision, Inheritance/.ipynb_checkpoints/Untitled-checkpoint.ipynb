{
 "cells": [
  {
   "cell_type": "markdown",
   "id": "9bdaa34c",
   "metadata": {},
   "source": [
    "# Class"
   ]
  },
  {
   "cell_type": "code",
   "execution_count": 6,
   "id": "b919ebbc",
   "metadata": {},
   "outputs": [
    {
     "name": "stdout",
     "output_type": "stream",
     "text": [
      "I am in class function\n"
     ]
    }
   ],
   "source": [
    "class Student:    \n",
    "    def fun(self):\n",
    "        print('I am in class function')\n",
    "        \n",
    "\n",
    "object = Student()\n",
    "object.fun()\n"
   ]
  },
  {
   "cell_type": "code",
   "execution_count": 9,
   "id": "2f25f32a",
   "metadata": {},
   "outputs": [
    {
     "name": "stdout",
     "output_type": "stream",
     "text": [
      "I am in call member function\n",
      "Name: Abc\n",
      "Age: 23\n",
      "Roll no: 10034\n"
     ]
    }
   ],
   "source": [
    "class Student: \n",
    "    name = None\n",
    "    age = None\n",
    "    roll_no = None\n",
    "    def __init__(self, name, age, roll_no):\n",
    "        self.name = name\n",
    "        self.age = age\n",
    "        self.roll_no = roll_no\n",
    "    def display(self):\n",
    "        print('I am in call member function')\n",
    "        print('Name:', self.name)\n",
    "        print('Age:', self.age)\n",
    "        print('Roll no:', self.roll_no)\n",
    "        \n",
    "\n",
    "object = Student('Abc', 23, 10034)\n",
    "object.display()"
   ]
  },
  {
   "cell_type": "markdown",
   "id": "62dd392b",
   "metadata": {},
   "source": [
    "### there shud be first arg in every member function of class that is reference to current object, normally prgrammer name it as 'self', you can replace self with any name like 'vivek' in below code"
   ]
  },
  {
   "cell_type": "code",
   "execution_count": 10,
   "id": "7578b4eb",
   "metadata": {},
   "outputs": [
    {
     "name": "stdout",
     "output_type": "stream",
     "text": [
      "I am in call member function\n",
      "Name: Abc\n",
      "Age: 23\n",
      "Roll no: 10034\n"
     ]
    }
   ],
   "source": [
    "class Student: \n",
    "    name = None\n",
    "    age = None\n",
    "    roll_no = None\n",
    "    def __init__(vivek, name, age, roll_no):\n",
    "        vivek.name = name\n",
    "        vivek.age = age\n",
    "        vivek.roll_no = roll_no\n",
    "    def display(self):\n",
    "        print('I am in call member function')\n",
    "        print('Name:', self.name)\n",
    "        print('Age:', self.age)\n",
    "        print('Roll no:', self.roll_no)\n",
    "        \n",
    "\n",
    "object = Student('Abc', 23, 10034)\n",
    "object.display()"
   ]
  },
  {
   "cell_type": "code",
   "execution_count": 14,
   "id": "f23e1a1b",
   "metadata": {},
   "outputs": [
    {
     "name": "stdout",
     "output_type": "stream",
     "text": [
      "I am in call member function\n"
     ]
    }
   ],
   "source": [
    "class Student:\n",
    "    def display(self):\n",
    "        print('I am in call member function')       \n",
    "\n",
    "object = Student()\n",
    "object.display()"
   ]
  },
  {
   "cell_type": "code",
   "execution_count": 15,
   "id": "84844378",
   "metadata": {},
   "outputs": [
    {
     "name": "stdout",
     "output_type": "stream",
     "text": [
      "I am in call member function\n",
      "Name: Abc\n",
      "Age: 23\n",
      "Roll no: 10034\n"
     ]
    }
   ],
   "source": [
    "class Student: \n",
    "    def __init__(vivek, name, age, roll_no):\n",
    "        vivek.name = name\n",
    "        vivek.age = age\n",
    "        vivek.roll_no = roll_no\n",
    "    def display(self):\n",
    "        print('I am in call member function')\n",
    "        print('Name:', self.name)\n",
    "        print('Age:', self.age)\n",
    "        print('Roll no:', self.roll_no)\n",
    "        \n",
    "\n",
    "object = Student('Abc', 23, 10034)\n",
    "object.display()"
   ]
  },
  {
   "cell_type": "code",
   "execution_count": null,
   "id": "1ac5acb9",
   "metadata": {},
   "outputs": [],
   "source": []
  },
  {
   "cell_type": "markdown",
   "id": "57ae2678",
   "metadata": {},
   "source": [
    "# Inheritance"
   ]
  },
  {
   "cell_type": "code",
   "execution_count": 19,
   "id": "c0753c16",
   "metadata": {},
   "outputs": [],
   "source": [
    "class Parent:\n",
    "    pass\n",
    "\n",
    "class Child(Parent):\n",
    "    pass\n",
    "\n",
    "obj = Child()"
   ]
  },
  {
   "cell_type": "code",
   "execution_count": null,
   "id": "10c14904",
   "metadata": {},
   "outputs": [],
   "source": [
    "class Parent:    \n",
    "    self.name = 'John Cena'\n",
    "    def disp(self):\n",
    "        print(self.name)\n",
    "\n",
    "class Child(Parent):\n",
    "    def __init__(age, roll):\n",
    "        self.age = age\n",
    "        self.roll = roll\n",
    "\n",
    "obj = Child()"
   ]
  },
  {
   "cell_type": "code",
   "execution_count": null,
   "id": "417d78e2",
   "metadata": {},
   "outputs": [],
   "source": []
  },
  {
   "cell_type": "code",
   "execution_count": null,
   "id": "5b32f5ca",
   "metadata": {},
   "outputs": [],
   "source": []
  },
  {
   "cell_type": "code",
   "execution_count": null,
   "id": "9c5c52a2",
   "metadata": {},
   "outputs": [],
   "source": []
  },
  {
   "cell_type": "code",
   "execution_count": null,
   "id": "f196c037",
   "metadata": {},
   "outputs": [],
   "source": []
  },
  {
   "cell_type": "code",
   "execution_count": null,
   "id": "512ed970",
   "metadata": {},
   "outputs": [],
   "source": []
  },
  {
   "cell_type": "code",
   "execution_count": null,
   "id": "d56bb6af",
   "metadata": {},
   "outputs": [],
   "source": []
  },
  {
   "cell_type": "code",
   "execution_count": null,
   "id": "970ee13b",
   "metadata": {},
   "outputs": [],
   "source": []
  },
  {
   "cell_type": "code",
   "execution_count": null,
   "id": "50ea42e4",
   "metadata": {},
   "outputs": [],
   "source": []
  },
  {
   "cell_type": "code",
   "execution_count": null,
   "id": "35be19fc",
   "metadata": {},
   "outputs": [],
   "source": []
  }
 ],
 "metadata": {
  "kernelspec": {
   "display_name": "Python 3 (ipykernel)",
   "language": "python",
   "name": "python3"
  },
  "language_info": {
   "codemirror_mode": {
    "name": "ipython",
    "version": 3
   },
   "file_extension": ".py",
   "mimetype": "text/x-python",
   "name": "python",
   "nbconvert_exporter": "python",
   "pygments_lexer": "ipython3",
   "version": "3.10.12"
  }
 },
 "nbformat": 4,
 "nbformat_minor": 5
}
