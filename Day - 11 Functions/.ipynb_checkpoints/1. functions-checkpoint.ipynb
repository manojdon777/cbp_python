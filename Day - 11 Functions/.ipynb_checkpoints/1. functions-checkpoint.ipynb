{
 "cells": [
  {
   "cell_type": "code",
   "execution_count": null,
   "id": "aa071594",
   "metadata": {},
   "outputs": [],
   "source": [
    "Functions\n",
    "- Used for wrting subtaks\n",
    "- function can have zero or more return statement\n",
    "- functions can have zero or more parameters\n"
   ]
  },
  {
   "cell_type": "code",
   "execution_count": null,
   "id": "c9575fd4",
   "metadata": {},
   "outputs": [],
   "source": [
    "syntax\n",
    "\n",
    "def funname():\n",
    "    line1\n",
    "    line2\n",
    "    line3\n",
    "    return\n",
    "    "
   ]
  },
  {
   "cell_type": "code",
   "execution_count": null,
   "id": "8c09627a",
   "metadata": {},
   "outputs": [],
   "source": [
    "syntax\n",
    "\n",
    "def funname():\n",
    "    line1\n",
    "    line2\n",
    "line3\n",
    "    \n",
    "    "
   ]
  },
  {
   "cell_type": "code",
   "execution_count": null,
   "id": "f6ab999d",
   "metadata": {},
   "outputs": [],
   "source": []
  },
  {
   "cell_type": "code",
   "execution_count": null,
   "id": "8e62adfb",
   "metadata": {},
   "outputs": [],
   "source": [
    "def abc():\n",
    "    pass"
   ]
  },
  {
   "cell_type": "code",
   "execution_count": null,
   "id": "a9590fba",
   "metadata": {},
   "outputs": [],
   "source": [
    "abc()"
   ]
  },
  {
   "cell_type": "code",
   "execution_count": null,
   "id": "0986059b",
   "metadata": {},
   "outputs": [],
   "source": [
    "def abc():\n",
    "    print('I am in functions block')"
   ]
  },
  {
   "cell_type": "code",
   "execution_count": null,
   "id": "7ad326f3",
   "metadata": {},
   "outputs": [],
   "source": [
    "abc()"
   ]
  },
  {
   "cell_type": "code",
   "execution_count": null,
   "id": "ee9e176b",
   "metadata": {},
   "outputs": [],
   "source": [
    "def abc():\n",
    "    print('I am in functions block')\n",
    "\n",
    "abc()"
   ]
  },
  {
   "cell_type": "code",
   "execution_count": null,
   "id": "da26c24f",
   "metadata": {},
   "outputs": [],
   "source": [
    "abc123()\n",
    "\n",
    "def abc123():\n",
    "    print('I am in functions block')"
   ]
  },
  {
   "cell_type": "code",
   "execution_count": null,
   "id": "104722ac",
   "metadata": {},
   "outputs": [],
   "source": [
    "def abc123():\n",
    "    print('I am in functions block')\n",
    "    \n",
    "abc123()"
   ]
  },
  {
   "cell_type": "code",
   "execution_count": null,
   "id": "1b948535",
   "metadata": {},
   "outputs": [],
   "source": [
    "def abc123():\n",
    "    print('I am in functions block')\n",
    "    \n",
    "print(abc123)"
   ]
  },
  {
   "cell_type": "code",
   "execution_count": null,
   "id": "bbf64f84",
   "metadata": {},
   "outputs": [],
   "source": [
    "def abc123():\n",
    "    print('I am in functions block')\n",
    "    \n",
    "print(abc123())"
   ]
  },
  {
   "cell_type": "code",
   "execution_count": null,
   "id": "2c6f980a",
   "metadata": {},
   "outputs": [],
   "source": [
    "def abc123(): # execute this code on terminal using python interpreter\n",
    "    print('I am in functions block')\n",
    "    return \"This is my return statement\"\n",
    "    \n",
    "abc123()"
   ]
  },
  {
   "cell_type": "code",
   "execution_count": null,
   "id": "bcc430f8",
   "metadata": {},
   "outputs": [],
   "source": [
    "def abc123(): # execute this code on terminal using python interpreter\n",
    "    print('I am in functions block')\n",
    "    return \"This is my return statement\"\n",
    "    \n",
    "print(abc123())"
   ]
  },
  {
   "cell_type": "code",
   "execution_count": null,
   "id": "13eefd1e",
   "metadata": {},
   "outputs": [],
   "source": []
  },
  {
   "cell_type": "code",
   "execution_count": null,
   "id": "1d5c8b76",
   "metadata": {},
   "outputs": [],
   "source": [
    "def xyz(): # this cell has not been executed\n",
    "    print('in xyz')"
   ]
  },
  {
   "cell_type": "code",
   "execution_count": null,
   "id": "e3d7716a",
   "metadata": {},
   "outputs": [],
   "source": [
    "xyz()"
   ]
  },
  {
   "cell_type": "code",
   "execution_count": null,
   "id": "7c9d8d0b",
   "metadata": {},
   "outputs": [],
   "source": [
    "def xyz():\n",
    "    print('in xyz')"
   ]
  },
  {
   "cell_type": "code",
   "execution_count": null,
   "id": "f4f832ff",
   "metadata": {},
   "outputs": [],
   "source": [
    "xyz()"
   ]
  },
  {
   "cell_type": "code",
   "execution_count": null,
   "id": "93d83cbd",
   "metadata": {},
   "outputs": [],
   "source": [
    "def xyz():\n",
    "    print('in xyz')\n",
    "\n",
    "xyz()"
   ]
  },
  {
   "cell_type": "markdown",
   "id": "713c056c",
   "metadata": {},
   "source": [
    "## Function with argument/parameter"
   ]
  },
  {
   "cell_type": "code",
   "execution_count": null,
   "id": "e0415ed1",
   "metadata": {},
   "outputs": [],
   "source": [
    "def fun1(num):\n",
    "    print(num, type(num))\n",
    "\n",
    "fun1(123)"
   ]
  },
  {
   "cell_type": "code",
   "execution_count": null,
   "id": "7512ac32",
   "metadata": {},
   "outputs": [],
   "source": [
    "def fun1(num):\n",
    "    print(num, type(num))\n",
    "\n",
    "fun1(123.456)"
   ]
  },
  {
   "cell_type": "code",
   "execution_count": null,
   "id": "d0b4ed6f",
   "metadata": {},
   "outputs": [],
   "source": [
    "def fun1(num):\n",
    "    print(num, type(num))\n",
    "\n",
    "fun1(['abc', '123'])"
   ]
  },
  {
   "cell_type": "code",
   "execution_count": null,
   "id": "7c858131",
   "metadata": {},
   "outputs": [],
   "source": [
    "def fun1(num):\n",
    "    print(num, type(num))\n",
    "\n",
    "fun1('string line')"
   ]
  },
  {
   "cell_type": "code",
   "execution_count": null,
   "id": "e86b5f26",
   "metadata": {},
   "outputs": [],
   "source": [
    "def divide(divident, divisor):\n",
    "    print(divident// divisor)\n",
    "    \n",
    "divide(444, 4)"
   ]
  },
  {
   "cell_type": "code",
   "execution_count": null,
   "id": "43e5eeb7",
   "metadata": {},
   "outputs": [],
   "source": [
    "def divide(divident, divisor):\n",
    "    print(divident// divisor)\n",
    "    \n",
    "divide(444, 4)"
   ]
  },
  {
   "cell_type": "code",
   "execution_count": null,
   "id": "f8915568",
   "metadata": {},
   "outputs": [],
   "source": [
    "def divide(divident, divisor):\n",
    "    print(divident // divisor)\n",
    "    \n",
    "divide('abc', 'xyz')"
   ]
  },
  {
   "cell_type": "code",
   "execution_count": null,
   "id": "baedd12c",
   "metadata": {},
   "outputs": [],
   "source": [
    "def divide(divident, divisor):\n",
    "    print(divident // divisor)\n",
    "    \n",
    "divide([1,2,3], (11,22,33))"
   ]
  },
  {
   "cell_type": "code",
   "execution_count": null,
   "id": "8dfaa700",
   "metadata": {},
   "outputs": [],
   "source": [
    "def sum(num1, num2):\n",
    "    print(num1 + 2)\n",
    "    \n",
    "sum(1,2)"
   ]
  },
  {
   "cell_type": "code",
   "execution_count": null,
   "id": "4f511446",
   "metadata": {},
   "outputs": [],
   "source": [
    "def sum(num1, num2):\n",
    "    print(num1 + num2)\n",
    "    \n",
    "sum('Cdac','Silchar')"
   ]
  },
  {
   "cell_type": "code",
   "execution_count": null,
   "id": "90f73ebf",
   "metadata": {},
   "outputs": [],
   "source": [
    "def sum(num1, num2):\n",
    "    print(num1 + '-' + num2)\n",
    "    \n",
    "sum('Cdac','Silchar')"
   ]
  },
  {
   "cell_type": "code",
   "execution_count": null,
   "id": "e9faf9f9",
   "metadata": {},
   "outputs": [],
   "source": [
    "def sum(num1, num2):\n",
    "    print(num1 + '-' + num2)\n",
    "    \n",
    "sum(11,22)"
   ]
  },
  {
   "cell_type": "code",
   "execution_count": null,
   "id": "ec585133",
   "metadata": {},
   "outputs": [],
   "source": [
    "def sum(num1, num2):\n",
    "    print(num1 + num2)\n",
    "    \n",
    "sum([11],[22])"
   ]
  },
  {
   "cell_type": "code",
   "execution_count": null,
   "id": "4f532486",
   "metadata": {},
   "outputs": [],
   "source": [
    "def sum(num1, num2):\n",
    "    print(num1 + num2)\n",
    "    \n",
    "sum([1,2,3,4],[11,22,33,44])"
   ]
  },
  {
   "cell_type": "code",
   "execution_count": null,
   "id": "9dc52343",
   "metadata": {},
   "outputs": [],
   "source": [
    "def sum(num1, num2):\n",
    "    print(num1 + num2)\n",
    "    \n",
    "sum((1,2,3,4),(11,22,33,44))"
   ]
  },
  {
   "cell_type": "code",
   "execution_count": null,
   "id": "fa0da696",
   "metadata": {},
   "outputs": [],
   "source": [
    "def my_print(variable):\n",
    "    for item in variable:\n",
    "        print(item, '->', type(item))\n",
    "\n",
    "my_print('Cdac-Silchar')"
   ]
  },
  {
   "cell_type": "code",
   "execution_count": null,
   "id": "305ce453",
   "metadata": {},
   "outputs": [],
   "source": [
    "my_print( [1,2,3,4,5,6,7] )"
   ]
  },
  {
   "cell_type": "code",
   "execution_count": null,
   "id": "97b7b4f2",
   "metadata": {},
   "outputs": [],
   "source": [
    "states = ['Assam', \"Rajasthan\", 'Odisha', 'Telangana']\n",
    "my_print(states)"
   ]
  },
  {
   "cell_type": "code",
   "execution_count": null,
   "id": "659230b4",
   "metadata": {},
   "outputs": [],
   "source": [
    "my_print(12)"
   ]
  },
  {
   "cell_type": "code",
   "execution_count": null,
   "id": "a503cc67",
   "metadata": {},
   "outputs": [],
   "source": [
    "list1 = [11,22,33,44]\n",
    "for  i in list1:\n",
    "    print(i)"
   ]
  },
  {
   "cell_type": "code",
   "execution_count": null,
   "id": "6e94be9b",
   "metadata": {},
   "outputs": [],
   "source": [
    "list1 = 2\n",
    "for i in list1:\n",
    "    print(i)"
   ]
  },
  {
   "cell_type": "code",
   "execution_count": null,
   "id": "93c9b65d",
   "metadata": {},
   "outputs": [],
   "source": [
    "list1 = 2\n",
    "for i in range(list1):\n",
    "    print(i)"
   ]
  },
  {
   "cell_type": "code",
   "execution_count": null,
   "id": "8d409983",
   "metadata": {},
   "outputs": [],
   "source": [
    "def fun_1(num1, num2):\n",
    "    print(f'first = {num1}, second = {num2}')\n",
    "fun_1(11,77)    "
   ]
  },
  {
   "cell_type": "code",
   "execution_count": null,
   "id": "9af2fba0",
   "metadata": {},
   "outputs": [],
   "source": [
    "fun_1(11)"
   ]
  },
  {
   "cell_type": "code",
   "execution_count": null,
   "id": "1a1fbb79",
   "metadata": {},
   "outputs": [],
   "source": [
    "fun_1(11,22,33)"
   ]
  },
  {
   "cell_type": "code",
   "execution_count": null,
   "id": "43c6aaa7",
   "metadata": {},
   "outputs": [],
   "source": [
    "def fun_1(num1, num2):\n",
    "    print(f'first = {num1}, second = {num2}')\n",
    "fun_1([11,77])"
   ]
  },
  {
   "cell_type": "code",
   "execution_count": null,
   "id": "4290a009",
   "metadata": {},
   "outputs": [],
   "source": [
    "def fun_1(num1, num2):\n",
    "    print(f'first = {num1}, second = {num2}')\n",
    "fun_1([11,77], ['aaa', 'bbb'])    "
   ]
  },
  {
   "cell_type": "code",
   "execution_count": null,
   "id": "8fb59adc",
   "metadata": {},
   "outputs": [],
   "source": [
    "def fun_1(num1, num2):\n",
    "    print(f'first = {num1}, second = {num2}')\n",
    "fun_1()"
   ]
  },
  {
   "cell_type": "code",
   "execution_count": null,
   "id": "f473b9a4",
   "metadata": {},
   "outputs": [],
   "source": [
    "# Write a function which generates 4-digit 5 numbers & substract 333 from all.\n",
    "# Result shud be placed in list. Print the list at the end.\n",
    "\n",
    "import random\n",
    "def task():\n",
    "    list1 = []\n",
    "    for i in range(5):\n",
    "        list1.append(random.randint(1000,9999))\n",
    "    \n",
    "    print('Before substracing')\n",
    "    print(list1)\n",
    "    \n",
    "    for i in range(5):\n",
    "        list1[i] = list1[i] - 333\n",
    "\n",
    "    print('After substracing')\n",
    "    print(list1)\n",
    "    \n",
    "        \n",
    "task()"
   ]
  },
  {
   "cell_type": "code",
   "execution_count": null,
   "id": "35639554",
   "metadata": {},
   "outputs": [],
   "source": [
    "list1 = []\n",
    "for i in range(5):\n",
    "    list1.append(7)\n",
    "list1"
   ]
  },
  {
   "cell_type": "code",
   "execution_count": null,
   "id": "a1e8a44f",
   "metadata": {},
   "outputs": [],
   "source": [
    "list1 = []\n",
    "for i in range(5):\n",
    "    list1.append(i)\n",
    "list1"
   ]
  },
  {
   "cell_type": "code",
   "execution_count": null,
   "id": "fabf0597",
   "metadata": {},
   "outputs": [],
   "source": [
    "list1 = []\n",
    "for i in range(5):\n",
    "    list1.append('Amarsingh')\n",
    "list1"
   ]
  },
  {
   "cell_type": "code",
   "execution_count": null,
   "id": "f812df97",
   "metadata": {},
   "outputs": [],
   "source": [
    "import random\n",
    "var = random.randint(1000, 9999)\n",
    "var"
   ]
  },
  {
   "cell_type": "markdown",
   "id": "9fe42c65",
   "metadata": {},
   "source": [
    "## return\n",
    "- it shud be last statement\n",
    "- not complusary to hv return to function\n",
    "- can return multiple return values\n",
    "- anyting written after return statement is unereachable code"
   ]
  },
  {
   "cell_type": "code",
   "execution_count": null,
   "id": "b33694b5",
   "metadata": {},
   "outputs": [],
   "source": [
    "def fun_2():\n",
    "    return 2323\n",
    "fun_2()"
   ]
  },
  {
   "cell_type": "code",
   "execution_count": null,
   "id": "634f2caf",
   "metadata": {},
   "outputs": [],
   "source": [
    "def fun_2():\n",
    "    return 2323\n",
    "    print('fjhdfdhjk') # unreachbale code\n",
    "fun_2()"
   ]
  },
  {
   "cell_type": "code",
   "execution_count": null,
   "id": "b4d1e4bc",
   "metadata": {},
   "outputs": [],
   "source": [
    "def fun_2():\n",
    "   return 'ABC' \n",
    "fun_2()"
   ]
  },
  {
   "cell_type": "code",
   "execution_count": null,
   "id": "5f4900a4",
   "metadata": {},
   "outputs": [],
   "source": [
    "def fun_2():\n",
    "   return ['ABC', 'XYZ', 'PQR'] \n",
    "fun_2()"
   ]
  },
  {
   "cell_type": "code",
   "execution_count": null,
   "id": "04c10a9f",
   "metadata": {},
   "outputs": [],
   "source": [
    "def fun3(num1, num2):\n",
    "    return num1+num2\n",
    "\n",
    "fun3(444,555)"
   ]
  },
  {
   "cell_type": "code",
   "execution_count": null,
   "id": "6041528f",
   "metadata": {},
   "outputs": [],
   "source": [
    "# Write a function which generates 4-digit 5 numbers & substract 333 from all.\n",
    "# Return output in the form of list\n",
    "\n",
    "import random\n",
    "def task():\n",
    "    list1 = []\n",
    "    for i in range(5):\n",
    "        list1.append(random.randint(1000,9999))\n",
    "    \n",
    "    print('Before substracing')\n",
    "    print(list1)\n",
    "    \n",
    "    for i in range(5):\n",
    "        list1[i] = list1[i] - 333\n",
    "    \n",
    "    return list1\n",
    "\n",
    "\n",
    "output = task()\n",
    "print('After substracing')\n",
    "print(output)"
   ]
  },
  {
   "cell_type": "code",
   "execution_count": null,
   "id": "11815782",
   "metadata": {},
   "outputs": [],
   "source": [
    "# Write a function which generates 4-digit 5 numbers & substract 333 from all.\n",
    "# Return output in the form of list\n",
    "\n",
    "import random\n",
    "def task():\n",
    "    list1 = []\n",
    "    print('Before substracing')\n",
    "    for i in range(5):\n",
    "        list1.append(random.randint(1000,9999) - 333)\n",
    "    \n",
    "\n",
    "    print(list1)\n",
    "    \n",
    "#     for i in range(5):\n",
    "#         list1[i] = list1[i] - 333\n",
    "    \n",
    "    return list1\n",
    "\n",
    "\n",
    "output = task()\n",
    "print('After substracing')\n",
    "print(output)"
   ]
  },
  {
   "cell_type": "code",
   "execution_count": null,
   "id": "fb3e7f7a",
   "metadata": {},
   "outputs": [],
   "source": [
    "# Write a function which generates 4-digit 5 numbers & substract 333 from all.\n",
    "# Return output in the form of list\n",
    "\n",
    "import random\n",
    "def task():\n",
    "    return [random.randint(1000,9999)-333 for i in range(5)]\n",
    "           [random.randint(1000,9999)-333 for i in range(5)]\n",
    "\n",
    "output = task()\n",
    "print('After substracing')\n",
    "print(output)"
   ]
  },
  {
   "cell_type": "code",
   "execution_count": null,
   "id": "2d152660",
   "metadata": {},
   "outputs": [],
   "source": [
    "[ 7 for i in range(5)]"
   ]
  },
  {
   "cell_type": "code",
   "execution_count": null,
   "id": "21aee5a9",
   "metadata": {},
   "outputs": [],
   "source": [
    "[ i for i in range(5)]"
   ]
  },
  {
   "cell_type": "code",
   "execution_count": null,
   "id": "4046fe4d",
   "metadata": {},
   "outputs": [],
   "source": [
    "[random.randint(1000,9999) for i in range(5)]"
   ]
  },
  {
   "cell_type": "code",
   "execution_count": null,
   "id": "a237fd5f",
   "metadata": {},
   "outputs": [],
   "source": [
    "[random.randint(1000,9999)-333 for i in range(5)]"
   ]
  },
  {
   "cell_type": "code",
   "execution_count": null,
   "id": "9e8ac132",
   "metadata": {},
   "outputs": [],
   "source": []
  },
  {
   "cell_type": "code",
   "execution_count": null,
   "id": "cff1920d",
   "metadata": {},
   "outputs": [],
   "source": [
    "# Write a function which takes 2 arguments start and end (both included).\n",
    "# Return list with first 5 values and last 5 values and substract 1 from them\n",
    "# for the range of numbers start to end.\n",
    "\n",
    "\n",
    "def task2(start, end):\n",
    "    result = []\n",
    "    for i in range(start, start+5):\n",
    "        result.append(i)\n",
    "#     print(result)\n",
    "    for i in range(end, end - 5, -1):\n",
    "        result.append(i)\n",
    "#     print(result)\n",
    "    for i in range(10):\n",
    "        result[i] = result[i] - 1\n",
    "    return result\n",
    "\n",
    "task2(7, 35)"
   ]
  },
  {
   "cell_type": "code",
   "execution_count": null,
   "id": "a6ed3c7a",
   "metadata": {},
   "outputs": [],
   "source": [
    "task2(123,676)"
   ]
  },
  {
   "cell_type": "code",
   "execution_count": null,
   "id": "5fc9d16c",
   "metadata": {},
   "outputs": [],
   "source": [
    "# Write a function which takes 2 arguments start and end (both included).\n",
    "# Return list with first 5 values and last 5 values and substract 1\n",
    "# from them for the range of numbers start to end.\n",
    "\n",
    "\n",
    "def task2(start, end):\n",
    "    result = []\n",
    "    for i in range(start, start+5):\n",
    "        result.append(i)\n",
    "#     print(result)\n",
    "    for i in range(end, end - 5, -1):\n",
    "        result.append(i)\n",
    "#     print(result)\n",
    "    return [i-1 for i in result]\n",
    "\n",
    "task2(7, 35)"
   ]
  },
  {
   "cell_type": "code",
   "execution_count": null,
   "id": "a2d54fb5",
   "metadata": {},
   "outputs": [],
   "source": [
    "fullform = ['Madhya Pradesh', 'uttar pradesh',\n",
    "            'Electoral directorate',\n",
    "            'central bureau Of investigation']\n",
    "fullform"
   ]
  },
  {
   "cell_type": "code",
   "execution_count": null,
   "id": "31191b8c",
   "metadata": {},
   "outputs": [],
   "source": [
    "def short_form(variable):\n",
    "    for var in variable:\n",
    "        temp_list = var.split()\n",
    "        for i in temp_list:\n",
    "            if i.lower() != 'of':\n",
    "                print(f'{i[0].upper()}.', end = '')\n",
    "        print()\n",
    "            \n",
    "\n",
    "short_form(fullform)"
   ]
  },
  {
   "cell_type": "code",
   "execution_count": null,
   "id": "0cc05965",
   "metadata": {},
   "outputs": [],
   "source": [
    "def first_two_letters(cities):\n",
    "    result = []\n",
    "    for i in cities:\n",
    "        result.append(i[0:2])\n",
    "    return result\n",
    "\n",
    "\n",
    "\n",
    "cities = ['Kohima', 'Bhubaneswar', 'Chandigarh', 'Jaipur',\n",
    "          'Gangtok', 'Chennai', 'Hyderabad',\n",
    "          'Agartala', 'Lucknow', 'Dehradun', 'Kolkata']\n",
    "first_two_letters(cities)"
   ]
  },
  {
   "cell_type": "code",
   "execution_count": null,
   "id": "6184d06e",
   "metadata": {},
   "outputs": [],
   "source": [
    "# output = ['Ko', 'Bh', 'Ch', 'Ja', 'Ga', 'Ch', 'Hy', 'Ag', 'Lu', 'De', 'Ko']"
   ]
  },
  {
   "cell_type": "code",
   "execution_count": null,
   "id": "c41a6828",
   "metadata": {},
   "outputs": [],
   "source": [
    "# write a function to return sum of list elements.\n",
    "def my_sum(variable):\n",
    "    sum1 = 0\n",
    "#     print('In my Function', variable)\n",
    "    for i in variable:\n",
    "        sum1 = sum1 + i\n",
    "    print(sum1)\n",
    "    \n",
    "\n",
    "# list1 = [11,22,33,44,55,66,77,88,99]\n",
    "list1 = [i for i in range(1,11)]\n",
    "my_sum(list1)"
   ]
  },
  {
   "cell_type": "code",
   "execution_count": 1,
   "id": "37f4d50d",
   "metadata": {},
   "outputs": [
    {
     "data": {
      "text/plain": [
       "55"
      ]
     },
     "execution_count": 1,
     "metadata": {},
     "output_type": "execute_result"
    }
   ],
   "source": [
    "# write a function to return sum of list elements.\n",
    "def my_sum(variable):\n",
    "    return sum(variable)\n",
    "    \n",
    "\n",
    "# list1 = [11,22,33,44,55,66,77,88,99]\n",
    "list1 = [i for i in range(1,11)]\n",
    "my_sum(list1)"
   ]
  },
  {
   "cell_type": "code",
   "execution_count": 12,
   "id": "bdb927e3",
   "metadata": {},
   "outputs": [
    {
     "data": {
      "text/plain": [
       "[111, 222, 333, 444, 555, 666, 777, 888, 999]"
      ]
     },
     "execution_count": 12,
     "metadata": {},
     "output_type": "execute_result"
    }
   ],
   "source": [
    "# list1 = [111,222,333,444,555,666,777,888,999]\n",
    "result = []\n",
    "for i in range(1,10):\n",
    "    result.append(triplet(i))\n",
    "result\n",
    "    \n",
    "    "
   ]
  },
  {
   "cell_type": "code",
   "execution_count": 13,
   "id": "92272359",
   "metadata": {},
   "outputs": [
    {
     "data": {
      "text/plain": [
       "[111, 222, 333, 444, 555, 666, 777, 888, 999]"
      ]
     },
     "execution_count": 13,
     "metadata": {},
     "output_type": "execute_result"
    }
   ],
   "source": [
    "[var*111 for var in range(1,10)]"
   ]
  },
  {
   "cell_type": "code",
   "execution_count": 14,
   "id": "6050493c",
   "metadata": {},
   "outputs": [
    {
     "data": {
      "text/plain": [
       "[111, 222, 333, 444, 555, 666, 777, 888, 999]"
      ]
     },
     "execution_count": 14,
     "metadata": {},
     "output_type": "execute_result"
    }
   ],
   "source": [
    "def hectic_task():\n",
    "    return [var*111 for var in range(1,10)]\n",
    "hectic_task()"
   ]
  },
  {
   "cell_type": "code",
   "execution_count": 15,
   "id": "584abd68",
   "metadata": {},
   "outputs": [
    {
     "data": {
      "text/plain": [
       "[111, 222, 333, 444, 555, 666, 777, 888, 999]"
      ]
     },
     "execution_count": 15,
     "metadata": {},
     "output_type": "execute_result"
    }
   ],
   "source": [
    "def hectic_task():\n",
    "    return [triplet(var) for var in range(1,10)]\n",
    "hectic_task()"
   ]
  },
  {
   "cell_type": "code",
   "execution_count": null,
   "id": "8e2bad71",
   "metadata": {},
   "outputs": [],
   "source": []
  },
  {
   "cell_type": "code",
   "execution_count": 7,
   "id": "f11c4f79",
   "metadata": {},
   "outputs": [],
   "source": [
    "def triplet(num):\n",
    "    return num*111"
   ]
  },
  {
   "cell_type": "code",
   "execution_count": 8,
   "id": "117d6fba",
   "metadata": {},
   "outputs": [
    {
     "data": {
      "text/plain": [
       "222"
      ]
     },
     "execution_count": 8,
     "metadata": {},
     "output_type": "execute_result"
    }
   ],
   "source": [
    "triplet(2)"
   ]
  },
  {
   "cell_type": "code",
   "execution_count": 9,
   "id": "ef196cb9",
   "metadata": {},
   "outputs": [
    {
     "data": {
      "text/plain": [
       "666"
      ]
     },
     "execution_count": 9,
     "metadata": {},
     "output_type": "execute_result"
    }
   ],
   "source": [
    "triplet(6)"
   ]
  },
  {
   "cell_type": "code",
   "execution_count": 17,
   "id": "53a46a11",
   "metadata": {},
   "outputs": [
    {
     "data": {
      "text/plain": [
       "[111, 222, 333, 444, 555, 666, 777, 888, 999]"
      ]
     },
     "execution_count": 17,
     "metadata": {},
     "output_type": "execute_result"
    }
   ],
   "source": [
    "def hectic_task_modified():\n",
    "    return [triplet_modified(var) for var in range(1,10)]\n",
    "\n",
    "def triplet_modified(num):\n",
    "    return num*111\n",
    "\n",
    "hectic_task_modified()"
   ]
  },
  {
   "cell_type": "code",
   "execution_count": 18,
   "id": "2fab398e",
   "metadata": {},
   "outputs": [
    {
     "data": {
      "text/plain": [
       "[111, 222, 333, 444, 555, 666, 777, 888, 999]"
      ]
     },
     "execution_count": 18,
     "metadata": {},
     "output_type": "execute_result"
    }
   ],
   "source": [
    "def hectic_task_modified():\n",
    "    return [triplet_modified(var) for var in range(1,10)]\n",
    "\n",
    "def triplet_modified(num):\n",
    "    return num*111\n",
    "\n",
    "hectic_task_modified()"
   ]
  },
  {
   "cell_type": "code",
   "execution_count": 30,
   "id": "d945cae8",
   "metadata": {},
   "outputs": [
    {
     "name": "stdout",
     "output_type": "stream",
     "text": [
      "Enter number34\n",
      "34 * 1 = 34\n",
      "34 * 2 = 68\n",
      "34 * 3 = 102\n",
      "34 * 4 = 136\n",
      "34 * 5 = 170\n",
      "34 * 6 = 204\n",
      "34 * 7 = 238\n",
      "34 * 8 = 272\n",
      "34 * 9 = 306\n",
      "34 * 10 = 340\n"
     ]
    }
   ],
   "source": [
    "def table(num):\n",
    "    for i in range(1, 11):\n",
    "        print(f'{num} * {i} = {num*i}')\n",
    "#     print(f'{num} * 2 = {num*2}')\n",
    "#     print(f'{num} * 3 = {num*3}')\n",
    "\n",
    "var = input('Enter number')\n",
    "table(int(var))\n"
   ]
  },
  {
   "cell_type": "code",
   "execution_count": null,
   "id": "0d6883dc",
   "metadata": {},
   "outputs": [],
   "source": [
    "# write a function to return product of list elements.\n",
    "def my_product(variable):\n",
    "    sum1 = 0\n",
    "#     print('In my Function', variable)\n",
    "    for i in variable:\n",
    "        sum1 = sum1 + i\n",
    "    print(sum1)\n",
    "    \n",
    "\n",
    "# list1 = [11,22,33,44,55,66,77,88,99]\n",
    "list1 = [i for i in range(1,11)]\n",
    "print(list1)\n",
    "my_product(list1)"
   ]
  },
  {
   "cell_type": "code",
   "execution_count": null,
   "id": "2b6cab2d",
   "metadata": {},
   "outputs": [],
   "source": []
  },
  {
   "cell_type": "code",
   "execution_count": null,
   "id": "8806304c",
   "metadata": {},
   "outputs": [],
   "source": []
  },
  {
   "cell_type": "code",
   "execution_count": null,
   "id": "c8e5a6cb",
   "metadata": {},
   "outputs": [],
   "source": []
  },
  {
   "cell_type": "code",
   "execution_count": null,
   "id": "868505cf",
   "metadata": {},
   "outputs": [],
   "source": []
  },
  {
   "cell_type": "code",
   "execution_count": null,
   "id": "e3757848",
   "metadata": {},
   "outputs": [],
   "source": []
  }
 ],
 "metadata": {
  "kernelspec": {
   "display_name": "Python 3 (ipykernel)",
   "language": "python",
   "name": "python3"
  },
  "language_info": {
   "codemirror_mode": {
    "name": "ipython",
    "version": 3
   },
   "file_extension": ".py",
   "mimetype": "text/x-python",
   "name": "python",
   "nbconvert_exporter": "python",
   "pygments_lexer": "ipython3",
   "version": "3.10.12"
  }
 },
 "nbformat": 4,
 "nbformat_minor": 5
}
