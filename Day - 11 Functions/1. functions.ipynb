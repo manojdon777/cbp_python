{
 "cells": [
  {
   "cell_type": "code",
   "execution_count": null,
   "id": "7d9f581b",
   "metadata": {},
   "outputs": [],
   "source": [
    "Functions\n",
    "- Used for wrting subtaks\n",
    "- function can have zero or more return statement\n",
    "- functions can have zero or more parameters\n"
   ]
  },
  {
   "cell_type": "code",
   "execution_count": 2,
   "id": "8eb35466",
   "metadata": {},
   "outputs": [],
   "source": [
    "syntax\n",
    "\n",
    "def funname():\n",
    "    line1\n",
    "    line2\n",
    "    line3\n",
    "    return\n",
    "    "
   ]
  },
  {
   "cell_type": "code",
   "execution_count": null,
   "id": "ac8e80fa",
   "metadata": {},
   "outputs": [],
   "source": [
    "syntax\n",
    "\n",
    "def funname():\n",
    "    line1\n",
    "    line2\n",
    "line3\n",
    "    \n",
    "    "
   ]
  },
  {
   "cell_type": "code",
   "execution_count": null,
   "id": "1d030f04",
   "metadata": {},
   "outputs": [],
   "source": []
  },
  {
   "cell_type": "code",
   "execution_count": 3,
   "id": "754af7f8",
   "metadata": {},
   "outputs": [],
   "source": [
    "def abc():\n",
    "    pass"
   ]
  },
  {
   "cell_type": "code",
   "execution_count": 4,
   "id": "c58fc595",
   "metadata": {},
   "outputs": [],
   "source": [
    "abc()"
   ]
  },
  {
   "cell_type": "code",
   "execution_count": 5,
   "id": "1e3e672e",
   "metadata": {},
   "outputs": [],
   "source": [
    "def abc():\n",
    "    print('I am in functions block')"
   ]
  },
  {
   "cell_type": "code",
   "execution_count": 6,
   "id": "45d745b1",
   "metadata": {},
   "outputs": [
    {
     "name": "stdout",
     "output_type": "stream",
     "text": [
      "I am in functions block\n"
     ]
    }
   ],
   "source": [
    "abc()"
   ]
  },
  {
   "cell_type": "code",
   "execution_count": 14,
   "id": "fbbe409c",
   "metadata": {},
   "outputs": [
    {
     "name": "stdout",
     "output_type": "stream",
     "text": [
      "I am in functions block\n"
     ]
    }
   ],
   "source": [
    "def abc():\n",
    "    print('I am in functions block')\n",
    "\n",
    "abc()"
   ]
  },
  {
   "cell_type": "code",
   "execution_count": 15,
   "id": "6b727c31",
   "metadata": {},
   "outputs": [
    {
     "ename": "NameError",
     "evalue": "name 'abc123' is not defined",
     "output_type": "error",
     "traceback": [
      "\u001b[0;31m---------------------------------------------------------------------------\u001b[0m",
      "\u001b[0;31mNameError\u001b[0m                                 Traceback (most recent call last)",
      "\u001b[0;32m/tmp/ipykernel_19270/1306027281.py\u001b[0m in \u001b[0;36m<module>\u001b[0;34m\u001b[0m\n\u001b[0;32m----> 1\u001b[0;31m \u001b[0mabc123\u001b[0m\u001b[0;34m(\u001b[0m\u001b[0;34m)\u001b[0m\u001b[0;34m\u001b[0m\u001b[0;34m\u001b[0m\u001b[0m\n\u001b[0m\u001b[1;32m      2\u001b[0m \u001b[0;34m\u001b[0m\u001b[0m\n\u001b[1;32m      3\u001b[0m \u001b[0;32mdef\u001b[0m \u001b[0mabc123\u001b[0m\u001b[0;34m(\u001b[0m\u001b[0;34m)\u001b[0m\u001b[0;34m:\u001b[0m\u001b[0;34m\u001b[0m\u001b[0;34m\u001b[0m\u001b[0m\n\u001b[1;32m      4\u001b[0m     \u001b[0mprint\u001b[0m\u001b[0;34m(\u001b[0m\u001b[0;34m'I am in functions block'\u001b[0m\u001b[0;34m)\u001b[0m\u001b[0;34m\u001b[0m\u001b[0;34m\u001b[0m\u001b[0m\n",
      "\u001b[0;31mNameError\u001b[0m: name 'abc123' is not defined"
     ]
    }
   ],
   "source": [
    "abc123()\n",
    "\n",
    "def abc123():\n",
    "    print('I am in functions block')"
   ]
  },
  {
   "cell_type": "code",
   "execution_count": 16,
   "id": "003a5fdf",
   "metadata": {},
   "outputs": [
    {
     "name": "stdout",
     "output_type": "stream",
     "text": [
      "I am in functions block\n"
     ]
    }
   ],
   "source": [
    "def abc123():\n",
    "    print('I am in functions block')\n",
    "    \n",
    "abc123()"
   ]
  },
  {
   "cell_type": "code",
   "execution_count": 18,
   "id": "f71bb8a1",
   "metadata": {},
   "outputs": [
    {
     "name": "stdout",
     "output_type": "stream",
     "text": [
      "<function abc123 at 0x7f3078601b40>\n"
     ]
    }
   ],
   "source": [
    "def abc123():\n",
    "    print('I am in functions block')\n",
    "    \n",
    "print(abc123)"
   ]
  },
  {
   "cell_type": "code",
   "execution_count": 19,
   "id": "c704edea",
   "metadata": {},
   "outputs": [
    {
     "name": "stdout",
     "output_type": "stream",
     "text": [
      "I am in functions block\n",
      "None\n"
     ]
    }
   ],
   "source": [
    "def abc123():\n",
    "    print('I am in functions block')\n",
    "    \n",
    "print(abc123())"
   ]
  },
  {
   "cell_type": "code",
   "execution_count": 20,
   "id": "585e774d",
   "metadata": {},
   "outputs": [
    {
     "name": "stdout",
     "output_type": "stream",
     "text": [
      "I am in functions block\n"
     ]
    },
    {
     "data": {
      "text/plain": [
       "'This is my return statement'"
      ]
     },
     "execution_count": 20,
     "metadata": {},
     "output_type": "execute_result"
    }
   ],
   "source": [
    "def abc123(): # execute this code on terminal using python interpreter\n",
    "    print('I am in functions block')\n",
    "    return \"This is my return statement\"\n",
    "    \n",
    "abc123()"
   ]
  },
  {
   "cell_type": "code",
   "execution_count": null,
   "id": "e7dea567",
   "metadata": {},
   "outputs": [],
   "source": [
    "def abc123(): # execute this code on terminal using python interpreter\n",
    "    print('I am in functions block')\n",
    "    return \"This is my return statement\"\n",
    "    \n",
    "print(abc123())"
   ]
  },
  {
   "cell_type": "code",
   "execution_count": null,
   "id": "3a0e046b",
   "metadata": {},
   "outputs": [],
   "source": []
  },
  {
   "cell_type": "code",
   "execution_count": null,
   "id": "e7949ef5",
   "metadata": {},
   "outputs": [],
   "source": [
    "def xyz(): # this cell has not been executed\n",
    "    print('in xyz')"
   ]
  },
  {
   "cell_type": "code",
   "execution_count": 7,
   "id": "b44d4368",
   "metadata": {},
   "outputs": [
    {
     "ename": "NameError",
     "evalue": "name 'xyz' is not defined",
     "output_type": "error",
     "traceback": [
      "\u001b[0;31m---------------------------------------------------------------------------\u001b[0m",
      "\u001b[0;31mNameError\u001b[0m                                 Traceback (most recent call last)",
      "\u001b[0;32m/tmp/ipykernel_19270/2455762604.py\u001b[0m in \u001b[0;36m<module>\u001b[0;34m\u001b[0m\n\u001b[0;32m----> 1\u001b[0;31m \u001b[0mxyz\u001b[0m\u001b[0;34m(\u001b[0m\u001b[0;34m)\u001b[0m\u001b[0;34m\u001b[0m\u001b[0;34m\u001b[0m\u001b[0m\n\u001b[0m",
      "\u001b[0;31mNameError\u001b[0m: name 'xyz' is not defined"
     ]
    }
   ],
   "source": [
    "xyz()"
   ]
  },
  {
   "cell_type": "code",
   "execution_count": 9,
   "id": "95145627",
   "metadata": {},
   "outputs": [],
   "source": [
    "def xyz():\n",
    "    print('in xyz')"
   ]
  },
  {
   "cell_type": "code",
   "execution_count": 10,
   "id": "d475a799",
   "metadata": {},
   "outputs": [
    {
     "name": "stdout",
     "output_type": "stream",
     "text": [
      "in xyz\n"
     ]
    }
   ],
   "source": [
    "xyz()"
   ]
  },
  {
   "cell_type": "code",
   "execution_count": 11,
   "id": "dc316bc5",
   "metadata": {},
   "outputs": [
    {
     "name": "stdout",
     "output_type": "stream",
     "text": [
      "in xyz\n"
     ]
    }
   ],
   "source": [
    "def xyz():\n",
    "    print('in xyz')\n",
    "\n",
    "xyz()"
   ]
  },
  {
   "cell_type": "markdown",
   "id": "851cc5db",
   "metadata": {},
   "source": [
    "## Function with argument/parameter"
   ]
  },
  {
   "cell_type": "code",
   "execution_count": 22,
   "id": "22ff77b4",
   "metadata": {},
   "outputs": [
    {
     "name": "stdout",
     "output_type": "stream",
     "text": [
      "123 <class 'int'>\n"
     ]
    }
   ],
   "source": [
    "def fun1(num):\n",
    "    print(num, type(num))\n",
    "\n",
    "fun1(123)"
   ]
  },
  {
   "cell_type": "code",
   "execution_count": 23,
   "id": "255796f5",
   "metadata": {},
   "outputs": [
    {
     "name": "stdout",
     "output_type": "stream",
     "text": [
      "123.456 <class 'float'>\n"
     ]
    }
   ],
   "source": [
    "def fun1(num):\n",
    "    print(num, type(num))\n",
    "\n",
    "fun1(123.456)"
   ]
  },
  {
   "cell_type": "code",
   "execution_count": 24,
   "id": "bff3cb75",
   "metadata": {},
   "outputs": [
    {
     "name": "stdout",
     "output_type": "stream",
     "text": [
      "['abc', '123'] <class 'list'>\n"
     ]
    }
   ],
   "source": [
    "def fun1(num):\n",
    "    print(num, type(num))\n",
    "\n",
    "fun1(['abc', '123'])"
   ]
  },
  {
   "cell_type": "code",
   "execution_count": 25,
   "id": "042371d9",
   "metadata": {},
   "outputs": [
    {
     "name": "stdout",
     "output_type": "stream",
     "text": [
      "string line <class 'str'>\n"
     ]
    }
   ],
   "source": [
    "def fun1(num):\n",
    "    print(num, type(num))\n",
    "\n",
    "fun1('string line')"
   ]
  },
  {
   "cell_type": "code",
   "execution_count": 26,
   "id": "9461cf39",
   "metadata": {},
   "outputs": [
    {
     "name": "stdout",
     "output_type": "stream",
     "text": [
      "111\n"
     ]
    }
   ],
   "source": [
    "def divide(divident, divisor):\n",
    "    print(divident// divisor)\n",
    "    \n",
    "divide(444, 4)"
   ]
  },
  {
   "cell_type": "code",
   "execution_count": null,
   "id": "02a9b043",
   "metadata": {},
   "outputs": [],
   "source": [
    "def divide(divident, divisor):\n",
    "    print(divident// divisor)\n",
    "    \n",
    "divide(444, 4)"
   ]
  },
  {
   "cell_type": "code",
   "execution_count": 33,
   "id": "b18c8408",
   "metadata": {},
   "outputs": [
    {
     "ename": "TypeError",
     "evalue": "unsupported operand type(s) for //: 'str' and 'str'",
     "output_type": "error",
     "traceback": [
      "\u001b[0;31m---------------------------------------------------------------------------\u001b[0m",
      "\u001b[0;31mTypeError\u001b[0m                                 Traceback (most recent call last)",
      "\u001b[0;32m/tmp/ipykernel_19270/981005539.py\u001b[0m in \u001b[0;36m<module>\u001b[0;34m\u001b[0m\n\u001b[1;32m      2\u001b[0m     \u001b[0mprint\u001b[0m\u001b[0;34m(\u001b[0m\u001b[0mdivident\u001b[0m\u001b[0;34m//\u001b[0m \u001b[0mdivisor\u001b[0m\u001b[0;34m)\u001b[0m\u001b[0;34m\u001b[0m\u001b[0;34m\u001b[0m\u001b[0m\n\u001b[1;32m      3\u001b[0m \u001b[0;34m\u001b[0m\u001b[0m\n\u001b[0;32m----> 4\u001b[0;31m \u001b[0mdivide\u001b[0m\u001b[0;34m(\u001b[0m\u001b[0;34m'abc'\u001b[0m\u001b[0;34m,\u001b[0m \u001b[0;34m'xyz'\u001b[0m\u001b[0;34m)\u001b[0m\u001b[0;34m\u001b[0m\u001b[0;34m\u001b[0m\u001b[0m\n\u001b[0m",
      "\u001b[0;32m/tmp/ipykernel_19270/981005539.py\u001b[0m in \u001b[0;36mdivide\u001b[0;34m(divident, divisor)\u001b[0m\n\u001b[1;32m      1\u001b[0m \u001b[0;32mdef\u001b[0m \u001b[0mdivide\u001b[0m\u001b[0;34m(\u001b[0m\u001b[0mdivident\u001b[0m\u001b[0;34m,\u001b[0m \u001b[0mdivisor\u001b[0m\u001b[0;34m)\u001b[0m\u001b[0;34m:\u001b[0m\u001b[0;34m\u001b[0m\u001b[0;34m\u001b[0m\u001b[0m\n\u001b[0;32m----> 2\u001b[0;31m     \u001b[0mprint\u001b[0m\u001b[0;34m(\u001b[0m\u001b[0mdivident\u001b[0m\u001b[0;34m//\u001b[0m \u001b[0mdivisor\u001b[0m\u001b[0;34m)\u001b[0m\u001b[0;34m\u001b[0m\u001b[0;34m\u001b[0m\u001b[0m\n\u001b[0m\u001b[1;32m      3\u001b[0m \u001b[0;34m\u001b[0m\u001b[0m\n\u001b[1;32m      4\u001b[0m \u001b[0mdivide\u001b[0m\u001b[0;34m(\u001b[0m\u001b[0;34m'abc'\u001b[0m\u001b[0;34m,\u001b[0m \u001b[0;34m'xyz'\u001b[0m\u001b[0;34m)\u001b[0m\u001b[0;34m\u001b[0m\u001b[0;34m\u001b[0m\u001b[0m\n",
      "\u001b[0;31mTypeError\u001b[0m: unsupported operand type(s) for //: 'str' and 'str'"
     ]
    }
   ],
   "source": [
    "def divide(divident, divisor):\n",
    "    print(divident // divisor)\n",
    "    \n",
    "divide('abc', 'xyz')"
   ]
  },
  {
   "cell_type": "code",
   "execution_count": 34,
   "id": "59492a95",
   "metadata": {},
   "outputs": [
    {
     "ename": "TypeError",
     "evalue": "unsupported operand type(s) for //: 'list' and 'tuple'",
     "output_type": "error",
     "traceback": [
      "\u001b[0;31m---------------------------------------------------------------------------\u001b[0m",
      "\u001b[0;31mTypeError\u001b[0m                                 Traceback (most recent call last)",
      "\u001b[0;32m/tmp/ipykernel_19270/3682043178.py\u001b[0m in \u001b[0;36m<module>\u001b[0;34m\u001b[0m\n\u001b[1;32m      2\u001b[0m     \u001b[0mprint\u001b[0m\u001b[0;34m(\u001b[0m\u001b[0mdivident\u001b[0m \u001b[0;34m//\u001b[0m \u001b[0mdivisor\u001b[0m\u001b[0;34m)\u001b[0m\u001b[0;34m\u001b[0m\u001b[0;34m\u001b[0m\u001b[0m\n\u001b[1;32m      3\u001b[0m \u001b[0;34m\u001b[0m\u001b[0m\n\u001b[0;32m----> 4\u001b[0;31m \u001b[0mdivide\u001b[0m\u001b[0;34m(\u001b[0m\u001b[0;34m[\u001b[0m\u001b[0;36m1\u001b[0m\u001b[0;34m,\u001b[0m\u001b[0;36m2\u001b[0m\u001b[0;34m,\u001b[0m\u001b[0;36m3\u001b[0m\u001b[0;34m]\u001b[0m\u001b[0;34m,\u001b[0m \u001b[0;34m(\u001b[0m\u001b[0;36m11\u001b[0m\u001b[0;34m,\u001b[0m\u001b[0;36m22\u001b[0m\u001b[0;34m,\u001b[0m\u001b[0;36m33\u001b[0m\u001b[0;34m)\u001b[0m\u001b[0;34m)\u001b[0m\u001b[0;34m\u001b[0m\u001b[0;34m\u001b[0m\u001b[0m\n\u001b[0m",
      "\u001b[0;32m/tmp/ipykernel_19270/3682043178.py\u001b[0m in \u001b[0;36mdivide\u001b[0;34m(divident, divisor)\u001b[0m\n\u001b[1;32m      1\u001b[0m \u001b[0;32mdef\u001b[0m \u001b[0mdivide\u001b[0m\u001b[0;34m(\u001b[0m\u001b[0mdivident\u001b[0m\u001b[0;34m,\u001b[0m \u001b[0mdivisor\u001b[0m\u001b[0;34m)\u001b[0m\u001b[0;34m:\u001b[0m\u001b[0;34m\u001b[0m\u001b[0;34m\u001b[0m\u001b[0m\n\u001b[0;32m----> 2\u001b[0;31m     \u001b[0mprint\u001b[0m\u001b[0;34m(\u001b[0m\u001b[0mdivident\u001b[0m \u001b[0;34m//\u001b[0m \u001b[0mdivisor\u001b[0m\u001b[0;34m)\u001b[0m\u001b[0;34m\u001b[0m\u001b[0;34m\u001b[0m\u001b[0m\n\u001b[0m\u001b[1;32m      3\u001b[0m \u001b[0;34m\u001b[0m\u001b[0m\n\u001b[1;32m      4\u001b[0m \u001b[0mdivide\u001b[0m\u001b[0;34m(\u001b[0m\u001b[0;34m[\u001b[0m\u001b[0;36m1\u001b[0m\u001b[0;34m,\u001b[0m\u001b[0;36m2\u001b[0m\u001b[0;34m,\u001b[0m\u001b[0;36m3\u001b[0m\u001b[0;34m]\u001b[0m\u001b[0;34m,\u001b[0m \u001b[0;34m(\u001b[0m\u001b[0;36m11\u001b[0m\u001b[0;34m,\u001b[0m\u001b[0;36m22\u001b[0m\u001b[0;34m,\u001b[0m\u001b[0;36m33\u001b[0m\u001b[0;34m)\u001b[0m\u001b[0;34m)\u001b[0m\u001b[0;34m\u001b[0m\u001b[0;34m\u001b[0m\u001b[0m\n",
      "\u001b[0;31mTypeError\u001b[0m: unsupported operand type(s) for //: 'list' and 'tuple'"
     ]
    }
   ],
   "source": [
    "def divide(divident, divisor):\n",
    "    print(divident // divisor)\n",
    "    \n",
    "divide([1,2,3], (11,22,33))"
   ]
  },
  {
   "cell_type": "code",
   "execution_count": 35,
   "id": "e571dc9b",
   "metadata": {},
   "outputs": [
    {
     "name": "stdout",
     "output_type": "stream",
     "text": [
      "3\n"
     ]
    }
   ],
   "source": [
    "def sum(num1, num2):\n",
    "    print(num1 + 2)\n",
    "    \n",
    "sum(1,2)"
   ]
  },
  {
   "cell_type": "code",
   "execution_count": 37,
   "id": "26c74341",
   "metadata": {},
   "outputs": [
    {
     "name": "stdout",
     "output_type": "stream",
     "text": [
      "CdacSilchar\n"
     ]
    }
   ],
   "source": [
    "def sum(num1, num2):\n",
    "    print(num1 + num2)\n",
    "    \n",
    "sum('Cdac','Silchar')"
   ]
  },
  {
   "cell_type": "code",
   "execution_count": 38,
   "id": "47bf1592",
   "metadata": {},
   "outputs": [
    {
     "name": "stdout",
     "output_type": "stream",
     "text": [
      "Cdac-Silchar\n"
     ]
    }
   ],
   "source": [
    "def sum(num1, num2):\n",
    "    print(num1 + '-' + num2)\n",
    "    \n",
    "sum('Cdac','Silchar')"
   ]
  },
  {
   "cell_type": "code",
   "execution_count": 39,
   "id": "4315ebfb",
   "metadata": {},
   "outputs": [
    {
     "ename": "TypeError",
     "evalue": "unsupported operand type(s) for +: 'int' and 'str'",
     "output_type": "error",
     "traceback": [
      "\u001b[0;31m---------------------------------------------------------------------------\u001b[0m",
      "\u001b[0;31mTypeError\u001b[0m                                 Traceback (most recent call last)",
      "\u001b[0;32m/tmp/ipykernel_19270/2355978615.py\u001b[0m in \u001b[0;36m<module>\u001b[0;34m\u001b[0m\n\u001b[1;32m      2\u001b[0m     \u001b[0mprint\u001b[0m\u001b[0;34m(\u001b[0m\u001b[0mnum1\u001b[0m \u001b[0;34m+\u001b[0m \u001b[0;34m'-'\u001b[0m \u001b[0;34m+\u001b[0m \u001b[0mnum2\u001b[0m\u001b[0;34m)\u001b[0m\u001b[0;34m\u001b[0m\u001b[0;34m\u001b[0m\u001b[0m\n\u001b[1;32m      3\u001b[0m \u001b[0;34m\u001b[0m\u001b[0m\n\u001b[0;32m----> 4\u001b[0;31m \u001b[0msum\u001b[0m\u001b[0;34m(\u001b[0m\u001b[0;36m11\u001b[0m\u001b[0;34m,\u001b[0m\u001b[0;36m22\u001b[0m\u001b[0;34m)\u001b[0m\u001b[0;34m\u001b[0m\u001b[0;34m\u001b[0m\u001b[0m\n\u001b[0m",
      "\u001b[0;32m/tmp/ipykernel_19270/2355978615.py\u001b[0m in \u001b[0;36msum\u001b[0;34m(num1, num2)\u001b[0m\n\u001b[1;32m      1\u001b[0m \u001b[0;32mdef\u001b[0m \u001b[0msum\u001b[0m\u001b[0;34m(\u001b[0m\u001b[0mnum1\u001b[0m\u001b[0;34m,\u001b[0m \u001b[0mnum2\u001b[0m\u001b[0;34m)\u001b[0m\u001b[0;34m:\u001b[0m\u001b[0;34m\u001b[0m\u001b[0;34m\u001b[0m\u001b[0m\n\u001b[0;32m----> 2\u001b[0;31m     \u001b[0mprint\u001b[0m\u001b[0;34m(\u001b[0m\u001b[0mnum1\u001b[0m \u001b[0;34m+\u001b[0m \u001b[0;34m'-'\u001b[0m \u001b[0;34m+\u001b[0m \u001b[0mnum2\u001b[0m\u001b[0;34m)\u001b[0m\u001b[0;34m\u001b[0m\u001b[0;34m\u001b[0m\u001b[0m\n\u001b[0m\u001b[1;32m      3\u001b[0m \u001b[0;34m\u001b[0m\u001b[0m\n\u001b[1;32m      4\u001b[0m \u001b[0msum\u001b[0m\u001b[0;34m(\u001b[0m\u001b[0;36m11\u001b[0m\u001b[0;34m,\u001b[0m\u001b[0;36m22\u001b[0m\u001b[0;34m)\u001b[0m\u001b[0;34m\u001b[0m\u001b[0;34m\u001b[0m\u001b[0m\n",
      "\u001b[0;31mTypeError\u001b[0m: unsupported operand type(s) for +: 'int' and 'str'"
     ]
    }
   ],
   "source": [
    "def sum(num1, num2):\n",
    "    print(num1 + '-' + num2)\n",
    "    \n",
    "sum(11,22)"
   ]
  },
  {
   "cell_type": "code",
   "execution_count": 40,
   "id": "6203af04",
   "metadata": {},
   "outputs": [
    {
     "name": "stdout",
     "output_type": "stream",
     "text": [
      "[11, 22]\n"
     ]
    }
   ],
   "source": [
    "def sum(num1, num2):\n",
    "    print(num1 + num2)\n",
    "    \n",
    "sum([11],[22])"
   ]
  },
  {
   "cell_type": "code",
   "execution_count": 41,
   "id": "feaa230a",
   "metadata": {},
   "outputs": [
    {
     "name": "stdout",
     "output_type": "stream",
     "text": [
      "[1, 2, 3, 4, 11, 22, 33, 44]\n"
     ]
    }
   ],
   "source": [
    "def sum(num1, num2):\n",
    "    print(num1 + num2)\n",
    "    \n",
    "sum([1,2,3,4],[11,22,33,44])"
   ]
  },
  {
   "cell_type": "code",
   "execution_count": 43,
   "id": "5cdb0c24",
   "metadata": {},
   "outputs": [
    {
     "name": "stdout",
     "output_type": "stream",
     "text": [
      "(1, 2, 3, 4, 11, 22, 33, 44)\n"
     ]
    }
   ],
   "source": [
    "def sum(num1, num2):\n",
    "    print(num1 + num2)\n",
    "    \n",
    "sum((1,2,3,4),(11,22,33,44))"
   ]
  },
  {
   "cell_type": "code",
   "execution_count": 44,
   "id": "a4f3908b",
   "metadata": {},
   "outputs": [
    {
     "name": "stdout",
     "output_type": "stream",
     "text": [
      "C -> <class 'str'>\n",
      "d -> <class 'str'>\n",
      "a -> <class 'str'>\n",
      "c -> <class 'str'>\n",
      "- -> <class 'str'>\n",
      "S -> <class 'str'>\n",
      "i -> <class 'str'>\n",
      "l -> <class 'str'>\n",
      "c -> <class 'str'>\n",
      "h -> <class 'str'>\n",
      "a -> <class 'str'>\n",
      "r -> <class 'str'>\n"
     ]
    }
   ],
   "source": [
    "def my_print(variable):\n",
    "    for item in variable:\n",
    "        print(item, '->', type(item))\n",
    "\n",
    "my_print('Cdac-Silchar')"
   ]
  },
  {
   "cell_type": "code",
   "execution_count": 45,
   "id": "446f1d6e",
   "metadata": {},
   "outputs": [
    {
     "name": "stdout",
     "output_type": "stream",
     "text": [
      "1 -> <class 'int'>\n",
      "2 -> <class 'int'>\n",
      "3 -> <class 'int'>\n",
      "4 -> <class 'int'>\n",
      "5 -> <class 'int'>\n",
      "6 -> <class 'int'>\n",
      "7 -> <class 'int'>\n"
     ]
    }
   ],
   "source": [
    "my_print( [1,2,3,4,5,6,7] )"
   ]
  },
  {
   "cell_type": "code",
   "execution_count": 46,
   "id": "a94ddf03",
   "metadata": {},
   "outputs": [
    {
     "name": "stdout",
     "output_type": "stream",
     "text": [
      "Assam -> <class 'str'>\n",
      "Rajasthan -> <class 'str'>\n",
      "Odisha -> <class 'str'>\n",
      "Telangana -> <class 'str'>\n"
     ]
    }
   ],
   "source": [
    "states = ['Assam', \"Rajasthan\", 'Odisha', 'Telangana']\n",
    "my_print(states)"
   ]
  },
  {
   "cell_type": "code",
   "execution_count": 47,
   "id": "5614488d",
   "metadata": {},
   "outputs": [
    {
     "ename": "TypeError",
     "evalue": "'int' object is not iterable",
     "output_type": "error",
     "traceback": [
      "\u001b[0;31m---------------------------------------------------------------------------\u001b[0m",
      "\u001b[0;31mTypeError\u001b[0m                                 Traceback (most recent call last)",
      "\u001b[0;32m/tmp/ipykernel_19270/2942985011.py\u001b[0m in \u001b[0;36m<module>\u001b[0;34m\u001b[0m\n\u001b[0;32m----> 1\u001b[0;31m \u001b[0mmy_print\u001b[0m\u001b[0;34m(\u001b[0m\u001b[0;36m12\u001b[0m\u001b[0;34m)\u001b[0m\u001b[0;34m\u001b[0m\u001b[0;34m\u001b[0m\u001b[0m\n\u001b[0m",
      "\u001b[0;32m/tmp/ipykernel_19270/3864596125.py\u001b[0m in \u001b[0;36mmy_print\u001b[0;34m(variable)\u001b[0m\n\u001b[1;32m      1\u001b[0m \u001b[0;32mdef\u001b[0m \u001b[0mmy_print\u001b[0m\u001b[0;34m(\u001b[0m\u001b[0mvariable\u001b[0m\u001b[0;34m)\u001b[0m\u001b[0;34m:\u001b[0m\u001b[0;34m\u001b[0m\u001b[0;34m\u001b[0m\u001b[0m\n\u001b[0;32m----> 2\u001b[0;31m     \u001b[0;32mfor\u001b[0m \u001b[0mitem\u001b[0m \u001b[0;32min\u001b[0m \u001b[0mvariable\u001b[0m\u001b[0;34m:\u001b[0m\u001b[0;34m\u001b[0m\u001b[0;34m\u001b[0m\u001b[0m\n\u001b[0m\u001b[1;32m      3\u001b[0m         \u001b[0mprint\u001b[0m\u001b[0;34m(\u001b[0m\u001b[0mitem\u001b[0m\u001b[0;34m,\u001b[0m \u001b[0;34m'->'\u001b[0m\u001b[0;34m,\u001b[0m \u001b[0mtype\u001b[0m\u001b[0;34m(\u001b[0m\u001b[0mitem\u001b[0m\u001b[0;34m)\u001b[0m\u001b[0;34m)\u001b[0m\u001b[0;34m\u001b[0m\u001b[0;34m\u001b[0m\u001b[0m\n\u001b[1;32m      4\u001b[0m \u001b[0;34m\u001b[0m\u001b[0m\n\u001b[1;32m      5\u001b[0m \u001b[0mmy_print\u001b[0m\u001b[0;34m(\u001b[0m\u001b[0;34m'Cdac-Silchar'\u001b[0m\u001b[0;34m)\u001b[0m\u001b[0;34m\u001b[0m\u001b[0;34m\u001b[0m\u001b[0m\n",
      "\u001b[0;31mTypeError\u001b[0m: 'int' object is not iterable"
     ]
    }
   ],
   "source": [
    "my_print(12)"
   ]
  },
  {
   "cell_type": "code",
   "execution_count": 50,
   "id": "b5a62a7c",
   "metadata": {},
   "outputs": [
    {
     "name": "stdout",
     "output_type": "stream",
     "text": [
      "11\n",
      "22\n",
      "33\n",
      "44\n"
     ]
    }
   ],
   "source": [
    "list1 = [11,22,33,44]\n",
    "for  i in list1:\n",
    "    print(i)"
   ]
  },
  {
   "cell_type": "code",
   "execution_count": 51,
   "id": "a4f45d7a",
   "metadata": {},
   "outputs": [
    {
     "ename": "TypeError",
     "evalue": "'int' object is not iterable",
     "output_type": "error",
     "traceback": [
      "\u001b[0;31m---------------------------------------------------------------------------\u001b[0m",
      "\u001b[0;31mTypeError\u001b[0m                                 Traceback (most recent call last)",
      "\u001b[0;32m/tmp/ipykernel_19270/2090959931.py\u001b[0m in \u001b[0;36m<module>\u001b[0;34m\u001b[0m\n\u001b[1;32m      1\u001b[0m \u001b[0mlist1\u001b[0m \u001b[0;34m=\u001b[0m \u001b[0;36m2\u001b[0m\u001b[0;34m\u001b[0m\u001b[0;34m\u001b[0m\u001b[0m\n\u001b[0;32m----> 2\u001b[0;31m \u001b[0;32mfor\u001b[0m \u001b[0mi\u001b[0m \u001b[0;32min\u001b[0m \u001b[0mlist1\u001b[0m\u001b[0;34m:\u001b[0m\u001b[0;34m\u001b[0m\u001b[0;34m\u001b[0m\u001b[0m\n\u001b[0m\u001b[1;32m      3\u001b[0m     \u001b[0mprint\u001b[0m\u001b[0;34m(\u001b[0m\u001b[0mi\u001b[0m\u001b[0;34m)\u001b[0m\u001b[0;34m\u001b[0m\u001b[0;34m\u001b[0m\u001b[0m\n",
      "\u001b[0;31mTypeError\u001b[0m: 'int' object is not iterable"
     ]
    }
   ],
   "source": [
    "list1 = 2\n",
    "for i in list1:\n",
    "    print(i)"
   ]
  },
  {
   "cell_type": "code",
   "execution_count": 52,
   "id": "7381174f",
   "metadata": {},
   "outputs": [
    {
     "name": "stdout",
     "output_type": "stream",
     "text": [
      "0\n",
      "1\n"
     ]
    }
   ],
   "source": [
    "list1 = 2\n",
    "for i in range(list1):\n",
    "    print(i)"
   ]
  },
  {
   "cell_type": "code",
   "execution_count": 55,
   "id": "8cf9bbc6",
   "metadata": {},
   "outputs": [
    {
     "name": "stdout",
     "output_type": "stream",
     "text": [
      "first = 11, second = 77\n"
     ]
    }
   ],
   "source": [
    "def fun_1(num1, num2):\n",
    "    print(f'first = {num1}, second = {num2}')\n",
    "fun_1(11,77)    "
   ]
  },
  {
   "cell_type": "code",
   "execution_count": 57,
   "id": "e8f49b57",
   "metadata": {},
   "outputs": [
    {
     "ename": "TypeError",
     "evalue": "fun_1() missing 1 required positional argument: 'num2'",
     "output_type": "error",
     "traceback": [
      "\u001b[0;31m---------------------------------------------------------------------------\u001b[0m",
      "\u001b[0;31mTypeError\u001b[0m                                 Traceback (most recent call last)",
      "\u001b[0;32m/tmp/ipykernel_19270/1370889897.py\u001b[0m in \u001b[0;36m<module>\u001b[0;34m\u001b[0m\n\u001b[0;32m----> 1\u001b[0;31m \u001b[0mfun_1\u001b[0m\u001b[0;34m(\u001b[0m\u001b[0;36m11\u001b[0m\u001b[0;34m)\u001b[0m\u001b[0;34m\u001b[0m\u001b[0;34m\u001b[0m\u001b[0m\n\u001b[0m",
      "\u001b[0;31mTypeError\u001b[0m: fun_1() missing 1 required positional argument: 'num2'"
     ]
    }
   ],
   "source": [
    "fun_1(11)"
   ]
  },
  {
   "cell_type": "code",
   "execution_count": 58,
   "id": "e3ed162d",
   "metadata": {},
   "outputs": [
    {
     "ename": "TypeError",
     "evalue": "fun_1() takes 2 positional arguments but 3 were given",
     "output_type": "error",
     "traceback": [
      "\u001b[0;31m---------------------------------------------------------------------------\u001b[0m",
      "\u001b[0;31mTypeError\u001b[0m                                 Traceback (most recent call last)",
      "\u001b[0;32m/tmp/ipykernel_19270/3384778245.py\u001b[0m in \u001b[0;36m<module>\u001b[0;34m\u001b[0m\n\u001b[0;32m----> 1\u001b[0;31m \u001b[0mfun_1\u001b[0m\u001b[0;34m(\u001b[0m\u001b[0;36m11\u001b[0m\u001b[0;34m,\u001b[0m\u001b[0;36m22\u001b[0m\u001b[0;34m,\u001b[0m\u001b[0;36m33\u001b[0m\u001b[0;34m)\u001b[0m\u001b[0;34m\u001b[0m\u001b[0;34m\u001b[0m\u001b[0m\n\u001b[0m",
      "\u001b[0;31mTypeError\u001b[0m: fun_1() takes 2 positional arguments but 3 were given"
     ]
    }
   ],
   "source": [
    "fun_1(11,22,33)"
   ]
  },
  {
   "cell_type": "code",
   "execution_count": 59,
   "id": "7456c40b",
   "metadata": {},
   "outputs": [
    {
     "ename": "TypeError",
     "evalue": "fun_1() missing 1 required positional argument: 'num2'",
     "output_type": "error",
     "traceback": [
      "\u001b[0;31m---------------------------------------------------------------------------\u001b[0m",
      "\u001b[0;31mTypeError\u001b[0m                                 Traceback (most recent call last)",
      "\u001b[0;32m/tmp/ipykernel_19270/3713486930.py\u001b[0m in \u001b[0;36m<module>\u001b[0;34m\u001b[0m\n\u001b[1;32m      1\u001b[0m \u001b[0;32mdef\u001b[0m \u001b[0mfun_1\u001b[0m\u001b[0;34m(\u001b[0m\u001b[0mnum1\u001b[0m\u001b[0;34m,\u001b[0m \u001b[0mnum2\u001b[0m\u001b[0;34m)\u001b[0m\u001b[0;34m:\u001b[0m\u001b[0;34m\u001b[0m\u001b[0;34m\u001b[0m\u001b[0m\n\u001b[1;32m      2\u001b[0m     \u001b[0mprint\u001b[0m\u001b[0;34m(\u001b[0m\u001b[0;34mf'first = {num1}, second = {num2}'\u001b[0m\u001b[0;34m)\u001b[0m\u001b[0;34m\u001b[0m\u001b[0;34m\u001b[0m\u001b[0m\n\u001b[0;32m----> 3\u001b[0;31m \u001b[0mfun_1\u001b[0m\u001b[0;34m(\u001b[0m\u001b[0;34m[\u001b[0m\u001b[0;36m11\u001b[0m\u001b[0;34m,\u001b[0m\u001b[0;36m77\u001b[0m\u001b[0;34m]\u001b[0m\u001b[0;34m)\u001b[0m\u001b[0;34m\u001b[0m\u001b[0;34m\u001b[0m\u001b[0m\n\u001b[0m",
      "\u001b[0;31mTypeError\u001b[0m: fun_1() missing 1 required positional argument: 'num2'"
     ]
    }
   ],
   "source": [
    "def fun_1(num1, num2):\n",
    "    print(f'first = {num1}, second = {num2}')\n",
    "fun_1([11,77])"
   ]
  },
  {
   "cell_type": "code",
   "execution_count": 60,
   "id": "da420a98",
   "metadata": {},
   "outputs": [
    {
     "name": "stdout",
     "output_type": "stream",
     "text": [
      "first = [11, 77], second = ['aaa', 'bbb']\n"
     ]
    }
   ],
   "source": [
    "def fun_1(num1, num2):\n",
    "    print(f'first = {num1}, second = {num2}')\n",
    "fun_1([11,77], ['aaa', 'bbb'])    "
   ]
  },
  {
   "cell_type": "code",
   "execution_count": null,
   "id": "aed572db",
   "metadata": {},
   "outputs": [],
   "source": [
    "def fun_1(num1, num2):\n",
    "    print(f'first = {num1}, second = {num2}')\n",
    "fun_1()"
   ]
  },
  {
   "cell_type": "code",
   "execution_count": 75,
   "id": "0b3589e4",
   "metadata": {},
   "outputs": [
    {
     "name": "stdout",
     "output_type": "stream",
     "text": [
      "Before substracing\n",
      "[9150, 7741, 4504, 2617, 4912]\n",
      "After substracing\n",
      "[8817, 7408, 4171, 2284, 4579]\n"
     ]
    }
   ],
   "source": [
    "# Write a function which generates 4-digit 5 numbers & substract 333 from all.\n",
    "# Result shud be placed in list. Print the list at the end.\n",
    "\n",
    "import random\n",
    "def task():\n",
    "    list1 = []\n",
    "    for i in range(5):\n",
    "        list1.append(random.randint(1000,9999))\n",
    "    \n",
    "    print('Before substracing')\n",
    "    print(list1)\n",
    "    \n",
    "    for i in range(5):\n",
    "        list1[i] = list1[i] - 333\n",
    "\n",
    "    print('After substracing')\n",
    "    print(list1)\n",
    "    \n",
    "        \n",
    "task()"
   ]
  },
  {
   "cell_type": "code",
   "execution_count": 61,
   "id": "c238829b",
   "metadata": {},
   "outputs": [
    {
     "data": {
      "text/plain": [
       "[7, 7, 7, 7, 7]"
      ]
     },
     "execution_count": 61,
     "metadata": {},
     "output_type": "execute_result"
    }
   ],
   "source": [
    "list1 = []\n",
    "for i in range(5):\n",
    "    list1.append(7)\n",
    "list1"
   ]
  },
  {
   "cell_type": "code",
   "execution_count": 62,
   "id": "477336de",
   "metadata": {},
   "outputs": [
    {
     "data": {
      "text/plain": [
       "[0, 1, 2, 3, 4]"
      ]
     },
     "execution_count": 62,
     "metadata": {},
     "output_type": "execute_result"
    }
   ],
   "source": [
    "list1 = []\n",
    "for i in range(5):\n",
    "    list1.append(i)\n",
    "list1"
   ]
  },
  {
   "cell_type": "code",
   "execution_count": 63,
   "id": "73e91438",
   "metadata": {},
   "outputs": [
    {
     "data": {
      "text/plain": [
       "['Amarsingh', 'Amarsingh', 'Amarsingh', 'Amarsingh', 'Amarsingh']"
      ]
     },
     "execution_count": 63,
     "metadata": {},
     "output_type": "execute_result"
    }
   ],
   "source": [
    "list1 = []\n",
    "for i in range(5):\n",
    "    list1.append('Amarsingh')\n",
    "list1"
   ]
  },
  {
   "cell_type": "code",
   "execution_count": 69,
   "id": "01343a87",
   "metadata": {},
   "outputs": [
    {
     "data": {
      "text/plain": [
       "1924"
      ]
     },
     "execution_count": 69,
     "metadata": {},
     "output_type": "execute_result"
    }
   ],
   "source": [
    "import random\n",
    "var = random.randint(1000, 9999)\n",
    "var"
   ]
  },
  {
   "cell_type": "markdown",
   "id": "d79eb176",
   "metadata": {},
   "source": [
    "## return\n",
    "- it shud be last statement\n",
    "- not complusary to hv return to function\n",
    "- can return multiple return values\n",
    "- anyting written after return statement is unereachable code"
   ]
  },
  {
   "cell_type": "code",
   "execution_count": 78,
   "id": "b34d28d7",
   "metadata": {},
   "outputs": [
    {
     "data": {
      "text/plain": [
       "2323"
      ]
     },
     "execution_count": 78,
     "metadata": {},
     "output_type": "execute_result"
    }
   ],
   "source": [
    "def fun_2():\n",
    "    return 2323\n",
    "fun_2()"
   ]
  },
  {
   "cell_type": "code",
   "execution_count": 79,
   "id": "b54f0ca6",
   "metadata": {},
   "outputs": [
    {
     "data": {
      "text/plain": [
       "2323"
      ]
     },
     "execution_count": 79,
     "metadata": {},
     "output_type": "execute_result"
    }
   ],
   "source": [
    "def fun_2():\n",
    "    return 2323\n",
    "    print('fjhdfdhjk') # unreachbale code\n",
    "fun_2()"
   ]
  },
  {
   "cell_type": "code",
   "execution_count": 80,
   "id": "e9cd0692",
   "metadata": {},
   "outputs": [
    {
     "data": {
      "text/plain": [
       "'ABC'"
      ]
     },
     "execution_count": 80,
     "metadata": {},
     "output_type": "execute_result"
    }
   ],
   "source": [
    "def fun_2():\n",
    "   return 'ABC' \n",
    "fun_2()"
   ]
  },
  {
   "cell_type": "code",
   "execution_count": 81,
   "id": "de5e6858",
   "metadata": {},
   "outputs": [
    {
     "data": {
      "text/plain": [
       "['ABC', 'XYZ', 'PQR']"
      ]
     },
     "execution_count": 81,
     "metadata": {},
     "output_type": "execute_result"
    }
   ],
   "source": [
    "def fun_2():\n",
    "   return ['ABC', 'XYZ', 'PQR'] \n",
    "fun_2()"
   ]
  },
  {
   "cell_type": "code",
   "execution_count": 82,
   "id": "7fde4b35",
   "metadata": {},
   "outputs": [
    {
     "data": {
      "text/plain": [
       "999"
      ]
     },
     "execution_count": 82,
     "metadata": {},
     "output_type": "execute_result"
    }
   ],
   "source": [
    "def fun3(num1, num2):\n",
    "    return num1+num2\n",
    "\n",
    "fun3(444,555)"
   ]
  },
  {
   "cell_type": "code",
   "execution_count": 84,
   "id": "4a724013",
   "metadata": {},
   "outputs": [
    {
     "name": "stdout",
     "output_type": "stream",
     "text": [
      "Before substracing\n",
      "[5489, 1685, 8917, 6052, 8151]\n",
      "After substracing\n",
      "[5156, 1352, 8584, 5719, 7818]\n"
     ]
    }
   ],
   "source": [
    "# Write a function which generates 4-digit 5 numbers & substract 333 from all.\n",
    "# Return output in the form of list\n",
    "\n",
    "import random\n",
    "def task():\n",
    "    list1 = []\n",
    "    for i in range(5):\n",
    "        list1.append(random.randint(1000,9999))\n",
    "    \n",
    "    print('Before substracing')\n",
    "    print(list1)\n",
    "    \n",
    "    for i in range(5):\n",
    "        list1[i] = list1[i] - 333\n",
    "    \n",
    "    return list1\n",
    "\n",
    "\n",
    "output = task()\n",
    "print('After substracing')\n",
    "print(output)"
   ]
  },
  {
   "cell_type": "code",
   "execution_count": 85,
   "id": "dd827121",
   "metadata": {},
   "outputs": [
    {
     "name": "stdout",
     "output_type": "stream",
     "text": [
      "Before substracing\n",
      "[1678, 6470, 6744, 4984, 6594]\n",
      "After substracing\n",
      "[1678, 6470, 6744, 4984, 6594]\n"
     ]
    }
   ],
   "source": [
    "# Write a function which generates 4-digit 5 numbers & substract 333 from all.\n",
    "# Return output in the form of list\n",
    "\n",
    "import random\n",
    "def task():\n",
    "    list1 = []\n",
    "    print('Before substracing')\n",
    "    for i in range(5):\n",
    "        list1.append(random.randint(1000,9999) - 333)\n",
    "    \n",
    "\n",
    "    print(list1)\n",
    "    \n",
    "#     for i in range(5):\n",
    "#         list1[i] = list1[i] - 333\n",
    "    \n",
    "    return list1\n",
    "\n",
    "\n",
    "output = task()\n",
    "print('After substracing')\n",
    "print(output)"
   ]
  },
  {
   "cell_type": "code",
   "execution_count": 86,
   "id": "30484929",
   "metadata": {},
   "outputs": [
    {
     "name": "stdout",
     "output_type": "stream",
     "text": [
      "After substracing\n",
      "[1995, 9069, 4073, 7913, 6995]\n"
     ]
    }
   ],
   "source": [
    "# Write a function which generates 4-digit 5 numbers & substract 333 from all.\n",
    "# Return output in the form of list\n",
    "\n",
    "import random\n",
    "def task():\n",
    "    return [random.randint(1000,9999)-333 for i in range(5)]\n",
    "           [random.randint(1000,9999)-333 for i in range(5)]\n",
    "\n",
    "output = task()\n",
    "print('After substracing')\n",
    "print(output)"
   ]
  },
  {
   "cell_type": "code",
   "execution_count": 87,
   "id": "3709442d",
   "metadata": {},
   "outputs": [
    {
     "data": {
      "text/plain": [
       "[7, 7, 7, 7, 7]"
      ]
     },
     "execution_count": 87,
     "metadata": {},
     "output_type": "execute_result"
    }
   ],
   "source": [
    "[ 7 for i in range(5)]"
   ]
  },
  {
   "cell_type": "code",
   "execution_count": 88,
   "id": "d1f97731",
   "metadata": {},
   "outputs": [
    {
     "data": {
      "text/plain": [
       "[0, 1, 2, 3, 4]"
      ]
     },
     "execution_count": 88,
     "metadata": {},
     "output_type": "execute_result"
    }
   ],
   "source": [
    "[ i for i in range(5)]"
   ]
  },
  {
   "cell_type": "code",
   "execution_count": 89,
   "id": "054a2af7",
   "metadata": {},
   "outputs": [
    {
     "data": {
      "text/plain": [
       "[4770, 6419, 6559, 4520, 8455]"
      ]
     },
     "execution_count": 89,
     "metadata": {},
     "output_type": "execute_result"
    }
   ],
   "source": [
    "[random.randint(1000,9999) for i in range(5)]"
   ]
  },
  {
   "cell_type": "code",
   "execution_count": 90,
   "id": "6b49a239",
   "metadata": {},
   "outputs": [
    {
     "data": {
      "text/plain": [
       "[3981, 7550, 2726, 7461, 1097]"
      ]
     },
     "execution_count": 90,
     "metadata": {},
     "output_type": "execute_result"
    }
   ],
   "source": [
    "[random.randint(1000,9999)-333 for i in range(5)]"
   ]
  },
  {
   "cell_type": "code",
   "execution_count": null,
   "id": "a5de0137",
   "metadata": {},
   "outputs": [],
   "source": []
  },
  {
   "cell_type": "code",
   "execution_count": 97,
   "id": "a8ba6b54",
   "metadata": {},
   "outputs": [
    {
     "data": {
      "text/plain": [
       "[6, 7, 8, 9, 10, 34, 33, 32, 31, 30]"
      ]
     },
     "execution_count": 97,
     "metadata": {},
     "output_type": "execute_result"
    }
   ],
   "source": [
    "# Write a function which takes 2 arguments start and end (both included).\n",
    "# Return list with first 5 values and last 5 values and substract 1 from them\n",
    "# for the range of numbers start to end.\n",
    "\n",
    "\n",
    "def task2(start, end):\n",
    "    result = []\n",
    "    for i in range(start, start+5):\n",
    "        result.append(i)\n",
    "#     print(result)\n",
    "    for i in range(end, end - 5, -1):\n",
    "        result.append(i)\n",
    "#     print(result)\n",
    "    for i in range(10):\n",
    "        result[i] = result[i] - 1\n",
    "    return result\n",
    "\n",
    "task2(7, 35)"
   ]
  },
  {
   "cell_type": "code",
   "execution_count": 98,
   "id": "3631e211",
   "metadata": {},
   "outputs": [
    {
     "data": {
      "text/plain": [
       "[122, 123, 124, 125, 126, 675, 674, 673, 672, 671]"
      ]
     },
     "execution_count": 98,
     "metadata": {},
     "output_type": "execute_result"
    }
   ],
   "source": [
    "task2(123,676)"
   ]
  },
  {
   "cell_type": "code",
   "execution_count": 99,
   "id": "3ddc6739",
   "metadata": {},
   "outputs": [
    {
     "data": {
      "text/plain": [
       "[6, 7, 8, 9, 10, 34, 33, 32, 31, 30]"
      ]
     },
     "execution_count": 99,
     "metadata": {},
     "output_type": "execute_result"
    }
   ],
   "source": [
    "# Write a function which takes 2 arguments start and end (both included).\n",
    "# Return list with first 5 values and last 5 values and substract 1\n",
    "# from them for the range of numbers start to end.\n",
    "\n",
    "\n",
    "def task2(start, end):\n",
    "    result = []\n",
    "    for i in range(start, start+5):\n",
    "        result.append(i)\n",
    "#     print(result)\n",
    "    for i in range(end, end - 5, -1):\n",
    "        result.append(i)\n",
    "#     print(result)\n",
    "    return [i-1 for i in result]\n",
    "\n",
    "task2(7, 35)"
   ]
  },
  {
   "cell_type": "code",
   "execution_count": 115,
   "id": "1a98ac6f",
   "metadata": {},
   "outputs": [
    {
     "data": {
      "text/plain": [
       "['Madhya Pradesh',\n",
       " 'uttar pradesh',\n",
       " 'Electoral directorate',\n",
       " 'central bureau Of investigation']"
      ]
     },
     "execution_count": 115,
     "metadata": {},
     "output_type": "execute_result"
    }
   ],
   "source": [
    "fullform = ['Madhya Pradesh', 'uttar pradesh',\n",
    "            'Electoral directorate',\n",
    "            'central bureau Of investigation']\n",
    "fullform"
   ]
  },
  {
   "cell_type": "code",
   "execution_count": 117,
   "id": "5168f0c2",
   "metadata": {},
   "outputs": [
    {
     "name": "stdout",
     "output_type": "stream",
     "text": [
      "M.P.\n",
      "U.P.\n",
      "E.D.\n",
      "C.B.I.\n"
     ]
    }
   ],
   "source": [
    "def short_form(variable):\n",
    "    for var in variable:\n",
    "        temp_list = var.split()\n",
    "        for i in temp_list:\n",
    "            if i.lower() != 'of':\n",
    "                print(f'{i[0].upper()}.', end = '')\n",
    "        print()\n",
    "            \n",
    "\n",
    "short_form(fullform)"
   ]
  },
  {
   "cell_type": "code",
   "execution_count": 120,
   "id": "8ba9df1a",
   "metadata": {},
   "outputs": [
    {
     "name": "stdout",
     "output_type": "stream",
     "text": [
      "Kohima\n",
      "Bhubaneswar\n",
      "Chandigarh\n",
      "Jaipur\n",
      "Gangtok\n",
      "Chennai\n",
      "Hyderabad\n",
      "Agartala\n",
      "Lucknow\n",
      "Dehradun\n",
      "Kolkata\n"
     ]
    }
   ],
   "source": [
    "def first_two_letters(cities):\n",
    "    result = []\n",
    "    for i in cities:\n",
    "        result.append(i[0:2])\n",
    "\n",
    "\n",
    "\n",
    "cities = ['Kohima', 'Bhubaneswar', 'Chandigarh', 'Jaipur',\n",
    "          'Gangtok', 'Chennai', 'Hyderabad',\n",
    "          'Agartala', 'Lucknow', 'Dehradun', 'Kolkata']\n",
    "first_two_letters(cities)"
   ]
  },
  {
   "cell_type": "code",
   "execution_count": null,
   "id": "a6aaf61e",
   "metadata": {},
   "outputs": [],
   "source": [
    "# output = ['Ko', 'Bh', 'Ch', 'Ja', 'Ga', 'Ch', 'Hy', 'Ag', 'Lu', 'De', 'Ko']"
   ]
  },
  {
   "cell_type": "code",
   "execution_count": null,
   "id": "ea5cc11c",
   "metadata": {},
   "outputs": [],
   "source": []
  },
  {
   "cell_type": "code",
   "execution_count": null,
   "id": "30c3c3bb",
   "metadata": {},
   "outputs": [],
   "source": []
  },
  {
   "cell_type": "code",
   "execution_count": null,
   "id": "160af196",
   "metadata": {},
   "outputs": [],
   "source": []
  },
  {
   "cell_type": "code",
   "execution_count": null,
   "id": "c5628456",
   "metadata": {},
   "outputs": [],
   "source": []
  },
  {
   "cell_type": "code",
   "execution_count": null,
   "id": "ce7eef8b",
   "metadata": {},
   "outputs": [],
   "source": []
  },
  {
   "cell_type": "code",
   "execution_count": null,
   "id": "56dbe622",
   "metadata": {},
   "outputs": [],
   "source": []
  },
  {
   "cell_type": "code",
   "execution_count": null,
   "id": "b7ffd029",
   "metadata": {},
   "outputs": [],
   "source": []
  }
 ],
 "metadata": {
  "kernelspec": {
   "display_name": "Python 3 (ipykernel)",
   "language": "python",
   "name": "python3"
  },
  "language_info": {
   "codemirror_mode": {
    "name": "ipython",
    "version": 3
   },
   "file_extension": ".py",
   "mimetype": "text/x-python",
   "name": "python",
   "nbconvert_exporter": "python",
   "pygments_lexer": "ipython3",
   "version": "3.10.12"
  }
 },
 "nbformat": 4,
 "nbformat_minor": 5
}
