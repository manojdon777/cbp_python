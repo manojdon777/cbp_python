{
 "cells": [
  {
   "cell_type": "code",
   "execution_count": 77,
   "id": "972bad58",
   "metadata": {},
   "outputs": [],
   "source": [
    "Functions\n",
    "- Used for wrting subtaks\n",
    "- function can have zero or more return statement\n",
    "- functions can have zero or more parameters\n"
   ]
  },
  {
   "cell_type": "code",
   "execution_count": null,
   "id": "578e8af4",
   "metadata": {},
   "outputs": [],
   "source": []
  },
  {
   "cell_type": "code",
   "execution_count": null,
   "id": "caf613ac",
   "metadata": {},
   "outputs": [],
   "source": [
    "syntax\n",
    "\n",
    "def funname():\n",
    "    line1\n",
    "    line2\n",
    "    line3\n",
    "    return\n",
    "    "
   ]
  },
  {
   "cell_type": "code",
   "execution_count": null,
   "id": "6b1d5e98",
   "metadata": {},
   "outputs": [],
   "source": [
    "syntax\n",
    "\n",
    "def funname():\n",
    "    line1\n",
    "    line2\n",
    "line3\n",
    "    \n",
    "    "
   ]
  },
  {
   "cell_type": "code",
   "execution_count": null,
   "id": "71fdc590",
   "metadata": {},
   "outputs": [],
   "source": []
  },
  {
   "cell_type": "code",
   "execution_count": 6,
   "id": "4ad52838",
   "metadata": {},
   "outputs": [],
   "source": [
    "def abc():\n",
    "    pass"
   ]
  },
  {
   "cell_type": "code",
   "execution_count": 7,
   "id": "9cd0d40c",
   "metadata": {},
   "outputs": [],
   "source": [
    "abc()"
   ]
  },
  {
   "cell_type": "code",
   "execution_count": 8,
   "id": "3c5a0278",
   "metadata": {},
   "outputs": [],
   "source": [
    "def abc():\n",
    "    print('I am in functions block')"
   ]
  },
  {
   "cell_type": "code",
   "execution_count": 9,
   "id": "6303c904",
   "metadata": {},
   "outputs": [
    {
     "name": "stdout",
     "output_type": "stream",
     "text": [
      "I am in functions block\n"
     ]
    }
   ],
   "source": [
    "abc()"
   ]
  },
  {
   "cell_type": "code",
   "execution_count": 10,
   "id": "c769007c",
   "metadata": {},
   "outputs": [
    {
     "name": "stdout",
     "output_type": "stream",
     "text": [
      "I am in functions block\n"
     ]
    }
   ],
   "source": [
    "def abc():\n",
    "    print('I am in functions block')\n",
    "\n",
    "abc()"
   ]
  },
  {
   "cell_type": "code",
   "execution_count": 12,
   "id": "28348128",
   "metadata": {},
   "outputs": [
    {
     "ename": "NameError",
     "evalue": "name 'abc123' is not defined",
     "output_type": "error",
     "traceback": [
      "\u001b[0;31m---------------------------------------------------------------------------\u001b[0m",
      "\u001b[0;31mNameError\u001b[0m                                 Traceback (most recent call last)",
      "\u001b[0;32m/tmp/ipykernel_28756/1306027281.py\u001b[0m in \u001b[0;36m<module>\u001b[0;34m\u001b[0m\n\u001b[0;32m----> 1\u001b[0;31m \u001b[0mabc123\u001b[0m\u001b[0;34m(\u001b[0m\u001b[0;34m)\u001b[0m\u001b[0;34m\u001b[0m\u001b[0;34m\u001b[0m\u001b[0m\n\u001b[0m\u001b[1;32m      2\u001b[0m \u001b[0;34m\u001b[0m\u001b[0m\n\u001b[1;32m      3\u001b[0m \u001b[0;32mdef\u001b[0m \u001b[0mabc123\u001b[0m\u001b[0;34m(\u001b[0m\u001b[0;34m)\u001b[0m\u001b[0;34m:\u001b[0m\u001b[0;34m\u001b[0m\u001b[0;34m\u001b[0m\u001b[0m\n\u001b[1;32m      4\u001b[0m     \u001b[0mprint\u001b[0m\u001b[0;34m(\u001b[0m\u001b[0;34m'I am in functions block'\u001b[0m\u001b[0;34m)\u001b[0m\u001b[0;34m\u001b[0m\u001b[0;34m\u001b[0m\u001b[0m\n",
      "\u001b[0;31mNameError\u001b[0m: name 'abc123' is not defined"
     ]
    }
   ],
   "source": [
    "abc123()\n",
    "\n",
    "def abc123():\n",
    "    print('I am in functions block')"
   ]
  },
  {
   "cell_type": "code",
   "execution_count": null,
   "id": "d6ce7ca9",
   "metadata": {},
   "outputs": [],
   "source": [
    "def abc123():\n",
    "    print('I am in functions block')\n",
    "    \n",
    "abc123()"
   ]
  },
  {
   "cell_type": "code",
   "execution_count": null,
   "id": "c07bb489",
   "metadata": {},
   "outputs": [],
   "source": [
    "def abc123():\n",
    "    print('I am in functions block')\n",
    "    \n",
    "print(abc123)"
   ]
  },
  {
   "cell_type": "code",
   "execution_count": null,
   "id": "0f823835",
   "metadata": {},
   "outputs": [],
   "source": [
    "def abc123():\n",
    "    print('I am in functions block')\n",
    "    \n",
    "print(abc123())"
   ]
  },
  {
   "cell_type": "code",
   "execution_count": null,
   "id": "55cfb376",
   "metadata": {},
   "outputs": [],
   "source": [
    "def abc123(): # execute this code on terminal using python interpreter\n",
    "    print('I am in functions block')\n",
    "    return \"This is my return statement\"\n",
    "    \n",
    "abc123()"
   ]
  },
  {
   "cell_type": "code",
   "execution_count": 13,
   "id": "dde0411c",
   "metadata": {},
   "outputs": [
    {
     "name": "stdout",
     "output_type": "stream",
     "text": [
      "I am in functions block\n",
      "This is my return statement\n"
     ]
    }
   ],
   "source": [
    "def abc123(): # execute this code on terminal using python interpreter\n",
    "    print('I am in functions block')\n",
    "    return \"This is my return statement\"\n",
    "    \n",
    "print(abc123())"
   ]
  },
  {
   "cell_type": "code",
   "execution_count": null,
   "id": "001a3d55",
   "metadata": {},
   "outputs": [],
   "source": []
  },
  {
   "cell_type": "code",
   "execution_count": 14,
   "id": "6eeb36ae",
   "metadata": {},
   "outputs": [],
   "source": [
    "def xyz(): # this cell has not been executed\n",
    "    print('in xyz')"
   ]
  },
  {
   "cell_type": "code",
   "execution_count": 15,
   "id": "d3e12cf7",
   "metadata": {},
   "outputs": [
    {
     "name": "stdout",
     "output_type": "stream",
     "text": [
      "in xyz\n"
     ]
    }
   ],
   "source": [
    "xyz()"
   ]
  },
  {
   "cell_type": "code",
   "execution_count": 16,
   "id": "d20b3ddd",
   "metadata": {},
   "outputs": [],
   "source": [
    "def xyz():\n",
    "    print('in xyz')"
   ]
  },
  {
   "cell_type": "code",
   "execution_count": 17,
   "id": "9394e350",
   "metadata": {},
   "outputs": [
    {
     "name": "stdout",
     "output_type": "stream",
     "text": [
      "in xyz\n"
     ]
    }
   ],
   "source": [
    "xyz()"
   ]
  },
  {
   "cell_type": "code",
   "execution_count": 18,
   "id": "978d1d89",
   "metadata": {},
   "outputs": [
    {
     "name": "stdout",
     "output_type": "stream",
     "text": [
      "in xyz\n"
     ]
    }
   ],
   "source": [
    "def xyz():\n",
    "    print('in xyz')\n",
    "\n",
    "xyz()"
   ]
  },
  {
   "cell_type": "markdown",
   "id": "b19fefa2",
   "metadata": {},
   "source": [
    "## Function with argument/parameter"
   ]
  },
  {
   "cell_type": "code",
   "execution_count": 19,
   "id": "bae54401",
   "metadata": {},
   "outputs": [
    {
     "name": "stdout",
     "output_type": "stream",
     "text": [
      "123 <class 'int'>\n"
     ]
    }
   ],
   "source": [
    "def fun1(num):\n",
    "    print(num, type(num))\n",
    "\n",
    "fun1(123)"
   ]
  },
  {
   "cell_type": "code",
   "execution_count": 20,
   "id": "1ea69b33",
   "metadata": {},
   "outputs": [
    {
     "name": "stdout",
     "output_type": "stream",
     "text": [
      "123.456 <class 'float'>\n"
     ]
    }
   ],
   "source": [
    "def fun1(num):\n",
    "    print(num, type(num))\n",
    "\n",
    "fun1(123.456)"
   ]
  },
  {
   "cell_type": "code",
   "execution_count": 21,
   "id": "bf8b7455",
   "metadata": {},
   "outputs": [
    {
     "name": "stdout",
     "output_type": "stream",
     "text": [
      "['abc', '123'] <class 'list'>\n"
     ]
    }
   ],
   "source": [
    "def fun1(num):\n",
    "    print(num, type(num))\n",
    "\n",
    "fun1(['abc', '123'])"
   ]
  },
  {
   "cell_type": "code",
   "execution_count": 22,
   "id": "e4628a36",
   "metadata": {},
   "outputs": [
    {
     "name": "stdout",
     "output_type": "stream",
     "text": [
      "string line <class 'str'>\n"
     ]
    }
   ],
   "source": [
    "def fun1(num):\n",
    "    print(num, type(num))\n",
    "\n",
    "fun1('string line')"
   ]
  },
  {
   "cell_type": "code",
   "execution_count": 23,
   "id": "147c4578",
   "metadata": {},
   "outputs": [
    {
     "name": "stdout",
     "output_type": "stream",
     "text": [
      "111\n"
     ]
    }
   ],
   "source": [
    "def divide(divident, divisor):\n",
    "    print(divident// divisor)\n",
    "    \n",
    "divide(444, 4)"
   ]
  },
  {
   "cell_type": "code",
   "execution_count": 24,
   "id": "695dbcb4",
   "metadata": {},
   "outputs": [
    {
     "name": "stdout",
     "output_type": "stream",
     "text": [
      "111\n"
     ]
    }
   ],
   "source": [
    "def divide(divident, divisor):\n",
    "    print(divident// divisor)\n",
    "    \n",
    "divide(444, 4)"
   ]
  },
  {
   "cell_type": "code",
   "execution_count": 25,
   "id": "338f4c2b",
   "metadata": {},
   "outputs": [
    {
     "ename": "TypeError",
     "evalue": "unsupported operand type(s) for //: 'str' and 'str'",
     "output_type": "error",
     "traceback": [
      "\u001b[0;31m---------------------------------------------------------------------------\u001b[0m",
      "\u001b[0;31mTypeError\u001b[0m                                 Traceback (most recent call last)",
      "\u001b[0;32m/tmp/ipykernel_28756/3668121479.py\u001b[0m in \u001b[0;36m<module>\u001b[0;34m\u001b[0m\n\u001b[1;32m      2\u001b[0m     \u001b[0mprint\u001b[0m\u001b[0;34m(\u001b[0m\u001b[0mdivident\u001b[0m \u001b[0;34m//\u001b[0m \u001b[0mdivisor\u001b[0m\u001b[0;34m)\u001b[0m\u001b[0;34m\u001b[0m\u001b[0;34m\u001b[0m\u001b[0m\n\u001b[1;32m      3\u001b[0m \u001b[0;34m\u001b[0m\u001b[0m\n\u001b[0;32m----> 4\u001b[0;31m \u001b[0mdivide\u001b[0m\u001b[0;34m(\u001b[0m\u001b[0;34m'abc'\u001b[0m\u001b[0;34m,\u001b[0m \u001b[0;34m'xyz'\u001b[0m\u001b[0;34m)\u001b[0m\u001b[0;34m\u001b[0m\u001b[0;34m\u001b[0m\u001b[0m\n\u001b[0m",
      "\u001b[0;32m/tmp/ipykernel_28756/3668121479.py\u001b[0m in \u001b[0;36mdivide\u001b[0;34m(divident, divisor)\u001b[0m\n\u001b[1;32m      1\u001b[0m \u001b[0;32mdef\u001b[0m \u001b[0mdivide\u001b[0m\u001b[0;34m(\u001b[0m\u001b[0mdivident\u001b[0m\u001b[0;34m,\u001b[0m \u001b[0mdivisor\u001b[0m\u001b[0;34m)\u001b[0m\u001b[0;34m:\u001b[0m\u001b[0;34m\u001b[0m\u001b[0;34m\u001b[0m\u001b[0m\n\u001b[0;32m----> 2\u001b[0;31m     \u001b[0mprint\u001b[0m\u001b[0;34m(\u001b[0m\u001b[0mdivident\u001b[0m \u001b[0;34m//\u001b[0m \u001b[0mdivisor\u001b[0m\u001b[0;34m)\u001b[0m\u001b[0;34m\u001b[0m\u001b[0;34m\u001b[0m\u001b[0m\n\u001b[0m\u001b[1;32m      3\u001b[0m \u001b[0;34m\u001b[0m\u001b[0m\n\u001b[1;32m      4\u001b[0m \u001b[0mdivide\u001b[0m\u001b[0;34m(\u001b[0m\u001b[0;34m'abc'\u001b[0m\u001b[0;34m,\u001b[0m \u001b[0;34m'xyz'\u001b[0m\u001b[0;34m)\u001b[0m\u001b[0;34m\u001b[0m\u001b[0;34m\u001b[0m\u001b[0m\n",
      "\u001b[0;31mTypeError\u001b[0m: unsupported operand type(s) for //: 'str' and 'str'"
     ]
    }
   ],
   "source": [
    "def divide(divident, divisor):\n",
    "    print(divident // divisor)\n",
    "    \n",
    "divide('abc', 'xyz')"
   ]
  },
  {
   "cell_type": "code",
   "execution_count": 33,
   "id": "c57fdd01",
   "metadata": {},
   "outputs": [
    {
     "ename": "TypeError",
     "evalue": "unsupported operand type(s) for //: 'list' and 'tuple'",
     "output_type": "error",
     "traceback": [
      "\u001b[0;31m---------------------------------------------------------------------------\u001b[0m",
      "\u001b[0;31mTypeError\u001b[0m                                 Traceback (most recent call last)",
      "\u001b[0;32m/tmp/ipykernel_28756/3682043178.py\u001b[0m in \u001b[0;36m<module>\u001b[0;34m\u001b[0m\n\u001b[1;32m      2\u001b[0m     \u001b[0mprint\u001b[0m\u001b[0;34m(\u001b[0m\u001b[0mdivident\u001b[0m \u001b[0;34m//\u001b[0m \u001b[0mdivisor\u001b[0m\u001b[0;34m)\u001b[0m\u001b[0;34m\u001b[0m\u001b[0;34m\u001b[0m\u001b[0m\n\u001b[1;32m      3\u001b[0m \u001b[0;34m\u001b[0m\u001b[0m\n\u001b[0;32m----> 4\u001b[0;31m \u001b[0mdivide\u001b[0m\u001b[0;34m(\u001b[0m\u001b[0;34m[\u001b[0m\u001b[0;36m1\u001b[0m\u001b[0;34m,\u001b[0m\u001b[0;36m2\u001b[0m\u001b[0;34m,\u001b[0m\u001b[0;36m3\u001b[0m\u001b[0;34m]\u001b[0m\u001b[0;34m,\u001b[0m \u001b[0;34m(\u001b[0m\u001b[0;36m11\u001b[0m\u001b[0;34m,\u001b[0m\u001b[0;36m22\u001b[0m\u001b[0;34m,\u001b[0m\u001b[0;36m33\u001b[0m\u001b[0;34m)\u001b[0m\u001b[0;34m)\u001b[0m\u001b[0;34m\u001b[0m\u001b[0;34m\u001b[0m\u001b[0m\n\u001b[0m",
      "\u001b[0;32m/tmp/ipykernel_28756/3682043178.py\u001b[0m in \u001b[0;36mdivide\u001b[0;34m(divident, divisor)\u001b[0m\n\u001b[1;32m      1\u001b[0m \u001b[0;32mdef\u001b[0m \u001b[0mdivide\u001b[0m\u001b[0;34m(\u001b[0m\u001b[0mdivident\u001b[0m\u001b[0;34m,\u001b[0m \u001b[0mdivisor\u001b[0m\u001b[0;34m)\u001b[0m\u001b[0;34m:\u001b[0m\u001b[0;34m\u001b[0m\u001b[0;34m\u001b[0m\u001b[0m\n\u001b[0;32m----> 2\u001b[0;31m     \u001b[0mprint\u001b[0m\u001b[0;34m(\u001b[0m\u001b[0mdivident\u001b[0m \u001b[0;34m//\u001b[0m \u001b[0mdivisor\u001b[0m\u001b[0;34m)\u001b[0m\u001b[0;34m\u001b[0m\u001b[0;34m\u001b[0m\u001b[0m\n\u001b[0m\u001b[1;32m      3\u001b[0m \u001b[0;34m\u001b[0m\u001b[0m\n\u001b[1;32m      4\u001b[0m \u001b[0mdivide\u001b[0m\u001b[0;34m(\u001b[0m\u001b[0;34m[\u001b[0m\u001b[0;36m1\u001b[0m\u001b[0;34m,\u001b[0m\u001b[0;36m2\u001b[0m\u001b[0;34m,\u001b[0m\u001b[0;36m3\u001b[0m\u001b[0;34m]\u001b[0m\u001b[0;34m,\u001b[0m \u001b[0;34m(\u001b[0m\u001b[0;36m11\u001b[0m\u001b[0;34m,\u001b[0m\u001b[0;36m22\u001b[0m\u001b[0;34m,\u001b[0m\u001b[0;36m33\u001b[0m\u001b[0;34m)\u001b[0m\u001b[0;34m)\u001b[0m\u001b[0;34m\u001b[0m\u001b[0;34m\u001b[0m\u001b[0m\n",
      "\u001b[0;31mTypeError\u001b[0m: unsupported operand type(s) for //: 'list' and 'tuple'"
     ]
    }
   ],
   "source": [
    "def divide(divident, divisor):\n",
    "    print(divident // divisor)\n",
    "    \n",
    "divide([1,2,3], (11,22,33))"
   ]
  },
  {
   "cell_type": "code",
   "execution_count": null,
   "id": "a0d785a5",
   "metadata": {},
   "outputs": [],
   "source": [
    "def sum(num1, num2):\n",
    "    print(num1 + 2)\n",
    "    \n",
    "sum(1,2)"
   ]
  },
  {
   "cell_type": "code",
   "execution_count": null,
   "id": "316dd6b2",
   "metadata": {},
   "outputs": [],
   "source": [
    "def sum(num1, num2):\n",
    "    print(num1 + num2)\n",
    "    \n",
    "sum('Cdac','Silchar')"
   ]
  },
  {
   "cell_type": "code",
   "execution_count": null,
   "id": "4f43c8bf",
   "metadata": {},
   "outputs": [],
   "source": [
    "def sum(num1, num2):\n",
    "    print(num1 + '-' + num2)\n",
    "    \n",
    "sum('Cdac','Silchar')"
   ]
  },
  {
   "cell_type": "code",
   "execution_count": null,
   "id": "291eb014",
   "metadata": {},
   "outputs": [],
   "source": [
    "def sum(num1, num2):\n",
    "    print(num1 + '-' + num2)\n",
    "    \n",
    "sum(11,22)"
   ]
  },
  {
   "cell_type": "code",
   "execution_count": null,
   "id": "99f25c72",
   "metadata": {},
   "outputs": [],
   "source": [
    "def sum(num1, num2):\n",
    "    print(num1 + num2)\n",
    "    \n",
    "sum([11],[22])"
   ]
  },
  {
   "cell_type": "code",
   "execution_count": null,
   "id": "0f3807f2",
   "metadata": {},
   "outputs": [],
   "source": [
    "def sum(num1, num2):\n",
    "    print(num1 + num2)\n",
    "    \n",
    "sum([1,2,3,4],[11,22,33,44])"
   ]
  },
  {
   "cell_type": "code",
   "execution_count": null,
   "id": "1917bf8f",
   "metadata": {},
   "outputs": [],
   "source": [
    "def sum(num1, num2):\n",
    "    print(num1 + num2)\n",
    "    \n",
    "sum((1,2,3,4),(11,22,33,44))"
   ]
  },
  {
   "cell_type": "code",
   "execution_count": 34,
   "id": "44832ef7",
   "metadata": {},
   "outputs": [
    {
     "name": "stdout",
     "output_type": "stream",
     "text": [
      "C -> <class 'str'>\n",
      "d -> <class 'str'>\n",
      "a -> <class 'str'>\n",
      "c -> <class 'str'>\n",
      "- -> <class 'str'>\n",
      "S -> <class 'str'>\n",
      "i -> <class 'str'>\n",
      "l -> <class 'str'>\n",
      "c -> <class 'str'>\n",
      "h -> <class 'str'>\n",
      "a -> <class 'str'>\n",
      "r -> <class 'str'>\n"
     ]
    }
   ],
   "source": [
    "def my_print(variable):\n",
    "    for item in variable:\n",
    "        print(item, '->', type(item))\n",
    "\n",
    "my_print('Cdac-Silchar')"
   ]
  },
  {
   "cell_type": "code",
   "execution_count": 35,
   "id": "c14b71f1",
   "metadata": {},
   "outputs": [
    {
     "name": "stdout",
     "output_type": "stream",
     "text": [
      "1 -> <class 'int'>\n",
      "2 -> <class 'int'>\n",
      "3 -> <class 'int'>\n",
      "4 -> <class 'int'>\n",
      "5 -> <class 'int'>\n",
      "6 -> <class 'int'>\n",
      "7 -> <class 'int'>\n"
     ]
    }
   ],
   "source": [
    "my_print( [1,2,3,4,5,6,7] )"
   ]
  },
  {
   "cell_type": "code",
   "execution_count": 36,
   "id": "ce1e9723",
   "metadata": {},
   "outputs": [
    {
     "name": "stdout",
     "output_type": "stream",
     "text": [
      "Assam -> <class 'str'>\n",
      "Rajasthan -> <class 'str'>\n",
      "Odisha -> <class 'str'>\n",
      "Telangana -> <class 'str'>\n"
     ]
    }
   ],
   "source": [
    "states = ['Assam', \"Rajasthan\", 'Odisha', 'Telangana']\n",
    "my_print(states)"
   ]
  },
  {
   "cell_type": "code",
   "execution_count": 40,
   "id": "02eb1a22",
   "metadata": {},
   "outputs": [
    {
     "ename": "TypeError",
     "evalue": "'int' object is not iterable",
     "output_type": "error",
     "traceback": [
      "\u001b[0;31m---------------------------------------------------------------------------\u001b[0m",
      "\u001b[0;31mTypeError\u001b[0m                                 Traceback (most recent call last)",
      "\u001b[0;32m/tmp/ipykernel_28756/2942985011.py\u001b[0m in \u001b[0;36m<module>\u001b[0;34m\u001b[0m\n\u001b[0;32m----> 1\u001b[0;31m \u001b[0mmy_print\u001b[0m\u001b[0;34m(\u001b[0m\u001b[0;36m12\u001b[0m\u001b[0;34m)\u001b[0m\u001b[0;34m\u001b[0m\u001b[0;34m\u001b[0m\u001b[0m\n\u001b[0m",
      "\u001b[0;32m/tmp/ipykernel_28756/3864596125.py\u001b[0m in \u001b[0;36mmy_print\u001b[0;34m(variable)\u001b[0m\n\u001b[1;32m      1\u001b[0m \u001b[0;32mdef\u001b[0m \u001b[0mmy_print\u001b[0m\u001b[0;34m(\u001b[0m\u001b[0mvariable\u001b[0m\u001b[0;34m)\u001b[0m\u001b[0;34m:\u001b[0m\u001b[0;34m\u001b[0m\u001b[0;34m\u001b[0m\u001b[0m\n\u001b[0;32m----> 2\u001b[0;31m     \u001b[0;32mfor\u001b[0m \u001b[0mitem\u001b[0m \u001b[0;32min\u001b[0m \u001b[0mvariable\u001b[0m\u001b[0;34m:\u001b[0m\u001b[0;34m\u001b[0m\u001b[0;34m\u001b[0m\u001b[0m\n\u001b[0m\u001b[1;32m      3\u001b[0m         \u001b[0mprint\u001b[0m\u001b[0;34m(\u001b[0m\u001b[0mitem\u001b[0m\u001b[0;34m,\u001b[0m \u001b[0;34m'->'\u001b[0m\u001b[0;34m,\u001b[0m \u001b[0mtype\u001b[0m\u001b[0;34m(\u001b[0m\u001b[0mitem\u001b[0m\u001b[0;34m)\u001b[0m\u001b[0;34m)\u001b[0m\u001b[0;34m\u001b[0m\u001b[0;34m\u001b[0m\u001b[0m\n\u001b[1;32m      4\u001b[0m \u001b[0;34m\u001b[0m\u001b[0m\n\u001b[1;32m      5\u001b[0m \u001b[0mmy_print\u001b[0m\u001b[0;34m(\u001b[0m\u001b[0;34m'Cdac-Silchar'\u001b[0m\u001b[0;34m)\u001b[0m\u001b[0;34m\u001b[0m\u001b[0;34m\u001b[0m\u001b[0m\n",
      "\u001b[0;31mTypeError\u001b[0m: 'int' object is not iterable"
     ]
    }
   ],
   "source": [
    "my_print(12)"
   ]
  },
  {
   "cell_type": "code",
   "execution_count": null,
   "id": "dbab78fa",
   "metadata": {},
   "outputs": [],
   "source": [
    "list1 = [11,22,33,44]\n",
    "for  i in list1:\n",
    "    print(i)"
   ]
  },
  {
   "cell_type": "code",
   "execution_count": null,
   "id": "e6f06a3a",
   "metadata": {},
   "outputs": [],
   "source": [
    "list1 = 2\n",
    "for i in list1:\n",
    "    print(i)"
   ]
  },
  {
   "cell_type": "code",
   "execution_count": null,
   "id": "a6a2ad29",
   "metadata": {},
   "outputs": [],
   "source": [
    "list1 = 2\n",
    "for i in range(list1):\n",
    "    print(i)"
   ]
  },
  {
   "cell_type": "code",
   "execution_count": null,
   "id": "747a7f57",
   "metadata": {},
   "outputs": [],
   "source": [
    "def fun_1(num1, num2):\n",
    "    print(f'first = {num1}, second = {num2}')\n",
    "fun_1(11,77)    "
   ]
  },
  {
   "cell_type": "code",
   "execution_count": null,
   "id": "2d87be62",
   "metadata": {},
   "outputs": [],
   "source": [
    "fun_1(11)"
   ]
  },
  {
   "cell_type": "code",
   "execution_count": 41,
   "id": "cc619fc3",
   "metadata": {},
   "outputs": [
    {
     "ename": "NameError",
     "evalue": "name 'fun_1' is not defined",
     "output_type": "error",
     "traceback": [
      "\u001b[0;31m---------------------------------------------------------------------------\u001b[0m",
      "\u001b[0;31mNameError\u001b[0m                                 Traceback (most recent call last)",
      "\u001b[0;32m/tmp/ipykernel_28756/3384778245.py\u001b[0m in \u001b[0;36m<module>\u001b[0;34m\u001b[0m\n\u001b[0;32m----> 1\u001b[0;31m \u001b[0mfun_1\u001b[0m\u001b[0;34m(\u001b[0m\u001b[0;36m11\u001b[0m\u001b[0;34m,\u001b[0m\u001b[0;36m22\u001b[0m\u001b[0;34m,\u001b[0m\u001b[0;36m33\u001b[0m\u001b[0;34m)\u001b[0m\u001b[0;34m\u001b[0m\u001b[0;34m\u001b[0m\u001b[0m\n\u001b[0m",
      "\u001b[0;31mNameError\u001b[0m: name 'fun_1' is not defined"
     ]
    }
   ],
   "source": [
    "fun_1(11,22,33)"
   ]
  },
  {
   "cell_type": "code",
   "execution_count": null,
   "id": "af646ac5",
   "metadata": {},
   "outputs": [],
   "source": [
    "def fun_1(num1, num2):\n",
    "    print(f'first = {num1}, second = {num2}')\n",
    "fun_1([11,77])"
   ]
  },
  {
   "cell_type": "code",
   "execution_count": null,
   "id": "da867fd7",
   "metadata": {},
   "outputs": [],
   "source": [
    "def fun_1(num1, num2):\n",
    "    print(f'first = {num1}, second = {num2}')\n",
    "fun_1([11,77], ['aaa', 'bbb'])    "
   ]
  },
  {
   "cell_type": "code",
   "execution_count": null,
   "id": "a48a2923",
   "metadata": {},
   "outputs": [],
   "source": [
    "def fun_1(num1, num2):\n",
    "    print(f'first = {num1}, second = {num2}')\n",
    "fun_1()"
   ]
  },
  {
   "cell_type": "code",
   "execution_count": null,
   "id": "815e5270",
   "metadata": {},
   "outputs": [],
   "source": [
    "# Write a function which generates 4-digit 5 numbers & substract 333 from all.\n",
    "# Result shud be placed in list. Print the list at the end.\n",
    "\n",
    "import random\n",
    "def task():\n",
    "    list1 = []\n",
    "    for i in range(5):\n",
    "        list1.append(random.randint(1000,9999))\n",
    "    \n",
    "    print('Before substracing')\n",
    "    print(list1)\n",
    "    \n",
    "    for i in range(5):\n",
    "        list1[i] = list1[i] - 333\n",
    "\n",
    "    print('After substracing')\n",
    "    print(list1)\n",
    "    \n",
    "        \n",
    "task()"
   ]
  },
  {
   "cell_type": "code",
   "execution_count": null,
   "id": "3ff0207d",
   "metadata": {},
   "outputs": [],
   "source": [
    "list1 = []\n",
    "for i in range(5):\n",
    "    list1.append(7)\n",
    "list1"
   ]
  },
  {
   "cell_type": "code",
   "execution_count": null,
   "id": "06ca94e9",
   "metadata": {},
   "outputs": [],
   "source": [
    "list1 = []\n",
    "for i in range(5):\n",
    "    list1.append(i)\n",
    "list1"
   ]
  },
  {
   "cell_type": "code",
   "execution_count": null,
   "id": "6b19e9da",
   "metadata": {},
   "outputs": [],
   "source": [
    "list1 = []\n",
    "for i in range(5):\n",
    "    list1.append('Amarsingh')\n",
    "list1"
   ]
  },
  {
   "cell_type": "code",
   "execution_count": 42,
   "id": "0a993f16",
   "metadata": {},
   "outputs": [
    {
     "data": {
      "text/plain": [
       "9957"
      ]
     },
     "execution_count": 42,
     "metadata": {},
     "output_type": "execute_result"
    }
   ],
   "source": [
    "import random\n",
    "var = random.randint(1000, 9999)\n",
    "var"
   ]
  },
  {
   "cell_type": "markdown",
   "id": "90c63d6a",
   "metadata": {},
   "source": [
    "## return\n",
    "- it shud be last statement\n",
    "- not complusary to hv return to function\n",
    "- can return multiple return values\n",
    "- anyting written after return statement is unereachable code"
   ]
  },
  {
   "cell_type": "code",
   "execution_count": 43,
   "id": "4f1a3970",
   "metadata": {},
   "outputs": [
    {
     "data": {
      "text/plain": [
       "2323"
      ]
     },
     "execution_count": 43,
     "metadata": {},
     "output_type": "execute_result"
    }
   ],
   "source": [
    "def fun_2():\n",
    "    return 2323\n",
    "fun_2()"
   ]
  },
  {
   "cell_type": "code",
   "execution_count": 44,
   "id": "e6c36fb7",
   "metadata": {},
   "outputs": [
    {
     "data": {
      "text/plain": [
       "2323"
      ]
     },
     "execution_count": 44,
     "metadata": {},
     "output_type": "execute_result"
    }
   ],
   "source": [
    "def fun_2():\n",
    "    return 2323\n",
    "    print('fjhdfdhjk') # unreachbale code\n",
    "fun_2()"
   ]
  },
  {
   "cell_type": "code",
   "execution_count": 45,
   "id": "0dde5aea",
   "metadata": {},
   "outputs": [
    {
     "data": {
      "text/plain": [
       "'ABC'"
      ]
     },
     "execution_count": 45,
     "metadata": {},
     "output_type": "execute_result"
    }
   ],
   "source": [
    "def fun_2():\n",
    "   return 'ABC' \n",
    "fun_2()"
   ]
  },
  {
   "cell_type": "code",
   "execution_count": 46,
   "id": "7f0d4af3",
   "metadata": {},
   "outputs": [
    {
     "data": {
      "text/plain": [
       "['ABC', 'XYZ', 'PQR']"
      ]
     },
     "execution_count": 46,
     "metadata": {},
     "output_type": "execute_result"
    }
   ],
   "source": [
    "def fun_2():\n",
    "   return ['ABC', 'XYZ', 'PQR'] \n",
    "fun_2()"
   ]
  },
  {
   "cell_type": "code",
   "execution_count": 47,
   "id": "8e1785b1",
   "metadata": {},
   "outputs": [
    {
     "data": {
      "text/plain": [
       "999"
      ]
     },
     "execution_count": 47,
     "metadata": {},
     "output_type": "execute_result"
    }
   ],
   "source": [
    "def fun3(num1, num2):\n",
    "    return num1+num2\n",
    "\n",
    "fun3(444,555)"
   ]
  },
  {
   "cell_type": "code",
   "execution_count": 48,
   "id": "dc225f56",
   "metadata": {},
   "outputs": [
    {
     "name": "stdout",
     "output_type": "stream",
     "text": [
      "Before substracing\n",
      "[7342, 4294, 7038, 4261, 5949]\n",
      "After substracing\n",
      "[7009, 3961, 6705, 3928, 5616]\n"
     ]
    }
   ],
   "source": [
    "# Write a function which generates 4-digit 5 numbers & substract 333 from all.\n",
    "# Return output in the form of list\n",
    "\n",
    "import random\n",
    "def task():\n",
    "    list1 = []\n",
    "    for i in range(5):\n",
    "        list1.append(random.randint(1000,9999))\n",
    "    \n",
    "    print('Before substracing')\n",
    "    print(list1)\n",
    "    \n",
    "    for i in range(5):\n",
    "        list1[i] = list1[i] - 333\n",
    "    \n",
    "    return list1\n",
    "\n",
    "\n",
    "output = task()\n",
    "print('After substracing')\n",
    "print(output)"
   ]
  },
  {
   "cell_type": "code",
   "execution_count": 49,
   "id": "d44863b7",
   "metadata": {},
   "outputs": [
    {
     "name": "stdout",
     "output_type": "stream",
     "text": [
      "Before substracing\n",
      "[3237, 3694, 5678, 6164, 9357]\n",
      "After substracing\n",
      "[3237, 3694, 5678, 6164, 9357]\n"
     ]
    }
   ],
   "source": [
    "# Write a function which generates 4-digit 5 numbers & substract 333 from all.\n",
    "# Return output in the form of list\n",
    "\n",
    "import random\n",
    "def task():\n",
    "    list1 = []\n",
    "    print('Before substracing')\n",
    "    for i in range(5):\n",
    "        list1.append(random.randint(1000,9999) - 333)\n",
    "    \n",
    "\n",
    "    print(list1)\n",
    "    \n",
    "#     for i in range(5):\n",
    "#         list1[i] = list1[i] - 333\n",
    "    \n",
    "    return list1\n",
    "\n",
    "\n",
    "output = task()\n",
    "print('After substracing')\n",
    "print(output)"
   ]
  },
  {
   "cell_type": "code",
   "execution_count": 50,
   "id": "157447ec",
   "metadata": {},
   "outputs": [
    {
     "name": "stdout",
     "output_type": "stream",
     "text": [
      "After substracing\n",
      "[7021, 4036, 4176, 9168, 6876]\n"
     ]
    }
   ],
   "source": [
    "# Write a function which generates 4-digit 5 numbers & substract 333 from all.\n",
    "# Return output in the form of list\n",
    "\n",
    "import random\n",
    "def task():\n",
    "    return [random.randint(1000,9999)-333 for i in range(5)]\n",
    "\n",
    "output = task()\n",
    "print('After substracing')\n",
    "print(output)"
   ]
  },
  {
   "cell_type": "code",
   "execution_count": 51,
   "id": "9aa02475",
   "metadata": {},
   "outputs": [
    {
     "data": {
      "text/plain": [
       "[7, 7, 7, 7, 7]"
      ]
     },
     "execution_count": 51,
     "metadata": {},
     "output_type": "execute_result"
    }
   ],
   "source": [
    "[ 7 for i in range(5)]"
   ]
  },
  {
   "cell_type": "code",
   "execution_count": 52,
   "id": "ff7bce67",
   "metadata": {},
   "outputs": [
    {
     "data": {
      "text/plain": [
       "[0, 1, 2, 3, 4]"
      ]
     },
     "execution_count": 52,
     "metadata": {},
     "output_type": "execute_result"
    }
   ],
   "source": [
    "[ i for i in range(5)]"
   ]
  },
  {
   "cell_type": "code",
   "execution_count": 53,
   "id": "b0a4e01d",
   "metadata": {},
   "outputs": [
    {
     "data": {
      "text/plain": [
       "[6925, 4115, 5714, 9944, 8518]"
      ]
     },
     "execution_count": 53,
     "metadata": {},
     "output_type": "execute_result"
    }
   ],
   "source": [
    "[random.randint(1000,9999) for i in range(5)]"
   ]
  },
  {
   "cell_type": "code",
   "execution_count": 54,
   "id": "004b63e1",
   "metadata": {},
   "outputs": [
    {
     "data": {
      "text/plain": [
       "[9317, 6673, 8265, 8759, 6955]"
      ]
     },
     "execution_count": 54,
     "metadata": {},
     "output_type": "execute_result"
    }
   ],
   "source": [
    "[random.randint(1000,9999)-333 for i in range(5)]"
   ]
  },
  {
   "cell_type": "code",
   "execution_count": null,
   "id": "b61155ee",
   "metadata": {},
   "outputs": [],
   "source": []
  },
  {
   "cell_type": "code",
   "execution_count": 55,
   "id": "89550017",
   "metadata": {},
   "outputs": [
    {
     "data": {
      "text/plain": [
       "[6, 7, 8, 9, 10, 34, 33, 32, 31, 30]"
      ]
     },
     "execution_count": 55,
     "metadata": {},
     "output_type": "execute_result"
    }
   ],
   "source": [
    "# Write a function which takes 2 arguments start and end (both included).\n",
    "# Return list with first 5 values and last 5 values and substract 1 from them\n",
    "# for the range of numbers start to end.\n",
    "\n",
    "\n",
    "def task2(start, end):\n",
    "    result = []\n",
    "    for i in range(start, start+5):\n",
    "        result.append(i)\n",
    "#     print(result)\n",
    "    for i in range(end, end - 5, -1):\n",
    "        result.append(i)\n",
    "#     print(result)\n",
    "    for i in range(10):\n",
    "        result[i] = result[i] - 1\n",
    "    return result\n",
    "\n",
    "task2(7, 35)"
   ]
  },
  {
   "cell_type": "code",
   "execution_count": 56,
   "id": "3b12ed0b",
   "metadata": {},
   "outputs": [
    {
     "data": {
      "text/plain": [
       "[122, 123, 124, 125, 126, 675, 674, 673, 672, 671]"
      ]
     },
     "execution_count": 56,
     "metadata": {},
     "output_type": "execute_result"
    }
   ],
   "source": [
    "task2(123,676)"
   ]
  },
  {
   "cell_type": "code",
   "execution_count": 57,
   "id": "30a35223",
   "metadata": {},
   "outputs": [
    {
     "data": {
      "text/plain": [
       "[6, 7, 8, 9, 10, 34, 33, 32, 31, 30]"
      ]
     },
     "execution_count": 57,
     "metadata": {},
     "output_type": "execute_result"
    }
   ],
   "source": [
    "# Write a function which takes 2 arguments start and end (both included).\n",
    "# Return list with first 5 values and last 5 values and substract 1\n",
    "# from them for the range of numbers start to end.\n",
    "\n",
    "\n",
    "def task2(start, end):\n",
    "    result = []\n",
    "    for i in range(start, start+5):\n",
    "        result.append(i)\n",
    "#     print(result)\n",
    "    for i in range(end, end - 5, -1):\n",
    "        result.append(i)\n",
    "#     print(result)\n",
    "    return [i-1 for i in result]\n",
    "\n",
    "task2(7, 35)"
   ]
  },
  {
   "cell_type": "code",
   "execution_count": 58,
   "id": "82516507",
   "metadata": {},
   "outputs": [
    {
     "data": {
      "text/plain": [
       "['Madhya Pradesh',\n",
       " 'uttar pradesh',\n",
       " 'Electoral directorate',\n",
       " 'central bureau Of investigation']"
      ]
     },
     "execution_count": 58,
     "metadata": {},
     "output_type": "execute_result"
    }
   ],
   "source": [
    "fullform = ['Madhya Pradesh', 'uttar pradesh',\n",
    "            'Electoral directorate',\n",
    "            'central bureau Of investigation']\n",
    "fullform"
   ]
  },
  {
   "cell_type": "code",
   "execution_count": 59,
   "id": "83cd9941",
   "metadata": {},
   "outputs": [
    {
     "name": "stdout",
     "output_type": "stream",
     "text": [
      "M.P.\n",
      "U.P.\n",
      "E.D.\n",
      "C.B.I.\n"
     ]
    }
   ],
   "source": [
    "def short_form(variable):\n",
    "    for var in variable:\n",
    "        temp_list = var.split()\n",
    "        for i in temp_list:\n",
    "            if i.lower() != 'of':\n",
    "                print(f'{i[0].upper()}.', end = '')\n",
    "        print()\n",
    "            \n",
    "\n",
    "short_form(fullform)"
   ]
  },
  {
   "cell_type": "code",
   "execution_count": 60,
   "id": "366c1993",
   "metadata": {},
   "outputs": [
    {
     "data": {
      "text/plain": [
       "['Ko', 'Bh', 'Ch', 'Ja', 'Ga', 'Ch', 'Hy', 'Ag', 'Lu', 'De', 'Ko']"
      ]
     },
     "execution_count": 60,
     "metadata": {},
     "output_type": "execute_result"
    }
   ],
   "source": [
    "def first_two_letters(cities):\n",
    "    result = []\n",
    "    for i in cities:\n",
    "        result.append(i[0:2])\n",
    "    return result\n",
    "\n",
    "\n",
    "\n",
    "cities = ['Kohima', 'Bhubaneswar', 'Chandigarh', 'Jaipur',\n",
    "          'Gangtok', 'Chennai', 'Hyderabad',\n",
    "          'Agartala', 'Lucknow', 'Dehradun', 'Kolkata']\n",
    "first_two_letters(cities)"
   ]
  },
  {
   "cell_type": "code",
   "execution_count": 61,
   "id": "3f35cd24",
   "metadata": {},
   "outputs": [],
   "source": [
    "# output = ['Ko', 'Bh', 'Ch', 'Ja', 'Ga', 'Ch', 'Hy', 'Ag', 'Lu', 'De', 'Ko']"
   ]
  },
  {
   "cell_type": "code",
   "execution_count": 62,
   "id": "40e197ee",
   "metadata": {},
   "outputs": [
    {
     "name": "stdout",
     "output_type": "stream",
     "text": [
      "55\n"
     ]
    }
   ],
   "source": [
    "# write a function to return sum of list elements.\n",
    "def my_sum(variable):\n",
    "    sum1 = 0\n",
    "#     print('In my Function', variable)\n",
    "    for i in variable:\n",
    "        sum1 = sum1 + i\n",
    "    print(sum1)\n",
    "    \n",
    "\n",
    "# list1 = [11,22,33,44,55,66,77,88,99]\n",
    "list1 = [i for i in range(1,11)]\n",
    "my_sum(list1)"
   ]
  },
  {
   "cell_type": "code",
   "execution_count": 63,
   "id": "f3861195",
   "metadata": {},
   "outputs": [
    {
     "data": {
      "text/plain": [
       "55"
      ]
     },
     "execution_count": 63,
     "metadata": {},
     "output_type": "execute_result"
    }
   ],
   "source": [
    "# write a function to return sum of list elements.\n",
    "def my_sum(variable):\n",
    "    return sum(variable)\n",
    "    \n",
    "\n",
    "# list1 = [11,22,33,44,55,66,77,88,99]\n",
    "list1 = [i for i in range(1,11)]\n",
    "my_sum(list1)"
   ]
  },
  {
   "cell_type": "code",
   "execution_count": 65,
   "id": "2c64c02d",
   "metadata": {},
   "outputs": [
    {
     "ename": "NameError",
     "evalue": "name 'triplet' is not defined",
     "output_type": "error",
     "traceback": [
      "\u001b[0;31m---------------------------------------------------------------------------\u001b[0m",
      "\u001b[0;31mNameError\u001b[0m                                 Traceback (most recent call last)",
      "\u001b[0;32m/tmp/ipykernel_28756/155449736.py\u001b[0m in \u001b[0;36m<module>\u001b[0;34m\u001b[0m\n\u001b[1;32m      2\u001b[0m \u001b[0mresult\u001b[0m \u001b[0;34m=\u001b[0m \u001b[0;34m[\u001b[0m\u001b[0;34m]\u001b[0m\u001b[0;34m\u001b[0m\u001b[0;34m\u001b[0m\u001b[0m\n\u001b[1;32m      3\u001b[0m \u001b[0;32mfor\u001b[0m \u001b[0mi\u001b[0m \u001b[0;32min\u001b[0m \u001b[0mrange\u001b[0m\u001b[0;34m(\u001b[0m\u001b[0;36m1\u001b[0m\u001b[0;34m,\u001b[0m\u001b[0;36m10\u001b[0m\u001b[0;34m)\u001b[0m\u001b[0;34m:\u001b[0m\u001b[0;34m\u001b[0m\u001b[0;34m\u001b[0m\u001b[0m\n\u001b[0;32m----> 4\u001b[0;31m     \u001b[0mresult\u001b[0m\u001b[0;34m.\u001b[0m\u001b[0mappend\u001b[0m\u001b[0;34m(\u001b[0m\u001b[0mtriplet\u001b[0m\u001b[0;34m(\u001b[0m\u001b[0mi\u001b[0m\u001b[0;34m)\u001b[0m\u001b[0;34m)\u001b[0m\u001b[0;34m\u001b[0m\u001b[0;34m\u001b[0m\u001b[0m\n\u001b[0m\u001b[1;32m      5\u001b[0m \u001b[0mresult\u001b[0m\u001b[0;34m\u001b[0m\u001b[0;34m\u001b[0m\u001b[0m\n\u001b[1;32m      6\u001b[0m \u001b[0;34m\u001b[0m\u001b[0m\n",
      "\u001b[0;31mNameError\u001b[0m: name 'triplet' is not defined"
     ]
    }
   ],
   "source": [
    "# list1 = [111,222,333,444,555,666,777,888,999]\n",
    "result = []\n",
    "for i in range(1,10):\n",
    "    result.append(triplet(i))\n",
    "result\n",
    "    \n",
    "    "
   ]
  },
  {
   "cell_type": "code",
   "execution_count": null,
   "id": "38a99bb6",
   "metadata": {},
   "outputs": [],
   "source": [
    "[var*111 for var in range(1,10)]"
   ]
  },
  {
   "cell_type": "code",
   "execution_count": null,
   "id": "41d67223",
   "metadata": {},
   "outputs": [],
   "source": [
    "def hectic_task():\n",
    "    return [var*111 for var in range(1,10)]\n",
    "hectic_task()"
   ]
  },
  {
   "cell_type": "code",
   "execution_count": null,
   "id": "609ddd7c",
   "metadata": {},
   "outputs": [],
   "source": [
    "def hectic_task():\n",
    "    return [triplet(var) for var in range(1,10)]\n",
    "hectic_task()"
   ]
  },
  {
   "cell_type": "code",
   "execution_count": null,
   "id": "b1463b84",
   "metadata": {},
   "outputs": [],
   "source": []
  },
  {
   "cell_type": "code",
   "execution_count": 67,
   "id": "03312ef1",
   "metadata": {},
   "outputs": [],
   "source": [
    "def triplet(num):\n",
    "    return num*111"
   ]
  },
  {
   "cell_type": "code",
   "execution_count": 68,
   "id": "d9718fed",
   "metadata": {},
   "outputs": [
    {
     "data": {
      "text/plain": [
       "222"
      ]
     },
     "execution_count": 68,
     "metadata": {},
     "output_type": "execute_result"
    }
   ],
   "source": [
    "triplet(2)"
   ]
  },
  {
   "cell_type": "code",
   "execution_count": 69,
   "id": "d1e87085",
   "metadata": {},
   "outputs": [
    {
     "data": {
      "text/plain": [
       "666"
      ]
     },
     "execution_count": 69,
     "metadata": {},
     "output_type": "execute_result"
    }
   ],
   "source": [
    "triplet(6)"
   ]
  },
  {
   "cell_type": "code",
   "execution_count": 70,
   "id": "654afc53",
   "metadata": {},
   "outputs": [
    {
     "data": {
      "text/plain": [
       "[111, 222, 333, 444, 555, 666, 777, 888, 999]"
      ]
     },
     "execution_count": 70,
     "metadata": {},
     "output_type": "execute_result"
    }
   ],
   "source": [
    "def hectic_task_modified():\n",
    "    return [triplet_modified(var) for var in range(1,10)]\n",
    "\n",
    "def triplet_modified(num):\n",
    "    return num*111\n",
    "\n",
    "hectic_task_modified()"
   ]
  },
  {
   "cell_type": "code",
   "execution_count": 71,
   "id": "f02b7953",
   "metadata": {},
   "outputs": [
    {
     "data": {
      "text/plain": [
       "[111, 222, 333, 444, 555, 666, 777, 888, 999]"
      ]
     },
     "execution_count": 71,
     "metadata": {},
     "output_type": "execute_result"
    }
   ],
   "source": [
    "def hectic_task_modified():\n",
    "    return [triplet_modified(var) for var in range(1,10)]\n",
    "\n",
    "def triplet_modified(num):\n",
    "    return num*111\n",
    "\n",
    "hectic_task_modified()"
   ]
  },
  {
   "cell_type": "code",
   "execution_count": 72,
   "id": "a16b9351",
   "metadata": {},
   "outputs": [
    {
     "name": "stdout",
     "output_type": "stream",
     "text": [
      "Enter number12\n",
      "12 * 1 = 12\n",
      "12 * 2 = 24\n",
      "12 * 3 = 36\n",
      "12 * 4 = 48\n",
      "12 * 5 = 60\n",
      "12 * 6 = 72\n",
      "12 * 7 = 84\n",
      "12 * 8 = 96\n",
      "12 * 9 = 108\n",
      "12 * 10 = 120\n"
     ]
    }
   ],
   "source": [
    "def table(num):\n",
    "    for i in range(1, 11):\n",
    "        print(f'{num} * {i} = {num*i}')\n",
    "#     print(f'{num} * 2 = {num*2}')\n",
    "#     print(f'{num} * 3 = {num*3}')\n",
    "\n",
    "var = input('Enter number')\n",
    "table(int(var))\n"
   ]
  },
  {
   "cell_type": "code",
   "execution_count": 73,
   "id": "567c66df",
   "metadata": {},
   "outputs": [
    {
     "name": "stdout",
     "output_type": "stream",
     "text": [
      "120\n"
     ]
    }
   ],
   "source": [
    "# write a function to return product of list elements.\n",
    "def my_product(variable):\n",
    "    product1 = 1\n",
    "#     print('In my Function', variable)\n",
    "    for i in variable:\n",
    "        product1 = product1 * i\n",
    "    print(product1)    \n",
    "\n",
    "# list1 = [11,22,33,44,55,66,77,88,99]\n",
    "list1 = [i for i in range(1,6)]\n",
    "# print(list1)\n",
    "my_product(list1)"
   ]
  },
  {
   "cell_type": "code",
   "execution_count": 74,
   "id": "b1a589c1",
   "metadata": {},
   "outputs": [
    {
     "name": "stdout",
     "output_type": "stream",
     "text": [
      "120\n"
     ]
    }
   ],
   "source": [
    "# write a function to return product of list elements.\n",
    "def factorial(num):\n",
    "    product1 = 1\n",
    "    list1 = [i for i in range(1,num+1)]\n",
    "    for i in list1:\n",
    "        product1 = product1 * i\n",
    "    print(product1)    \n",
    "\n",
    "\n",
    "factorial(5)"
   ]
  },
  {
   "cell_type": "code",
   "execution_count": 75,
   "id": "1830f4e9",
   "metadata": {},
   "outputs": [
    {
     "name": "stdout",
     "output_type": "stream",
     "text": [
      "11 55\n"
     ]
    }
   ],
   "source": [
    "a,b = 11,55\n",
    "print(a,b)"
   ]
  },
  {
   "cell_type": "code",
   "execution_count": 80,
   "id": "cbfc347f",
   "metadata": {},
   "outputs": [
    {
     "name": "stdout",
     "output_type": "stream",
     "text": [
      "before swap a = 11, b = 55\n",
      "after swap  a = 55, b = 11\n"
     ]
    }
   ],
   "source": [
    "print(f'before swap a = {a}, b = {b}')\n",
    "a, b = b, a\n",
    "print(f'after swap  a = {a}, b = {b}')\n"
   ]
  },
  {
   "cell_type": "code",
   "execution_count": null,
   "id": "465af8ac",
   "metadata": {},
   "outputs": [],
   "source": [
    "a,b = 11,55\n",
    "print(f'before swap a = {a}, b = {b}')\n",
    "temp = a\n",
    "a, b = b, a\n",
    "print(f'after swap  a = {a}, b = {b}')\n"
   ]
  },
  {
   "cell_type": "code",
   "execution_count": 81,
   "id": "e98419b4",
   "metadata": {},
   "outputs": [
    {
     "name": "stdout",
     "output_type": "stream",
     "text": [
      "before swap a = 11, b = 55\n",
      "after swap  a = 55, b = 11\n"
     ]
    }
   ],
   "source": [
    "a,b = 11,55\n",
    "print(f'before swap a = {a}, b = {b}')\n",
    "temp = a\n",
    "a = b\n",
    "b = temp\n",
    "print(f'after swap  a = {a}, b = {b}')\n"
   ]
  },
  {
   "cell_type": "code",
   "execution_count": null,
   "id": "13eb0cb7",
   "metadata": {},
   "outputs": [],
   "source": [
    "a,b = 11,55\n",
    "print(f'before swap a = {a}, b = {b}')\n",
    "temp = a\n",
    "a = b\n",
    "b = temp\n",
    "print(f'after swap  a = {a}, b = {b}')"
   ]
  },
  {
   "cell_type": "code",
   "execution_count": 82,
   "id": "2f3c84ae",
   "metadata": {},
   "outputs": [
    {
     "name": "stdout",
     "output_type": "stream",
     "text": [
      "before swap a = 11, b = 55\n",
      "after swap  a = 55, b = 11\n"
     ]
    }
   ],
   "source": [
    "a,b = 11,55\n",
    "print(f'before swap a = {a}, b = {b}')\n",
    "a = a + b\n",
    "b = a - b\n",
    "a = a - b\n",
    "print(f'after swap  a = {a}, b = {b}')"
   ]
  },
  {
   "cell_type": "code",
   "execution_count": 85,
   "id": "01a01c12",
   "metadata": {},
   "outputs": [
    {
     "name": "stdout",
     "output_type": "stream",
     "text": [
      "Abc. xyz.\n",
      "Abc, xyz,\n"
     ]
    }
   ],
   "source": [
    "string = 'Abc, xyz.'\n",
    "string = string.replace(',', '.')\n",
    "print(string)\n",
    "string = string.replace('.',',')\n",
    "print(string)"
   ]
  },
  {
   "cell_type": "code",
   "execution_count": 96,
   "id": "fdf2a450",
   "metadata": {},
   "outputs": [
    {
     "name": "stdout",
     "output_type": "stream",
     "text": [
      "Abc. xyz,\n"
     ]
    }
   ],
   "source": [
    "string = 'Abc, xyz.'\n",
    "strange_string = 'Himalayas'\n",
    "string = string.replace(',', strange_string)\n",
    "# print(string)\n",
    "string = string.replace('.', ',')\n",
    "# print(string)\n",
    "string = string.replace(strange_string, '.')\n",
    "print(string)"
   ]
  },
  {
   "cell_type": "code",
   "execution_count": 100,
   "id": "65232182",
   "metadata": {},
   "outputs": [
    {
     "name": "stdout",
     "output_type": "stream",
     "text": [
      "before swap-> Abc, xyz.\n",
      "after swap->  Abc. xyz,\n"
     ]
    }
   ],
   "source": [
    "def swap_dot_comma(string):\n",
    "    print('before swap->', string)\n",
    "    strange_string = 'HHH'\n",
    "    string = string.replace(',', strange_string)\n",
    "    # print(string)\n",
    "    string = string.replace('.', ',')\n",
    "    # print(string)\n",
    "    string = string.replace(strange_string, '.')\n",
    "    print('after swap-> ', string)\n",
    "    \n",
    "swap_dot_comma('Abc, xyz.')"
   ]
  },
  {
   "cell_type": "code",
   "execution_count": null,
   "id": "97539dc1",
   "metadata": {},
   "outputs": [],
   "source": []
  }
 ],
 "metadata": {
  "kernelspec": {
   "display_name": "Python 3 (ipykernel)",
   "language": "python",
   "name": "python3"
  },
  "language_info": {
   "codemirror_mode": {
    "name": "ipython",
    "version": 3
   },
   "file_extension": ".py",
   "mimetype": "text/x-python",
   "name": "python",
   "nbconvert_exporter": "python",
   "pygments_lexer": "ipython3",
   "version": "3.10.12"
  }
 },
 "nbformat": 4,
 "nbformat_minor": 5
}
