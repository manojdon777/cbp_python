{
 "cells": [
  {
   "cell_type": "code",
   "execution_count": null,
   "id": "9a6b67bb",
   "metadata": {},
   "outputs": [],
   "source": [
    "Functions\n",
    "- Used for wrting subtaks\n",
    "- function can have zero or more return statement\n",
    "- functions can have zero or more parameters\n"
   ]
  },
  {
   "cell_type": "code",
   "execution_count": 2,
   "id": "b034dfd3",
   "metadata": {},
   "outputs": [],
   "source": [
    "syntax\n",
    "\n",
    "def funname():\n",
    "    line1\n",
    "    line2\n",
    "    line3\n",
    "    return\n",
    "    "
   ]
  },
  {
   "cell_type": "code",
   "execution_count": null,
   "id": "2f1a8d02",
   "metadata": {},
   "outputs": [],
   "source": [
    "syntax\n",
    "\n",
    "def funname():\n",
    "    line1\n",
    "    line2\n",
    "line3\n",
    "    \n",
    "    "
   ]
  },
  {
   "cell_type": "code",
   "execution_count": null,
   "id": "63637849",
   "metadata": {},
   "outputs": [],
   "source": []
  },
  {
   "cell_type": "code",
   "execution_count": 3,
   "id": "f00e471d",
   "metadata": {},
   "outputs": [],
   "source": [
    "def abc():\n",
    "    pass"
   ]
  },
  {
   "cell_type": "code",
   "execution_count": 4,
   "id": "6e87556f",
   "metadata": {},
   "outputs": [],
   "source": [
    "abc()"
   ]
  },
  {
   "cell_type": "code",
   "execution_count": 5,
   "id": "60771bbf",
   "metadata": {},
   "outputs": [],
   "source": [
    "def abc():\n",
    "    print('I am in functions block')"
   ]
  },
  {
   "cell_type": "code",
   "execution_count": 6,
   "id": "7185af3b",
   "metadata": {},
   "outputs": [
    {
     "name": "stdout",
     "output_type": "stream",
     "text": [
      "I am in functions block\n"
     ]
    }
   ],
   "source": [
    "abc()"
   ]
  },
  {
   "cell_type": "code",
   "execution_count": 14,
   "id": "e4e3f0ca",
   "metadata": {},
   "outputs": [
    {
     "name": "stdout",
     "output_type": "stream",
     "text": [
      "I am in functions block\n"
     ]
    }
   ],
   "source": [
    "def abc():\n",
    "    print('I am in functions block')\n",
    "\n",
    "abc()"
   ]
  },
  {
   "cell_type": "code",
   "execution_count": 15,
   "id": "c0054e7d",
   "metadata": {},
   "outputs": [
    {
     "ename": "NameError",
     "evalue": "name 'abc123' is not defined",
     "output_type": "error",
     "traceback": [
      "\u001b[0;31m---------------------------------------------------------------------------\u001b[0m",
      "\u001b[0;31mNameError\u001b[0m                                 Traceback (most recent call last)",
      "\u001b[0;32m/tmp/ipykernel_19270/1306027281.py\u001b[0m in \u001b[0;36m<module>\u001b[0;34m\u001b[0m\n\u001b[0;32m----> 1\u001b[0;31m \u001b[0mabc123\u001b[0m\u001b[0;34m(\u001b[0m\u001b[0;34m)\u001b[0m\u001b[0;34m\u001b[0m\u001b[0;34m\u001b[0m\u001b[0m\n\u001b[0m\u001b[1;32m      2\u001b[0m \u001b[0;34m\u001b[0m\u001b[0m\n\u001b[1;32m      3\u001b[0m \u001b[0;32mdef\u001b[0m \u001b[0mabc123\u001b[0m\u001b[0;34m(\u001b[0m\u001b[0;34m)\u001b[0m\u001b[0;34m:\u001b[0m\u001b[0;34m\u001b[0m\u001b[0;34m\u001b[0m\u001b[0m\n\u001b[1;32m      4\u001b[0m     \u001b[0mprint\u001b[0m\u001b[0;34m(\u001b[0m\u001b[0;34m'I am in functions block'\u001b[0m\u001b[0;34m)\u001b[0m\u001b[0;34m\u001b[0m\u001b[0;34m\u001b[0m\u001b[0m\n",
      "\u001b[0;31mNameError\u001b[0m: name 'abc123' is not defined"
     ]
    }
   ],
   "source": [
    "abc123()\n",
    "\n",
    "def abc123():\n",
    "    print('I am in functions block')"
   ]
  },
  {
   "cell_type": "code",
   "execution_count": 16,
   "id": "65e899ae",
   "metadata": {},
   "outputs": [
    {
     "name": "stdout",
     "output_type": "stream",
     "text": [
      "I am in functions block\n"
     ]
    }
   ],
   "source": [
    "def abc123():\n",
    "    print('I am in functions block')\n",
    "    \n",
    "abc123()"
   ]
  },
  {
   "cell_type": "code",
   "execution_count": 18,
   "id": "6b9e8da7",
   "metadata": {},
   "outputs": [
    {
     "name": "stdout",
     "output_type": "stream",
     "text": [
      "<function abc123 at 0x7f3078601b40>\n"
     ]
    }
   ],
   "source": [
    "def abc123():\n",
    "    print('I am in functions block')\n",
    "    \n",
    "print(abc123)"
   ]
  },
  {
   "cell_type": "code",
   "execution_count": 19,
   "id": "5ea8702a",
   "metadata": {},
   "outputs": [
    {
     "name": "stdout",
     "output_type": "stream",
     "text": [
      "I am in functions block\n",
      "None\n"
     ]
    }
   ],
   "source": [
    "def abc123():\n",
    "    print('I am in functions block')\n",
    "    \n",
    "print(abc123())"
   ]
  },
  {
   "cell_type": "code",
   "execution_count": 20,
   "id": "0c4dd1ef",
   "metadata": {},
   "outputs": [
    {
     "name": "stdout",
     "output_type": "stream",
     "text": [
      "I am in functions block\n"
     ]
    },
    {
     "data": {
      "text/plain": [
       "'This is my return statement'"
      ]
     },
     "execution_count": 20,
     "metadata": {},
     "output_type": "execute_result"
    }
   ],
   "source": [
    "def abc123(): # execute this code on terminal using python interpreter\n",
    "    print('I am in functions block')\n",
    "    return \"This is my return statement\"\n",
    "    \n",
    "abc123()"
   ]
  },
  {
   "cell_type": "code",
   "execution_count": null,
   "id": "a939cbe8",
   "metadata": {},
   "outputs": [],
   "source": [
    "def abc123(): # execute this code on terminal using python interpreter\n",
    "    print('I am in functions block')\n",
    "    return \"This is my return statement\"\n",
    "    \n",
    "print(abc123())"
   ]
  },
  {
   "cell_type": "code",
   "execution_count": null,
   "id": "df5b210c",
   "metadata": {},
   "outputs": [],
   "source": []
  },
  {
   "cell_type": "code",
   "execution_count": null,
   "id": "efd0d5c2",
   "metadata": {},
   "outputs": [],
   "source": [
    "def xyz(): # this cell has not been executed\n",
    "    print('in xyz')"
   ]
  },
  {
   "cell_type": "code",
   "execution_count": 7,
   "id": "54d1e4ff",
   "metadata": {},
   "outputs": [
    {
     "ename": "NameError",
     "evalue": "name 'xyz' is not defined",
     "output_type": "error",
     "traceback": [
      "\u001b[0;31m---------------------------------------------------------------------------\u001b[0m",
      "\u001b[0;31mNameError\u001b[0m                                 Traceback (most recent call last)",
      "\u001b[0;32m/tmp/ipykernel_19270/2455762604.py\u001b[0m in \u001b[0;36m<module>\u001b[0;34m\u001b[0m\n\u001b[0;32m----> 1\u001b[0;31m \u001b[0mxyz\u001b[0m\u001b[0;34m(\u001b[0m\u001b[0;34m)\u001b[0m\u001b[0;34m\u001b[0m\u001b[0;34m\u001b[0m\u001b[0m\n\u001b[0m",
      "\u001b[0;31mNameError\u001b[0m: name 'xyz' is not defined"
     ]
    }
   ],
   "source": [
    "xyz()"
   ]
  },
  {
   "cell_type": "code",
   "execution_count": 9,
   "id": "76248bb4",
   "metadata": {},
   "outputs": [],
   "source": [
    "def xyz():\n",
    "    print('in xyz')"
   ]
  },
  {
   "cell_type": "code",
   "execution_count": 10,
   "id": "48855594",
   "metadata": {},
   "outputs": [
    {
     "name": "stdout",
     "output_type": "stream",
     "text": [
      "in xyz\n"
     ]
    }
   ],
   "source": [
    "xyz()"
   ]
  },
  {
   "cell_type": "code",
   "execution_count": 11,
   "id": "ccf81c9b",
   "metadata": {},
   "outputs": [
    {
     "name": "stdout",
     "output_type": "stream",
     "text": [
      "in xyz\n"
     ]
    }
   ],
   "source": [
    "def xyz():\n",
    "    print('in xyz')\n",
    "\n",
    "xyz()"
   ]
  },
  {
   "cell_type": "markdown",
   "id": "8007501d",
   "metadata": {},
   "source": [
    "## Function with argument/parameter"
   ]
  },
  {
   "cell_type": "code",
   "execution_count": 22,
   "id": "5adc2503",
   "metadata": {},
   "outputs": [
    {
     "name": "stdout",
     "output_type": "stream",
     "text": [
      "123 <class 'int'>\n"
     ]
    }
   ],
   "source": [
    "def fun1(num):\n",
    "    print(num, type(num))\n",
    "\n",
    "fun1(123)"
   ]
  },
  {
   "cell_type": "code",
   "execution_count": 23,
   "id": "219fd4b1",
   "metadata": {},
   "outputs": [
    {
     "name": "stdout",
     "output_type": "stream",
     "text": [
      "123.456 <class 'float'>\n"
     ]
    }
   ],
   "source": [
    "def fun1(num):\n",
    "    print(num, type(num))\n",
    "\n",
    "fun1(123.456)"
   ]
  },
  {
   "cell_type": "code",
   "execution_count": 24,
   "id": "aeac5894",
   "metadata": {},
   "outputs": [
    {
     "name": "stdout",
     "output_type": "stream",
     "text": [
      "['abc', '123'] <class 'list'>\n"
     ]
    }
   ],
   "source": [
    "def fun1(num):\n",
    "    print(num, type(num))\n",
    "\n",
    "fun1(['abc', '123'])"
   ]
  },
  {
   "cell_type": "code",
   "execution_count": 25,
   "id": "bc5c0154",
   "metadata": {},
   "outputs": [
    {
     "name": "stdout",
     "output_type": "stream",
     "text": [
      "string line <class 'str'>\n"
     ]
    }
   ],
   "source": [
    "def fun1(num):\n",
    "    print(num, type(num))\n",
    "\n",
    "fun1('string line')"
   ]
  },
  {
   "cell_type": "code",
   "execution_count": 26,
   "id": "6f855cf6",
   "metadata": {},
   "outputs": [
    {
     "name": "stdout",
     "output_type": "stream",
     "text": [
      "111\n"
     ]
    }
   ],
   "source": [
    "def divide(divident, divisor):\n",
    "    print(divident// divisor)\n",
    "    \n",
    "divide(444, 4)"
   ]
  },
  {
   "cell_type": "code",
   "execution_count": null,
   "id": "0c755d39",
   "metadata": {},
   "outputs": [],
   "source": [
    "def divide(divident, divisor):\n",
    "    print(divident// divisor)\n",
    "    \n",
    "divide(444, 4)"
   ]
  },
  {
   "cell_type": "code",
   "execution_count": 33,
   "id": "f20ff93f",
   "metadata": {},
   "outputs": [
    {
     "ename": "TypeError",
     "evalue": "unsupported operand type(s) for //: 'str' and 'str'",
     "output_type": "error",
     "traceback": [
      "\u001b[0;31m---------------------------------------------------------------------------\u001b[0m",
      "\u001b[0;31mTypeError\u001b[0m                                 Traceback (most recent call last)",
      "\u001b[0;32m/tmp/ipykernel_19270/981005539.py\u001b[0m in \u001b[0;36m<module>\u001b[0;34m\u001b[0m\n\u001b[1;32m      2\u001b[0m     \u001b[0mprint\u001b[0m\u001b[0;34m(\u001b[0m\u001b[0mdivident\u001b[0m\u001b[0;34m//\u001b[0m \u001b[0mdivisor\u001b[0m\u001b[0;34m)\u001b[0m\u001b[0;34m\u001b[0m\u001b[0;34m\u001b[0m\u001b[0m\n\u001b[1;32m      3\u001b[0m \u001b[0;34m\u001b[0m\u001b[0m\n\u001b[0;32m----> 4\u001b[0;31m \u001b[0mdivide\u001b[0m\u001b[0;34m(\u001b[0m\u001b[0;34m'abc'\u001b[0m\u001b[0;34m,\u001b[0m \u001b[0;34m'xyz'\u001b[0m\u001b[0;34m)\u001b[0m\u001b[0;34m\u001b[0m\u001b[0;34m\u001b[0m\u001b[0m\n\u001b[0m",
      "\u001b[0;32m/tmp/ipykernel_19270/981005539.py\u001b[0m in \u001b[0;36mdivide\u001b[0;34m(divident, divisor)\u001b[0m\n\u001b[1;32m      1\u001b[0m \u001b[0;32mdef\u001b[0m \u001b[0mdivide\u001b[0m\u001b[0;34m(\u001b[0m\u001b[0mdivident\u001b[0m\u001b[0;34m,\u001b[0m \u001b[0mdivisor\u001b[0m\u001b[0;34m)\u001b[0m\u001b[0;34m:\u001b[0m\u001b[0;34m\u001b[0m\u001b[0;34m\u001b[0m\u001b[0m\n\u001b[0;32m----> 2\u001b[0;31m     \u001b[0mprint\u001b[0m\u001b[0;34m(\u001b[0m\u001b[0mdivident\u001b[0m\u001b[0;34m//\u001b[0m \u001b[0mdivisor\u001b[0m\u001b[0;34m)\u001b[0m\u001b[0;34m\u001b[0m\u001b[0;34m\u001b[0m\u001b[0m\n\u001b[0m\u001b[1;32m      3\u001b[0m \u001b[0;34m\u001b[0m\u001b[0m\n\u001b[1;32m      4\u001b[0m \u001b[0mdivide\u001b[0m\u001b[0;34m(\u001b[0m\u001b[0;34m'abc'\u001b[0m\u001b[0;34m,\u001b[0m \u001b[0;34m'xyz'\u001b[0m\u001b[0;34m)\u001b[0m\u001b[0;34m\u001b[0m\u001b[0;34m\u001b[0m\u001b[0m\n",
      "\u001b[0;31mTypeError\u001b[0m: unsupported operand type(s) for //: 'str' and 'str'"
     ]
    }
   ],
   "source": [
    "def divide(divident, divisor):\n",
    "    print(divident // divisor)\n",
    "    \n",
    "divide('abc', 'xyz')"
   ]
  },
  {
   "cell_type": "code",
   "execution_count": 34,
   "id": "06661d2b",
   "metadata": {},
   "outputs": [
    {
     "ename": "TypeError",
     "evalue": "unsupported operand type(s) for //: 'list' and 'tuple'",
     "output_type": "error",
     "traceback": [
      "\u001b[0;31m---------------------------------------------------------------------------\u001b[0m",
      "\u001b[0;31mTypeError\u001b[0m                                 Traceback (most recent call last)",
      "\u001b[0;32m/tmp/ipykernel_19270/3682043178.py\u001b[0m in \u001b[0;36m<module>\u001b[0;34m\u001b[0m\n\u001b[1;32m      2\u001b[0m     \u001b[0mprint\u001b[0m\u001b[0;34m(\u001b[0m\u001b[0mdivident\u001b[0m \u001b[0;34m//\u001b[0m \u001b[0mdivisor\u001b[0m\u001b[0;34m)\u001b[0m\u001b[0;34m\u001b[0m\u001b[0;34m\u001b[0m\u001b[0m\n\u001b[1;32m      3\u001b[0m \u001b[0;34m\u001b[0m\u001b[0m\n\u001b[0;32m----> 4\u001b[0;31m \u001b[0mdivide\u001b[0m\u001b[0;34m(\u001b[0m\u001b[0;34m[\u001b[0m\u001b[0;36m1\u001b[0m\u001b[0;34m,\u001b[0m\u001b[0;36m2\u001b[0m\u001b[0;34m,\u001b[0m\u001b[0;36m3\u001b[0m\u001b[0;34m]\u001b[0m\u001b[0;34m,\u001b[0m \u001b[0;34m(\u001b[0m\u001b[0;36m11\u001b[0m\u001b[0;34m,\u001b[0m\u001b[0;36m22\u001b[0m\u001b[0;34m,\u001b[0m\u001b[0;36m33\u001b[0m\u001b[0;34m)\u001b[0m\u001b[0;34m)\u001b[0m\u001b[0;34m\u001b[0m\u001b[0;34m\u001b[0m\u001b[0m\n\u001b[0m",
      "\u001b[0;32m/tmp/ipykernel_19270/3682043178.py\u001b[0m in \u001b[0;36mdivide\u001b[0;34m(divident, divisor)\u001b[0m\n\u001b[1;32m      1\u001b[0m \u001b[0;32mdef\u001b[0m \u001b[0mdivide\u001b[0m\u001b[0;34m(\u001b[0m\u001b[0mdivident\u001b[0m\u001b[0;34m,\u001b[0m \u001b[0mdivisor\u001b[0m\u001b[0;34m)\u001b[0m\u001b[0;34m:\u001b[0m\u001b[0;34m\u001b[0m\u001b[0;34m\u001b[0m\u001b[0m\n\u001b[0;32m----> 2\u001b[0;31m     \u001b[0mprint\u001b[0m\u001b[0;34m(\u001b[0m\u001b[0mdivident\u001b[0m \u001b[0;34m//\u001b[0m \u001b[0mdivisor\u001b[0m\u001b[0;34m)\u001b[0m\u001b[0;34m\u001b[0m\u001b[0;34m\u001b[0m\u001b[0m\n\u001b[0m\u001b[1;32m      3\u001b[0m \u001b[0;34m\u001b[0m\u001b[0m\n\u001b[1;32m      4\u001b[0m \u001b[0mdivide\u001b[0m\u001b[0;34m(\u001b[0m\u001b[0;34m[\u001b[0m\u001b[0;36m1\u001b[0m\u001b[0;34m,\u001b[0m\u001b[0;36m2\u001b[0m\u001b[0;34m,\u001b[0m\u001b[0;36m3\u001b[0m\u001b[0;34m]\u001b[0m\u001b[0;34m,\u001b[0m \u001b[0;34m(\u001b[0m\u001b[0;36m11\u001b[0m\u001b[0;34m,\u001b[0m\u001b[0;36m22\u001b[0m\u001b[0;34m,\u001b[0m\u001b[0;36m33\u001b[0m\u001b[0;34m)\u001b[0m\u001b[0;34m)\u001b[0m\u001b[0;34m\u001b[0m\u001b[0;34m\u001b[0m\u001b[0m\n",
      "\u001b[0;31mTypeError\u001b[0m: unsupported operand type(s) for //: 'list' and 'tuple'"
     ]
    }
   ],
   "source": [
    "def divide(divident, divisor):\n",
    "    print(divident // divisor)\n",
    "    \n",
    "divide([1,2,3], (11,22,33))"
   ]
  },
  {
   "cell_type": "code",
   "execution_count": 35,
   "id": "4c89e013",
   "metadata": {},
   "outputs": [
    {
     "name": "stdout",
     "output_type": "stream",
     "text": [
      "3\n"
     ]
    }
   ],
   "source": [
    "def sum(num1, num2):\n",
    "    print(num1 + 2)\n",
    "    \n",
    "sum(1,2)"
   ]
  },
  {
   "cell_type": "code",
   "execution_count": 37,
   "id": "70dc5388",
   "metadata": {},
   "outputs": [
    {
     "name": "stdout",
     "output_type": "stream",
     "text": [
      "CdacSilchar\n"
     ]
    }
   ],
   "source": [
    "def sum(num1, num2):\n",
    "    print(num1 + num2)\n",
    "    \n",
    "sum('Cdac','Silchar')"
   ]
  },
  {
   "cell_type": "code",
   "execution_count": 38,
   "id": "03a01aa3",
   "metadata": {},
   "outputs": [
    {
     "name": "stdout",
     "output_type": "stream",
     "text": [
      "Cdac-Silchar\n"
     ]
    }
   ],
   "source": [
    "def sum(num1, num2):\n",
    "    print(num1 + '-' + num2)\n",
    "    \n",
    "sum('Cdac','Silchar')"
   ]
  },
  {
   "cell_type": "code",
   "execution_count": 39,
   "id": "7910ddd7",
   "metadata": {},
   "outputs": [
    {
     "ename": "TypeError",
     "evalue": "unsupported operand type(s) for +: 'int' and 'str'",
     "output_type": "error",
     "traceback": [
      "\u001b[0;31m---------------------------------------------------------------------------\u001b[0m",
      "\u001b[0;31mTypeError\u001b[0m                                 Traceback (most recent call last)",
      "\u001b[0;32m/tmp/ipykernel_19270/2355978615.py\u001b[0m in \u001b[0;36m<module>\u001b[0;34m\u001b[0m\n\u001b[1;32m      2\u001b[0m     \u001b[0mprint\u001b[0m\u001b[0;34m(\u001b[0m\u001b[0mnum1\u001b[0m \u001b[0;34m+\u001b[0m \u001b[0;34m'-'\u001b[0m \u001b[0;34m+\u001b[0m \u001b[0mnum2\u001b[0m\u001b[0;34m)\u001b[0m\u001b[0;34m\u001b[0m\u001b[0;34m\u001b[0m\u001b[0m\n\u001b[1;32m      3\u001b[0m \u001b[0;34m\u001b[0m\u001b[0m\n\u001b[0;32m----> 4\u001b[0;31m \u001b[0msum\u001b[0m\u001b[0;34m(\u001b[0m\u001b[0;36m11\u001b[0m\u001b[0;34m,\u001b[0m\u001b[0;36m22\u001b[0m\u001b[0;34m)\u001b[0m\u001b[0;34m\u001b[0m\u001b[0;34m\u001b[0m\u001b[0m\n\u001b[0m",
      "\u001b[0;32m/tmp/ipykernel_19270/2355978615.py\u001b[0m in \u001b[0;36msum\u001b[0;34m(num1, num2)\u001b[0m\n\u001b[1;32m      1\u001b[0m \u001b[0;32mdef\u001b[0m \u001b[0msum\u001b[0m\u001b[0;34m(\u001b[0m\u001b[0mnum1\u001b[0m\u001b[0;34m,\u001b[0m \u001b[0mnum2\u001b[0m\u001b[0;34m)\u001b[0m\u001b[0;34m:\u001b[0m\u001b[0;34m\u001b[0m\u001b[0;34m\u001b[0m\u001b[0m\n\u001b[0;32m----> 2\u001b[0;31m     \u001b[0mprint\u001b[0m\u001b[0;34m(\u001b[0m\u001b[0mnum1\u001b[0m \u001b[0;34m+\u001b[0m \u001b[0;34m'-'\u001b[0m \u001b[0;34m+\u001b[0m \u001b[0mnum2\u001b[0m\u001b[0;34m)\u001b[0m\u001b[0;34m\u001b[0m\u001b[0;34m\u001b[0m\u001b[0m\n\u001b[0m\u001b[1;32m      3\u001b[0m \u001b[0;34m\u001b[0m\u001b[0m\n\u001b[1;32m      4\u001b[0m \u001b[0msum\u001b[0m\u001b[0;34m(\u001b[0m\u001b[0;36m11\u001b[0m\u001b[0;34m,\u001b[0m\u001b[0;36m22\u001b[0m\u001b[0;34m)\u001b[0m\u001b[0;34m\u001b[0m\u001b[0;34m\u001b[0m\u001b[0m\n",
      "\u001b[0;31mTypeError\u001b[0m: unsupported operand type(s) for +: 'int' and 'str'"
     ]
    }
   ],
   "source": [
    "def sum(num1, num2):\n",
    "    print(num1 + '-' + num2)\n",
    "    \n",
    "sum(11,22)"
   ]
  },
  {
   "cell_type": "code",
   "execution_count": 40,
   "id": "074a1c5d",
   "metadata": {},
   "outputs": [
    {
     "name": "stdout",
     "output_type": "stream",
     "text": [
      "[11, 22]\n"
     ]
    }
   ],
   "source": [
    "def sum(num1, num2):\n",
    "    print(num1 + num2)\n",
    "    \n",
    "sum([11],[22])"
   ]
  },
  {
   "cell_type": "code",
   "execution_count": 41,
   "id": "a98abf06",
   "metadata": {},
   "outputs": [
    {
     "name": "stdout",
     "output_type": "stream",
     "text": [
      "[1, 2, 3, 4, 11, 22, 33, 44]\n"
     ]
    }
   ],
   "source": [
    "def sum(num1, num2):\n",
    "    print(num1 + num2)\n",
    "    \n",
    "sum([1,2,3,4],[11,22,33,44])"
   ]
  },
  {
   "cell_type": "code",
   "execution_count": 43,
   "id": "11964116",
   "metadata": {},
   "outputs": [
    {
     "name": "stdout",
     "output_type": "stream",
     "text": [
      "(1, 2, 3, 4, 11, 22, 33, 44)\n"
     ]
    }
   ],
   "source": [
    "def sum(num1, num2):\n",
    "    print(num1 + num2)\n",
    "    \n",
    "sum((1,2,3,4),(11,22,33,44))"
   ]
  },
  {
   "cell_type": "code",
   "execution_count": 44,
   "id": "861ee121",
   "metadata": {},
   "outputs": [
    {
     "name": "stdout",
     "output_type": "stream",
     "text": [
      "C -> <class 'str'>\n",
      "d -> <class 'str'>\n",
      "a -> <class 'str'>\n",
      "c -> <class 'str'>\n",
      "- -> <class 'str'>\n",
      "S -> <class 'str'>\n",
      "i -> <class 'str'>\n",
      "l -> <class 'str'>\n",
      "c -> <class 'str'>\n",
      "h -> <class 'str'>\n",
      "a -> <class 'str'>\n",
      "r -> <class 'str'>\n"
     ]
    }
   ],
   "source": [
    "def my_print(variable):\n",
    "    for item in variable:\n",
    "        print(item, '->', type(item))\n",
    "\n",
    "my_print('Cdac-Silchar')"
   ]
  },
  {
   "cell_type": "code",
   "execution_count": 45,
   "id": "642a20e0",
   "metadata": {},
   "outputs": [
    {
     "name": "stdout",
     "output_type": "stream",
     "text": [
      "1 -> <class 'int'>\n",
      "2 -> <class 'int'>\n",
      "3 -> <class 'int'>\n",
      "4 -> <class 'int'>\n",
      "5 -> <class 'int'>\n",
      "6 -> <class 'int'>\n",
      "7 -> <class 'int'>\n"
     ]
    }
   ],
   "source": [
    "my_print( [1,2,3,4,5,6,7] )"
   ]
  },
  {
   "cell_type": "code",
   "execution_count": null,
   "id": "0bc544a7",
   "metadata": {},
   "outputs": [],
   "source": []
  }
 ],
 "metadata": {
  "kernelspec": {
   "display_name": "Python 3 (ipykernel)",
   "language": "python",
   "name": "python3"
  },
  "language_info": {
   "codemirror_mode": {
    "name": "ipython",
    "version": 3
   },
   "file_extension": ".py",
   "mimetype": "text/x-python",
   "name": "python",
   "nbconvert_exporter": "python",
   "pygments_lexer": "ipython3",
   "version": "3.10.12"
  }
 },
 "nbformat": 4,
 "nbformat_minor": 5
}
