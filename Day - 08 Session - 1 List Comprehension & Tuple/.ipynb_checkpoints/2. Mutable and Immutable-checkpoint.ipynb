{
 "cells": [
  {
   "cell_type": "code",
   "execution_count": 2,
   "id": "b50acdab",
   "metadata": {},
   "outputs": [
    {
     "name": "stdout",
     "output_type": "stream",
     "text": [
      "140537865699856\n",
      "140537865700176\n"
     ]
    }
   ],
   "source": [
    "a = 10\n",
    "print(id(10))\n",
    "a = 20\n",
    "print(id(a))"
   ]
  },
  {
   "cell_type": "code",
   "execution_count": 3,
   "id": "50db10a0",
   "metadata": {},
   "outputs": [
    {
     "name": "stdout",
     "output_type": "stream",
     "text": [
      "140537865699856\n",
      "140537865699856\n"
     ]
    }
   ],
   "source": [
    "a = 10\n",
    "print(id(10))\n",
    "b = 10\n",
    "print(id(b))"
   ]
  },
  {
   "cell_type": "markdown",
   "id": "329f7480",
   "metadata": {},
   "source": [
    "## Mutable & Immutable"
   ]
  },
  {
   "cell_type": "code",
   "execution_count": null,
   "id": "4529dc7a",
   "metadata": {},
   "outputs": [],
   "source": [
    "Mutable   - can change values in variable\n",
    "Immutable - cannot do changes in variable but can assign\n",
    "            to new values"
   ]
  },
  {
   "cell_type": "code",
   "execution_count": null,
   "id": "584c57ac",
   "metadata": {},
   "outputs": [],
   "source": [
    "Mutable\n",
    "    - can edit values\n",
    "    - consumes more memory\n",
    "    - slower than immutable\n",
    "    - contains more functions than immutables\n",
    "    - inefficient"
   ]
  },
  {
   "cell_type": "code",
   "execution_count": null,
   "id": "954e5a5c",
   "metadata": {},
   "outputs": [],
   "source": [
    "Immutable\n",
    "    - can not edit values\n",
    "    - consumes less memory\n",
    "    - faster than mutable\n",
    "    - contains less functions than mutables\n",
    "    - efficient"
   ]
  },
  {
   "cell_type": "code",
   "execution_count": null,
   "id": "8c1cba05",
   "metadata": {},
   "outputs": [],
   "source": []
  },
  {
   "cell_type": "code",
   "execution_count": null,
   "id": "ec4968d1",
   "metadata": {},
   "outputs": [],
   "source": []
  },
  {
   "cell_type": "code",
   "execution_count": null,
   "id": "7966df1a",
   "metadata": {},
   "outputs": [],
   "source": []
  },
  {
   "cell_type": "code",
   "execution_count": null,
   "id": "0dfe60cb",
   "metadata": {},
   "outputs": [],
   "source": []
  },
  {
   "cell_type": "code",
   "execution_count": null,
   "id": "0b0fcfa4",
   "metadata": {},
   "outputs": [],
   "source": []
  },
  {
   "cell_type": "code",
   "execution_count": null,
   "id": "0613ef09",
   "metadata": {},
   "outputs": [],
   "source": []
  },
  {
   "cell_type": "code",
   "execution_count": null,
   "id": "04f56afe",
   "metadata": {},
   "outputs": [],
   "source": []
  },
  {
   "cell_type": "code",
   "execution_count": null,
   "id": "bab46fb5",
   "metadata": {},
   "outputs": [],
   "source": []
  }
 ],
 "metadata": {
  "kernelspec": {
   "display_name": "Python 3 (ipykernel)",
   "language": "python",
   "name": "python3"
  },
  "language_info": {
   "codemirror_mode": {
    "name": "ipython",
    "version": 3
   },
   "file_extension": ".py",
   "mimetype": "text/x-python",
   "name": "python",
   "nbconvert_exporter": "python",
   "pygments_lexer": "ipython3",
   "version": "3.10.12"
  }
 },
 "nbformat": 4,
 "nbformat_minor": 5
}
