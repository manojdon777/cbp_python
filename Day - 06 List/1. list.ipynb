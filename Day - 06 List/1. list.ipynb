{
 "cells": [
  {
   "cell_type": "markdown",
   "id": "ca283448",
   "metadata": {},
   "source": [
    "# List"
   ]
  },
  {
   "cell_type": "markdown",
   "id": "e54eb5be",
   "metadata": {},
   "source": [
    "## 1. Definition"
   ]
  },
  {
   "cell_type": "code",
   "execution_count": null,
   "id": "b2619f7a",
   "metadata": {},
   "outputs": [],
   "source": [
    "- collection of items\n",
    "- can accomodate heterogenous datatypes\n",
    "- list is ordered\n",
    "- list can contain duplicates\n",
    "- lists are mutable (can change)"
   ]
  },
  {
   "cell_type": "code",
   "execution_count": 1,
   "id": "9dd05d37",
   "metadata": {},
   "outputs": [
    {
     "name": "stdout",
     "output_type": "stream",
     "text": [
      "[1, 56, 34, 90]\n"
     ]
    }
   ],
   "source": [
    "list1 = [1, 56, 34,90]\n",
    "print(list1)"
   ]
  },
  {
   "cell_type": "code",
   "execution_count": 2,
   "id": "c6aa9ec2",
   "metadata": {},
   "outputs": [
    {
     "data": {
      "text/plain": [
       "[1, 56, 34, 90]"
      ]
     },
     "execution_count": 2,
     "metadata": {},
     "output_type": "execute_result"
    }
   ],
   "source": [
    "list1 = [1, 56, 34,90]\n",
    "list1"
   ]
  },
  {
   "cell_type": "code",
   "execution_count": 4,
   "id": "7b3948eb",
   "metadata": {},
   "outputs": [
    {
     "name": "stdout",
     "output_type": "stream",
     "text": [
      "list data\n"
     ]
    }
   ],
   "source": [
    "list1 = [1, 56, 34,90]\n",
    "list1\n",
    "print('list data')"
   ]
  },
  {
   "cell_type": "code",
   "execution_count": 5,
   "id": "d1539d1d",
   "metadata": {},
   "outputs": [
    {
     "data": {
      "text/plain": [
       "[1, 2, 'CBP', 77.88, [22, 66, 88], (1, 3)]"
      ]
     },
     "execution_count": 5,
     "metadata": {},
     "output_type": "execute_result"
    }
   ],
   "source": [
    "list2 = [1, 2, 'CBP', 77.88, [22,66,88], (1,3)]\n",
    "list2"
   ]
  },
  {
   "cell_type": "code",
   "execution_count": 6,
   "id": "5291bced",
   "metadata": {},
   "outputs": [
    {
     "name": "stdout",
     "output_type": "stream",
     "text": [
      "1\n",
      "2\n",
      "CBP\n",
      "77.88\n",
      "[22, 66, 88]\n",
      "(1, 3)\n"
     ]
    }
   ],
   "source": [
    "list2 = [1, 2, 'CBP', 77.88, [22,66,88], (1,3)]\n",
    "for item in list2:\n",
    "    print(item)"
   ]
  },
  {
   "cell_type": "code",
   "execution_count": null,
   "id": "cf3a1aa7",
   "metadata": {},
   "outputs": [],
   "source": [
    "list2 = [1, 2, 'CBP', 77.88, [22,66,88], (1,3)]\n",
    "for item in list2:\n",
    "    print(item)"
   ]
  },
  {
   "cell_type": "code",
   "execution_count": 9,
   "id": "9e0c5092",
   "metadata": {},
   "outputs": [
    {
     "name": "stdout",
     "output_type": "stream",
     "text": [
      "0 -> 1\n",
      "1 -> 2\n",
      "2 -> CBP\n",
      "3 -> 77.88\n",
      "4 -> [22, 66, 88]\n",
      "5 -> (1, 3)\n"
     ]
    }
   ],
   "source": [
    "list2 = [1, 2, 'CBP', 77.88, [22,66,88], (1,3)]\n",
    "for index in range(len(list2)):\n",
    "    print(index, '->',list2[index])"
   ]
  },
  {
   "cell_type": "code",
   "execution_count": 11,
   "id": "afd70196",
   "metadata": {},
   "outputs": [
    {
     "name": "stdout",
     "output_type": "stream",
     "text": [
      "0 -> 1 -> <class 'int'>\n",
      "1 -> 2 -> <class 'int'>\n",
      "2 -> CBP -> <class 'str'>\n",
      "3 -> 77.88 -> <class 'float'>\n",
      "4 -> [22, 66, 88] -> <class 'list'>\n",
      "5 -> (1, 3) -> <class 'tuple'>\n"
     ]
    }
   ],
   "source": [
    "list2 = [1, 2, 'CBP', 77.88, [22,66,88], (1,3)]\n",
    "for index in range(len(list2)):\n",
    "    print(index, '->',list2[index], '->', type(list2[index]))"
   ]
  },
  {
   "cell_type": "code",
   "execution_count": null,
   "id": "4453389d",
   "metadata": {},
   "outputs": [],
   "source": [
    "0 -> 1 ->            <class 'int'>\n",
    "1 -> 2 ->            <class 'int'>\n",
    "2 -> CBP ->          <class 'str'>\n",
    "3 -> 77.88 ->        <class 'float'>\n",
    "4 -> [22, 66, 88] -> <class 'list'>\n",
    "5 -> (1, 3) ->       <class 'tuple'>"
   ]
  },
  {
   "cell_type": "code",
   "execution_count": 17,
   "id": "368c829a",
   "metadata": {},
   "outputs": [
    {
     "name": "stdout",
     "output_type": "stream",
     "text": [
      "0 -> 11 -> <class 'int'>\n",
      "1 -> 22 -> <class 'int'>\n",
      "2 -> 33 -> <class 'int'>\n",
      "3 -> 44 -> <class 'int'>\n",
      "4 -> 55 -> <class 'int'>\n",
      "5 -> 66 -> <class 'int'>\n",
      "6 -> 77 -> <class 'int'>\n"
     ]
    }
   ],
   "source": [
    "list3 = [11,22,33,44,55,66,77]\n",
    "for item in range(len(list3)):\n",
    "    print(item, '->',list3[item], '->', type(list3[item]))"
   ]
  },
  {
   "cell_type": "code",
   "execution_count": 18,
   "id": "a8c6eb6b",
   "metadata": {},
   "outputs": [
    {
     "name": "stdout",
     "output_type": "stream",
     "text": [
      "[2, 2, 2, 2, 2, 2, 2]\n"
     ]
    }
   ],
   "source": [
    "list4 = [2,2,2,2,2,2,2]\n",
    "print(list4)"
   ]
  },
  {
   "cell_type": "code",
   "execution_count": 21,
   "id": "0815b554",
   "metadata": {},
   "outputs": [
    {
     "name": "stdout",
     "output_type": "stream",
     "text": [
      "2 2 2 2 2 2 2 "
     ]
    }
   ],
   "source": [
    "list4 = [2,2,2,2,2,2,2]\n",
    "for item in list4:\n",
    "    print(item, end = ' ')"
   ]
  },
  {
   "cell_type": "code",
   "execution_count": 22,
   "id": "e3d9e44e",
   "metadata": {},
   "outputs": [
    {
     "name": "stdout",
     "output_type": "stream",
     "text": [
      "1 2 44 2 1 "
     ]
    }
   ],
   "source": [
    "list4 = [1,2,44,2,1]\n",
    "for item in list4:\n",
    "    print(item, end = ' ')"
   ]
  },
  {
   "cell_type": "code",
   "execution_count": 26,
   "id": "edf10121",
   "metadata": {},
   "outputs": [
    {
     "data": {
      "text/plain": [
       "[1, 2, 3, 44, 5, 6]"
      ]
     },
     "execution_count": 26,
     "metadata": {},
     "output_type": "execute_result"
    }
   ],
   "source": [
    "list5 = [1,2,3,4,5,6]\n",
    "list5[3] = 44\n",
    "list5"
   ]
  },
  {
   "cell_type": "code",
   "execution_count": 27,
   "id": "385e8b03",
   "metadata": {},
   "outputs": [
    {
     "ename": "TypeError",
     "evalue": "'tuple' object does not support item assignment",
     "output_type": "error",
     "traceback": [
      "\u001b[0;31m---------------------------------------------------------------------------\u001b[0m",
      "\u001b[0;31mTypeError\u001b[0m                                 Traceback (most recent call last)",
      "\u001b[0;32m/tmp/ipykernel_365375/3734019297.py\u001b[0m in \u001b[0;36m<module>\u001b[0;34m\u001b[0m\n\u001b[1;32m      1\u001b[0m \u001b[0mtup5\u001b[0m \u001b[0;34m=\u001b[0m \u001b[0;34m(\u001b[0m\u001b[0;36m1\u001b[0m\u001b[0;34m,\u001b[0m\u001b[0;36m2\u001b[0m\u001b[0;34m,\u001b[0m\u001b[0;36m3\u001b[0m\u001b[0;34m,\u001b[0m\u001b[0;36m4\u001b[0m\u001b[0;34m,\u001b[0m\u001b[0;36m5\u001b[0m\u001b[0;34m,\u001b[0m\u001b[0;36m6\u001b[0m\u001b[0;34m)\u001b[0m\u001b[0;34m\u001b[0m\u001b[0;34m\u001b[0m\u001b[0m\n\u001b[0;32m----> 2\u001b[0;31m \u001b[0mtup5\u001b[0m\u001b[0;34m[\u001b[0m\u001b[0;36m3\u001b[0m\u001b[0;34m]\u001b[0m \u001b[0;34m=\u001b[0m \u001b[0;36m44\u001b[0m\u001b[0;34m\u001b[0m\u001b[0;34m\u001b[0m\u001b[0m\n\u001b[0m\u001b[1;32m      3\u001b[0m \u001b[0mtup5\u001b[0m\u001b[0;34m\u001b[0m\u001b[0;34m\u001b[0m\u001b[0m\n",
      "\u001b[0;31mTypeError\u001b[0m: 'tuple' object does not support item assignment"
     ]
    }
   ],
   "source": [
    "tup5 = (1,2,3,4,5,6)\n",
    "tup5[3] = 44\n",
    "tup5"
   ]
  },
  {
   "cell_type": "markdown",
   "id": "295a70f9",
   "metadata": {},
   "source": [
    "## 2. Initialize lists"
   ]
  },
  {
   "cell_type": "code",
   "execution_count": 30,
   "id": "21312908",
   "metadata": {},
   "outputs": [
    {
     "data": {
      "text/plain": [
       "[65]"
      ]
     },
     "execution_count": 30,
     "metadata": {},
     "output_type": "execute_result"
    }
   ],
   "source": [
    "list1 = [65]\n",
    "list1"
   ]
  },
  {
   "cell_type": "code",
   "execution_count": 31,
   "id": "04127648",
   "metadata": {},
   "outputs": [
    {
     "data": {
      "text/plain": [
       "[3, 5, 6]"
      ]
     },
     "execution_count": 31,
     "metadata": {},
     "output_type": "execute_result"
    }
   ],
   "source": [
    "list2 = [3,5,6]\n",
    "list2"
   ]
  },
  {
   "cell_type": "code",
   "execution_count": 32,
   "id": "4a7c6192",
   "metadata": {},
   "outputs": [
    {
     "data": {
      "text/plain": [
       "[]"
      ]
     },
     "execution_count": 32,
     "metadata": {},
     "output_type": "execute_result"
    }
   ],
   "source": [
    "# create empty list\n",
    "list1 = []\n",
    "list1"
   ]
  },
  {
   "cell_type": "code",
   "execution_count": 34,
   "id": "39b2d468",
   "metadata": {},
   "outputs": [
    {
     "data": {
      "text/plain": [
       "list"
      ]
     },
     "execution_count": 34,
     "metadata": {},
     "output_type": "execute_result"
    }
   ],
   "source": [
    "list1 = []\n",
    "type(list1)"
   ]
  },
  {
   "cell_type": "code",
   "execution_count": 33,
   "id": "c23634d1",
   "metadata": {},
   "outputs": [
    {
     "data": {
      "text/plain": [
       "[]"
      ]
     },
     "execution_count": 33,
     "metadata": {},
     "output_type": "execute_result"
    }
   ],
   "source": [
    "list1 = list()\n",
    "list1"
   ]
  },
  {
   "cell_type": "code",
   "execution_count": 35,
   "id": "479da727",
   "metadata": {},
   "outputs": [
    {
     "data": {
      "text/plain": [
       "list"
      ]
     },
     "execution_count": 35,
     "metadata": {},
     "output_type": "execute_result"
    }
   ],
   "source": [
    "list1 = list()\n",
    "type(list1)"
   ]
  },
  {
   "cell_type": "markdown",
   "id": "81bf0a37",
   "metadata": {},
   "source": [
    "## Add items"
   ]
  },
  {
   "cell_type": "markdown",
   "id": "41e1fca4",
   "metadata": {},
   "source": [
    "### 1. append()"
   ]
  },
  {
   "cell_type": "code",
   "execution_count": 36,
   "id": "82de3765",
   "metadata": {},
   "outputs": [
    {
     "data": {
      "text/plain": [
       "[45]"
      ]
     },
     "execution_count": 36,
     "metadata": {},
     "output_type": "execute_result"
    }
   ],
   "source": [
    "list1 = []\n",
    "list1.append(45)\n",
    "list1"
   ]
  },
  {
   "cell_type": "code",
   "execution_count": 37,
   "id": "b0bbaaf2",
   "metadata": {},
   "outputs": [
    {
     "data": {
      "text/plain": [
       "[11, 22, 33, 22]"
      ]
     },
     "execution_count": 37,
     "metadata": {},
     "output_type": "execute_result"
    }
   ],
   "source": [
    "list1 = [11,22,33]\n",
    "list1.append(22)\n",
    "list1"
   ]
  },
  {
   "cell_type": "code",
   "execution_count": 38,
   "id": "bfea4fcc",
   "metadata": {},
   "outputs": [
    {
     "data": {
      "text/plain": [
       "[55, 123, 7.89, 'abc']"
      ]
     },
     "execution_count": 38,
     "metadata": {},
     "output_type": "execute_result"
    }
   ],
   "source": [
    "list1 = [55,123,7.89]\n",
    "list1.append('abc')\n",
    "list1"
   ]
  },
  {
   "cell_type": "code",
   "execution_count": 39,
   "id": "5f592dc9",
   "metadata": {},
   "outputs": [
    {
     "data": {
      "text/plain": [
       "[55, 123, 7.89, ['A', 'B', 'C', 'D']]"
      ]
     },
     "execution_count": 39,
     "metadata": {},
     "output_type": "execute_result"
    }
   ],
   "source": [
    "list1 = [55,123,7.89]\n",
    "list1.append(['A', 'B', 'C', 'D'])\n",
    "list1"
   ]
  },
  {
   "cell_type": "code",
   "execution_count": 40,
   "id": "4ac6c8de",
   "metadata": {},
   "outputs": [
    {
     "data": {
      "text/plain": [
       "['A', 'B', 'C', 'D']"
      ]
     },
     "execution_count": 40,
     "metadata": {},
     "output_type": "execute_result"
    }
   ],
   "source": [
    "list1[3]"
   ]
  },
  {
   "cell_type": "code",
   "execution_count": 42,
   "id": "146ba7e0",
   "metadata": {},
   "outputs": [
    {
     "data": {
      "text/plain": [
       "'B'"
      ]
     },
     "execution_count": 42,
     "metadata": {},
     "output_type": "execute_result"
    }
   ],
   "source": [
    "list1[3][1]"
   ]
  },
  {
   "cell_type": "markdown",
   "id": "8ee7d867",
   "metadata": {},
   "source": [
    "### 2. extend()"
   ]
  },
  {
   "cell_type": "code",
   "execution_count": 43,
   "id": "be07f5cc",
   "metadata": {},
   "outputs": [
    {
     "data": {
      "text/plain": [
       "[1, 2, 'ABC', 'XYZ']"
      ]
     },
     "execution_count": 43,
     "metadata": {},
     "output_type": "execute_result"
    }
   ],
   "source": [
    "list1 = [1,2]\n",
    "list2 = ['ABC', 'XYZ']\n",
    "list1.extend(list2)\n",
    "list1"
   ]
  },
  {
   "cell_type": "code",
   "execution_count": 44,
   "id": "6a49f712",
   "metadata": {},
   "outputs": [
    {
     "data": {
      "text/plain": [
       "['ABC', 'XYZ', 1, 2]"
      ]
     },
     "execution_count": 44,
     "metadata": {},
     "output_type": "execute_result"
    }
   ],
   "source": [
    "list1 = [1,2]\n",
    "list2 = ['ABC', 'XYZ']\n",
    "list2.extend(list1)\n",
    "list2"
   ]
  },
  {
   "cell_type": "code",
   "execution_count": 45,
   "id": "0099b00e",
   "metadata": {},
   "outputs": [
    {
     "data": {
      "text/plain": [
       "[1, 2, 33, 44]"
      ]
     },
     "execution_count": 45,
     "metadata": {},
     "output_type": "execute_result"
    }
   ],
   "source": [
    "list1 = [1,2]\n",
    "list1.extend([33,44])\n",
    "list1"
   ]
  },
  {
   "cell_type": "code",
   "execution_count": 46,
   "id": "225ffd7a",
   "metadata": {},
   "outputs": [
    {
     "ename": "TypeError",
     "evalue": "list.extend() takes exactly one argument (2 given)",
     "output_type": "error",
     "traceback": [
      "\u001b[0;31m---------------------------------------------------------------------------\u001b[0m",
      "\u001b[0;31mTypeError\u001b[0m                                 Traceback (most recent call last)",
      "\u001b[0;32m/tmp/ipykernel_365375/1271136502.py\u001b[0m in \u001b[0;36m<module>\u001b[0;34m\u001b[0m\n\u001b[1;32m      1\u001b[0m \u001b[0mlist1\u001b[0m \u001b[0;34m=\u001b[0m \u001b[0;34m[\u001b[0m\u001b[0;36m1\u001b[0m\u001b[0;34m,\u001b[0m\u001b[0;36m2\u001b[0m\u001b[0;34m]\u001b[0m\u001b[0;34m\u001b[0m\u001b[0;34m\u001b[0m\u001b[0m\n\u001b[0;32m----> 2\u001b[0;31m \u001b[0mlist1\u001b[0m\u001b[0;34m.\u001b[0m\u001b[0mextend\u001b[0m\u001b[0;34m(\u001b[0m\u001b[0;36m33\u001b[0m\u001b[0;34m,\u001b[0m\u001b[0;36m44\u001b[0m\u001b[0;34m)\u001b[0m\u001b[0;34m\u001b[0m\u001b[0;34m\u001b[0m\u001b[0m\n\u001b[0m\u001b[1;32m      3\u001b[0m \u001b[0mlist1\u001b[0m\u001b[0;34m\u001b[0m\u001b[0;34m\u001b[0m\u001b[0m\n",
      "\u001b[0;31mTypeError\u001b[0m: list.extend() takes exactly one argument (2 given)"
     ]
    }
   ],
   "source": [
    "list1 = [1,2]\n",
    "list1.extend(33,44)\n",
    "list1"
   ]
  },
  {
   "cell_type": "code",
   "execution_count": 47,
   "id": "2b28b43d",
   "metadata": {},
   "outputs": [
    {
     "data": {
      "text/plain": [
       "[33, 'xyz']"
      ]
     },
     "execution_count": 47,
     "metadata": {},
     "output_type": "execute_result"
    }
   ],
   "source": [
    "list1 = []\n",
    "list2 = [33, 'xyz']\n",
    "list1.extend(list2)\n",
    "list1"
   ]
  },
  {
   "cell_type": "code",
   "execution_count": 48,
   "id": "aeb215f4",
   "metadata": {},
   "outputs": [
    {
     "data": {
      "text/plain": [
       "[33, 'xyz']"
      ]
     },
     "execution_count": 48,
     "metadata": {},
     "output_type": "execute_result"
    }
   ],
   "source": [
    "list1 = []\n",
    "list2 = [33, 'xyz']\n",
    "list2.extend(list1)\n",
    "list2"
   ]
  },
  {
   "cell_type": "code",
   "execution_count": null,
   "id": "94a8525f",
   "metadata": {},
   "outputs": [],
   "source": [
    "list2 = [33, 'xyz']\n"
   ]
  },
  {
   "cell_type": "code",
   "execution_count": 49,
   "id": "c2be6a0a",
   "metadata": {},
   "outputs": [
    {
     "data": {
      "text/plain": [
       "[33, 'xyz', []]"
      ]
     },
     "execution_count": 49,
     "metadata": {},
     "output_type": "execute_result"
    }
   ],
   "source": [
    "list2.append([])\n",
    "list2"
   ]
  },
  {
   "cell_type": "markdown",
   "id": "78198570",
   "metadata": {},
   "source": [
    "### 3. insert(index, item)"
   ]
  },
  {
   "cell_type": "code",
   "execution_count": 52,
   "id": "b1ce52fa",
   "metadata": {},
   "outputs": [
    {
     "name": "stdout",
     "output_type": "stream",
     "text": [
      "[11, 22, 33, 44, 55, 66]\n",
      "[11, 22, 33, 'Guwahati', 44, 55, 66]\n"
     ]
    }
   ],
   "source": [
    "list1 = [11,22,33,44,55,66]\n",
    "print(list1)\n",
    "list1.insert(3,'Guwahati')\n",
    "print(list1)"
   ]
  },
  {
   "cell_type": "code",
   "execution_count": null,
   "id": "e6113a29",
   "metadata": {},
   "outputs": [],
   "source": [
    "list1 = []\n",
    "list1."
   ]
  },
  {
   "cell_type": "code",
   "execution_count": null,
   "id": "08d3d756",
   "metadata": {},
   "outputs": [],
   "source": []
  },
  {
   "cell_type": "code",
   "execution_count": null,
   "id": "a6091ea6",
   "metadata": {},
   "outputs": [],
   "source": []
  },
  {
   "cell_type": "code",
   "execution_count": null,
   "id": "6da97dea",
   "metadata": {},
   "outputs": [],
   "source": []
  },
  {
   "cell_type": "code",
   "execution_count": null,
   "id": "b9e56383",
   "metadata": {},
   "outputs": [],
   "source": []
  },
  {
   "cell_type": "code",
   "execution_count": null,
   "id": "33fa7ac8",
   "metadata": {},
   "outputs": [],
   "source": []
  },
  {
   "cell_type": "code",
   "execution_count": null,
   "id": "9ad1a915",
   "metadata": {},
   "outputs": [],
   "source": []
  },
  {
   "cell_type": "code",
   "execution_count": null,
   "id": "2b1c847e",
   "metadata": {},
   "outputs": [],
   "source": [
    "[33, 'xyz', []]"
   ]
  },
  {
   "cell_type": "code",
   "execution_count": null,
   "id": "3b709d73",
   "metadata": {},
   "outputs": [],
   "source": [
    "append\n",
    "extend\n",
    "insert\n",
    "remove\n",
    "pop\n",
    "clear\n",
    "del\n"
   ]
  }
 ],
 "metadata": {
  "kernelspec": {
   "display_name": "Python 3 (ipykernel)",
   "language": "python",
   "name": "python3"
  },
  "language_info": {
   "codemirror_mode": {
    "name": "ipython",
    "version": 3
   },
   "file_extension": ".py",
   "mimetype": "text/x-python",
   "name": "python",
   "nbconvert_exporter": "python",
   "pygments_lexer": "ipython3",
   "version": "3.10.12"
  }
 },
 "nbformat": 4,
 "nbformat_minor": 5
}
