{
 "cells": [
  {
   "cell_type": "markdown",
   "id": "8b990a8e",
   "metadata": {},
   "source": [
    "# 1. Mathematical Functions"
   ]
  },
  {
   "cell_type": "code",
   "execution_count": 1,
   "id": "62055974",
   "metadata": {},
   "outputs": [
    {
     "data": {
      "text/plain": [
       "1.0"
      ]
     },
     "execution_count": 1,
     "metadata": {},
     "output_type": "execute_result"
    }
   ],
   "source": [
    "import math\n",
    "math.cos(0)\n"
   ]
  },
  {
   "cell_type": "code",
   "execution_count": 3,
   "id": "5c842be1",
   "metadata": {},
   "outputs": [
    {
     "data": {
      "text/plain": [
       "10.0"
      ]
     },
     "execution_count": 3,
     "metadata": {},
     "output_type": "execute_result"
    }
   ],
   "source": [
    "math.sqrt(100)"
   ]
  },
  {
   "cell_type": "code",
   "execution_count": 5,
   "id": "dce52a75",
   "metadata": {},
   "outputs": [],
   "source": [
    "ans = math.sqrt(345)"
   ]
  },
  {
   "cell_type": "code",
   "execution_count": 6,
   "id": "2924d255",
   "metadata": {},
   "outputs": [
    {
     "data": {
      "text/plain": [
       "345.0"
      ]
     },
     "execution_count": 6,
     "metadata": {},
     "output_type": "execute_result"
    }
   ],
   "source": [
    "ans * ans"
   ]
  },
  {
   "cell_type": "code",
   "execution_count": 7,
   "id": "5707138e",
   "metadata": {},
   "outputs": [
    {
     "data": {
      "text/plain": [
       "2"
      ]
     },
     "execution_count": 7,
     "metadata": {},
     "output_type": "execute_result"
    }
   ],
   "source": [
    "math.ceil(6/4)"
   ]
  },
  {
   "cell_type": "code",
   "execution_count": 8,
   "id": "0ce7f7e1",
   "metadata": {},
   "outputs": [
    {
     "data": {
      "text/plain": [
       "12"
      ]
     },
     "execution_count": 8,
     "metadata": {},
     "output_type": "execute_result"
    }
   ],
   "source": [
    "math.ceil(11.000001)"
   ]
  },
  {
   "cell_type": "code",
   "execution_count": 9,
   "id": "2914c986",
   "metadata": {},
   "outputs": [
    {
     "data": {
      "text/plain": [
       "1"
      ]
     },
     "execution_count": 9,
     "metadata": {},
     "output_type": "execute_result"
    }
   ],
   "source": [
    "math.floor(6/4)"
   ]
  },
  {
   "cell_type": "code",
   "execution_count": 10,
   "id": "a1b29857",
   "metadata": {},
   "outputs": [
    {
     "data": {
      "text/plain": [
       "11"
      ]
     },
     "execution_count": 10,
     "metadata": {},
     "output_type": "execute_result"
    }
   ],
   "source": [
    "math.floor(11.99999999999)"
   ]
  },
  {
   "cell_type": "code",
   "execution_count": 14,
   "id": "d1ee6039",
   "metadata": {},
   "outputs": [
    {
     "data": {
      "text/plain": [
       "32.0"
      ]
     },
     "execution_count": 14,
     "metadata": {},
     "output_type": "execute_result"
    }
   ],
   "source": [
    "math.pow(2,5)"
   ]
  },
  {
   "cell_type": "code",
   "execution_count": 15,
   "id": "5c43c0af",
   "metadata": {},
   "outputs": [
    {
     "data": {
      "text/plain": [
       "10.0"
      ]
     },
     "execution_count": 15,
     "metadata": {},
     "output_type": "execute_result"
    }
   ],
   "source": [
    "math.log2(1024)"
   ]
  },
  {
   "cell_type": "code",
   "execution_count": 16,
   "id": "bfdba676",
   "metadata": {},
   "outputs": [
    {
     "data": {
      "text/plain": [
       "1024.0"
      ]
     },
     "execution_count": 16,
     "metadata": {},
     "output_type": "execute_result"
    }
   ],
   "source": [
    "math.pow(2, 10)"
   ]
  },
  {
   "cell_type": "code",
   "execution_count": 17,
   "id": "e0bf2199",
   "metadata": {},
   "outputs": [
    {
     "data": {
      "text/plain": [
       "float"
      ]
     },
     "execution_count": 17,
     "metadata": {},
     "output_type": "execute_result"
    }
   ],
   "source": [
    "type(math.pow(2, 10))"
   ]
  },
  {
   "cell_type": "markdown",
   "id": "8f81a829",
   "metadata": {},
   "source": [
    "# 2. Mathematical Constants"
   ]
  },
  {
   "cell_type": "code",
   "execution_count": 4,
   "id": "5bada42a",
   "metadata": {},
   "outputs": [
    {
     "data": {
      "text/plain": [
       "inf"
      ]
     },
     "execution_count": 4,
     "metadata": {},
     "output_type": "execute_result"
    }
   ],
   "source": [
    "math.inf"
   ]
  },
  {
   "cell_type": "code",
   "execution_count": 6,
   "id": "8235a62e",
   "metadata": {},
   "outputs": [
    {
     "data": {
      "text/plain": [
       "3.141592653589793"
      ]
     },
     "execution_count": 6,
     "metadata": {},
     "output_type": "execute_result"
    }
   ],
   "source": [
    "math.pi"
   ]
  },
  {
   "cell_type": "code",
   "execution_count": 7,
   "id": "55914221",
   "metadata": {},
   "outputs": [
    {
     "data": {
      "text/plain": [
       "2.718281828459045"
      ]
     },
     "execution_count": 7,
     "metadata": {},
     "output_type": "execute_result"
    }
   ],
   "source": [
    "math.e"
   ]
  },
  {
   "cell_type": "code",
   "execution_count": 10,
   "id": "06967c2b",
   "metadata": {},
   "outputs": [
    {
     "data": {
      "text/plain": [
       "6.283185307179586"
      ]
     },
     "execution_count": 10,
     "metadata": {},
     "output_type": "execute_result"
    }
   ],
   "source": [
    "math.tau"
   ]
  },
  {
   "cell_type": "code",
   "execution_count": 11,
   "id": "44805df3",
   "metadata": {},
   "outputs": [
    {
     "ename": "TypeError",
     "evalue": "'float' object is not callable",
     "output_type": "error",
     "traceback": [
      "\u001b[0;31m---------------------------------------------------------------------------\u001b[0m",
      "\u001b[0;31mTypeError\u001b[0m                                 Traceback (most recent call last)",
      "\u001b[0;32m/tmp/ipykernel_384429/3655029085.py\u001b[0m in \u001b[0;36m<module>\u001b[0;34m\u001b[0m\n\u001b[1;32m      1\u001b[0m \u001b[0;31m# tau is constant here\u001b[0m\u001b[0;34m\u001b[0m\u001b[0;34m\u001b[0m\u001b[0m\n\u001b[0;32m----> 2\u001b[0;31m \u001b[0mmath\u001b[0m\u001b[0;34m.\u001b[0m\u001b[0mtau\u001b[0m\u001b[0;34m(\u001b[0m\u001b[0;34m)\u001b[0m\u001b[0;34m\u001b[0m\u001b[0;34m\u001b[0m\u001b[0m\n\u001b[0m",
      "\u001b[0;31mTypeError\u001b[0m: 'float' object is not callable"
     ]
    }
   ],
   "source": [
    "# tau is constant here, not a function\n",
    "math.tau()"
   ]
  },
  {
   "cell_type": "markdown",
   "id": "ea038899",
   "metadata": {},
   "source": [
    "# 2. Trigonometric Functions"
   ]
  },
  {
   "cell_type": "code",
   "execution_count": 17,
   "id": "6a280ae5",
   "metadata": {},
   "outputs": [
    {
     "data": {
      "text/plain": [
       "1.0"
      ]
     },
     "execution_count": 17,
     "metadata": {},
     "output_type": "execute_result"
    }
   ],
   "source": [
    "math.sin(math.radians(90))"
   ]
  },
  {
   "cell_type": "code",
   "execution_count": 15,
   "id": "cadc5402",
   "metadata": {},
   "outputs": [
    {
     "data": {
      "text/plain": [
       "1.6197751905438615"
      ]
     },
     "execution_count": 15,
     "metadata": {},
     "output_type": "execute_result"
    }
   ],
   "source": [
    "math.tan(45)"
   ]
  },
  {
   "cell_type": "code",
   "execution_count": 2,
   "id": "a7513d14",
   "metadata": {},
   "outputs": [
    {
     "data": {
      "text/plain": [
       "3.141592653589793"
      ]
     },
     "execution_count": 2,
     "metadata": {},
     "output_type": "execute_result"
    }
   ],
   "source": [
    "math.radians(180)"
   ]
  },
  {
   "cell_type": "code",
   "execution_count": 3,
   "id": "1bfc4cfb",
   "metadata": {},
   "outputs": [
    {
     "data": {
      "text/plain": [
       "3.141592653589793"
      ]
     },
     "execution_count": 3,
     "metadata": {},
     "output_type": "execute_result"
    }
   ],
   "source": [
    "my_pi = math.radians(180)\n",
    "my_pi"
   ]
  },
  {
   "cell_type": "code",
   "execution_count": 4,
   "id": "49e2b132",
   "metadata": {},
   "outputs": [
    {
     "data": {
      "text/plain": [
       "90.0"
      ]
     },
     "execution_count": 4,
     "metadata": {},
     "output_type": "execute_result"
    }
   ],
   "source": [
    "math.degrees(my_pi/2)"
   ]
  },
  {
   "cell_type": "code",
   "execution_count": 5,
   "id": "3adf9be5",
   "metadata": {},
   "outputs": [
    {
     "data": {
      "text/plain": [
       "1.0"
      ]
     },
     "execution_count": 5,
     "metadata": {},
     "output_type": "execute_result"
    }
   ],
   "source": [
    "math.sin(my_pi/2)"
   ]
  },
  {
   "cell_type": "code",
   "execution_count": 6,
   "id": "b0d98ce5",
   "metadata": {},
   "outputs": [
    {
     "data": {
      "text/plain": [
       "0.49999999999999994"
      ]
     },
     "execution_count": 6,
     "metadata": {},
     "output_type": "execute_result"
    }
   ],
   "source": [
    "math.sin(my_pi/6)"
   ]
  },
  {
   "cell_type": "code",
   "execution_count": 10,
   "id": "51350a4d",
   "metadata": {},
   "outputs": [
    {
     "data": {
      "text/plain": [
       "0.9999999999999999"
      ]
     },
     "execution_count": 10,
     "metadata": {},
     "output_type": "execute_result"
    }
   ],
   "source": [
    "math.tan(math.radians(45))"
   ]
  },
  {
   "cell_type": "code",
   "execution_count": 12,
   "id": "4b5d5dbb",
   "metadata": {},
   "outputs": [
    {
     "data": {
      "text/plain": [
       "1.0"
      ]
     },
     "execution_count": 12,
     "metadata": {},
     "output_type": "execute_result"
    }
   ],
   "source": [
    "math.cos(math.radians(0))"
   ]
  },
  {
   "cell_type": "markdown",
   "id": "8774be34",
   "metadata": {},
   "source": [
    "# 3.Random Number Functions"
   ]
  },
  {
   "cell_type": "code",
   "execution_count": 18,
   "id": "b303462f",
   "metadata": {},
   "outputs": [],
   "source": [
    "import random"
   ]
  },
  {
   "cell_type": "code",
   "execution_count": null,
   "id": "d290cee4",
   "metadata": {},
   "outputs": [],
   "source": [
    "random.random() #gererates random values between 0 and 1."
   ]
  },
  {
   "cell_type": "code",
   "execution_count": 19,
   "id": "9b0e02a6",
   "metadata": {},
   "outputs": [
    {
     "data": {
      "text/plain": [
       "0.9299230687436961"
      ]
     },
     "execution_count": 19,
     "metadata": {},
     "output_type": "execute_result"
    }
   ],
   "source": [
    "random.random()"
   ]
  },
  {
   "cell_type": "code",
   "execution_count": 20,
   "id": "c8dff391",
   "metadata": {},
   "outputs": [
    {
     "data": {
      "text/plain": [
       "0.40004334273389375"
      ]
     },
     "execution_count": 20,
     "metadata": {},
     "output_type": "execute_result"
    }
   ],
   "source": [
    "random.random()"
   ]
  },
  {
   "cell_type": "code",
   "execution_count": 21,
   "id": "7aa62b6a",
   "metadata": {},
   "outputs": [
    {
     "data": {
      "text/plain": [
       "0.19118012996238987"
      ]
     },
     "execution_count": 21,
     "metadata": {},
     "output_type": "execute_result"
    }
   ],
   "source": [
    "random.random()"
   ]
  },
  {
   "cell_type": "code",
   "execution_count": 22,
   "id": "c0630ab5",
   "metadata": {},
   "outputs": [
    {
     "name": "stdout",
     "output_type": "stream",
     "text": [
      "0.6142223796678737\n",
      "0.26622175759844935\n",
      "0.11056422431288848\n",
      "0.005559074606444114\n",
      "0.2417882815230138\n",
      "0.5363432984165687\n",
      "0.3047581168562027\n",
      "0.4234235181788689\n",
      "0.44126226819864356\n",
      "0.05669751971072923\n",
      "0.8531179285040605\n",
      "0.7458970625308973\n",
      "0.4764799321920985\n",
      "0.8886173381032901\n",
      "0.10209092001617015\n",
      "0.3058576422060886\n",
      "0.14620384005473552\n",
      "0.18313453179459538\n",
      "0.7748486143536356\n",
      "0.5416568077117259\n",
      "0.17591950558531566\n",
      "0.2560776086103673\n",
      "0.5974051914192217\n",
      "0.1792876276548352\n",
      "0.6637369745508348\n",
      "0.7952117125541406\n",
      "0.3853634202023063\n",
      "0.9138209555865756\n",
      "0.878223123619461\n",
      "0.06872012783620429\n",
      "0.4171445328162148\n",
      "0.044657215619442914\n",
      "0.11719836479652734\n",
      "0.5582462675228067\n",
      "0.23325712470800608\n",
      "0.6336759613273113\n",
      "0.5163936091062751\n",
      "0.9568804376810716\n",
      "0.5913376024802954\n",
      "0.34757674075621003\n",
      "0.9679006245539258\n",
      "0.038858847692157195\n",
      "0.7251716672053979\n",
      "0.3147920346752502\n",
      "0.36483902994273143\n",
      "0.3873929105537409\n",
      "0.05557978668884711\n",
      "0.6976318680504637\n",
      "0.8432733324443555\n",
      "0.6729574816639528\n",
      "0.15272226081706985\n",
      "0.12101068069836107\n",
      "0.40424416089255066\n",
      "0.13212174673293064\n",
      "0.25748444071409105\n",
      "0.3241363424270637\n",
      "0.5568471013480738\n",
      "0.016079375344387414\n",
      "0.3977151236447577\n",
      "0.0852062456392596\n",
      "0.6065020002111953\n",
      "0.984377608573038\n",
      "0.540759736561561\n",
      "0.7117957238128103\n",
      "0.5432532204063615\n",
      "0.7346602615077968\n",
      "0.5887274942005156\n",
      "0.2882847633805635\n",
      "0.34670536042062694\n",
      "0.6516706489762668\n",
      "0.265233702990751\n",
      "0.5634310313102829\n",
      "0.43074917005112645\n",
      "0.6832799985968289\n",
      "0.9746319581055144\n",
      "0.1749836893924046\n",
      "0.8802964321039695\n",
      "0.23341894940242758\n",
      "0.9012553332830947\n",
      "0.2529601182225255\n",
      "0.9979050247380034\n",
      "0.39332405958145367\n",
      "0.6195978473247794\n",
      "0.13783332348059418\n",
      "0.11472008500445763\n",
      "0.4282121210717239\n",
      "0.21060836197760757\n",
      "0.2725897223350039\n",
      "0.5308028635284253\n",
      "0.570099016416487\n",
      "0.1847796136266353\n",
      "0.2786118933517149\n",
      "0.4514474284585346\n",
      "0.11682337383947328\n",
      "0.6031820188002901\n",
      "0.8171567347291405\n",
      "0.9673633949950322\n",
      "0.9076087892732174\n",
      "0.7785501674571554\n",
      "0.526358072505859\n"
     ]
    }
   ],
   "source": [
    "for i in range(100):\n",
    "    print(random.random())"
   ]
  },
  {
   "cell_type": "code",
   "execution_count": 63,
   "id": "87d608e4",
   "metadata": {},
   "outputs": [
    {
     "data": {
      "text/plain": [
       "9"
      ]
     },
     "execution_count": 63,
     "metadata": {},
     "output_type": "execute_result"
    }
   ],
   "source": [
    "random.randint(0,10)"
   ]
  },
  {
   "cell_type": "code",
   "execution_count": 90,
   "id": "6dcf20d1",
   "metadata": {},
   "outputs": [
    {
     "name": "stdout",
     "output_type": "stream",
     "text": [
      "0\n"
     ]
    }
   ],
   "source": [
    "print(random.randint(0,1))"
   ]
  },
  {
   "cell_type": "code",
   "execution_count": null,
   "id": "eb082714",
   "metadata": {},
   "outputs": [],
   "source": []
  },
  {
   "cell_type": "code",
   "execution_count": null,
   "id": "9159c097",
   "metadata": {},
   "outputs": [],
   "source": []
  },
  {
   "cell_type": "code",
   "execution_count": null,
   "id": "7ce3d9ce",
   "metadata": {},
   "outputs": [],
   "source": []
  },
  {
   "cell_type": "code",
   "execution_count": null,
   "id": "a1c48c95",
   "metadata": {},
   "outputs": [],
   "source": []
  },
  {
   "cell_type": "code",
   "execution_count": null,
   "id": "8569823f",
   "metadata": {},
   "outputs": [],
   "source": []
  },
  {
   "cell_type": "code",
   "execution_count": null,
   "id": "5a78c354",
   "metadata": {},
   "outputs": [],
   "source": []
  }
 ],
 "metadata": {
  "kernelspec": {
   "display_name": "Python 3 (ipykernel)",
   "language": "python",
   "name": "python3"
  },
  "language_info": {
   "codemirror_mode": {
    "name": "ipython",
    "version": 3
   },
   "file_extension": ".py",
   "mimetype": "text/x-python",
   "name": "python",
   "nbconvert_exporter": "python",
   "pygments_lexer": "ipython3",
   "version": "3.10.12"
  }
 },
 "nbformat": 4,
 "nbformat_minor": 5
}
