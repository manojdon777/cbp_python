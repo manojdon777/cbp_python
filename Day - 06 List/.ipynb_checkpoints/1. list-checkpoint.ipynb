{
 "cells": [
  {
   "cell_type": "markdown",
   "id": "472f2d2a",
   "metadata": {},
   "source": [
    "# List"
   ]
  },
  {
   "cell_type": "markdown",
   "id": "0fc47574",
   "metadata": {},
   "source": [
    "## 1. Definition"
   ]
  },
  {
   "cell_type": "code",
   "execution_count": null,
   "id": "89520b2d",
   "metadata": {},
   "outputs": [],
   "source": [
    "- collection of items\n",
    "- separated by comma\n",
    "- can accomodate heterogenous datatypes\n",
    "- list is ordered\n",
    "- list can contain duplicates\n",
    "- lists are mutable (can change)"
   ]
  },
  {
   "cell_type": "code",
   "execution_count": 1,
   "id": "5f5bb646",
   "metadata": {},
   "outputs": [
    {
     "name": "stdout",
     "output_type": "stream",
     "text": [
      "[1, 56, 34, 90]\n"
     ]
    }
   ],
   "source": [
    "list1 = [1, 56, 34,90]\n",
    "print(list1)"
   ]
  },
  {
   "cell_type": "code",
   "execution_count": 2,
   "id": "8c1b4df2",
   "metadata": {},
   "outputs": [
    {
     "data": {
      "text/plain": [
       "[1, 56, 34, 90]"
      ]
     },
     "execution_count": 2,
     "metadata": {},
     "output_type": "execute_result"
    }
   ],
   "source": [
    "list1 = [1, 56, 34,90]\n",
    "list1"
   ]
  },
  {
   "cell_type": "code",
   "execution_count": 69,
   "id": "62b7b74b",
   "metadata": {},
   "outputs": [
    {
     "ename": "SyntaxError",
     "evalue": "invalid syntax. Perhaps you forgot a comma? (1491249211.py, line 1)",
     "output_type": "error",
     "traceback": [
      "\u001b[0;36m  File \u001b[0;32m\"/tmp/ipykernel_365375/1491249211.py\"\u001b[0;36m, line \u001b[0;32m1\u001b[0m\n\u001b[0;31m    list1 = [1 56 34 90]\u001b[0m\n\u001b[0m             ^\u001b[0m\n\u001b[0;31mSyntaxError\u001b[0m\u001b[0;31m:\u001b[0m invalid syntax. Perhaps you forgot a comma?\n"
     ]
    }
   ],
   "source": [
    "list1 = [1 56 34 90]\n",
    "list1"
   ]
  },
  {
   "cell_type": "code",
   "execution_count": 4,
   "id": "33cb5ef9",
   "metadata": {},
   "outputs": [
    {
     "name": "stdout",
     "output_type": "stream",
     "text": [
      "list data\n"
     ]
    }
   ],
   "source": [
    "list1 = [1, 56, 34,90]\n",
    "list1\n",
    "print('list data')"
   ]
  },
  {
   "cell_type": "code",
   "execution_count": 5,
   "id": "0576e46a",
   "metadata": {},
   "outputs": [
    {
     "data": {
      "text/plain": [
       "[1, 2, 'CBP', 77.88, [22, 66, 88], (1, 3)]"
      ]
     },
     "execution_count": 5,
     "metadata": {},
     "output_type": "execute_result"
    }
   ],
   "source": [
    "list2 = [1, 2, 'CBP', 77.88, [22,66,88], (1,3)]\n",
    "list2"
   ]
  },
  {
   "cell_type": "code",
   "execution_count": 6,
   "id": "34fe2884",
   "metadata": {},
   "outputs": [
    {
     "name": "stdout",
     "output_type": "stream",
     "text": [
      "1\n",
      "2\n",
      "CBP\n",
      "77.88\n",
      "[22, 66, 88]\n",
      "(1, 3)\n"
     ]
    }
   ],
   "source": [
    "list2 = [1, 2, 'CBP', 77.88, [22,66,88], (1,3)]\n",
    "for item in list2:\n",
    "    print(item)"
   ]
  },
  {
   "cell_type": "code",
   "execution_count": null,
   "id": "c22dd58b",
   "metadata": {},
   "outputs": [],
   "source": [
    "list2 = [1, 2, 'CBP', 77.88, [22,66,88], (1,3)]\n",
    "for item in list2:\n",
    "    print(item)"
   ]
  },
  {
   "cell_type": "code",
   "execution_count": 9,
   "id": "59c25276",
   "metadata": {},
   "outputs": [
    {
     "name": "stdout",
     "output_type": "stream",
     "text": [
      "0 -> 1\n",
      "1 -> 2\n",
      "2 -> CBP\n",
      "3 -> 77.88\n",
      "4 -> [22, 66, 88]\n",
      "5 -> (1, 3)\n"
     ]
    }
   ],
   "source": [
    "list2 = [1, 2, 'CBP', 77.88, [22,66,88], (1,3)]\n",
    "for index in range(len(list2)):\n",
    "    print(index, '->',list2[index])"
   ]
  },
  {
   "cell_type": "code",
   "execution_count": 11,
   "id": "4ec14975",
   "metadata": {},
   "outputs": [
    {
     "name": "stdout",
     "output_type": "stream",
     "text": [
      "0 -> 1 -> <class 'int'>\n",
      "1 -> 2 -> <class 'int'>\n",
      "2 -> CBP -> <class 'str'>\n",
      "3 -> 77.88 -> <class 'float'>\n",
      "4 -> [22, 66, 88] -> <class 'list'>\n",
      "5 -> (1, 3) -> <class 'tuple'>\n"
     ]
    }
   ],
   "source": [
    "list2 = [1, 2, 'CBP', 77.88, [22,66,88], (1,3)]\n",
    "for index in range(len(list2)):\n",
    "    print(index, '->',list2[index], '->', type(list2[index]))"
   ]
  },
  {
   "cell_type": "code",
   "execution_count": null,
   "id": "5e0fe876",
   "metadata": {},
   "outputs": [],
   "source": [
    "0 -> 1 ->            <class 'int'>\n",
    "1 -> 2 ->            <class 'int'>\n",
    "2 -> CBP ->          <class 'str'>\n",
    "3 -> 77.88 ->        <class 'float'>\n",
    "4 -> [22, 66, 88] -> <class 'list'>\n",
    "5 -> (1, 3) ->       <class 'tuple'>"
   ]
  },
  {
   "cell_type": "code",
   "execution_count": 17,
   "id": "ed4d58a9",
   "metadata": {},
   "outputs": [
    {
     "name": "stdout",
     "output_type": "stream",
     "text": [
      "0 -> 11 -> <class 'int'>\n",
      "1 -> 22 -> <class 'int'>\n",
      "2 -> 33 -> <class 'int'>\n",
      "3 -> 44 -> <class 'int'>\n",
      "4 -> 55 -> <class 'int'>\n",
      "5 -> 66 -> <class 'int'>\n",
      "6 -> 77 -> <class 'int'>\n"
     ]
    }
   ],
   "source": [
    "list3 = [11,22,33,44,55,66,77]\n",
    "for item in range(len(list3)):\n",
    "    print(item, '->',list3[item], '->', type(list3[item]))"
   ]
  },
  {
   "cell_type": "code",
   "execution_count": 18,
   "id": "b638f114",
   "metadata": {},
   "outputs": [
    {
     "name": "stdout",
     "output_type": "stream",
     "text": [
      "[2, 2, 2, 2, 2, 2, 2]\n"
     ]
    }
   ],
   "source": [
    "list4 = [2,2,2,2,2,2,2]\n",
    "print(list4)"
   ]
  },
  {
   "cell_type": "code",
   "execution_count": 21,
   "id": "99764fdf",
   "metadata": {},
   "outputs": [
    {
     "name": "stdout",
     "output_type": "stream",
     "text": [
      "2 2 2 2 2 2 2 "
     ]
    }
   ],
   "source": [
    "list4 = [2,2,2,2,2,2,2]\n",
    "for item in list4:\n",
    "    print(item, end = ' ')"
   ]
  },
  {
   "cell_type": "code",
   "execution_count": 22,
   "id": "a047508e",
   "metadata": {},
   "outputs": [
    {
     "name": "stdout",
     "output_type": "stream",
     "text": [
      "1 2 44 2 1 "
     ]
    }
   ],
   "source": [
    "list4 = [1,2,44,2,1]\n",
    "for item in list4:\n",
    "    print(item, end = ' ')"
   ]
  },
  {
   "cell_type": "code",
   "execution_count": 26,
   "id": "e5767ced",
   "metadata": {},
   "outputs": [
    {
     "data": {
      "text/plain": [
       "[1, 2, 3, 44, 5, 6]"
      ]
     },
     "execution_count": 26,
     "metadata": {},
     "output_type": "execute_result"
    }
   ],
   "source": [
    "list5 = [1,2,3,4,5,6]\n",
    "list5[3] = 44\n",
    "list5"
   ]
  },
  {
   "cell_type": "code",
   "execution_count": 27,
   "id": "49c4e266",
   "metadata": {},
   "outputs": [
    {
     "ename": "TypeError",
     "evalue": "'tuple' object does not support item assignment",
     "output_type": "error",
     "traceback": [
      "\u001b[0;31m---------------------------------------------------------------------------\u001b[0m",
      "\u001b[0;31mTypeError\u001b[0m                                 Traceback (most recent call last)",
      "\u001b[0;32m/tmp/ipykernel_365375/3734019297.py\u001b[0m in \u001b[0;36m<module>\u001b[0;34m\u001b[0m\n\u001b[1;32m      1\u001b[0m \u001b[0mtup5\u001b[0m \u001b[0;34m=\u001b[0m \u001b[0;34m(\u001b[0m\u001b[0;36m1\u001b[0m\u001b[0;34m,\u001b[0m\u001b[0;36m2\u001b[0m\u001b[0;34m,\u001b[0m\u001b[0;36m3\u001b[0m\u001b[0;34m,\u001b[0m\u001b[0;36m4\u001b[0m\u001b[0;34m,\u001b[0m\u001b[0;36m5\u001b[0m\u001b[0;34m,\u001b[0m\u001b[0;36m6\u001b[0m\u001b[0;34m)\u001b[0m\u001b[0;34m\u001b[0m\u001b[0;34m\u001b[0m\u001b[0m\n\u001b[0;32m----> 2\u001b[0;31m \u001b[0mtup5\u001b[0m\u001b[0;34m[\u001b[0m\u001b[0;36m3\u001b[0m\u001b[0;34m]\u001b[0m \u001b[0;34m=\u001b[0m \u001b[0;36m44\u001b[0m\u001b[0;34m\u001b[0m\u001b[0;34m\u001b[0m\u001b[0m\n\u001b[0m\u001b[1;32m      3\u001b[0m \u001b[0mtup5\u001b[0m\u001b[0;34m\u001b[0m\u001b[0;34m\u001b[0m\u001b[0m\n",
      "\u001b[0;31mTypeError\u001b[0m: 'tuple' object does not support item assignment"
     ]
    }
   ],
   "source": [
    "tup5 = (1,2,3,4,5,6)\n",
    "tup5[3] = 44\n",
    "tup5"
   ]
  },
  {
   "cell_type": "markdown",
   "id": "ccb0bcbc",
   "metadata": {},
   "source": [
    "## 2. Initialize lists"
   ]
  },
  {
   "cell_type": "code",
   "execution_count": 30,
   "id": "f0155716",
   "metadata": {},
   "outputs": [
    {
     "data": {
      "text/plain": [
       "[65]"
      ]
     },
     "execution_count": 30,
     "metadata": {},
     "output_type": "execute_result"
    }
   ],
   "source": [
    "list1 = [65]\n",
    "list1"
   ]
  },
  {
   "cell_type": "code",
   "execution_count": 31,
   "id": "cd292412",
   "metadata": {},
   "outputs": [
    {
     "data": {
      "text/plain": [
       "[3, 5, 6]"
      ]
     },
     "execution_count": 31,
     "metadata": {},
     "output_type": "execute_result"
    }
   ],
   "source": [
    "list2 = [3,5,6]\n",
    "list2"
   ]
  },
  {
   "cell_type": "code",
   "execution_count": 32,
   "id": "cbb1ffe4",
   "metadata": {},
   "outputs": [
    {
     "data": {
      "text/plain": [
       "[]"
      ]
     },
     "execution_count": 32,
     "metadata": {},
     "output_type": "execute_result"
    }
   ],
   "source": [
    "# create empty list\n",
    "list1 = []\n",
    "list1"
   ]
  },
  {
   "cell_type": "code",
   "execution_count": 34,
   "id": "05caa41a",
   "metadata": {},
   "outputs": [
    {
     "data": {
      "text/plain": [
       "list"
      ]
     },
     "execution_count": 34,
     "metadata": {},
     "output_type": "execute_result"
    }
   ],
   "source": [
    "list1 = []\n",
    "type(list1)"
   ]
  },
  {
   "cell_type": "code",
   "execution_count": 33,
   "id": "1c1a117c",
   "metadata": {},
   "outputs": [
    {
     "data": {
      "text/plain": [
       "[]"
      ]
     },
     "execution_count": 33,
     "metadata": {},
     "output_type": "execute_result"
    }
   ],
   "source": [
    "list1 = list()\n",
    "list1"
   ]
  },
  {
   "cell_type": "code",
   "execution_count": 35,
   "id": "f2b3c604",
   "metadata": {},
   "outputs": [
    {
     "data": {
      "text/plain": [
       "list"
      ]
     },
     "execution_count": 35,
     "metadata": {},
     "output_type": "execute_result"
    }
   ],
   "source": [
    "list1 = list()\n",
    "type(list1)"
   ]
  },
  {
   "cell_type": "markdown",
   "id": "dbcc8355",
   "metadata": {},
   "source": [
    "## Add items"
   ]
  },
  {
   "cell_type": "markdown",
   "id": "9f2817dc",
   "metadata": {},
   "source": [
    "### 1. append(element)"
   ]
  },
  {
   "cell_type": "code",
   "execution_count": 36,
   "id": "02128320",
   "metadata": {},
   "outputs": [
    {
     "data": {
      "text/plain": [
       "[45]"
      ]
     },
     "execution_count": 36,
     "metadata": {},
     "output_type": "execute_result"
    }
   ],
   "source": [
    "list1 = []\n",
    "list1.append(45)\n",
    "list1"
   ]
  },
  {
   "cell_type": "code",
   "execution_count": 37,
   "id": "1f811f15",
   "metadata": {},
   "outputs": [
    {
     "data": {
      "text/plain": [
       "[11, 22, 33, 22]"
      ]
     },
     "execution_count": 37,
     "metadata": {},
     "output_type": "execute_result"
    }
   ],
   "source": [
    "list1 = [11,22,33]\n",
    "list1.append(22)\n",
    "list1"
   ]
  },
  {
   "cell_type": "code",
   "execution_count": 38,
   "id": "6167b1b9",
   "metadata": {},
   "outputs": [
    {
     "data": {
      "text/plain": [
       "[55, 123, 7.89, 'abc']"
      ]
     },
     "execution_count": 38,
     "metadata": {},
     "output_type": "execute_result"
    }
   ],
   "source": [
    "list1 = [55,123,7.89]\n",
    "list1.append('abc')\n",
    "list1"
   ]
  },
  {
   "cell_type": "code",
   "execution_count": 39,
   "id": "580b2069",
   "metadata": {},
   "outputs": [
    {
     "data": {
      "text/plain": [
       "[55, 123, 7.89, ['A', 'B', 'C', 'D']]"
      ]
     },
     "execution_count": 39,
     "metadata": {},
     "output_type": "execute_result"
    }
   ],
   "source": [
    "list1 = [55,123,7.89]\n",
    "list1.append(['A', 'B', 'C', 'D'])\n",
    "list1"
   ]
  },
  {
   "cell_type": "code",
   "execution_count": 40,
   "id": "5625c24e",
   "metadata": {},
   "outputs": [
    {
     "data": {
      "text/plain": [
       "['A', 'B', 'C', 'D']"
      ]
     },
     "execution_count": 40,
     "metadata": {},
     "output_type": "execute_result"
    }
   ],
   "source": [
    "list1[3]"
   ]
  },
  {
   "cell_type": "code",
   "execution_count": 42,
   "id": "8dd83c5b",
   "metadata": {},
   "outputs": [
    {
     "data": {
      "text/plain": [
       "'B'"
      ]
     },
     "execution_count": 42,
     "metadata": {},
     "output_type": "execute_result"
    }
   ],
   "source": [
    "list1[3][1]"
   ]
  },
  {
   "cell_type": "markdown",
   "id": "18799434",
   "metadata": {},
   "source": [
    "### 2. extend(list1)"
   ]
  },
  {
   "cell_type": "code",
   "execution_count": 43,
   "id": "2323ccab",
   "metadata": {},
   "outputs": [
    {
     "data": {
      "text/plain": [
       "[1, 2, 'ABC', 'XYZ']"
      ]
     },
     "execution_count": 43,
     "metadata": {},
     "output_type": "execute_result"
    }
   ],
   "source": [
    "list1 = [1,2]\n",
    "list2 = ['ABC', 'XYZ']\n",
    "list1.extend(list2)\n",
    "list1"
   ]
  },
  {
   "cell_type": "code",
   "execution_count": 44,
   "id": "c112aaaf",
   "metadata": {},
   "outputs": [
    {
     "data": {
      "text/plain": [
       "['ABC', 'XYZ', 1, 2]"
      ]
     },
     "execution_count": 44,
     "metadata": {},
     "output_type": "execute_result"
    }
   ],
   "source": [
    "list1 = [1,2]\n",
    "list2 = ['ABC', 'XYZ']\n",
    "list2.extend(list1)\n",
    "list2"
   ]
  },
  {
   "cell_type": "code",
   "execution_count": 45,
   "id": "7d54821b",
   "metadata": {},
   "outputs": [
    {
     "data": {
      "text/plain": [
       "[1, 2, 33, 44]"
      ]
     },
     "execution_count": 45,
     "metadata": {},
     "output_type": "execute_result"
    }
   ],
   "source": [
    "list1 = [1,2]\n",
    "list1.extend([33,44])\n",
    "list1"
   ]
  },
  {
   "cell_type": "code",
   "execution_count": 46,
   "id": "b4a04f0e",
   "metadata": {},
   "outputs": [
    {
     "ename": "TypeError",
     "evalue": "list.extend() takes exactly one argument (2 given)",
     "output_type": "error",
     "traceback": [
      "\u001b[0;31m---------------------------------------------------------------------------\u001b[0m",
      "\u001b[0;31mTypeError\u001b[0m                                 Traceback (most recent call last)",
      "\u001b[0;32m/tmp/ipykernel_365375/1271136502.py\u001b[0m in \u001b[0;36m<module>\u001b[0;34m\u001b[0m\n\u001b[1;32m      1\u001b[0m \u001b[0mlist1\u001b[0m \u001b[0;34m=\u001b[0m \u001b[0;34m[\u001b[0m\u001b[0;36m1\u001b[0m\u001b[0;34m,\u001b[0m\u001b[0;36m2\u001b[0m\u001b[0;34m]\u001b[0m\u001b[0;34m\u001b[0m\u001b[0;34m\u001b[0m\u001b[0m\n\u001b[0;32m----> 2\u001b[0;31m \u001b[0mlist1\u001b[0m\u001b[0;34m.\u001b[0m\u001b[0mextend\u001b[0m\u001b[0;34m(\u001b[0m\u001b[0;36m33\u001b[0m\u001b[0;34m,\u001b[0m\u001b[0;36m44\u001b[0m\u001b[0;34m)\u001b[0m\u001b[0;34m\u001b[0m\u001b[0;34m\u001b[0m\u001b[0m\n\u001b[0m\u001b[1;32m      3\u001b[0m \u001b[0mlist1\u001b[0m\u001b[0;34m\u001b[0m\u001b[0;34m\u001b[0m\u001b[0m\n",
      "\u001b[0;31mTypeError\u001b[0m: list.extend() takes exactly one argument (2 given)"
     ]
    }
   ],
   "source": [
    "list1 = [1,2]\n",
    "list1.extend(33,44)\n",
    "list1"
   ]
  },
  {
   "cell_type": "code",
   "execution_count": 47,
   "id": "e9186725",
   "metadata": {},
   "outputs": [
    {
     "data": {
      "text/plain": [
       "[33, 'xyz']"
      ]
     },
     "execution_count": 47,
     "metadata": {},
     "output_type": "execute_result"
    }
   ],
   "source": [
    "list1 = []\n",
    "list2 = [33, 'xyz']\n",
    "list1.extend(list2)\n",
    "list1"
   ]
  },
  {
   "cell_type": "code",
   "execution_count": 48,
   "id": "96748498",
   "metadata": {},
   "outputs": [
    {
     "data": {
      "text/plain": [
       "[33, 'xyz']"
      ]
     },
     "execution_count": 48,
     "metadata": {},
     "output_type": "execute_result"
    }
   ],
   "source": [
    "list1 = []\n",
    "list2 = [33, 'xyz']\n",
    "list2.extend(list1)\n",
    "list2"
   ]
  },
  {
   "cell_type": "code",
   "execution_count": null,
   "id": "71faf838",
   "metadata": {},
   "outputs": [],
   "source": [
    "list2 = [33, 'xyz']\n"
   ]
  },
  {
   "cell_type": "code",
   "execution_count": 49,
   "id": "adc668f8",
   "metadata": {},
   "outputs": [
    {
     "data": {
      "text/plain": [
       "[33, 'xyz', []]"
      ]
     },
     "execution_count": 49,
     "metadata": {},
     "output_type": "execute_result"
    }
   ],
   "source": [
    "list2.append([])\n",
    "list2"
   ]
  },
  {
   "cell_type": "markdown",
   "id": "170e90d7",
   "metadata": {},
   "source": [
    "### 3. insert(index, item)"
   ]
  },
  {
   "cell_type": "code",
   "execution_count": 52,
   "id": "12a9bbfa",
   "metadata": {},
   "outputs": [
    {
     "name": "stdout",
     "output_type": "stream",
     "text": [
      "[11, 22, 33, 44, 55, 66]\n",
      "[11, 22, 33, 'Guwahati', 44, 55, 66]\n"
     ]
    }
   ],
   "source": [
    "list1 = [11,22,33,44,55,66]\n",
    "print(list1)\n",
    "list1.insert(3,'Guwahati')\n",
    "print(list1)"
   ]
  },
  {
   "cell_type": "code",
   "execution_count": 53,
   "id": "2f9d08c5",
   "metadata": {},
   "outputs": [
    {
     "data": {
      "text/plain": [
       "[{1, 4, 24, 88}]"
      ]
     },
     "execution_count": 53,
     "metadata": {},
     "output_type": "execute_result"
    }
   ],
   "source": [
    "list1 = []\n",
    "list1.insert(0, {1,4,88,24})\n",
    "list1"
   ]
  },
  {
   "cell_type": "code",
   "execution_count": 57,
   "id": "2d480c26",
   "metadata": {},
   "outputs": [
    {
     "name": "stdout",
     "output_type": "stream",
     "text": [
      "0-> Mumbai\n",
      "1-> Delhi\n",
      "2-> Kolkata\n",
      "3-> Hyderabad\n"
     ]
    }
   ],
   "source": [
    "cities = [\"Mumbai\", 'Delhi', \"Kolkata\", 'Hyderabad']\n",
    "for i in range(len(cities)):\n",
    "    print(i, '-> ', cities[i], sep = '')"
   ]
  },
  {
   "cell_type": "code",
   "execution_count": 58,
   "id": "fb515def",
   "metadata": {},
   "outputs": [
    {
     "name": "stdout",
     "output_type": "stream",
     "text": [
      "0-> Mumbai\n",
      "1-> Delhi\n",
      "2-> Guwahati\n",
      "3-> Kolkata\n",
      "4-> Hyderabad\n"
     ]
    }
   ],
   "source": [
    "cities = [\"Mumbai\", 'Delhi', \"Kolkata\", 'Hyderabad']\n",
    "cities.insert(2, 'Guwahati')\n",
    "for i in range(len(cities)):\n",
    "    print(i, '-> ', cities[i], sep = '')"
   ]
  },
  {
   "cell_type": "markdown",
   "id": "e6a979e0",
   "metadata": {},
   "source": [
    "## Remove Items"
   ]
  },
  {
   "cell_type": "markdown",
   "id": "74d1c5e3",
   "metadata": {},
   "source": [
    "### 1. remove(element)"
   ]
  },
  {
   "cell_type": "code",
   "execution_count": null,
   "id": "1a1ccc62",
   "metadata": {},
   "outputs": [],
   "source": [
    "list1.remove(element)\n",
    "it removes first occurence of an element"
   ]
  },
  {
   "cell_type": "code",
   "execution_count": 59,
   "id": "52c32e34",
   "metadata": {},
   "outputs": [
    {
     "name": "stdout",
     "output_type": "stream",
     "text": [
      "Before remove\n",
      "['Mumbai', 'Delhi', 'Kolkata', 'Hyderabad']\n",
      "After remove\n",
      "['Mumbai', 'Delhi', 'Hyderabad']\n"
     ]
    }
   ],
   "source": [
    "cities = [\"Mumbai\", 'Delhi', \"Kolkata\", 'Hyderabad']\n",
    "print('Before remove')\n",
    "print(cities)\n",
    "cities.remove('Kolkata')\n",
    "print('After remove')\n",
    "print(cities)"
   ]
  },
  {
   "cell_type": "code",
   "execution_count": 60,
   "id": "97b66fdb",
   "metadata": {},
   "outputs": [
    {
     "data": {
      "text/plain": [
       "[44, 22, 11, 44, 67, 45, 89, 34]"
      ]
     },
     "execution_count": 60,
     "metadata": {},
     "output_type": "execute_result"
    }
   ],
   "source": [
    "list1 = [11,44,22,11,44,67,45,89,34]\n",
    "list1.remove(11)\n",
    "list1"
   ]
  },
  {
   "cell_type": "code",
   "execution_count": 61,
   "id": "2557fcec",
   "metadata": {},
   "outputs": [
    {
     "data": {
      "text/plain": [
       "[11, 22, 11, 44, 67, 45, 89, 34]"
      ]
     },
     "execution_count": 61,
     "metadata": {},
     "output_type": "execute_result"
    }
   ],
   "source": [
    "list1 = [11,44,22,11,44,67,45,89,34]\n",
    "list1.remove(44)\n",
    "list1"
   ]
  },
  {
   "cell_type": "code",
   "execution_count": 62,
   "id": "9f577f21",
   "metadata": {},
   "outputs": [
    {
     "data": {
      "text/plain": [
       "[11, 22, 33, 44, 55, 66, 77]"
      ]
     },
     "execution_count": 62,
     "metadata": {},
     "output_type": "execute_result"
    }
   ],
   "source": [
    "list1 = [11,22,33,44,55,66,77,3]\n",
    "list1.remove(3)\n",
    "list1"
   ]
  },
  {
   "cell_type": "markdown",
   "id": "e0a50c64",
   "metadata": {},
   "source": [
    "### 2. pop(index)"
   ]
  },
  {
   "cell_type": "code",
   "execution_count": null,
   "id": "d71e048e",
   "metadata": {},
   "outputs": [],
   "source": [
    "it removes element from specified index"
   ]
  },
  {
   "cell_type": "code",
   "execution_count": 63,
   "id": "72cd1d50",
   "metadata": {},
   "outputs": [
    {
     "data": {
      "text/plain": [
       "[11, 22, 33, 55, 66, 77, 3]"
      ]
     },
     "execution_count": 63,
     "metadata": {},
     "output_type": "execute_result"
    }
   ],
   "source": [
    "list1 = [11,22,33,44,55,66,77,3]\n",
    "list1.pop(3)\n",
    "list1"
   ]
  },
  {
   "cell_type": "code",
   "execution_count": 64,
   "id": "d5822f5d",
   "metadata": {},
   "outputs": [
    {
     "name": "stdout",
     "output_type": "stream",
     "text": [
      "[0, 1, 2, 3, 4, 5, 6, 7, 8, 9]\n"
     ]
    },
    {
     "data": {
      "text/plain": [
       "[0, 1, 2, 3, 4, 6, 7, 8, 9]"
      ]
     },
     "execution_count": 64,
     "metadata": {},
     "output_type": "execute_result"
    }
   ],
   "source": [
    "list1 = [0,1,2,3,4,5,6,7,8,9]\n",
    "print(list1)\n",
    "list1.pop(5)\n",
    "list1"
   ]
  },
  {
   "cell_type": "code",
   "execution_count": 65,
   "id": "8cd181c1",
   "metadata": {},
   "outputs": [
    {
     "name": "stdout",
     "output_type": "stream",
     "text": [
      "0 - 0\n",
      "1 - 1\n",
      "2 - 2\n",
      "3 - 3\n",
      "4 - 4\n",
      "5 - 5\n",
      "6 - 6\n",
      "7 - 7\n",
      "8 - 8\n",
      "9 - 9\n"
     ]
    }
   ],
   "source": [
    "list1 = [0,1,2,3,4,5,6,7,8,9]\n",
    "for i in range(len(list1)):\n",
    "    print(i, '-', list1[i])"
   ]
  },
  {
   "cell_type": "markdown",
   "id": "d8d075f4",
   "metadata": {},
   "source": [
    "### 3. clear()"
   ]
  },
  {
   "cell_type": "code",
   "execution_count": 68,
   "id": "71ec8198",
   "metadata": {},
   "outputs": [
    {
     "name": "stdout",
     "output_type": "stream",
     "text": [
      "['ABC', 123, 3.14, ['Mumbai', 'Delhi', 'Kolkata', 'Hyderabad']]\n",
      "[]\n"
     ]
    }
   ],
   "source": [
    "list1 = [ 'ABC',\n",
    "          123,\n",
    "          3.14, \n",
    "          [\"Mumbai\", 'Delhi', \"Kolkata\", 'Hyderabad']\n",
    "        ]\n",
    "print(list1)\n",
    "list1.clear()\n",
    "print(list1)"
   ]
  },
  {
   "cell_type": "markdown",
   "id": "fc2e0fd1",
   "metadata": {},
   "source": [
    "### 4. del"
   ]
  },
  {
   "cell_type": "code",
   "execution_count": 70,
   "id": "186e7023",
   "metadata": {},
   "outputs": [
    {
     "data": {
      "text/plain": [
       "[0, 1, 2, 4, 5, 6, 7, 8, 9]"
      ]
     },
     "execution_count": 70,
     "metadata": {},
     "output_type": "execute_result"
    }
   ],
   "source": [
    "list1 = [0,1,2,3,4,5,6,7,8,9]\n",
    "del list1[3]\n",
    "list1"
   ]
  },
  {
   "cell_type": "code",
   "execution_count": 73,
   "id": "8bf9bb54",
   "metadata": {},
   "outputs": [
    {
     "ename": "NameError",
     "evalue": "name 'list1' is not defined",
     "output_type": "error",
     "traceback": [
      "\u001b[0;31m---------------------------------------------------------------------------\u001b[0m",
      "\u001b[0;31mNameError\u001b[0m                                 Traceback (most recent call last)",
      "\u001b[0;32m/tmp/ipykernel_365375/4058465150.py\u001b[0m in \u001b[0;36m<module>\u001b[0;34m\u001b[0m\n\u001b[1;32m      1\u001b[0m \u001b[0mlist1\u001b[0m \u001b[0;34m=\u001b[0m \u001b[0;34m[\u001b[0m\u001b[0;36m0\u001b[0m\u001b[0;34m,\u001b[0m\u001b[0;36m1\u001b[0m\u001b[0;34m,\u001b[0m\u001b[0;36m2\u001b[0m\u001b[0;34m,\u001b[0m\u001b[0;36m3\u001b[0m\u001b[0;34m,\u001b[0m\u001b[0;36m4\u001b[0m\u001b[0;34m,\u001b[0m\u001b[0;36m5\u001b[0m\u001b[0;34m,\u001b[0m\u001b[0;36m6\u001b[0m\u001b[0;34m,\u001b[0m\u001b[0;36m7\u001b[0m\u001b[0;34m,\u001b[0m\u001b[0;36m8\u001b[0m\u001b[0;34m,\u001b[0m\u001b[0;36m9\u001b[0m\u001b[0;34m]\u001b[0m\u001b[0;34m\u001b[0m\u001b[0;34m\u001b[0m\u001b[0m\n\u001b[1;32m      2\u001b[0m \u001b[0;32mdel\u001b[0m \u001b[0mlist1\u001b[0m\u001b[0;34m\u001b[0m\u001b[0;34m\u001b[0m\u001b[0m\n\u001b[0;32m----> 3\u001b[0;31m \u001b[0mlist1\u001b[0m\u001b[0;34m\u001b[0m\u001b[0;34m\u001b[0m\u001b[0m\n\u001b[0m",
      "\u001b[0;31mNameError\u001b[0m: name 'list1' is not defined"
     ]
    }
   ],
   "source": [
    "list1 = [0,1,2,3,4,5,6,7,8,9]\n",
    "del list1\n",
    "list1"
   ]
  },
  {
   "cell_type": "code",
   "execution_count": null,
   "id": "93bf4769",
   "metadata": {},
   "outputs": [],
   "source": []
  },
  {
   "cell_type": "code",
   "execution_count": null,
   "id": "8febeb17",
   "metadata": {},
   "outputs": [],
   "source": []
  },
  {
   "cell_type": "code",
   "execution_count": null,
   "id": "52fffe39",
   "metadata": {},
   "outputs": [],
   "source": []
  },
  {
   "cell_type": "code",
   "execution_count": null,
   "id": "266e5747",
   "metadata": {},
   "outputs": [],
   "source": []
  },
  {
   "cell_type": "code",
   "execution_count": null,
   "id": "011e335b",
   "metadata": {},
   "outputs": [],
   "source": []
  },
  {
   "cell_type": "code",
   "execution_count": null,
   "id": "5e5fb097",
   "metadata": {},
   "outputs": [],
   "source": []
  },
  {
   "cell_type": "code",
   "execution_count": null,
   "id": "0578bc10",
   "metadata": {},
   "outputs": [],
   "source": []
  },
  {
   "cell_type": "code",
   "execution_count": null,
   "id": "d8b83302",
   "metadata": {},
   "outputs": [],
   "source": []
  },
  {
   "cell_type": "code",
   "execution_count": null,
   "id": "c0ff7d25",
   "metadata": {},
   "outputs": [],
   "source": []
  },
  {
   "cell_type": "code",
   "execution_count": null,
   "id": "233b2543",
   "metadata": {},
   "outputs": [],
   "source": []
  },
  {
   "cell_type": "code",
   "execution_count": null,
   "id": "b71a7643",
   "metadata": {},
   "outputs": [],
   "source": []
  },
  {
   "cell_type": "code",
   "execution_count": null,
   "id": "72ffc3f7",
   "metadata": {},
   "outputs": [],
   "source": []
  }
 ],
 "metadata": {
  "kernelspec": {
   "display_name": "Python 3 (ipykernel)",
   "language": "python",
   "name": "python3"
  },
  "language_info": {
   "codemirror_mode": {
    "name": "ipython",
    "version": 3
   },
   "file_extension": ".py",
   "mimetype": "text/x-python",
   "name": "python",
   "nbconvert_exporter": "python",
   "pygments_lexer": "ipython3",
   "version": "3.10.12"
  }
 },
 "nbformat": 4,
 "nbformat_minor": 5
}
