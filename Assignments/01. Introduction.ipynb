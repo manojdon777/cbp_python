{
 "cells": [
  {
   "cell_type": "code",
   "execution_count": null,
   "id": "06c97e6e",
   "metadata": {},
   "outputs": [],
   "source": [
    "Q1. What are the key features of Python?"
   ]
  },
  {
   "cell_type": "code",
   "execution_count": null,
   "id": "7693f5ff",
   "metadata": {},
   "outputs": [],
   "source": []
  },
  {
   "cell_type": "code",
   "execution_count": null,
   "id": "dcf118c8",
   "metadata": {},
   "outputs": [],
   "source": [
    "Q2. What are the Data Types in Python?"
   ]
  },
  {
   "cell_type": "code",
   "execution_count": null,
   "id": "70c40666",
   "metadata": {},
   "outputs": [],
   "source": []
  },
  {
   "cell_type": "code",
   "execution_count": null,
   "id": "4ee3bacc",
   "metadata": {},
   "outputs": [],
   "source": [
    "Q3. What are local variables and global variables in Python?"
   ]
  },
  {
   "cell_type": "code",
   "execution_count": null,
   "id": "f0b0e6a8",
   "metadata": {},
   "outputs": [],
   "source": []
  },
  {
   "cell_type": "code",
   "execution_count": null,
   "id": "71b88542",
   "metadata": {},
   "outputs": [],
   "source": [
    "Q4. How do you write comments in python? And Why Comments are important?"
   ]
  },
  {
   "cell_type": "code",
   "execution_count": null,
   "id": "a31a11b1",
   "metadata": {},
   "outputs": [],
   "source": []
  },
  {
   "cell_type": "code",
   "execution_count": null,
   "id": "f548ded0",
   "metadata": {},
   "outputs": [],
   "source": [
    "Q5. How to comment on multiple lines in python?"
   ]
  },
  {
   "cell_type": "code",
   "execution_count": null,
   "id": "fb490ecc",
   "metadata": {},
   "outputs": [],
   "source": []
  },
  {
   "cell_type": "code",
   "execution_count": null,
   "id": "a5c9bde2",
   "metadata": {},
   "outputs": [],
   "source": [
    "Q6. What do you mean by Python literals?"
   ]
  },
  {
   "cell_type": "code",
   "execution_count": null,
   "id": "92ae763f",
   "metadata": {},
   "outputs": [],
   "source": []
  },
  {
   "cell_type": "code",
   "execution_count": null,
   "id": "35f56cf8",
   "metadata": {},
   "outputs": [],
   "source": [
    "Q7. What are different ways to assign value to variables?"
   ]
  },
  {
   "cell_type": "code",
   "execution_count": null,
   "id": "60f9a3bb",
   "metadata": {},
   "outputs": [],
   "source": []
  },
  {
   "cell_type": "code",
   "execution_count": null,
   "id": "a66e87a6",
   "metadata": {},
   "outputs": [],
   "source": [
    "Q8. What are the Escape Characters in python?"
   ]
  },
  {
   "cell_type": "code",
   "execution_count": null,
   "id": "d139d91c",
   "metadata": {},
   "outputs": [],
   "source": []
  },
  {
   "cell_type": "code",
   "execution_count": null,
   "id": "a136e296",
   "metadata": {},
   "outputs": [],
   "source": [
    "Q9. Write a program to print every character of a string entered by\n",
    "   the user in a new line using a loop."
   ]
  },
  {
   "cell_type": "code",
   "execution_count": null,
   "id": "379b7994",
   "metadata": {},
   "outputs": [],
   "source": []
  },
  {
   "cell_type": "code",
   "execution_count": null,
   "id": "89f70ad0",
   "metadata": {},
   "outputs": [],
   "source": [
    "Q11. Write a program to find the length of the string\n",
    "    \"System Software\" with and without using len function."
   ]
  },
  {
   "cell_type": "code",
   "execution_count": null,
   "id": "1bdd6483",
   "metadata": {},
   "outputs": [],
   "source": []
  },
  {
   "cell_type": "code",
   "execution_count": null,
   "id": "cb98ed5d",
   "metadata": {},
   "outputs": [],
   "source": [
    "Q12. Write a program to check if the word 'orange' is present\n",
    "    in the \"This is orange juice\"."
   ]
  },
  {
   "cell_type": "code",
   "execution_count": null,
   "id": "b76bea19",
   "metadata": {},
   "outputs": [],
   "source": []
  },
  {
   "cell_type": "code",
   "execution_count": null,
   "id": "b0143fb3",
   "metadata": {},
   "outputs": [],
   "source": [
    "Q13. Write a program to find the number of vowels, consonants, digits,\n",
    "    and white space characters in a string."
   ]
  },
  {
   "cell_type": "code",
   "execution_count": null,
   "id": "657850b8",
   "metadata": {},
   "outputs": [],
   "source": []
  },
  {
   "cell_type": "code",
   "execution_count": null,
   "id": "d50d0e89",
   "metadata": {},
   "outputs": [],
   "source": [
    "Q14. Write a Python program to count Uppercase, Lowercase,\n",
    "    special character, and numeric values in a given string."
   ]
  },
  {
   "cell_type": "code",
   "execution_count": null,
   "id": "2559586d",
   "metadata": {},
   "outputs": [],
   "source": []
  },
  {
   "cell_type": "code",
   "execution_count": null,
   "id": "a6446b1e",
   "metadata": {},
   "outputs": [],
   "source": [
    "Q15. List all keywords in python3.x."
   ]
  },
  {
   "cell_type": "code",
   "execution_count": null,
   "id": "abe126b4",
   "metadata": {},
   "outputs": [],
   "source": []
  }
 ],
 "metadata": {
  "kernelspec": {
   "display_name": "Python 3 (ipykernel)",
   "language": "python",
   "name": "python3"
  },
  "language_info": {
   "codemirror_mode": {
    "name": "ipython",
    "version": 3
   },
   "file_extension": ".py",
   "mimetype": "text/x-python",
   "name": "python",
   "nbconvert_exporter": "python",
   "pygments_lexer": "ipython3",
   "version": "3.10.12"
  }
 },
 "nbformat": 4,
 "nbformat_minor": 5
}
