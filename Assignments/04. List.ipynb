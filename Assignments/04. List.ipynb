{
 "cells": [
  {
   "cell_type": "markdown",
   "id": "e3240a2c",
   "metadata": {},
   "source": [
    "Q1. What is a List?"
   ]
  },
  {
   "cell_type": "code",
   "execution_count": null,
   "id": "d13b5f09",
   "metadata": {},
   "outputs": [],
   "source": []
  },
  {
   "cell_type": "markdown",
   "id": "b8d9c8a9",
   "metadata": {},
   "source": [
    "Q2. What is a Tuple?"
   ]
  },
  {
   "cell_type": "code",
   "execution_count": null,
   "id": "3133c21d",
   "metadata": {},
   "outputs": [],
   "source": []
  },
  {
   "cell_type": "markdown",
   "id": "19eb632a",
   "metadata": {},
   "source": [
    "Q3 What's diff between mutable and immutable?"
   ]
  },
  {
   "cell_type": "code",
   "execution_count": null,
   "id": "a59d510e",
   "metadata": {},
   "outputs": [],
   "source": []
  },
  {
   "cell_type": "markdown",
   "id": "c56af292",
   "metadata": {},
   "source": [
    "Q4. What is the difference between List and Tuple?"
   ]
  },
  {
   "cell_type": "code",
   "execution_count": null,
   "id": "23c459ed",
   "metadata": {},
   "outputs": [],
   "source": []
  },
  {
   "cell_type": "markdown",
   "id": "0c6b0ebd",
   "metadata": {},
   "source": [
    "Q5. Python Program to find the largest element in the list."
   ]
  },
  {
   "cell_type": "code",
   "execution_count": null,
   "id": "247d936c",
   "metadata": {},
   "outputs": [],
   "source": []
  },
  {
   "cell_type": "markdown",
   "id": "25d8ea1b",
   "metadata": {},
   "source": [
    "Q6. Python program to interchange first and last elements in a list."
   ]
  },
  {
   "cell_type": "code",
   "execution_count": null,
   "id": "af69507b",
   "metadata": {},
   "outputs": [],
   "source": []
  },
  {
   "cell_type": "markdown",
   "id": "554745b3",
   "metadata": {},
   "source": [
    "Q7. Python program to swap two elements in a list."
   ]
  },
  {
   "cell_type": "code",
   "execution_count": null,
   "id": "f4590256",
   "metadata": {},
   "outputs": [],
   "source": []
  },
  {
   "cell_type": "markdown",
   "id": "204ae593",
   "metadata": {},
   "source": [
    "Q8. Python program to Reverse a List"
   ]
  },
  {
   "cell_type": "code",
   "execution_count": null,
   "id": "497f176d",
   "metadata": {},
   "outputs": [],
   "source": []
  },
  {
   "cell_type": "markdown",
   "id": "63089111",
   "metadata": {},
   "source": [
    "Q9. Python program to Reverse a Tuple"
   ]
  },
  {
   "cell_type": "code",
   "execution_count": null,
   "id": "cb8dbfbe",
   "metadata": {},
   "outputs": [],
   "source": []
  },
  {
   "cell_type": "markdown",
   "id": "b8fa7c99",
   "metadata": {},
   "source": [
    "Q10. Python program to count occurrences of an element in a list"
   ]
  },
  {
   "cell_type": "code",
   "execution_count": null,
   "id": "c8952a67",
   "metadata": {},
   "outputs": [],
   "source": []
  },
  {
   "cell_type": "markdown",
   "id": "6b8b7b51",
   "metadata": {},
   "source": [
    "Q11. Python program to find the sum of elements in a list"
   ]
  },
  {
   "cell_type": "code",
   "execution_count": null,
   "id": "7d86d6fd",
   "metadata": {},
   "outputs": [],
   "source": []
  },
  {
   "cell_type": "markdown",
   "id": "be5c98b7",
   "metadata": {},
   "source": [
    "Q12. Python program to Multiply all numbers in the list"
   ]
  },
  {
   "cell_type": "code",
   "execution_count": null,
   "id": "1ad6170f",
   "metadata": {},
   "outputs": [],
   "source": []
  },
  {
   "cell_type": "markdown",
   "id": "71b30222",
   "metadata": {},
   "source": [
    "Q13. What are the ways to find the length of a list"
   ]
  },
  {
   "cell_type": "code",
   "execution_count": null,
   "id": "f166cb98",
   "metadata": {},
   "outputs": [],
   "source": []
  },
  {
   "cell_type": "markdown",
   "id": "adce8a66",
   "metadata": {},
   "source": [
    "Q14. Python program to find the smallest and largest number in a list (Without min-max function)"
   ]
  },
  {
   "cell_type": "code",
   "execution_count": null,
   "id": "c042452d",
   "metadata": {},
   "outputs": [],
   "source": []
  },
  {
   "cell_type": "markdown",
   "id": "e26f9184",
   "metadata": {},
   "source": [
    "Q14. Take input from the user into a List of size 10. Sort list using\n",
    "list function and slicing."
   ]
  },
  {
   "cell_type": "code",
   "execution_count": null,
   "id": "d05d0c97",
   "metadata": {},
   "outputs": [],
   "source": []
  },
  {
   "cell_type": "markdown",
   "id": "9ad61cc3",
   "metadata": {},
   "source": [
    "Q15. Generate 3-digit random integer numbers in the list . Sort list using\n",
    "list function and slicing."
   ]
  },
  {
   "cell_type": "code",
   "execution_count": null,
   "id": "0e4a9e1e",
   "metadata": {},
   "outputs": [],
   "source": []
  },
  {
   "cell_type": "markdown",
   "id": "983815f2",
   "metadata": {},
   "source": [
    "Q16. You are given a list of integer elements. Make a new list that will store a square of elements of the previous list. (With and without list comprehension)<br>\n",
    "    Input_list = [2,5,6,12]<br>\n",
    "    Output_list = [4,25,36,144]\n"
   ]
  },
  {
   "cell_type": "code",
   "execution_count": null,
   "id": "c452fd08",
   "metadata": {},
   "outputs": [],
   "source": []
  },
  {
   "cell_type": "markdown",
   "id": "3377fa85",
   "metadata": {},
   "source": [
    "Q17. WAP to create two lists, one containing all even numbers and the other containing all odd numbers between 0 to 151 with and without using list comprehension."
   ]
  },
  {
   "cell_type": "code",
   "execution_count": null,
   "id": "82752d3b",
   "metadata": {},
   "outputs": [],
   "source": []
  },
  {
   "cell_type": "markdown",
   "id": "b5415216",
   "metadata": {},
   "source": [
    "Q18. Python program to Count Even and Odd numbers in a List."
   ]
  },
  {
   "cell_type": "code",
   "execution_count": null,
   "id": "60589f60",
   "metadata": {},
   "outputs": [],
   "source": []
  },
  {
   "cell_type": "markdown",
   "id": "0d912ade",
   "metadata": {},
   "source": [
    "Q19. WAP to make new lists, containing only numbers which are divisible by 4, 6, 8, 10, 3, 5, 7, and 9 in separate lists for range(0,151)."
   ]
  },
  {
   "cell_type": "code",
   "execution_count": null,
   "id": "bb84a54d",
   "metadata": {},
   "outputs": [],
   "source": []
  },
  {
   "cell_type": "markdown",
   "id": "8e8fe054",
   "metadata": {},
   "source": [
    "Q20. What’s The difference between the List append() and extend() Methods?"
   ]
  },
  {
   "cell_type": "code",
   "execution_count": null,
   "id": "75fb0bc3",
   "metadata": {},
   "outputs": [],
   "source": []
  },
  {
   "cell_type": "markdown",
   "id": "fc0c6c76",
   "metadata": {},
   "source": [
    "Q21 What's diff between mutable and immutable?"
   ]
  },
  {
   "cell_type": "code",
   "execution_count": null,
   "id": "b27eb0f7",
   "metadata": {},
   "outputs": [],
   "source": []
  },
  {
   "cell_type": "code",
   "execution_count": null,
   "id": "c5ab903a",
   "metadata": {},
   "outputs": [],
   "source": []
  },
  {
   "cell_type": "code",
   "execution_count": null,
   "id": "f5140a9e",
   "metadata": {},
   "outputs": [],
   "source": []
  }
 ],
 "metadata": {
  "kernelspec": {
   "display_name": "Python 3 (ipykernel)",
   "language": "python",
   "name": "python3"
  },
  "language_info": {
   "codemirror_mode": {
    "name": "ipython",
    "version": 3
   },
   "file_extension": ".py",
   "mimetype": "text/x-python",
   "name": "python",
   "nbconvert_exporter": "python",
   "pygments_lexer": "ipython3",
   "version": "3.10.12"
  }
 },
 "nbformat": 4,
 "nbformat_minor": 5
}
