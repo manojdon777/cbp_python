{
 "cells": [
  {
   "cell_type": "markdown",
   "id": "e7b47396",
   "metadata": {},
   "source": [
    "Q1. What is a List?"
   ]
  },
  {
   "cell_type": "code",
   "execution_count": null,
   "id": "af7b05ca",
   "metadata": {},
   "outputs": [],
   "source": []
  },
  {
   "cell_type": "markdown",
   "id": "64d91c08",
   "metadata": {},
   "source": [
    "Q2. What is a Tuple?"
   ]
  },
  {
   "cell_type": "code",
   "execution_count": null,
   "id": "2f1e1fb1",
   "metadata": {},
   "outputs": [],
   "source": []
  },
  {
   "cell_type": "markdown",
   "id": "1041294a",
   "metadata": {},
   "source": [
    "Q3 What's diff between mutable and immutable?"
   ]
  },
  {
   "cell_type": "code",
   "execution_count": null,
   "id": "94f1b80a",
   "metadata": {},
   "outputs": [],
   "source": []
  },
  {
   "cell_type": "markdown",
   "id": "24781a18",
   "metadata": {},
   "source": [
    "Q4. What is the difference between List and Tuple?"
   ]
  },
  {
   "cell_type": "code",
   "execution_count": null,
   "id": "55362c85",
   "metadata": {},
   "outputs": [],
   "source": []
  },
  {
   "cell_type": "markdown",
   "id": "80d9e34c",
   "metadata": {},
   "source": [
    "Q5. Python Program to find the largest element in the list."
   ]
  },
  {
   "cell_type": "code",
   "execution_count": null,
   "id": "a97caebb",
   "metadata": {},
   "outputs": [],
   "source": []
  },
  {
   "cell_type": "markdown",
   "id": "eb7a3a67",
   "metadata": {},
   "source": [
    "Q6. Python program to interchange first and last elements in a list."
   ]
  },
  {
   "cell_type": "code",
   "execution_count": null,
   "id": "57665ed2",
   "metadata": {},
   "outputs": [],
   "source": []
  },
  {
   "cell_type": "markdown",
   "id": "0bcf6e3a",
   "metadata": {},
   "source": [
    "Q7. Python program to swap two elements in a list."
   ]
  },
  {
   "cell_type": "code",
   "execution_count": null,
   "id": "e0846245",
   "metadata": {},
   "outputs": [],
   "source": []
  },
  {
   "cell_type": "markdown",
   "id": "f5f0fef2",
   "metadata": {},
   "source": [
    "Q8. Python program to Reverse a List"
   ]
  },
  {
   "cell_type": "code",
   "execution_count": null,
   "id": "e0558c15",
   "metadata": {},
   "outputs": [],
   "source": []
  },
  {
   "cell_type": "markdown",
   "id": "b106f3f9",
   "metadata": {},
   "source": [
    "Q9. Python program to Reverse a Tuple"
   ]
  },
  {
   "cell_type": "code",
   "execution_count": null,
   "id": "05af2ded",
   "metadata": {},
   "outputs": [],
   "source": []
  },
  {
   "cell_type": "markdown",
   "id": "9c23f037",
   "metadata": {},
   "source": [
    "Q10. Python program to count occurrences of an element in a list"
   ]
  },
  {
   "cell_type": "code",
   "execution_count": null,
   "id": "2293ab2a",
   "metadata": {},
   "outputs": [],
   "source": []
  },
  {
   "cell_type": "markdown",
   "id": "44182be6",
   "metadata": {},
   "source": [
    "Q11. Python program to find the sum of elements in a list"
   ]
  },
  {
   "cell_type": "code",
   "execution_count": null,
   "id": "b7fcf407",
   "metadata": {},
   "outputs": [],
   "source": []
  },
  {
   "cell_type": "markdown",
   "id": "568c1245",
   "metadata": {},
   "source": [
    "Q12. Python program to Multiply all numbers in the list"
   ]
  },
  {
   "cell_type": "code",
   "execution_count": null,
   "id": "3a2950ae",
   "metadata": {},
   "outputs": [],
   "source": []
  },
  {
   "cell_type": "markdown",
   "id": "6055474d",
   "metadata": {},
   "source": [
    "Q13. What are the ways to find the length of a list"
   ]
  },
  {
   "cell_type": "code",
   "execution_count": null,
   "id": "b1c5cf0c",
   "metadata": {},
   "outputs": [],
   "source": []
  },
  {
   "cell_type": "markdown",
   "id": "42d61d34",
   "metadata": {},
   "source": [
    "Q14. Python program to find the smallest and largest number in a list (Without min-max function)"
   ]
  },
  {
   "cell_type": "code",
   "execution_count": null,
   "id": "b08b6c2a",
   "metadata": {},
   "outputs": [],
   "source": []
  },
  {
   "cell_type": "markdown",
   "id": "474987c3",
   "metadata": {},
   "source": [
    "Q15. Take input from the user into a List of size 10. Sort list using\n",
    "list function and slicing."
   ]
  },
  {
   "cell_type": "code",
   "execution_count": null,
   "id": "0155d530",
   "metadata": {},
   "outputs": [],
   "source": []
  },
  {
   "cell_type": "markdown",
   "id": "ef765ba4",
   "metadata": {},
   "source": [
    "Q16. Generate 3-digit random integer numbers in the list . Sort list using\n",
    "list function and slicing."
   ]
  },
  {
   "cell_type": "code",
   "execution_count": null,
   "id": "9f728cc8",
   "metadata": {},
   "outputs": [],
   "source": []
  },
  {
   "cell_type": "markdown",
   "id": "82782664",
   "metadata": {},
   "source": [
    "Q17. You are given a list of integer elements. Make a new list that will store a square of elements of the previous list. (With and without list comprehension)<br>\n",
    "    Input_list = [2,5,6,12]<br>\n",
    "    Output_list = [4,25,36,144]\n"
   ]
  },
  {
   "cell_type": "code",
   "execution_count": null,
   "id": "a25a2272",
   "metadata": {},
   "outputs": [],
   "source": []
  },
  {
   "cell_type": "markdown",
   "id": "fafbfe79",
   "metadata": {},
   "source": [
    "Q18. WAP to create two lists, one containing all even numbers and the other containing all odd numbers between 0 to 151 with and without using list comprehension."
   ]
  },
  {
   "cell_type": "code",
   "execution_count": null,
   "id": "d17faba6",
   "metadata": {},
   "outputs": [],
   "source": []
  },
  {
   "cell_type": "markdown",
   "id": "d8288e0a",
   "metadata": {},
   "source": [
    "Q19. Python program to Count Even and Odd numbers in a List."
   ]
  },
  {
   "cell_type": "code",
   "execution_count": null,
   "id": "d1b9caf4",
   "metadata": {},
   "outputs": [],
   "source": []
  },
  {
   "cell_type": "markdown",
   "id": "81cb2bfa",
   "metadata": {},
   "source": [
    "Q20. WAP to make new lists, containing only numbers which are divisible by 4, 6, 8, 10, 3, 5, 7, and 9 in separate lists for range(0,151)."
   ]
  },
  {
   "cell_type": "code",
   "execution_count": null,
   "id": "0e54777d",
   "metadata": {},
   "outputs": [],
   "source": []
  },
  {
   "cell_type": "markdown",
   "id": "06a71178",
   "metadata": {},
   "source": [
    "Q21. What’s The difference between the List append() and extend() Methods?"
   ]
  },
  {
   "cell_type": "code",
   "execution_count": null,
   "id": "432c985a",
   "metadata": {},
   "outputs": [],
   "source": []
  },
  {
   "cell_type": "markdown",
   "id": "089a8468",
   "metadata": {},
   "source": [
    "Q22. Difference between del and clear?"
   ]
  },
  {
   "cell_type": "code",
   "execution_count": null,
   "id": "0ba95798",
   "metadata": {},
   "outputs": [],
   "source": []
  },
  {
   "cell_type": "markdown",
   "id": "1bc76c27",
   "metadata": {},
   "source": [
    "Q23. Difference between remove and pop? "
   ]
  },
  {
   "cell_type": "code",
   "execution_count": null,
   "id": "7b347059",
   "metadata": {},
   "outputs": [],
   "source": []
  },
  {
   "cell_type": "markdown",
   "id": "6eec292f",
   "metadata": {},
   "source": [
    "Q24. Difference between indexing and Slicing?"
   ]
  },
  {
   "cell_type": "code",
   "execution_count": null,
   "id": "777ce2f0",
   "metadata": {},
   "outputs": [],
   "source": []
  },
  {
   "cell_type": "markdown",
   "id": "15e1b1de",
   "metadata": {},
   "source": [
    "Q25. Difference between sort and sorted?"
   ]
  },
  {
   "cell_type": "code",
   "execution_count": null,
   "id": "e9796ad8",
   "metadata": {},
   "outputs": [],
   "source": []
  },
  {
   "cell_type": "markdown",
   "id": "0e1657c6",
   "metadata": {},
   "source": [
    "Q26. Difference between reverse and reversed?"
   ]
  },
  {
   "cell_type": "code",
   "execution_count": null,
   "id": "67bd8d90",
   "metadata": {},
   "outputs": [],
   "source": []
  },
  {
   "cell_type": "markdown",
   "id": "7b5e6f3a",
   "metadata": {},
   "source": [
    "Q27. Difference between copy and deep copy?"
   ]
  },
  {
   "cell_type": "code",
   "execution_count": null,
   "id": "22e6c903",
   "metadata": {},
   "outputs": [],
   "source": []
  }
 ],
 "metadata": {
  "kernelspec": {
   "display_name": "Python 3 (ipykernel)",
   "language": "python",
   "name": "python3"
  },
  "language_info": {
   "codemirror_mode": {
    "name": "ipython",
    "version": 3
   },
   "file_extension": ".py",
   "mimetype": "text/x-python",
   "name": "python",
   "nbconvert_exporter": "python",
   "pygments_lexer": "ipython3",
   "version": "3.10.12"
  }
 },
 "nbformat": 4,
 "nbformat_minor": 5
}
