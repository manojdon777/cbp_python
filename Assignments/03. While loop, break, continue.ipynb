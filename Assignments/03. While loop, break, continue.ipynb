{
 "cells": [
  {
   "cell_type": "raw",
   "id": "aa3703df",
   "metadata": {},
   "source": [
    "# Q1 Write progrom for following output using while loop.\n",
    "* \n",
    "* * \n",
    "* * * \n",
    "* * * * \n",
    "* * * * * "
   ]
  },
  {
   "cell_type": "code",
   "execution_count": null,
   "id": "b093dd91",
   "metadata": {},
   "outputs": [],
   "source": []
  },
  {
   "cell_type": "raw",
   "id": "9e03cfec",
   "metadata": {},
   "source": [
    "# Q2 Write progrom for following output using while loop.\n",
    "      \n",
    "      *\n",
    "     **\n",
    "    ***\n",
    "   ****\n",
    "  *****\n",
    " ******"
   ]
  },
  {
   "cell_type": "code",
   "execution_count": null,
   "id": "2ae1e609",
   "metadata": {},
   "outputs": [],
   "source": []
  },
  {
   "cell_type": "raw",
   "id": "e9400b89",
   "metadata": {},
   "source": [
    "# Q3 Write progrom for following output using while loop.\n",
    "\n",
    "     * \n",
    "    * * \n",
    "   * * * \n",
    "  * * * * \n",
    " * * * * * "
   ]
  },
  {
   "cell_type": "code",
   "execution_count": null,
   "id": "093825ca",
   "metadata": {},
   "outputs": [],
   "source": []
  },
  {
   "cell_type": "raw",
   "id": "50c1721b",
   "metadata": {},
   "source": [
    "# Q4 Write progrom for following output using while loop.\n",
    "\n",
    "1 \n",
    "1 2 \n",
    "1 2 3 \n",
    "1 2 3 4 \n",
    "1 2 3 4 5 "
   ]
  },
  {
   "cell_type": "code",
   "execution_count": null,
   "id": "02b031f9",
   "metadata": {},
   "outputs": [],
   "source": []
  },
  {
   "cell_type": "raw",
   "id": "d1763625",
   "metadata": {},
   "source": [
    "# Q5 Write progrom for following output using while loop.\n",
    "\n",
    "0\n",
    "0 1 \n",
    "0 1 2 \n",
    "0 1 2 3 \n",
    "0 1 2 3 4 \n",
    "0 1 2 3 4 5 "
   ]
  },
  {
   "cell_type": "code",
   "execution_count": null,
   "id": "daeccc79",
   "metadata": {},
   "outputs": [],
   "source": []
  },
  {
   "cell_type": "raw",
   "id": "d762fb34",
   "metadata": {},
   "source": [
    "# Q6 Write progrom for following output using while loop.\n",
    "\n",
    "1 \n",
    "2 3 \n",
    "4 5 6 \n",
    "7 8 9 10 \n",
    "11 12 13 14 15 "
   ]
  },
  {
   "cell_type": "code",
   "execution_count": null,
   "id": "ac840609",
   "metadata": {},
   "outputs": [],
   "source": []
  },
  {
   "cell_type": "raw",
   "id": "5bdd0b00",
   "metadata": {},
   "source": [
    "# Q7 Write progrom for following output using while loop.\n",
    "\n",
    "A \n",
    "B B \n",
    "C C C \n",
    "D D D D \n",
    "E E E E E "
   ]
  },
  {
   "cell_type": "code",
   "execution_count": null,
   "id": "d9eda32f",
   "metadata": {},
   "outputs": [],
   "source": []
  },
  {
   "cell_type": "raw",
   "id": "69a668a9",
   "metadata": {},
   "source": [
    "# Q8 Write progrom for following output using while loop.\n",
    "A \n",
    "B C \n",
    "D E F \n",
    "G H I J \n",
    "K L M N O "
   ]
  },
  {
   "cell_type": "code",
   "execution_count": null,
   "id": "36e51da3",
   "metadata": {},
   "outputs": [],
   "source": []
  },
  {
   "cell_type": "raw",
   "id": "dfc46e63",
   "metadata": {},
   "source": [
    "# Q9 Write progrom for following output using while loop.\n",
    "K \n",
    "K K \n",
    "K K K \n",
    "K K K K \n",
    "K K K K K "
   ]
  },
  {
   "cell_type": "code",
   "execution_count": null,
   "id": "0ed0affc",
   "metadata": {},
   "outputs": [],
   "source": []
  },
  {
   "cell_type": "raw",
   "id": "3c44b375",
   "metadata": {},
   "source": [
    "# Q10 Write progrom for following output using while loop.\n",
    "\n",
    "P \n",
    "y y \n",
    "t t t \n",
    "h h h h \n",
    "o o o o o \n",
    "n n n n n n "
   ]
  },
  {
   "cell_type": "code",
   "execution_count": null,
   "id": "319f8d77",
   "metadata": {},
   "outputs": [],
   "source": []
  },
  {
   "cell_type": "raw",
   "id": "6d5007f9",
   "metadata": {},
   "source": [
    "# Q11 Write progrom for following output using while loop.\n",
    "\n",
    "1 1 1 1 1 \n",
    "2 2 2 2 \n",
    "3 3 3 \n",
    "4 4 \n",
    "5 "
   ]
  },
  {
   "cell_type": "code",
   "execution_count": null,
   "id": "44fd8d88",
   "metadata": {},
   "outputs": [],
   "source": []
  },
  {
   "cell_type": "raw",
   "id": "3d6fdf43",
   "metadata": {},
   "source": [
    "# Q12 Write progrom for following output using while loop.\n",
    "\n",
    "6 6 6 6 6 6 \n",
    "5 5 5 5 5 \n",
    "4 4 4 4 \n",
    "3 3 3 \n",
    "2 2 \n",
    "1"
   ]
  },
  {
   "cell_type": "code",
   "execution_count": null,
   "id": "1730c20a",
   "metadata": {},
   "outputs": [],
   "source": []
  },
  {
   "cell_type": "raw",
   "id": "1e731163",
   "metadata": {},
   "source": [
    "# Q13 Write progrom for following output using while loop.\n",
    "\n",
    "0 1 2 3 4 5 \n",
    "0 1 2 3 4 \n",
    "0 1 2 3 \n",
    "0 1 2 \n",
    "0 1\n",
    "0"
   ]
  },
  {
   "cell_type": "code",
   "execution_count": null,
   "id": "4edd497d",
   "metadata": {},
   "outputs": [],
   "source": []
  },
  {
   "cell_type": "raw",
   "id": "4adc7015",
   "metadata": {},
   "source": [
    "# Q14 Write progrom for following output using while loop.\n",
    "\n",
    "0 1 2 3 4 5 \n",
    "0 1 2 3 4 \n",
    "0 1 2 3 \n",
    "0 1 2 \n",
    "0 1"
   ]
  },
  {
   "cell_type": "code",
   "execution_count": null,
   "id": "f367255c",
   "metadata": {},
   "outputs": [],
   "source": []
  },
  {
   "cell_type": "raw",
   "id": "c523d4f5",
   "metadata": {},
   "source": [
    "# Q15 Write progrom for following output using while loop.\n",
    "\n",
    "1 \n",
    "2 1 \n",
    "4 2 1 \n",
    "8 4 2 1 \n",
    "16 8 4 2 1 \n",
    "32 16 8 4 2 1 \n",
    "64 32 16 8 4 2 1 \n",
    "128 64 32 16 8 4 2 1 "
   ]
  },
  {
   "cell_type": "code",
   "execution_count": null,
   "id": "68629a3e",
   "metadata": {},
   "outputs": [],
   "source": []
  },
  {
   "cell_type": "raw",
   "id": "b9b43086",
   "metadata": {},
   "source": [
    "# Q16 Write progrom for following output using while loop.\n",
    "\n",
    "* \n",
    "* * \n",
    "* * * \n",
    "* * * * \n",
    "* * * * * \n",
    "* * * * * * \n",
    "\n",
    "* * * * * * \n",
    "* * * * * \n",
    "* * * * \n",
    "* * * \n",
    "* * \n",
    "* "
   ]
  },
  {
   "cell_type": "code",
   "execution_count": null,
   "id": "50146f2d",
   "metadata": {},
   "outputs": [],
   "source": []
  },
  {
   "cell_type": "raw",
   "id": "0ac13e22",
   "metadata": {},
   "source": [
    "# Q17 Write a program to find nth fibonacci number."
   ]
  },
  {
   "cell_type": "code",
   "execution_count": null,
   "id": "93c8bb99",
   "metadata": {},
   "outputs": [],
   "source": []
  },
  {
   "cell_type": "code",
   "execution_count": null,
   "id": "f559e9ce",
   "metadata": {},
   "outputs": [],
   "source": []
  }
 ],
 "metadata": {
  "kernelspec": {
   "display_name": "Python 3 (ipykernel)",
   "language": "python",
   "name": "python3"
  },
  "language_info": {
   "codemirror_mode": {
    "name": "ipython",
    "version": 3
   },
   "file_extension": ".py",
   "mimetype": "text/x-python",
   "name": "python",
   "nbconvert_exporter": "python",
   "pygments_lexer": "ipython3",
   "version": "3.10.12"
  }
 },
 "nbformat": 4,
 "nbformat_minor": 5
}
