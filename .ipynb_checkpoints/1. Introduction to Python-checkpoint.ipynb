{
 "cells": [
  {
   "cell_type": "raw",
   "id": "e6a775cd",
   "metadata": {},
   "source": [
    "                           Syllabus\n",
    "############################################################\n",
    "ANNEXURE - III\n",
    "Python Programming\n",
    "Introduction to Python\n",
    "    Overview\n",
    "    Python Features\n",
    "    Environment Setup\n",
    "    Running Python\n",
    "    IDLE\n",
    "    Commercial and Free Python IDEs\n",
    "Basic Syntax\n",
    "    Interactive Mode\n",
    "    Script Mode\n",
    "    Python Identifiers\n",
    "    Reserved Words\n",
    "    Lines and Indentation\n",
    "    Multi-Line Statements\n",
    "    Quotations in Python\n",
    "    Comments in Python\n",
    "    Using Blank Lines\n",
    "    User inputs\n",
    "    Command Line Arguments\n",
    "Variable Types\n",
    "    Creating variables\n",
    "    Assigning Values to Variables\n",
    "    Accessing variables\n",
    "    Multiple Assignment\n",
    "Downloading, Installation & Configure Various Python Tools\n",
    "    Python 2.x or 3.x on various OS platforms like Windows, Linux, Unix & MacOs\n",
    "    Pycharm\n",
    "    Anaconda & Spyder\n",
    "Standard Data Types\n",
    "    Numbers\n",
    "    Strings\n",
    "    Lists\n",
    "    Tuples\n",
    "    Dictionaries\n",
    "    Sets\n",
    "Python Data Types – Numbers\n",
    "    int\n",
    "    float\n",
    "    complex\n",
    "    Number type conversions\n",
    "    Mathematical Functions\n",
    "    Random Number Functions\n",
    "    Trigonometric Functions\n",
    "    Mathematical Constants\n",
    "Python Data Types – Strings\n",
    "    Accessing values in strings\n",
    "    updating strings\n",
    "    Escape Character\n",
    "    String Special Operator\n",
    "    String Formatting Operator\n",
    "    Triple Quotes\n",
    "    Unicode String\n",
    "    Built-in String Methods\n",
    "Python Data Types – Lists\n",
    "    Creating the lists\n",
    "    Accessing the values in lists\n",
    "    Updating Lists\n",
    "    Deleting List Elements\n",
    "    Basic List Operators\n",
    "    Indexing, Slicing and Matrixes\n",
    "    Built-in List Functions & Methods\n",
    "Python Data Types – Tuples\n",
    "    Creating the tuple\n",
    "    Accessing values in Tuples\n",
    "    Updating Tuples\n",
    "    Delete Tuples Elements\n",
    "    Basic Tuples Operations\n",
    "    Indexing, Slicing and Matrixes\n",
    "    Built-in Tuple Functions\n",
    "Python Data Types – Dictionary\n",
    "    Creating a Dictionary\n",
    "    Accessing Values in Dictionary\n",
    "    Updating Dictionary\n",
    "    Deleting Dictionary Elements\n",
    "    Properties of Dictionary Keys\n",
    "    Built-in Dictionary Functions & MethodsPython Data Types – Sets\n",
    "    Creating A Set\n",
    "    Accessing A Set\n",
    "    Modifying A Set\n",
    "    Removing Items From A Set\n",
    "    Common Set Operations\n",
    "    Built-in Set Functions & Methods\n",
    "Python Operators\n",
    "    List of Operators\n",
    "    Arithmetic Operators\n",
    "    Comparison Operators\n",
    "    Assignment Operators\n",
    "    Bitwise Operators\n",
    "    Logical Operators\n",
    "    Membership Operators\n",
    "    Identity Operators\n",
    "    Operators Precedence\n",
    "Decision Making\n",
    "    Single Statement Suites\n",
    "    if statements\n",
    "    if else statements\n",
    "    if elif statements\n",
    "    Nested statements\n",
    "Python Loops\n",
    "    Various Types of Loops\n",
    "    while loop\n",
    "    for loop\n",
    "    nested loop\n",
    "    Loop Control Statements\n",
    "    break statement\n",
    "    continue statement\n",
    "    pass statement\n",
    "    Iterator and Generator\n",
    "Python Functions\n",
    "    Defining a Function\n",
    "    Calling a Function\n",
    "    Pass by reference vs value\n",
    "    Function Arguments\n",
    "    Required Arguments\n",
    "    Keyword Arguments\n",
    "    Default Arguments\n",
    "    Variable-length arguments\n",
    "    The anonymous Functions\n",
    "    The return Statement\n",
    "    Scope of Variables\n",
    "    Global vs Local Variables\n",
    "Working with PIP\n",
    "    Download PIP\n",
    "    Configure Environment Variables\n",
    "    Search Modules using PIP\n",
    "    Download & Install Modules using PIP\n",
    "    Various examples of PIP\n",
    "    Downloading, Installing of Various modules\n",
    "Object-Oriented Programming\n",
    "    The class statement\n",
    "    Creating a Class\n",
    "    Methods\n",
    "    The self\n",
    "    “self” the self reference\n",
    "    Object Methods\n",
    "    Using Object Methods\n",
    "    The __init__ method (The default constructor)\n",
    "    Using the __init__ method Private(__var) & Semi-private variables(_var)\n",
    "    Class and Object Variables\n",
    "    Using Class and Object Variables\n",
    "Inheritance\n",
    "    Using Inheritance\n",
    "    Multiple-inheritance\n",
    "    Operator Overloading\n",
    "    operator — Standard operators as functions\n",
    "collections.abc — Abstract Base Classes for Containers\n",
    "    Errors and Exceptions\n",
    "    User-defined Exceptions\n",
    "    Defining Clean-up Actions\n",
    "    Predefined Clean-up Actions\n",
    "Functional Programming\n",
    "    itertools — Functions creating iterators for efficient looping\n",
    "    functools — Higher-order functions and operations on callable\n",
    "objects\n",
    "    operator — Standard operators as functions\n",
    "    Decorators\n",
    "    List Comprehensions - Nested List Comprehensions\n",
    "    Looping Techniques\n",
    "    More on Conditions\n",
    "    Comparing Sequences and Other Types\n",
    "    Iterators\n",
    "    Generators\n",
    "The import statement\n",
    "    The from import statement\n",
    "    The from import * statement\n",
    "    Executing modules as scripts\n",
    "    Locating Modules\n",
    "Reading and Writing Files\n",
    "    The write() method\n",
    "    The read() method\n",
    "    File Positions\n",
    "    Renaming and Deleting Files\n",
    "    The rename() Method & remove() method\n",
    "    Directories in Python\n",
    "    The mkdir() method\n",
    "    The chdir() method\n",
    "    The getcwd() method\n",
    "    The rmdir() method\n",
    "    File & Directory Related Methods\n",
    "Error & Exceptions Handling in Python\n",
    "    Assertions in Python\n",
    "    The assert statement\n",
    "    What is an exception?\n",
    "    The except clause with no exceptions\n",
    "    The except clause with multiple exceptions\n",
    "    The try-finally clause\n",
    "    Argument of an exception\n",
    "    Raising an exception\n",
    "    User-defined exceptions\n",
    "############################################################\n"
   ]
  },
  {
   "cell_type": "code",
   "execution_count": null,
   "id": "8f20b8fa",
   "metadata": {},
   "outputs": [],
   "source": [
    "1. Features of python\n",
    "    1. User friendly\n",
    "    2. Case sensitive\n",
    "    3. Free\n",
    "    3. Vast support of library\n",
    "    4. Dynamically typed language\n",
    "    5. Oject Oriented Programming"
   ]
  },
  {
   "cell_type": "code",
   "execution_count": null,
   "id": "af8490f4",
   "metadata": {},
   "outputs": [],
   "source": [
    "Invented by 'Guido van Rossum' in 1991.\n"
   ]
  },
  {
   "cell_type": "code",
   "execution_count": null,
   "id": "6b07e4d8",
   "metadata": {},
   "outputs": [],
   "source": [
    "Python versions\n",
    "    - Python 2.x\n",
    "    - Python 3.x\n",
    "    \n",
    "manoj@l480:~$ python3 --version\n",
    "Python 3.10.12\n",
    "manoj@l480:~$ python3 -V\n",
    "Python 3.10.12"
   ]
  },
  {
   "cell_type": "code",
   "execution_count": null,
   "id": "773c8d26",
   "metadata": {},
   "outputs": [],
   "source": [
    "Python file is with .py extention.\n",
    "    eg. first.py\n",
    "Execute python prog\n",
    "    python first.py"
   ]
  },
  {
   "cell_type": "markdown",
   "id": "0d91be32",
   "metadata": {},
   "source": [
    "# 1. print"
   ]
  },
  {
   "cell_type": "code",
   "execution_count": null,
   "id": "84924c2c",
   "metadata": {},
   "outputs": [],
   "source": [
    "Display message-\n",
    "    print('This is my first program')"
   ]
  },
  {
   "cell_type": "code",
   "execution_count": 1,
   "id": "5f6223bd",
   "metadata": {},
   "outputs": [
    {
     "name": "stdout",
     "output_type": "stream",
     "text": [
      "My First Python Prog\n",
      "This is my second line\n",
      "My third line\n"
     ]
    }
   ],
   "source": [
    "print('My First Python Prog')\n",
    "print('This is my second line')\n",
    "print('My third line')"
   ]
  },
  {
   "cell_type": "code",
   "execution_count": 3,
   "id": "0d08ed43",
   "metadata": {},
   "outputs": [
    {
     "name": "stdout",
     "output_type": "stream",
     "text": [
      "888\n"
     ]
    }
   ],
   "source": [
    "print(888)"
   ]
  },
  {
   "cell_type": "code",
   "execution_count": 4,
   "id": "b40ec924",
   "metadata": {},
   "outputs": [
    {
     "name": "stdout",
     "output_type": "stream",
     "text": [
      "123 654\n"
     ]
    }
   ],
   "source": [
    "print(123,654)"
   ]
  },
  {
   "cell_type": "code",
   "execution_count": 2,
   "id": "e1784aa0",
   "metadata": {},
   "outputs": [
    {
     "name": "stdout",
     "output_type": "stream",
     "text": [
      "aaa bbb\n"
     ]
    }
   ],
   "source": [
    "print('aaa', 'bbb')"
   ]
  },
  {
   "cell_type": "code",
   "execution_count": 5,
   "id": "7c76b1c3",
   "metadata": {},
   "outputs": [
    {
     "name": "stdout",
     "output_type": "stream",
     "text": [
      "Abc 89 XYZ\n"
     ]
    }
   ],
   "source": [
    "print('Abc', 89, 'XYZ')"
   ]
  },
  {
   "cell_type": "code",
   "execution_count": 6,
   "id": "828564a0",
   "metadata": {},
   "outputs": [
    {
     "name": "stdout",
     "output_type": "stream",
     "text": [
      "CADC Silchar\n"
     ]
    }
   ],
   "source": [
    "print('CADC', 'Silchar')"
   ]
  },
  {
   "cell_type": "code",
   "execution_count": 7,
   "id": "68dca8d6",
   "metadata": {},
   "outputs": [
    {
     "name": "stdout",
     "output_type": "stream",
     "text": [
      "CADCSilchar\n"
     ]
    }
   ],
   "source": [
    "print('CADC', 'Silchar', sep = '')"
   ]
  },
  {
   "cell_type": "code",
   "execution_count": 8,
   "id": "05a6d076",
   "metadata": {},
   "outputs": [
    {
     "name": "stdout",
     "output_type": "stream",
     "text": [
      "CADC-Silchar\n"
     ]
    }
   ],
   "source": [
    "print('CADC', 'Silchar', sep = '-')"
   ]
  },
  {
   "cell_type": "code",
   "execution_count": 9,
   "id": "55606b64",
   "metadata": {},
   "outputs": [
    {
     "name": "stdout",
     "output_type": "stream",
     "text": [
      "CADC Silchar\n"
     ]
    }
   ],
   "source": [
    "print('CADC', 'Silchar', sep = ' ')"
   ]
  },
  {
   "cell_type": "code",
   "execution_count": 10,
   "id": "f886fe96",
   "metadata": {},
   "outputs": [
    {
     "name": "stdout",
     "output_type": "stream",
     "text": [
      "CADCANYTHINGSilchar\n"
     ]
    }
   ],
   "source": [
    "print('CADC', 'Silchar', sep = 'ANYTHING')"
   ]
  },
  {
   "cell_type": "code",
   "execution_count": 11,
   "id": "048b1e21",
   "metadata": {},
   "outputs": [
    {
     "name": "stdout",
     "output_type": "stream",
     "text": [
      "aaaaaaANYTHINGbbbbbb\n"
     ]
    }
   ],
   "source": [
    "print('aaaaaa', 'bbbbbb', sep = 'ANYTHING')"
   ]
  },
  {
   "cell_type": "code",
   "execution_count": 13,
   "id": "67882106",
   "metadata": {},
   "outputs": [
    {
     "name": "stdout",
     "output_type": "stream",
     "text": [
      "aaaaaa ANYTHING bbbbbb\n"
     ]
    }
   ],
   "source": [
    "print('aaaaaa ', ' bbbbbb', sep = 'ANYTHING')"
   ]
  },
  {
   "cell_type": "code",
   "execution_count": 14,
   "id": "1e3a546e",
   "metadata": {},
   "outputs": [
    {
     "name": "stdout",
     "output_type": "stream",
     "text": [
      "abc\n",
      "xyz\n"
     ]
    }
   ],
   "source": [
    "print('abc')\n",
    "print('xyz')"
   ]
  },
  {
   "cell_type": "code",
   "execution_count": 16,
   "id": "2e8e6ad8",
   "metadata": {},
   "outputs": [
    {
     "name": "stdout",
     "output_type": "stream",
     "text": [
      "CADC Silchar\n"
     ]
    }
   ],
   "source": [
    "print('CADC', 'Silchar')"
   ]
  },
  {
   "cell_type": "code",
   "execution_count": 19,
   "id": "5724898f",
   "metadata": {},
   "outputs": [
    {
     "name": "stdout",
     "output_type": "stream",
     "text": [
      "abcxyz\n"
     ]
    }
   ],
   "source": [
    "print('abc', end = '')\n",
    "print('xyz')"
   ]
  },
  {
   "cell_type": "code",
   "execution_count": 20,
   "id": "fa440c8c",
   "metadata": {},
   "outputs": [
    {
     "name": "stdout",
     "output_type": "stream",
     "text": [
      "abc xyz\n"
     ]
    }
   ],
   "source": [
    "print('abc', end = ' ')\n",
    "print('xyz')"
   ]
  },
  {
   "cell_type": "markdown",
   "id": "8e57a1c6",
   "metadata": {},
   "source": [
    "sep specifies things to be added between agrugments of THAT\n",
    "print() function"
   ]
  },
  {
   "cell_type": "markdown",
   "id": "cbdfe7f5",
   "metadata": {},
   "source": [
    "end specifies things to be added at the end of THAT print() function"
   ]
  },
  {
   "cell_type": "code",
   "execution_count": 22,
   "id": "9a96e044",
   "metadata": {},
   "outputs": [
    {
     "name": "stdout",
     "output_type": "stream",
     "text": [
      "abc***xyz\n"
     ]
    }
   ],
   "source": [
    "print('abc', end = '***')\n",
    "print('xyz')"
   ]
  },
  {
   "cell_type": "code",
   "execution_count": 23,
   "id": "e84a2315",
   "metadata": {},
   "outputs": [
    {
     "name": "stdout",
     "output_type": "stream",
     "text": [
      "abc xyz pqr\n"
     ]
    }
   ],
   "source": [
    "print('abc', 'xyz', 'pqr')"
   ]
  },
  {
   "cell_type": "code",
   "execution_count": 24,
   "id": "26e73665",
   "metadata": {},
   "outputs": [
    {
     "name": "stdout",
     "output_type": "stream",
     "text": [
      "abc-xyz-pqr\n"
     ]
    }
   ],
   "source": [
    "print('abc', 'xyz', 'pqr', sep='-')"
   ]
  },
  {
   "cell_type": "code",
   "execution_count": 25,
   "id": "4d4369ed",
   "metadata": {},
   "outputs": [
    {
     "name": "stdout",
     "output_type": "stream",
     "text": [
      "abc - xyz - pqr\n"
     ]
    }
   ],
   "source": [
    "print('abc', 'xyz', 'pqr', sep=' - ')"
   ]
  },
  {
   "cell_type": "code",
   "execution_count": 28,
   "id": "0da426d2",
   "metadata": {},
   "outputs": [
    {
     "name": "stdout",
     "output_type": "stream",
     "text": [
      "abc - xyz - pqrSTOPNew statement\n"
     ]
    }
   ],
   "source": [
    "print('abc', 'xyz', 'pqr', sep=' - ', end='STOP')\n",
    "print('New statement')"
   ]
  },
  {
   "cell_type": "code",
   "execution_count": 29,
   "id": "e80322db",
   "metadata": {},
   "outputs": [
    {
     "name": "stdout",
     "output_type": "stream",
     "text": [
      "abc - xyz - pqrSTOPNew statement\n"
     ]
    }
   ],
   "source": [
    "print('abc', 'xyz', 'pqr', end='STOP', sep=' - ')\n",
    "print('New statement')"
   ]
  },
  {
   "cell_type": "markdown",
   "id": "cd6a364e",
   "metadata": {},
   "source": [
    "# 2. Variables"
   ]
  },
  {
   "cell_type": "markdown",
   "id": "1e8e0587",
   "metadata": {},
   "source": [
    "Rules to declare variable\n",
    "    1. case sensitive\n",
    "    2. variable should not start with number"
   ]
  },
  {
   "cell_type": "code",
   "execution_count": 31,
   "id": "424eec88",
   "metadata": {},
   "outputs": [
    {
     "ename": "SyntaxError",
     "evalue": "invalid decimal literal (66753265.py, line 1)",
     "output_type": "error",
     "traceback": [
      "\u001b[0;36m  File \u001b[0;32m\"/tmp/ipykernel_38746/66753265.py\"\u001b[0;36m, line \u001b[0;32m1\u001b[0m\n\u001b[0;31m    9var = 'ABC'\u001b[0m\n\u001b[0m    ^\u001b[0m\n\u001b[0;31mSyntaxError\u001b[0m\u001b[0;31m:\u001b[0m invalid decimal literal\n"
     ]
    }
   ],
   "source": [
    "9var = 'ABC'"
   ]
  },
  {
   "cell_type": "raw",
   "id": "abeaa0f1",
   "metadata": {},
   "source": [
    "Rules to declare variable\n",
    "    1. case sensitive\n",
    "    2. variable should not start with number\n",
    "    3. variable should not contain special character except (_)"
   ]
  },
  {
   "cell_type": "code",
   "execution_count": 32,
   "id": "b57b1a4c",
   "metadata": {},
   "outputs": [],
   "source": [
    "annual_salary = 11223344"
   ]
  },
  {
   "cell_type": "code",
   "execution_count": 33,
   "id": "47a9c497",
   "metadata": {},
   "outputs": [
    {
     "ename": "SyntaxError",
     "evalue": "cannot assign to expression here. Maybe you meant '==' instead of '='? (1596806327.py, line 1)",
     "output_type": "error",
     "traceback": [
      "\u001b[0;36m  File \u001b[0;32m\"/tmp/ipykernel_38746/1596806327.py\"\u001b[0;36m, line \u001b[0;32m1\u001b[0m\n\u001b[0;31m    annual-salary = 11223344\u001b[0m\n\u001b[0m    ^\u001b[0m\n\u001b[0;31mSyntaxError\u001b[0m\u001b[0;31m:\u001b[0m cannot assign to expression here. Maybe you meant '==' instead of '='?\n"
     ]
    }
   ],
   "source": [
    "annual-salary = 11223344"
   ]
  },
  {
   "cell_type": "raw",
   "id": "5dcd339d",
   "metadata": {},
   "source": [
    "Rules to declare variable\n",
    "    1. case sensitive\n",
    "    2. variable should not start with number\n",
    "    3. variable should not contain special character except (_)\n",
    "    4. variable should not contain any space"
   ]
  },
  {
   "cell_type": "code",
   "execution_count": 35,
   "id": "bf3932f8",
   "metadata": {},
   "outputs": [
    {
     "ename": "SyntaxError",
     "evalue": "invalid syntax (963696831.py, line 1)",
     "output_type": "error",
     "traceback": [
      "\u001b[0;36m  File \u001b[0;32m\"/tmp/ipykernel_38746/963696831.py\"\u001b[0;36m, line \u001b[0;32m1\u001b[0m\n\u001b[0;31m    annual salary = 11223344\u001b[0m\n\u001b[0m           ^\u001b[0m\n\u001b[0;31mSyntaxError\u001b[0m\u001b[0;31m:\u001b[0m invalid syntax\n"
     ]
    }
   ],
   "source": [
    "annual salary = 11223344"
   ]
  },
  {
   "cell_type": "code",
   "execution_count": 36,
   "id": "2ef8e7e8",
   "metadata": {},
   "outputs": [
    {
     "ename": "SyntaxError",
     "evalue": "invalid syntax (1925129841.py, line 2)",
     "output_type": "error",
     "traceback": [
      "\u001b[0;36m  File \u001b[0;32m\"/tmp/ipykernel_38746/1925129841.py\"\u001b[0;36m, line \u001b[0;32m2\u001b[0m\n\u001b[0;31m    mar ks=34\u001b[0m\n\u001b[0m        ^\u001b[0m\n\u001b[0;31mSyntaxError\u001b[0m\u001b[0;31m:\u001b[0m invalid syntax\n"
     ]
    }
   ],
   "source": [
    "marks=34\n",
    "mar ks=34"
   ]
  },
  {
   "cell_type": "raw",
   "id": "240d5226",
   "metadata": {},
   "source": [
    "Rules to declare variable\n",
    "    1. case sensitive\n",
    "    2. variable should not start with number\n",
    "    3. variable should not contain special character except (_)\n",
    "    4. variable should not contain any space\n",
    "    5. no need to mention datatype"
   ]
  },
  {
   "cell_type": "code",
   "execution_count": 38,
   "id": "9e3d263a",
   "metadata": {},
   "outputs": [
    {
     "name": "stdout",
     "output_type": "stream",
     "text": [
      "Abc\n"
     ]
    }
   ],
   "source": [
    "var = 'Abc'\n",
    "print(var)"
   ]
  },
  {
   "cell_type": "code",
   "execution_count": 39,
   "id": "f3229d19",
   "metadata": {},
   "outputs": [
    {
     "name": "stdout",
     "output_type": "stream",
     "text": [
      "32\n"
     ]
    }
   ],
   "source": [
    "var  = 32\n",
    "print(var)"
   ]
  },
  {
   "cell_type": "code",
   "execution_count": 40,
   "id": "8e95627a",
   "metadata": {},
   "outputs": [
    {
     "name": "stdout",
     "output_type": "stream",
     "text": [
      "3.14\n"
     ]
    }
   ],
   "source": [
    "var2 = 3.14\n",
    "print(var2)"
   ]
  },
  {
   "cell_type": "markdown",
   "id": "15ee65b2",
   "metadata": {},
   "source": [
    "# type()\n",
    "    -it displays type of variable"
   ]
  },
  {
   "cell_type": "code",
   "execution_count": 46,
   "id": "4a89a0e2",
   "metadata": {},
   "outputs": [
    {
     "name": "stdout",
     "output_type": "stream",
     "text": [
      "45\n",
      "<class 'int'>\n"
     ]
    }
   ],
   "source": [
    "marks = 45\n",
    "print(marks)\n",
    "print(type(marks))"
   ]
  },
  {
   "cell_type": "code",
   "execution_count": 47,
   "id": "4b2fc812",
   "metadata": {},
   "outputs": [
    {
     "name": "stdout",
     "output_type": "stream",
     "text": [
      "88.46\n",
      "<class 'float'>\n"
     ]
    }
   ],
   "source": [
    "percentage = 88.46\n",
    "print(percentage)\n",
    "print(type(percentage))"
   ]
  },
  {
   "cell_type": "code",
   "execution_count": null,
   "id": "2931c270",
   "metadata": {},
   "outputs": [],
   "source": [
    "name = 'CDAC Silchar'\n",
    "print(name)\n",
    "print(type(name))"
   ]
  },
  {
   "cell_type": "code",
   "execution_count": 48,
   "id": "0ea2ba02",
   "metadata": {},
   "outputs": [
    {
     "name": "stdout",
     "output_type": "stream",
     "text": [
      "[11, 22, 33, 44, 55, 66]\n",
      "<class 'list'>\n"
     ]
    }
   ],
   "source": [
    "list1 = [11,22,33,44,55,66]\n",
    "print(list1)\n",
    "print(type(list1))"
   ]
  },
  {
   "cell_type": "markdown",
   "id": "cff968c1",
   "metadata": {},
   "source": [
    "# id()"
   ]
  },
  {
   "cell_type": "code",
   "execution_count": 49,
   "id": "54d23ba3",
   "metadata": {},
   "outputs": [
    {
     "name": "stdout",
     "output_type": "stream",
     "text": [
      "45\n",
      "140220275099248\n"
     ]
    }
   ],
   "source": [
    "marks = 45\n",
    "print(marks)\n",
    "print(id(marks))"
   ]
  },
  {
   "cell_type": "code",
   "execution_count": 50,
   "id": "51bf1218",
   "metadata": {},
   "outputs": [
    {
     "name": "stdout",
     "output_type": "stream",
     "text": [
      "88.46\n",
      "140220234952912\n"
     ]
    }
   ],
   "source": [
    "percentage = 88.46\n",
    "print(percentage)\n",
    "print(id(percentage))"
   ]
  },
  {
   "cell_type": "code",
   "execution_count": 53,
   "id": "a1dd181f",
   "metadata": {},
   "outputs": [
    {
     "name": "stdout",
     "output_type": "stream",
     "text": [
      "cdac silchar\n",
      "cdac silchar\n"
     ]
    }
   ],
   "source": [
    "x = input()\n",
    "print(x)"
   ]
  },
  {
   "cell_type": "code",
   "execution_count": 54,
   "id": "e35ade5c",
   "metadata": {},
   "outputs": [
    {
     "name": "stdout",
     "output_type": "stream",
     "text": [
      "3.14\n",
      "3.14\n"
     ]
    }
   ],
   "source": [
    "x = input()\n",
    "print(x)"
   ]
  },
  {
   "cell_type": "code",
   "execution_count": 55,
   "id": "4803376b",
   "metadata": {},
   "outputs": [
    {
     "name": "stdout",
     "output_type": "stream",
     "text": [
      "Enter input34\n",
      "34\n"
     ]
    }
   ],
   "source": [
    "x = input('Enter input')\n",
    "print(x)"
   ]
  },
  {
   "cell_type": "code",
   "execution_count": 56,
   "id": "58415134",
   "metadata": {},
   "outputs": [
    {
     "name": "stdout",
     "output_type": "stream",
     "text": [
      "Enter input: 123\n",
      "Inpus is =  123\n"
     ]
    }
   ],
   "source": [
    "x = input('Enter input: ')\n",
    "print('Inpus is = ', x)"
   ]
  },
  {
   "cell_type": "code",
   "execution_count": 57,
   "id": "fca2cbeb",
   "metadata": {},
   "outputs": [
    {
     "name": "stdout",
     "output_type": "stream",
     "text": [
      "Enter input: CDAC Silchar\n",
      "Inpus is =  CDAC Silchar\n"
     ]
    }
   ],
   "source": [
    "x = input('Enter input: ')\n",
    "print('Inpus is = ', x)"
   ]
  },
  {
   "cell_type": "code",
   "execution_count": 59,
   "id": "9a9c02a8",
   "metadata": {},
   "outputs": [
    {
     "name": "stdout",
     "output_type": "stream",
     "text": [
      "Enter input: ABC\n",
      "Inpus is =  ABC\n",
      "Datatype is =  <class 'str'>\n"
     ]
    }
   ],
   "source": [
    "x = input('Enter input: ')\n",
    "print('Inpus is = ', x)\n",
    "print('Datatype is = ', type(x))"
   ]
  },
  {
   "cell_type": "code",
   "execution_count": 60,
   "id": "807ebe65",
   "metadata": {},
   "outputs": [
    {
     "name": "stdout",
     "output_type": "stream",
     "text": [
      "Enter input: 123\n",
      "Inpus is =  123\n",
      "Datatype is =  <class 'str'>\n"
     ]
    }
   ],
   "source": [
    "x = input('Enter input: ')\n",
    "print('Inpus is = ', x)\n",
    "print('Datatype is = ', type(x))"
   ]
  },
  {
   "cell_type": "code",
   "execution_count": 61,
   "id": "5c232b8f",
   "metadata": {},
   "outputs": [
    {
     "name": "stdout",
     "output_type": "stream",
     "text": [
      "Enter input: 67.90\n",
      "Inpus is =  67.90\n",
      "Datatype is =  <class 'str'>\n"
     ]
    }
   ],
   "source": [
    "x = input('Enter input: ')\n",
    "print('Inpus is = ', x)\n",
    "print('Datatype is = ', type(x))"
   ]
  },
  {
   "cell_type": "raw",
   "id": "dc2f7bd0",
   "metadata": {},
   "source": [
    "Note -  All the user input in input() function of python is always STRING"
   ]
  },
  {
   "cell_type": "markdown",
   "id": "888a2a2b",
   "metadata": {},
   "source": [
    "# type casting"
   ]
  },
  {
   "cell_type": "code",
   "execution_count": 62,
   "id": "6c9fc634",
   "metadata": {},
   "outputs": [
    {
     "name": "stdout",
     "output_type": "stream",
     "text": [
      "Enter number12\n",
      "Inpus is =  12\n",
      "Datatype is =  <class 'int'>\n"
     ]
    }
   ],
   "source": [
    "num = input('Enter number')\n",
    "num2 = int(num)\n",
    "print('Inpus is = ', num2)\n",
    "print('Datatype is = ', type(num2))"
   ]
  },
  {
   "cell_type": "code",
   "execution_count": 63,
   "id": "88ed4546",
   "metadata": {},
   "outputs": [
    {
     "name": "stdout",
     "output_type": "stream",
     "text": [
      "Enter number3.33\n",
      "Inpus is =  3.33\n",
      "Datatype is =  <class 'float'>\n"
     ]
    }
   ],
   "source": [
    "num = input('Enter number')\n",
    "num2 = float(num)\n",
    "print('Inpus is = ', num2)\n",
    "print('Datatype is = ', type(num2))"
   ]
  },
  {
   "cell_type": "code",
   "execution_count": 64,
   "id": "f6ae3763",
   "metadata": {},
   "outputs": [
    {
     "name": "stdout",
     "output_type": "stream",
     "text": [
      "Enter numbercdac silchar\n",
      "Inpus is =  cdac silchar\n",
      "Datatype is =  <class 'str'>\n"
     ]
    }
   ],
   "source": [
    "num = input('Enter number')\n",
    "num2 = str(num)\n",
    "print('Inpus is = ', num2)\n",
    "print('Datatype is = ', type(num2))"
   ]
  },
  {
   "cell_type": "markdown",
   "id": "7c80dd9e",
   "metadata": {},
   "source": [
    "# "
   ]
  },
  {
   "cell_type": "code",
   "execution_count": null,
   "id": "59b8176f",
   "metadata": {},
   "outputs": [],
   "source": []
  },
  {
   "cell_type": "code",
   "execution_count": null,
   "id": "16fc522f",
   "metadata": {},
   "outputs": [],
   "source": []
  },
  {
   "cell_type": "code",
   "execution_count": null,
   "id": "16870bf8",
   "metadata": {},
   "outputs": [],
   "source": []
  },
  {
   "cell_type": "code",
   "execution_count": null,
   "id": "d99cdf4f",
   "metadata": {},
   "outputs": [],
   "source": []
  },
  {
   "cell_type": "code",
   "execution_count": null,
   "id": "0bb40e58",
   "metadata": {},
   "outputs": [],
   "source": []
  },
  {
   "cell_type": "code",
   "execution_count": null,
   "id": "1efa1a47",
   "metadata": {},
   "outputs": [],
   "source": []
  },
  {
   "cell_type": "code",
   "execution_count": null,
   "id": "b6c245f2",
   "metadata": {},
   "outputs": [],
   "source": []
  },
  {
   "cell_type": "code",
   "execution_count": null,
   "id": "832d02c6",
   "metadata": {},
   "outputs": [],
   "source": []
  },
  {
   "cell_type": "code",
   "execution_count": null,
   "id": "caa6f385",
   "metadata": {},
   "outputs": [],
   "source": []
  },
  {
   "cell_type": "code",
   "execution_count": null,
   "id": "d8140982",
   "metadata": {},
   "outputs": [],
   "source": []
  },
  {
   "cell_type": "code",
   "execution_count": null,
   "id": "4e531409",
   "metadata": {},
   "outputs": [],
   "source": []
  },
  {
   "cell_type": "code",
   "execution_count": null,
   "id": "bf46975a",
   "metadata": {},
   "outputs": [],
   "source": []
  },
  {
   "cell_type": "code",
   "execution_count": null,
   "id": "19c4f8a0",
   "metadata": {},
   "outputs": [],
   "source": []
  },
  {
   "cell_type": "code",
   "execution_count": null,
   "id": "f57ec152",
   "metadata": {},
   "outputs": [],
   "source": []
  }
 ],
 "metadata": {
  "kernelspec": {
   "display_name": "Python 3 (ipykernel)",
   "language": "python",
   "name": "python3"
  },
  "language_info": {
   "codemirror_mode": {
    "name": "ipython",
    "version": 3
   },
   "file_extension": ".py",
   "mimetype": "text/x-python",
   "name": "python",
   "nbconvert_exporter": "python",
   "pygments_lexer": "ipython3",
   "version": "3.10.12"
  }
 },
 "nbformat": 4,
 "nbformat_minor": 5
}
