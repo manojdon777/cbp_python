{
 "cells": [
  {
   "cell_type": "code",
   "execution_count": 7,
   "id": "410d1a42",
   "metadata": {},
   "outputs": [
    {
     "name": "stdout",
     "output_type": "stream",
     "text": [
      "In Jupyter notebook\n"
     ]
    }
   ],
   "source": [
    "print('In Jupyter notebook')"
   ]
  },
  {
   "cell_type": "code",
   "execution_count": 2,
   "id": "6c1a7f4b",
   "metadata": {},
   "outputs": [
    {
     "name": "stdout",
     "output_type": "stream",
     "text": [
      "In Second cell\n"
     ]
    }
   ],
   "source": [
    "print('In Second cell')"
   ]
  },
  {
   "cell_type": "code",
   "execution_count": 3,
   "id": "2dce1e6a",
   "metadata": {},
   "outputs": [
    {
     "name": "stdout",
     "output_type": "stream",
     "text": [
      "Third cell\n"
     ]
    }
   ],
   "source": [
    "print('Third cell')"
   ]
  },
  {
   "cell_type": "markdown",
   "id": "bc8187ca",
   "metadata": {},
   "source": [
    "# Heading"
   ]
  },
  {
   "cell_type": "markdown",
   "id": "4f4d2bea",
   "metadata": {},
   "source": [
    "## Subheading"
   ]
  },
  {
   "cell_type": "markdown",
   "id": "9ee30620",
   "metadata": {},
   "source": [
    "### Subsubheading"
   ]
  },
  {
   "cell_type": "raw",
   "id": "9b1c0d27",
   "metadata": {},
   "source": [
    "Some normal text"
   ]
  },
  {
   "cell_type": "code",
   "execution_count": null,
   "id": "7e10eaef",
   "metadata": {},
   "outputs": [],
   "source": [
    "this cell containtains for loop demo"
   ]
  },
  {
   "cell_type": "code",
   "execution_count": 13,
   "id": "2028ee5c",
   "metadata": {},
   "outputs": [
    {
     "name": "stdout",
     "output_type": "stream",
     "text": [
      "1\n",
      "2\n",
      "3\n",
      "4\n"
     ]
    }
   ],
   "source": [
    "for i in [1,2,3,4]:\n",
    "    print(i)"
   ]
  },
  {
   "cell_type": "markdown",
   "id": "eb15613e",
   "metadata": {},
   "source": []
  },
  {
   "cell_type": "code",
   "execution_count": null,
   "id": "c198ff27",
   "metadata": {},
   "outputs": [],
   "source": []
  }
 ],
 "metadata": {
  "kernelspec": {
   "display_name": "Python 3 (ipykernel)",
   "language": "python",
   "name": "python3"
  },
  "language_info": {
   "codemirror_mode": {
    "name": "ipython",
    "version": 3
   },
   "file_extension": ".py",
   "mimetype": "text/x-python",
   "name": "python",
   "nbconvert_exporter": "python",
   "pygments_lexer": "ipython3",
   "version": "3.10.12"
  }
 },
 "nbformat": 4,
 "nbformat_minor": 5
}
