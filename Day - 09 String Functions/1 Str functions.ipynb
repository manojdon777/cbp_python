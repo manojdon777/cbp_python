{
 "cells": [
  {
   "cell_type": "markdown",
   "id": "dc8e244a",
   "metadata": {},
   "source": [
    "## string functions"
   ]
  },
  {
   "cell_type": "markdown",
   "id": "2d9d62e6",
   "metadata": {},
   "source": [
    "### 5. lstrip()"
   ]
  },
  {
   "cell_type": "code",
   "execution_count": 3,
   "id": "4e9d02f3",
   "metadata": {},
   "outputs": [
    {
     "name": "stdout",
     "output_type": "stream",
     "text": [
      "       Param Supercomputer\n"
     ]
    }
   ],
   "source": [
    "string = '       Param Supercomputer'\n",
    "print(string)"
   ]
  },
  {
   "cell_type": "code",
   "execution_count": 4,
   "id": "05998a8c",
   "metadata": {},
   "outputs": [
    {
     "data": {
      "text/plain": [
       "'Param Supercomputer'"
      ]
     },
     "execution_count": 4,
     "metadata": {},
     "output_type": "execute_result"
    }
   ],
   "source": [
    "string1 = string.lstrip()\n",
    "string1"
   ]
  },
  {
   "cell_type": "code",
   "execution_count": 6,
   "id": "b4431d92",
   "metadata": {},
   "outputs": [
    {
     "data": {
      "text/plain": [
       "'Param Supercomputer          '"
      ]
     },
     "execution_count": 6,
     "metadata": {},
     "output_type": "execute_result"
    }
   ],
   "source": [
    "string = '       Param Supercomputer          '\n",
    "string2 = string.lstrip()\n",
    "string2"
   ]
  },
  {
   "cell_type": "markdown",
   "id": "6fa838f0",
   "metadata": {},
   "source": [
    "### 6. rstrip()"
   ]
  },
  {
   "cell_type": "code",
   "execution_count": 7,
   "id": "9ba603c5",
   "metadata": {},
   "outputs": [
    {
     "data": {
      "text/plain": [
       "'       Param Supercomputer'"
      ]
     },
     "execution_count": 7,
     "metadata": {},
     "output_type": "execute_result"
    }
   ],
   "source": [
    "string = '       Param Supercomputer          '\n",
    "string.rstrip()"
   ]
  },
  {
   "cell_type": "markdown",
   "id": "52784539",
   "metadata": {},
   "source": [
    "### 7. strip()"
   ]
  },
  {
   "cell_type": "code",
   "execution_count": 9,
   "id": "dca5ac93",
   "metadata": {},
   "outputs": [
    {
     "data": {
      "text/plain": [
       "'Param Supercomputer'"
      ]
     },
     "execution_count": 9,
     "metadata": {},
     "output_type": "execute_result"
    }
   ],
   "source": [
    "string = '       Param Supercomputer          '\n",
    "string.strip()"
   ]
  },
  {
   "cell_type": "code",
   "execution_count": null,
   "id": "d922f64e",
   "metadata": {},
   "outputs": [],
   "source": []
  },
  {
   "cell_type": "markdown",
   "id": "d0419a90",
   "metadata": {},
   "source": [
    "### 8. swapcase()"
   ]
  },
  {
   "cell_type": "code",
   "execution_count": 10,
   "id": "1d402905",
   "metadata": {},
   "outputs": [
    {
     "data": {
      "text/plain": [
       "'tHIS iS mY cLASS'"
      ]
     },
     "execution_count": 10,
     "metadata": {},
     "output_type": "execute_result"
    }
   ],
   "source": [
    "'This Is My Class'.swapcase()"
   ]
  },
  {
   "cell_type": "code",
   "execution_count": 11,
   "id": "e43677c2",
   "metadata": {},
   "outputs": [
    {
     "data": {
      "text/plain": [
       "'This Is My Class'"
      ]
     },
     "execution_count": 11,
     "metadata": {},
     "output_type": "execute_result"
    }
   ],
   "source": [
    "'this is my class'.title()"
   ]
  },
  {
   "cell_type": "code",
   "execution_count": 12,
   "id": "fd023987",
   "metadata": {},
   "outputs": [
    {
     "data": {
      "text/plain": [
       "'tHIS iS mY cLASS'"
      ]
     },
     "execution_count": 12,
     "metadata": {},
     "output_type": "execute_result"
    }
   ],
   "source": [
    "'this is my class'.title().swapcase()"
   ]
  },
  {
   "cell_type": "code",
   "execution_count": 14,
   "id": "17a95d36",
   "metadata": {},
   "outputs": [
    {
     "data": {
      "text/plain": [
       "'This Is My Class'"
      ]
     },
     "execution_count": 14,
     "metadata": {},
     "output_type": "execute_result"
    }
   ],
   "source": [
    "string = 'this is my class'\n",
    "string1 = string.title()\n",
    "string1"
   ]
  },
  {
   "cell_type": "code",
   "execution_count": 16,
   "id": "56684305",
   "metadata": {},
   "outputs": [
    {
     "data": {
      "text/plain": [
       "'tHIS iS mY cLASS'"
      ]
     },
     "execution_count": 16,
     "metadata": {},
     "output_type": "execute_result"
    }
   ],
   "source": [
    "string = 'this is my class'\n",
    "string1 = string.title()\n",
    "string2 = string1.swapcase()\n",
    "string2"
   ]
  },
  {
   "cell_type": "markdown",
   "id": "9b903e0b",
   "metadata": {},
   "source": [
    "### 9. replace()"
   ]
  },
  {
   "cell_type": "code",
   "execution_count": 17,
   "id": "7d29905e",
   "metadata": {},
   "outputs": [],
   "source": [
    "s = 'PARAM is a series of Indian supercomputers designed and assembled by the Centre for Development of Advanced Computing (C-DAC) in Pune.'"
   ]
  },
  {
   "cell_type": "code",
   "execution_count": 18,
   "id": "934bad5d",
   "metadata": {},
   "outputs": [
    {
     "data": {
      "text/plain": [
       "'HPC_Course is a series of Indian supercomputers designed and assembled by the Centre for Development of Advanced Computing (C-DAC) in Pune.'"
      ]
     },
     "execution_count": 18,
     "metadata": {},
     "output_type": "execute_result"
    }
   ],
   "source": [
    "s.replace('PARAM', 'HPC_Course')"
   ]
  },
  {
   "cell_type": "code",
   "execution_count": 19,
   "id": "650d7794",
   "metadata": {},
   "outputs": [
    {
     "data": {
      "text/plain": [
       "'PARAM is a series of Indian supercomputers designed and assembled by the Centre for Development of Advanced Computing (C-DAC) in Pune.'"
      ]
     },
     "execution_count": 19,
     "metadata": {},
     "output_type": "execute_result"
    }
   ],
   "source": [
    "s.replace('param', 'HPC_Course')"
   ]
  },
  {
   "cell_type": "code",
   "execution_count": null,
   "id": "51ff82a5",
   "metadata": {},
   "outputs": [],
   "source": []
  },
  {
   "cell_type": "markdown",
   "id": "060489d7",
   "metadata": {},
   "source": [
    "### 10. count()"
   ]
  },
  {
   "cell_type": "code",
   "execution_count": 22,
   "id": "0b7ff98c",
   "metadata": {},
   "outputs": [
    {
     "name": "stdout",
     "output_type": "stream",
     "text": [
      "C-DAC was created in November 1987, originally as the Centre for Development of Advanced Computing Technology (C-DACT). This was in response to issues purchasing supercomputers from foreign sources. The Indian Government decided to try and develop indigenous computing technology.\n"
     ]
    },
    {
     "data": {
      "text/plain": [
       "2"
      ]
     },
     "execution_count": 22,
     "metadata": {},
     "output_type": "execute_result"
    }
   ],
   "source": [
    "string = 'C-DAC was created in November 1987, originally as the Centre for Development of Advanced Computing Technology (C-DACT). This was in response to issues purchasing supercomputers from foreign sources. The Indian Government decided to try and develop indigenous computing technology.'\n",
    "print(string)\n",
    "string.count('is')"
   ]
  },
  {
   "cell_type": "code",
   "execution_count": 23,
   "id": "454c5e05",
   "metadata": {},
   "outputs": [
    {
     "data": {
      "text/plain": [
       "1"
      ]
     },
     "execution_count": 23,
     "metadata": {},
     "output_type": "execute_result"
    }
   ],
   "source": [
    "string.count('of')"
   ]
  },
  {
   "cell_type": "code",
   "execution_count": null,
   "id": "407a390a",
   "metadata": {},
   "outputs": [],
   "source": []
  },
  {
   "cell_type": "markdown",
   "id": "6946fea5",
   "metadata": {},
   "source": [
    "### 11. index()\n",
    " - first occurence of string"
   ]
  },
  {
   "cell_type": "code",
   "execution_count": 24,
   "id": "c8937ea4",
   "metadata": {},
   "outputs": [],
   "source": [
    "string = 'Param Supercomputer'"
   ]
  },
  {
   "cell_type": "code",
   "execution_count": 27,
   "id": "901c241b",
   "metadata": {},
   "outputs": [
    {
     "data": {
      "text/plain": [
       "6"
      ]
     },
     "execution_count": 27,
     "metadata": {},
     "output_type": "execute_result"
    }
   ],
   "source": [
    "string.index('S')"
   ]
  },
  {
   "cell_type": "code",
   "execution_count": 26,
   "id": "87a7269a",
   "metadata": {},
   "outputs": [
    {
     "data": {
      "text/plain": [
       "6"
      ]
     },
     "execution_count": 26,
     "metadata": {},
     "output_type": "execute_result"
    }
   ],
   "source": [
    "string.index('Super')"
   ]
  },
  {
   "cell_type": "code",
   "execution_count": 28,
   "id": "93dd2e89",
   "metadata": {},
   "outputs": [
    {
     "data": {
      "text/plain": [
       "5"
      ]
     },
     "execution_count": 28,
     "metadata": {},
     "output_type": "execute_result"
    }
   ],
   "source": [
    "string.index(' ')"
   ]
  },
  {
   "cell_type": "code",
   "execution_count": 29,
   "id": "8f10cda9",
   "metadata": {},
   "outputs": [
    {
     "ename": "ValueError",
     "evalue": "substring not found",
     "output_type": "error",
     "traceback": [
      "\u001b[0;31m---------------------------------------------------------------------------\u001b[0m",
      "\u001b[0;31mValueError\u001b[0m                                Traceback (most recent call last)",
      "\u001b[0;32m/tmp/ipykernel_60571/3761272987.py\u001b[0m in \u001b[0;36m<module>\u001b[0;34m\u001b[0m\n\u001b[0;32m----> 1\u001b[0;31m \u001b[0mstring\u001b[0m\u001b[0;34m.\u001b[0m\u001b[0mindex\u001b[0m\u001b[0;34m(\u001b[0m\u001b[0;34m'Z'\u001b[0m\u001b[0;34m)\u001b[0m\u001b[0;34m\u001b[0m\u001b[0;34m\u001b[0m\u001b[0m\n\u001b[0m",
      "\u001b[0;31mValueError\u001b[0m: substring not found"
     ]
    }
   ],
   "source": [
    "string.index('Z')"
   ]
  },
  {
   "cell_type": "code",
   "execution_count": null,
   "id": "540fdc59",
   "metadata": {},
   "outputs": [],
   "source": []
  },
  {
   "cell_type": "markdown",
   "id": "017cd051",
   "metadata": {},
   "source": [
    "### 12. find()"
   ]
  },
  {
   "cell_type": "code",
   "execution_count": 32,
   "id": "85618156",
   "metadata": {},
   "outputs": [
    {
     "data": {
      "text/plain": [
       "6"
      ]
     },
     "execution_count": 32,
     "metadata": {},
     "output_type": "execute_result"
    }
   ],
   "source": [
    "string.find('Super')"
   ]
  },
  {
   "cell_type": "code",
   "execution_count": 31,
   "id": "ae691a9c",
   "metadata": {},
   "outputs": [
    {
     "data": {
      "text/plain": [
       "-1"
      ]
     },
     "execution_count": 31,
     "metadata": {},
     "output_type": "execute_result"
    }
   ],
   "source": [
    "string.find('abc')"
   ]
  },
  {
   "cell_type": "code",
   "execution_count": null,
   "id": "7ac49bd8",
   "metadata": {},
   "outputs": [],
   "source": []
  },
  {
   "cell_type": "markdown",
   "id": "34c5e390",
   "metadata": {},
   "source": [
    "### 13. split()\n",
    "- it returns list"
   ]
  },
  {
   "cell_type": "code",
   "execution_count": 39,
   "id": "074e5486",
   "metadata": {},
   "outputs": [],
   "source": [
    "string = 'PARAM is a series of Indian supercomputers designed and assembled by the Centre for Development of Advanced Computing (C-DAC) in Pune.'"
   ]
  },
  {
   "cell_type": "code",
   "execution_count": 41,
   "id": "7ffebdbb",
   "metadata": {},
   "outputs": [
    {
     "name": "stdout",
     "output_type": "stream",
     "text": [
      "['PARAM', 'is', 'a', 'series', 'of', 'Indian', 'supercomputers', 'designed', 'and', 'assembled', 'by', 'the', 'Centre', 'for', 'Development', 'of', 'Advanced', 'Computing', '(C-DAC)', 'in', 'Pune.']\n"
     ]
    }
   ],
   "source": [
    "print(string.split())"
   ]
  },
  {
   "cell_type": "code",
   "execution_count": 42,
   "id": "6a508f1d",
   "metadata": {},
   "outputs": [
    {
     "name": "stdout",
     "output_type": "stream",
     "text": [
      "['PARAM', 'is', 'a', 'series', 'of', 'Indian', 'supercomputers', 'designed', 'and', 'assembled', 'by', 'the', 'Centre', 'for', 'Development', 'of', 'Advanced', 'Computing', '(C-DAC)', 'in', 'Pune.']\n"
     ]
    }
   ],
   "source": [
    "print(string.split(' '))"
   ]
  },
  {
   "cell_type": "code",
   "execution_count": 43,
   "id": "9108248f",
   "metadata": {},
   "outputs": [
    {
     "name": "stdout",
     "output_type": "stream",
     "text": [
      "['PARAM is a series of ', ' supercomputers designed and assembled by the Centre for Development of Advanced Computing (C-DAC) in Pune.']\n"
     ]
    }
   ],
   "source": [
    "print(string.split('Indian'))"
   ]
  },
  {
   "cell_type": "code",
   "execution_count": 44,
   "id": "21fb55f3",
   "metadata": {},
   "outputs": [
    {
     "data": {
      "text/plain": [
       "['This', 'is', 'my', 'class']"
      ]
     },
     "execution_count": 44,
     "metadata": {},
     "output_type": "execute_result"
    }
   ],
   "source": [
    "string = 'This is my class'\n",
    "string.split()"
   ]
  },
  {
   "cell_type": "code",
   "execution_count": 45,
   "id": "02eb1bfc",
   "metadata": {},
   "outputs": [],
   "source": [
    "string = 'PARAM is a series of Indian supercomputers designed and assembled by the Centre for Development of Advanced Computing (C-DAC) in Pune.'"
   ]
  },
  {
   "cell_type": "code",
   "execution_count": 46,
   "id": "32026710",
   "metadata": {},
   "outputs": [
    {
     "name": "stdout",
     "output_type": "stream",
     "text": [
      "['PARAM', 'is', 'a', 'series', 'of', 'Indian', 'supercomputers', 'designed', 'and', 'assembled', 'by', 'the', 'Centre', 'for', 'Development', 'of', 'Advanced', 'Computing', '(C-DAC)', 'in', 'Pune.']\n"
     ]
    }
   ],
   "source": [
    "string_list = string.split()\n",
    "print(string_list)"
   ]
  },
  {
   "cell_type": "code",
   "execution_count": 47,
   "id": "fd5bed74",
   "metadata": {},
   "outputs": [
    {
     "name": "stdout",
     "output_type": "stream",
     "text": [
      "PARAM\n",
      "is\n",
      "a\n",
      "series\n",
      "of\n",
      "Indian\n",
      "supercomputers\n",
      "designed\n",
      "and\n",
      "assembled\n",
      "by\n",
      "the\n",
      "Centre\n",
      "for\n",
      "Development\n",
      "of\n",
      "Advanced\n",
      "Computing\n",
      "(C-DAC)\n",
      "in\n",
      "Pune.\n"
     ]
    }
   ],
   "source": [
    "string_list = string.split()\n",
    "for word in string_list:\n",
    "    print(word)"
   ]
  },
  {
   "cell_type": "code",
   "execution_count": 49,
   "id": "7778a6e5",
   "metadata": {},
   "outputs": [
    {
     "name": "stdout",
     "output_type": "stream",
     "text": [
      "\"PARAM\" is repeated 1 times.\n",
      "\"is\" is repeated 1 times.\n",
      "\"a\" is repeated 5 times.\n",
      "\"series\" is repeated 1 times.\n",
      "\"of\" is repeated 2 times.\n",
      "\"Indian\" is repeated 1 times.\n",
      "\"supercomputers\" is repeated 1 times.\n",
      "\"designed\" is repeated 1 times.\n",
      "\"and\" is repeated 1 times.\n",
      "\"assembled\" is repeated 1 times.\n",
      "\"by\" is repeated 1 times.\n",
      "\"the\" is repeated 1 times.\n",
      "\"Centre\" is repeated 1 times.\n",
      "\"for\" is repeated 1 times.\n",
      "\"Development\" is repeated 1 times.\n",
      "\"of\" is repeated 2 times.\n",
      "\"Advanced\" is repeated 1 times.\n",
      "\"Computing\" is repeated 1 times.\n",
      "\"(C-DAC)\" is repeated 1 times.\n",
      "\"in\" is repeated 2 times.\n",
      "\"Pune.\" is repeated 1 times.\n"
     ]
    }
   ],
   "source": [
    "string_list = string.split()\n",
    "for word in string_list:\n",
    "    print(f'\"{word}\" is repeated {string.count(word)} times.')"
   ]
  },
  {
   "cell_type": "code",
   "execution_count": 50,
   "id": "5f3bece3",
   "metadata": {},
   "outputs": [
    {
     "name": "stdout",
     "output_type": "stream",
     "text": [
      "\"PARAM\" is repeated 1 times.\n",
      "\"is\" is repeated 1 times.\n",
      "\"a\" is repeated 1 times.\n",
      "\"series\" is repeated 1 times.\n",
      "\"of\" is repeated 2 times.\n",
      "\"Indian\" is repeated 1 times.\n",
      "\"supercomputers\" is repeated 1 times.\n",
      "\"designed\" is repeated 1 times.\n",
      "\"and\" is repeated 1 times.\n",
      "\"assembled\" is repeated 1 times.\n",
      "\"by\" is repeated 1 times.\n",
      "\"the\" is repeated 1 times.\n",
      "\"Centre\" is repeated 1 times.\n",
      "\"for\" is repeated 1 times.\n",
      "\"Development\" is repeated 1 times.\n",
      "\"of\" is repeated 2 times.\n",
      "\"Advanced\" is repeated 1 times.\n",
      "\"Computing\" is repeated 1 times.\n",
      "\"(C-DAC)\" is repeated 1 times.\n",
      "\"in\" is repeated 1 times.\n",
      "\"Pune.\" is repeated 1 times.\n"
     ]
    }
   ],
   "source": [
    "string_list = string.split()\n",
    "for word in string_list:\n",
    "    print(f'\"{word}\" is repeated {string_list.count(word)} times.')"
   ]
  },
  {
   "cell_type": "code",
   "execution_count": null,
   "id": "745ff72b",
   "metadata": {},
   "outputs": [],
   "source": []
  },
  {
   "cell_type": "markdown",
   "id": "7dc8b6fa",
   "metadata": {},
   "source": [
    "### 14. join()"
   ]
  },
  {
   "cell_type": "code",
   "execution_count": 52,
   "id": "6f594056",
   "metadata": {},
   "outputs": [
    {
     "data": {
      "text/plain": [
       "'Kamakhya---Dispur---Dibrugarh---Rangiya'"
      ]
     },
     "execution_count": 52,
     "metadata": {},
     "output_type": "execute_result"
    }
   ],
   "source": [
    "cities = ['Kamakhya', 'Dispur', 'Dibrugarh', 'Rangiya']\n",
    "'---'.join(cities)"
   ]
  },
  {
   "cell_type": "code",
   "execution_count": 53,
   "id": "46f56ba8",
   "metadata": {},
   "outputs": [
    {
     "data": {
      "text/plain": [
       "'Kamakhya Dispur Dibrugarh Rangiya'"
      ]
     },
     "execution_count": 53,
     "metadata": {},
     "output_type": "execute_result"
    }
   ],
   "source": [
    "' '.join(cities)"
   ]
  },
  {
   "cell_type": "code",
   "execution_count": 54,
   "id": "fbaf9e80",
   "metadata": {},
   "outputs": [
    {
     "data": {
      "text/plain": [
       "'Kamakhya,Dispur,Dibrugarh,Rangiya'"
      ]
     },
     "execution_count": 54,
     "metadata": {},
     "output_type": "execute_result"
    }
   ],
   "source": [
    "','.join(cities)"
   ]
  },
  {
   "cell_type": "code",
   "execution_count": 55,
   "id": "919f2a63",
   "metadata": {},
   "outputs": [
    {
     "data": {
      "text/plain": [
       "'Kamakhya, Dispur, Dibrugarh, Rangiya'"
      ]
     },
     "execution_count": 55,
     "metadata": {},
     "output_type": "execute_result"
    }
   ],
   "source": [
    "', '.join(cities)"
   ]
  },
  {
   "cell_type": "code",
   "execution_count": 56,
   "id": "296f58c2",
   "metadata": {},
   "outputs": [
    {
     "data": {
      "text/plain": [
       "['G', 'u', 'w', 'a', 'h', 'a', 't', 'i']"
      ]
     },
     "execution_count": 56,
     "metadata": {},
     "output_type": "execute_result"
    }
   ],
   "source": [
    "string = 'Guwahati'\n",
    "list(string)"
   ]
  },
  {
   "cell_type": "code",
   "execution_count": 58,
   "id": "1fe915bf",
   "metadata": {},
   "outputs": [
    {
     "name": "stdout",
     "output_type": "stream",
     "text": [
      "['G', 'u', 'w', 'a', 'h', 'a', 't', 'i', ' ', 'i', 's', ' ', 'm', 'y', ' ', 'f', 'a', 'v', ' ', 'c', 'i', 't', 'y']\n"
     ]
    }
   ],
   "source": [
    "string = 'Guwahati is my fav city'\n",
    "print(list(string))"
   ]
  },
  {
   "cell_type": "code",
   "execution_count": 59,
   "id": "ac46f959",
   "metadata": {},
   "outputs": [
    {
     "data": {
      "text/plain": [
       "'Guwahati is my fav city'"
      ]
     },
     "execution_count": 59,
     "metadata": {},
     "output_type": "execute_result"
    }
   ],
   "source": [
    "string = 'Guwahati is my fav city'\n",
    "''.join(list(string))"
   ]
  },
  {
   "cell_type": "code",
   "execution_count": 60,
   "id": "cfcbf1a0",
   "metadata": {},
   "outputs": [
    {
     "data": {
      "text/plain": [
       "'G*u*w*a*h*a*t*i* *i*s* *m*y* *f*a*v* *c*i*t*y'"
      ]
     },
     "execution_count": 60,
     "metadata": {},
     "output_type": "execute_result"
    }
   ],
   "source": [
    "string = 'Guwahati is my fav city'\n",
    "'*'.join(list(string))"
   ]
  },
  {
   "cell_type": "code",
   "execution_count": null,
   "id": "0a9880ad",
   "metadata": {},
   "outputs": [],
   "source": []
  },
  {
   "cell_type": "markdown",
   "id": "70190881",
   "metadata": {},
   "source": [
    "### 15. endswith()"
   ]
  },
  {
   "cell_type": "code",
   "execution_count": 61,
   "id": "dd045e62",
   "metadata": {},
   "outputs": [
    {
     "data": {
      "text/plain": [
       "True"
      ]
     },
     "execution_count": 61,
     "metadata": {},
     "output_type": "execute_result"
    }
   ],
   "source": [
    "string = 'Param'\n",
    "string.endswith('m')"
   ]
  },
  {
   "cell_type": "code",
   "execution_count": 62,
   "id": "c560647b",
   "metadata": {},
   "outputs": [
    {
     "data": {
      "text/plain": [
       "False"
      ]
     },
     "execution_count": 62,
     "metadata": {},
     "output_type": "execute_result"
    }
   ],
   "source": [
    "string = 'Param'\n",
    "string.endswith('y')"
   ]
  },
  {
   "cell_type": "code",
   "execution_count": 63,
   "id": "061d7528",
   "metadata": {},
   "outputs": [
    {
     "data": {
      "text/plain": [
       "True"
      ]
     },
     "execution_count": 63,
     "metadata": {},
     "output_type": "execute_result"
    }
   ],
   "source": [
    "string = 'Param'\n",
    "string.endswith('ram')"
   ]
  },
  {
   "cell_type": "code",
   "execution_count": 67,
   "id": "9a533863",
   "metadata": {},
   "outputs": [
    {
     "data": {
      "text/plain": [
       "['identation.py',\n",
       " 'commandline.py',\n",
       " '.git',\n",
       " 'Day - 03 Operators & for loop',\n",
       " 'Day - 02 Data types and conditionals',\n",
       " 'Assignments',\n",
       " 'Day - 09 String Functions',\n",
       " 'Day - 05 for-while',\n",
       " 'Day - 08 Session - 1 List Comprehension & Tuple',\n",
       " 'Day - 06 List',\n",
       " 'Day - 04 for - while',\n",
       " '.commandline.py.swp',\n",
       " 'Day - 01 Introduction',\n",
       " 'Tutorial jupyter notebook.ipynb',\n",
       " 'Day - 07 List Functions',\n",
       " '.ipynb_checkpoints',\n",
       " 'Day - 08 Session - 2 String',\n",
       " 'syllabus.txt',\n",
       " 'first.py']"
      ]
     },
     "execution_count": 67,
     "metadata": {},
     "output_type": "execute_result"
    }
   ],
   "source": [
    "import os\n",
    "path = '/home/manoj/cdac/sil_cbp_py'\n",
    "os.listdir(path)"
   ]
  },
  {
   "cell_type": "code",
   "execution_count": 68,
   "id": "cb9946d7",
   "metadata": {},
   "outputs": [
    {
     "data": {
      "text/plain": [
       "['identation.py',\n",
       " 'commandline.py',\n",
       " '.git',\n",
       " 'Day - 03 Operators & for loop',\n",
       " 'Day - 02 Data types and conditionals',\n",
       " 'Assignments',\n",
       " 'Day - 09 String Functions',\n",
       " 'Day - 05 for-while',\n",
       " 'Day - 08 Session - 1 List Comprehension & Tuple',\n",
       " 'Day - 06 List',\n",
       " 'Day - 04 for - while',\n",
       " '.commandline.py.swp',\n",
       " 'Day - 01 Introduction',\n",
       " 'Tutorial jupyter notebook.ipynb',\n",
       " 'Day - 07 List Functions',\n",
       " '.ipynb_checkpoints',\n",
       " 'Day - 08 Session - 2 String',\n",
       " 'syllabus.txt',\n",
       " 'first.py']"
      ]
     },
     "execution_count": 68,
     "metadata": {},
     "output_type": "execute_result"
    }
   ],
   "source": [
    "import os\n",
    "path = '/home/manoj/cdac/sil_cbp_py'\n",
    "list_dir = os.listdir(path)\n",
    "list_dir"
   ]
  },
  {
   "cell_type": "code",
   "execution_count": 69,
   "id": "d65b0ab6",
   "metadata": {},
   "outputs": [
    {
     "name": "stdout",
     "output_type": "stream",
     "text": [
      "syllabus.txt\n"
     ]
    }
   ],
   "source": [
    "import os\n",
    "path = '/home/manoj/cdac/sil_cbp_py'\n",
    "list_dir = os.listdir(path)\n",
    "for name in list_dir:\n",
    "    if name.endswith('.txt'):\n",
    "        print(name)"
   ]
  },
  {
   "cell_type": "code",
   "execution_count": null,
   "id": "1ca2095f",
   "metadata": {},
   "outputs": [],
   "source": [
    "import os\n",
    "path = '/home/manoj/cdac/sil_cbp_py'\n",
    "list_dir = os.listdir(path)\n",
    "for name in list_dir:\n",
    "    if name.endswith('.txt'):\n",
    "        print(name)"
   ]
  },
  {
   "cell_type": "code",
   "execution_count": 70,
   "id": "160cca1b",
   "metadata": {},
   "outputs": [
    {
     "name": "stdout",
     "output_type": "stream",
     "text": [
      "bfs_serial\n",
      "src\n",
      ".git\n",
      "queue_pointers.c\n",
      "study material\n",
      "count_components\n",
      "graph_gen.py\n",
      "count_components.cpp\n",
      "bfs_parallel.c\n",
      "graph_gen_in_C\n",
      "visitArraybfs_serial_using_Q_pointers.c\n",
      "input\n",
      "test.c\n",
      "graph_gen.c\n",
      "cmd_line_arg.c\n",
      "queue_pointers\n",
      "bfs_serial.c\n",
      "modified_bfs_dyn_que.c\n",
      ".ipynb_checkpoints\n",
      "test.py\n",
      "Erdos Renyl Model (for generating Random Graphs).ipynb\n",
      "a.out\n",
      "bfs_serial_using_Q_pointers_2.c\n",
      "Makefile_backup\n",
      "try\n",
      "graph_gen\n",
      "bfs_serial_using_Q_pointers_2\n"
     ]
    }
   ],
   "source": [
    "import os\n",
    "path = '/home/manoj/project'\n",
    "list_dir = os.listdir(path)\n",
    "for name in list_dir:\n",
    "#     if name.endswith('.txt'):\n",
    "        print(name)\n"
   ]
  },
  {
   "cell_type": "code",
   "execution_count": 71,
   "id": "3a91ec65",
   "metadata": {},
   "outputs": [
    {
     "name": "stdout",
     "output_type": "stream",
     "text": [
      "queue_pointers.c\n",
      "bfs_parallel.c\n",
      "visitArraybfs_serial_using_Q_pointers.c\n",
      "test.c\n",
      "graph_gen.c\n",
      "cmd_line_arg.c\n",
      "bfs_serial.c\n",
      "modified_bfs_dyn_que.c\n",
      "bfs_serial_using_Q_pointers_2.c\n"
     ]
    }
   ],
   "source": [
    "import os\n",
    "path = '/home/manoj/project'\n",
    "list_dir = os.listdir(path)\n",
    "for name in list_dir:\n",
    "    if name.endswith('.c'):\n",
    "        print(name)\n"
   ]
  },
  {
   "cell_type": "code",
   "execution_count": 72,
   "id": "7b442c13",
   "metadata": {},
   "outputs": [
    {
     "name": "stdout",
     "output_type": "stream",
     "text": [
      "Erdos Renyl Model (for generating Random Graphs).ipynb\n"
     ]
    }
   ],
   "source": [
    "import os\n",
    "path = '/home/manoj/project'\n",
    "list_dir = os.listdir(path)\n",
    "for name in list_dir:\n",
    "    if name.endswith('.ipynb'):\n",
    "        print(name)\n"
   ]
  },
  {
   "cell_type": "markdown",
   "id": "7f3a8366",
   "metadata": {},
   "source": [
    "### 16. startswith()"
   ]
  },
  {
   "cell_type": "code",
   "execution_count": 76,
   "id": "ed3e1575",
   "metadata": {},
   "outputs": [
    {
     "data": {
      "text/plain": [
       "True"
      ]
     },
     "execution_count": 76,
     "metadata": {},
     "output_type": "execute_result"
    }
   ],
   "source": [
    "string = 'This is my class'\n",
    "string.startswith('T')"
   ]
  },
  {
   "cell_type": "code",
   "execution_count": 77,
   "id": "044cdc07",
   "metadata": {},
   "outputs": [
    {
     "data": {
      "text/plain": [
       "True"
      ]
     },
     "execution_count": 77,
     "metadata": {},
     "output_type": "execute_result"
    }
   ],
   "source": [
    "string = 'This is my class'\n",
    "string.startswith('Th')"
   ]
  },
  {
   "cell_type": "code",
   "execution_count": null,
   "id": "0a1966db",
   "metadata": {},
   "outputs": [],
   "source": [
    "string = 'This is my class'\n",
    "string.startswith('T')"
   ]
  },
  {
   "cell_type": "code",
   "execution_count": 78,
   "id": "6b2a46e8",
   "metadata": {},
   "outputs": [
    {
     "data": {
      "text/plain": [
       "True"
      ]
     },
     "execution_count": 78,
     "metadata": {},
     "output_type": "execute_result"
    }
   ],
   "source": [
    "string = 'This is my class'\n",
    "string.startswith('Thi')"
   ]
  },
  {
   "cell_type": "code",
   "execution_count": 79,
   "id": "c0de9a27",
   "metadata": {},
   "outputs": [
    {
     "data": {
      "text/plain": [
       "True"
      ]
     },
     "execution_count": 79,
     "metadata": {},
     "output_type": "execute_result"
    }
   ],
   "source": [
    "string = 'This is my class'\n",
    "string.startswith('This')"
   ]
  },
  {
   "cell_type": "code",
   "execution_count": 80,
   "id": "2c6663ba",
   "metadata": {},
   "outputs": [
    {
     "data": {
      "text/plain": [
       "False"
      ]
     },
     "execution_count": 80,
     "metadata": {},
     "output_type": "execute_result"
    }
   ],
   "source": [
    "string = 'This is my class'\n",
    "string.startswith('Tihi')"
   ]
  },
  {
   "cell_type": "code",
   "execution_count": 81,
   "id": "1bc9ec88",
   "metadata": {},
   "outputs": [
    {
     "data": {
      "text/plain": [
       "False"
      ]
     },
     "execution_count": 81,
     "metadata": {},
     "output_type": "execute_result"
    }
   ],
   "source": [
    "string = 'This is my class'\n",
    "string.startswith('is')"
   ]
  },
  {
   "cell_type": "code",
   "execution_count": null,
   "id": "7ecb98ee",
   "metadata": {},
   "outputs": [],
   "source": []
  },
  {
   "cell_type": "markdown",
   "id": "1f05c737",
   "metadata": {},
   "source": [
    "### 17. isalnum()\n",
    "    - alphabets\n",
    "    - numbers"
   ]
  },
  {
   "cell_type": "code",
   "execution_count": 83,
   "id": "ea48b702",
   "metadata": {},
   "outputs": [],
   "source": [
    "string = 'Python123'"
   ]
  },
  {
   "cell_type": "code",
   "execution_count": 84,
   "id": "e8f450a1",
   "metadata": {},
   "outputs": [
    {
     "data": {
      "text/plain": [
       "True"
      ]
     },
     "execution_count": 84,
     "metadata": {},
     "output_type": "execute_result"
    }
   ],
   "source": [
    "string.isalnum()"
   ]
  },
  {
   "cell_type": "code",
   "execution_count": 86,
   "id": "a73bccfa",
   "metadata": {},
   "outputs": [
    {
     "data": {
      "text/plain": [
       "False"
      ]
     },
     "execution_count": 86,
     "metadata": {},
     "output_type": "execute_result"
    }
   ],
   "source": [
    "string = 'Python 123'\n",
    "string.isalnum()"
   ]
  },
  {
   "cell_type": "code",
   "execution_count": 87,
   "id": "1d037481",
   "metadata": {},
   "outputs": [
    {
     "data": {
      "text/plain": [
       "False"
      ]
     },
     "execution_count": 87,
     "metadata": {},
     "output_type": "execute_result"
    }
   ],
   "source": [
    "string = 'Python$123'\n",
    "string.isalnum()"
   ]
  },
  {
   "cell_type": "code",
   "execution_count": 88,
   "id": "fa0bf802",
   "metadata": {},
   "outputs": [
    {
     "data": {
      "text/plain": [
       "True"
      ]
     },
     "execution_count": 88,
     "metadata": {},
     "output_type": "execute_result"
    }
   ],
   "source": [
    "string = '123'\n",
    "string.isalnum()"
   ]
  },
  {
   "cell_type": "code",
   "execution_count": 89,
   "id": "7ee62064",
   "metadata": {},
   "outputs": [
    {
     "data": {
      "text/plain": [
       "True"
      ]
     },
     "execution_count": 89,
     "metadata": {},
     "output_type": "execute_result"
    }
   ],
   "source": [
    "string = 'Python'\n",
    "string.isalnum()"
   ]
  },
  {
   "cell_type": "code",
   "execution_count": 90,
   "id": "afcdebdf",
   "metadata": {},
   "outputs": [
    {
     "data": {
      "text/plain": [
       "False"
      ]
     },
     "execution_count": 90,
     "metadata": {},
     "output_type": "execute_result"
    }
   ],
   "source": [
    "string = ''\n",
    "string.isalnum()"
   ]
  },
  {
   "cell_type": "markdown",
   "id": "dd3530a2",
   "metadata": {},
   "source": [
    "### 18. isalpha()\n",
    "    - only alphabets"
   ]
  },
  {
   "cell_type": "code",
   "execution_count": 93,
   "id": "1d9e2303",
   "metadata": {},
   "outputs": [
    {
     "data": {
      "text/plain": [
       "True"
      ]
     },
     "execution_count": 93,
     "metadata": {},
     "output_type": "execute_result"
    }
   ],
   "source": [
    "string = 'Python'\n",
    "string.isalpha()"
   ]
  },
  {
   "cell_type": "code",
   "execution_count": 94,
   "id": "0e5c2e33",
   "metadata": {},
   "outputs": [
    {
     "data": {
      "text/plain": [
       "False"
      ]
     },
     "execution_count": 94,
     "metadata": {},
     "output_type": "execute_result"
    }
   ],
   "source": [
    "string = 'Python123'\n",
    "string.isalpha()"
   ]
  },
  {
   "cell_type": "code",
   "execution_count": 95,
   "id": "28795146",
   "metadata": {},
   "outputs": [
    {
     "data": {
      "text/plain": [
       "False"
      ]
     },
     "execution_count": 95,
     "metadata": {},
     "output_type": "execute_result"
    }
   ],
   "source": [
    "string = 'Python'\n",
    "string.isalnum()"
   ]
  },
  {
   "cell_type": "code",
   "execution_count": 97,
   "id": "bccc8c38",
   "metadata": {},
   "outputs": [
    {
     "data": {
      "text/plain": [
       "False"
      ]
     },
     "execution_count": 97,
     "metadata": {},
     "output_type": "execute_result"
    }
   ],
   "source": [
    "string = '12345'\n",
    "string.isalpha()"
   ]
  },
  {
   "cell_type": "markdown",
   "id": "e8fd3041",
   "metadata": {},
   "source": [
    "### 19. isdecimal()\n",
    "    - only digits"
   ]
  },
  {
   "cell_type": "code",
   "execution_count": 98,
   "id": "64638e5b",
   "metadata": {},
   "outputs": [
    {
     "data": {
      "text/plain": [
       "False"
      ]
     },
     "execution_count": 98,
     "metadata": {},
     "output_type": "execute_result"
    }
   ],
   "source": [
    "string = 'Python123'\n",
    "string.isdecimal()"
   ]
  },
  {
   "cell_type": "code",
   "execution_count": 99,
   "id": "78a2d7ca",
   "metadata": {},
   "outputs": [
    {
     "data": {
      "text/plain": [
       "True"
      ]
     },
     "execution_count": 99,
     "metadata": {},
     "output_type": "execute_result"
    }
   ],
   "source": [
    "string = '123456'\n",
    "string.isdecimal()"
   ]
  },
  {
   "cell_type": "code",
   "execution_count": 100,
   "id": "915eb20e",
   "metadata": {},
   "outputs": [
    {
     "data": {
      "text/plain": [
       "False"
      ]
     },
     "execution_count": 100,
     "metadata": {},
     "output_type": "execute_result"
    }
   ],
   "source": [
    "string = '1 2 3 4 5 6'\n",
    "string.isdecimal()"
   ]
  },
  {
   "cell_type": "code",
   "execution_count": 101,
   "id": "cf6570b4",
   "metadata": {},
   "outputs": [
    {
     "data": {
      "text/plain": [
       "False"
      ]
     },
     "execution_count": 101,
     "metadata": {},
     "output_type": "execute_result"
    }
   ],
   "source": [
    "string = '1, 2, 3, 4, 5, 6'\n",
    "string.isdecimal()"
   ]
  },
  {
   "cell_type": "markdown",
   "id": "5a74aa4e",
   "metadata": {},
   "source": [
    "### 20. isdigit()\n",
    "    - digits\n",
    "    - superscript\n",
    "    - subscript"
   ]
  },
  {
   "cell_type": "code",
   "execution_count": 102,
   "id": "ae2be2f0",
   "metadata": {},
   "outputs": [
    {
     "data": {
      "text/plain": [
       "True"
      ]
     },
     "execution_count": 102,
     "metadata": {},
     "output_type": "execute_result"
    }
   ],
   "source": [
    "string = '123456'\n",
    "string.isdigit()"
   ]
  },
  {
   "cell_type": "code",
   "execution_count": 103,
   "id": "6e21f0d5",
   "metadata": {},
   "outputs": [
    {
     "data": {
      "text/plain": [
       "False"
      ]
     },
     "execution_count": 103,
     "metadata": {},
     "output_type": "execute_result"
    }
   ],
   "source": [
    "string = '123a456'\n",
    "string.isdigit()"
   ]
  },
  {
   "cell_type": "code",
   "execution_count": 109,
   "id": "96ea66ac",
   "metadata": {},
   "outputs": [
    {
     "name": "stdout",
     "output_type": "stream",
     "text": [
      "1 True\n",
      "********************\n",
      "b False\n",
      "********************\n",
      "123 True\n",
      "********************\n",
      "² True\n",
      "********************\n",
      "³ True\n",
      "********************\n",
      "¹ True\n",
      "********************\n",
      "₀ True\n",
      "********************\n",
      "⅐ False\n",
      "********************\n",
      "₀ True\n",
      "********************\n",
      "⅑ False\n",
      "********************\n",
      "⅒ False\n",
      "********************\n",
      "⅓ False\n",
      "********************\n",
      "⅔ False\n",
      "********************\n",
      "₀ True\n",
      "********************\n"
     ]
    }
   ],
   "source": [
    "codes = ['1', 'b', '123',\n",
    "         '\\u00B2', '\\u00B3', '\\u00B9', '\\u2080', \n",
    "         '\\u2150', '\\u2080', '\\u2151', '\\u2152',\n",
    "         '\\u2153', '\\u2154', '\\u2080']\n",
    "for i in codes:\n",
    "    print(i, i.isdigit())\n",
    "    print('********************')"
   ]
  },
  {
   "cell_type": "code",
   "execution_count": null,
   "id": "3a06c334",
   "metadata": {},
   "outputs": [],
   "source": []
  },
  {
   "cell_type": "markdown",
   "id": "d6463257",
   "metadata": {},
   "source": [
    "### 21. isnumeric()\n",
    "    - digits\n",
    "    - superscript\n",
    "    - subscript\n",
    "    - vulgar fractions (⅑,⅓)"
   ]
  },
  {
   "cell_type": "code",
   "execution_count": 110,
   "id": "21177a4a",
   "metadata": {},
   "outputs": [
    {
     "name": "stdout",
     "output_type": "stream",
     "text": [
      "1 True\n",
      "********************\n",
      "b False\n",
      "********************\n",
      "123 True\n",
      "********************\n",
      "² True\n",
      "********************\n",
      "³ True\n",
      "********************\n",
      "¹ True\n",
      "********************\n",
      "₀ True\n",
      "********************\n",
      "⅐ True\n",
      "********************\n",
      "₀ True\n",
      "********************\n",
      "⅑ True\n",
      "********************\n",
      "⅒ True\n",
      "********************\n",
      "⅓ True\n",
      "********************\n",
      "⅔ True\n",
      "********************\n",
      "₀ True\n",
      "********************\n"
     ]
    }
   ],
   "source": [
    "codes = ['1', 'b', '123',\n",
    "         '\\u00B2', '\\u00B3', '\\u00B9', '\\u2080', \n",
    "         '\\u2150', '\\u2080', '\\u2151', '\\u2152',\n",
    "         '\\u2153', '\\u2154', '\\u2080']\n",
    "for i in codes:\n",
    "    print(i, i.isnumeric())\n",
    "    print('********************')"
   ]
  },
  {
   "cell_type": "code",
   "execution_count": null,
   "id": "57fdbc12",
   "metadata": {},
   "outputs": [],
   "source": []
  },
  {
   "cell_type": "markdown",
   "id": "98151d8a",
   "metadata": {},
   "source": [
    "### 22. islower()"
   ]
  },
  {
   "cell_type": "code",
   "execution_count": 111,
   "id": "a2b389e8",
   "metadata": {},
   "outputs": [
    {
     "data": {
      "text/plain": [
       "False"
      ]
     },
     "execution_count": 111,
     "metadata": {},
     "output_type": "execute_result"
    }
   ],
   "source": [
    "'Python'.islower()"
   ]
  },
  {
   "cell_type": "code",
   "execution_count": 112,
   "id": "150ff7b0",
   "metadata": {},
   "outputs": [
    {
     "data": {
      "text/plain": [
       "True"
      ]
     },
     "execution_count": 112,
     "metadata": {},
     "output_type": "execute_result"
    }
   ],
   "source": [
    "'python'.islower()"
   ]
  },
  {
   "cell_type": "code",
   "execution_count": 114,
   "id": "b7889ee0",
   "metadata": {},
   "outputs": [
    {
     "data": {
      "text/plain": [
       "True"
      ]
     },
     "execution_count": 114,
     "metadata": {},
     "output_type": "execute_result"
    }
   ],
   "source": [
    "'pyt hon'.islower()"
   ]
  },
  {
   "cell_type": "code",
   "execution_count": 115,
   "id": "9e1978d1",
   "metadata": {},
   "outputs": [
    {
     "data": {
      "text/plain": [
       "True"
      ]
     },
     "execution_count": 115,
     "metadata": {},
     "output_type": "execute_result"
    }
   ],
   "source": [
    "'pyt-hon'.islower()"
   ]
  },
  {
   "cell_type": "code",
   "execution_count": 116,
   "id": "47d028ef",
   "metadata": {},
   "outputs": [
    {
     "data": {
      "text/plain": [
       "False"
      ]
     },
     "execution_count": 116,
     "metadata": {},
     "output_type": "execute_result"
    }
   ],
   "source": [
    "'pyt-hOn'.islower()"
   ]
  },
  {
   "cell_type": "code",
   "execution_count": 117,
   "id": "d95c9ba2",
   "metadata": {},
   "outputs": [
    {
     "data": {
      "text/plain": [
       "True"
      ]
     },
     "execution_count": 117,
     "metadata": {},
     "output_type": "execute_result"
    }
   ],
   "source": [
    "'pyt9hon'.islower()"
   ]
  },
  {
   "cell_type": "code",
   "execution_count": 118,
   "id": "c0bfe526",
   "metadata": {},
   "outputs": [
    {
     "data": {
      "text/plain": [
       "False"
      ]
     },
     "execution_count": 118,
     "metadata": {},
     "output_type": "execute_result"
    }
   ],
   "source": [
    "'99867'.islower()"
   ]
  },
  {
   "cell_type": "code",
   "execution_count": 119,
   "id": "7aa7d526",
   "metadata": {},
   "outputs": [
    {
     "data": {
      "text/plain": [
       "False"
      ]
     },
     "execution_count": 119,
     "metadata": {},
     "output_type": "execute_result"
    }
   ],
   "source": [
    "''.islower()"
   ]
  },
  {
   "cell_type": "markdown",
   "id": "dcf3e72b",
   "metadata": {},
   "source": [
    "### 23. isupper()"
   ]
  },
  {
   "cell_type": "code",
   "execution_count": 121,
   "id": "c507b6a9",
   "metadata": {},
   "outputs": [
    {
     "data": {
      "text/plain": [
       "True"
      ]
     },
     "execution_count": 121,
     "metadata": {},
     "output_type": "execute_result"
    }
   ],
   "source": [
    "'PYTHON'.isupper()"
   ]
  },
  {
   "cell_type": "code",
   "execution_count": 122,
   "id": "2e19d3a0",
   "metadata": {},
   "outputs": [
    {
     "data": {
      "text/plain": [
       "True"
      ]
     },
     "execution_count": 122,
     "metadata": {},
     "output_type": "execute_result"
    }
   ],
   "source": [
    "'Python'.upper().isupper()"
   ]
  },
  {
   "cell_type": "code",
   "execution_count": 124,
   "id": "8ffa9d49",
   "metadata": {},
   "outputs": [
    {
     "data": {
      "text/plain": [
       "'PYTHON'"
      ]
     },
     "execution_count": 124,
     "metadata": {},
     "output_type": "execute_result"
    }
   ],
   "source": [
    "'Python'.upper()"
   ]
  },
  {
   "cell_type": "code",
   "execution_count": 123,
   "id": "bf2bbc80",
   "metadata": {},
   "outputs": [
    {
     "data": {
      "text/plain": [
       "True"
      ]
     },
     "execution_count": 123,
     "metadata": {},
     "output_type": "execute_result"
    }
   ],
   "source": [
    "'python'.upper().isupper()"
   ]
  },
  {
   "cell_type": "code",
   "execution_count": 125,
   "id": "d33ad31f",
   "metadata": {},
   "outputs": [
    {
     "data": {
      "text/plain": [
       "True"
      ]
     },
     "execution_count": 125,
     "metadata": {},
     "output_type": "execute_result"
    }
   ],
   "source": [
    "'pyt hon'.upper().isupper()"
   ]
  },
  {
   "cell_type": "code",
   "execution_count": 126,
   "id": "c10d67ea",
   "metadata": {},
   "outputs": [
    {
     "data": {
      "text/plain": [
       "True"
      ]
     },
     "execution_count": 126,
     "metadata": {},
     "output_type": "execute_result"
    }
   ],
   "source": [
    "'pyt9090hon'.upper().isupper()"
   ]
  },
  {
   "cell_type": "code",
   "execution_count": 127,
   "id": "e01298e5",
   "metadata": {},
   "outputs": [
    {
     "data": {
      "text/plain": [
       "False"
      ]
     },
     "execution_count": 127,
     "metadata": {},
     "output_type": "execute_result"
    }
   ],
   "source": [
    "'python'.isupper()"
   ]
  },
  {
   "cell_type": "code",
   "execution_count": null,
   "id": "6c14d69a",
   "metadata": {},
   "outputs": [],
   "source": []
  },
  {
   "cell_type": "markdown",
   "id": "6bdba64d",
   "metadata": {},
   "source": [
    "### 24. istitle()"
   ]
  },
  {
   "cell_type": "code",
   "execution_count": 128,
   "id": "239201cb",
   "metadata": {},
   "outputs": [
    {
     "data": {
      "text/plain": [
       "True"
      ]
     },
     "execution_count": 128,
     "metadata": {},
     "output_type": "execute_result"
    }
   ],
   "source": [
    "string = 'Cdac Silchar'\n",
    "string.istitle()"
   ]
  },
  {
   "cell_type": "code",
   "execution_count": 129,
   "id": "47e99776",
   "metadata": {},
   "outputs": [
    {
     "data": {
      "text/plain": [
       "False"
      ]
     },
     "execution_count": 129,
     "metadata": {},
     "output_type": "execute_result"
    }
   ],
   "source": [
    "string = 'Cdac silchar'\n",
    "string.istitle()"
   ]
  },
  {
   "cell_type": "code",
   "execution_count": 132,
   "id": "d51e033c",
   "metadata": {},
   "outputs": [
    {
     "data": {
      "text/plain": [
       "True"
      ]
     },
     "execution_count": 132,
     "metadata": {},
     "output_type": "execute_result"
    }
   ],
   "source": [
    "string = 'cdac silchar'\n",
    "string.title().istitle()"
   ]
  },
  {
   "cell_type": "code",
   "execution_count": 133,
   "id": "349fba53",
   "metadata": {},
   "outputs": [
    {
     "data": {
      "text/plain": [
       "'Cdac Silchar'"
      ]
     },
     "execution_count": 133,
     "metadata": {},
     "output_type": "execute_result"
    }
   ],
   "source": [
    "string.title()"
   ]
  },
  {
   "cell_type": "code",
   "execution_count": null,
   "id": "7a22e3f2",
   "metadata": {},
   "outputs": [],
   "source": [
    "''.istitle()"
   ]
  }
 ],
 "metadata": {
  "kernelspec": {
   "display_name": "Python 3 (ipykernel)",
   "language": "python",
   "name": "python3"
  },
  "language_info": {
   "codemirror_mode": {
    "name": "ipython",
    "version": 3
   },
   "file_extension": ".py",
   "mimetype": "text/x-python",
   "name": "python",
   "nbconvert_exporter": "python",
   "pygments_lexer": "ipython3",
   "version": "3.10.12"
  }
 },
 "nbformat": 4,
 "nbformat_minor": 5
}
