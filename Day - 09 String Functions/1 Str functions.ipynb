{
 "cells": [
  {
   "cell_type": "markdown",
   "id": "4f18ec64",
   "metadata": {},
   "source": [
    "## string functions"
   ]
  },
  {
   "cell_type": "markdown",
   "id": "547596a0",
   "metadata": {},
   "source": [
    "### lstrip()"
   ]
  },
  {
   "cell_type": "code",
   "execution_count": 3,
   "id": "53bf697a",
   "metadata": {},
   "outputs": [
    {
     "name": "stdout",
     "output_type": "stream",
     "text": [
      "       Param Supercomputer\n"
     ]
    }
   ],
   "source": [
    "string = '       Param Supercomputer'\n",
    "print(string)"
   ]
  },
  {
   "cell_type": "code",
   "execution_count": 4,
   "id": "d1c47b7b",
   "metadata": {},
   "outputs": [
    {
     "data": {
      "text/plain": [
       "'Param Supercomputer'"
      ]
     },
     "execution_count": 4,
     "metadata": {},
     "output_type": "execute_result"
    }
   ],
   "source": [
    "string1 = string.lstrip()\n",
    "string1"
   ]
  },
  {
   "cell_type": "code",
   "execution_count": 6,
   "id": "5e18719f",
   "metadata": {},
   "outputs": [
    {
     "data": {
      "text/plain": [
       "'Param Supercomputer          '"
      ]
     },
     "execution_count": 6,
     "metadata": {},
     "output_type": "execute_result"
    }
   ],
   "source": [
    "string = '       Param Supercomputer          '\n",
    "string2 = string.lstrip()\n",
    "string2"
   ]
  },
  {
   "cell_type": "markdown",
   "id": "09feb53b",
   "metadata": {},
   "source": [
    "### rstrip()"
   ]
  },
  {
   "cell_type": "code",
   "execution_count": 7,
   "id": "475e6a6a",
   "metadata": {},
   "outputs": [
    {
     "data": {
      "text/plain": [
       "'       Param Supercomputer'"
      ]
     },
     "execution_count": 7,
     "metadata": {},
     "output_type": "execute_result"
    }
   ],
   "source": [
    "string = '       Param Supercomputer          '\n",
    "string.rstrip()"
   ]
  },
  {
   "cell_type": "markdown",
   "id": "4de1534a",
   "metadata": {},
   "source": [
    "### strip()"
   ]
  },
  {
   "cell_type": "code",
   "execution_count": 9,
   "id": "16baa2e2",
   "metadata": {},
   "outputs": [
    {
     "data": {
      "text/plain": [
       "'Param Supercomputer'"
      ]
     },
     "execution_count": 9,
     "metadata": {},
     "output_type": "execute_result"
    }
   ],
   "source": [
    "string = '       Param Supercomputer          '\n",
    "string.strip()"
   ]
  },
  {
   "cell_type": "code",
   "execution_count": null,
   "id": "9a8aeef8",
   "metadata": {},
   "outputs": [],
   "source": []
  },
  {
   "cell_type": "markdown",
   "id": "e824dd3d",
   "metadata": {},
   "source": [
    "### swapcase()"
   ]
  },
  {
   "cell_type": "code",
   "execution_count": 10,
   "id": "4d4d3e75",
   "metadata": {},
   "outputs": [
    {
     "data": {
      "text/plain": [
       "'tHIS iS mY cLASS'"
      ]
     },
     "execution_count": 10,
     "metadata": {},
     "output_type": "execute_result"
    }
   ],
   "source": [
    "'This Is My Class'.swapcase()"
   ]
  },
  {
   "cell_type": "code",
   "execution_count": 11,
   "id": "9ffe668c",
   "metadata": {},
   "outputs": [
    {
     "data": {
      "text/plain": [
       "'This Is My Class'"
      ]
     },
     "execution_count": 11,
     "metadata": {},
     "output_type": "execute_result"
    }
   ],
   "source": [
    "'this is my class'.title()"
   ]
  },
  {
   "cell_type": "code",
   "execution_count": 12,
   "id": "3700a384",
   "metadata": {},
   "outputs": [
    {
     "data": {
      "text/plain": [
       "'tHIS iS mY cLASS'"
      ]
     },
     "execution_count": 12,
     "metadata": {},
     "output_type": "execute_result"
    }
   ],
   "source": [
    "'this is my class'.title().swapcase()"
   ]
  },
  {
   "cell_type": "code",
   "execution_count": 14,
   "id": "d6c33ef6",
   "metadata": {},
   "outputs": [
    {
     "data": {
      "text/plain": [
       "'This Is My Class'"
      ]
     },
     "execution_count": 14,
     "metadata": {},
     "output_type": "execute_result"
    }
   ],
   "source": [
    "string = 'this is my class'\n",
    "string1 = string.title()\n",
    "string1"
   ]
  },
  {
   "cell_type": "code",
   "execution_count": 16,
   "id": "c7c1a088",
   "metadata": {},
   "outputs": [
    {
     "data": {
      "text/plain": [
       "'tHIS iS mY cLASS'"
      ]
     },
     "execution_count": 16,
     "metadata": {},
     "output_type": "execute_result"
    }
   ],
   "source": [
    "string = 'this is my class'\n",
    "string1 = string.title()\n",
    "string2 = string1.swapcase()\n",
    "string2"
   ]
  },
  {
   "cell_type": "markdown",
   "id": "3e23ad95",
   "metadata": {},
   "source": [
    "### replace()"
   ]
  },
  {
   "cell_type": "code",
   "execution_count": 17,
   "id": "74e996fd",
   "metadata": {},
   "outputs": [],
   "source": [
    "s = 'PARAM is a series of Indian supercomputers designed and assembled by the Centre for Development of Advanced Computing (C-DAC) in Pune.'"
   ]
  },
  {
   "cell_type": "code",
   "execution_count": 18,
   "id": "a5ba8629",
   "metadata": {},
   "outputs": [
    {
     "data": {
      "text/plain": [
       "'HPC_Course is a series of Indian supercomputers designed and assembled by the Centre for Development of Advanced Computing (C-DAC) in Pune.'"
      ]
     },
     "execution_count": 18,
     "metadata": {},
     "output_type": "execute_result"
    }
   ],
   "source": [
    "s.replace('PARAM', 'HPC_Course')"
   ]
  },
  {
   "cell_type": "code",
   "execution_count": 19,
   "id": "e680ba54",
   "metadata": {},
   "outputs": [
    {
     "data": {
      "text/plain": [
       "'PARAM is a series of Indian supercomputers designed and assembled by the Centre for Development of Advanced Computing (C-DAC) in Pune.'"
      ]
     },
     "execution_count": 19,
     "metadata": {},
     "output_type": "execute_result"
    }
   ],
   "source": [
    "s.replace('param', 'HPC_Course')"
   ]
  },
  {
   "cell_type": "code",
   "execution_count": null,
   "id": "70f1b3a3",
   "metadata": {},
   "outputs": [],
   "source": []
  },
  {
   "cell_type": "markdown",
   "id": "20657f6c",
   "metadata": {},
   "source": [
    "### count()"
   ]
  },
  {
   "cell_type": "code",
   "execution_count": 22,
   "id": "7242ccee",
   "metadata": {},
   "outputs": [
    {
     "name": "stdout",
     "output_type": "stream",
     "text": [
      "C-DAC was created in November 1987, originally as the Centre for Development of Advanced Computing Technology (C-DACT). This was in response to issues purchasing supercomputers from foreign sources. The Indian Government decided to try and develop indigenous computing technology.\n"
     ]
    },
    {
     "data": {
      "text/plain": [
       "2"
      ]
     },
     "execution_count": 22,
     "metadata": {},
     "output_type": "execute_result"
    }
   ],
   "source": [
    "string = 'C-DAC was created in November 1987, originally as the Centre for Development of Advanced Computing Technology (C-DACT). This was in response to issues purchasing supercomputers from foreign sources. The Indian Government decided to try and develop indigenous computing technology.'\n",
    "print(string)\n",
    "string.count('is')"
   ]
  },
  {
   "cell_type": "code",
   "execution_count": 23,
   "id": "bdec3461",
   "metadata": {},
   "outputs": [
    {
     "data": {
      "text/plain": [
       "1"
      ]
     },
     "execution_count": 23,
     "metadata": {},
     "output_type": "execute_result"
    }
   ],
   "source": [
    "string.count('of')"
   ]
  },
  {
   "cell_type": "code",
   "execution_count": null,
   "id": "de7ea7d3",
   "metadata": {},
   "outputs": [],
   "source": []
  },
  {
   "cell_type": "markdown",
   "id": "12d3a50d",
   "metadata": {},
   "source": [
    "### index()\n",
    " - first occurence of string"
   ]
  },
  {
   "cell_type": "code",
   "execution_count": 24,
   "id": "51eba678",
   "metadata": {},
   "outputs": [],
   "source": [
    "string = 'Param Supercomputer'"
   ]
  },
  {
   "cell_type": "code",
   "execution_count": 27,
   "id": "430348ea",
   "metadata": {},
   "outputs": [
    {
     "data": {
      "text/plain": [
       "6"
      ]
     },
     "execution_count": 27,
     "metadata": {},
     "output_type": "execute_result"
    }
   ],
   "source": [
    "string.index('S')"
   ]
  },
  {
   "cell_type": "code",
   "execution_count": 26,
   "id": "1a5699ec",
   "metadata": {},
   "outputs": [
    {
     "data": {
      "text/plain": [
       "6"
      ]
     },
     "execution_count": 26,
     "metadata": {},
     "output_type": "execute_result"
    }
   ],
   "source": [
    "string.index('Super')"
   ]
  },
  {
   "cell_type": "code",
   "execution_count": 28,
   "id": "7d86a792",
   "metadata": {},
   "outputs": [
    {
     "data": {
      "text/plain": [
       "5"
      ]
     },
     "execution_count": 28,
     "metadata": {},
     "output_type": "execute_result"
    }
   ],
   "source": [
    "string.index(' ')"
   ]
  },
  {
   "cell_type": "code",
   "execution_count": 29,
   "id": "c4eb68e3",
   "metadata": {},
   "outputs": [
    {
     "ename": "ValueError",
     "evalue": "substring not found",
     "output_type": "error",
     "traceback": [
      "\u001b[0;31m---------------------------------------------------------------------------\u001b[0m",
      "\u001b[0;31mValueError\u001b[0m                                Traceback (most recent call last)",
      "\u001b[0;32m/tmp/ipykernel_60571/3761272987.py\u001b[0m in \u001b[0;36m<module>\u001b[0;34m\u001b[0m\n\u001b[0;32m----> 1\u001b[0;31m \u001b[0mstring\u001b[0m\u001b[0;34m.\u001b[0m\u001b[0mindex\u001b[0m\u001b[0;34m(\u001b[0m\u001b[0;34m'Z'\u001b[0m\u001b[0;34m)\u001b[0m\u001b[0;34m\u001b[0m\u001b[0;34m\u001b[0m\u001b[0m\n\u001b[0m",
      "\u001b[0;31mValueError\u001b[0m: substring not found"
     ]
    }
   ],
   "source": [
    "string.index('Z')"
   ]
  },
  {
   "cell_type": "code",
   "execution_count": null,
   "id": "534ac171",
   "metadata": {},
   "outputs": [],
   "source": []
  },
  {
   "cell_type": "markdown",
   "id": "76907373",
   "metadata": {},
   "source": [
    "### find()"
   ]
  },
  {
   "cell_type": "code",
   "execution_count": 32,
   "id": "2b8e44dc",
   "metadata": {},
   "outputs": [
    {
     "data": {
      "text/plain": [
       "6"
      ]
     },
     "execution_count": 32,
     "metadata": {},
     "output_type": "execute_result"
    }
   ],
   "source": [
    "string.find('Super')"
   ]
  },
  {
   "cell_type": "code",
   "execution_count": 31,
   "id": "3d2289be",
   "metadata": {},
   "outputs": [
    {
     "data": {
      "text/plain": [
       "-1"
      ]
     },
     "execution_count": 31,
     "metadata": {},
     "output_type": "execute_result"
    }
   ],
   "source": [
    "string.find('abc')"
   ]
  },
  {
   "cell_type": "code",
   "execution_count": null,
   "id": "31ce1e2d",
   "metadata": {},
   "outputs": [],
   "source": []
  },
  {
   "cell_type": "markdown",
   "id": "f7474df9",
   "metadata": {},
   "source": [
    "### split()\n",
    "- it returns list"
   ]
  },
  {
   "cell_type": "code",
   "execution_count": 39,
   "id": "85ed4ab8",
   "metadata": {},
   "outputs": [],
   "source": [
    "string = 'PARAM is a series of Indian supercomputers designed and assembled by the Centre for Development of Advanced Computing (C-DAC) in Pune.'"
   ]
  },
  {
   "cell_type": "code",
   "execution_count": 41,
   "id": "8dad04de",
   "metadata": {},
   "outputs": [
    {
     "name": "stdout",
     "output_type": "stream",
     "text": [
      "['PARAM', 'is', 'a', 'series', 'of', 'Indian', 'supercomputers', 'designed', 'and', 'assembled', 'by', 'the', 'Centre', 'for', 'Development', 'of', 'Advanced', 'Computing', '(C-DAC)', 'in', 'Pune.']\n"
     ]
    }
   ],
   "source": [
    "print(string.split())"
   ]
  },
  {
   "cell_type": "code",
   "execution_count": 42,
   "id": "65479d74",
   "metadata": {},
   "outputs": [
    {
     "name": "stdout",
     "output_type": "stream",
     "text": [
      "['PARAM', 'is', 'a', 'series', 'of', 'Indian', 'supercomputers', 'designed', 'and', 'assembled', 'by', 'the', 'Centre', 'for', 'Development', 'of', 'Advanced', 'Computing', '(C-DAC)', 'in', 'Pune.']\n"
     ]
    }
   ],
   "source": [
    "print(string.split(' '))"
   ]
  },
  {
   "cell_type": "code",
   "execution_count": 43,
   "id": "89b39d0f",
   "metadata": {},
   "outputs": [
    {
     "name": "stdout",
     "output_type": "stream",
     "text": [
      "['PARAM is a series of ', ' supercomputers designed and assembled by the Centre for Development of Advanced Computing (C-DAC) in Pune.']\n"
     ]
    }
   ],
   "source": [
    "print(string.split('Indian'))"
   ]
  },
  {
   "cell_type": "code",
   "execution_count": 44,
   "id": "e558baa1",
   "metadata": {},
   "outputs": [
    {
     "data": {
      "text/plain": [
       "['This', 'is', 'my', 'class']"
      ]
     },
     "execution_count": 44,
     "metadata": {},
     "output_type": "execute_result"
    }
   ],
   "source": [
    "string = 'This is my class'\n",
    "string.split()"
   ]
  },
  {
   "cell_type": "code",
   "execution_count": 45,
   "id": "5694bd6e",
   "metadata": {},
   "outputs": [],
   "source": [
    "string = 'PARAM is a series of Indian supercomputers designed and assembled by the Centre for Development of Advanced Computing (C-DAC) in Pune.'"
   ]
  },
  {
   "cell_type": "code",
   "execution_count": 46,
   "id": "5e79cf83",
   "metadata": {},
   "outputs": [
    {
     "name": "stdout",
     "output_type": "stream",
     "text": [
      "['PARAM', 'is', 'a', 'series', 'of', 'Indian', 'supercomputers', 'designed', 'and', 'assembled', 'by', 'the', 'Centre', 'for', 'Development', 'of', 'Advanced', 'Computing', '(C-DAC)', 'in', 'Pune.']\n"
     ]
    }
   ],
   "source": [
    "string_list = string.split()\n",
    "print(string_list)"
   ]
  },
  {
   "cell_type": "code",
   "execution_count": 47,
   "id": "1f1de877",
   "metadata": {},
   "outputs": [
    {
     "name": "stdout",
     "output_type": "stream",
     "text": [
      "PARAM\n",
      "is\n",
      "a\n",
      "series\n",
      "of\n",
      "Indian\n",
      "supercomputers\n",
      "designed\n",
      "and\n",
      "assembled\n",
      "by\n",
      "the\n",
      "Centre\n",
      "for\n",
      "Development\n",
      "of\n",
      "Advanced\n",
      "Computing\n",
      "(C-DAC)\n",
      "in\n",
      "Pune.\n"
     ]
    }
   ],
   "source": [
    "string_list = string.split()\n",
    "for word in string_list:\n",
    "    print(word)"
   ]
  },
  {
   "cell_type": "code",
   "execution_count": 49,
   "id": "526169f3",
   "metadata": {},
   "outputs": [
    {
     "name": "stdout",
     "output_type": "stream",
     "text": [
      "\"PARAM\" is repeated 1 times.\n",
      "\"is\" is repeated 1 times.\n",
      "\"a\" is repeated 5 times.\n",
      "\"series\" is repeated 1 times.\n",
      "\"of\" is repeated 2 times.\n",
      "\"Indian\" is repeated 1 times.\n",
      "\"supercomputers\" is repeated 1 times.\n",
      "\"designed\" is repeated 1 times.\n",
      "\"and\" is repeated 1 times.\n",
      "\"assembled\" is repeated 1 times.\n",
      "\"by\" is repeated 1 times.\n",
      "\"the\" is repeated 1 times.\n",
      "\"Centre\" is repeated 1 times.\n",
      "\"for\" is repeated 1 times.\n",
      "\"Development\" is repeated 1 times.\n",
      "\"of\" is repeated 2 times.\n",
      "\"Advanced\" is repeated 1 times.\n",
      "\"Computing\" is repeated 1 times.\n",
      "\"(C-DAC)\" is repeated 1 times.\n",
      "\"in\" is repeated 2 times.\n",
      "\"Pune.\" is repeated 1 times.\n"
     ]
    }
   ],
   "source": [
    "string_list = string.split()\n",
    "for word in string_list:\n",
    "    print(f'\"{word}\" is repeated {string.count(word)} times.')"
   ]
  },
  {
   "cell_type": "code",
   "execution_count": 50,
   "id": "fe13abd7",
   "metadata": {},
   "outputs": [
    {
     "name": "stdout",
     "output_type": "stream",
     "text": [
      "\"PARAM\" is repeated 1 times.\n",
      "\"is\" is repeated 1 times.\n",
      "\"a\" is repeated 1 times.\n",
      "\"series\" is repeated 1 times.\n",
      "\"of\" is repeated 2 times.\n",
      "\"Indian\" is repeated 1 times.\n",
      "\"supercomputers\" is repeated 1 times.\n",
      "\"designed\" is repeated 1 times.\n",
      "\"and\" is repeated 1 times.\n",
      "\"assembled\" is repeated 1 times.\n",
      "\"by\" is repeated 1 times.\n",
      "\"the\" is repeated 1 times.\n",
      "\"Centre\" is repeated 1 times.\n",
      "\"for\" is repeated 1 times.\n",
      "\"Development\" is repeated 1 times.\n",
      "\"of\" is repeated 2 times.\n",
      "\"Advanced\" is repeated 1 times.\n",
      "\"Computing\" is repeated 1 times.\n",
      "\"(C-DAC)\" is repeated 1 times.\n",
      "\"in\" is repeated 1 times.\n",
      "\"Pune.\" is repeated 1 times.\n"
     ]
    }
   ],
   "source": [
    "string_list = string.split()\n",
    "for word in string_list:\n",
    "    print(f'\"{word}\" is repeated {string_list.count(word)} times.')"
   ]
  },
  {
   "cell_type": "code",
   "execution_count": null,
   "id": "577329c4",
   "metadata": {},
   "outputs": [],
   "source": []
  },
  {
   "cell_type": "markdown",
   "id": "75c66b03",
   "metadata": {},
   "source": [
    "### join()"
   ]
  },
  {
   "cell_type": "code",
   "execution_count": 52,
   "id": "84eaaecd",
   "metadata": {},
   "outputs": [
    {
     "data": {
      "text/plain": [
       "'Kamakhya---Dispur---Dibrugarh---Rangiya'"
      ]
     },
     "execution_count": 52,
     "metadata": {},
     "output_type": "execute_result"
    }
   ],
   "source": [
    "cities = ['Kamakhya', 'Dispur', 'Dibrugarh', 'Rangiya']\n",
    "'---'.join(cities)"
   ]
  },
  {
   "cell_type": "code",
   "execution_count": 53,
   "id": "29703a7d",
   "metadata": {},
   "outputs": [
    {
     "data": {
      "text/plain": [
       "'Kamakhya Dispur Dibrugarh Rangiya'"
      ]
     },
     "execution_count": 53,
     "metadata": {},
     "output_type": "execute_result"
    }
   ],
   "source": [
    "' '.join(cities)"
   ]
  },
  {
   "cell_type": "code",
   "execution_count": 54,
   "id": "88ca60b8",
   "metadata": {},
   "outputs": [
    {
     "data": {
      "text/plain": [
       "'Kamakhya,Dispur,Dibrugarh,Rangiya'"
      ]
     },
     "execution_count": 54,
     "metadata": {},
     "output_type": "execute_result"
    }
   ],
   "source": [
    "','.join(cities)"
   ]
  },
  {
   "cell_type": "code",
   "execution_count": 55,
   "id": "2e6bbc4a",
   "metadata": {},
   "outputs": [
    {
     "data": {
      "text/plain": [
       "'Kamakhya, Dispur, Dibrugarh, Rangiya'"
      ]
     },
     "execution_count": 55,
     "metadata": {},
     "output_type": "execute_result"
    }
   ],
   "source": [
    "', '.join(cities)"
   ]
  },
  {
   "cell_type": "code",
   "execution_count": 56,
   "id": "4f859844",
   "metadata": {},
   "outputs": [
    {
     "data": {
      "text/plain": [
       "['G', 'u', 'w', 'a', 'h', 'a', 't', 'i']"
      ]
     },
     "execution_count": 56,
     "metadata": {},
     "output_type": "execute_result"
    }
   ],
   "source": [
    "string = 'Guwahati'\n",
    "list(string)"
   ]
  },
  {
   "cell_type": "code",
   "execution_count": 58,
   "id": "4ddeb531",
   "metadata": {},
   "outputs": [
    {
     "name": "stdout",
     "output_type": "stream",
     "text": [
      "['G', 'u', 'w', 'a', 'h', 'a', 't', 'i', ' ', 'i', 's', ' ', 'm', 'y', ' ', 'f', 'a', 'v', ' ', 'c', 'i', 't', 'y']\n"
     ]
    }
   ],
   "source": [
    "string = 'Guwahati is my fav city'\n",
    "print(list(string))"
   ]
  },
  {
   "cell_type": "code",
   "execution_count": 59,
   "id": "335e18fc",
   "metadata": {},
   "outputs": [
    {
     "data": {
      "text/plain": [
       "'Guwahati is my fav city'"
      ]
     },
     "execution_count": 59,
     "metadata": {},
     "output_type": "execute_result"
    }
   ],
   "source": [
    "string = 'Guwahati is my fav city'\n",
    "''.join(list(string))"
   ]
  },
  {
   "cell_type": "code",
   "execution_count": 60,
   "id": "0c8f4746",
   "metadata": {},
   "outputs": [
    {
     "data": {
      "text/plain": [
       "'G*u*w*a*h*a*t*i* *i*s* *m*y* *f*a*v* *c*i*t*y'"
      ]
     },
     "execution_count": 60,
     "metadata": {},
     "output_type": "execute_result"
    }
   ],
   "source": [
    "string = 'Guwahati is my fav city'\n",
    "'*'.join(list(string))"
   ]
  },
  {
   "cell_type": "code",
   "execution_count": null,
   "id": "7460f73e",
   "metadata": {},
   "outputs": [],
   "source": []
  },
  {
   "cell_type": "markdown",
   "id": "d8b71202",
   "metadata": {},
   "source": [
    "### endswith()"
   ]
  },
  {
   "cell_type": "code",
   "execution_count": 61,
   "id": "dd045e62",
   "metadata": {},
   "outputs": [
    {
     "data": {
      "text/plain": [
       "True"
      ]
     },
     "execution_count": 61,
     "metadata": {},
     "output_type": "execute_result"
    }
   ],
   "source": [
    "string = 'Param'\n",
    "string.endswith('m')"
   ]
  },
  {
   "cell_type": "code",
   "execution_count": 62,
   "id": "c560647b",
   "metadata": {},
   "outputs": [
    {
     "data": {
      "text/plain": [
       "False"
      ]
     },
     "execution_count": 62,
     "metadata": {},
     "output_type": "execute_result"
    }
   ],
   "source": [
    "string = 'Param'\n",
    "string.endswith('y')"
   ]
  },
  {
   "cell_type": "code",
   "execution_count": 63,
   "id": "061d7528",
   "metadata": {},
   "outputs": [
    {
     "data": {
      "text/plain": [
       "True"
      ]
     },
     "execution_count": 63,
     "metadata": {},
     "output_type": "execute_result"
    }
   ],
   "source": [
    "string = 'Param'\n",
    "string.endswith('ram')"
   ]
  },
  {
   "cell_type": "code",
   "execution_count": 67,
   "id": "9a533863",
   "metadata": {},
   "outputs": [
    {
     "data": {
      "text/plain": [
       "['identation.py',\n",
       " 'commandline.py',\n",
       " '.git',\n",
       " 'Day - 03 Operators & for loop',\n",
       " 'Day - 02 Data types and conditionals',\n",
       " 'Assignments',\n",
       " 'Day - 09 String Functions',\n",
       " 'Day - 05 for-while',\n",
       " 'Day - 08 Session - 1 List Comprehension & Tuple',\n",
       " 'Day - 06 List',\n",
       " 'Day - 04 for - while',\n",
       " '.commandline.py.swp',\n",
       " 'Day - 01 Introduction',\n",
       " 'Tutorial jupyter notebook.ipynb',\n",
       " 'Day - 07 List Functions',\n",
       " '.ipynb_checkpoints',\n",
       " 'Day - 08 Session - 2 String',\n",
       " 'syllabus.txt',\n",
       " 'first.py']"
      ]
     },
     "execution_count": 67,
     "metadata": {},
     "output_type": "execute_result"
    }
   ],
   "source": [
    "import os\n",
    "path = '/home/manoj/cdac/sil_cbp_py'\n",
    "os.listdir(path)"
   ]
  },
  {
   "cell_type": "code",
   "execution_count": 68,
   "id": "cb9946d7",
   "metadata": {},
   "outputs": [
    {
     "data": {
      "text/plain": [
       "['identation.py',\n",
       " 'commandline.py',\n",
       " '.git',\n",
       " 'Day - 03 Operators & for loop',\n",
       " 'Day - 02 Data types and conditionals',\n",
       " 'Assignments',\n",
       " 'Day - 09 String Functions',\n",
       " 'Day - 05 for-while',\n",
       " 'Day - 08 Session - 1 List Comprehension & Tuple',\n",
       " 'Day - 06 List',\n",
       " 'Day - 04 for - while',\n",
       " '.commandline.py.swp',\n",
       " 'Day - 01 Introduction',\n",
       " 'Tutorial jupyter notebook.ipynb',\n",
       " 'Day - 07 List Functions',\n",
       " '.ipynb_checkpoints',\n",
       " 'Day - 08 Session - 2 String',\n",
       " 'syllabus.txt',\n",
       " 'first.py']"
      ]
     },
     "execution_count": 68,
     "metadata": {},
     "output_type": "execute_result"
    }
   ],
   "source": [
    "import os\n",
    "path = '/home/manoj/cdac/sil_cbp_py'\n",
    "list_dir = os.listdir(path)\n",
    "list_dir"
   ]
  },
  {
   "cell_type": "code",
   "execution_count": 69,
   "id": "d65b0ab6",
   "metadata": {},
   "outputs": [
    {
     "name": "stdout",
     "output_type": "stream",
     "text": [
      "syllabus.txt\n"
     ]
    }
   ],
   "source": [
    "import os\n",
    "path = '/home/manoj/cdac/sil_cbp_py'\n",
    "list_dir = os.listdir(path)\n",
    "for name in list_dir:\n",
    "    if name.endswith('.txt'):\n",
    "        print(name)"
   ]
  },
  {
   "cell_type": "code",
   "execution_count": null,
   "id": "1ca2095f",
   "metadata": {},
   "outputs": [],
   "source": [
    "import os\n",
    "path = '/home/manoj/cdac/sil_cbp_py'\n",
    "list_dir = os.listdir(path)\n",
    "for name in list_dir:\n",
    "    if name.endswith('.txt'):\n",
    "        print(name)"
   ]
  },
  {
   "cell_type": "code",
   "execution_count": 70,
   "id": "160cca1b",
   "metadata": {},
   "outputs": [
    {
     "name": "stdout",
     "output_type": "stream",
     "text": [
      "bfs_serial\n",
      "src\n",
      ".git\n",
      "queue_pointers.c\n",
      "study material\n",
      "count_components\n",
      "graph_gen.py\n",
      "count_components.cpp\n",
      "bfs_parallel.c\n",
      "graph_gen_in_C\n",
      "visitArraybfs_serial_using_Q_pointers.c\n",
      "input\n",
      "test.c\n",
      "graph_gen.c\n",
      "cmd_line_arg.c\n",
      "queue_pointers\n",
      "bfs_serial.c\n",
      "modified_bfs_dyn_que.c\n",
      ".ipynb_checkpoints\n",
      "test.py\n",
      "Erdos Renyl Model (for generating Random Graphs).ipynb\n",
      "a.out\n",
      "bfs_serial_using_Q_pointers_2.c\n",
      "Makefile_backup\n",
      "try\n",
      "graph_gen\n",
      "bfs_serial_using_Q_pointers_2\n"
     ]
    }
   ],
   "source": [
    "import os\n",
    "path = '/home/manoj/project'\n",
    "list_dir = os.listdir(path)\n",
    "for name in list_dir:\n",
    "#     if name.endswith('.txt'):\n",
    "        print(name)\n"
   ]
  },
  {
   "cell_type": "code",
   "execution_count": 71,
   "id": "3a91ec65",
   "metadata": {},
   "outputs": [
    {
     "name": "stdout",
     "output_type": "stream",
     "text": [
      "queue_pointers.c\n",
      "bfs_parallel.c\n",
      "visitArraybfs_serial_using_Q_pointers.c\n",
      "test.c\n",
      "graph_gen.c\n",
      "cmd_line_arg.c\n",
      "bfs_serial.c\n",
      "modified_bfs_dyn_que.c\n",
      "bfs_serial_using_Q_pointers_2.c\n"
     ]
    }
   ],
   "source": [
    "import os\n",
    "path = '/home/manoj/project'\n",
    "list_dir = os.listdir(path)\n",
    "for name in list_dir:\n",
    "    if name.endswith('.c'):\n",
    "        print(name)\n"
   ]
  },
  {
   "cell_type": "code",
   "execution_count": 72,
   "id": "7b442c13",
   "metadata": {},
   "outputs": [
    {
     "name": "stdout",
     "output_type": "stream",
     "text": [
      "Erdos Renyl Model (for generating Random Graphs).ipynb\n"
     ]
    }
   ],
   "source": [
    "import os\n",
    "path = '/home/manoj/project'\n",
    "list_dir = os.listdir(path)\n",
    "for name in list_dir:\n",
    "    if name.endswith('.ipynb'):\n",
    "        print(name)\n"
   ]
  },
  {
   "cell_type": "code",
   "execution_count": null,
   "id": "ed3e1575",
   "metadata": {},
   "outputs": [],
   "source": []
  }
 ],
 "metadata": {
  "kernelspec": {
   "display_name": "Python 3 (ipykernel)",
   "language": "python",
   "name": "python3"
  },
  "language_info": {
   "codemirror_mode": {
    "name": "ipython",
    "version": 3
   },
   "file_extension": ".py",
   "mimetype": "text/x-python",
   "name": "python",
   "nbconvert_exporter": "python",
   "pygments_lexer": "ipython3",
   "version": "3.10.12"
  }
 },
 "nbformat": 4,
 "nbformat_minor": 5
}
