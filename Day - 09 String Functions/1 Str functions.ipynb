{
 "cells": [
  {
   "cell_type": "markdown",
   "id": "9a421c1e",
   "metadata": {},
   "source": [
    "## string functions"
   ]
  },
  {
   "cell_type": "markdown",
   "id": "07e0da5d",
   "metadata": {},
   "source": [
    "### 5. lstrip()"
   ]
  },
  {
   "cell_type": "code",
   "execution_count": 3,
   "id": "83793347",
   "metadata": {},
   "outputs": [
    {
     "name": "stdout",
     "output_type": "stream",
     "text": [
      "       Param Supercomputer\n"
     ]
    }
   ],
   "source": [
    "string = '       Param Supercomputer'\n",
    "print(string)"
   ]
  },
  {
   "cell_type": "code",
   "execution_count": 4,
   "id": "ad9a8916",
   "metadata": {},
   "outputs": [
    {
     "data": {
      "text/plain": [
       "'Param Supercomputer'"
      ]
     },
     "execution_count": 4,
     "metadata": {},
     "output_type": "execute_result"
    }
   ],
   "source": [
    "string1 = string.lstrip()\n",
    "string1"
   ]
  },
  {
   "cell_type": "code",
   "execution_count": 6,
   "id": "bf1e25e7",
   "metadata": {},
   "outputs": [
    {
     "data": {
      "text/plain": [
       "'Param Supercomputer          '"
      ]
     },
     "execution_count": 6,
     "metadata": {},
     "output_type": "execute_result"
    }
   ],
   "source": [
    "string = '       Param Supercomputer          '\n",
    "string2 = string.lstrip()\n",
    "string2"
   ]
  },
  {
   "cell_type": "markdown",
   "id": "4c8b7909",
   "metadata": {},
   "source": [
    "### 6. rstrip()"
   ]
  },
  {
   "cell_type": "code",
   "execution_count": 7,
   "id": "a6701ac5",
   "metadata": {},
   "outputs": [
    {
     "data": {
      "text/plain": [
       "'       Param Supercomputer'"
      ]
     },
     "execution_count": 7,
     "metadata": {},
     "output_type": "execute_result"
    }
   ],
   "source": [
    "string = '       Param Supercomputer          '\n",
    "string.rstrip()"
   ]
  },
  {
   "cell_type": "markdown",
   "id": "c7294229",
   "metadata": {},
   "source": [
    "### 7. strip()"
   ]
  },
  {
   "cell_type": "code",
   "execution_count": 9,
   "id": "2a28ce6c",
   "metadata": {},
   "outputs": [
    {
     "data": {
      "text/plain": [
       "'Param Supercomputer'"
      ]
     },
     "execution_count": 9,
     "metadata": {},
     "output_type": "execute_result"
    }
   ],
   "source": [
    "string = '       Param Supercomputer          '\n",
    "string.strip()"
   ]
  },
  {
   "cell_type": "code",
   "execution_count": null,
   "id": "cd1a121e",
   "metadata": {},
   "outputs": [],
   "source": []
  },
  {
   "cell_type": "markdown",
   "id": "7debe7d0",
   "metadata": {},
   "source": [
    "### 8. swapcase()"
   ]
  },
  {
   "cell_type": "code",
   "execution_count": 10,
   "id": "478e07e5",
   "metadata": {},
   "outputs": [
    {
     "data": {
      "text/plain": [
       "'tHIS iS mY cLASS'"
      ]
     },
     "execution_count": 10,
     "metadata": {},
     "output_type": "execute_result"
    }
   ],
   "source": [
    "'This Is My Class'.swapcase()"
   ]
  },
  {
   "cell_type": "code",
   "execution_count": 11,
   "id": "c38aa0be",
   "metadata": {},
   "outputs": [
    {
     "data": {
      "text/plain": [
       "'This Is My Class'"
      ]
     },
     "execution_count": 11,
     "metadata": {},
     "output_type": "execute_result"
    }
   ],
   "source": [
    "'this is my class'.title()"
   ]
  },
  {
   "cell_type": "code",
   "execution_count": 12,
   "id": "2e4483d5",
   "metadata": {},
   "outputs": [
    {
     "data": {
      "text/plain": [
       "'tHIS iS mY cLASS'"
      ]
     },
     "execution_count": 12,
     "metadata": {},
     "output_type": "execute_result"
    }
   ],
   "source": [
    "'this is my class'.title().swapcase()"
   ]
  },
  {
   "cell_type": "code",
   "execution_count": 14,
   "id": "69d2ac20",
   "metadata": {},
   "outputs": [
    {
     "data": {
      "text/plain": [
       "'This Is My Class'"
      ]
     },
     "execution_count": 14,
     "metadata": {},
     "output_type": "execute_result"
    }
   ],
   "source": [
    "string = 'this is my class'\n",
    "string1 = string.title()\n",
    "string1"
   ]
  },
  {
   "cell_type": "code",
   "execution_count": 16,
   "id": "7ffbf749",
   "metadata": {},
   "outputs": [
    {
     "data": {
      "text/plain": [
       "'tHIS iS mY cLASS'"
      ]
     },
     "execution_count": 16,
     "metadata": {},
     "output_type": "execute_result"
    }
   ],
   "source": [
    "string = 'this is my class'\n",
    "string1 = string.title()\n",
    "string2 = string1.swapcase()\n",
    "string2"
   ]
  },
  {
   "cell_type": "markdown",
   "id": "c02197c6",
   "metadata": {},
   "source": [
    "### 9. replace()"
   ]
  },
  {
   "cell_type": "code",
   "execution_count": 17,
   "id": "c7b331ad",
   "metadata": {},
   "outputs": [],
   "source": [
    "s = 'PARAM is a series of Indian supercomputers designed and assembled by the Centre for Development of Advanced Computing (C-DAC) in Pune.'"
   ]
  },
  {
   "cell_type": "code",
   "execution_count": 18,
   "id": "2fc63cc2",
   "metadata": {},
   "outputs": [
    {
     "data": {
      "text/plain": [
       "'HPC_Course is a series of Indian supercomputers designed and assembled by the Centre for Development of Advanced Computing (C-DAC) in Pune.'"
      ]
     },
     "execution_count": 18,
     "metadata": {},
     "output_type": "execute_result"
    }
   ],
   "source": [
    "s.replace('PARAM', 'HPC_Course')"
   ]
  },
  {
   "cell_type": "code",
   "execution_count": 19,
   "id": "9dcca835",
   "metadata": {},
   "outputs": [
    {
     "data": {
      "text/plain": [
       "'PARAM is a series of Indian supercomputers designed and assembled by the Centre for Development of Advanced Computing (C-DAC) in Pune.'"
      ]
     },
     "execution_count": 19,
     "metadata": {},
     "output_type": "execute_result"
    }
   ],
   "source": [
    "s.replace('param', 'HPC_Course')"
   ]
  },
  {
   "cell_type": "code",
   "execution_count": null,
   "id": "ea4c61ca",
   "metadata": {},
   "outputs": [],
   "source": []
  },
  {
   "cell_type": "markdown",
   "id": "f5b0c5a2",
   "metadata": {},
   "source": [
    "### 10. count()"
   ]
  },
  {
   "cell_type": "code",
   "execution_count": 22,
   "id": "92e9030a",
   "metadata": {},
   "outputs": [
    {
     "name": "stdout",
     "output_type": "stream",
     "text": [
      "C-DAC was created in November 1987, originally as the Centre for Development of Advanced Computing Technology (C-DACT). This was in response to issues purchasing supercomputers from foreign sources. The Indian Government decided to try and develop indigenous computing technology.\n"
     ]
    },
    {
     "data": {
      "text/plain": [
       "2"
      ]
     },
     "execution_count": 22,
     "metadata": {},
     "output_type": "execute_result"
    }
   ],
   "source": [
    "string = 'C-DAC was created in November 1987, originally as the Centre for Development of Advanced Computing Technology (C-DACT). This was in response to issues purchasing supercomputers from foreign sources. The Indian Government decided to try and develop indigenous computing technology.'\n",
    "print(string)\n",
    "string.count('is')"
   ]
  },
  {
   "cell_type": "code",
   "execution_count": 23,
   "id": "29514a30",
   "metadata": {},
   "outputs": [
    {
     "data": {
      "text/plain": [
       "1"
      ]
     },
     "execution_count": 23,
     "metadata": {},
     "output_type": "execute_result"
    }
   ],
   "source": [
    "string.count('of')"
   ]
  },
  {
   "cell_type": "code",
   "execution_count": null,
   "id": "bb2a7fdc",
   "metadata": {},
   "outputs": [],
   "source": []
  },
  {
   "cell_type": "markdown",
   "id": "34be9973",
   "metadata": {},
   "source": [
    "### 11. index()\n",
    " - first occurence of string"
   ]
  },
  {
   "cell_type": "code",
   "execution_count": 24,
   "id": "46e897bd",
   "metadata": {},
   "outputs": [],
   "source": [
    "string = 'Param Supercomputer'"
   ]
  },
  {
   "cell_type": "code",
   "execution_count": 27,
   "id": "7d1849ec",
   "metadata": {},
   "outputs": [
    {
     "data": {
      "text/plain": [
       "6"
      ]
     },
     "execution_count": 27,
     "metadata": {},
     "output_type": "execute_result"
    }
   ],
   "source": [
    "string.index('S')"
   ]
  },
  {
   "cell_type": "code",
   "execution_count": 26,
   "id": "a6da6ff9",
   "metadata": {},
   "outputs": [
    {
     "data": {
      "text/plain": [
       "6"
      ]
     },
     "execution_count": 26,
     "metadata": {},
     "output_type": "execute_result"
    }
   ],
   "source": [
    "string.index('Super')"
   ]
  },
  {
   "cell_type": "code",
   "execution_count": 28,
   "id": "47fb4ecd",
   "metadata": {},
   "outputs": [
    {
     "data": {
      "text/plain": [
       "5"
      ]
     },
     "execution_count": 28,
     "metadata": {},
     "output_type": "execute_result"
    }
   ],
   "source": [
    "string.index(' ')"
   ]
  },
  {
   "cell_type": "code",
   "execution_count": 29,
   "id": "4bd9e061",
   "metadata": {},
   "outputs": [
    {
     "ename": "ValueError",
     "evalue": "substring not found",
     "output_type": "error",
     "traceback": [
      "\u001b[0;31m---------------------------------------------------------------------------\u001b[0m",
      "\u001b[0;31mValueError\u001b[0m                                Traceback (most recent call last)",
      "\u001b[0;32m/tmp/ipykernel_60571/3761272987.py\u001b[0m in \u001b[0;36m<module>\u001b[0;34m\u001b[0m\n\u001b[0;32m----> 1\u001b[0;31m \u001b[0mstring\u001b[0m\u001b[0;34m.\u001b[0m\u001b[0mindex\u001b[0m\u001b[0;34m(\u001b[0m\u001b[0;34m'Z'\u001b[0m\u001b[0;34m)\u001b[0m\u001b[0;34m\u001b[0m\u001b[0;34m\u001b[0m\u001b[0m\n\u001b[0m",
      "\u001b[0;31mValueError\u001b[0m: substring not found"
     ]
    }
   ],
   "source": [
    "string.index('Z')"
   ]
  },
  {
   "cell_type": "code",
   "execution_count": null,
   "id": "5ff8b630",
   "metadata": {},
   "outputs": [],
   "source": []
  },
  {
   "cell_type": "markdown",
   "id": "c48a3e1a",
   "metadata": {},
   "source": [
    "### 12. find()"
   ]
  },
  {
   "cell_type": "code",
   "execution_count": 32,
   "id": "462da8ce",
   "metadata": {},
   "outputs": [
    {
     "data": {
      "text/plain": [
       "6"
      ]
     },
     "execution_count": 32,
     "metadata": {},
     "output_type": "execute_result"
    }
   ],
   "source": [
    "string.find('Super')"
   ]
  },
  {
   "cell_type": "code",
   "execution_count": 31,
   "id": "208ffa91",
   "metadata": {},
   "outputs": [
    {
     "data": {
      "text/plain": [
       "-1"
      ]
     },
     "execution_count": 31,
     "metadata": {},
     "output_type": "execute_result"
    }
   ],
   "source": [
    "string.find('abc')"
   ]
  },
  {
   "cell_type": "code",
   "execution_count": null,
   "id": "0854f7d7",
   "metadata": {},
   "outputs": [],
   "source": []
  },
  {
   "cell_type": "markdown",
   "id": "1a900320",
   "metadata": {},
   "source": [
    "### 13. split()\n",
    "- it returns list"
   ]
  },
  {
   "cell_type": "code",
   "execution_count": 39,
   "id": "e1360d28",
   "metadata": {},
   "outputs": [],
   "source": [
    "string = 'PARAM is a series of Indian supercomputers designed and assembled by the Centre for Development of Advanced Computing (C-DAC) in Pune.'"
   ]
  },
  {
   "cell_type": "code",
   "execution_count": 41,
   "id": "7407c257",
   "metadata": {},
   "outputs": [
    {
     "name": "stdout",
     "output_type": "stream",
     "text": [
      "['PARAM', 'is', 'a', 'series', 'of', 'Indian', 'supercomputers', 'designed', 'and', 'assembled', 'by', 'the', 'Centre', 'for', 'Development', 'of', 'Advanced', 'Computing', '(C-DAC)', 'in', 'Pune.']\n"
     ]
    }
   ],
   "source": [
    "print(string.split())"
   ]
  },
  {
   "cell_type": "code",
   "execution_count": 42,
   "id": "b53f6fca",
   "metadata": {},
   "outputs": [
    {
     "name": "stdout",
     "output_type": "stream",
     "text": [
      "['PARAM', 'is', 'a', 'series', 'of', 'Indian', 'supercomputers', 'designed', 'and', 'assembled', 'by', 'the', 'Centre', 'for', 'Development', 'of', 'Advanced', 'Computing', '(C-DAC)', 'in', 'Pune.']\n"
     ]
    }
   ],
   "source": [
    "print(string.split(' '))"
   ]
  },
  {
   "cell_type": "code",
   "execution_count": 43,
   "id": "d25665a5",
   "metadata": {},
   "outputs": [
    {
     "name": "stdout",
     "output_type": "stream",
     "text": [
      "['PARAM is a series of ', ' supercomputers designed and assembled by the Centre for Development of Advanced Computing (C-DAC) in Pune.']\n"
     ]
    }
   ],
   "source": [
    "print(string.split('Indian'))"
   ]
  },
  {
   "cell_type": "code",
   "execution_count": 44,
   "id": "7e354f4f",
   "metadata": {},
   "outputs": [
    {
     "data": {
      "text/plain": [
       "['This', 'is', 'my', 'class']"
      ]
     },
     "execution_count": 44,
     "metadata": {},
     "output_type": "execute_result"
    }
   ],
   "source": [
    "string = 'This is my class'\n",
    "string.split()"
   ]
  },
  {
   "cell_type": "code",
   "execution_count": 45,
   "id": "0957ab49",
   "metadata": {},
   "outputs": [],
   "source": [
    "string = 'PARAM is a series of Indian supercomputers designed and assembled by the Centre for Development of Advanced Computing (C-DAC) in Pune.'"
   ]
  },
  {
   "cell_type": "code",
   "execution_count": 46,
   "id": "f9c9ce54",
   "metadata": {},
   "outputs": [
    {
     "name": "stdout",
     "output_type": "stream",
     "text": [
      "['PARAM', 'is', 'a', 'series', 'of', 'Indian', 'supercomputers', 'designed', 'and', 'assembled', 'by', 'the', 'Centre', 'for', 'Development', 'of', 'Advanced', 'Computing', '(C-DAC)', 'in', 'Pune.']\n"
     ]
    }
   ],
   "source": [
    "string_list = string.split()\n",
    "print(string_list)"
   ]
  },
  {
   "cell_type": "code",
   "execution_count": 47,
   "id": "b8ff2ec3",
   "metadata": {},
   "outputs": [
    {
     "name": "stdout",
     "output_type": "stream",
     "text": [
      "PARAM\n",
      "is\n",
      "a\n",
      "series\n",
      "of\n",
      "Indian\n",
      "supercomputers\n",
      "designed\n",
      "and\n",
      "assembled\n",
      "by\n",
      "the\n",
      "Centre\n",
      "for\n",
      "Development\n",
      "of\n",
      "Advanced\n",
      "Computing\n",
      "(C-DAC)\n",
      "in\n",
      "Pune.\n"
     ]
    }
   ],
   "source": [
    "string_list = string.split()\n",
    "for word in string_list:\n",
    "    print(word)"
   ]
  },
  {
   "cell_type": "code",
   "execution_count": 49,
   "id": "fe9fbc82",
   "metadata": {},
   "outputs": [
    {
     "name": "stdout",
     "output_type": "stream",
     "text": [
      "\"PARAM\" is repeated 1 times.\n",
      "\"is\" is repeated 1 times.\n",
      "\"a\" is repeated 5 times.\n",
      "\"series\" is repeated 1 times.\n",
      "\"of\" is repeated 2 times.\n",
      "\"Indian\" is repeated 1 times.\n",
      "\"supercomputers\" is repeated 1 times.\n",
      "\"designed\" is repeated 1 times.\n",
      "\"and\" is repeated 1 times.\n",
      "\"assembled\" is repeated 1 times.\n",
      "\"by\" is repeated 1 times.\n",
      "\"the\" is repeated 1 times.\n",
      "\"Centre\" is repeated 1 times.\n",
      "\"for\" is repeated 1 times.\n",
      "\"Development\" is repeated 1 times.\n",
      "\"of\" is repeated 2 times.\n",
      "\"Advanced\" is repeated 1 times.\n",
      "\"Computing\" is repeated 1 times.\n",
      "\"(C-DAC)\" is repeated 1 times.\n",
      "\"in\" is repeated 2 times.\n",
      "\"Pune.\" is repeated 1 times.\n"
     ]
    }
   ],
   "source": [
    "string_list = string.split()\n",
    "for word in string_list:\n",
    "    print(f'\"{word}\" is repeated {string.count(word)} times.')"
   ]
  },
  {
   "cell_type": "code",
   "execution_count": 50,
   "id": "9822cb6c",
   "metadata": {},
   "outputs": [
    {
     "name": "stdout",
     "output_type": "stream",
     "text": [
      "\"PARAM\" is repeated 1 times.\n",
      "\"is\" is repeated 1 times.\n",
      "\"a\" is repeated 1 times.\n",
      "\"series\" is repeated 1 times.\n",
      "\"of\" is repeated 2 times.\n",
      "\"Indian\" is repeated 1 times.\n",
      "\"supercomputers\" is repeated 1 times.\n",
      "\"designed\" is repeated 1 times.\n",
      "\"and\" is repeated 1 times.\n",
      "\"assembled\" is repeated 1 times.\n",
      "\"by\" is repeated 1 times.\n",
      "\"the\" is repeated 1 times.\n",
      "\"Centre\" is repeated 1 times.\n",
      "\"for\" is repeated 1 times.\n",
      "\"Development\" is repeated 1 times.\n",
      "\"of\" is repeated 2 times.\n",
      "\"Advanced\" is repeated 1 times.\n",
      "\"Computing\" is repeated 1 times.\n",
      "\"(C-DAC)\" is repeated 1 times.\n",
      "\"in\" is repeated 1 times.\n",
      "\"Pune.\" is repeated 1 times.\n"
     ]
    }
   ],
   "source": [
    "string_list = string.split()\n",
    "for word in string_list:\n",
    "    print(f'\"{word}\" is repeated {string_list.count(word)} times.')"
   ]
  },
  {
   "cell_type": "code",
   "execution_count": null,
   "id": "7e65952f",
   "metadata": {},
   "outputs": [],
   "source": []
  },
  {
   "cell_type": "markdown",
   "id": "42ed1294",
   "metadata": {},
   "source": [
    "### 14. join()"
   ]
  },
  {
   "cell_type": "code",
   "execution_count": 52,
   "id": "302f2725",
   "metadata": {},
   "outputs": [
    {
     "data": {
      "text/plain": [
       "'Kamakhya---Dispur---Dibrugarh---Rangiya'"
      ]
     },
     "execution_count": 52,
     "metadata": {},
     "output_type": "execute_result"
    }
   ],
   "source": [
    "cities = ['Kamakhya', 'Dispur', 'Dibrugarh', 'Rangiya']\n",
    "'---'.join(cities)"
   ]
  },
  {
   "cell_type": "code",
   "execution_count": 53,
   "id": "57250e68",
   "metadata": {},
   "outputs": [
    {
     "data": {
      "text/plain": [
       "'Kamakhya Dispur Dibrugarh Rangiya'"
      ]
     },
     "execution_count": 53,
     "metadata": {},
     "output_type": "execute_result"
    }
   ],
   "source": [
    "' '.join(cities)"
   ]
  },
  {
   "cell_type": "code",
   "execution_count": 54,
   "id": "11a9c626",
   "metadata": {},
   "outputs": [
    {
     "data": {
      "text/plain": [
       "'Kamakhya,Dispur,Dibrugarh,Rangiya'"
      ]
     },
     "execution_count": 54,
     "metadata": {},
     "output_type": "execute_result"
    }
   ],
   "source": [
    "','.join(cities)"
   ]
  },
  {
   "cell_type": "code",
   "execution_count": 55,
   "id": "4d21d3e8",
   "metadata": {},
   "outputs": [
    {
     "data": {
      "text/plain": [
       "'Kamakhya, Dispur, Dibrugarh, Rangiya'"
      ]
     },
     "execution_count": 55,
     "metadata": {},
     "output_type": "execute_result"
    }
   ],
   "source": [
    "', '.join(cities)"
   ]
  },
  {
   "cell_type": "code",
   "execution_count": 56,
   "id": "efde6203",
   "metadata": {},
   "outputs": [
    {
     "data": {
      "text/plain": [
       "['G', 'u', 'w', 'a', 'h', 'a', 't', 'i']"
      ]
     },
     "execution_count": 56,
     "metadata": {},
     "output_type": "execute_result"
    }
   ],
   "source": [
    "string = 'Guwahati'\n",
    "list(string)"
   ]
  },
  {
   "cell_type": "code",
   "execution_count": 58,
   "id": "38a93a59",
   "metadata": {},
   "outputs": [
    {
     "name": "stdout",
     "output_type": "stream",
     "text": [
      "['G', 'u', 'w', 'a', 'h', 'a', 't', 'i', ' ', 'i', 's', ' ', 'm', 'y', ' ', 'f', 'a', 'v', ' ', 'c', 'i', 't', 'y']\n"
     ]
    }
   ],
   "source": [
    "string = 'Guwahati is my fav city'\n",
    "print(list(string))"
   ]
  },
  {
   "cell_type": "code",
   "execution_count": 59,
   "id": "b3726c61",
   "metadata": {},
   "outputs": [
    {
     "data": {
      "text/plain": [
       "'Guwahati is my fav city'"
      ]
     },
     "execution_count": 59,
     "metadata": {},
     "output_type": "execute_result"
    }
   ],
   "source": [
    "string = 'Guwahati is my fav city'\n",
    "''.join(list(string))"
   ]
  },
  {
   "cell_type": "code",
   "execution_count": 60,
   "id": "ba478cd9",
   "metadata": {},
   "outputs": [
    {
     "data": {
      "text/plain": [
       "'G*u*w*a*h*a*t*i* *i*s* *m*y* *f*a*v* *c*i*t*y'"
      ]
     },
     "execution_count": 60,
     "metadata": {},
     "output_type": "execute_result"
    }
   ],
   "source": [
    "string = 'Guwahati is my fav city'\n",
    "'*'.join(list(string))"
   ]
  },
  {
   "cell_type": "code",
   "execution_count": null,
   "id": "07d74bfa",
   "metadata": {},
   "outputs": [],
   "source": []
  },
  {
   "cell_type": "markdown",
   "id": "a66167fd",
   "metadata": {},
   "source": [
    "### 15. endswith()"
   ]
  },
  {
   "cell_type": "code",
   "execution_count": 61,
   "id": "dd045e62",
   "metadata": {},
   "outputs": [
    {
     "data": {
      "text/plain": [
       "True"
      ]
     },
     "execution_count": 61,
     "metadata": {},
     "output_type": "execute_result"
    }
   ],
   "source": [
    "string = 'Param'\n",
    "string.endswith('m')"
   ]
  },
  {
   "cell_type": "code",
   "execution_count": 62,
   "id": "c560647b",
   "metadata": {},
   "outputs": [
    {
     "data": {
      "text/plain": [
       "False"
      ]
     },
     "execution_count": 62,
     "metadata": {},
     "output_type": "execute_result"
    }
   ],
   "source": [
    "string = 'Param'\n",
    "string.endswith('y')"
   ]
  },
  {
   "cell_type": "code",
   "execution_count": 63,
   "id": "061d7528",
   "metadata": {},
   "outputs": [
    {
     "data": {
      "text/plain": [
       "True"
      ]
     },
     "execution_count": 63,
     "metadata": {},
     "output_type": "execute_result"
    }
   ],
   "source": [
    "string = 'Param'\n",
    "string.endswith('ram')"
   ]
  },
  {
   "cell_type": "code",
   "execution_count": 67,
   "id": "9a533863",
   "metadata": {},
   "outputs": [
    {
     "data": {
      "text/plain": [
       "['identation.py',\n",
       " 'commandline.py',\n",
       " '.git',\n",
       " 'Day - 03 Operators & for loop',\n",
       " 'Day - 02 Data types and conditionals',\n",
       " 'Assignments',\n",
       " 'Day - 09 String Functions',\n",
       " 'Day - 05 for-while',\n",
       " 'Day - 08 Session - 1 List Comprehension & Tuple',\n",
       " 'Day - 06 List',\n",
       " 'Day - 04 for - while',\n",
       " '.commandline.py.swp',\n",
       " 'Day - 01 Introduction',\n",
       " 'Tutorial jupyter notebook.ipynb',\n",
       " 'Day - 07 List Functions',\n",
       " '.ipynb_checkpoints',\n",
       " 'Day - 08 Session - 2 String',\n",
       " 'syllabus.txt',\n",
       " 'first.py']"
      ]
     },
     "execution_count": 67,
     "metadata": {},
     "output_type": "execute_result"
    }
   ],
   "source": [
    "import os\n",
    "path = '/home/manoj/cdac/sil_cbp_py'\n",
    "os.listdir(path)"
   ]
  },
  {
   "cell_type": "code",
   "execution_count": 68,
   "id": "cb9946d7",
   "metadata": {},
   "outputs": [
    {
     "data": {
      "text/plain": [
       "['identation.py',\n",
       " 'commandline.py',\n",
       " '.git',\n",
       " 'Day - 03 Operators & for loop',\n",
       " 'Day - 02 Data types and conditionals',\n",
       " 'Assignments',\n",
       " 'Day - 09 String Functions',\n",
       " 'Day - 05 for-while',\n",
       " 'Day - 08 Session - 1 List Comprehension & Tuple',\n",
       " 'Day - 06 List',\n",
       " 'Day - 04 for - while',\n",
       " '.commandline.py.swp',\n",
       " 'Day - 01 Introduction',\n",
       " 'Tutorial jupyter notebook.ipynb',\n",
       " 'Day - 07 List Functions',\n",
       " '.ipynb_checkpoints',\n",
       " 'Day - 08 Session - 2 String',\n",
       " 'syllabus.txt',\n",
       " 'first.py']"
      ]
     },
     "execution_count": 68,
     "metadata": {},
     "output_type": "execute_result"
    }
   ],
   "source": [
    "import os\n",
    "path = '/home/manoj/cdac/sil_cbp_py'\n",
    "list_dir = os.listdir(path)\n",
    "list_dir"
   ]
  },
  {
   "cell_type": "code",
   "execution_count": 69,
   "id": "d65b0ab6",
   "metadata": {},
   "outputs": [
    {
     "name": "stdout",
     "output_type": "stream",
     "text": [
      "syllabus.txt\n"
     ]
    }
   ],
   "source": [
    "import os\n",
    "path = '/home/manoj/cdac/sil_cbp_py'\n",
    "list_dir = os.listdir(path)\n",
    "for name in list_dir:\n",
    "    if name.endswith('.txt'):\n",
    "        print(name)"
   ]
  },
  {
   "cell_type": "code",
   "execution_count": null,
   "id": "1ca2095f",
   "metadata": {},
   "outputs": [],
   "source": [
    "import os\n",
    "path = '/home/manoj/cdac/sil_cbp_py'\n",
    "list_dir = os.listdir(path)\n",
    "for name in list_dir:\n",
    "    if name.endswith('.txt'):\n",
    "        print(name)"
   ]
  },
  {
   "cell_type": "code",
   "execution_count": 70,
   "id": "160cca1b",
   "metadata": {},
   "outputs": [
    {
     "name": "stdout",
     "output_type": "stream",
     "text": [
      "bfs_serial\n",
      "src\n",
      ".git\n",
      "queue_pointers.c\n",
      "study material\n",
      "count_components\n",
      "graph_gen.py\n",
      "count_components.cpp\n",
      "bfs_parallel.c\n",
      "graph_gen_in_C\n",
      "visitArraybfs_serial_using_Q_pointers.c\n",
      "input\n",
      "test.c\n",
      "graph_gen.c\n",
      "cmd_line_arg.c\n",
      "queue_pointers\n",
      "bfs_serial.c\n",
      "modified_bfs_dyn_que.c\n",
      ".ipynb_checkpoints\n",
      "test.py\n",
      "Erdos Renyl Model (for generating Random Graphs).ipynb\n",
      "a.out\n",
      "bfs_serial_using_Q_pointers_2.c\n",
      "Makefile_backup\n",
      "try\n",
      "graph_gen\n",
      "bfs_serial_using_Q_pointers_2\n"
     ]
    }
   ],
   "source": [
    "import os\n",
    "path = '/home/manoj/project'\n",
    "list_dir = os.listdir(path)\n",
    "for name in list_dir:\n",
    "#     if name.endswith('.txt'):\n",
    "        print(name)\n"
   ]
  },
  {
   "cell_type": "code",
   "execution_count": 71,
   "id": "3a91ec65",
   "metadata": {},
   "outputs": [
    {
     "name": "stdout",
     "output_type": "stream",
     "text": [
      "queue_pointers.c\n",
      "bfs_parallel.c\n",
      "visitArraybfs_serial_using_Q_pointers.c\n",
      "test.c\n",
      "graph_gen.c\n",
      "cmd_line_arg.c\n",
      "bfs_serial.c\n",
      "modified_bfs_dyn_que.c\n",
      "bfs_serial_using_Q_pointers_2.c\n"
     ]
    }
   ],
   "source": [
    "import os\n",
    "path = '/home/manoj/project'\n",
    "list_dir = os.listdir(path)\n",
    "for name in list_dir:\n",
    "    if name.endswith('.c'):\n",
    "        print(name)\n"
   ]
  },
  {
   "cell_type": "code",
   "execution_count": 72,
   "id": "7b442c13",
   "metadata": {},
   "outputs": [
    {
     "name": "stdout",
     "output_type": "stream",
     "text": [
      "Erdos Renyl Model (for generating Random Graphs).ipynb\n"
     ]
    }
   ],
   "source": [
    "import os\n",
    "path = '/home/manoj/project'\n",
    "list_dir = os.listdir(path)\n",
    "for name in list_dir:\n",
    "    if name.endswith('.ipynb'):\n",
    "        print(name)\n"
   ]
  },
  {
   "cell_type": "markdown",
   "id": "d0230c38",
   "metadata": {},
   "source": [
    "### 16. startswith()"
   ]
  },
  {
   "cell_type": "code",
   "execution_count": 76,
   "id": "ed3e1575",
   "metadata": {},
   "outputs": [
    {
     "data": {
      "text/plain": [
       "True"
      ]
     },
     "execution_count": 76,
     "metadata": {},
     "output_type": "execute_result"
    }
   ],
   "source": [
    "string = 'This is my class'\n",
    "string.startswith('T')"
   ]
  },
  {
   "cell_type": "code",
   "execution_count": 77,
   "id": "9ff544c6",
   "metadata": {},
   "outputs": [
    {
     "data": {
      "text/plain": [
       "True"
      ]
     },
     "execution_count": 77,
     "metadata": {},
     "output_type": "execute_result"
    }
   ],
   "source": [
    "string = 'This is my class'\n",
    "string.startswith('Th')"
   ]
  },
  {
   "cell_type": "code",
   "execution_count": null,
   "id": "1ae77a84",
   "metadata": {},
   "outputs": [],
   "source": [
    "string = 'This is my class'\n",
    "string.startswith('T')"
   ]
  },
  {
   "cell_type": "code",
   "execution_count": 78,
   "id": "d2ed47bc",
   "metadata": {},
   "outputs": [
    {
     "data": {
      "text/plain": [
       "True"
      ]
     },
     "execution_count": 78,
     "metadata": {},
     "output_type": "execute_result"
    }
   ],
   "source": [
    "string = 'This is my class'\n",
    "string.startswith('Thi')"
   ]
  },
  {
   "cell_type": "code",
   "execution_count": 79,
   "id": "6fef81ce",
   "metadata": {},
   "outputs": [
    {
     "data": {
      "text/plain": [
       "True"
      ]
     },
     "execution_count": 79,
     "metadata": {},
     "output_type": "execute_result"
    }
   ],
   "source": [
    "string = 'This is my class'\n",
    "string.startswith('This')"
   ]
  },
  {
   "cell_type": "code",
   "execution_count": 80,
   "id": "eb7826dc",
   "metadata": {},
   "outputs": [
    {
     "data": {
      "text/plain": [
       "False"
      ]
     },
     "execution_count": 80,
     "metadata": {},
     "output_type": "execute_result"
    }
   ],
   "source": [
    "string = 'This is my class'\n",
    "string.startswith('Tihi')"
   ]
  },
  {
   "cell_type": "code",
   "execution_count": 81,
   "id": "4064d53e",
   "metadata": {},
   "outputs": [
    {
     "data": {
      "text/plain": [
       "False"
      ]
     },
     "execution_count": 81,
     "metadata": {},
     "output_type": "execute_result"
    }
   ],
   "source": [
    "string = 'This is my class'\n",
    "string.startswith('is')"
   ]
  },
  {
   "cell_type": "code",
   "execution_count": null,
   "id": "1d663869",
   "metadata": {},
   "outputs": [],
   "source": []
  },
  {
   "cell_type": "markdown",
   "id": "4440ef39",
   "metadata": {},
   "source": [
    "### 17. isalnum()\n",
    "    - alphabets\n",
    "    - numbers"
   ]
  },
  {
   "cell_type": "code",
   "execution_count": 83,
   "id": "31e0f5c2",
   "metadata": {},
   "outputs": [],
   "source": [
    "string = 'Python123'"
   ]
  },
  {
   "cell_type": "code",
   "execution_count": 84,
   "id": "abd42865",
   "metadata": {},
   "outputs": [
    {
     "data": {
      "text/plain": [
       "True"
      ]
     },
     "execution_count": 84,
     "metadata": {},
     "output_type": "execute_result"
    }
   ],
   "source": [
    "string.isalnum()"
   ]
  },
  {
   "cell_type": "code",
   "execution_count": 86,
   "id": "39915d67",
   "metadata": {},
   "outputs": [
    {
     "data": {
      "text/plain": [
       "False"
      ]
     },
     "execution_count": 86,
     "metadata": {},
     "output_type": "execute_result"
    }
   ],
   "source": [
    "string = 'Python 123'\n",
    "string.isalnum()"
   ]
  },
  {
   "cell_type": "code",
   "execution_count": 87,
   "id": "ffdd5ba1",
   "metadata": {},
   "outputs": [
    {
     "data": {
      "text/plain": [
       "False"
      ]
     },
     "execution_count": 87,
     "metadata": {},
     "output_type": "execute_result"
    }
   ],
   "source": [
    "string = 'Python$123'\n",
    "string.isalnum()"
   ]
  },
  {
   "cell_type": "code",
   "execution_count": 88,
   "id": "235bc19e",
   "metadata": {},
   "outputs": [
    {
     "data": {
      "text/plain": [
       "True"
      ]
     },
     "execution_count": 88,
     "metadata": {},
     "output_type": "execute_result"
    }
   ],
   "source": [
    "string = '123'\n",
    "string.isalnum()"
   ]
  },
  {
   "cell_type": "code",
   "execution_count": 89,
   "id": "44b3aec4",
   "metadata": {},
   "outputs": [
    {
     "data": {
      "text/plain": [
       "True"
      ]
     },
     "execution_count": 89,
     "metadata": {},
     "output_type": "execute_result"
    }
   ],
   "source": [
    "string = 'Python'\n",
    "string.isalnum()"
   ]
  },
  {
   "cell_type": "code",
   "execution_count": 90,
   "id": "a2828637",
   "metadata": {},
   "outputs": [
    {
     "data": {
      "text/plain": [
       "False"
      ]
     },
     "execution_count": 90,
     "metadata": {},
     "output_type": "execute_result"
    }
   ],
   "source": [
    "string = ''\n",
    "string.isalnum()"
   ]
  },
  {
   "cell_type": "markdown",
   "id": "33126c64",
   "metadata": {},
   "source": [
    "### 18. isalpha()\n",
    "    - only alphabets"
   ]
  },
  {
   "cell_type": "code",
   "execution_count": 93,
   "id": "4311badf",
   "metadata": {},
   "outputs": [
    {
     "data": {
      "text/plain": [
       "True"
      ]
     },
     "execution_count": 93,
     "metadata": {},
     "output_type": "execute_result"
    }
   ],
   "source": [
    "string = 'Python'\n",
    "string.isalpha()"
   ]
  },
  {
   "cell_type": "code",
   "execution_count": 94,
   "id": "0bb7f83d",
   "metadata": {},
   "outputs": [
    {
     "data": {
      "text/plain": [
       "False"
      ]
     },
     "execution_count": 94,
     "metadata": {},
     "output_type": "execute_result"
    }
   ],
   "source": [
    "string = 'Python123'\n",
    "string.isalpha()"
   ]
  },
  {
   "cell_type": "code",
   "execution_count": 95,
   "id": "71f6a3c8",
   "metadata": {},
   "outputs": [
    {
     "data": {
      "text/plain": [
       "False"
      ]
     },
     "execution_count": 95,
     "metadata": {},
     "output_type": "execute_result"
    }
   ],
   "source": [
    "string = 'Python'\n",
    "string.isalnum()"
   ]
  },
  {
   "cell_type": "code",
   "execution_count": 97,
   "id": "15a95695",
   "metadata": {},
   "outputs": [
    {
     "data": {
      "text/plain": [
       "False"
      ]
     },
     "execution_count": 97,
     "metadata": {},
     "output_type": "execute_result"
    }
   ],
   "source": [
    "string = '12345'\n",
    "string.isalpha()"
   ]
  },
  {
   "cell_type": "markdown",
   "id": "a284027e",
   "metadata": {},
   "source": [
    "### 19. isdecimal()\n",
    "    - only digits"
   ]
  },
  {
   "cell_type": "code",
   "execution_count": 98,
   "id": "58e07d0d",
   "metadata": {},
   "outputs": [
    {
     "data": {
      "text/plain": [
       "False"
      ]
     },
     "execution_count": 98,
     "metadata": {},
     "output_type": "execute_result"
    }
   ],
   "source": [
    "string = 'Python123'\n",
    "string.isdecimal()"
   ]
  },
  {
   "cell_type": "code",
   "execution_count": 99,
   "id": "3e36b376",
   "metadata": {},
   "outputs": [
    {
     "data": {
      "text/plain": [
       "True"
      ]
     },
     "execution_count": 99,
     "metadata": {},
     "output_type": "execute_result"
    }
   ],
   "source": [
    "string = '123456'\n",
    "string.isdecimal()"
   ]
  },
  {
   "cell_type": "code",
   "execution_count": 100,
   "id": "0d12f302",
   "metadata": {},
   "outputs": [
    {
     "data": {
      "text/plain": [
       "False"
      ]
     },
     "execution_count": 100,
     "metadata": {},
     "output_type": "execute_result"
    }
   ],
   "source": [
    "string = '1 2 3 4 5 6'\n",
    "string.isdecimal()"
   ]
  },
  {
   "cell_type": "code",
   "execution_count": 101,
   "id": "e29f3b1a",
   "metadata": {},
   "outputs": [
    {
     "data": {
      "text/plain": [
       "False"
      ]
     },
     "execution_count": 101,
     "metadata": {},
     "output_type": "execute_result"
    }
   ],
   "source": [
    "string = '1, 2, 3, 4, 5, 6'\n",
    "string.isdecimal()"
   ]
  },
  {
   "cell_type": "markdown",
   "id": "bbac6c4f",
   "metadata": {},
   "source": [
    "### 20. isdigit()\n",
    "    - digits\n",
    "    - superscript\n",
    "    - subscript"
   ]
  },
  {
   "cell_type": "code",
   "execution_count": 102,
   "id": "0e18e451",
   "metadata": {},
   "outputs": [
    {
     "data": {
      "text/plain": [
       "True"
      ]
     },
     "execution_count": 102,
     "metadata": {},
     "output_type": "execute_result"
    }
   ],
   "source": [
    "string = '123456'\n",
    "string.isdigit()"
   ]
  },
  {
   "cell_type": "code",
   "execution_count": 103,
   "id": "b4bff174",
   "metadata": {},
   "outputs": [
    {
     "data": {
      "text/plain": [
       "False"
      ]
     },
     "execution_count": 103,
     "metadata": {},
     "output_type": "execute_result"
    }
   ],
   "source": [
    "string = '123a456'\n",
    "string.isdigit()"
   ]
  },
  {
   "cell_type": "code",
   "execution_count": 109,
   "id": "dd852377",
   "metadata": {},
   "outputs": [
    {
     "name": "stdout",
     "output_type": "stream",
     "text": [
      "1 True\n",
      "********************\n",
      "b False\n",
      "********************\n",
      "123 True\n",
      "********************\n",
      "² True\n",
      "********************\n",
      "³ True\n",
      "********************\n",
      "¹ True\n",
      "********************\n",
      "₀ True\n",
      "********************\n",
      "⅐ False\n",
      "********************\n",
      "₀ True\n",
      "********************\n",
      "⅑ False\n",
      "********************\n",
      "⅒ False\n",
      "********************\n",
      "⅓ False\n",
      "********************\n",
      "⅔ False\n",
      "********************\n",
      "₀ True\n",
      "********************\n"
     ]
    }
   ],
   "source": [
    "codes = ['1', 'b', '123',\n",
    "         '\\u00B2', '\\u00B3', '\\u00B9', '\\u2080', \n",
    "         '\\u2150', '\\u2080', '\\u2151', '\\u2152',\n",
    "         '\\u2153', '\\u2154', '\\u2080']\n",
    "for i in codes:\n",
    "    print(i, i.isdigit())\n",
    "    print('********************')"
   ]
  },
  {
   "cell_type": "code",
   "execution_count": null,
   "id": "328a4e33",
   "metadata": {},
   "outputs": [],
   "source": []
  },
  {
   "cell_type": "markdown",
   "id": "ff541ba2",
   "metadata": {},
   "source": [
    "### 21. isnumeric()\n",
    "    - digits\n",
    "    - superscript\n",
    "    - subscript\n",
    "    - vulgar fractions (⅑,⅓)"
   ]
  },
  {
   "cell_type": "code",
   "execution_count": 110,
   "id": "385557bf",
   "metadata": {},
   "outputs": [
    {
     "name": "stdout",
     "output_type": "stream",
     "text": [
      "1 True\n",
      "********************\n",
      "b False\n",
      "********************\n",
      "123 True\n",
      "********************\n",
      "² True\n",
      "********************\n",
      "³ True\n",
      "********************\n",
      "¹ True\n",
      "********************\n",
      "₀ True\n",
      "********************\n",
      "⅐ True\n",
      "********************\n",
      "₀ True\n",
      "********************\n",
      "⅑ True\n",
      "********************\n",
      "⅒ True\n",
      "********************\n",
      "⅓ True\n",
      "********************\n",
      "⅔ True\n",
      "********************\n",
      "₀ True\n",
      "********************\n"
     ]
    }
   ],
   "source": [
    "codes = ['1', 'b', '123',\n",
    "         '\\u00B2', '\\u00B3', '\\u00B9', '\\u2080', \n",
    "         '\\u2150', '\\u2080', '\\u2151', '\\u2152',\n",
    "         '\\u2153', '\\u2154', '\\u2080']\n",
    "for i in codes:\n",
    "    print(i, i.isnumeric())\n",
    "    print('********************')"
   ]
  },
  {
   "cell_type": "code",
   "execution_count": null,
   "id": "ce29c6e4",
   "metadata": {},
   "outputs": [],
   "source": []
  },
  {
   "cell_type": "markdown",
   "id": "1b1ce581",
   "metadata": {},
   "source": [
    "### 22. islower()"
   ]
  },
  {
   "cell_type": "code",
   "execution_count": 111,
   "id": "5675b066",
   "metadata": {},
   "outputs": [
    {
     "data": {
      "text/plain": [
       "False"
      ]
     },
     "execution_count": 111,
     "metadata": {},
     "output_type": "execute_result"
    }
   ],
   "source": [
    "'Python'.islower()"
   ]
  },
  {
   "cell_type": "code",
   "execution_count": 112,
   "id": "581b31f0",
   "metadata": {},
   "outputs": [
    {
     "data": {
      "text/plain": [
       "True"
      ]
     },
     "execution_count": 112,
     "metadata": {},
     "output_type": "execute_result"
    }
   ],
   "source": [
    "'python'.islower()"
   ]
  },
  {
   "cell_type": "code",
   "execution_count": 114,
   "id": "033cb35a",
   "metadata": {},
   "outputs": [
    {
     "data": {
      "text/plain": [
       "True"
      ]
     },
     "execution_count": 114,
     "metadata": {},
     "output_type": "execute_result"
    }
   ],
   "source": [
    "'pyt hon'.islower()"
   ]
  },
  {
   "cell_type": "code",
   "execution_count": 115,
   "id": "8ab3254a",
   "metadata": {},
   "outputs": [
    {
     "data": {
      "text/plain": [
       "True"
      ]
     },
     "execution_count": 115,
     "metadata": {},
     "output_type": "execute_result"
    }
   ],
   "source": [
    "'pyt-hon'.islower()"
   ]
  },
  {
   "cell_type": "code",
   "execution_count": 116,
   "id": "0f1bd748",
   "metadata": {},
   "outputs": [
    {
     "data": {
      "text/plain": [
       "False"
      ]
     },
     "execution_count": 116,
     "metadata": {},
     "output_type": "execute_result"
    }
   ],
   "source": [
    "'pyt-hOn'.islower()"
   ]
  },
  {
   "cell_type": "code",
   "execution_count": 117,
   "id": "3d7c67a6",
   "metadata": {},
   "outputs": [
    {
     "data": {
      "text/plain": [
       "True"
      ]
     },
     "execution_count": 117,
     "metadata": {},
     "output_type": "execute_result"
    }
   ],
   "source": [
    "'pyt9hon'.islower()"
   ]
  },
  {
   "cell_type": "code",
   "execution_count": 118,
   "id": "b767e31c",
   "metadata": {},
   "outputs": [
    {
     "data": {
      "text/plain": [
       "False"
      ]
     },
     "execution_count": 118,
     "metadata": {},
     "output_type": "execute_result"
    }
   ],
   "source": [
    "'99867'.islower()"
   ]
  },
  {
   "cell_type": "code",
   "execution_count": 119,
   "id": "4c4aa87d",
   "metadata": {},
   "outputs": [
    {
     "data": {
      "text/plain": [
       "False"
      ]
     },
     "execution_count": 119,
     "metadata": {},
     "output_type": "execute_result"
    }
   ],
   "source": [
    "''.islower()"
   ]
  },
  {
   "cell_type": "markdown",
   "id": "0e627617",
   "metadata": {},
   "source": [
    "### 23. isupper()"
   ]
  },
  {
   "cell_type": "code",
   "execution_count": 121,
   "id": "862bb921",
   "metadata": {},
   "outputs": [
    {
     "data": {
      "text/plain": [
       "True"
      ]
     },
     "execution_count": 121,
     "metadata": {},
     "output_type": "execute_result"
    }
   ],
   "source": [
    "'PYTHON'.isupper()"
   ]
  },
  {
   "cell_type": "code",
   "execution_count": 122,
   "id": "ee2b82bc",
   "metadata": {},
   "outputs": [
    {
     "data": {
      "text/plain": [
       "True"
      ]
     },
     "execution_count": 122,
     "metadata": {},
     "output_type": "execute_result"
    }
   ],
   "source": [
    "'Python'.upper().isupper()"
   ]
  },
  {
   "cell_type": "code",
   "execution_count": 124,
   "id": "bb20aee2",
   "metadata": {},
   "outputs": [
    {
     "data": {
      "text/plain": [
       "'PYTHON'"
      ]
     },
     "execution_count": 124,
     "metadata": {},
     "output_type": "execute_result"
    }
   ],
   "source": [
    "'Python'.upper()"
   ]
  },
  {
   "cell_type": "code",
   "execution_count": 123,
   "id": "a13e69ff",
   "metadata": {},
   "outputs": [
    {
     "data": {
      "text/plain": [
       "True"
      ]
     },
     "execution_count": 123,
     "metadata": {},
     "output_type": "execute_result"
    }
   ],
   "source": [
    "'python'.upper().isupper()"
   ]
  },
  {
   "cell_type": "code",
   "execution_count": 125,
   "id": "c8daa682",
   "metadata": {},
   "outputs": [
    {
     "data": {
      "text/plain": [
       "True"
      ]
     },
     "execution_count": 125,
     "metadata": {},
     "output_type": "execute_result"
    }
   ],
   "source": [
    "'pyt hon'.upper().isupper()"
   ]
  },
  {
   "cell_type": "code",
   "execution_count": 126,
   "id": "58f7bf63",
   "metadata": {},
   "outputs": [
    {
     "data": {
      "text/plain": [
       "True"
      ]
     },
     "execution_count": 126,
     "metadata": {},
     "output_type": "execute_result"
    }
   ],
   "source": [
    "'pyt9090hon'.upper().isupper()"
   ]
  },
  {
   "cell_type": "code",
   "execution_count": 127,
   "id": "98819984",
   "metadata": {},
   "outputs": [
    {
     "data": {
      "text/plain": [
       "False"
      ]
     },
     "execution_count": 127,
     "metadata": {},
     "output_type": "execute_result"
    }
   ],
   "source": [
    "'python'.isupper()"
   ]
  },
  {
   "cell_type": "code",
   "execution_count": null,
   "id": "4d136284",
   "metadata": {},
   "outputs": [],
   "source": []
  },
  {
   "cell_type": "markdown",
   "id": "84869fff",
   "metadata": {},
   "source": [
    "### 24. istitle()"
   ]
  },
  {
   "cell_type": "code",
   "execution_count": 128,
   "id": "ee288712",
   "metadata": {},
   "outputs": [
    {
     "data": {
      "text/plain": [
       "True"
      ]
     },
     "execution_count": 128,
     "metadata": {},
     "output_type": "execute_result"
    }
   ],
   "source": [
    "string = 'Cdac Silchar'\n",
    "string.istitle()"
   ]
  },
  {
   "cell_type": "code",
   "execution_count": 129,
   "id": "c4b9f4f9",
   "metadata": {},
   "outputs": [
    {
     "data": {
      "text/plain": [
       "False"
      ]
     },
     "execution_count": 129,
     "metadata": {},
     "output_type": "execute_result"
    }
   ],
   "source": [
    "string = 'Cdac silchar'\n",
    "string.istitle()"
   ]
  },
  {
   "cell_type": "code",
   "execution_count": 132,
   "id": "2886163a",
   "metadata": {},
   "outputs": [
    {
     "data": {
      "text/plain": [
       "True"
      ]
     },
     "execution_count": 132,
     "metadata": {},
     "output_type": "execute_result"
    }
   ],
   "source": [
    "string = 'cdac silchar'\n",
    "string.title().istitle()"
   ]
  },
  {
   "cell_type": "code",
   "execution_count": 133,
   "id": "4c2aa015",
   "metadata": {},
   "outputs": [
    {
     "data": {
      "text/plain": [
       "'Cdac Silchar'"
      ]
     },
     "execution_count": 133,
     "metadata": {},
     "output_type": "execute_result"
    }
   ],
   "source": [
    "string.title()"
   ]
  },
  {
   "cell_type": "code",
   "execution_count": 134,
   "id": "a938e735",
   "metadata": {},
   "outputs": [
    {
     "data": {
      "text/plain": [
       "False"
      ]
     },
     "execution_count": 134,
     "metadata": {},
     "output_type": "execute_result"
    }
   ],
   "source": [
    "''.istitle()"
   ]
  },
  {
   "cell_type": "code",
   "execution_count": null,
   "id": "10930da4",
   "metadata": {},
   "outputs": [],
   "source": [
    "."
   ]
  }
 ],
 "metadata": {
  "kernelspec": {
   "display_name": "Python 3 (ipykernel)",
   "language": "python",
   "name": "python3"
  },
  "language_info": {
   "codemirror_mode": {
    "name": "ipython",
    "version": 3
   },
   "file_extension": ".py",
   "mimetype": "text/x-python",
   "name": "python",
   "nbconvert_exporter": "python",
   "pygments_lexer": "ipython3",
   "version": "3.10.12"
  }
 },
 "nbformat": 4,
 "nbformat_minor": 5
}
