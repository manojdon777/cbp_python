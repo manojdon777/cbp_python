{
 "cells": [
  {
   "cell_type": "raw",
   "id": "db37a474",
   "metadata": {},
   "source": [
    "                           Syllabus\n",
    "############################################################\n",
    "ANNEXURE - III\n",
    "Python Programming\n",
    "Introduction to Python\n",
    "    Overview\n",
    "    Python Features\n",
    "    Environment Setup\n",
    "    Running Python\n",
    "    IDLE\n",
    "    Commercial and Free Python IDEs\n",
    "Basic Syntax\n",
    "    Interactive Mode\n",
    "    Script Mode\n",
    "    Python Identifiers\n",
    "    Reserved Words\n",
    "    Lines and Indentation\n",
    "    Multi-Line Statements\n",
    "    Quotations in Python\n",
    "    Comments in Python\n",
    "    Using Blank Lines\n",
    "    User inputs\n",
    "    Command Line Arguments\n",
    "Variable Types\n",
    "    Creating variables\n",
    "    Assigning Values to Variables\n",
    "    Accessing variables\n",
    "    Multiple Assignment\n",
    "Downloading, Installation & Configure Various Python Tools\n",
    "    Python 2.x or 3.x on various OS platforms like Windows, Linux, Unix & MacOs\n",
    "    Pycharm\n",
    "    Anaconda & Spyder\n",
    "Standard Data Types\n",
    "    Numbers\n",
    "    Strings\n",
    "    Lists\n",
    "    Tuples\n",
    "    Dictionaries\n",
    "    Sets\n",
    "Python Data Types – Numbers\n",
    "    int\n",
    "    float\n",
    "    complex\n",
    "    Number type conversions\n",
    "    Mathematical Functions\n",
    "    Random Number Functions\n",
    "    Trigonometric Functions\n",
    "    Mathematical Constants\n",
    "Python Data Types – Strings\n",
    "    Accessing values in strings\n",
    "    updating strings\n",
    "    Escape Character\n",
    "    String Special Operator\n",
    "    String Formatting Operator\n",
    "    Triple Quotes\n",
    "    Unicode String\n",
    "    Built-in String Methods\n",
    "Python Data Types – Lists\n",
    "    Creating the lists\n",
    "    Accessing the values in lists\n",
    "    Updating Lists\n",
    "    Deleting List Elements\n",
    "    Basic List Operators\n",
    "    Indexing, Slicing and Matrixes\n",
    "    Built-in List Functions & Methods\n",
    "Python Data Types – Tuples\n",
    "    Creating the tuple\n",
    "    Accessing values in Tuples\n",
    "    Updating Tuples\n",
    "    Delete Tuples Elements\n",
    "    Basic Tuples Operations\n",
    "    Indexing, Slicing and Matrixes\n",
    "    Built-in Tuple Functions\n",
    "Python Data Types – Dictionary\n",
    "    Creating a Dictionary\n",
    "    Accessing Values in Dictionary\n",
    "    Updating Dictionary\n",
    "    Deleting Dictionary Elements\n",
    "    Properties of Dictionary Keys\n",
    "    Built-in Dictionary Functions & MethodsPython Data Types – Sets\n",
    "    Creating A Set\n",
    "    Accessing A Set\n",
    "    Modifying A Set\n",
    "    Removing Items From A Set\n",
    "    Common Set Operations\n",
    "    Built-in Set Functions & Methods\n",
    "Python Operators\n",
    "    List of Operators\n",
    "    Arithmetic Operators\n",
    "    Comparison Operators\n",
    "    Assignment Operators\n",
    "    Bitwise Operators\n",
    "    Logical Operators\n",
    "    Membership Operators\n",
    "    Identity Operators\n",
    "    Operators Precedence\n",
    "Decision Making\n",
    "    Single Statement Suites\n",
    "    if statements\n",
    "    if else statements\n",
    "    if elif statements\n",
    "    Nested statements\n",
    "Python Loops\n",
    "    Various Types of Loops\n",
    "    while loop\n",
    "    for loop\n",
    "    nested loop\n",
    "    Loop Control Statements\n",
    "    break statement\n",
    "    continue statement\n",
    "    pass statement\n",
    "    Iterator and Generator\n",
    "Python Functions\n",
    "    Defining a Function\n",
    "    Calling a Function\n",
    "    Pass by reference vs value\n",
    "    Function Arguments\n",
    "    Required Arguments\n",
    "    Keyword Arguments\n",
    "    Default Arguments\n",
    "    Variable-length arguments\n",
    "    The anonymous Functions\n",
    "    The return Statement\n",
    "    Scope of Variables\n",
    "    Global vs Local Variables\n",
    "Working with PIP\n",
    "    Download PIP\n",
    "    Configure Environment Variables\n",
    "    Search Modules using PIP\n",
    "    Download & Install Modules using PIP\n",
    "    Various examples of PIP\n",
    "    Downloading, Installing of Various modules\n",
    "Object-Oriented Programming\n",
    "    The class statement\n",
    "    Creating a Class\n",
    "    Methods\n",
    "    The self\n",
    "    “self” the self reference\n",
    "    Object Methods\n",
    "    Using Object Methods\n",
    "    The __init__ method (The default constructor)\n",
    "    Using the __init__ method Private(__var) & Semi-private variables(_var)\n",
    "    Class and Object Variables\n",
    "    Using Class and Object Variables\n",
    "Inheritance\n",
    "    Using Inheritance\n",
    "    Multiple-inheritance\n",
    "    Operator Overloading\n",
    "    operator — Standard operators as functions\n",
    "collections.abc — Abstract Base Classes for Containers\n",
    "    Errors and Exceptions\n",
    "    User-defined Exceptions\n",
    "    Defining Clean-up Actions\n",
    "    Predefined Clean-up Actions\n",
    "Functional Programming\n",
    "    itertools — Functions creating iterators for efficient looping\n",
    "    functools — Higher-order functions and operations on callable\n",
    "objects\n",
    "    operator — Standard operators as functions\n",
    "    Decorators\n",
    "    List Comprehensions - Nested List Comprehensions\n",
    "    Looping Techniques\n",
    "    More on Conditions\n",
    "    Comparing Sequences and Other Types\n",
    "    Iterators\n",
    "    Generators\n",
    "The import statement\n",
    "    The from import statement\n",
    "    The from import * statement\n",
    "    Executing modules as scripts\n",
    "    Locating Modules\n",
    "Reading and Writing Files\n",
    "    The write() method\n",
    "    The read() method\n",
    "    File Positions\n",
    "    Renaming and Deleting Files\n",
    "    The rename() Method & remove() method\n",
    "    Directories in Python\n",
    "    The mkdir() method\n",
    "    The chdir() method\n",
    "    The getcwd() method\n",
    "    The rmdir() method\n",
    "    File & Directory Related Methods\n",
    "Error & Exceptions Handling in Python\n",
    "    Assertions in Python\n",
    "    The assert statement\n",
    "    What is an exception?\n",
    "    The except clause with no exceptions\n",
    "    The except clause with multiple exceptions\n",
    "    The try-finally clause\n",
    "    Argument of an exception\n",
    "    Raising an exception\n",
    "    User-defined exceptions\n",
    "############################################################\n"
   ]
  },
  {
   "cell_type": "code",
   "execution_count": null,
   "id": "adcc93c7",
   "metadata": {},
   "outputs": [],
   "source": [
    "1. Features of python\n",
    "    1. User friendly\n",
    "    2. Case sensitive\n",
    "    3. Free\n",
    "    3. Vast support of library\n",
    "    4. Dynamically typed language\n",
    "    5. Oject Oriented Programming"
   ]
  },
  {
   "cell_type": "code",
   "execution_count": null,
   "id": "518553d5",
   "metadata": {},
   "outputs": [],
   "source": [
    "Invented by 'Guido van Rossum' in 1991.\n"
   ]
  },
  {
   "cell_type": "raw",
   "id": "cabb21f7",
   "metadata": {},
   "source": [
    "Applications of Python\n",
    "    1. Testing and automation\n",
    "    2. Scripting\n",
    "    3. Artificial Intilligence(AI), Machine Learning(ML), Deep Learning(DL).\n",
    "      Libraries - \n",
    "          - pandas, numpy, matplotlib, tenserflow.\n",
    "    4. Web developement\n",
    "        - Flask\n",
    "        - DJango\n",
    "    5. Backend developement\n",
    "        - Session\n",
    "        - user management\n",
    "        -  database handling\n",
    "    6. Web scrapping"
   ]
  },
  {
   "cell_type": "code",
   "execution_count": null,
   "id": "f2fd7685",
   "metadata": {},
   "outputs": [],
   "source": [
    "Python versions\n",
    "    - Python 2.x\n",
    "    - Python 3.x\n",
    "    \n",
    "manoj@l480:~$ python3 --version\n",
    "Python 3.10.12\n",
    "manoj@l480:~$ python3 -V\n",
    "Python 3.10.12"
   ]
  },
  {
   "cell_type": "raw",
   "id": "b844951a",
   "metadata": {},
   "source": [
    "Python file is with .py extention.\n",
    "    eg. first.py\n",
    "Execute python prog\n",
    "    # python first.py"
   ]
  },
  {
   "cell_type": "code",
   "execution_count": null,
   "id": "9bfa2fa2",
   "metadata": {},
   "outputs": [],
   "source": []
  },
  {
   "cell_type": "markdown",
   "id": "6377e756",
   "metadata": {},
   "source": [
    "# Modes\n",
    "## Interactive mod\n",
    "     - giving single line statement on python terminal\n",
    "## script mode\n",
    "     - writing all python statements in a file with .py extension"
   ]
  },
  {
   "cell_type": "markdown",
   "id": "b275f0bd",
   "metadata": {},
   "source": [
    "# Installing Python and editors"
   ]
  },
  {
   "cell_type": "markdown",
   "id": "3cff5d3a",
   "metadata": {},
   "source": [
    "## Python Installation"
   ]
  },
  {
   "cell_type": "raw",
   "id": "923429c6",
   "metadata": {},
   "source": [
    "    $ python3 --version\n",
    "    $ python3 -V\n",
    "    $ sudo apt install python3\n",
    "    $ python3 --version\n",
    "    $ python3 -V\n",
    "    \n",
    "    $ pip3 --version\n",
    "    $ pip3 -V\n",
    "    $ sudo apt install python3-pip\n",
    "    $ pip3 --version\n",
    "    $ pip3 -V\n",
    "    "
   ]
  },
  {
   "cell_type": "markdown",
   "id": "45a61bc6",
   "metadata": {},
   "source": [
    "## Visual Studio Code"
   ]
  },
  {
   "cell_type": "code",
   "execution_count": null,
   "id": "01ba2f45",
   "metadata": {},
   "outputs": [],
   "source": [
    "1. Download .deb from official site of VSCode.\n",
    "2. Install deb file using command '$ dpkg -i your_vscode_deb_file.deb'\n",
    "3. Install Python extension from Microsoft."
   ]
  },
  {
   "cell_type": "markdown",
   "id": "f8d2882d",
   "metadata": {},
   "source": [
    "## Sublime text 4"
   ]
  },
  {
   "cell_type": "raw",
   "id": "6b0f8b1e",
   "metadata": {},
   "source": [
    "1. Download .deb file from official site of sublime-text.\n",
    "2. Install using above process.\n",
    "3. Type python program in sublime-text editor and save with .py extension.\n",
    "4. Run code using 'CTRL + B' and select Python for the first time."
   ]
  },
  {
   "cell_type": "markdown",
   "id": "8141d123",
   "metadata": {},
   "source": [
    "## Jupyter Notebook\n"
   ]
  },
  {
   "cell_type": "code",
   "execution_count": null,
   "id": "16272699",
   "metadata": {},
   "outputs": [],
   "source": [
    "1. Install jupyter using '$ pip install jupyter'\n",
    "2. Type 'jupyter-notebook' or 'jupyter notebook' command on terminal.\n",
    "3. Check default browser for jupyter.\n"
   ]
  },
  {
   "cell_type": "raw",
   "id": "0bf5345b",
   "metadata": {},
   "source": [
    "Jupyter notebook shortcuts\n",
    "1. CTRL + Enter for executing cell (controls remains in same cell).\n",
    "2. SHIFT + Enter for executing cell (control transfers to next cell).\n",
    "3. Press Espace, followed by 'm' to convert cell to 'Markdown'.\n",
    "4. Press Espace, followed by 'r' to convert cell to 'Raw NBConvert'."
   ]
  },
  {
   "cell_type": "code",
   "execution_count": null,
   "id": "2e1f491f",
   "metadata": {},
   "outputs": [],
   "source": []
  },
  {
   "cell_type": "markdown",
   "id": "14ec8e13",
   "metadata": {},
   "source": [
    "# Comments"
   ]
  },
  {
   "cell_type": "code",
   "execution_count": 1,
   "id": "066cea3c",
   "metadata": {},
   "outputs": [
    {
     "name": "stdout",
     "output_type": "stream",
     "text": [
      "ABC\n",
      "PQR\n"
     ]
    }
   ],
   "source": [
    "# single line comment\n",
    "print('ABC')\n",
    "#print('XYZ')\n",
    "print('PQR')"
   ]
  },
  {
   "cell_type": "code",
   "execution_count": null,
   "id": "a7826685",
   "metadata": {},
   "outputs": [],
   "source": [
    "# multi line comment\n",
    "print('ABC')\n",
    "#print('XYZ')\n",
    "#print('PQR')"
   ]
  },
  {
   "cell_type": "code",
   "execution_count": 2,
   "id": "8415ca43",
   "metadata": {
    "scrolled": true
   },
   "outputs": [
    {
     "name": "stdout",
     "output_type": "stream",
     "text": [
      "\n",
      "this is new line\n",
      "second line\n",
      "\n"
     ]
    }
   ],
   "source": [
    "string = '''\n",
    "this is new line\n",
    "second line\n",
    "'''\n",
    "print(string)"
   ]
  },
  {
   "cell_type": "code",
   "execution_count": 4,
   "id": "9b493a26",
   "metadata": {},
   "outputs": [
    {
     "name": "stdout",
     "output_type": "stream",
     "text": [
      "this is new line\n",
      "second line\n"
     ]
    }
   ],
   "source": [
    "string = '''this is new line\n",
    "second line'''\n",
    "print(string)"
   ]
  },
  {
   "cell_type": "markdown",
   "id": "86fea6c6",
   "metadata": {},
   "source": []
  },
  {
   "cell_type": "markdown",
   "id": "c55ab16c",
   "metadata": {},
   "source": [
    "# Python Identifiers"
   ]
  },
  {
   "cell_type": "code",
   "execution_count": null,
   "id": "1e3b6497",
   "metadata": {},
   "outputs": [],
   "source": [
    "for, int, float, str, pass, break, continue, if elif, class"
   ]
  },
  {
   "cell_type": "markdown",
   "id": "ab1be04c",
   "metadata": {},
   "source": [
    "# Lines and Indentation"
   ]
  },
  {
   "cell_type": "code",
   "execution_count": 2,
   "id": "096067cc",
   "metadata": {
    "scrolled": true
   },
   "outputs": [
    {
     "name": "stdout",
     "output_type": "stream",
     "text": [
      "11\n",
      "second line\n",
      "33\n",
      "second line\n",
      "55\n",
      "second line\n",
      "77\n",
      "second line\n",
      "This line is not a part of for loop\n"
     ]
    }
   ],
   "source": [
    "for i in [11,33,55,77]:\n",
    "    print(i, sep = '-')\n",
    "    print('second line')\n",
    "print('This line is not a part of for loop')\n"
   ]
  },
  {
   "cell_type": "code",
   "execution_count": 3,
   "id": "c768b2e8",
   "metadata": {},
   "outputs": [
    {
     "name": "stdout",
     "output_type": "stream",
     "text": [
      "11\n",
      "second line\n",
      "This line is not a part of for loop\n",
      "33\n",
      "second line\n",
      "This line is not a part of for loop\n",
      "55\n",
      "second line\n",
      "This line is not a part of for loop\n",
      "77\n",
      "second line\n",
      "This line is not a part of for loop\n"
     ]
    }
   ],
   "source": [
    "for i in [11,33,55,77]:\n",
    "    print(i, sep = '-')\n",
    "    print('second line')\n",
    "    print('This line is not a part of for loop')\n"
   ]
  },
  {
   "cell_type": "markdown",
   "id": "6029d257",
   "metadata": {},
   "source": [
    "# Quotations in Python"
   ]
  },
  {
   "cell_type": "code",
   "execution_count": 4,
   "id": "cf90c894",
   "metadata": {},
   "outputs": [
    {
     "name": "stdout",
     "output_type": "stream",
     "text": [
      "cdac silcar\n"
     ]
    }
   ],
   "source": [
    "string = 'cdac silcar'\n",
    "print(string)"
   ]
  },
  {
   "cell_type": "code",
   "execution_count": 7,
   "id": "80128c3f",
   "metadata": {},
   "outputs": [
    {
     "ename": "SyntaxError",
     "evalue": "unterminated string literal (detected at line 1) (1268970516.py, line 1)",
     "output_type": "error",
     "traceback": [
      "\u001b[0;36m  File \u001b[0;32m\"/tmp/ipykernel_55594/1268970516.py\"\u001b[0;36m, line \u001b[0;32m1\u001b[0m\n\u001b[0;31m    string = '1. cdac silcar\u001b[0m\n\u001b[0m             ^\u001b[0m\n\u001b[0;31mSyntaxError\u001b[0m\u001b[0;31m:\u001b[0m unterminated string literal (detected at line 1)\n"
     ]
    }
   ],
   "source": [
    "string = '1. cdac silcar\n",
    "          2. cdac silchar'\n",
    "print(string)"
   ]
  },
  {
   "cell_type": "code",
   "execution_count": 5,
   "id": "cdd1a8dd",
   "metadata": {},
   "outputs": [
    {
     "name": "stdout",
     "output_type": "stream",
     "text": [
      "cdac silcar\n"
     ]
    }
   ],
   "source": [
    "string = \"cdac silcar\"\n",
    "print(string)"
   ]
  },
  {
   "cell_type": "code",
   "execution_count": 6,
   "id": "6f50a7e3",
   "metadata": {},
   "outputs": [
    {
     "name": "stdout",
     "output_type": "stream",
     "text": [
      "cdac silcar\n"
     ]
    }
   ],
   "source": [
    "string = '''cdac silcar'''\n",
    "print(string)"
   ]
  },
  {
   "cell_type": "code",
   "execution_count": 11,
   "id": "54914fdc",
   "metadata": {},
   "outputs": [
    {
     "name": "stdout",
     "output_type": "stream",
     "text": [
      "1. cdac silcar\n",
      "            2. second line\n"
     ]
    }
   ],
   "source": [
    "string = '''1. cdac silcar\n",
    "            2. second line'''\n",
    "print(string)"
   ]
  },
  {
   "cell_type": "code",
   "execution_count": 12,
   "id": "83bb6492",
   "metadata": {},
   "outputs": [
    {
     "name": "stdout",
     "output_type": "stream",
     "text": [
      "1. cdac silcar\n",
      "2. second line\n"
     ]
    }
   ],
   "source": [
    "string = '''1. cdac silcar\n",
    "2. second line'''\n",
    "print(string)"
   ]
  },
  {
   "cell_type": "code",
   "execution_count": 16,
   "id": "1b8896f7",
   "metadata": {},
   "outputs": [
    {
     "name": "stdout",
     "output_type": "stream",
     "text": [
      "             *\n",
      "            * *\n",
      "           * * * \n",
      "          * * * *\n"
     ]
    }
   ],
   "source": [
    "string ='''             *\n",
    "            * *\n",
    "           * * * \n",
    "          * * * *'''\n",
    "print(string)"
   ]
  },
  {
   "cell_type": "markdown",
   "id": "b3e47554",
   "metadata": {},
   "source": [
    "# Multi-Line Statements"
   ]
  },
  {
   "cell_type": "code",
   "execution_count": 20,
   "id": "8259982c",
   "metadata": {},
   "outputs": [
    {
     "name": "stdout",
     "output_type": "stream",
     "text": [
      "The International Chess Federation or World Chess Federation,commonly referred to by its French acronym FIDE  is an international organizationbased in Switzerland that connects the various national chess federations and actsas the governing body of international chess competition. FIDE was founded in Paris,France, on July 20, 1924\n"
     ]
    }
   ],
   "source": [
    "string = 'The International Chess Federation or World Chess Federation,\\\n",
    "commonly referred to by its French acronym FIDE  is an international organization\\\n",
    "based in Switzerland that connects the various national chess federations and acts\\\n",
    "as the governing body of international chess competition. FIDE was founded in Paris,\\\n",
    "France, on July 20, 1924'\n",
    "print(string)"
   ]
  },
  {
   "cell_type": "code",
   "execution_count": 22,
   "id": "2828f9c0",
   "metadata": {},
   "outputs": [
    {
     "name": "stdout",
     "output_type": "stream",
     "text": [
      "The International Chess Federation or World Chess Federationcommonly referred to by its French acronym FIDE  is an internationalnational chess federations and actsas the governing body\n"
     ]
    }
   ],
   "source": [
    "print(f'The International Chess Federation or World Chess Federation'\n",
    "     f'commonly referred to by its French acronym FIDE  is an international'\n",
    "     f'national chess federations and actsas the governing body')"
   ]
  },
  {
   "cell_type": "code",
   "execution_count": 24,
   "id": "cb9a8e28",
   "metadata": {},
   "outputs": [
    {
     "name": "stdout",
     "output_type": "stream",
     "text": [
      "The International Chess Federation or World Chess Federation commonly referred to by its French acronym FIDE  is an international national chess federations and actsas the governing body\n"
     ]
    }
   ],
   "source": [
    "print('The International Chess Federation or World Chess Federation',\n",
    "      'commonly referred to by its French acronym FIDE  is an international',\n",
    "      'national chess federations and actsas the governing body')"
   ]
  },
  {
   "cell_type": "code",
   "execution_count": 26,
   "id": "a17e7802",
   "metadata": {},
   "outputs": [
    {
     "name": "stdout",
     "output_type": "stream",
     "text": [
      "[1, 2, 3, 4, 5, 6]\n"
     ]
    }
   ],
   "source": [
    "list1 = [1,2,3,4,5,6]\n",
    "print(list1)"
   ]
  },
  {
   "cell_type": "code",
   "execution_count": 27,
   "id": "07190321",
   "metadata": {},
   "outputs": [
    {
     "name": "stdout",
     "output_type": "stream",
     "text": [
      "[1, 2, 3, 4, 5, 6]\n"
     ]
    }
   ],
   "source": [
    "list1 = [\n",
    "    1,2,3,4,5,6\n",
    "]\n",
    "print(list1)"
   ]
  },
  {
   "cell_type": "markdown",
   "id": "1e5d02ba",
   "metadata": {},
   "source": [
    "# 1. print"
   ]
  },
  {
   "cell_type": "code",
   "execution_count": null,
   "id": "cb0f3e2e",
   "metadata": {},
   "outputs": [],
   "source": [
    "Display message-\n",
    "    print('This is my first program')"
   ]
  },
  {
   "cell_type": "code",
   "execution_count": 1,
   "id": "5500ecf2",
   "metadata": {},
   "outputs": [
    {
     "name": "stdout",
     "output_type": "stream",
     "text": [
      "My First Python Prog\n",
      "This is my second line\n",
      "My third line\n"
     ]
    }
   ],
   "source": [
    "print('My First Python Prog')\n",
    "print('This is my second line')\n",
    "print('My third line')"
   ]
  },
  {
   "cell_type": "code",
   "execution_count": 3,
   "id": "9bc28af6",
   "metadata": {},
   "outputs": [
    {
     "name": "stdout",
     "output_type": "stream",
     "text": [
      "888\n"
     ]
    }
   ],
   "source": [
    "print(888)"
   ]
  },
  {
   "cell_type": "code",
   "execution_count": 4,
   "id": "9ea864c9",
   "metadata": {},
   "outputs": [
    {
     "name": "stdout",
     "output_type": "stream",
     "text": [
      "123 654\n"
     ]
    }
   ],
   "source": [
    "print(123,654)"
   ]
  },
  {
   "cell_type": "code",
   "execution_count": 2,
   "id": "1236cd4d",
   "metadata": {},
   "outputs": [
    {
     "name": "stdout",
     "output_type": "stream",
     "text": [
      "aaa bbb\n"
     ]
    }
   ],
   "source": [
    "print('aaa', 'bbb')"
   ]
  },
  {
   "cell_type": "code",
   "execution_count": 5,
   "id": "b3c21539",
   "metadata": {},
   "outputs": [
    {
     "name": "stdout",
     "output_type": "stream",
     "text": [
      "Abc 89 XYZ\n"
     ]
    }
   ],
   "source": [
    "print('Abc', 89, 'XYZ')"
   ]
  },
  {
   "cell_type": "code",
   "execution_count": 6,
   "id": "d958cc00",
   "metadata": {},
   "outputs": [
    {
     "name": "stdout",
     "output_type": "stream",
     "text": [
      "CADC Silchar\n"
     ]
    }
   ],
   "source": [
    "print('CADC', 'Silchar')"
   ]
  },
  {
   "cell_type": "code",
   "execution_count": 7,
   "id": "143fb05c",
   "metadata": {},
   "outputs": [
    {
     "name": "stdout",
     "output_type": "stream",
     "text": [
      "CADCSilchar\n"
     ]
    }
   ],
   "source": [
    "print('CADC', 'Silchar', sep = '')"
   ]
  },
  {
   "cell_type": "code",
   "execution_count": 8,
   "id": "541e1974",
   "metadata": {},
   "outputs": [
    {
     "name": "stdout",
     "output_type": "stream",
     "text": [
      "CADC-Silchar\n"
     ]
    }
   ],
   "source": [
    "print('CADC', 'Silchar', sep = '-')"
   ]
  },
  {
   "cell_type": "code",
   "execution_count": 9,
   "id": "29b493c0",
   "metadata": {},
   "outputs": [
    {
     "name": "stdout",
     "output_type": "stream",
     "text": [
      "CADC Silchar\n"
     ]
    }
   ],
   "source": [
    "print('CADC', 'Silchar', sep = ' ')"
   ]
  },
  {
   "cell_type": "code",
   "execution_count": 10,
   "id": "0051029e",
   "metadata": {},
   "outputs": [
    {
     "name": "stdout",
     "output_type": "stream",
     "text": [
      "CADCANYTHINGSilchar\n"
     ]
    }
   ],
   "source": [
    "print('CADC', 'Silchar', sep = 'ANYTHING')"
   ]
  },
  {
   "cell_type": "code",
   "execution_count": 11,
   "id": "171b936c",
   "metadata": {},
   "outputs": [
    {
     "name": "stdout",
     "output_type": "stream",
     "text": [
      "aaaaaaANYTHINGbbbbbb\n"
     ]
    }
   ],
   "source": [
    "print('aaaaaa', 'bbbbbb', sep = 'ANYTHING')"
   ]
  },
  {
   "cell_type": "code",
   "execution_count": 13,
   "id": "c222194b",
   "metadata": {},
   "outputs": [
    {
     "name": "stdout",
     "output_type": "stream",
     "text": [
      "aaaaaa ANYTHING bbbbbb\n"
     ]
    }
   ],
   "source": [
    "print('aaaaaa ', ' bbbbbb', sep = 'ANYTHING')"
   ]
  },
  {
   "cell_type": "code",
   "execution_count": 14,
   "id": "8c606371",
   "metadata": {},
   "outputs": [
    {
     "name": "stdout",
     "output_type": "stream",
     "text": [
      "abc\n",
      "xyz\n"
     ]
    }
   ],
   "source": [
    "print('abc')\n",
    "print('xyz')"
   ]
  },
  {
   "cell_type": "code",
   "execution_count": 16,
   "id": "33a43298",
   "metadata": {},
   "outputs": [
    {
     "name": "stdout",
     "output_type": "stream",
     "text": [
      "CADC Silchar\n"
     ]
    }
   ],
   "source": [
    "print('CADC', 'Silchar')"
   ]
  },
  {
   "cell_type": "code",
   "execution_count": 19,
   "id": "783c0aa8",
   "metadata": {},
   "outputs": [
    {
     "name": "stdout",
     "output_type": "stream",
     "text": [
      "abcxyz\n"
     ]
    }
   ],
   "source": [
    "print('abc', end = '')\n",
    "print('xyz')"
   ]
  },
  {
   "cell_type": "code",
   "execution_count": 20,
   "id": "96668ecf",
   "metadata": {},
   "outputs": [
    {
     "name": "stdout",
     "output_type": "stream",
     "text": [
      "abc xyz\n"
     ]
    }
   ],
   "source": [
    "print('abc', end = ' ')\n",
    "print('xyz')"
   ]
  },
  {
   "cell_type": "markdown",
   "id": "4fc65ab3",
   "metadata": {},
   "source": [
    "sep specifies things to be added between agrugments of THAT\n",
    "print() function"
   ]
  },
  {
   "cell_type": "markdown",
   "id": "3f8167d5",
   "metadata": {},
   "source": [
    "end specifies things to be added at the end of THAT print() function"
   ]
  },
  {
   "cell_type": "code",
   "execution_count": 22,
   "id": "030d9c64",
   "metadata": {},
   "outputs": [
    {
     "name": "stdout",
     "output_type": "stream",
     "text": [
      "abc***xyz\n"
     ]
    }
   ],
   "source": [
    "print('abc', end = '***')\n",
    "print('xyz')"
   ]
  },
  {
   "cell_type": "code",
   "execution_count": 23,
   "id": "94b9eea6",
   "metadata": {},
   "outputs": [
    {
     "name": "stdout",
     "output_type": "stream",
     "text": [
      "abc xyz pqr\n"
     ]
    }
   ],
   "source": [
    "print('abc', 'xyz', 'pqr')"
   ]
  },
  {
   "cell_type": "code",
   "execution_count": 24,
   "id": "34f97423",
   "metadata": {},
   "outputs": [
    {
     "name": "stdout",
     "output_type": "stream",
     "text": [
      "abc-xyz-pqr\n"
     ]
    }
   ],
   "source": [
    "print('abc', 'xyz', 'pqr', sep='-')"
   ]
  },
  {
   "cell_type": "code",
   "execution_count": 25,
   "id": "08c53f65",
   "metadata": {},
   "outputs": [
    {
     "name": "stdout",
     "output_type": "stream",
     "text": [
      "abc - xyz - pqr\n"
     ]
    }
   ],
   "source": [
    "print('abc', 'xyz', 'pqr', sep=' - ')"
   ]
  },
  {
   "cell_type": "code",
   "execution_count": 28,
   "id": "239f5042",
   "metadata": {},
   "outputs": [
    {
     "name": "stdout",
     "output_type": "stream",
     "text": [
      "abc - xyz - pqrSTOPNew statement\n"
     ]
    }
   ],
   "source": [
    "print('abc', 'xyz', 'pqr', sep=' - ', end='STOP')\n",
    "print('New statement')"
   ]
  },
  {
   "cell_type": "code",
   "execution_count": 29,
   "id": "77260b70",
   "metadata": {},
   "outputs": [
    {
     "name": "stdout",
     "output_type": "stream",
     "text": [
      "abc - xyz - pqrSTOPNew statement\n"
     ]
    }
   ],
   "source": [
    "print('abc', 'xyz', 'pqr', end='STOP', sep=' - ')\n",
    "print('New statement')"
   ]
  },
  {
   "cell_type": "markdown",
   "id": "5fcd37c2",
   "metadata": {},
   "source": [
    "# 2. Variables"
   ]
  },
  {
   "cell_type": "markdown",
   "id": "a55a6412",
   "metadata": {},
   "source": [
    "Rules to declare variable\n",
    "    1. case sensitive\n",
    "    2. variable should not start with number"
   ]
  },
  {
   "cell_type": "code",
   "execution_count": 31,
   "id": "19156841",
   "metadata": {},
   "outputs": [
    {
     "ename": "SyntaxError",
     "evalue": "invalid decimal literal (66753265.py, line 1)",
     "output_type": "error",
     "traceback": [
      "\u001b[0;36m  File \u001b[0;32m\"/tmp/ipykernel_38746/66753265.py\"\u001b[0;36m, line \u001b[0;32m1\u001b[0m\n\u001b[0;31m    9var = 'ABC'\u001b[0m\n\u001b[0m    ^\u001b[0m\n\u001b[0;31mSyntaxError\u001b[0m\u001b[0;31m:\u001b[0m invalid decimal literal\n"
     ]
    }
   ],
   "source": [
    "9var = 'ABC'"
   ]
  },
  {
   "cell_type": "raw",
   "id": "64fa4028",
   "metadata": {},
   "source": [
    "Rules to declare variable\n",
    "    1. case sensitive\n",
    "    2. variable should not start with number\n",
    "    3. variable should not contain special character except (_)"
   ]
  },
  {
   "cell_type": "code",
   "execution_count": 32,
   "id": "49eb9671",
   "metadata": {},
   "outputs": [],
   "source": [
    "annual_salary = 11223344"
   ]
  },
  {
   "cell_type": "code",
   "execution_count": 33,
   "id": "92a1f0d5",
   "metadata": {},
   "outputs": [
    {
     "ename": "SyntaxError",
     "evalue": "cannot assign to expression here. Maybe you meant '==' instead of '='? (1596806327.py, line 1)",
     "output_type": "error",
     "traceback": [
      "\u001b[0;36m  File \u001b[0;32m\"/tmp/ipykernel_38746/1596806327.py\"\u001b[0;36m, line \u001b[0;32m1\u001b[0m\n\u001b[0;31m    annual-salary = 11223344\u001b[0m\n\u001b[0m    ^\u001b[0m\n\u001b[0;31mSyntaxError\u001b[0m\u001b[0;31m:\u001b[0m cannot assign to expression here. Maybe you meant '==' instead of '='?\n"
     ]
    }
   ],
   "source": [
    "annual-salary = 11223344"
   ]
  },
  {
   "cell_type": "raw",
   "id": "b0209a58",
   "metadata": {},
   "source": [
    "Rules to declare variable\n",
    "    1. case sensitive\n",
    "    2. variable should not start with number\n",
    "    3. variable should not contain special character except (_)\n",
    "    4. variable should not contain any space"
   ]
  },
  {
   "cell_type": "code",
   "execution_count": 35,
   "id": "b0c42ebe",
   "metadata": {},
   "outputs": [
    {
     "ename": "SyntaxError",
     "evalue": "invalid syntax (963696831.py, line 1)",
     "output_type": "error",
     "traceback": [
      "\u001b[0;36m  File \u001b[0;32m\"/tmp/ipykernel_38746/963696831.py\"\u001b[0;36m, line \u001b[0;32m1\u001b[0m\n\u001b[0;31m    annual salary = 11223344\u001b[0m\n\u001b[0m           ^\u001b[0m\n\u001b[0;31mSyntaxError\u001b[0m\u001b[0;31m:\u001b[0m invalid syntax\n"
     ]
    }
   ],
   "source": [
    "annual salary = 11223344"
   ]
  },
  {
   "cell_type": "code",
   "execution_count": 36,
   "id": "1bbea34f",
   "metadata": {},
   "outputs": [
    {
     "ename": "SyntaxError",
     "evalue": "invalid syntax (1925129841.py, line 2)",
     "output_type": "error",
     "traceback": [
      "\u001b[0;36m  File \u001b[0;32m\"/tmp/ipykernel_38746/1925129841.py\"\u001b[0;36m, line \u001b[0;32m2\u001b[0m\n\u001b[0;31m    mar ks=34\u001b[0m\n\u001b[0m        ^\u001b[0m\n\u001b[0;31mSyntaxError\u001b[0m\u001b[0;31m:\u001b[0m invalid syntax\n"
     ]
    }
   ],
   "source": [
    "marks=34\n",
    "mar ks=34"
   ]
  },
  {
   "cell_type": "raw",
   "id": "c59c4182",
   "metadata": {},
   "source": [
    "Rules to declare variable\n",
    "    1. case sensitive\n",
    "    2. variable should not start with number\n",
    "    3. variable should not contain special character except (_)\n",
    "    4. variable should not contain any space\n",
    "    5. no need to mention datatype"
   ]
  },
  {
   "cell_type": "code",
   "execution_count": 38,
   "id": "ba686fc2",
   "metadata": {},
   "outputs": [
    {
     "name": "stdout",
     "output_type": "stream",
     "text": [
      "Abc\n"
     ]
    }
   ],
   "source": [
    "var = 'Abc'\n",
    "print(var)"
   ]
  },
  {
   "cell_type": "code",
   "execution_count": 39,
   "id": "be9061e7",
   "metadata": {},
   "outputs": [
    {
     "name": "stdout",
     "output_type": "stream",
     "text": [
      "32\n"
     ]
    }
   ],
   "source": [
    "var  = 32\n",
    "print(var)"
   ]
  },
  {
   "cell_type": "code",
   "execution_count": null,
   "id": "78af696c",
   "metadata": {},
   "outputs": [],
   "source": [
    "Rules to declare variable\n",
    "    1. case sensitive\n",
    "    2. variable should not start with number\n",
    "    3. variable should not contain special character except (_)\n",
    "    4. variable should not contain any space\n",
    "    5. no need to mention datatype\n",
    "    6. variable name should not be any identifier like for, int, float,\n",
    "       str, pass, break, continue, if elif, "
   ]
  },
  {
   "cell_type": "code",
   "execution_count": 40,
   "id": "000ebae2",
   "metadata": {},
   "outputs": [
    {
     "name": "stdout",
     "output_type": "stream",
     "text": [
      "3.14\n"
     ]
    }
   ],
   "source": [
    "var2 = 3.14\n",
    "print(var2)"
   ]
  },
  {
   "cell_type": "markdown",
   "id": "9af6f363",
   "metadata": {},
   "source": [
    "# type()\n",
    "    -it displays type of variable"
   ]
  },
  {
   "cell_type": "code",
   "execution_count": 46,
   "id": "6a7a0f95",
   "metadata": {},
   "outputs": [
    {
     "name": "stdout",
     "output_type": "stream",
     "text": [
      "45\n",
      "<class 'int'>\n"
     ]
    }
   ],
   "source": [
    "marks = 45\n",
    "print(marks)\n",
    "print(type(marks))"
   ]
  },
  {
   "cell_type": "code",
   "execution_count": 47,
   "id": "8ca2556b",
   "metadata": {},
   "outputs": [
    {
     "name": "stdout",
     "output_type": "stream",
     "text": [
      "88.46\n",
      "<class 'float'>\n"
     ]
    }
   ],
   "source": [
    "percentage = 88.46\n",
    "print(percentage)\n",
    "print(type(percentage))"
   ]
  },
  {
   "cell_type": "code",
   "execution_count": null,
   "id": "8035f341",
   "metadata": {},
   "outputs": [],
   "source": [
    "name = 'CDAC Silchar'\n",
    "print(name)\n",
    "print(type(name))"
   ]
  },
  {
   "cell_type": "code",
   "execution_count": 48,
   "id": "beee73e2",
   "metadata": {},
   "outputs": [
    {
     "name": "stdout",
     "output_type": "stream",
     "text": [
      "[11, 22, 33, 44, 55, 66]\n",
      "<class 'list'>\n"
     ]
    }
   ],
   "source": [
    "list1 = [11,22,33,44,55,66]\n",
    "print(list1)\n",
    "print(type(list1))"
   ]
  },
  {
   "cell_type": "markdown",
   "id": "45863a59",
   "metadata": {},
   "source": [
    "# id()"
   ]
  },
  {
   "cell_type": "code",
   "execution_count": 49,
   "id": "fadbee95",
   "metadata": {},
   "outputs": [
    {
     "name": "stdout",
     "output_type": "stream",
     "text": [
      "45\n",
      "140220275099248\n"
     ]
    }
   ],
   "source": [
    "marks = 45\n",
    "print(marks)\n",
    "print(id(marks))"
   ]
  },
  {
   "cell_type": "code",
   "execution_count": 50,
   "id": "294c47da",
   "metadata": {},
   "outputs": [
    {
     "name": "stdout",
     "output_type": "stream",
     "text": [
      "88.46\n",
      "140220234952912\n"
     ]
    }
   ],
   "source": [
    "percentage = 88.46\n",
    "print(percentage)\n",
    "print(id(percentage))"
   ]
  },
  {
   "cell_type": "code",
   "execution_count": 53,
   "id": "368a636b",
   "metadata": {},
   "outputs": [
    {
     "name": "stdout",
     "output_type": "stream",
     "text": [
      "cdac silchar\n",
      "cdac silchar\n"
     ]
    }
   ],
   "source": [
    "x = input()\n",
    "print(x)"
   ]
  },
  {
   "cell_type": "code",
   "execution_count": 54,
   "id": "f0ce707b",
   "metadata": {},
   "outputs": [
    {
     "name": "stdout",
     "output_type": "stream",
     "text": [
      "3.14\n",
      "3.14\n"
     ]
    }
   ],
   "source": [
    "x = input()\n",
    "print(x)"
   ]
  },
  {
   "cell_type": "code",
   "execution_count": 55,
   "id": "7ffbbd93",
   "metadata": {},
   "outputs": [
    {
     "name": "stdout",
     "output_type": "stream",
     "text": [
      "Enter input34\n",
      "34\n"
     ]
    }
   ],
   "source": [
    "x = input('Enter input')\n",
    "print(x)"
   ]
  },
  {
   "cell_type": "code",
   "execution_count": 56,
   "id": "e39a77bc",
   "metadata": {},
   "outputs": [
    {
     "name": "stdout",
     "output_type": "stream",
     "text": [
      "Enter input: 123\n",
      "Inpus is =  123\n"
     ]
    }
   ],
   "source": [
    "x = input('Enter input: ')\n",
    "print('Inpus is = ', x)"
   ]
  },
  {
   "cell_type": "code",
   "execution_count": 57,
   "id": "e29397b3",
   "metadata": {},
   "outputs": [
    {
     "name": "stdout",
     "output_type": "stream",
     "text": [
      "Enter input: CDAC Silchar\n",
      "Inpus is =  CDAC Silchar\n"
     ]
    }
   ],
   "source": [
    "x = input('Enter input: ')\n",
    "print('Inpus is = ', x)"
   ]
  },
  {
   "cell_type": "code",
   "execution_count": 59,
   "id": "0c7eadf8",
   "metadata": {},
   "outputs": [
    {
     "name": "stdout",
     "output_type": "stream",
     "text": [
      "Enter input: ABC\n",
      "Inpus is =  ABC\n",
      "Datatype is =  <class 'str'>\n"
     ]
    }
   ],
   "source": [
    "x = input('Enter input: ')\n",
    "print('Inpus is = ', x)\n",
    "print('Datatype is = ', type(x))"
   ]
  },
  {
   "cell_type": "code",
   "execution_count": 60,
   "id": "c9779110",
   "metadata": {},
   "outputs": [
    {
     "name": "stdout",
     "output_type": "stream",
     "text": [
      "Enter input: 123\n",
      "Inpus is =  123\n",
      "Datatype is =  <class 'str'>\n"
     ]
    }
   ],
   "source": [
    "x = input('Enter input: ')\n",
    "print('Inpus is = ', x)\n",
    "print('Datatype is = ', type(x))"
   ]
  },
  {
   "cell_type": "code",
   "execution_count": 61,
   "id": "925a2645",
   "metadata": {},
   "outputs": [
    {
     "name": "stdout",
     "output_type": "stream",
     "text": [
      "Enter input: 67.90\n",
      "Inpus is =  67.90\n",
      "Datatype is =  <class 'str'>\n"
     ]
    }
   ],
   "source": [
    "x = input('Enter input: ')\n",
    "print('Inpus is = ', x)\n",
    "print('Datatype is = ', type(x))"
   ]
  },
  {
   "cell_type": "raw",
   "id": "688234b3",
   "metadata": {},
   "source": [
    "Note -  All the user input in input() function of python is always STRING"
   ]
  },
  {
   "cell_type": "markdown",
   "id": "b2853b69",
   "metadata": {},
   "source": [
    "# type casting"
   ]
  },
  {
   "cell_type": "code",
   "execution_count": 62,
   "id": "e52bafd0",
   "metadata": {},
   "outputs": [
    {
     "name": "stdout",
     "output_type": "stream",
     "text": [
      "Enter number12\n",
      "Inpus is =  12\n",
      "Datatype is =  <class 'int'>\n"
     ]
    }
   ],
   "source": [
    "num = input('Enter number')\n",
    "num2 = int(num)\n",
    "print('Inpus is = ', num2)\n",
    "print('Datatype is = ', type(num2))"
   ]
  },
  {
   "cell_type": "code",
   "execution_count": 63,
   "id": "f8f7a439",
   "metadata": {},
   "outputs": [
    {
     "name": "stdout",
     "output_type": "stream",
     "text": [
      "Enter number3.33\n",
      "Inpus is =  3.33\n",
      "Datatype is =  <class 'float'>\n"
     ]
    }
   ],
   "source": [
    "num = input('Enter number')\n",
    "num2 = float(num)\n",
    "print('Inpus is = ', num2)\n",
    "print('Datatype is = ', type(num2))"
   ]
  },
  {
   "cell_type": "code",
   "execution_count": 64,
   "id": "466313e1",
   "metadata": {},
   "outputs": [
    {
     "name": "stdout",
     "output_type": "stream",
     "text": [
      "Enter numbercdac silchar\n",
      "Inpus is =  cdac silchar\n",
      "Datatype is =  <class 'str'>\n"
     ]
    }
   ],
   "source": [
    "num = input('Enter number')\n",
    "num2 = str(num)\n",
    "print('Inpus is = ', num2)\n",
    "print('Datatype is = ', type(num2))"
   ]
  },
  {
   "cell_type": "code",
   "execution_count": 28,
   "id": "fbe1d705",
   "metadata": {},
   "outputs": [
    {
     "name": "stdout",
     "output_type": "stream",
     "text": [
      "Abc Xyz\n"
     ]
    }
   ],
   "source": [
    "name = 'Abc Xyz'\n",
    "print(name)"
   ]
  },
  {
   "cell_type": "code",
   "execution_count": 30,
   "id": "fd934069",
   "metadata": {},
   "outputs": [
    {
     "name": "stdout",
     "output_type": "stream",
     "text": [
      "Abc Xyz <class 'str'>\n",
      "77777 <class 'int'>\n"
     ]
    }
   ],
   "source": [
    "name = 'Abc Xyz'\n",
    "print(name, type(name))\n",
    "name = 77777\n",
    "print(name, type(name))\n",
    "name = '77777'\n",
    "print(name, type(name))"
   ]
  },
  {
   "cell_type": "code",
   "execution_count": 32,
   "id": "498eaf1b",
   "metadata": {},
   "outputs": [
    {
     "name": "stdout",
     "output_type": "stream",
     "text": [
      "33 77\n"
     ]
    }
   ],
   "source": [
    "aa = 33\n",
    "bb = 77\n",
    "print(aa, bb)"
   ]
  },
  {
   "cell_type": "code",
   "execution_count": 33,
   "id": "501f045e",
   "metadata": {},
   "outputs": [
    {
     "name": "stdout",
     "output_type": "stream",
     "text": [
      "33 77\n"
     ]
    }
   ],
   "source": [
    "aa, bb  = 33, 77\n",
    "print(aa, bb)"
   ]
  },
  {
   "cell_type": "code",
   "execution_count": 34,
   "id": "64646e8b",
   "metadata": {},
   "outputs": [
    {
     "name": "stdout",
     "output_type": "stream",
     "text": [
      "101 cdac silchar 22\n"
     ]
    }
   ],
   "source": [
    "roll = 101\n",
    "name = 'cdac silchar'\n",
    "age = 22\n",
    "print(roll, name, age)"
   ]
  },
  {
   "cell_type": "code",
   "execution_count": 37,
   "id": "e4f4f2e7",
   "metadata": {},
   "outputs": [
    {
     "name": "stdout",
     "output_type": "stream",
     "text": [
      "Roll no -  101\n",
      "Name -  cdac silchar\n",
      "Age 22\n"
     ]
    }
   ],
   "source": [
    "roll, name, age = 101, 'cdac silchar', 22\n",
    "print('Roll no - ', roll)\n",
    "print('Name - ', name)\n",
    "print('Age', age)"
   ]
  },
  {
   "cell_type": "code",
   "execution_count": 38,
   "id": "43979cdb",
   "metadata": {},
   "outputs": [
    {
     "name": "stdout",
     "output_type": "stream",
     "text": [
      "Roll no -  cdac silchar\n",
      "Name -  101\n",
      "Age 22\n"
     ]
    }
   ],
   "source": [
    "roll, name, age = 'cdac silchar', 101, 22\n",
    "print('Roll no - ', roll)\n",
    "print('Name - ', name)\n",
    "print('Age', age)"
   ]
  },
  {
   "cell_type": "markdown",
   "id": "ea1f3fa4",
   "metadata": {},
   "source": [
    "# Command Line Arguments"
   ]
  },
  {
   "cell_type": "code",
   "execution_count": null,
   "id": "c313d164",
   "metadata": {},
   "outputs": [],
   "source": [
    "import sys\n",
    "sys.argv"
   ]
  },
  {
   "cell_type": "code",
   "execution_count": 40,
   "id": "130a3295",
   "metadata": {},
   "outputs": [],
   "source": [
    "# Run this program on terminal like this ''$ python3 commandline.py 11 22 33'\n",
    "\n",
    "import sys\n",
    "print('Total arguments: ', len(sys.argv))\n",
    "print('This file name: ', sys.argv[0])\n",
    "print('Arg 1: ', sys.argv[1])\n",
    "print('Arg 2: ', sys.argv[2])\n",
    "print('Arg 3: ', sys.argv[4])\n"
   ]
  },
  {
   "cell_type": "code",
   "execution_count": null,
   "id": "6c97f4b9",
   "metadata": {},
   "outputs": [],
   "source": []
  },
  {
   "cell_type": "code",
   "execution_count": null,
   "id": "63e2896c",
   "metadata": {},
   "outputs": [],
   "source": []
  },
  {
   "cell_type": "code",
   "execution_count": null,
   "id": "c013b377",
   "metadata": {},
   "outputs": [],
   "source": []
  },
  {
   "cell_type": "code",
   "execution_count": null,
   "id": "5828389f",
   "metadata": {},
   "outputs": [],
   "source": []
  },
  {
   "cell_type": "code",
   "execution_count": null,
   "id": "fd2b93c4",
   "metadata": {},
   "outputs": [],
   "source": []
  },
  {
   "cell_type": "code",
   "execution_count": null,
   "id": "73828466",
   "metadata": {},
   "outputs": [],
   "source": []
  },
  {
   "cell_type": "code",
   "execution_count": null,
   "id": "c670861b",
   "metadata": {},
   "outputs": [],
   "source": []
  },
  {
   "cell_type": "code",
   "execution_count": null,
   "id": "74faef87",
   "metadata": {},
   "outputs": [],
   "source": []
  }
 ],
 "metadata": {
  "kernelspec": {
   "display_name": "Python 3 (ipykernel)",
   "language": "python",
   "name": "python3"
  },
  "language_info": {
   "codemirror_mode": {
    "name": "ipython",
    "version": 3
   },
   "file_extension": ".py",
   "mimetype": "text/x-python",
   "name": "python",
   "nbconvert_exporter": "python",
   "pygments_lexer": "ipython3",
   "version": "3.10.12"
  }
 },
 "nbformat": 4,
 "nbformat_minor": 5
}
