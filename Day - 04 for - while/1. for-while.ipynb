{
 "cells": [
  {
   "cell_type": "markdown",
   "id": "6dd397df",
   "metadata": {},
   "source": [
    "## more examples on break and continue"
   ]
  },
  {
   "cell_type": "code",
   "execution_count": 2,
   "id": "376b1c55",
   "metadata": {},
   "outputs": [
    {
     "name": "stdout",
     "output_type": "stream",
     "text": [
      "i i e a o o i "
     ]
    }
   ],
   "source": [
    "# print vowels only\n",
    "string = 'This is a very common string'\n",
    "for i in string:\n",
    "    if i in 'aeiouAEIOU':\n",
    "        print(i, end = ' ')\n",
    "    else:\n",
    "        continue\n",
    "    "
   ]
  },
  {
   "cell_type": "code",
   "execution_count": 5,
   "id": "1012fa2b",
   "metadata": {
    "collapsed": true
   },
   "outputs": [
    {
     "name": "stdout",
     "output_type": "stream",
     "text": [
      "i Vowel found\n",
      "i Vowel found\n",
      "e Vowel found\n",
      "a Vowel found\n",
      "o Vowel found\n",
      "o Vowel found\n",
      "i Vowel found\n"
     ]
    }
   ],
   "source": [
    "# print vowels only\n",
    "string = 'This is a very common string'\n",
    "for i in string:\n",
    "    if i in 'aeiouAEIOU':\n",
    "        print(i, end = ' ')\n",
    "    else:\n",
    "        continue\n",
    "    print('Vowel found')\n"
   ]
  },
  {
   "cell_type": "code",
   "execution_count": 6,
   "id": "77366634",
   "metadata": {},
   "outputs": [
    {
     "name": "stdout",
     "output_type": "stream",
     "text": [
      "i Vowel found\n",
      "i Vowel found\n",
      "e Vowel found\n",
      "a Vowel found\n",
      "o Vowel found\n",
      "o Vowel found\n",
      "i Vowel found\n"
     ]
    }
   ],
   "source": [
    "# print vowels only\n",
    "string = 'This is a very common string'\n",
    "for i in string:\n",
    "    if i not in 'aeiouAEIOU':\n",
    "        continue\n",
    "    print(i, 'Vowel found')"
   ]
  },
  {
   "cell_type": "code",
   "execution_count": 8,
   "id": "aacbda3f",
   "metadata": {},
   "outputs": [
    {
     "name": "stdout",
     "output_type": "stream",
     "text": [
      "This is very a co"
     ]
    }
   ],
   "source": [
    "string = 'This is a very common string'\n",
    "for i in string:\n",
    "    if i == 'm':\n",
    "        break\n",
    "    else:\n",
    "        print(i, end = '')"
   ]
  },
  {
   "cell_type": "markdown",
   "id": "7a8aa588",
   "metadata": {},
   "source": [
    "## while loop"
   ]
  },
  {
   "cell_type": "code",
   "execution_count": null,
   "id": "3034a84c",
   "metadata": {},
   "outputs": [],
   "source": [
    "syntax:\n",
    "\n",
    "while condition:\n",
    "    pass"
   ]
  },
  {
   "cell_type": "code",
   "execution_count": 11,
   "id": "e80e857e",
   "metadata": {},
   "outputs": [
    {
     "name": "stdout",
     "output_type": "stream",
     "text": [
      "count =  0\n",
      "count =  1\n",
      "count =  2\n",
      "count =  3\n",
      "count =  4\n",
      "count =  5\n",
      "count =  6\n",
      "count =  7\n",
      "count =  8\n",
      "count =  9\n"
     ]
    }
   ],
   "source": [
    "count = 0\n",
    "while count < 10:\n",
    "    print('count = ', count)\n",
    "    count += 1"
   ]
  },
  {
   "cell_type": "code",
   "execution_count": 12,
   "id": "9a242671",
   "metadata": {},
   "outputs": [
    {
     "name": "stdout",
     "output_type": "stream",
     "text": [
      "*******\n",
      "*******\n",
      "*******\n",
      "*******\n",
      "*******\n",
      "*******\n",
      "*******\n"
     ]
    }
   ],
   "source": [
    "i = 0\n",
    "while i < 7:\n",
    "    j = 0\n",
    "    while j < 7:\n",
    "        print('*', end = '')\n",
    "        j +=1\n",
    "    i += 1\n",
    "    print()"
   ]
  },
  {
   "cell_type": "code",
   "execution_count": 15,
   "id": "2a5def9c",
   "metadata": {},
   "outputs": [
    {
     "name": "stdout",
     "output_type": "stream",
     "text": [
      "\n",
      "*\n",
      "**\n",
      "***\n",
      "****\n",
      "*****\n",
      "******\n"
     ]
    }
   ],
   "source": [
    "i = 0\n",
    "while i < 7:\n",
    "    j = 0\n",
    "    while j < i:\n",
    "        print('*', end = '')\n",
    "        j += 1\n",
    "    i += 1\n",
    "    print()"
   ]
  },
  {
   "cell_type": "code",
   "execution_count": 17,
   "id": "9eee10f9",
   "metadata": {},
   "outputs": [
    {
     "name": "stdout",
     "output_type": "stream",
     "text": [
      "count = 9\n",
      "count = 8\n",
      "count = 7\n",
      "count = 6\n",
      "count = 5\n",
      "count = 4\n",
      "count = 3\n",
      "count = 2\n",
      "count = 1\n"
     ]
    }
   ],
   "source": [
    "# print 0 to 9 in reverse order\n",
    "count = 9\n",
    "while count >= 0:\n",
    "    print('count =', count)\n",
    "    count -= 1"
   ]
  },
  {
   "cell_type": "code",
   "execution_count": 30,
   "id": "87420ef0",
   "metadata": {},
   "outputs": [
    {
     "name": "stdout",
     "output_type": "stream",
     "text": [
      "Number is prime\n"
     ]
    }
   ],
   "source": [
    "num = 97\n",
    "flag = True\n",
    "for i in range(2, num):\n",
    "    if num%i == 0:        \n",
    "        flag = False\n",
    "        break\n",
    "    else:\n",
    "        flag = True\n",
    "if flag == True:\n",
    "    print('Number is prime')\n",
    "else:\n",
    "    print('Number is not prime')"
   ]
  },
  {
   "cell_type": "code",
   "execution_count": 31,
   "id": "ba6bc659",
   "metadata": {},
   "outputs": [
    {
     "name": "stdout",
     "output_type": "stream",
     "text": [
      "Number is prime\n"
     ]
    }
   ],
   "source": [
    "num = 97\n",
    "flag = True\n",
    "for i in range(2, num):\n",
    "    if num%i == 0:        \n",
    "        flag = False\n",
    "        break\n",
    "    else:\n",
    "        flag = True\n",
    "# if flag == True:\n",
    "if flag:\n",
    "    print('Number is prime')\n",
    "else:\n",
    "    print('Number is not prime')"
   ]
  },
  {
   "cell_type": "code",
   "execution_count": 36,
   "id": "74109dd3",
   "metadata": {},
   "outputs": [
    {
     "name": "stdout",
     "output_type": "stream",
     "text": [
      "7 is prime\n"
     ]
    }
   ],
   "source": [
    "num = 7\n",
    "for i in range(2, num):\n",
    "    if num%i == 0:        \n",
    "        print(num, 'is not prime')\n",
    "        break\n",
    "else:\n",
    "    print(num, 'is prime')"
   ]
  },
  {
   "cell_type": "code",
   "execution_count": 55,
   "id": "7c0126b2",
   "metadata": {},
   "outputs": [
    {
     "name": "stdout",
     "output_type": "stream",
     "text": [
      "4 is not prime\n"
     ]
    }
   ],
   "source": [
    "num = 4\n",
    "flag = True\n",
    "for i in range(2, num//2 + 1):\n",
    "    if num%i == 0:        \n",
    "        flag = False\n",
    "        break\n",
    "    else:\n",
    "        flag = True\n",
    "if flag:\n",
    "    print(num, 'is prime')\n",
    "else:\n",
    "    print(num, 'is not prime')"
   ]
  },
  {
   "cell_type": "code",
   "execution_count": 1,
   "id": "442109d6",
   "metadata": {},
   "outputs": [
    {
     "name": "stdout",
     "output_type": "stream",
     "text": [
      "0 1 2 3 4 "
     ]
    }
   ],
   "source": [
    "for i in range(5):\n",
    "    print(i, end =' ')"
   ]
  },
  {
   "cell_type": "code",
   "execution_count": 2,
   "id": "fc82c6d4",
   "metadata": {},
   "outputs": [
    {
     "name": "stdout",
     "output_type": "stream",
     "text": [
      "0 1 2 3 4 "
     ]
    }
   ],
   "source": [
    "count = 0\n",
    "while True:\n",
    "    print(count, end =' ')\n",
    "    count +=1\n",
    "    if count == 5:\n",
    "        break"
   ]
  },
  {
   "cell_type": "code",
   "execution_count": 3,
   "id": "064bbb24",
   "metadata": {},
   "outputs": [
    {
     "name": "stdout",
     "output_type": "stream",
     "text": [
      "0 1 2 3 4 "
     ]
    }
   ],
   "source": [
    "count = 0\n",
    "while count !=5:\n",
    "    print(count, end =' ')\n",
    "    count +=1"
   ]
  },
  {
   "cell_type": "code",
   "execution_count": 4,
   "id": "ad07721f",
   "metadata": {},
   "outputs": [
    {
     "name": "stdout",
     "output_type": "stream",
     "text": [
      "0 1 2 3 4 5 6 Am I also getting unexecuted?\n"
     ]
    }
   ],
   "source": [
    "count = 0\n",
    "while count !=10:\n",
    "    \n",
    "    print(count, end =' ')\n",
    "    count +=1\n",
    "    if count % 7 == 0:\n",
    "        break\n",
    "        \n",
    "        \n",
    "print('Am I also getting unexecuted?')"
   ]
  },
  {
   "cell_type": "code",
   "execution_count": 9,
   "id": "b1a62dde",
   "metadata": {},
   "outputs": [
    {
     "name": "stdout",
     "output_type": "stream",
     "text": [
      "1 is not divisible by 3\n",
      "2 is not divisible by 3\n",
      "3 4 is not divisible by 3\n",
      "5 is not divisible by 3\n",
      "6 7 is not divisible by 3\n",
      "8 is not divisible by 3\n",
      "9 10 is not divisible by 3\n",
      "Am I also getting unexecuted?\n"
     ]
    }
   ],
   "source": [
    "count = 0\n",
    "while count !=10:\n",
    "    count +=1\n",
    "    if count % 3 == 0:\n",
    "        print(count, end =' ')\n",
    "        \n",
    "        continue\n",
    "    print(count, 'is not divisible by 3')\n",
    "        \n",
    "        \n",
    "print('Am I also getting unexecuted?')"
   ]
  },
  {
   "cell_type": "code",
   "execution_count": 12,
   "id": "9e47294e",
   "metadata": {},
   "outputs": [
    {
     "name": "stdout",
     "output_type": "stream",
     "text": [
      "0 is divisible by 3\n",
      "1 Am i getting executed for true part?\n",
      "2 Am i getting executed for true part?\n",
      "3 is divisible by 3\n",
      "4 Am i getting executed for true part?\n",
      "5 Am i getting executed for true part?\n",
      "6 is divisible by 3\n",
      "7 Am i getting executed for true part?\n",
      "8 Am i getting executed for true part?\n",
      "9 is divisible by 3\n",
      "I am the last statement in this program\n"
     ]
    }
   ],
   "source": [
    "for i in range(10):\n",
    "    if i%3 == 0:\n",
    "        print(i, 'is divisible by 3')\n",
    "        continue\n",
    "    print(i, 'Am i getting executed for true part?')\n",
    "print('I am the last statement in this program')"
   ]
  },
  {
   "cell_type": "code",
   "execution_count": 15,
   "id": "074f6f04",
   "metadata": {},
   "outputs": [
    {
     "name": "stdout",
     "output_type": "stream",
     "text": [
      "i = 0\n",
      "i = 1\n",
      "i = 2\n",
      "i = 3\n",
      "i = 4\n",
      "i = 6\n",
      "i = 7\n",
      "i = 8\n",
      "i = 9\n"
     ]
    }
   ],
   "source": [
    "for i in range(10):\n",
    "    if i == 5:\n",
    "        continue\n",
    "    print('i =', i)"
   ]
  }
 ],
 "metadata": {
  "kernelspec": {
   "display_name": "Python 3 (ipykernel)",
   "language": "python",
   "name": "python3"
  },
  "language_info": {
   "codemirror_mode": {
    "name": "ipython",
    "version": 3
   },
   "file_extension": ".py",
   "mimetype": "text/x-python",
   "name": "python",
   "nbconvert_exporter": "python",
   "pygments_lexer": "ipython3",
   "version": "3.10.12"
  }
 },
 "nbformat": 4,
 "nbformat_minor": 5
}
