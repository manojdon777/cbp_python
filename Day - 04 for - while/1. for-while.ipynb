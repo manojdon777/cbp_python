{
 "cells": [
  {
   "cell_type": "markdown",
   "id": "abd58ed1",
   "metadata": {},
   "source": [
    "## more examples on break and continue"
   ]
  },
  {
   "cell_type": "code",
   "execution_count": 2,
   "id": "46812de2",
   "metadata": {},
   "outputs": [
    {
     "name": "stdout",
     "output_type": "stream",
     "text": [
      "i i e a o o i "
     ]
    }
   ],
   "source": [
    "# print vowels only\n",
    "string = 'This is very a common string'\n",
    "for i in string:\n",
    "    if i in 'aeiouAEIOU':\n",
    "        print(i, end = ' ')\n",
    "    else:\n",
    "        continue\n",
    "    "
   ]
  },
  {
   "cell_type": "code",
   "execution_count": 5,
   "id": "d1c3af9b",
   "metadata": {
    "collapsed": true
   },
   "outputs": [
    {
     "name": "stdout",
     "output_type": "stream",
     "text": [
      "i Vowel found\n",
      "i Vowel found\n",
      "e Vowel found\n",
      "a Vowel found\n",
      "o Vowel found\n",
      "o Vowel found\n",
      "i Vowel found\n"
     ]
    }
   ],
   "source": [
    "# print vowels only\n",
    "string = 'This is very a common string'\n",
    "for i in string:\n",
    "    if i in 'aeiouAEIOU':\n",
    "        print(i, end = ' ')\n",
    "    else:\n",
    "        continue\n",
    "    print('Vowel found')\n"
   ]
  },
  {
   "cell_type": "code",
   "execution_count": 6,
   "id": "0f71040a",
   "metadata": {},
   "outputs": [
    {
     "name": "stdout",
     "output_type": "stream",
     "text": [
      "i Vowel found\n",
      "i Vowel found\n",
      "e Vowel found\n",
      "a Vowel found\n",
      "o Vowel found\n",
      "o Vowel found\n",
      "i Vowel found\n"
     ]
    }
   ],
   "source": [
    "# print vowels only\n",
    "string = 'This is very a common string'\n",
    "for i in string:\n",
    "    if i not in 'aeiouAEIOU':\n",
    "        continue\n",
    "    print(i, 'Vowel found')\n"
   ]
  },
  {
   "cell_type": "code",
   "execution_count": 8,
   "id": "095eeece",
   "metadata": {},
   "outputs": [
    {
     "name": "stdout",
     "output_type": "stream",
     "text": [
      "This is very a co"
     ]
    }
   ],
   "source": [
    "string = 'This is very a common string'\n",
    "for i in string:\n",
    "    if i == 'm':\n",
    "        break\n",
    "    else:\n",
    "        print(i, end = '')"
   ]
  },
  {
   "cell_type": "markdown",
   "id": "b8de8801",
   "metadata": {},
   "source": [
    "## while loop"
   ]
  },
  {
   "cell_type": "code",
   "execution_count": null,
   "id": "8130206a",
   "metadata": {},
   "outputs": [],
   "source": [
    "syntax:\n",
    "\n",
    "while condition:\n",
    "    pass"
   ]
  },
  {
   "cell_type": "code",
   "execution_count": null,
   "id": "823f8d9c",
   "metadata": {},
   "outputs": [],
   "source": [
    "for"
   ]
  },
  {
   "cell_type": "code",
   "execution_count": null,
   "id": "629fba1e",
   "metadata": {},
   "outputs": [],
   "source": []
  }
 ],
 "metadata": {
  "kernelspec": {
   "display_name": "Python 3 (ipykernel)",
   "language": "python",
   "name": "python3"
  },
  "language_info": {
   "codemirror_mode": {
    "name": "ipython",
    "version": 3
   },
   "file_extension": ".py",
   "mimetype": "text/x-python",
   "name": "python",
   "nbconvert_exporter": "python",
   "pygments_lexer": "ipython3",
   "version": "3.10.12"
  }
 },
 "nbformat": 4,
 "nbformat_minor": 5
}
