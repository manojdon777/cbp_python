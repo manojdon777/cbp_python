{
 "cells": [
  {
   "cell_type": "markdown",
   "id": "972ecb05",
   "metadata": {},
   "source": [
    "## more examples on break and continue"
   ]
  },
  {
   "cell_type": "code",
   "execution_count": 2,
   "id": "ce9eede2",
   "metadata": {},
   "outputs": [
    {
     "name": "stdout",
     "output_type": "stream",
     "text": [
      "i i e a o o i "
     ]
    }
   ],
   "source": [
    "# print vowels only\n",
    "string = 'This is very a common string'\n",
    "for i in string:\n",
    "    if i in 'aeiouAEIOU':\n",
    "        print(i, end = ' ')\n",
    "    else:\n",
    "        continue\n",
    "    "
   ]
  },
  {
   "cell_type": "code",
   "execution_count": 5,
   "id": "fb1293cf",
   "metadata": {
    "collapsed": true
   },
   "outputs": [
    {
     "name": "stdout",
     "output_type": "stream",
     "text": [
      "i Vowel found\n",
      "i Vowel found\n",
      "e Vowel found\n",
      "a Vowel found\n",
      "o Vowel found\n",
      "o Vowel found\n",
      "i Vowel found\n"
     ]
    }
   ],
   "source": [
    "# print vowels only\n",
    "string = 'This is very a common string'\n",
    "for i in string:\n",
    "    if i in 'aeiouAEIOU':\n",
    "        print(i, end = ' ')\n",
    "    else:\n",
    "        continue\n",
    "    print('Vowel found')\n"
   ]
  },
  {
   "cell_type": "code",
   "execution_count": 6,
   "id": "c7d760c8",
   "metadata": {},
   "outputs": [
    {
     "name": "stdout",
     "output_type": "stream",
     "text": [
      "i Vowel found\n",
      "i Vowel found\n",
      "e Vowel found\n",
      "a Vowel found\n",
      "o Vowel found\n",
      "o Vowel found\n",
      "i Vowel found\n"
     ]
    }
   ],
   "source": [
    "# print vowels only\n",
    "string = 'This is very a common string'\n",
    "for i in string:\n",
    "    if i not in 'aeiouAEIOU':\n",
    "        continue\n",
    "    print(i, 'Vowel found')\n"
   ]
  },
  {
   "cell_type": "code",
   "execution_count": 8,
   "id": "6180fc0f",
   "metadata": {},
   "outputs": [
    {
     "name": "stdout",
     "output_type": "stream",
     "text": [
      "This is very a co"
     ]
    }
   ],
   "source": [
    "string = 'This is very a common string'\n",
    "for i in string:\n",
    "    if i == 'm':\n",
    "        break\n",
    "    else:\n",
    "        print(i, end = '')"
   ]
  },
  {
   "cell_type": "code",
   "execution_count": null,
   "id": "a24dd4c3",
   "metadata": {},
   "outputs": [],
   "source": []
  },
  {
   "cell_type": "code",
   "execution_count": null,
   "id": "01fb2aa8",
   "metadata": {},
   "outputs": [],
   "source": []
  },
  {
   "cell_type": "code",
   "execution_count": null,
   "id": "d7ffa5b0",
   "metadata": {},
   "outputs": [],
   "source": []
  },
  {
   "cell_type": "code",
   "execution_count": null,
   "id": "aa166888",
   "metadata": {},
   "outputs": [],
   "source": []
  }
 ],
 "metadata": {
  "kernelspec": {
   "display_name": "Python 3 (ipykernel)",
   "language": "python",
   "name": "python3"
  },
  "language_info": {
   "codemirror_mode": {
    "name": "ipython",
    "version": 3
   },
   "file_extension": ".py",
   "mimetype": "text/x-python",
   "name": "python",
   "nbconvert_exporter": "python",
   "pygments_lexer": "ipython3",
   "version": "3.10.12"
  }
 },
 "nbformat": 4,
 "nbformat_minor": 5
}
