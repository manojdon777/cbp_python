{
 "cells": [
  {
   "cell_type": "markdown",
   "id": "eb413360",
   "metadata": {},
   "source": [
    "## more examples on break and continue"
   ]
  },
  {
   "cell_type": "code",
   "execution_count": 2,
   "id": "d7a1d8af",
   "metadata": {},
   "outputs": [
    {
     "name": "stdout",
     "output_type": "stream",
     "text": [
      "i i e a o o i "
     ]
    }
   ],
   "source": [
    "# print vowels only\n",
    "string = 'This is very a common string'\n",
    "for i in string:\n",
    "    if i in 'aeiouAEIOU':\n",
    "        print(i, end = ' ')\n",
    "    else:\n",
    "        continue\n",
    "    "
   ]
  },
  {
   "cell_type": "code",
   "execution_count": 5,
   "id": "fd045ea8",
   "metadata": {
    "collapsed": true
   },
   "outputs": [
    {
     "name": "stdout",
     "output_type": "stream",
     "text": [
      "i Vowel found\n",
      "i Vowel found\n",
      "e Vowel found\n",
      "a Vowel found\n",
      "o Vowel found\n",
      "o Vowel found\n",
      "i Vowel found\n"
     ]
    }
   ],
   "source": [
    "# print vowels only\n",
    "string = 'This is very a common string'\n",
    "for i in string:\n",
    "    if i in 'aeiouAEIOU':\n",
    "        print(i, end = ' ')\n",
    "    else:\n",
    "        continue\n",
    "    print('Vowel found')\n"
   ]
  },
  {
   "cell_type": "code",
   "execution_count": 6,
   "id": "401b833b",
   "metadata": {},
   "outputs": [
    {
     "name": "stdout",
     "output_type": "stream",
     "text": [
      "i Vowel found\n",
      "i Vowel found\n",
      "e Vowel found\n",
      "a Vowel found\n",
      "o Vowel found\n",
      "o Vowel found\n",
      "i Vowel found\n"
     ]
    }
   ],
   "source": [
    "# print vowels only\n",
    "string = 'This is very a common string'\n",
    "for i in string:\n",
    "    if i not in 'aeiouAEIOU':\n",
    "        continue\n",
    "    print(i, 'Vowel found')"
   ]
  },
  {
   "cell_type": "code",
   "execution_count": 8,
   "id": "9f208865",
   "metadata": {},
   "outputs": [
    {
     "name": "stdout",
     "output_type": "stream",
     "text": [
      "This is very a co"
     ]
    }
   ],
   "source": [
    "string = 'This is very a common string'\n",
    "for i in string:\n",
    "    if i == 'm':\n",
    "        break\n",
    "    else:\n",
    "        print(i, end = '')"
   ]
  },
  {
   "cell_type": "markdown",
   "id": "9838fb67",
   "metadata": {},
   "source": [
    "## while loop"
   ]
  },
  {
   "cell_type": "code",
   "execution_count": null,
   "id": "3de16124",
   "metadata": {},
   "outputs": [],
   "source": [
    "syntax:\n",
    "\n",
    "while condition:\n",
    "    pass"
   ]
  },
  {
   "cell_type": "code",
   "execution_count": 11,
   "id": "d57d6faa",
   "metadata": {},
   "outputs": [
    {
     "name": "stdout",
     "output_type": "stream",
     "text": [
      "count =  0\n",
      "count =  1\n",
      "count =  2\n",
      "count =  3\n",
      "count =  4\n",
      "count =  5\n",
      "count =  6\n",
      "count =  7\n",
      "count =  8\n",
      "count =  9\n"
     ]
    }
   ],
   "source": [
    "count = 0\n",
    "while count < 10:\n",
    "    print('count = ', count)\n",
    "    count += 1"
   ]
  },
  {
   "cell_type": "code",
   "execution_count": 12,
   "id": "3f8f9477",
   "metadata": {},
   "outputs": [
    {
     "name": "stdout",
     "output_type": "stream",
     "text": [
      "*******\n",
      "*******\n",
      "*******\n",
      "*******\n",
      "*******\n",
      "*******\n",
      "*******\n"
     ]
    }
   ],
   "source": [
    "i = 0\n",
    "while i < 7:\n",
    "    j = 0\n",
    "    while j < 7:\n",
    "        print('*', end = '')\n",
    "        j +=1\n",
    "    i += 1\n",
    "    print()"
   ]
  },
  {
   "cell_type": "code",
   "execution_count": 15,
   "id": "dabf243d",
   "metadata": {},
   "outputs": [
    {
     "name": "stdout",
     "output_type": "stream",
     "text": [
      "\n",
      "*\n",
      "**\n",
      "***\n",
      "****\n",
      "*****\n",
      "******\n"
     ]
    }
   ],
   "source": [
    "i = 0\n",
    "while i < 7:\n",
    "    j = 0\n",
    "    while j < i:\n",
    "        print('*', end = '')\n",
    "        j += 1\n",
    "    i += 1\n",
    "    print()"
   ]
  },
  {
   "cell_type": "code",
   "execution_count": 17,
   "id": "a8f6e3af",
   "metadata": {},
   "outputs": [
    {
     "name": "stdout",
     "output_type": "stream",
     "text": [
      "count = 9\n",
      "count = 8\n",
      "count = 7\n",
      "count = 6\n",
      "count = 5\n",
      "count = 4\n",
      "count = 3\n",
      "count = 2\n",
      "count = 1\n"
     ]
    }
   ],
   "source": [
    "# print 0 to 9 in reverse order\n",
    "count = 9\n",
    "while count >= 0:\n",
    "    print('count =', count)\n",
    "    count -= 1"
   ]
  },
  {
   "cell_type": "code",
   "execution_count": 30,
   "id": "173d5621",
   "metadata": {},
   "outputs": [
    {
     "name": "stdout",
     "output_type": "stream",
     "text": [
      "Number is prime\n"
     ]
    }
   ],
   "source": [
    "num = 97\n",
    "flag = True\n",
    "for i in range(2, num):\n",
    "    if num%i == 0:        \n",
    "        flag = False\n",
    "        break\n",
    "    else:\n",
    "        flag = True\n",
    "if flag == True:\n",
    "    print('Number is prime')\n",
    "else:\n",
    "    print('Number is not prime')"
   ]
  },
  {
   "cell_type": "code",
   "execution_count": 31,
   "id": "866882da",
   "metadata": {},
   "outputs": [
    {
     "name": "stdout",
     "output_type": "stream",
     "text": [
      "Number is prime\n"
     ]
    }
   ],
   "source": [
    "num = 97\n",
    "flag = True\n",
    "for i in range(2, num):\n",
    "    if num%i == 0:        \n",
    "        flag = False\n",
    "        break\n",
    "    else:\n",
    "        flag = True\n",
    "# if flag == True:\n",
    "if flag:\n",
    "    print('Number is prime')\n",
    "else:\n",
    "    print('Number is not prime')"
   ]
  },
  {
   "cell_type": "code",
   "execution_count": 36,
   "id": "e59069d4",
   "metadata": {},
   "outputs": [
    {
     "name": "stdout",
     "output_type": "stream",
     "text": [
      "7 is prime\n"
     ]
    }
   ],
   "source": [
    "num = 7\n",
    "for i in range(2, num):\n",
    "    if num%i == 0:        \n",
    "        print(num, 'is not prime')\n",
    "        break\n",
    "else:\n",
    "    print(num, 'is prime')"
   ]
  },
  {
   "cell_type": "code",
   "execution_count": 42,
   "id": "c520f7c9",
   "metadata": {},
   "outputs": [
    {
     "name": "stdout",
     "output_type": "stream",
     "text": [
      "4 is prime\n"
     ]
    }
   ],
   "source": [
    "num = 4\n",
    "flag = True\n",
    "for i in range(2, num//2):\n",
    "    if num%i == 0:        \n",
    "        flag = False\n",
    "        break\n",
    "    else:\n",
    "        flag = True\n",
    "if flag:\n",
    "    print(num, 'is prime')\n",
    "else:\n",
    "    print(num, 'is not prime')"
   ]
  },
  {
   "cell_type": "code",
   "execution_count": null,
   "id": "510294fa",
   "metadata": {},
   "outputs": [],
   "source": []
  }
 ],
 "metadata": {
  "kernelspec": {
   "display_name": "Python 3 (ipykernel)",
   "language": "python",
   "name": "python3"
  },
  "language_info": {
   "codemirror_mode": {
    "name": "ipython",
    "version": 3
   },
   "file_extension": ".py",
   "mimetype": "text/x-python",
   "name": "python",
   "nbconvert_exporter": "python",
   "pygments_lexer": "ipython3",
   "version": "3.10.12"
  }
 },
 "nbformat": 4,
 "nbformat_minor": 5
}
