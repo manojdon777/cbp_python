{
 "cells": [
  {
   "cell_type": "code",
   "execution_count": 2,
   "id": "c1e71168",
   "metadata": {},
   "outputs": [
    {
     "name": "stdout",
     "output_type": "stream",
     "text": [
      "              \n",
      "            * \n",
      "          * * \n",
      "        * * * \n",
      "      * * * * \n",
      "    * * * * * \n",
      "  * * * * * * \n"
     ]
    }
   ],
   "source": [
    "n = 7\n",
    "for i in range(n):\n",
    "    for j in range(n - i):\n",
    "        print(' ', end = ' ')\n",
    "    for j in range(i):\n",
    "        print('*', end = ' ')\n",
    "    print()"
   ]
  },
  {
   "cell_type": "code",
   "execution_count": 19,
   "id": "074e9bc9",
   "metadata": {},
   "outputs": [
    {
     "name": "stdout",
     "output_type": "stream",
     "text": [
      "              \n",
      "             *  \n",
      "           *   *  \n",
      "         *   *   *  \n",
      "       *   *   *   *  \n",
      "     *   *   *   *   *  \n",
      "   *   *   *   *   *   *  \n"
     ]
    }
   ],
   "source": [
    "n = 7\n",
    "for i in range(n):\n",
    "    for j in range(n - i):\n",
    "        print(' ', end = ' ')\n",
    "    for j in range(i):\n",
    "        print(' * ', end = ' ')\n",
    "    print()"
   ]
  },
  {
   "cell_type": "code",
   "execution_count": null,
   "id": "95109b89",
   "metadata": {},
   "outputs": [],
   "source": [
    "# Q10 Write progrom for following output.\n",
    "\n",
    "P \n",
    "y y \n",
    "t t t \n",
    "h h h h \n",
    "o o o o o \n",
    "n n n n n n "
   ]
  },
  {
   "cell_type": "code",
   "execution_count": 25,
   "id": "39b5cb0e",
   "metadata": {},
   "outputs": [
    {
     "name": "stdout",
     "output_type": "stream",
     "text": [
      "P y t h o n \n",
      "P y t h o n "
     ]
    }
   ],
   "source": [
    "string = 'Python'\n",
    "length = 0\n",
    "for i in string:\n",
    "    length += 1\n",
    "\n",
    "for i in range(length):\n",
    "    print(string[i], end = ' ')\n",
    "    \n",
    "print()\n",
    "\n",
    "for char in string:\n",
    "    print(char, end = ' ')\n"
   ]
  },
  {
   "cell_type": "code",
   "execution_count": 32,
   "id": "38675ee5",
   "metadata": {},
   "outputs": [
    {
     "name": "stdout",
     "output_type": "stream",
     "text": [
      "P \n",
      "y y \n",
      "t t t \n",
      "h h h h \n",
      "o o o o o \n",
      "n n n n n n \n"
     ]
    }
   ],
   "source": [
    "string = 'Python'\n",
    "length = 0\n",
    "for i in string:\n",
    "    length += 1\n",
    "\n",
    "for i in range(length):\n",
    "    for j in range(i+1):\n",
    "        print(string[i], end = ' ')\n",
    "    print()\n"
   ]
  },
  {
   "cell_type": "raw",
   "id": "ca2a64c2",
   "metadata": {},
   "source": [
    "Q. Get follwing output\n",
    "\n",
    "* * * * * * \n",
    "* * * * * \n",
    "* * * * \n",
    "* * * \n",
    "* * \n",
    "* "
   ]
  },
  {
   "cell_type": "code",
   "execution_count": 40,
   "id": "b72347b1",
   "metadata": {},
   "outputs": [
    {
     "name": "stdout",
     "output_type": "stream",
     "text": [
      "* * * * * * * \n",
      "* * * * * * \n",
      "* * * * * \n",
      "* * * * \n",
      "* * * \n",
      "* * \n",
      "* \n"
     ]
    }
   ],
   "source": [
    "n = 7\n",
    "for i in range(n):\n",
    "    for j in range(n - i):\n",
    "        print('*', end = ' ')\n",
    "#     for j in range(i):\n",
    "#         print('*', end = ' ')\n",
    "    print()"
   ]
  },
  {
   "cell_type": "code",
   "execution_count": null,
   "id": "cc8a6ebc",
   "metadata": {},
   "outputs": [],
   "source": [
    "# Q8 Write progrom for following output.\n",
    "A \n",
    "B C \n",
    "D E F \n",
    "G H I J \n",
    "K L M N O "
   ]
  },
  {
   "cell_type": "code",
   "execution_count": 45,
   "id": "7f21c577",
   "metadata": {},
   "outputs": [
    {
     "name": "stdout",
     "output_type": "stream",
     "text": [
      "\n",
      "A \n",
      "B C \n",
      "D E F \n",
      "G H I J \n",
      "K L M N O \n"
     ]
    }
   ],
   "source": [
    "string = 'ABCDEFGHIJKLMNO'\n",
    "index = 0\n",
    "n = 5\n",
    "for i in range(5+1):\n",
    "    for j in range(i):\n",
    "        print(string[index], end = ' ')\n",
    "        index += 1\n",
    "    print()\n"
   ]
  },
  {
   "cell_type": "code",
   "execution_count": 46,
   "id": "eb85542a",
   "metadata": {},
   "outputs": [
    {
     "name": "stdout",
     "output_type": "stream",
     "text": [
      "\n",
      "0 \n",
      "1 2 \n",
      "3 4 5 \n",
      "6 7 8 9 \n",
      "10 11 12 13 14 \n"
     ]
    }
   ],
   "source": [
    "# string = 'ABCDEFGHIJKLMNO'\n",
    "index = 0\n",
    "n = 5\n",
    "for i in range(5+1):\n",
    "    for j in range(i):\n",
    "        print(index, end = ' ')\n",
    "        index += 1\n",
    "    print()\n"
   ]
  },
  {
   "cell_type": "markdown",
   "id": "ae767fab",
   "metadata": {},
   "source": [
    "## break\n",
    "breaks execution of remaining all iterations"
   ]
  },
  {
   "cell_type": "code",
   "execution_count": 50,
   "id": "b1f1f003",
   "metadata": {},
   "outputs": [],
   "source": [
    "for i in range(7):\n",
    "    break"
   ]
  },
  {
   "cell_type": "code",
   "execution_count": 51,
   "id": "3315416c",
   "metadata": {},
   "outputs": [
    {
     "name": "stdout",
     "output_type": "stream",
     "text": [
      "5 "
     ]
    }
   ],
   "source": [
    "for i in range(7):\n",
    "    if i == 5:\n",
    "        print(i, end = ' ')\n",
    "        break"
   ]
  },
  {
   "cell_type": "code",
   "execution_count": 54,
   "id": "7874b591",
   "metadata": {},
   "outputs": [
    {
     "name": "stdout",
     "output_type": "stream",
     "text": [
      "0\n",
      "1\n",
      "2\n",
      "3\n",
      "4\n",
      "We are breaking loop here for i = 5\n"
     ]
    }
   ],
   "source": [
    "for i in range(100):\n",
    "    if i == 5:\n",
    "        print('We are breaking loop here for i =', i)\n",
    "        break\n",
    "    else:\n",
    "        print(i)"
   ]
  },
  {
   "cell_type": "code",
   "execution_count": 55,
   "id": "63cad6d7",
   "metadata": {},
   "outputs": [
    {
     "name": "stdout",
     "output_type": "stream",
     "text": [
      "0\n",
      "1\n",
      "2\n",
      "3\n",
      "4\n",
      "5\n",
      "6\n",
      "We are breaking loop here for i = 7\n"
     ]
    }
   ],
   "source": [
    "for i in range(1000):\n",
    "    if i != 7:\n",
    "        print(i)\n",
    "    else:\n",
    "        print('We are breaking loop here for i =', i)\n",
    "        break"
   ]
  },
  {
   "cell_type": "markdown",
   "id": "168bb67e",
   "metadata": {},
   "source": [
    "## continue\n",
    "   it will stop execution of current iteration from where the 'continue' appears, \n",
    "    and will continue execution of remaining iterations"
   ]
  },
  {
   "cell_type": "code",
   "execution_count": 58,
   "id": "55f6d8aa",
   "metadata": {},
   "outputs": [
    {
     "name": "stdout",
     "output_type": "stream",
     "text": [
      "0\n",
      "**********\n",
      "1\n",
      "**********\n",
      "2\n",
      "**********\n",
      "3\n",
      "**********\n",
      "4\n",
      "**********\n",
      "5\n",
      "**********\n",
      "6\n",
      "**********\n",
      "8\n",
      "**********\n",
      "9\n",
      "**********\n"
     ]
    }
   ],
   "source": [
    "for i in range(10):\n",
    "    if i == 7:\n",
    "        continue\n",
    "        print('something will happen here i =', i)\n",
    "    else:\n",
    "        print(i)\n",
    "    print('**********')"
   ]
  },
  {
   "cell_type": "code",
   "execution_count": 59,
   "id": "27554784",
   "metadata": {},
   "outputs": [
    {
     "name": "stdout",
     "output_type": "stream",
     "text": [
      "0\n",
      "**********\n",
      "1\n",
      "**********\n",
      "2\n",
      "**********\n",
      "3\n",
      "**********\n",
      "4\n",
      "**********\n",
      "5\n",
      "**********\n",
      "6\n",
      "**********\n",
      "**********\n",
      "8\n",
      "**********\n",
      "9\n",
      "**********\n"
     ]
    }
   ],
   "source": [
    "for i in range(10):\n",
    "    if i == 7:\n",
    "        pass\n",
    "    else:\n",
    "        print(i)\n",
    "    print('**********')"
   ]
  },
  {
   "cell_type": "code",
   "execution_count": 60,
   "id": "2ed5b22a",
   "metadata": {},
   "outputs": [
    {
     "name": "stdout",
     "output_type": "stream",
     "text": [
      "0 2 4 6 8 10 12 14 16 18 20 22 24 26 28 "
     ]
    }
   ],
   "source": [
    "for i in range(30):\n",
    "    if i%2 == 0:\n",
    "        print(i, end = ' ')\n",
    "    else:\n",
    "        continue"
   ]
  },
  {
   "cell_type": "code",
   "execution_count": 63,
   "id": "0a9679a7",
   "metadata": {},
   "outputs": [
    {
     "name": "stdout",
     "output_type": "stream",
     "text": [
      "0 *, 2 *, 4 *, 6 *, 8 *, 10 *, 12 *, 14 *, 16 *, 18 *, 20 *, 22 *, 24 *, 26 *, 28 *, "
     ]
    }
   ],
   "source": [
    "for i in range(30):\n",
    "    if i%2 == 0:\n",
    "        print(i, end = ' ')\n",
    "    else:\n",
    "#         continue\n",
    "        print('*, ', end = '')"
   ]
  },
  {
   "cell_type": "code",
   "execution_count": 64,
   "id": "a705c156",
   "metadata": {},
   "outputs": [
    {
     "name": "stdout",
     "output_type": "stream",
     "text": [
      "1 3 5 7 9 11 13 15 17 19 21 23 25 27 29 "
     ]
    }
   ],
   "source": [
    "for i in range(30):\n",
    "    if i%2 == 0:\n",
    "        continue\n",
    "    else:\n",
    "        print(i, end = ' ')"
   ]
  },
  {
   "cell_type": "code",
   "execution_count": 66,
   "id": "9bd7a22b",
   "metadata": {},
   "outputs": [
    {
     "name": "stdout",
     "output_type": "stream",
     "text": [
      "0\n"
     ]
    }
   ],
   "source": [
    "for i in range(10):\n",
    "    print(i)\n",
    "    break"
   ]
  },
  {
   "cell_type": "code",
   "execution_count": 67,
   "id": "bfe3a9a5",
   "metadata": {},
   "outputs": [],
   "source": [
    "for i in range(10):\n",
    "    break\n",
    "    print(i)"
   ]
  },
  {
   "cell_type": "markdown",
   "id": "84ed11c7",
   "metadata": {},
   "source": [
    "## for loop with else"
   ]
  },
  {
   "cell_type": "code",
   "execution_count": 70,
   "id": "de3a6861",
   "metadata": {},
   "outputs": [
    {
     "name": "stdout",
     "output_type": "stream",
     "text": [
      "0 1 2 3 4 \n",
      "We are in else part\n"
     ]
    }
   ],
   "source": [
    "for i in range(5):\n",
    "    print(i, end = ' ')    \n",
    "else:\n",
    "    print('\\nWe are in else part')"
   ]
  },
  {
   "cell_type": "code",
   "execution_count": 71,
   "id": "d851d785",
   "metadata": {},
   "outputs": [
    {
     "name": "stdout",
     "output_type": "stream",
     "text": [
      "0 1 2 3 "
     ]
    }
   ],
   "source": [
    "for i in range(5):\n",
    "    print(i, end = ' ')\n",
    "    if i == 3:\n",
    "        break\n",
    "    \n",
    "else:\n",
    "    print('\\nWe are in else part')"
   ]
  },
  {
   "cell_type": "code",
   "execution_count": 74,
   "id": "87a3be7e",
   "metadata": {},
   "outputs": [
    {
     "name": "stdout",
     "output_type": "stream",
     "text": [
      "0 1 2 3 4 5 6 7 8 9 \n",
      "We are in else part\n"
     ]
    }
   ],
   "source": [
    "for i in range(10):\n",
    "    print(i, end = ' ')\n",
    "else:\n",
    "    print('\\nWe are in else part')"
   ]
  },
  {
   "cell_type": "code",
   "execution_count": 80,
   "id": "76d1c847",
   "metadata": {},
   "outputs": [
    {
     "name": "stdout",
     "output_type": "stream",
     "text": [
      "0 1 2 3 4 5 7 8 9 \n",
      "We are in else part\n"
     ]
    }
   ],
   "source": [
    "for i in range(10):\n",
    "    if i == 6:\n",
    "        continue\n",
    "    print(i, end = ' ')\n",
    "else:\n",
    "    print('\\nWe are in else part')"
   ]
  },
  {
   "cell_type": "code",
   "execution_count": null,
   "id": "bc836847",
   "metadata": {},
   "outputs": [],
   "source": [
    "n = 8\n"
   ]
  },
  {
   "cell_type": "markdown",
   "id": "e5e43ae6",
   "metadata": {},
   "source": [
    "# Revision"
   ]
  },
  {
   "cell_type": "code",
   "execution_count": 6,
   "id": "e69161b4",
   "metadata": {},
   "outputs": [
    {
     "name": "stdout",
     "output_type": "stream",
     "text": [
      "\n",
      "1 \n",
      "2 2 \n",
      "3 3 3 \n",
      "4 4 4 4 \n",
      "5 5 5 5 5 \n",
      "6 6 6 6 6 6 \n"
     ]
    }
   ],
   "source": [
    "n = 7\n",
    "for i in range(n):\n",
    "    for j in range(0,i):\n",
    "        print(i, end = ' ')\n",
    "    print()"
   ]
  },
  {
   "cell_type": "code",
   "execution_count": 7,
   "id": "d7d8c2b7",
   "metadata": {},
   "outputs": [
    {
     "name": "stdout",
     "output_type": "stream",
     "text": [
      "\n",
      "* \n",
      "* * \n",
      "* * * \n",
      "* * * * \n",
      "* * * * * \n",
      "* * * * * * \n"
     ]
    }
   ],
   "source": [
    "n = 7\n",
    "for i in range(n):\n",
    "    for j in range(0,i):\n",
    "        print('*', end = ' ')\n",
    "    print()"
   ]
  },
  {
   "cell_type": "code",
   "execution_count": 14,
   "id": "945e8a3d",
   "metadata": {},
   "outputs": [
    {
     "name": "stdout",
     "output_type": "stream",
     "text": [
      "              * \n",
      "            * * * \n",
      "          * * * * * \n",
      "        * * * * * * * \n",
      "      * * * * * * * * * \n",
      "    * * * * * * * * * * * \n",
      "  * * * * * * * * * * * * * \n"
     ]
    }
   ],
   "source": [
    "n = 7\n",
    "for i in range(n):\n",
    "    for j in range(n - i):\n",
    "        print(' ', end = ' ')\n",
    "    for j in range(i):\n",
    "        print('*', end = ' ')\n",
    "    for j in range(i+1):\n",
    "        print('*', end = ' ')\n",
    "    print()\n",
    "# for i in range(1, n):\n",
    "#     for j in range(i+1):\n",
    "#         print('*', end = ' ')\n",
    "#     print()\n"
   ]
  },
  {
   "cell_type": "code",
   "execution_count": 33,
   "id": "20e8962e",
   "metadata": {},
   "outputs": [
    {
     "name": "stdout",
     "output_type": "stream",
     "text": [
      "                        \n",
      "*                     * \n",
      "* *                 * * \n",
      "* * *             * * * \n",
      "* * * *         * * * * \n",
      "* * * * *     * * * * * \n",
      "* * * * * * * * * * * * \n"
     ]
    }
   ],
   "source": [
    "n = 7\n",
    "for i in range(n):\n",
    "    for j in range(i):\n",
    "        print('*', end = ' ')\n",
    "    for j in range(2*(n-i)-2, 0, -1):\n",
    "        print(' ', end = ' ')\n",
    "    for j in range(i):\n",
    "        print('*', end = ' ')\n",
    "    print()"
   ]
  },
  {
   "cell_type": "code",
   "execution_count": 37,
   "id": "1d76a77c",
   "metadata": {},
   "outputs": [
    {
     "name": "stdout",
     "output_type": "stream",
     "text": [
      "                        \n",
      "*                     * \n",
      "* *                 * * \n",
      "* * *             * * * \n",
      "* * * *         * * * * \n",
      "* * * * *     * * * * * \n",
      "* * * * * * * * * * * * \n"
     ]
    }
   ],
   "source": [
    "n = 7\n",
    "for i in range(n):\n",
    "    for j in range(i):\n",
    "        print('*', end = ' ')\n",
    "    for j in range(1,n-i):\n",
    "        print(' ', end = ' ')\n",
    "    for j in range(1,n-i):\n",
    "        print(' ', end = ' ')\n",
    "    for j in range(i):\n",
    "        print('*', end = ' ')\n",
    "    print()"
   ]
  },
  {
   "cell_type": "code",
   "execution_count": null,
   "id": "f52ec195",
   "metadata": {},
   "outputs": [],
   "source": []
  },
  {
   "cell_type": "code",
   "execution_count": null,
   "id": "cdfb1f61",
   "metadata": {},
   "outputs": [],
   "source": []
  },
  {
   "cell_type": "code",
   "execution_count": null,
   "id": "b19816a5",
   "metadata": {},
   "outputs": [],
   "source": []
  },
  {
   "cell_type": "code",
   "execution_count": null,
   "id": "3a0cb9fb",
   "metadata": {},
   "outputs": [],
   "source": []
  }
 ],
 "metadata": {
  "kernelspec": {
   "display_name": "Python 3 (ipykernel)",
   "language": "python",
   "name": "python3"
  },
  "language_info": {
   "codemirror_mode": {
    "name": "ipython",
    "version": 3
   },
   "file_extension": ".py",
   "mimetype": "text/x-python",
   "name": "python",
   "nbconvert_exporter": "python",
   "pygments_lexer": "ipython3",
   "version": "3.10.12"
  }
 },
 "nbformat": 4,
 "nbformat_minor": 5
}
