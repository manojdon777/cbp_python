{
 "cells": [
  {
   "cell_type": "code",
   "execution_count": 2,
   "id": "c1e71168",
   "metadata": {},
   "outputs": [
    {
     "name": "stdout",
     "output_type": "stream",
     "text": [
      "              \n",
      "            * \n",
      "          * * \n",
      "        * * * \n",
      "      * * * * \n",
      "    * * * * * \n",
      "  * * * * * * \n"
     ]
    }
   ],
   "source": [
    "n = 7\n",
    "for i in range(n):\n",
    "    for j in range(n - i):\n",
    "        print(' ', end = ' ')\n",
    "    for j in range(i):\n",
    "        print('*', end = ' ')\n",
    "    print()"
   ]
  },
  {
   "cell_type": "code",
   "execution_count": 19,
   "id": "8e7c4552",
   "metadata": {},
   "outputs": [
    {
     "name": "stdout",
     "output_type": "stream",
     "text": [
      "              \n",
      "             *  \n",
      "           *   *  \n",
      "         *   *   *  \n",
      "       *   *   *   *  \n",
      "     *   *   *   *   *  \n",
      "   *   *   *   *   *   *  \n"
     ]
    }
   ],
   "source": [
    "n = 7\n",
    "for i in range(n):\n",
    "    for j in range(n - i):\n",
    "        print(' ', end = ' ')\n",
    "    for j in range(i):\n",
    "        print(' * ', end = ' ')\n",
    "    print()"
   ]
  },
  {
   "cell_type": "code",
   "execution_count": null,
   "id": "3a2fcc75",
   "metadata": {},
   "outputs": [],
   "source": [
    "# Q10 Write progrom for following output.\n",
    "\n",
    "P \n",
    "y y \n",
    "t t t \n",
    "h h h h \n",
    "o o o o o \n",
    "n n n n n n "
   ]
  },
  {
   "cell_type": "code",
   "execution_count": 25,
   "id": "f9253d8f",
   "metadata": {},
   "outputs": [
    {
     "name": "stdout",
     "output_type": "stream",
     "text": [
      "P y t h o n \n",
      "P y t h o n "
     ]
    }
   ],
   "source": [
    "string = 'Python'\n",
    "length = 0\n",
    "for i in string:\n",
    "    length += 1\n",
    "\n",
    "for i in range(length):\n",
    "    print(string[i], end = ' ')\n",
    "    \n",
    "print()\n",
    "\n",
    "for char in string:\n",
    "    print(char, end = ' ')\n"
   ]
  },
  {
   "cell_type": "code",
   "execution_count": 32,
   "id": "77b35469",
   "metadata": {},
   "outputs": [
    {
     "name": "stdout",
     "output_type": "stream",
     "text": [
      "P \n",
      "y y \n",
      "t t t \n",
      "h h h h \n",
      "o o o o o \n",
      "n n n n n n \n"
     ]
    }
   ],
   "source": [
    "string = 'Python'\n",
    "length = 0\n",
    "for i in string:\n",
    "    length += 1\n",
    "\n",
    "for i in range(length):\n",
    "    for j in range(i+1):\n",
    "        print(string[i], end = ' ')\n",
    "    print()\n"
   ]
  },
  {
   "cell_type": "raw",
   "id": "ad15c46a",
   "metadata": {},
   "source": [
    "Q. Get follwing output\n",
    "\n",
    "* * * * * * \n",
    "* * * * * \n",
    "* * * * \n",
    "* * * \n",
    "* * \n",
    "* "
   ]
  },
  {
   "cell_type": "code",
   "execution_count": 40,
   "id": "6a4333f8",
   "metadata": {},
   "outputs": [
    {
     "name": "stdout",
     "output_type": "stream",
     "text": [
      "* * * * * * * \n",
      "* * * * * * \n",
      "* * * * * \n",
      "* * * * \n",
      "* * * \n",
      "* * \n",
      "* \n"
     ]
    }
   ],
   "source": [
    "n = 7\n",
    "for i in range(n):\n",
    "    for j in range(n - i):\n",
    "        print('*', end = ' ')\n",
    "#     for j in range(i):\n",
    "#         print('*', end = ' ')\n",
    "    print()"
   ]
  },
  {
   "cell_type": "code",
   "execution_count": null,
   "id": "e2728efa",
   "metadata": {},
   "outputs": [],
   "source": [
    "# Q8 Write progrom for following output.\n",
    "A \n",
    "B C \n",
    "D E F \n",
    "G H I J \n",
    "K L M N O "
   ]
  },
  {
   "cell_type": "code",
   "execution_count": 45,
   "id": "dddac706",
   "metadata": {},
   "outputs": [
    {
     "name": "stdout",
     "output_type": "stream",
     "text": [
      "\n",
      "A \n",
      "B C \n",
      "D E F \n",
      "G H I J \n",
      "K L M N O \n"
     ]
    }
   ],
   "source": [
    "string = 'ABCDEFGHIJKLMNO'\n",
    "index = 0\n",
    "n = 5\n",
    "for i in range(5+1):\n",
    "    for j in range(i):\n",
    "        print(string[index], end = ' ')\n",
    "        index += 1\n",
    "    print()\n"
   ]
  },
  {
   "cell_type": "code",
   "execution_count": 46,
   "id": "7dcd7b9d",
   "metadata": {},
   "outputs": [
    {
     "name": "stdout",
     "output_type": "stream",
     "text": [
      "\n",
      "0 \n",
      "1 2 \n",
      "3 4 5 \n",
      "6 7 8 9 \n",
      "10 11 12 13 14 \n"
     ]
    }
   ],
   "source": [
    "# string = 'ABCDEFGHIJKLMNO'\n",
    "index = 0\n",
    "n = 5\n",
    "for i in range(5+1):\n",
    "    for j in range(i):\n",
    "        print(index, end = ' ')\n",
    "        index += 1\n",
    "    print()\n"
   ]
  },
  {
   "cell_type": "markdown",
   "id": "9b1e6973",
   "metadata": {},
   "source": [
    "## break\n",
    "breaks execution of remaining all iterations"
   ]
  },
  {
   "cell_type": "code",
   "execution_count": 50,
   "id": "e8e2d887",
   "metadata": {},
   "outputs": [],
   "source": [
    "for i in range(7):\n",
    "    break"
   ]
  },
  {
   "cell_type": "code",
   "execution_count": 51,
   "id": "97dc43ce",
   "metadata": {},
   "outputs": [
    {
     "name": "stdout",
     "output_type": "stream",
     "text": [
      "5 "
     ]
    }
   ],
   "source": [
    "for i in range(7):\n",
    "    if i == 5:\n",
    "        print(i, end = ' ')\n",
    "        break"
   ]
  },
  {
   "cell_type": "code",
   "execution_count": 54,
   "id": "47c2ef8b",
   "metadata": {},
   "outputs": [
    {
     "name": "stdout",
     "output_type": "stream",
     "text": [
      "0\n",
      "1\n",
      "2\n",
      "3\n",
      "4\n",
      "We are breaking loop here for i = 5\n"
     ]
    }
   ],
   "source": [
    "for i in range(100):\n",
    "    if i == 5:\n",
    "        print('We are breaking loop here for i =', i)\n",
    "        break\n",
    "    else:\n",
    "        print(i)"
   ]
  },
  {
   "cell_type": "code",
   "execution_count": 55,
   "id": "e5819b93",
   "metadata": {},
   "outputs": [
    {
     "name": "stdout",
     "output_type": "stream",
     "text": [
      "0\n",
      "1\n",
      "2\n",
      "3\n",
      "4\n",
      "5\n",
      "6\n",
      "We are breaking loop here for i = 7\n"
     ]
    }
   ],
   "source": [
    "for i in range(1000):\n",
    "    if i != 7:\n",
    "        print(i)\n",
    "    else:\n",
    "        print('We are breaking loop here for i =', i)\n",
    "        break"
   ]
  },
  {
   "cell_type": "markdown",
   "id": "87ac81e9",
   "metadata": {},
   "source": [
    "## continue\n",
    "   it will stop execution of current iteration from where the 'continue' appears, \n",
    "    and will continue execution of remaining iterations"
   ]
  },
  {
   "cell_type": "code",
   "execution_count": 57,
   "id": "eea6df54",
   "metadata": {},
   "outputs": [
    {
     "name": "stdout",
     "output_type": "stream",
     "text": [
      "0\n",
      "1\n",
      "2\n",
      "3\n",
      "4\n",
      "5\n",
      "6\n",
      "8\n",
      "9\n"
     ]
    }
   ],
   "source": [
    "for i in range(10):\n",
    "    if i == 7:\n",
    "        continue\n",
    "        print('something will happen here i =', i)\n",
    "    else:\n",
    "        print(i)\n",
    "    print()"
   ]
  },
  {
   "cell_type": "code",
   "execution_count": null,
   "id": "147b64a2",
   "metadata": {},
   "outputs": [],
   "source": []
  },
  {
   "cell_type": "code",
   "execution_count": null,
   "id": "715c15ba",
   "metadata": {},
   "outputs": [],
   "source": []
  },
  {
   "cell_type": "code",
   "execution_count": null,
   "id": "be009d96",
   "metadata": {},
   "outputs": [],
   "source": []
  },
  {
   "cell_type": "code",
   "execution_count": null,
   "id": "608f83ea",
   "metadata": {},
   "outputs": [],
   "source": []
  },
  {
   "cell_type": "code",
   "execution_count": null,
   "id": "9591f0a9",
   "metadata": {},
   "outputs": [],
   "source": []
  }
 ],
 "metadata": {
  "kernelspec": {
   "display_name": "Python 3 (ipykernel)",
   "language": "python",
   "name": "python3"
  },
  "language_info": {
   "codemirror_mode": {
    "name": "ipython",
    "version": 3
   },
   "file_extension": ".py",
   "mimetype": "text/x-python",
   "name": "python",
   "nbconvert_exporter": "python",
   "pygments_lexer": "ipython3",
   "version": "3.10.12"
  }
 },
 "nbformat": 4,
 "nbformat_minor": 5
}
