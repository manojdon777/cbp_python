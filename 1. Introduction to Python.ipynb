{
 "cells": [
  {
   "cell_type": "raw",
   "id": "db37a474",
   "metadata": {},
   "source": [
    "                           Syllabus\n",
    "############################################################\n",
    "ANNEXURE - III\n",
    "Python Programming\n",
    "Introduction to Python\n",
    "    Overview\n",
    "    Python Features\n",
    "    Environment Setup\n",
    "    Running Python\n",
    "    IDLE\n",
    "    Commercial and Free Python IDEs\n",
    "Basic Syntax\n",
    "    Interactive Mode\n",
    "    Script Mode\n",
    "    Python Identifiers\n",
    "    Reserved Words\n",
    "    Lines and Indentation\n",
    "    Multi-Line Statements\n",
    "    Quotations in Python\n",
    "    Comments in Python\n",
    "    Using Blank Lines\n",
    "    User inputs\n",
    "    Command Line Arguments\n",
    "Variable Types\n",
    "    Creating variables\n",
    "    Assigning Values to Variables\n",
    "    Accessing variables\n",
    "    Multiple Assignment\n",
    "Downloading, Installation & Configure Various Python Tools\n",
    "    Python 2.x or 3.x on various OS platforms like Windows, Linux, Unix & MacOs\n",
    "    Pycharm\n",
    "    Anaconda & Spyder\n",
    "Standard Data Types\n",
    "    Numbers\n",
    "    Strings\n",
    "    Lists\n",
    "    Tuples\n",
    "    Dictionaries\n",
    "    Sets\n",
    "Python Data Types – Numbers\n",
    "    int\n",
    "    float\n",
    "    complex\n",
    "    Number type conversions\n",
    "    Mathematical Functions\n",
    "    Random Number Functions\n",
    "    Trigonometric Functions\n",
    "    Mathematical Constants\n",
    "Python Data Types – Strings\n",
    "    Accessing values in strings\n",
    "    updating strings\n",
    "    Escape Character\n",
    "    String Special Operator\n",
    "    String Formatting Operator\n",
    "    Triple Quotes\n",
    "    Unicode String\n",
    "    Built-in String Methods\n",
    "Python Data Types – Lists\n",
    "    Creating the lists\n",
    "    Accessing the values in lists\n",
    "    Updating Lists\n",
    "    Deleting List Elements\n",
    "    Basic List Operators\n",
    "    Indexing, Slicing and Matrixes\n",
    "    Built-in List Functions & Methods\n",
    "Python Data Types – Tuples\n",
    "    Creating the tuple\n",
    "    Accessing values in Tuples\n",
    "    Updating Tuples\n",
    "    Delete Tuples Elements\n",
    "    Basic Tuples Operations\n",
    "    Indexing, Slicing and Matrixes\n",
    "    Built-in Tuple Functions\n",
    "Python Data Types – Dictionary\n",
    "    Creating a Dictionary\n",
    "    Accessing Values in Dictionary\n",
    "    Updating Dictionary\n",
    "    Deleting Dictionary Elements\n",
    "    Properties of Dictionary Keys\n",
    "    Built-in Dictionary Functions & MethodsPython Data Types – Sets\n",
    "    Creating A Set\n",
    "    Accessing A Set\n",
    "    Modifying A Set\n",
    "    Removing Items From A Set\n",
    "    Common Set Operations\n",
    "    Built-in Set Functions & Methods\n",
    "Python Operators\n",
    "    List of Operators\n",
    "    Arithmetic Operators\n",
    "    Comparison Operators\n",
    "    Assignment Operators\n",
    "    Bitwise Operators\n",
    "    Logical Operators\n",
    "    Membership Operators\n",
    "    Identity Operators\n",
    "    Operators Precedence\n",
    "Decision Making\n",
    "    Single Statement Suites\n",
    "    if statements\n",
    "    if else statements\n",
    "    if elif statements\n",
    "    Nested statements\n",
    "Python Loops\n",
    "    Various Types of Loops\n",
    "    while loop\n",
    "    for loop\n",
    "    nested loop\n",
    "    Loop Control Statements\n",
    "    break statement\n",
    "    continue statement\n",
    "    pass statement\n",
    "    Iterator and Generator\n",
    "Python Functions\n",
    "    Defining a Function\n",
    "    Calling a Function\n",
    "    Pass by reference vs value\n",
    "    Function Arguments\n",
    "    Required Arguments\n",
    "    Keyword Arguments\n",
    "    Default Arguments\n",
    "    Variable-length arguments\n",
    "    The anonymous Functions\n",
    "    The return Statement\n",
    "    Scope of Variables\n",
    "    Global vs Local Variables\n",
    "Working with PIP\n",
    "    Download PIP\n",
    "    Configure Environment Variables\n",
    "    Search Modules using PIP\n",
    "    Download & Install Modules using PIP\n",
    "    Various examples of PIP\n",
    "    Downloading, Installing of Various modules\n",
    "Object-Oriented Programming\n",
    "    The class statement\n",
    "    Creating a Class\n",
    "    Methods\n",
    "    The self\n",
    "    “self” the self reference\n",
    "    Object Methods\n",
    "    Using Object Methods\n",
    "    The __init__ method (The default constructor)\n",
    "    Using the __init__ method Private(__var) & Semi-private variables(_var)\n",
    "    Class and Object Variables\n",
    "    Using Class and Object Variables\n",
    "Inheritance\n",
    "    Using Inheritance\n",
    "    Multiple-inheritance\n",
    "    Operator Overloading\n",
    "    operator — Standard operators as functions\n",
    "collections.abc — Abstract Base Classes for Containers\n",
    "    Errors and Exceptions\n",
    "    User-defined Exceptions\n",
    "    Defining Clean-up Actions\n",
    "    Predefined Clean-up Actions\n",
    "Functional Programming\n",
    "    itertools — Functions creating iterators for efficient looping\n",
    "    functools — Higher-order functions and operations on callable\n",
    "objects\n",
    "    operator — Standard operators as functions\n",
    "    Decorators\n",
    "    List Comprehensions - Nested List Comprehensions\n",
    "    Looping Techniques\n",
    "    More on Conditions\n",
    "    Comparing Sequences and Other Types\n",
    "    Iterators\n",
    "    Generators\n",
    "The import statement\n",
    "    The from import statement\n",
    "    The from import * statement\n",
    "    Executing modules as scripts\n",
    "    Locating Modules\n",
    "Reading and Writing Files\n",
    "    The write() method\n",
    "    The read() method\n",
    "    File Positions\n",
    "    Renaming and Deleting Files\n",
    "    The rename() Method & remove() method\n",
    "    Directories in Python\n",
    "    The mkdir() method\n",
    "    The chdir() method\n",
    "    The getcwd() method\n",
    "    The rmdir() method\n",
    "    File & Directory Related Methods\n",
    "Error & Exceptions Handling in Python\n",
    "    Assertions in Python\n",
    "    The assert statement\n",
    "    What is an exception?\n",
    "    The except clause with no exceptions\n",
    "    The except clause with multiple exceptions\n",
    "    The try-finally clause\n",
    "    Argument of an exception\n",
    "    Raising an exception\n",
    "    User-defined exceptions\n",
    "############################################################\n"
   ]
  },
  {
   "cell_type": "code",
   "execution_count": null,
   "id": "adcc93c7",
   "metadata": {},
   "outputs": [],
   "source": [
    "1. Features of python\n",
    "    1. User friendly\n",
    "    2. Case sensitive\n",
    "    3. Free\n",
    "    3. Vast support of library\n",
    "    4. Dynamically typed language\n",
    "    5. Oject Oriented Programming"
   ]
  },
  {
   "cell_type": "code",
   "execution_count": null,
   "id": "518553d5",
   "metadata": {},
   "outputs": [],
   "source": [
    "Invented by 'Guido van Rossum' in 1991.\n"
   ]
  },
  {
   "cell_type": "code",
   "execution_count": null,
   "id": "f2fd7685",
   "metadata": {},
   "outputs": [],
   "source": [
    "Python versions\n",
    "    - Python 2.x\n",
    "    - Python 3.x\n",
    "    \n",
    "manoj@l480:~$ python3 --version\n",
    "Python 3.10.12\n",
    "manoj@l480:~$ python3 -V\n",
    "Python 3.10.12"
   ]
  },
  {
   "cell_type": "code",
   "execution_count": null,
   "id": "b2419cc3",
   "metadata": {},
   "outputs": [],
   "source": [
    "Python file is with .py extention.\n",
    "    eg. first.py\n",
    "Execute python prog\n",
    "    python first.py"
   ]
  },
  {
   "cell_type": "markdown",
   "id": "1e5d02ba",
   "metadata": {},
   "source": [
    "# 1. print"
   ]
  },
  {
   "cell_type": "code",
   "execution_count": null,
   "id": "cb0f3e2e",
   "metadata": {},
   "outputs": [],
   "source": [
    "Display message-\n",
    "    print('This is my first program')"
   ]
  },
  {
   "cell_type": "code",
   "execution_count": 1,
   "id": "5500ecf2",
   "metadata": {},
   "outputs": [
    {
     "name": "stdout",
     "output_type": "stream",
     "text": [
      "My First Python Prog\n",
      "This is my second line\n",
      "My third line\n"
     ]
    }
   ],
   "source": [
    "print('My First Python Prog')\n",
    "print('This is my second line')\n",
    "print('My third line')"
   ]
  },
  {
   "cell_type": "code",
   "execution_count": 3,
   "id": "9bc28af6",
   "metadata": {},
   "outputs": [
    {
     "name": "stdout",
     "output_type": "stream",
     "text": [
      "888\n"
     ]
    }
   ],
   "source": [
    "print(888)"
   ]
  },
  {
   "cell_type": "code",
   "execution_count": 4,
   "id": "9ea864c9",
   "metadata": {},
   "outputs": [
    {
     "name": "stdout",
     "output_type": "stream",
     "text": [
      "123 654\n"
     ]
    }
   ],
   "source": [
    "print(123,654)"
   ]
  },
  {
   "cell_type": "code",
   "execution_count": 2,
   "id": "1236cd4d",
   "metadata": {},
   "outputs": [
    {
     "name": "stdout",
     "output_type": "stream",
     "text": [
      "aaa bbb\n"
     ]
    }
   ],
   "source": [
    "print('aaa', 'bbb')"
   ]
  },
  {
   "cell_type": "code",
   "execution_count": 5,
   "id": "b3c21539",
   "metadata": {},
   "outputs": [
    {
     "name": "stdout",
     "output_type": "stream",
     "text": [
      "Abc 89 XYZ\n"
     ]
    }
   ],
   "source": [
    "print('Abc', 89, 'XYZ')"
   ]
  },
  {
   "cell_type": "code",
   "execution_count": 6,
   "id": "d958cc00",
   "metadata": {},
   "outputs": [
    {
     "name": "stdout",
     "output_type": "stream",
     "text": [
      "CADC Silchar\n"
     ]
    }
   ],
   "source": [
    "print('CADC', 'Silchar')"
   ]
  },
  {
   "cell_type": "code",
   "execution_count": 7,
   "id": "143fb05c",
   "metadata": {},
   "outputs": [
    {
     "name": "stdout",
     "output_type": "stream",
     "text": [
      "CADCSilchar\n"
     ]
    }
   ],
   "source": [
    "print('CADC', 'Silchar', sep = '')"
   ]
  },
  {
   "cell_type": "code",
   "execution_count": 8,
   "id": "541e1974",
   "metadata": {},
   "outputs": [
    {
     "name": "stdout",
     "output_type": "stream",
     "text": [
      "CADC-Silchar\n"
     ]
    }
   ],
   "source": [
    "print('CADC', 'Silchar', sep = '-')"
   ]
  },
  {
   "cell_type": "code",
   "execution_count": 9,
   "id": "29b493c0",
   "metadata": {},
   "outputs": [
    {
     "name": "stdout",
     "output_type": "stream",
     "text": [
      "CADC Silchar\n"
     ]
    }
   ],
   "source": [
    "print('CADC', 'Silchar', sep = ' ')"
   ]
  },
  {
   "cell_type": "code",
   "execution_count": 10,
   "id": "0051029e",
   "metadata": {},
   "outputs": [
    {
     "name": "stdout",
     "output_type": "stream",
     "text": [
      "CADCANYTHINGSilchar\n"
     ]
    }
   ],
   "source": [
    "print('CADC', 'Silchar', sep = 'ANYTHING')"
   ]
  },
  {
   "cell_type": "code",
   "execution_count": 11,
   "id": "171b936c",
   "metadata": {},
   "outputs": [
    {
     "name": "stdout",
     "output_type": "stream",
     "text": [
      "aaaaaaANYTHINGbbbbbb\n"
     ]
    }
   ],
   "source": [
    "print('aaaaaa', 'bbbbbb', sep = 'ANYTHING')"
   ]
  },
  {
   "cell_type": "code",
   "execution_count": 13,
   "id": "c222194b",
   "metadata": {},
   "outputs": [
    {
     "name": "stdout",
     "output_type": "stream",
     "text": [
      "aaaaaa ANYTHING bbbbbb\n"
     ]
    }
   ],
   "source": [
    "print('aaaaaa ', ' bbbbbb', sep = 'ANYTHING')"
   ]
  },
  {
   "cell_type": "code",
   "execution_count": 14,
   "id": "8c606371",
   "metadata": {},
   "outputs": [
    {
     "name": "stdout",
     "output_type": "stream",
     "text": [
      "abc\n",
      "xyz\n"
     ]
    }
   ],
   "source": [
    "print('abc')\n",
    "print('xyz')"
   ]
  },
  {
   "cell_type": "code",
   "execution_count": 16,
   "id": "33a43298",
   "metadata": {},
   "outputs": [
    {
     "name": "stdout",
     "output_type": "stream",
     "text": [
      "CADC Silchar\n"
     ]
    }
   ],
   "source": [
    "print('CADC', 'Silchar')"
   ]
  },
  {
   "cell_type": "code",
   "execution_count": 19,
   "id": "783c0aa8",
   "metadata": {},
   "outputs": [
    {
     "name": "stdout",
     "output_type": "stream",
     "text": [
      "abcxyz\n"
     ]
    }
   ],
   "source": [
    "print('abc', end = '')\n",
    "print('xyz')"
   ]
  },
  {
   "cell_type": "code",
   "execution_count": 20,
   "id": "96668ecf",
   "metadata": {},
   "outputs": [
    {
     "name": "stdout",
     "output_type": "stream",
     "text": [
      "abc xyz\n"
     ]
    }
   ],
   "source": [
    "print('abc', end = ' ')\n",
    "print('xyz')"
   ]
  },
  {
   "cell_type": "markdown",
   "id": "4fc65ab3",
   "metadata": {},
   "source": [
    "sep specifies things to be added between agrugments of THAT\n",
    "print() function"
   ]
  },
  {
   "cell_type": "markdown",
   "id": "3f8167d5",
   "metadata": {},
   "source": [
    "end specifies things to be added at the end of THAT print() function"
   ]
  },
  {
   "cell_type": "code",
   "execution_count": 22,
   "id": "030d9c64",
   "metadata": {},
   "outputs": [
    {
     "name": "stdout",
     "output_type": "stream",
     "text": [
      "abc***xyz\n"
     ]
    }
   ],
   "source": [
    "print('abc', end = '***')\n",
    "print('xyz')"
   ]
  },
  {
   "cell_type": "code",
   "execution_count": 23,
   "id": "94b9eea6",
   "metadata": {},
   "outputs": [
    {
     "name": "stdout",
     "output_type": "stream",
     "text": [
      "abc xyz pqr\n"
     ]
    }
   ],
   "source": [
    "print('abc', 'xyz', 'pqr')"
   ]
  },
  {
   "cell_type": "code",
   "execution_count": 24,
   "id": "34f97423",
   "metadata": {},
   "outputs": [
    {
     "name": "stdout",
     "output_type": "stream",
     "text": [
      "abc-xyz-pqr\n"
     ]
    }
   ],
   "source": [
    "print('abc', 'xyz', 'pqr', sep='-')"
   ]
  },
  {
   "cell_type": "code",
   "execution_count": 25,
   "id": "08c53f65",
   "metadata": {},
   "outputs": [
    {
     "name": "stdout",
     "output_type": "stream",
     "text": [
      "abc - xyz - pqr\n"
     ]
    }
   ],
   "source": [
    "print('abc', 'xyz', 'pqr', sep=' - ')"
   ]
  },
  {
   "cell_type": "code",
   "execution_count": 28,
   "id": "239f5042",
   "metadata": {},
   "outputs": [
    {
     "name": "stdout",
     "output_type": "stream",
     "text": [
      "abc - xyz - pqrSTOPNew statement\n"
     ]
    }
   ],
   "source": [
    "print('abc', 'xyz', 'pqr', sep=' - ', end='STOP')\n",
    "print('New statement')"
   ]
  },
  {
   "cell_type": "code",
   "execution_count": 29,
   "id": "77260b70",
   "metadata": {},
   "outputs": [
    {
     "name": "stdout",
     "output_type": "stream",
     "text": [
      "abc - xyz - pqrSTOPNew statement\n"
     ]
    }
   ],
   "source": [
    "print('abc', 'xyz', 'pqr', end='STOP', sep=' - ')\n",
    "print('New statement')"
   ]
  },
  {
   "cell_type": "markdown",
   "id": "5fcd37c2",
   "metadata": {},
   "source": [
    "# 2. Variables"
   ]
  },
  {
   "cell_type": "markdown",
   "id": "a55a6412",
   "metadata": {},
   "source": [
    "Rules to declare variable\n",
    "    1. case sensitive\n",
    "    2. variable should not start with number"
   ]
  },
  {
   "cell_type": "code",
   "execution_count": 31,
   "id": "19156841",
   "metadata": {},
   "outputs": [
    {
     "ename": "SyntaxError",
     "evalue": "invalid decimal literal (66753265.py, line 1)",
     "output_type": "error",
     "traceback": [
      "\u001b[0;36m  File \u001b[0;32m\"/tmp/ipykernel_38746/66753265.py\"\u001b[0;36m, line \u001b[0;32m1\u001b[0m\n\u001b[0;31m    9var = 'ABC'\u001b[0m\n\u001b[0m    ^\u001b[0m\n\u001b[0;31mSyntaxError\u001b[0m\u001b[0;31m:\u001b[0m invalid decimal literal\n"
     ]
    }
   ],
   "source": [
    "9var = 'ABC'"
   ]
  },
  {
   "cell_type": "raw",
   "id": "64fa4028",
   "metadata": {},
   "source": [
    "Rules to declare variable\n",
    "    1. case sensitive\n",
    "    2. variable should not start with number\n",
    "    3. variable should not contain special character except (_)"
   ]
  },
  {
   "cell_type": "code",
   "execution_count": 32,
   "id": "49eb9671",
   "metadata": {},
   "outputs": [],
   "source": [
    "annual_salary = 11223344"
   ]
  },
  {
   "cell_type": "code",
   "execution_count": 33,
   "id": "92a1f0d5",
   "metadata": {},
   "outputs": [
    {
     "ename": "SyntaxError",
     "evalue": "cannot assign to expression here. Maybe you meant '==' instead of '='? (1596806327.py, line 1)",
     "output_type": "error",
     "traceback": [
      "\u001b[0;36m  File \u001b[0;32m\"/tmp/ipykernel_38746/1596806327.py\"\u001b[0;36m, line \u001b[0;32m1\u001b[0m\n\u001b[0;31m    annual-salary = 11223344\u001b[0m\n\u001b[0m    ^\u001b[0m\n\u001b[0;31mSyntaxError\u001b[0m\u001b[0;31m:\u001b[0m cannot assign to expression here. Maybe you meant '==' instead of '='?\n"
     ]
    }
   ],
   "source": [
    "annual-salary = 11223344"
   ]
  },
  {
   "cell_type": "raw",
   "id": "b0209a58",
   "metadata": {},
   "source": [
    "Rules to declare variable\n",
    "    1. case sensitive\n",
    "    2. variable should not start with number\n",
    "    3. variable should not contain special character except (_)\n",
    "    4. variable should not contain any space"
   ]
  },
  {
   "cell_type": "code",
   "execution_count": 35,
   "id": "b0c42ebe",
   "metadata": {},
   "outputs": [
    {
     "ename": "SyntaxError",
     "evalue": "invalid syntax (963696831.py, line 1)",
     "output_type": "error",
     "traceback": [
      "\u001b[0;36m  File \u001b[0;32m\"/tmp/ipykernel_38746/963696831.py\"\u001b[0;36m, line \u001b[0;32m1\u001b[0m\n\u001b[0;31m    annual salary = 11223344\u001b[0m\n\u001b[0m           ^\u001b[0m\n\u001b[0;31mSyntaxError\u001b[0m\u001b[0;31m:\u001b[0m invalid syntax\n"
     ]
    }
   ],
   "source": [
    "annual salary = 11223344"
   ]
  },
  {
   "cell_type": "code",
   "execution_count": 36,
   "id": "1bbea34f",
   "metadata": {},
   "outputs": [
    {
     "ename": "SyntaxError",
     "evalue": "invalid syntax (1925129841.py, line 2)",
     "output_type": "error",
     "traceback": [
      "\u001b[0;36m  File \u001b[0;32m\"/tmp/ipykernel_38746/1925129841.py\"\u001b[0;36m, line \u001b[0;32m2\u001b[0m\n\u001b[0;31m    mar ks=34\u001b[0m\n\u001b[0m        ^\u001b[0m\n\u001b[0;31mSyntaxError\u001b[0m\u001b[0;31m:\u001b[0m invalid syntax\n"
     ]
    }
   ],
   "source": [
    "marks=34\n",
    "mar ks=34"
   ]
  },
  {
   "cell_type": "raw",
   "id": "c59c4182",
   "metadata": {},
   "source": [
    "Rules to declare variable\n",
    "    1. case sensitive\n",
    "    2. variable should not start with number\n",
    "    3. variable should not contain special character except (_)\n",
    "    4. variable should not contain any space\n",
    "    5. no need to mention datatype"
   ]
  },
  {
   "cell_type": "code",
   "execution_count": 38,
   "id": "ba686fc2",
   "metadata": {},
   "outputs": [
    {
     "name": "stdout",
     "output_type": "stream",
     "text": [
      "Abc\n"
     ]
    }
   ],
   "source": [
    "var = 'Abc'\n",
    "print(var)"
   ]
  },
  {
   "cell_type": "code",
   "execution_count": 39,
   "id": "be9061e7",
   "metadata": {},
   "outputs": [
    {
     "name": "stdout",
     "output_type": "stream",
     "text": [
      "32\n"
     ]
    }
   ],
   "source": [
    "var  = 32\n",
    "print(var)"
   ]
  },
  {
   "cell_type": "code",
   "execution_count": 40,
   "id": "000ebae2",
   "metadata": {},
   "outputs": [
    {
     "name": "stdout",
     "output_type": "stream",
     "text": [
      "3.14\n"
     ]
    }
   ],
   "source": [
    "var2 = 3.14\n",
    "print(var2)"
   ]
  },
  {
   "cell_type": "markdown",
   "id": "9af6f363",
   "metadata": {},
   "source": [
    "# type()\n",
    "    -it displays type of variable"
   ]
  },
  {
   "cell_type": "code",
   "execution_count": 46,
   "id": "6a7a0f95",
   "metadata": {},
   "outputs": [
    {
     "name": "stdout",
     "output_type": "stream",
     "text": [
      "45\n",
      "<class 'int'>\n"
     ]
    }
   ],
   "source": [
    "marks = 45\n",
    "print(marks)\n",
    "print(type(marks))"
   ]
  },
  {
   "cell_type": "code",
   "execution_count": 47,
   "id": "8ca2556b",
   "metadata": {},
   "outputs": [
    {
     "name": "stdout",
     "output_type": "stream",
     "text": [
      "88.46\n",
      "<class 'float'>\n"
     ]
    }
   ],
   "source": [
    "percentage = 88.46\n",
    "print(percentage)\n",
    "print(type(percentage))"
   ]
  },
  {
   "cell_type": "code",
   "execution_count": null,
   "id": "8035f341",
   "metadata": {},
   "outputs": [],
   "source": [
    "name = 'CDAC Silchar'\n",
    "print(name)\n",
    "print(type(name))"
   ]
  },
  {
   "cell_type": "code",
   "execution_count": 48,
   "id": "beee73e2",
   "metadata": {},
   "outputs": [
    {
     "name": "stdout",
     "output_type": "stream",
     "text": [
      "[11, 22, 33, 44, 55, 66]\n",
      "<class 'list'>\n"
     ]
    }
   ],
   "source": [
    "list1 = [11,22,33,44,55,66]\n",
    "print(list1)\n",
    "print(type(list1))"
   ]
  },
  {
   "cell_type": "markdown",
   "id": "45863a59",
   "metadata": {},
   "source": [
    "# id()"
   ]
  },
  {
   "cell_type": "code",
   "execution_count": 49,
   "id": "fadbee95",
   "metadata": {},
   "outputs": [
    {
     "name": "stdout",
     "output_type": "stream",
     "text": [
      "45\n",
      "140220275099248\n"
     ]
    }
   ],
   "source": [
    "marks = 45\n",
    "print(marks)\n",
    "print(id(marks))"
   ]
  },
  {
   "cell_type": "code",
   "execution_count": 50,
   "id": "294c47da",
   "metadata": {},
   "outputs": [
    {
     "name": "stdout",
     "output_type": "stream",
     "text": [
      "88.46\n",
      "140220234952912\n"
     ]
    }
   ],
   "source": [
    "percentage = 88.46\n",
    "print(percentage)\n",
    "print(id(percentage))"
   ]
  },
  {
   "cell_type": "code",
   "execution_count": 53,
   "id": "368a636b",
   "metadata": {},
   "outputs": [
    {
     "name": "stdout",
     "output_type": "stream",
     "text": [
      "cdac silchar\n",
      "cdac silchar\n"
     ]
    }
   ],
   "source": [
    "x = input()\n",
    "print(x)"
   ]
  },
  {
   "cell_type": "code",
   "execution_count": 54,
   "id": "f0ce707b",
   "metadata": {},
   "outputs": [
    {
     "name": "stdout",
     "output_type": "stream",
     "text": [
      "3.14\n",
      "3.14\n"
     ]
    }
   ],
   "source": [
    "x = input()\n",
    "print(x)"
   ]
  },
  {
   "cell_type": "code",
   "execution_count": 55,
   "id": "7ffbbd93",
   "metadata": {},
   "outputs": [
    {
     "name": "stdout",
     "output_type": "stream",
     "text": [
      "Enter input34\n",
      "34\n"
     ]
    }
   ],
   "source": [
    "x = input('Enter input')\n",
    "print(x)"
   ]
  },
  {
   "cell_type": "code",
   "execution_count": 56,
   "id": "e39a77bc",
   "metadata": {},
   "outputs": [
    {
     "name": "stdout",
     "output_type": "stream",
     "text": [
      "Enter input: 123\n",
      "Inpus is =  123\n"
     ]
    }
   ],
   "source": [
    "x = input('Enter input: ')\n",
    "print('Inpus is = ', x)"
   ]
  },
  {
   "cell_type": "code",
   "execution_count": 57,
   "id": "e29397b3",
   "metadata": {},
   "outputs": [
    {
     "name": "stdout",
     "output_type": "stream",
     "text": [
      "Enter input: CDAC Silchar\n",
      "Inpus is =  CDAC Silchar\n"
     ]
    }
   ],
   "source": [
    "x = input('Enter input: ')\n",
    "print('Inpus is = ', x)"
   ]
  },
  {
   "cell_type": "code",
   "execution_count": 59,
   "id": "0c7eadf8",
   "metadata": {},
   "outputs": [
    {
     "name": "stdout",
     "output_type": "stream",
     "text": [
      "Enter input: ABC\n",
      "Inpus is =  ABC\n",
      "Datatype is =  <class 'str'>\n"
     ]
    }
   ],
   "source": [
    "x = input('Enter input: ')\n",
    "print('Inpus is = ', x)\n",
    "print('Datatype is = ', type(x))"
   ]
  },
  {
   "cell_type": "code",
   "execution_count": 60,
   "id": "c9779110",
   "metadata": {},
   "outputs": [
    {
     "name": "stdout",
     "output_type": "stream",
     "text": [
      "Enter input: 123\n",
      "Inpus is =  123\n",
      "Datatype is =  <class 'str'>\n"
     ]
    }
   ],
   "source": [
    "x = input('Enter input: ')\n",
    "print('Inpus is = ', x)\n",
    "print('Datatype is = ', type(x))"
   ]
  },
  {
   "cell_type": "code",
   "execution_count": 61,
   "id": "925a2645",
   "metadata": {},
   "outputs": [
    {
     "name": "stdout",
     "output_type": "stream",
     "text": [
      "Enter input: 67.90\n",
      "Inpus is =  67.90\n",
      "Datatype is =  <class 'str'>\n"
     ]
    }
   ],
   "source": [
    "x = input('Enter input: ')\n",
    "print('Inpus is = ', x)\n",
    "print('Datatype is = ', type(x))"
   ]
  },
  {
   "cell_type": "raw",
   "id": "688234b3",
   "metadata": {},
   "source": [
    "Note -  All the user input in input() function of python is always STRING"
   ]
  },
  {
   "cell_type": "markdown",
   "id": "b2853b69",
   "metadata": {},
   "source": [
    "# type casting"
   ]
  },
  {
   "cell_type": "code",
   "execution_count": 62,
   "id": "e52bafd0",
   "metadata": {},
   "outputs": [
    {
     "name": "stdout",
     "output_type": "stream",
     "text": [
      "Enter number12\n",
      "Inpus is =  12\n",
      "Datatype is =  <class 'int'>\n"
     ]
    }
   ],
   "source": [
    "num = input('Enter number')\n",
    "num2 = int(num)\n",
    "print('Inpus is = ', num2)\n",
    "print('Datatype is = ', type(num2))"
   ]
  },
  {
   "cell_type": "code",
   "execution_count": 63,
   "id": "f8f7a439",
   "metadata": {},
   "outputs": [
    {
     "name": "stdout",
     "output_type": "stream",
     "text": [
      "Enter number3.33\n",
      "Inpus is =  3.33\n",
      "Datatype is =  <class 'float'>\n"
     ]
    }
   ],
   "source": [
    "num = input('Enter number')\n",
    "num2 = float(num)\n",
    "print('Inpus is = ', num2)\n",
    "print('Datatype is = ', type(num2))"
   ]
  },
  {
   "cell_type": "code",
   "execution_count": 64,
   "id": "466313e1",
   "metadata": {},
   "outputs": [
    {
     "name": "stdout",
     "output_type": "stream",
     "text": [
      "Enter numbercdac silchar\n",
      "Inpus is =  cdac silchar\n",
      "Datatype is =  <class 'str'>\n"
     ]
    }
   ],
   "source": [
    "num = input('Enter number')\n",
    "num2 = str(num)\n",
    "print('Inpus is = ', num2)\n",
    "print('Datatype is = ', type(num2))"
   ]
  },
  {
   "cell_type": "markdown",
   "id": "14ec8e13",
   "metadata": {},
   "source": [
    "# Comments"
   ]
  },
  {
   "cell_type": "code",
   "execution_count": 67,
   "id": "066cea3c",
   "metadata": {},
   "outputs": [
    {
     "name": "stdout",
     "output_type": "stream",
     "text": [
      "ABC\n",
      "PQR\n"
     ]
    }
   ],
   "source": [
    "# single line comment\n",
    "print('ABC')\n",
    "#print('XYZ')\n",
    "print('PQR')"
   ]
  },
  {
   "cell_type": "code",
   "execution_count": null,
   "id": "a7826685",
   "metadata": {},
   "outputs": [],
   "source": [
    "# multi line comment\n",
    "print('ABC')\n",
    "#print('XYZ')\n",
    "#print('PQR')"
   ]
  },
  {
   "cell_type": "code",
   "execution_count": null,
   "id": "8415ca43",
   "metadata": {},
   "outputs": [],
   "source": []
  },
  {
   "cell_type": "code",
   "execution_count": null,
   "id": "9b493a26",
   "metadata": {},
   "outputs": [],
   "source": []
  },
  {
   "cell_type": "code",
   "execution_count": null,
   "id": "b0b3b5f1",
   "metadata": {},
   "outputs": [],
   "source": []
  },
  {
   "cell_type": "code",
   "execution_count": null,
   "id": "4fbc2052",
   "metadata": {},
   "outputs": [],
   "source": []
  },
  {
   "cell_type": "code",
   "execution_count": null,
   "id": "1e3b6497",
   "metadata": {},
   "outputs": [],
   "source": []
  },
  {
   "cell_type": "code",
   "execution_count": null,
   "id": "086d086b",
   "metadata": {},
   "outputs": [],
   "source": []
  },
  {
   "cell_type": "code",
   "execution_count": null,
   "id": "096067cc",
   "metadata": {},
   "outputs": [],
   "source": []
  },
  {
   "cell_type": "code",
   "execution_count": null,
   "id": "c768b2e8",
   "metadata": {},
   "outputs": [],
   "source": []
  },
  {
   "cell_type": "code",
   "execution_count": null,
   "id": "cf94190f",
   "metadata": {},
   "outputs": [],
   "source": []
  },
  {
   "cell_type": "code",
   "execution_count": null,
   "id": "cf90c894",
   "metadata": {},
   "outputs": [],
   "source": []
  },
  {
   "cell_type": "code",
   "execution_count": null,
   "id": "cdd1a8dd",
   "metadata": {},
   "outputs": [],
   "source": []
  },
  {
   "cell_type": "code",
   "execution_count": null,
   "id": "6f50a7e3",
   "metadata": {},
   "outputs": [],
   "source": []
  }
 ],
 "metadata": {
  "kernelspec": {
   "display_name": "Python 3 (ipykernel)",
   "language": "python",
   "name": "python3"
  },
  "language_info": {
   "codemirror_mode": {
    "name": "ipython",
    "version": 3
   },
   "file_extension": ".py",
   "mimetype": "text/x-python",
   "name": "python",
   "nbconvert_exporter": "python",
   "pygments_lexer": "ipython3",
   "version": "3.10.12"
  }
 },
 "nbformat": 4,
 "nbformat_minor": 5
}
