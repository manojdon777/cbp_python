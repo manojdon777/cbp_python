{
 "cells": [
  {
   "cell_type": "markdown",
   "id": "d811ad1d",
   "metadata": {},
   "source": [
    "## Dictionary definition"
   ]
  },
  {
   "cell_type": "code",
   "execution_count": null,
   "id": "c29e5cbb",
   "metadata": {},
   "outputs": [],
   "source": [
    "- set of pair of kay and value\n",
    "- key -> Immutable, value -> Any(Mutable/Immutable)\n",
    "- ordered from Python3.7 onwards\n",
    "- keys are unique\n",
    "- Mutable"
   ]
  },
  {
   "cell_type": "markdown",
   "id": "84e21945",
   "metadata": {},
   "source": [
    "### Initialize"
   ]
  },
  {
   "cell_type": "code",
   "execution_count": 1,
   "id": "6e2d911f",
   "metadata": {},
   "outputs": [
    {
     "name": "stdout",
     "output_type": "stream",
     "text": [
      "<class 'dict'>\n"
     ]
    }
   ],
   "source": [
    "dict1 = {}\n",
    "print(type(dict1))"
   ]
  },
  {
   "cell_type": "code",
   "execution_count": 2,
   "id": "1ebcba27",
   "metadata": {},
   "outputs": [
    {
     "data": {
      "text/plain": [
       "{1: [1, 2, 3], 2: [2, 4, 6], 3: [3, 6, 9]}"
      ]
     },
     "execution_count": 2,
     "metadata": {},
     "output_type": "execute_result"
    }
   ],
   "source": [
    "dict1 = { 1:[1,2,3], 2:[2,4,6], 3:[3,6,9] }\n",
    "dict1"
   ]
  },
  {
   "cell_type": "code",
   "execution_count": null,
   "id": "52f16d09",
   "metadata": {},
   "outputs": [],
   "source": [
    "dict1 = { 1:[1,2,3],\n",
    "          2:[2,4,6],\n",
    "          3:[3,6,9] \n",
    "        }\n",
    "dict1"
   ]
  },
  {
   "cell_type": "code",
   "execution_count": 3,
   "id": "9567a468",
   "metadata": {},
   "outputs": [
    {
     "data": {
      "text/plain": [
       "{'Name': 'John Cena', 'Age': 56, 'Salary': 45000, 'Company': 'TCS'}"
      ]
     },
     "execution_count": 3,
     "metadata": {},
     "output_type": "execute_result"
    }
   ],
   "source": [
    "dict2 = {'Name':'John Cena', 'Age': 56, 'Salary': 45000, 'Company': 'TCS'}\n",
    "dict2"
   ]
  },
  {
   "cell_type": "code",
   "execution_count": 4,
   "id": "97947d76",
   "metadata": {},
   "outputs": [
    {
     "data": {
      "text/plain": [
       "{'Name': 'John Cena', 'Age': 56, 'Salary': 45000, 'Company': 'TCS'}"
      ]
     },
     "execution_count": 4,
     "metadata": {},
     "output_type": "execute_result"
    }
   ],
   "source": [
    "dict2 = {'Name':'John Cena',\n",
    "         'Age': 56,\n",
    "         'Salary': 45000,\n",
    "         'Company': 'TCS'\n",
    "        }\n",
    "dict2"
   ]
  },
  {
   "cell_type": "code",
   "execution_count": 7,
   "id": "ee44a22d",
   "metadata": {},
   "outputs": [],
   "source": [
    "dict3 = {(1,) : [34,67,21],\n",
    "         (3,2): ['Abc', 'Xyz'],\n",
    "         'KEY': (11,22,33)\n",
    "        }"
   ]
  },
  {
   "cell_type": "code",
   "execution_count": 8,
   "id": "65311ae3",
   "metadata": {},
   "outputs": [
    {
     "data": {
      "text/plain": [
       "{(1,): [34, 67, 21], (3, 2): ['Abc', 'Xyz'], 'KEY': (11, 22, 33)}"
      ]
     },
     "execution_count": 8,
     "metadata": {},
     "output_type": "execute_result"
    }
   ],
   "source": [
    "dict3"
   ]
  },
  {
   "cell_type": "code",
   "execution_count": 10,
   "id": "75841163",
   "metadata": {},
   "outputs": [
    {
     "data": {
      "text/plain": [
       "{1: 1, 2: 2, 3: 3}"
      ]
     },
     "execution_count": 10,
     "metadata": {},
     "output_type": "execute_result"
    }
   ],
   "source": [
    "dict4 = {1:1, 2:2, 3:3}\n",
    "dict4"
   ]
  },
  {
   "cell_type": "code",
   "execution_count": 11,
   "id": "f004e049",
   "metadata": {},
   "outputs": [
    {
     "data": {
      "text/plain": [
       "{(1, 2): (3, 4), (11, 22): (33, 44)}"
      ]
     },
     "execution_count": 11,
     "metadata": {},
     "output_type": "execute_result"
    }
   ],
   "source": [
    "dict5 = {(1,2):(3,4),(11,22):(33,44)}\n",
    "dict5"
   ]
  },
  {
   "cell_type": "code",
   "execution_count": 13,
   "id": "1a94a7ca",
   "metadata": {},
   "outputs": [
    {
     "data": {
      "text/plain": [
       "{1: [1, 2, 3], 2: [2, 4, 6], 3: [3, 6, 9]}"
      ]
     },
     "execution_count": 13,
     "metadata": {},
     "output_type": "execute_result"
    }
   ],
   "source": [
    "dict1 = { 1:[1,2,3], 2:[2,4,6], 3:[3,6,9] }\n",
    "dict1"
   ]
  },
  {
   "cell_type": "code",
   "execution_count": 56,
   "id": "82b6efc0",
   "metadata": {},
   "outputs": [
    {
     "data": {
      "text/plain": [
       "{1: [1, 2, 3], 2: [2, 4, 6], 3: [3, 6, 9], 4: [4, 8, 12]}"
      ]
     },
     "execution_count": 56,
     "metadata": {},
     "output_type": "execute_result"
    }
   ],
   "source": [
    "dict1 = { 1:[1,2,3], 2:[2,4,6], 3:[3,6,9] }\n",
    "dict1[4] = [4,8,12]\n",
    "dict1"
   ]
  },
  {
   "cell_type": "code",
   "execution_count": 57,
   "id": "a63a3ba6",
   "metadata": {},
   "outputs": [
    {
     "data": {
      "text/plain": [
       "{1: [1, 2, 3], 2: {'A', 'a', 'i', 'l', 'r', 'v'}, 3: [3, 6, 9]}"
      ]
     },
     "execution_count": 57,
     "metadata": {},
     "output_type": "execute_result"
    }
   ],
   "source": [
    "dict1 = { 1:[1,2,3], 2:[2,4,6], 3:[3,6,9] }\n",
    "dict1[2] = {'A', 'r', 'a', 'v', 'a', 'l', 'i'}\n",
    "dict1"
   ]
  },
  {
   "cell_type": "markdown",
   "id": "dd611b5d",
   "metadata": {},
   "source": [
    "### update()"
   ]
  },
  {
   "cell_type": "code",
   "execution_count": 58,
   "id": "73934577",
   "metadata": {},
   "outputs": [
    {
     "data": {
      "text/plain": [
       "{1: 'aaa', 2: 'bbb', 5: 'kkk', 9: 'xyz'}"
      ]
     },
     "execution_count": 58,
     "metadata": {},
     "output_type": "execute_result"
    }
   ],
   "source": [
    "d1 = {1:\"aaa\", 2:'bbb'}\n",
    "d2 = {5:'kkk', 9:'xyz'}\n",
    "d1.update(d2)\n",
    "d1"
   ]
  },
  {
   "cell_type": "code",
   "execution_count": 59,
   "id": "ac66bca1",
   "metadata": {},
   "outputs": [
    {
     "data": {
      "text/plain": [
       "{5: 'kkk', 9: 'xyz', 1: 'aaa', 2: 'bbb'}"
      ]
     },
     "execution_count": 59,
     "metadata": {},
     "output_type": "execute_result"
    }
   ],
   "source": [
    "d1 = {1:\"aaa\", 2:'bbb'}\n",
    "d2 = {5:'kkk', 9:'xyz'}\n",
    "d2.update(d1)\n",
    "d2"
   ]
  },
  {
   "cell_type": "code",
   "execution_count": null,
   "id": "8622f0aa",
   "metadata": {},
   "outputs": [],
   "source": []
  },
  {
   "cell_type": "markdown",
   "id": "a0d61154",
   "metadata": {},
   "source": [
    "### Add key value\n",
    "   dictionary [ key  ] = value"
   ]
  },
  {
   "cell_type": "code",
   "execution_count": 14,
   "id": "700621b2",
   "metadata": {},
   "outputs": [],
   "source": [
    "dict1[4] = [4, 8, 12]"
   ]
  },
  {
   "cell_type": "code",
   "execution_count": 15,
   "id": "3b0eaeb1",
   "metadata": {},
   "outputs": [
    {
     "data": {
      "text/plain": [
       "{1: [1, 2, 3], 2: [2, 4, 6], 3: [3, 6, 9], 4: [4, 8, 12]}"
      ]
     },
     "execution_count": 15,
     "metadata": {},
     "output_type": "execute_result"
    }
   ],
   "source": [
    "dict1"
   ]
  },
  {
   "cell_type": "markdown",
   "id": "71ac30d2",
   "metadata": {},
   "source": [
    "### Access"
   ]
  },
  {
   "cell_type": "code",
   "execution_count": 16,
   "id": "c67837d8",
   "metadata": {},
   "outputs": [],
   "source": [
    "dict3 = {(1,) : [34,67,21],\n",
    "         (3,2): ['Abc', 'Xyz'],\n",
    "         'KEY': (11,22,33)\n",
    "        }"
   ]
  },
  {
   "cell_type": "code",
   "execution_count": 17,
   "id": "87231b45",
   "metadata": {},
   "outputs": [
    {
     "data": {
      "text/plain": [
       "['Abc', 'Xyz']"
      ]
     },
     "execution_count": 17,
     "metadata": {},
     "output_type": "execute_result"
    }
   ],
   "source": [
    "dict3[(3,2)]"
   ]
  },
  {
   "cell_type": "code",
   "execution_count": 18,
   "id": "4507423a",
   "metadata": {},
   "outputs": [
    {
     "data": {
      "text/plain": [
       "[34, 67, 21]"
      ]
     },
     "execution_count": 18,
     "metadata": {},
     "output_type": "execute_result"
    }
   ],
   "source": [
    "dict3[(1,)]"
   ]
  },
  {
   "cell_type": "markdown",
   "id": "e15d5eaa",
   "metadata": {},
   "source": [
    "### Access using get()"
   ]
  },
  {
   "cell_type": "code",
   "execution_count": 19,
   "id": "4346179c",
   "metadata": {},
   "outputs": [
    {
     "data": {
      "text/plain": [
       "['Abc', 'Xyz']"
      ]
     },
     "execution_count": 19,
     "metadata": {},
     "output_type": "execute_result"
    }
   ],
   "source": [
    "dict3.get((3,2))"
   ]
  },
  {
   "cell_type": "code",
   "execution_count": 20,
   "id": "b8823516",
   "metadata": {},
   "outputs": [
    {
     "data": {
      "text/plain": [
       "{1: [1, 2, 3], 2: [2, 4, 6], 3: [3, 6, 9]}"
      ]
     },
     "execution_count": 20,
     "metadata": {},
     "output_type": "execute_result"
    }
   ],
   "source": [
    "dict1 = { 1:[1,2,3], 2:[2,4,6], 3:[3,6,9] }\n",
    "dict1"
   ]
  },
  {
   "cell_type": "code",
   "execution_count": 21,
   "id": "d45e5dac",
   "metadata": {},
   "outputs": [
    {
     "data": {
      "text/plain": [
       "[3, 6, 9]"
      ]
     },
     "execution_count": 21,
     "metadata": {},
     "output_type": "execute_result"
    }
   ],
   "source": [
    "dict1.get(3)"
   ]
  },
  {
   "cell_type": "code",
   "execution_count": null,
   "id": "5f05fe3f",
   "metadata": {},
   "outputs": [],
   "source": []
  },
  {
   "cell_type": "markdown",
   "id": "85e5e5c4",
   "metadata": {},
   "source": [
    "## Remove Operations"
   ]
  },
  {
   "cell_type": "markdown",
   "id": "5f08f7a4",
   "metadata": {},
   "source": [
    "### pop(key)\n",
    "- returns value of that key which is passed as argument"
   ]
  },
  {
   "cell_type": "code",
   "execution_count": 36,
   "id": "f9bda248",
   "metadata": {},
   "outputs": [],
   "source": [
    "d = {1: [1, 2, 3], 2: [2, 4, 6], 3: [3, 6, 9], 4: [4, 8, 12]}"
   ]
  },
  {
   "cell_type": "code",
   "execution_count": 37,
   "id": "c4e079b9",
   "metadata": {},
   "outputs": [
    {
     "data": {
      "text/plain": [
       "[2, 4, 6]"
      ]
     },
     "execution_count": 37,
     "metadata": {},
     "output_type": "execute_result"
    }
   ],
   "source": [
    "d.pop(2)\n"
   ]
  },
  {
   "cell_type": "code",
   "execution_count": 26,
   "id": "51950622",
   "metadata": {},
   "outputs": [
    {
     "data": {
      "text/plain": [
       "{(1,): [34, 67, 21], (3, 2): ['Abc', 'Xyz']}"
      ]
     },
     "execution_count": 26,
     "metadata": {},
     "output_type": "execute_result"
    }
   ],
   "source": [
    "dict3 = {(1,) : [34,67,21],\n",
    "         (3,2): ['Abc', 'Xyz'],\n",
    "         'KEY': (11,22,33)\n",
    "        }\n",
    "dict3.pop('KEY')\n",
    "dict3"
   ]
  },
  {
   "cell_type": "code",
   "execution_count": 27,
   "id": "6dbf93ef",
   "metadata": {},
   "outputs": [
    {
     "ename": "KeyError",
     "evalue": "'KEy'",
     "output_type": "error",
     "traceback": [
      "\u001b[0;31m---------------------------------------------------------------------------\u001b[0m",
      "\u001b[0;31mKeyError\u001b[0m                                  Traceback (most recent call last)",
      "\u001b[0;32m/tmp/ipykernel_96069/2081138500.py\u001b[0m in \u001b[0;36m<module>\u001b[0;34m\u001b[0m\n\u001b[1;32m      3\u001b[0m          \u001b[0;34m'KEY'\u001b[0m\u001b[0;34m:\u001b[0m \u001b[0;34m(\u001b[0m\u001b[0;36m11\u001b[0m\u001b[0;34m,\u001b[0m\u001b[0;36m22\u001b[0m\u001b[0;34m,\u001b[0m\u001b[0;36m33\u001b[0m\u001b[0;34m)\u001b[0m\u001b[0;34m\u001b[0m\u001b[0;34m\u001b[0m\u001b[0m\n\u001b[1;32m      4\u001b[0m         }\n\u001b[0;32m----> 5\u001b[0;31m \u001b[0mdict3\u001b[0m\u001b[0;34m.\u001b[0m\u001b[0mpop\u001b[0m\u001b[0;34m(\u001b[0m\u001b[0;34m'KEy'\u001b[0m\u001b[0;34m)\u001b[0m\u001b[0;34m\u001b[0m\u001b[0;34m\u001b[0m\u001b[0m\n\u001b[0m\u001b[1;32m      6\u001b[0m \u001b[0mdict3\u001b[0m\u001b[0;34m\u001b[0m\u001b[0;34m\u001b[0m\u001b[0m\n",
      "\u001b[0;31mKeyError\u001b[0m: 'KEy'"
     ]
    }
   ],
   "source": [
    "dict3 = {(1,) : [34,67,21],\n",
    "         (3,2): ['Abc', 'Xyz'],\n",
    "         'KEY': (11,22,33)\n",
    "        }\n",
    "dict3.pop('KEy')\n",
    "dict3"
   ]
  },
  {
   "cell_type": "code",
   "execution_count": 28,
   "id": "c5e3960a",
   "metadata": {},
   "outputs": [
    {
     "data": {
      "text/plain": [
       "2"
      ]
     },
     "execution_count": 28,
     "metadata": {},
     "output_type": "execute_result"
    }
   ],
   "source": [
    "dict4 = {1:1, 2:2, 3:3}\n",
    "dict4.pop(2)"
   ]
  },
  {
   "cell_type": "code",
   "execution_count": 29,
   "id": "129381bb",
   "metadata": {},
   "outputs": [
    {
     "ename": "KeyError",
     "evalue": "9",
     "output_type": "error",
     "traceback": [
      "\u001b[0;31m---------------------------------------------------------------------------\u001b[0m",
      "\u001b[0;31mKeyError\u001b[0m                                  Traceback (most recent call last)",
      "\u001b[0;32m/tmp/ipykernel_96069/998757062.py\u001b[0m in \u001b[0;36m<module>\u001b[0;34m\u001b[0m\n\u001b[1;32m      1\u001b[0m \u001b[0mdict4\u001b[0m \u001b[0;34m=\u001b[0m \u001b[0;34m{\u001b[0m\u001b[0;36m1\u001b[0m\u001b[0;34m:\u001b[0m\u001b[0;36m1\u001b[0m\u001b[0;34m,\u001b[0m \u001b[0;36m2\u001b[0m\u001b[0;34m:\u001b[0m\u001b[0;36m2\u001b[0m\u001b[0;34m,\u001b[0m \u001b[0;36m3\u001b[0m\u001b[0;34m:\u001b[0m\u001b[0;36m3\u001b[0m\u001b[0;34m}\u001b[0m\u001b[0;34m\u001b[0m\u001b[0;34m\u001b[0m\u001b[0m\n\u001b[0;32m----> 2\u001b[0;31m \u001b[0mdict4\u001b[0m\u001b[0;34m.\u001b[0m\u001b[0mpop\u001b[0m\u001b[0;34m(\u001b[0m\u001b[0;36m9\u001b[0m\u001b[0;34m)\u001b[0m\u001b[0;34m\u001b[0m\u001b[0;34m\u001b[0m\u001b[0m\n\u001b[0m",
      "\u001b[0;31mKeyError\u001b[0m: 9"
     ]
    }
   ],
   "source": [
    "dict4 = {1:1, 2:2, 3:3}\n",
    "dict4.pop(9)"
   ]
  },
  {
   "cell_type": "code",
   "execution_count": 30,
   "id": "e1255281",
   "metadata": {},
   "outputs": [
    {
     "ename": "KeyError",
     "evalue": "'ABC'",
     "output_type": "error",
     "traceback": [
      "\u001b[0;31m---------------------------------------------------------------------------\u001b[0m",
      "\u001b[0;31mKeyError\u001b[0m                                  Traceback (most recent call last)",
      "\u001b[0;32m/tmp/ipykernel_96069/1304415916.py\u001b[0m in \u001b[0;36m<module>\u001b[0;34m\u001b[0m\n\u001b[0;32m----> 1\u001b[0;31m \u001b[0mdict4\u001b[0m\u001b[0;34m.\u001b[0m\u001b[0mpop\u001b[0m\u001b[0;34m(\u001b[0m\u001b[0;34m'ABC'\u001b[0m\u001b[0;34m)\u001b[0m\u001b[0;34m\u001b[0m\u001b[0;34m\u001b[0m\u001b[0m\n\u001b[0m",
      "\u001b[0;31mKeyError\u001b[0m: 'ABC'"
     ]
    }
   ],
   "source": [
    "dict4.pop('ABC')"
   ]
  },
  {
   "cell_type": "markdown",
   "id": "6fd85b55",
   "metadata": {},
   "source": [
    "### popitem()\n",
    "- return key and value pair in tuple format"
   ]
  },
  {
   "cell_type": "code",
   "execution_count": 32,
   "id": "f2e81ce2",
   "metadata": {},
   "outputs": [
    {
     "name": "stdout",
     "output_type": "stream",
     "text": [
      "{1: 'aaa', 2: 'bbb', 3: 'ccc'}\n"
     ]
    }
   ],
   "source": [
    "dict4 = {1:\"aaa\", 2:'bbb', 3:'ccc'}\n",
    "print(dict4)\n",
    "# dict4.pop(2)"
   ]
  },
  {
   "cell_type": "code",
   "execution_count": 33,
   "id": "aa953dd9",
   "metadata": {},
   "outputs": [
    {
     "data": {
      "text/plain": [
       "{1: 'aaa', 2: 'bbb'}"
      ]
     },
     "execution_count": 33,
     "metadata": {},
     "output_type": "execute_result"
    }
   ],
   "source": [
    "dict4 = {1:\"aaa\", 2:'bbb', 3:'ccc'}\n",
    "dict4.popitem()\n",
    "dict4"
   ]
  },
  {
   "cell_type": "code",
   "execution_count": 34,
   "id": "2e0f1d9b",
   "metadata": {},
   "outputs": [
    {
     "data": {
      "text/plain": [
       "(2, 'bbb')"
      ]
     },
     "execution_count": 34,
     "metadata": {},
     "output_type": "execute_result"
    }
   ],
   "source": [
    "dict4.popitem()"
   ]
  },
  {
   "cell_type": "code",
   "execution_count": 38,
   "id": "ea877052",
   "metadata": {},
   "outputs": [
    {
     "data": {
      "text/plain": [
       "(1, 'aaa')"
      ]
     },
     "execution_count": 38,
     "metadata": {},
     "output_type": "execute_result"
    }
   ],
   "source": [
    "dict4.popitem()"
   ]
  },
  {
   "cell_type": "code",
   "execution_count": 39,
   "id": "a595b7b9",
   "metadata": {},
   "outputs": [
    {
     "ename": "KeyError",
     "evalue": "'popitem(): dictionary is empty'",
     "output_type": "error",
     "traceback": [
      "\u001b[0;31m---------------------------------------------------------------------------\u001b[0m",
      "\u001b[0;31mKeyError\u001b[0m                                  Traceback (most recent call last)",
      "\u001b[0;32m/tmp/ipykernel_96069/4026301945.py\u001b[0m in \u001b[0;36m<module>\u001b[0;34m\u001b[0m\n\u001b[0;32m----> 1\u001b[0;31m \u001b[0mdict4\u001b[0m\u001b[0;34m.\u001b[0m\u001b[0mpopitem\u001b[0m\u001b[0;34m(\u001b[0m\u001b[0;34m)\u001b[0m\u001b[0;34m\u001b[0m\u001b[0;34m\u001b[0m\u001b[0m\n\u001b[0m",
      "\u001b[0;31mKeyError\u001b[0m: 'popitem(): dictionary is empty'"
     ]
    }
   ],
   "source": [
    "dict4.popitem()"
   ]
  },
  {
   "cell_type": "markdown",
   "id": "77934dd5",
   "metadata": {},
   "source": [
    "### clear()\n",
    "- clears contents of dict variable"
   ]
  },
  {
   "cell_type": "code",
   "execution_count": 40,
   "id": "a23658fe",
   "metadata": {},
   "outputs": [
    {
     "data": {
      "text/plain": [
       "{}"
      ]
     },
     "execution_count": 40,
     "metadata": {},
     "output_type": "execute_result"
    }
   ],
   "source": [
    "dict4 = {1:\"aaa\", 2:'bbb', 3:'ccc'}\n",
    "dict4.clear()\n",
    "dict4"
   ]
  },
  {
   "cell_type": "code",
   "execution_count": null,
   "id": "ccb6473a",
   "metadata": {},
   "outputs": [],
   "source": []
  },
  {
   "cell_type": "markdown",
   "id": "0a251864",
   "metadata": {},
   "source": [
    "### del"
   ]
  },
  {
   "cell_type": "code",
   "execution_count": 42,
   "id": "b894dc12",
   "metadata": {},
   "outputs": [
    {
     "data": {
      "text/plain": [
       "{2: 'bbb', 3: 'ccc'}"
      ]
     },
     "execution_count": 42,
     "metadata": {},
     "output_type": "execute_result"
    }
   ],
   "source": [
    "dict4 = {1:\"aaa\", 2:'bbb', 3:'ccc'}\n",
    "del dict4[1]\n",
    "dict4"
   ]
  },
  {
   "cell_type": "code",
   "execution_count": null,
   "id": "c45970b4",
   "metadata": {},
   "outputs": [],
   "source": []
  },
  {
   "cell_type": "markdown",
   "id": "7ac642eb",
   "metadata": {},
   "source": [
    "### Access dictionary with for loop using\n",
    "- keys()\n",
    "- values()\n",
    "- items()"
   ]
  },
  {
   "cell_type": "code",
   "execution_count": 43,
   "id": "08b21887",
   "metadata": {},
   "outputs": [
    {
     "name": "stdout",
     "output_type": "stream",
     "text": [
      "1\n",
      "2\n",
      "3\n",
      "4\n",
      "5\n",
      "6\n"
     ]
    }
   ],
   "source": [
    "dict4 = {1:\"111\", 2:'222', 3:'333', 4:'444', 5:'555', 6:'666'}\n",
    "for var in dict4:\n",
    "    print(var)"
   ]
  },
  {
   "cell_type": "code",
   "execution_count": 45,
   "id": "1207e1b5",
   "metadata": {},
   "outputs": [
    {
     "name": "stdout",
     "output_type": "stream",
     "text": [
      "1 -> 111\n",
      "2 -> 222\n",
      "3 -> 333\n",
      "4 -> 444\n",
      "5 -> 555\n",
      "6 -> 666\n"
     ]
    }
   ],
   "source": [
    "dict4 = {1:\"111\", 2:'222', 3:'333', 4:'444', 5:'555', 6:'666'}\n",
    "for var in dict4:\n",
    "    print(var, '->', dict4[var])"
   ]
  },
  {
   "cell_type": "code",
   "execution_count": 46,
   "id": "26058fce",
   "metadata": {},
   "outputs": [
    {
     "name": "stdout",
     "output_type": "stream",
     "text": [
      "1 -> aaa\n",
      "2 -> bbb\n",
      "3 -> ccc\n",
      "4 -> ddd\n",
      "5 -> eee\n",
      "6 -> fff\n"
     ]
    }
   ],
   "source": [
    "dict4 = {1:\"aaa\", 2:'bbb', 3:'ccc', 4:'ddd', 5:'eee', 6:'fff'}\n",
    "for var in dict4:\n",
    "    print(var, '->', dict4[var])"
   ]
  },
  {
   "cell_type": "code",
   "execution_count": null,
   "id": "8641b040",
   "metadata": {},
   "outputs": [],
   "source": []
  },
  {
   "cell_type": "markdown",
   "id": "2f9c7e77",
   "metadata": {},
   "source": [
    "### keys()"
   ]
  },
  {
   "cell_type": "code",
   "execution_count": 47,
   "id": "f5dda1aa",
   "metadata": {},
   "outputs": [
    {
     "name": "stdout",
     "output_type": "stream",
     "text": [
      "1\n",
      "2\n",
      "3\n",
      "4\n",
      "5\n",
      "6\n"
     ]
    }
   ],
   "source": [
    "dict4 = {1:\"aaa\", 2:'bbb', 3:'ccc', 4:'ddd', 5:'eee', 6:'fff'}\n",
    "for key in dict4.keys():\n",
    "    print(key)\n",
    "#     print(var, '->', dict4[var])"
   ]
  },
  {
   "cell_type": "code",
   "execution_count": 48,
   "id": "492fa5ce",
   "metadata": {},
   "outputs": [
    {
     "data": {
      "text/plain": [
       "dict_keys([1, 2, 3, 4, 5, 6])"
      ]
     },
     "execution_count": 48,
     "metadata": {},
     "output_type": "execute_result"
    }
   ],
   "source": [
    "dict4.keys()"
   ]
  },
  {
   "cell_type": "code",
   "execution_count": 50,
   "id": "2a61848d",
   "metadata": {},
   "outputs": [
    {
     "data": {
      "text/plain": [
       "dict_keys"
      ]
     },
     "execution_count": 50,
     "metadata": {},
     "output_type": "execute_result"
    }
   ],
   "source": [
    "type(dict4.keys())"
   ]
  },
  {
   "cell_type": "code",
   "execution_count": 49,
   "id": "84f63d88",
   "metadata": {},
   "outputs": [
    {
     "data": {
      "text/plain": [
       "[1, 2, 3, 4, 5, 6]"
      ]
     },
     "execution_count": 49,
     "metadata": {},
     "output_type": "execute_result"
    }
   ],
   "source": [
    "list(dict4.keys())"
   ]
  },
  {
   "cell_type": "markdown",
   "id": "40b9fac2",
   "metadata": {},
   "source": [
    "### values()"
   ]
  },
  {
   "cell_type": "code",
   "execution_count": 51,
   "id": "4f21844a",
   "metadata": {},
   "outputs": [
    {
     "name": "stdout",
     "output_type": "stream",
     "text": [
      "aaa\n",
      "bbb\n",
      "ccc\n",
      "ddd\n",
      "eee\n",
      "fff\n"
     ]
    }
   ],
   "source": [
    "dict4 = {1:\"aaa\", 2:'bbb', 3:'ccc', 4:'ddd', 5:'eee', 6:'fff'}\n",
    "for value in dict4.values():\n",
    "    print(value)\n"
   ]
  },
  {
   "cell_type": "code",
   "execution_count": 52,
   "id": "c1668e97",
   "metadata": {},
   "outputs": [
    {
     "data": {
      "text/plain": [
       "dict_values(['aaa', 'bbb', 'ccc', 'ddd', 'eee', 'fff'])"
      ]
     },
     "execution_count": 52,
     "metadata": {},
     "output_type": "execute_result"
    }
   ],
   "source": [
    "dict4.values()"
   ]
  },
  {
   "cell_type": "code",
   "execution_count": 53,
   "id": "1c1eeb80",
   "metadata": {},
   "outputs": [
    {
     "data": {
      "text/plain": [
       "['aaa', 'bbb', 'ccc', 'ddd', 'eee', 'fff']"
      ]
     },
     "execution_count": 53,
     "metadata": {},
     "output_type": "execute_result"
    }
   ],
   "source": [
    "list(dict4.values())"
   ]
  },
  {
   "cell_type": "code",
   "execution_count": null,
   "id": "dd31748b",
   "metadata": {},
   "outputs": [],
   "source": []
  },
  {
   "cell_type": "markdown",
   "id": "49fb399e",
   "metadata": {},
   "source": [
    "### items()\n",
    "- return key:value pair in tuple format"
   ]
  },
  {
   "cell_type": "code",
   "execution_count": 54,
   "id": "2fcdc067",
   "metadata": {},
   "outputs": [
    {
     "name": "stdout",
     "output_type": "stream",
     "text": [
      "(1, 'aaa')\n",
      "(2, 'bbb')\n",
      "(3, 'ccc')\n",
      "(4, 'ddd')\n",
      "(5, 'eee')\n",
      "(6, 'fff')\n"
     ]
    }
   ],
   "source": [
    "dict4 = {1:\"aaa\", 2:'bbb', 3:'ccc', 4:'ddd', 5:'eee', 6:'fff'}\n",
    "for pair in dict4.items():\n",
    "    print(pair)\n"
   ]
  },
  {
   "cell_type": "code",
   "execution_count": 55,
   "id": "f50aa240",
   "metadata": {},
   "outputs": [
    {
     "name": "stdout",
     "output_type": "stream",
     "text": [
      "1 aaa\n",
      "2 bbb\n",
      "3 ccc\n",
      "4 ddd\n",
      "5 eee\n",
      "6 fff\n"
     ]
    }
   ],
   "source": [
    "dict4 = {1:\"aaa\", 2:'bbb', 3:'ccc', 4:'ddd', 5:'eee', 6:'fff'}\n",
    "for a,b in dict4.items():\n",
    "    print(a,b)\n"
   ]
  },
  {
   "cell_type": "code",
   "execution_count": 67,
   "id": "9b702552",
   "metadata": {},
   "outputs": [
    {
     "data": {
      "text/plain": [
       "{'f': 3,\n",
       " 'o': 9,\n",
       " 't': 7,\n",
       " 'b': 2,\n",
       " 'a': 10,\n",
       " 'l': 7,\n",
       " ' ': 18,\n",
       " 'i': 6,\n",
       " 's': 5,\n",
       " 'm': 2,\n",
       " 'y': 2,\n",
       " 'e': 6,\n",
       " 'p': 1,\n",
       " 'r': 4,\n",
       " 'h': 1,\n",
       " 'n': 3,\n",
       " 'v': 3,\n",
       " ',': 2,\n",
       " 'g': 4,\n",
       " 'd': 1,\n",
       " 'k': 2,\n",
       " 'c': 2,\n",
       " '.': 1}"
      ]
     },
     "execution_count": 67,
     "metadata": {},
     "output_type": "execute_result"
    }
   ],
   "source": [
    "# Non alpha also included\n",
    "\n",
    "string = 'Football is a family of team sports that involve, to varying degrees, kicking a ball to score a goal.'\n",
    "string = string.lower()\n",
    "char_frequency = {}\n",
    "for char in string:\n",
    "    char_frequency[char] = string.count(char)\n",
    "char_frequency        "
   ]
  },
  {
   "cell_type": "code",
   "execution_count": 66,
   "id": "1fdc3767",
   "metadata": {},
   "outputs": [
    {
     "data": {
      "text/plain": [
       "{'f': 3,\n",
       " 'o': 9,\n",
       " 't': 7,\n",
       " 'b': 2,\n",
       " 'a': 10,\n",
       " 'l': 7,\n",
       " 'i': 6,\n",
       " 's': 5,\n",
       " 'm': 2,\n",
       " 'y': 2,\n",
       " 'e': 6,\n",
       " 'p': 1,\n",
       " 'r': 4,\n",
       " 'h': 1,\n",
       " 'n': 3,\n",
       " 'v': 3,\n",
       " 'g': 4,\n",
       " 'd': 1,\n",
       " 'k': 2,\n",
       " 'c': 2}"
      ]
     },
     "execution_count": 66,
     "metadata": {},
     "output_type": "execute_result"
    }
   ],
   "source": [
    "#Count of only alphabets\n",
    "string = 'Football is a family of team sports that involve, to varying degrees, kicking a ball to score a goal.'\n",
    "string = string.lower()\n",
    "char_frequency = {}\n",
    "for char in string:\n",
    "    if char.isalpha():\n",
    "        char_frequency[char] = string.count(char)\n",
    "char_frequency        "
   ]
  },
  {
   "cell_type": "code",
   "execution_count": 69,
   "id": "12e6acf4",
   "metadata": {},
   "outputs": [
    {
     "data": {
      "text/plain": [
       "{'a': 10,\n",
       " 'o': 9,\n",
       " 'r': 4,\n",
       " 'k': 2,\n",
       " 't': 7,\n",
       " 'd': 1,\n",
       " 'i': 6,\n",
       " 'h': 1,\n",
       " 'f': 3,\n",
       " 'l': 7,\n",
       " 'p': 1,\n",
       " 'e': 6,\n",
       " 'y': 2,\n",
       " 'n': 3,\n",
       " 'g': 4,\n",
       " 'b': 2,\n",
       " 'v': 3,\n",
       " 's': 5,\n",
       " 'c': 2,\n",
       " 'm': 2}"
      ]
     },
     "execution_count": 69,
     "metadata": {},
     "output_type": "execute_result"
    }
   ],
   "source": [
    "#Count of only alphabets\n",
    "string = 'Football is a family of team sports that involve, to varying degrees, kicking a ball to score a goal.'\n",
    "string = string.lower()\n",
    "set1 = set(string)\n",
    "char_frequency = {}\n",
    "for char in set1:\n",
    "    if char.isalpha():\n",
    "        char_frequency[char] = string.count(char)\n",
    "char_frequency        "
   ]
  },
  {
   "cell_type": "code",
   "execution_count": 70,
   "id": "ca063dec",
   "metadata": {},
   "outputs": [
    {
     "data": {
      "text/plain": [
       "{'  abc ': 123, 'xyz     ': 456, 'abc xyz': 789}"
      ]
     },
     "execution_count": 70,
     "metadata": {},
     "output_type": "execute_result"
    }
   ],
   "source": [
    "# Write a Python program to remove spaces from dictionary keys. \n",
    "\n",
    "d = {'  abc ':123,\n",
    "     'xyz     ':456,\n",
    "     'abc xyz':789}\n",
    "d"
   ]
  },
  {
   "cell_type": "code",
   "execution_count": 72,
   "id": "75bc9f61",
   "metadata": {},
   "outputs": [
    {
     "data": {
      "text/plain": [
       "{'abc': 123, 'xyz': 456, 'abcxyz': 789}"
      ]
     },
     "execution_count": 72,
     "metadata": {},
     "output_type": "execute_result"
    }
   ],
   "source": [
    "# Write a Python program to remove spaces from dictionary keys. \n",
    "\n",
    "d1 = {'  abc ':123,\n",
    "     'xyz     ':456,\n",
    "     'abc xyz':789}\n",
    "d2 = {}\n",
    "for key, value in d1.items():\n",
    "    d2[key.replace(' ', '')] = value\n",
    "d2"
   ]
  },
  {
   "cell_type": "code",
   "execution_count": null,
   "id": "40a01e48",
   "metadata": {},
   "outputs": [],
   "source": [
    "# Write a Python program to remove spaces from dictionary keys. \n",
    "\n",
    "d1 = {'  abc ':123,\n",
    "     'xyz     ':456,\n",
    "     'abc xyz':789}\n",
    "d2 = {}\n",
    "for key, value in d1.items():\n",
    "    d2[key.replace(' ', '')] = value\n",
    "d2"
   ]
  },
  {
   "cell_type": "raw",
   "id": "b0c31954",
   "metadata": {},
   "source": [
    "Write a Python program to create a dictionary of keys x, y, and z where each key has as value a list from 11-20, 21-30, and 31-40 respectively. Access the fifth value of each key from the dictionary.\n",
    "{\n",
    " 'x': [11, 12, 13, 14, 15, 16, 17, 18, 19],\n",
    " 'y': [21, 22, 23, 24, 25, 26, 27, 28, 29],\n",
    " 'z': [31, 32, 33, 34, 35, 36, 37, 38, 39]\n",
    " }\n",
    " \n",
    " Output - 15, 25, 35"
   ]
  },
  {
   "cell_type": "code",
   "execution_count": 77,
   "id": "ee1d5bf6",
   "metadata": {},
   "outputs": [
    {
     "data": {
      "text/plain": [
       "15"
      ]
     },
     "execution_count": 77,
     "metadata": {},
     "output_type": "execute_result"
    }
   ],
   "source": [
    "table = {\n",
    " 'x': [11, 12, 13, 14, 15, 16, 17, 18, 19],\n",
    " 'y': [21, 22, 23, 24, 25, 26, 27, 28, 29],\n",
    " 'z': [31, 32, 33, 34, 35, 36, 37, 38, 39]\n",
    " }\n",
    "list1 = table['x']\n",
    "list1[4]"
   ]
  },
  {
   "cell_type": "code",
   "execution_count": 80,
   "id": "9c09208b",
   "metadata": {},
   "outputs": [
    {
     "data": {
      "text/plain": [
       "[15, 25, 35]"
      ]
     },
     "execution_count": 80,
     "metadata": {},
     "output_type": "execute_result"
    }
   ],
   "source": [
    "table = {\n",
    " 'x': [11, 12, 13, 14, 15, 16, 17, 18, 19],\n",
    " 'y': [21, 22, 23, 24, 25, 26, 27, 28, 29],\n",
    " 'z': [31, 32, 33, 34, 35, 36, 37, 38, 39]\n",
    " }\n",
    "result = []\n",
    "for k, v in table.items():\n",
    "    list1 = table[k]\n",
    "    result.append(list1[4])\n",
    "result"
   ]
  },
  {
   "cell_type": "code",
   "execution_count": null,
   "id": "0ed28090",
   "metadata": {},
   "outputs": [],
   "source": []
  },
  {
   "cell_type": "code",
   "execution_count": null,
   "id": "b7ba65c7",
   "metadata": {},
   "outputs": [],
   "source": []
  },
  {
   "cell_type": "code",
   "execution_count": null,
   "id": "244914c1",
   "metadata": {},
   "outputs": [],
   "source": []
  }
 ],
 "metadata": {
  "kernelspec": {
   "display_name": "Python 3 (ipykernel)",
   "language": "python",
   "name": "python3"
  },
  "language_info": {
   "codemirror_mode": {
    "name": "ipython",
    "version": 3
   },
   "file_extension": ".py",
   "mimetype": "text/x-python",
   "name": "python",
   "nbconvert_exporter": "python",
   "pygments_lexer": "ipython3",
   "version": "3.10.12"
  }
 },
 "nbformat": 4,
 "nbformat_minor": 5
}
