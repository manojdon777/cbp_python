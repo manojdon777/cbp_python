{
 "cells": [
  {
   "cell_type": "code",
   "execution_count": null,
   "id": "9046fbd2",
   "metadata": {},
   "outputs": [],
   "source": [
    "list:  Ordered,   Mutable,   Duplicates allowed\n",
    "tuple: Ordered,   Immutable, Duplicates allowed\n",
    "set:   Unordered, Mutable,   Duplicates not-allowed\n",
    "str:   Ordered,   Immutable, Duplicates allowed\n",
    "dict:  Ordered,   Mutable,   Duplicates not-allowed in key"
   ]
  }
 ],
 "metadata": {
  "kernelspec": {
   "display_name": "Python 3 (ipykernel)",
   "language": "python",
   "name": "python3"
  },
  "language_info": {
   "codemirror_mode": {
    "name": "ipython",
    "version": 3
   },
   "file_extension": ".py",
   "mimetype": "text/x-python",
   "name": "python",
   "nbconvert_exporter": "python",
   "pygments_lexer": "ipython3",
   "version": "3.10.12"
  }
 },
 "nbformat": 4,
 "nbformat_minor": 5
}
