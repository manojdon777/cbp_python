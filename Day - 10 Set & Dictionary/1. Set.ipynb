{
 "cells": [
  {
   "cell_type": "markdown",
   "id": "f4288f73",
   "metadata": {},
   "source": [
    "## set"
   ]
  },
  {
   "cell_type": "code",
   "execution_count": null,
   "id": "86cfcc61",
   "metadata": {},
   "outputs": [],
   "source": [
    "- collection of unique elements\n",
    "- mutable\n",
    "- duplicates not allowed\n",
    "- unordered\n",
    "- heterogenous (only immutables allowed)"
   ]
  },
  {
   "cell_type": "markdown",
   "id": "17d93d1c",
   "metadata": {},
   "source": [
    "### Initialize"
   ]
  },
  {
   "cell_type": "code",
   "execution_count": 3,
   "id": "a9a96e3e",
   "metadata": {
    "collapsed": true
   },
   "outputs": [
    {
     "name": "stdout",
     "output_type": "stream",
     "text": [
      "<class 'dict'>\n"
     ]
    }
   ],
   "source": [
    "s = {} # this created dictionary, not set\n",
    "print(type(s))"
   ]
  },
  {
   "cell_type": "code",
   "execution_count": 4,
   "id": "c756a473",
   "metadata": {},
   "outputs": [
    {
     "name": "stdout",
     "output_type": "stream",
     "text": [
      "<class 'set'>\n"
     ]
    }
   ],
   "source": [
    "s = set()\n",
    "print(type(s))"
   ]
  },
  {
   "cell_type": "code",
   "execution_count": 5,
   "id": "6f004be1",
   "metadata": {},
   "outputs": [
    {
     "name": "stdout",
     "output_type": "stream",
     "text": [
      "{1, 2, 3, 4}\n"
     ]
    }
   ],
   "source": [
    "s = {1,2,3,4}\n",
    "print(s)"
   ]
  },
  {
   "cell_type": "code",
   "execution_count": 6,
   "id": "cd956ce6",
   "metadata": {},
   "outputs": [
    {
     "data": {
      "text/plain": [
       "{1, 2, 3.14, 'CBP'}"
      ]
     },
     "execution_count": 6,
     "metadata": {},
     "output_type": "execute_result"
    }
   ],
   "source": [
    "s = {1,2,3.14,'CBP'}\n",
    "s"
   ]
  },
  {
   "cell_type": "code",
   "execution_count": 7,
   "id": "348cdda6",
   "metadata": {},
   "outputs": [
    {
     "ename": "TypeError",
     "evalue": "unhashable type: 'list'",
     "output_type": "error",
     "traceback": [
      "\u001b[0;31m---------------------------------------------------------------------------\u001b[0m",
      "\u001b[0;31mTypeError\u001b[0m                                 Traceback (most recent call last)",
      "\u001b[0;32m/tmp/ipykernel_81605/2533483073.py\u001b[0m in \u001b[0;36m<module>\u001b[0;34m\u001b[0m\n\u001b[0;32m----> 1\u001b[0;31m \u001b[0ms\u001b[0m \u001b[0;34m=\u001b[0m \u001b[0;34m{\u001b[0m\u001b[0;36m1\u001b[0m\u001b[0;34m,\u001b[0m \u001b[0;36m2\u001b[0m\u001b[0;34m,\u001b[0m \u001b[0;34m[\u001b[0m\u001b[0;36m1\u001b[0m\u001b[0;34m,\u001b[0m\u001b[0;36m2\u001b[0m\u001b[0;34m,\u001b[0m\u001b[0;36m3\u001b[0m\u001b[0;34m,\u001b[0m\u001b[0;36m4\u001b[0m\u001b[0;34m]\u001b[0m\u001b[0;34m}\u001b[0m\u001b[0;34m\u001b[0m\u001b[0;34m\u001b[0m\u001b[0m\n\u001b[0m",
      "\u001b[0;31mTypeError\u001b[0m: unhashable type: 'list'"
     ]
    }
   ],
   "source": [
    "s = {1, 2, [1,2,3,4]}"
   ]
  },
  {
   "cell_type": "code",
   "execution_count": 8,
   "id": "fc5cacea",
   "metadata": {},
   "outputs": [
    {
     "ename": "TypeError",
     "evalue": "unhashable type: 'dict'",
     "output_type": "error",
     "traceback": [
      "\u001b[0;31m---------------------------------------------------------------------------\u001b[0m",
      "\u001b[0;31mTypeError\u001b[0m                                 Traceback (most recent call last)",
      "\u001b[0;32m/tmp/ipykernel_81605/4049600781.py\u001b[0m in \u001b[0;36m<module>\u001b[0;34m\u001b[0m\n\u001b[0;32m----> 1\u001b[0;31m \u001b[0ms\u001b[0m \u001b[0;34m=\u001b[0m \u001b[0;34m{\u001b[0m\u001b[0;36m1\u001b[0m\u001b[0;34m,\u001b[0m\u001b[0;36m2\u001b[0m\u001b[0;34m,\u001b[0m\u001b[0;34m{\u001b[0m\u001b[0;36m1\u001b[0m\u001b[0;34m:\u001b[0m\u001b[0;34m'ABC'\u001b[0m\u001b[0;34m,\u001b[0m \u001b[0;36m2\u001b[0m\u001b[0;34m:\u001b[0m\u001b[0;34m'XYZ'\u001b[0m\u001b[0;34m}\u001b[0m\u001b[0;34m}\u001b[0m\u001b[0;34m\u001b[0m\u001b[0;34m\u001b[0m\u001b[0m\n\u001b[0m",
      "\u001b[0;31mTypeError\u001b[0m: unhashable type: 'dict'"
     ]
    }
   ],
   "source": [
    "s = {1,2,{1:'ABC', 2:'XYZ'}}"
   ]
  },
  {
   "cell_type": "code",
   "execution_count": 9,
   "id": "b0f8d34f",
   "metadata": {},
   "outputs": [
    {
     "ename": "TypeError",
     "evalue": "unhashable type: 'dict'",
     "output_type": "error",
     "traceback": [
      "\u001b[0;31m---------------------------------------------------------------------------\u001b[0m",
      "\u001b[0;31mTypeError\u001b[0m                                 Traceback (most recent call last)",
      "\u001b[0;32m/tmp/ipykernel_81605/3493912444.py\u001b[0m in \u001b[0;36m<module>\u001b[0;34m\u001b[0m\n\u001b[0;32m----> 1\u001b[0;31m \u001b[0ms\u001b[0m \u001b[0;34m=\u001b[0m \u001b[0;34m{\u001b[0m\u001b[0;36m1\u001b[0m\u001b[0;34m,\u001b[0m\u001b[0;36m2\u001b[0m\u001b[0;34m,\u001b[0m\u001b[0;34m{\u001b[0m\u001b[0;34m}\u001b[0m\u001b[0;34m}\u001b[0m\u001b[0;34m\u001b[0m\u001b[0;34m\u001b[0m\u001b[0m\n\u001b[0m",
      "\u001b[0;31mTypeError\u001b[0m: unhashable type: 'dict'"
     ]
    }
   ],
   "source": [
    "s = {1,2,{}} # there is dictionary here"
   ]
  },
  {
   "cell_type": "code",
   "execution_count": 10,
   "id": "f13a45ef",
   "metadata": {},
   "outputs": [
    {
     "ename": "TypeError",
     "evalue": "unhashable type: 'set'",
     "output_type": "error",
     "traceback": [
      "\u001b[0;31m---------------------------------------------------------------------------\u001b[0m",
      "\u001b[0;31mTypeError\u001b[0m                                 Traceback (most recent call last)",
      "\u001b[0;32m/tmp/ipykernel_81605/557628003.py\u001b[0m in \u001b[0;36m<module>\u001b[0;34m\u001b[0m\n\u001b[0;32m----> 1\u001b[0;31m \u001b[0ms\u001b[0m \u001b[0;34m=\u001b[0m \u001b[0;34m{\u001b[0m\u001b[0;36m1\u001b[0m\u001b[0;34m,\u001b[0m\u001b[0;36m2\u001b[0m\u001b[0;34m,\u001b[0m\u001b[0;34m{\u001b[0m\u001b[0;34m'a'\u001b[0m\u001b[0;34m,\u001b[0m \u001b[0;34m'b'\u001b[0m\u001b[0;34m}\u001b[0m\u001b[0;34m}\u001b[0m\u001b[0;34m\u001b[0m\u001b[0;34m\u001b[0m\u001b[0m\n\u001b[0m",
      "\u001b[0;31mTypeError\u001b[0m: unhashable type: 'set'"
     ]
    }
   ],
   "source": [
    "s = {1,2,{'a', 'b'}}"
   ]
  },
  {
   "cell_type": "code",
   "execution_count": 11,
   "id": "d2d7418f",
   "metadata": {},
   "outputs": [],
   "source": [
    "s = {'Delhi', 'Kolkata', 'Pune', 'Mumbai'}"
   ]
  },
  {
   "cell_type": "code",
   "execution_count": 15,
   "id": "3123a538",
   "metadata": {},
   "outputs": [
    {
     "data": {
      "text/plain": [
       "{1, 2, 3, 4}"
      ]
     },
     "execution_count": 15,
     "metadata": {},
     "output_type": "execute_result"
    }
   ],
   "source": [
    "s = {1,2,3,4,1,1,1,1,1,1,1,1}\n",
    "s"
   ]
  },
  {
   "cell_type": "code",
   "execution_count": 16,
   "id": "0804975b",
   "metadata": {},
   "outputs": [
    {
     "ename": "TypeError",
     "evalue": "'set' object is not subscriptable",
     "output_type": "error",
     "traceback": [
      "\u001b[0;31m---------------------------------------------------------------------------\u001b[0m",
      "\u001b[0;31mTypeError\u001b[0m                                 Traceback (most recent call last)",
      "\u001b[0;32m/tmp/ipykernel_81605/2144276406.py\u001b[0m in \u001b[0;36m<module>\u001b[0;34m\u001b[0m\n\u001b[1;32m      1\u001b[0m \u001b[0mcities\u001b[0m \u001b[0;34m=\u001b[0m \u001b[0;34m{\u001b[0m\u001b[0;34m'Delhi'\u001b[0m\u001b[0;34m,\u001b[0m \u001b[0;34m'Kolkata'\u001b[0m\u001b[0;34m,\u001b[0m \u001b[0;34m'Pune'\u001b[0m\u001b[0;34m,\u001b[0m \u001b[0;34m'Mumbai'\u001b[0m\u001b[0;34m}\u001b[0m\u001b[0;34m\u001b[0m\u001b[0;34m\u001b[0m\u001b[0m\n\u001b[0;32m----> 2\u001b[0;31m \u001b[0mcities\u001b[0m\u001b[0;34m[\u001b[0m\u001b[0;36m0\u001b[0m\u001b[0;34m]\u001b[0m\u001b[0;34m\u001b[0m\u001b[0;34m\u001b[0m\u001b[0m\n\u001b[0m",
      "\u001b[0;31mTypeError\u001b[0m: 'set' object is not subscriptable"
     ]
    }
   ],
   "source": [
    "cities = {'Delhi', 'Kolkata', 'Pune', 'Mumbai'}\n",
    "cities[0]"
   ]
  },
  {
   "cell_type": "code",
   "execution_count": 17,
   "id": "c3661f73",
   "metadata": {},
   "outputs": [
    {
     "ename": "TypeError",
     "evalue": "'set' object is not subscriptable",
     "output_type": "error",
     "traceback": [
      "\u001b[0;31m---------------------------------------------------------------------------\u001b[0m",
      "\u001b[0;31mTypeError\u001b[0m                                 Traceback (most recent call last)",
      "\u001b[0;32m/tmp/ipykernel_81605/2571801418.py\u001b[0m in \u001b[0;36m<module>\u001b[0;34m\u001b[0m\n\u001b[0;32m----> 1\u001b[0;31m \u001b[0mcities\u001b[0m\u001b[0;34m[\u001b[0m\u001b[0;36m2\u001b[0m\u001b[0;34m]\u001b[0m\u001b[0;34m\u001b[0m\u001b[0;34m\u001b[0m\u001b[0m\n\u001b[0m",
      "\u001b[0;31mTypeError\u001b[0m: 'set' object is not subscriptable"
     ]
    }
   ],
   "source": [
    "cities[2]"
   ]
  },
  {
   "cell_type": "code",
   "execution_count": 18,
   "id": "eec3f974",
   "metadata": {},
   "outputs": [
    {
     "ename": "TypeError",
     "evalue": "'set' object is not subscriptable",
     "output_type": "error",
     "traceback": [
      "\u001b[0;31m---------------------------------------------------------------------------\u001b[0m",
      "\u001b[0;31mTypeError\u001b[0m                                 Traceback (most recent call last)",
      "\u001b[0;32m/tmp/ipykernel_81605/501116346.py\u001b[0m in \u001b[0;36m<module>\u001b[0;34m\u001b[0m\n\u001b[1;32m      1\u001b[0m \u001b[0ms\u001b[0m \u001b[0;34m=\u001b[0m \u001b[0;34m{\u001b[0m\u001b[0;36m1\u001b[0m\u001b[0;34m,\u001b[0m\u001b[0;36m2\u001b[0m\u001b[0;34m,\u001b[0m\u001b[0;36m3\u001b[0m\u001b[0;34m,\u001b[0m\u001b[0;36m4\u001b[0m\u001b[0;34m,\u001b[0m\u001b[0;36m5\u001b[0m\u001b[0;34m}\u001b[0m\u001b[0;34m\u001b[0m\u001b[0;34m\u001b[0m\u001b[0m\n\u001b[1;32m      2\u001b[0m \u001b[0;32mfor\u001b[0m \u001b[0mi\u001b[0m \u001b[0;32min\u001b[0m \u001b[0mrange\u001b[0m\u001b[0;34m(\u001b[0m\u001b[0mlen\u001b[0m\u001b[0;34m(\u001b[0m\u001b[0ms\u001b[0m\u001b[0;34m)\u001b[0m\u001b[0;34m)\u001b[0m\u001b[0;34m:\u001b[0m\u001b[0;34m\u001b[0m\u001b[0;34m\u001b[0m\u001b[0m\n\u001b[0;32m----> 3\u001b[0;31m     \u001b[0mprint\u001b[0m\u001b[0;34m(\u001b[0m\u001b[0ms\u001b[0m\u001b[0;34m[\u001b[0m\u001b[0mi\u001b[0m\u001b[0;34m]\u001b[0m\u001b[0;34m)\u001b[0m\u001b[0;34m\u001b[0m\u001b[0;34m\u001b[0m\u001b[0m\n\u001b[0m",
      "\u001b[0;31mTypeError\u001b[0m: 'set' object is not subscriptable"
     ]
    }
   ],
   "source": [
    "s = {1,2,3,4,5}\n",
    "for i in range(len(s)):\n",
    "    print(s[i])"
   ]
  },
  {
   "cell_type": "code",
   "execution_count": 22,
   "id": "72a21d2c",
   "metadata": {},
   "outputs": [
    {
     "name": "stdout",
     "output_type": "stream",
     "text": [
      "1\n",
      "2\n",
      "3\n",
      "4\n",
      "5\n"
     ]
    }
   ],
   "source": [
    "s = {1,2,3,4,5}\n",
    "for i in s:\n",
    "    print(i)"
   ]
  },
  {
   "cell_type": "markdown",
   "id": "273b98ee",
   "metadata": {},
   "source": [
    "## set functions"
   ]
  },
  {
   "cell_type": "markdown",
   "id": "12e2d652",
   "metadata": {},
   "source": [
    "## Delete items from set"
   ]
  },
  {
   "cell_type": "markdown",
   "id": "bb4436b0",
   "metadata": {},
   "source": [
    "### 1.remove() \n",
    "    - error if element is not present"
   ]
  },
  {
   "cell_type": "code",
   "execution_count": 23,
   "id": "37c0d70a",
   "metadata": {},
   "outputs": [],
   "source": [
    "s = {'Delhi', 'Kolkata', 'Pune', 'Mumbai'}"
   ]
  },
  {
   "cell_type": "code",
   "execution_count": 24,
   "id": "136d707c",
   "metadata": {},
   "outputs": [
    {
     "data": {
      "text/plain": [
       "{'Kolkata', 'Mumbai', 'Pune'}"
      ]
     },
     "execution_count": 24,
     "metadata": {},
     "output_type": "execute_result"
    }
   ],
   "source": [
    "s.remove('Delhi')\n",
    "s"
   ]
  },
  {
   "cell_type": "code",
   "execution_count": 25,
   "id": "df6d7508",
   "metadata": {},
   "outputs": [
    {
     "ename": "KeyError",
     "evalue": "'Bhopal'",
     "output_type": "error",
     "traceback": [
      "\u001b[0;31m---------------------------------------------------------------------------\u001b[0m",
      "\u001b[0;31mKeyError\u001b[0m                                  Traceback (most recent call last)",
      "\u001b[0;32m/tmp/ipykernel_81605/391523826.py\u001b[0m in \u001b[0;36m<module>\u001b[0;34m\u001b[0m\n\u001b[0;32m----> 1\u001b[0;31m \u001b[0ms\u001b[0m\u001b[0;34m.\u001b[0m\u001b[0mremove\u001b[0m\u001b[0;34m(\u001b[0m\u001b[0;34m'Bhopal'\u001b[0m\u001b[0;34m)\u001b[0m\u001b[0;34m\u001b[0m\u001b[0;34m\u001b[0m\u001b[0m\n\u001b[0m",
      "\u001b[0;31mKeyError\u001b[0m: 'Bhopal'"
     ]
    }
   ],
   "source": [
    "s.remove('Bhopal')"
   ]
  },
  {
   "cell_type": "code",
   "execution_count": 26,
   "id": "32b354c9",
   "metadata": {},
   "outputs": [
    {
     "data": {
      "text/plain": [
       "{'Kolkata', 'Mumbai', 'Pune'}"
      ]
     },
     "execution_count": 26,
     "metadata": {},
     "output_type": "execute_result"
    }
   ],
   "source": [
    "s"
   ]
  },
  {
   "cell_type": "code",
   "execution_count": 27,
   "id": "9f8a6d46",
   "metadata": {},
   "outputs": [
    {
     "ename": "KeyError",
     "evalue": "'mumbai'",
     "output_type": "error",
     "traceback": [
      "\u001b[0;31m---------------------------------------------------------------------------\u001b[0m",
      "\u001b[0;31mKeyError\u001b[0m                                  Traceback (most recent call last)",
      "\u001b[0;32m/tmp/ipykernel_81605/674601042.py\u001b[0m in \u001b[0;36m<module>\u001b[0;34m\u001b[0m\n\u001b[0;32m----> 1\u001b[0;31m \u001b[0ms\u001b[0m\u001b[0;34m.\u001b[0m\u001b[0mremove\u001b[0m\u001b[0;34m(\u001b[0m\u001b[0;34m'mumbai'\u001b[0m\u001b[0;34m)\u001b[0m\u001b[0;34m\u001b[0m\u001b[0;34m\u001b[0m\u001b[0m\n\u001b[0m",
      "\u001b[0;31mKeyError\u001b[0m: 'mumbai'"
     ]
    }
   ],
   "source": [
    "s.remove('mumbai')"
   ]
  },
  {
   "cell_type": "code",
   "execution_count": 28,
   "id": "2ed74210",
   "metadata": {},
   "outputs": [
    {
     "data": {
      "text/plain": [
       "{'Kolkata', 'Pune'}"
      ]
     },
     "execution_count": 28,
     "metadata": {},
     "output_type": "execute_result"
    }
   ],
   "source": [
    "s.remove('mumbai'.title())\n",
    "s"
   ]
  },
  {
   "cell_type": "code",
   "execution_count": null,
   "id": "08388775",
   "metadata": {},
   "outputs": [],
   "source": []
  },
  {
   "cell_type": "markdown",
   "id": "eddf9b2d",
   "metadata": {},
   "source": [
    "### 2. discard()"
   ]
  },
  {
   "cell_type": "code",
   "execution_count": 30,
   "id": "a5f6d896",
   "metadata": {},
   "outputs": [],
   "source": [
    "s = {'Delhi', 'Kolkata', 'Pune', 'Mumbai'}"
   ]
  },
  {
   "cell_type": "code",
   "execution_count": 31,
   "id": "33eafaa6",
   "metadata": {},
   "outputs": [
    {
     "data": {
      "text/plain": [
       "{'Kolkata', 'Mumbai', 'Pune'}"
      ]
     },
     "execution_count": 31,
     "metadata": {},
     "output_type": "execute_result"
    }
   ],
   "source": [
    "s.discard('Delhi')\n",
    "s"
   ]
  },
  {
   "cell_type": "code",
   "execution_count": 32,
   "id": "129c142d",
   "metadata": {},
   "outputs": [
    {
     "data": {
      "text/plain": [
       "{'Kolkata', 'Mumbai', 'Pune'}"
      ]
     },
     "execution_count": 32,
     "metadata": {},
     "output_type": "execute_result"
    }
   ],
   "source": [
    "s.discard('Thane')\n",
    "s"
   ]
  },
  {
   "cell_type": "code",
   "execution_count": 33,
   "id": "9a544705",
   "metadata": {},
   "outputs": [
    {
     "data": {
      "text/plain": [
       "{'Kolkata', 'Mumbai', 'Pune'}"
      ]
     },
     "execution_count": 33,
     "metadata": {},
     "output_type": "execute_result"
    }
   ],
   "source": [
    "s = {'Delhi', 'Kolkata', 'Pune', 'Mumbai'}\n",
    "s.discard('delhi'.title())\n",
    "s"
   ]
  },
  {
   "cell_type": "code",
   "execution_count": null,
   "id": "65319ecf",
   "metadata": {},
   "outputs": [],
   "source": []
  },
  {
   "cell_type": "markdown",
   "id": "1bb0fe88",
   "metadata": {},
   "source": [
    "### 3. pop()"
   ]
  },
  {
   "cell_type": "code",
   "execution_count": 34,
   "id": "7e1567bf",
   "metadata": {},
   "outputs": [
    {
     "data": {
      "text/plain": [
       "[55, 18, 73, 17, 73, 83, 31, 12, 46, 53]"
      ]
     },
     "execution_count": 34,
     "metadata": {},
     "output_type": "execute_result"
    }
   ],
   "source": [
    "import random\n",
    "set1 = [random.randint(10,99) for i in range(10)]\n",
    "set1"
   ]
  },
  {
   "cell_type": "code",
   "execution_count": 35,
   "id": "c68352ae",
   "metadata": {},
   "outputs": [
    {
     "data": {
      "text/plain": [
       "{12, 13, 14, 49, 81, 85, 92, 96}"
      ]
     },
     "execution_count": 35,
     "metadata": {},
     "output_type": "execute_result"
    }
   ],
   "source": [
    "set1 = set([random.randint(10,99) for i in range(10)])\n",
    "set1"
   ]
  },
  {
   "cell_type": "code",
   "execution_count": 47,
   "id": "6c6c9852",
   "metadata": {},
   "outputs": [
    {
     "data": {
      "text/plain": [
       "96"
      ]
     },
     "execution_count": 47,
     "metadata": {},
     "output_type": "execute_result"
    }
   ],
   "source": [
    "set1 = {12, 13, 14, 49, 81, 85, 92, 96}\n",
    "set1.pop()"
   ]
  },
  {
   "cell_type": "code",
   "execution_count": 48,
   "id": "0906860c",
   "metadata": {},
   "outputs": [
    {
     "data": {
      "text/plain": [
       "12"
      ]
     },
     "execution_count": 48,
     "metadata": {},
     "output_type": "execute_result"
    }
   ],
   "source": [
    "set1.pop()"
   ]
  },
  {
   "cell_type": "code",
   "execution_count": 49,
   "id": "e00a8287",
   "metadata": {},
   "outputs": [
    {
     "data": {
      "text/plain": [
       "{13, 14, 49, 81, 85, 92}"
      ]
     },
     "execution_count": 49,
     "metadata": {},
     "output_type": "execute_result"
    }
   ],
   "source": [
    "set1"
   ]
  },
  {
   "cell_type": "markdown",
   "id": "fb2a90f1",
   "metadata": {},
   "source": [
    "### 4. clear()"
   ]
  },
  {
   "cell_type": "code",
   "execution_count": 52,
   "id": "4bdde2fd",
   "metadata": {},
   "outputs": [
    {
     "data": {
      "text/plain": [
       "{1, 2, 3, 4, 5}"
      ]
     },
     "execution_count": 52,
     "metadata": {},
     "output_type": "execute_result"
    }
   ],
   "source": [
    "s = {1,2,3,4,5}\n",
    "s"
   ]
  },
  {
   "cell_type": "code",
   "execution_count": 53,
   "id": "fc2104d0",
   "metadata": {},
   "outputs": [
    {
     "data": {
      "text/plain": [
       "set()"
      ]
     },
     "execution_count": 53,
     "metadata": {},
     "output_type": "execute_result"
    }
   ],
   "source": [
    "s.clear()\n",
    "s"
   ]
  },
  {
   "cell_type": "code",
   "execution_count": 55,
   "id": "662002e3",
   "metadata": {},
   "outputs": [
    {
     "name": "stdout",
     "output_type": "stream",
     "text": [
      "1 -> {2, 3, 4, 5}\n",
      "2 -> {3, 4, 5}\n",
      "3 -> {4, 5}\n",
      "4 -> {5}\n",
      "5 -> set()\n"
     ]
    }
   ],
   "source": [
    "s = {1,2,3,4,5}\n",
    "for i in range(len(s)):\n",
    "    print(s.pop(), '->',s)"
   ]
  },
  {
   "cell_type": "code",
   "execution_count": null,
   "id": "ee293a6f",
   "metadata": {},
   "outputs": [],
   "source": []
  },
  {
   "cell_type": "markdown",
   "id": "1aace03e",
   "metadata": {},
   "source": [
    "### 4. del"
   ]
  },
  {
   "cell_type": "code",
   "execution_count": 56,
   "id": "79ddc834",
   "metadata": {},
   "outputs": [],
   "source": [
    "s = {1,2,3,4,5}\n",
    "del s"
   ]
  },
  {
   "cell_type": "code",
   "execution_count": 57,
   "id": "3995d473",
   "metadata": {},
   "outputs": [
    {
     "ename": "NameError",
     "evalue": "name 's' is not defined",
     "output_type": "error",
     "traceback": [
      "\u001b[0;31m---------------------------------------------------------------------------\u001b[0m",
      "\u001b[0;31mNameError\u001b[0m                                 Traceback (most recent call last)",
      "\u001b[0;32m/tmp/ipykernel_81605/2998953243.py\u001b[0m in \u001b[0;36m<module>\u001b[0;34m\u001b[0m\n\u001b[1;32m      1\u001b[0m \u001b[0ms\u001b[0m \u001b[0;34m=\u001b[0m \u001b[0;34m{\u001b[0m\u001b[0;36m1\u001b[0m\u001b[0;34m,\u001b[0m\u001b[0;36m2\u001b[0m\u001b[0;34m,\u001b[0m\u001b[0;36m3\u001b[0m\u001b[0;34m,\u001b[0m\u001b[0;36m4\u001b[0m\u001b[0;34m,\u001b[0m\u001b[0;36m5\u001b[0m\u001b[0;34m}\u001b[0m\u001b[0;34m\u001b[0m\u001b[0;34m\u001b[0m\u001b[0m\n\u001b[1;32m      2\u001b[0m \u001b[0;32mdel\u001b[0m \u001b[0ms\u001b[0m\u001b[0;34m\u001b[0m\u001b[0;34m\u001b[0m\u001b[0m\n\u001b[0;32m----> 3\u001b[0;31m \u001b[0ms\u001b[0m\u001b[0;34m\u001b[0m\u001b[0;34m\u001b[0m\u001b[0m\n\u001b[0m",
      "\u001b[0;31mNameError\u001b[0m: name 's' is not defined"
     ]
    }
   ],
   "source": [
    "s = {1,2,3,4,5}\n",
    "del s\n",
    "s"
   ]
  },
  {
   "cell_type": "code",
   "execution_count": 60,
   "id": "bc5a5be6",
   "metadata": {},
   "outputs": [
    {
     "data": {
      "text/plain": [
       "[1, 2, 4]"
      ]
     },
     "execution_count": 60,
     "metadata": {},
     "output_type": "execute_result"
    }
   ],
   "source": [
    "list1 = [1,2,3,4]\n",
    "del list1[2]\n",
    "list1"
   ]
  },
  {
   "cell_type": "code",
   "execution_count": 61,
   "id": "211ed97d",
   "metadata": {},
   "outputs": [
    {
     "ename": "TypeError",
     "evalue": "'set' object doesn't support item deletion",
     "output_type": "error",
     "traceback": [
      "\u001b[0;31m---------------------------------------------------------------------------\u001b[0m",
      "\u001b[0;31mTypeError\u001b[0m                                 Traceback (most recent call last)",
      "\u001b[0;32m/tmp/ipykernel_81605/3624689668.py\u001b[0m in \u001b[0;36m<module>\u001b[0;34m\u001b[0m\n\u001b[1;32m      1\u001b[0m \u001b[0ms\u001b[0m \u001b[0;34m=\u001b[0m \u001b[0;34m{\u001b[0m\u001b[0;36m1\u001b[0m\u001b[0;34m,\u001b[0m\u001b[0;36m2\u001b[0m\u001b[0;34m,\u001b[0m\u001b[0;36m3\u001b[0m\u001b[0;34m,\u001b[0m\u001b[0;36m4\u001b[0m\u001b[0;34m,\u001b[0m\u001b[0;36m5\u001b[0m\u001b[0;34m}\u001b[0m\u001b[0;34m\u001b[0m\u001b[0;34m\u001b[0m\u001b[0m\n\u001b[0;32m----> 2\u001b[0;31m \u001b[0;32mdel\u001b[0m \u001b[0ms\u001b[0m\u001b[0;34m[\u001b[0m\u001b[0;36m1\u001b[0m\u001b[0;34m]\u001b[0m\u001b[0;34m\u001b[0m\u001b[0;34m\u001b[0m\u001b[0m\n\u001b[0m",
      "\u001b[0;31mTypeError\u001b[0m: 'set' object doesn't support item deletion"
     ]
    }
   ],
   "source": [
    "s = {1,2,3,4,5}\n",
    "del s[1]"
   ]
  },
  {
   "cell_type": "code",
   "execution_count": null,
   "id": "b28cf4eb",
   "metadata": {},
   "outputs": [],
   "source": []
  },
  {
   "cell_type": "markdown",
   "id": "887d67f2",
   "metadata": {},
   "source": [
    "## Add items in set"
   ]
  },
  {
   "cell_type": "markdown",
   "id": "d822dd5c",
   "metadata": {},
   "source": [
    "### 5. add()"
   ]
  },
  {
   "cell_type": "code",
   "execution_count": 62,
   "id": "dde26178",
   "metadata": {},
   "outputs": [
    {
     "data": {
      "text/plain": [
       "set()"
      ]
     },
     "execution_count": 62,
     "metadata": {},
     "output_type": "execute_result"
    }
   ],
   "source": [
    "s = set()\n",
    "s"
   ]
  },
  {
   "cell_type": "code",
   "execution_count": 63,
   "id": "c5a72bb8",
   "metadata": {},
   "outputs": [
    {
     "data": {
      "text/plain": [
       "{33}"
      ]
     },
     "execution_count": 63,
     "metadata": {},
     "output_type": "execute_result"
    }
   ],
   "source": [
    "s.add(33)\n",
    "s"
   ]
  },
  {
   "cell_type": "code",
   "execution_count": 64,
   "id": "5411af37",
   "metadata": {},
   "outputs": [
    {
     "data": {
      "text/plain": [
       "{33, 'abc'}"
      ]
     },
     "execution_count": 64,
     "metadata": {},
     "output_type": "execute_result"
    }
   ],
   "source": [
    "s.add('abc')\n",
    "s"
   ]
  },
  {
   "cell_type": "code",
   "execution_count": 66,
   "id": "ca0e37f4",
   "metadata": {},
   "outputs": [
    {
     "data": {
      "text/plain": [
       "{('s1', 's2', 's3'), 33, 'abc'}"
      ]
     },
     "execution_count": 66,
     "metadata": {},
     "output_type": "execute_result"
    }
   ],
   "source": [
    "s.add(('s1', 's2', 's3'))\n",
    "s"
   ]
  },
  {
   "cell_type": "code",
   "execution_count": 67,
   "id": "d3c4bd35",
   "metadata": {},
   "outputs": [
    {
     "data": {
      "text/plain": [
       "{1, 2, 3, 4, 5}"
      ]
     },
     "execution_count": 67,
     "metadata": {},
     "output_type": "execute_result"
    }
   ],
   "source": [
    "s = {1,2,3,4,5}\n",
    "s.add(1)\n",
    "s"
   ]
  },
  {
   "cell_type": "code",
   "execution_count": 68,
   "id": "7b4f8668",
   "metadata": {},
   "outputs": [
    {
     "data": {
      "text/plain": [
       "{1, 2, 3, 4, 5}"
      ]
     },
     "execution_count": 68,
     "metadata": {},
     "output_type": "execute_result"
    }
   ],
   "source": [
    "s = {1,2,3,4,5}\n",
    "s.add(5)\n",
    "s"
   ]
  },
  {
   "cell_type": "code",
   "execution_count": 69,
   "id": "74fe350e",
   "metadata": {},
   "outputs": [
    {
     "data": {
      "text/plain": [
       "{1, 2, 3, 4, 5, 9999}"
      ]
     },
     "execution_count": 69,
     "metadata": {},
     "output_type": "execute_result"
    }
   ],
   "source": [
    "s = {1,2,3,4,5}\n",
    "s.add(9999)\n",
    "s"
   ]
  },
  {
   "cell_type": "code",
   "execution_count": null,
   "id": "aa108e72",
   "metadata": {},
   "outputs": [],
   "source": []
  },
  {
   "cell_type": "markdown",
   "id": "b9c5d351",
   "metadata": {},
   "source": [
    "### 6. update"
   ]
  },
  {
   "cell_type": "code",
   "execution_count": 72,
   "id": "dcac7956",
   "metadata": {},
   "outputs": [
    {
     "name": "stdout",
     "output_type": "stream",
     "text": [
      "s1 -> {1, 2, 3, 'De', 'Ko', 'Pu'}\n",
      "s2 -> {'Pu', 'Ko', 'De'}\n"
     ]
    }
   ],
   "source": [
    "s1 = {1,2,3}\n",
    "s2 = {'De', 'Pu', 'Ko'}\n",
    "s1.update(s2)\n",
    "print('s1 ->', s1)\n",
    "print('s2 ->', s2)"
   ]
  },
  {
   "cell_type": "code",
   "execution_count": 73,
   "id": "d31af010",
   "metadata": {},
   "outputs": [
    {
     "name": "stdout",
     "output_type": "stream",
     "text": [
      "s1 -> {1, 2, 3}\n",
      "s2 -> {'De', 1, 2, 3, 'Ko', 'Pu'}\n"
     ]
    }
   ],
   "source": [
    "s1 = {1,2,3}\n",
    "s2 = {'De', 'Pu', 'Ko'}\n",
    "s2.update(s1)\n",
    "print('s1 ->', s1)\n",
    "print('s2 ->', s2)"
   ]
  },
  {
   "cell_type": "code",
   "execution_count": 76,
   "id": "78f08ce9",
   "metadata": {},
   "outputs": [
    {
     "name": "stdout",
     "output_type": "stream",
     "text": [
      "s1 -> {1, 2, 3}\n"
     ]
    }
   ],
   "source": [
    "s1 = {1,2,3}\n",
    "s1.update(s1)\n",
    "print('s1 ->', s1)"
   ]
  },
  {
   "cell_type": "code",
   "execution_count": 78,
   "id": "0f10e895",
   "metadata": {},
   "outputs": [
    {
     "name": "stdout",
     "output_type": "stream",
     "text": [
      "{'c', 'a', 2, 1, 5, 7}\n",
      "{'c', 1, 2, 'b', 6, 9}\n"
     ]
    }
   ],
   "source": [
    "s1 = {1, 7, 2, 5, 'a', 'c'}\n",
    "s2 = {2, 6, 1, 9, 'c', 'b'}\n",
    "print(s1)\n",
    "print(s2)"
   ]
  },
  {
   "cell_type": "code",
   "execution_count": 88,
   "id": "8b9b21ac",
   "metadata": {},
   "outputs": [
    {
     "name": "stdout",
     "output_type": "stream",
     "text": [
      "s1 -> {'c', 'a', 2, 1, 5, 7}\n",
      "s2 -> {'c', 1, 2, 'b', 6, 9}\n",
      "s3 -> {'c', 'a', 2, 1, 'b', 5, 6, 7, 9}\n"
     ]
    }
   ],
   "source": [
    "s1 = {1, 7, 2, 5, 'a', 'c'}\n",
    "s2 = {2, 6, 1, 9, 'c', 'b'}\n",
    "s3 = s1.union(s2)\n",
    "\n",
    "print('s1 ->', s1)\n",
    "print('s2 ->', s2)\n",
    "print('s3 ->', s3)"
   ]
  },
  {
   "cell_type": "code",
   "execution_count": null,
   "id": "07b749af",
   "metadata": {},
   "outputs": [],
   "source": []
  },
  {
   "cell_type": "markdown",
   "id": "34196034",
   "metadata": {},
   "source": [
    "### 7. intersection()"
   ]
  },
  {
   "cell_type": "code",
   "execution_count": 89,
   "id": "88a77a47",
   "metadata": {},
   "outputs": [
    {
     "name": "stdout",
     "output_type": "stream",
     "text": [
      "s1 -> {'c', 'a', 2, 1, 5, 7}\n",
      "s2 -> {'c', 1, 2, 'b', 6, 9}\n",
      "s3 -> {'c', 1, 2}\n"
     ]
    }
   ],
   "source": [
    "s1 = {1, 7, 2, 5, 'a', 'c'}\n",
    "s2 = {2, 6, 1, 9, 'c', 'b'}\n",
    "s3 = s1.intersection(s2)\n",
    "\n",
    "print('s1 ->', s1)\n",
    "print('s2 ->', s2)\n",
    "print('s3 ->', s3)"
   ]
  },
  {
   "cell_type": "code",
   "execution_count": 90,
   "id": "74b71a4a",
   "metadata": {},
   "outputs": [
    {
     "name": "stdout",
     "output_type": "stream",
     "text": [
      "s1 -> {'c', 'a', 2, 1, 5, 7}\n",
      "s2 -> {'c', 1, 2, 'b', 6, 9}\n",
      "s3 -> {'c', 1, 2}\n"
     ]
    }
   ],
   "source": [
    "s1 = {1, 7, 2, 5, 'a', 'c'}\n",
    "s2 = {2, 6, 1, 9, 'c', 'b'}\n",
    "s3 = s2.intersection(s1)\n",
    "\n",
    "print('s1 ->', s1)\n",
    "print('s2 ->', s2)\n",
    "print('s3 ->', s3)"
   ]
  },
  {
   "cell_type": "code",
   "execution_count": null,
   "id": "3e27b138",
   "metadata": {},
   "outputs": [],
   "source": []
  },
  {
   "cell_type": "markdown",
   "id": "1c35d69a",
   "metadata": {},
   "source": [
    "### 7. intersection_update()"
   ]
  },
  {
   "cell_type": "code",
   "execution_count": 91,
   "id": "b8dd4ccd",
   "metadata": {},
   "outputs": [
    {
     "name": "stdout",
     "output_type": "stream",
     "text": [
      "s1 -> {'c', 1, 2}\n",
      "s2 -> {'c', 1, 2, 'b', 6, 9}\n",
      "s3 -> None\n"
     ]
    }
   ],
   "source": [
    "s1 = {1, 7, 2, 5, 'a', 'c'}\n",
    "s2 = {2, 6, 1, 9, 'c', 'b'}\n",
    "s3 = s1.intersection_update(s2)\n",
    "\n",
    "print('s1 ->', s1)\n",
    "print('s2 ->', s2)\n",
    "print('s3 ->', s3)\n"
   ]
  },
  {
   "cell_type": "code",
   "execution_count": null,
   "id": "b4f7b24f",
   "metadata": {},
   "outputs": [],
   "source": []
  },
  {
   "cell_type": "markdown",
   "id": "11955d2f",
   "metadata": {},
   "source": [
    "### 8. symmetric_difference()"
   ]
  },
  {
   "cell_type": "code",
   "execution_count": 92,
   "id": "fe07c05f",
   "metadata": {},
   "outputs": [
    {
     "name": "stdout",
     "output_type": "stream",
     "text": [
      "s1 -> {'c', 'a', 2, 1, 5, 7}\n",
      "s2 -> {'c', 1, 2, 'b', 6, 9}\n",
      "s3 -> {'a', 'b', 5, 6, 7, 9}\n"
     ]
    }
   ],
   "source": [
    "s1 = {1, 7, 2, 5, 'a', 'c'}\n",
    "s2 = {2, 6, 1, 9, 'c', 'b'}\n",
    "s3 = s1.symmetric_difference(s2)\n",
    "\n",
    "print('s1 ->', s1)\n",
    "print('s2 ->', s2)\n",
    "print('s3 ->', s3)"
   ]
  },
  {
   "cell_type": "markdown",
   "id": "9369ad04",
   "metadata": {},
   "source": [
    "### 9. symmetric_difference_update()"
   ]
  },
  {
   "cell_type": "code",
   "execution_count": 97,
   "id": "ab3865a3",
   "metadata": {},
   "outputs": [
    {
     "name": "stdout",
     "output_type": "stream",
     "text": [
      "s1 -> {'a', 'b', 5, 6, 7, 9}\n",
      "s2 -> {'c', 1, 2, 'b', 6, 9}\n",
      "s3 -> None\n"
     ]
    }
   ],
   "source": [
    "s1 = {1, 7, 2, 5, 'a', 'c'}\n",
    "s2 = {2, 6, 1, 9, 'c', 'b'}\n",
    "s3 = s1.symmetric_difference_update(s2)\n",
    "\n",
    "print('s1 ->', s1)\n",
    "print('s2 ->', s2)\n",
    "print('s3 ->', s3)"
   ]
  },
  {
   "cell_type": "code",
   "execution_count": 98,
   "id": "f28275fa",
   "metadata": {},
   "outputs": [
    {
     "name": "stdout",
     "output_type": "stream",
     "text": [
      "s1 -> {'c', 'a', 2, 1, 5, 7}\n",
      "s2 -> {'a', 'b', 5, 6, 7, 9}\n",
      "s3 -> None\n"
     ]
    }
   ],
   "source": [
    "s1 = {1, 7, 2, 5, 'a', 'c'}\n",
    "s2 = {2, 6, 1, 9, 'c', 'b'}\n",
    "s3 = s2.symmetric_difference_update(s1)\n",
    "\n",
    "print('s1 ->', s1)\n",
    "print('s2 ->', s2)\n",
    "print('s3 ->', s3)"
   ]
  },
  {
   "cell_type": "code",
   "execution_count": null,
   "id": "3960a5c1",
   "metadata": {},
   "outputs": [],
   "source": []
  },
  {
   "cell_type": "markdown",
   "id": "a8d75bc2",
   "metadata": {},
   "source": [
    "### 10. Set difference using '-' operator"
   ]
  },
  {
   "cell_type": "code",
   "execution_count": 93,
   "id": "aef09594",
   "metadata": {},
   "outputs": [
    {
     "name": "stdout",
     "output_type": "stream",
     "text": [
      "s1 -> {'c', 'a', 2, 1, 5, 7}\n",
      "s2 -> {'c', 1, 2, 'b', 6, 9}\n",
      "s3 -> {'a', 5, 7}\n"
     ]
    }
   ],
   "source": [
    "s1 = {1, 7, 2, 5, 'a', 'c'}\n",
    "s2 = {2, 6, 1, 9, 'c', 'b'}\n",
    "s3 = s1 - s2\n",
    "\n",
    "print('s1 ->', s1)\n",
    "print('s2 ->', s2)\n",
    "print('s3 ->', s3)"
   ]
  },
  {
   "cell_type": "code",
   "execution_count": 94,
   "id": "4bcba987",
   "metadata": {},
   "outputs": [
    {
     "name": "stdout",
     "output_type": "stream",
     "text": [
      "s1 -> {'c', 'a', 2, 1, 5, 7}\n",
      "s2 -> {'c', 1, 2, 'b', 6, 9}\n",
      "s3 -> {9, 'b', 6}\n"
     ]
    }
   ],
   "source": [
    "s1 = {1, 7, 2, 5, 'a', 'c'}\n",
    "s2 = {2, 6, 1, 9, 'c', 'b'}\n",
    "s3 = s2 - s1\n",
    "\n",
    "print('s1 ->', s1)\n",
    "print('s2 ->', s2)\n",
    "print('s3 ->', s3)"
   ]
  },
  {
   "cell_type": "code",
   "execution_count": 95,
   "id": "b5169abd",
   "metadata": {},
   "outputs": [
    {
     "name": "stdout",
     "output_type": "stream",
     "text": [
      "s1 -> {1, 2, 3, 4, 5, 6}\n",
      "s2 -> {4, 5, 6, 7, 8, 9}\n",
      "s3 -> {1, 2, 3}\n"
     ]
    }
   ],
   "source": [
    "s1 = {1,2,3,4,5,6}\n",
    "s2 = {4,5,6,7,8,9}\n",
    "s3 = s1 - s2\n",
    "\n",
    "print('s1 ->', s1)\n",
    "print('s2 ->', s2)\n",
    "print('s3 ->', s3)"
   ]
  },
  {
   "cell_type": "code",
   "execution_count": 96,
   "id": "93c487d5",
   "metadata": {},
   "outputs": [
    {
     "name": "stdout",
     "output_type": "stream",
     "text": [
      "s1 -> {1, 2, 3, 4, 5, 6}\n",
      "s2 -> {4, 5, 6, 7, 8, 9}\n",
      "s3 -> {8, 9, 7}\n"
     ]
    }
   ],
   "source": [
    "s1 = {1,2,3,4,5,6}\n",
    "s2 = {4,5,6,7,8,9}\n",
    "s3 = s2 - s1\n",
    "\n",
    "print('s1 ->', s1)\n",
    "print('s2 ->', s2)\n",
    "print('s3 ->', s3)"
   ]
  },
  {
   "cell_type": "code",
   "execution_count": null,
   "id": "64c834ba",
   "metadata": {},
   "outputs": [],
   "source": []
  },
  {
   "cell_type": "markdown",
   "id": "11a68bd2",
   "metadata": {},
   "source": [
    "### 11. isdisjoint()"
   ]
  },
  {
   "cell_type": "code",
   "execution_count": 100,
   "id": "22a8a3f0",
   "metadata": {},
   "outputs": [
    {
     "data": {
      "text/plain": [
       "True"
      ]
     },
     "execution_count": 100,
     "metadata": {},
     "output_type": "execute_result"
    }
   ],
   "source": [
    "s1 = {1,2,3}\n",
    "s2 = {4,5,6}\n",
    "s1.isdisjoint(s2)"
   ]
  },
  {
   "cell_type": "code",
   "execution_count": 101,
   "id": "996ea8cd",
   "metadata": {},
   "outputs": [
    {
     "data": {
      "text/plain": [
       "False"
      ]
     },
     "execution_count": 101,
     "metadata": {},
     "output_type": "execute_result"
    }
   ],
   "source": [
    "s1 = {1,2,3, 'Mumbai'}\n",
    "s2 = {'Mumbai', 4,5,6}\n",
    "s1.isdisjoint(s2)"
   ]
  },
  {
   "cell_type": "code",
   "execution_count": 102,
   "id": "4bcf2b3e",
   "metadata": {},
   "outputs": [
    {
     "data": {
      "text/plain": [
       "True"
      ]
     },
     "execution_count": 102,
     "metadata": {},
     "output_type": "execute_result"
    }
   ],
   "source": [
    "s1 = {1,2,3, 'Mumbai'}\n",
    "s2 = {'mumbai', 4,5,6}\n",
    "s1.isdisjoint(s2)"
   ]
  },
  {
   "cell_type": "code",
   "execution_count": null,
   "id": "03382aa3",
   "metadata": {},
   "outputs": [],
   "source": []
  },
  {
   "cell_type": "markdown",
   "id": "0b02025d",
   "metadata": {},
   "source": [
    "### 12. issubset()"
   ]
  },
  {
   "cell_type": "code",
   "execution_count": 105,
   "id": "3ebf48fd",
   "metadata": {},
   "outputs": [
    {
     "data": {
      "text/plain": [
       "True"
      ]
     },
     "execution_count": 105,
     "metadata": {},
     "output_type": "execute_result"
    }
   ],
   "source": [
    "s1 = {1,2}\n",
    "s2 = {1,2,3,4,5}\n",
    "s1.issubset(s2)"
   ]
  },
  {
   "cell_type": "code",
   "execution_count": 106,
   "id": "5d5d13ba",
   "metadata": {},
   "outputs": [
    {
     "data": {
      "text/plain": [
       "False"
      ]
     },
     "execution_count": 106,
     "metadata": {},
     "output_type": "execute_result"
    }
   ],
   "source": [
    "s1 = {1,2,7}\n",
    "s2 = {1,2,3,4,5}\n",
    "s1.issubset(s2)"
   ]
  },
  {
   "cell_type": "code",
   "execution_count": 107,
   "id": "beaf745d",
   "metadata": {},
   "outputs": [
    {
     "data": {
      "text/plain": [
       "True"
      ]
     },
     "execution_count": 107,
     "metadata": {},
     "output_type": "execute_result"
    }
   ],
   "source": [
    "set().issubset({1,2,3})"
   ]
  },
  {
   "cell_type": "code",
   "execution_count": 108,
   "id": "b4ac5105",
   "metadata": {},
   "outputs": [
    {
     "data": {
      "text/plain": [
       "True"
      ]
     },
     "execution_count": 108,
     "metadata": {},
     "output_type": "execute_result"
    }
   ],
   "source": [
    "set().issubset(set())"
   ]
  },
  {
   "cell_type": "code",
   "execution_count": null,
   "id": "e4f47e03",
   "metadata": {},
   "outputs": [],
   "source": []
  },
  {
   "cell_type": "markdown",
   "id": "afa762d6",
   "metadata": {},
   "source": [
    "### 13. issuperset()"
   ]
  },
  {
   "cell_type": "code",
   "execution_count": 109,
   "id": "e85d80bc",
   "metadata": {},
   "outputs": [
    {
     "data": {
      "text/plain": [
       "True"
      ]
     },
     "execution_count": 109,
     "metadata": {},
     "output_type": "execute_result"
    }
   ],
   "source": [
    "s1 = {1,2,3}\n",
    "s2 = {1,2,3,4,5}\n",
    "s2.issuperset(s1)"
   ]
  },
  {
   "cell_type": "code",
   "execution_count": 110,
   "id": "99947c24",
   "metadata": {},
   "outputs": [
    {
     "data": {
      "text/plain": [
       "False"
      ]
     },
     "execution_count": 110,
     "metadata": {},
     "output_type": "execute_result"
    }
   ],
   "source": [
    "s1 = {1,2,3,7}\n",
    "s2 = {1,2,3,4,5}\n",
    "s2.issuperset(s1)"
   ]
  },
  {
   "cell_type": "code",
   "execution_count": 111,
   "id": "39bbe9aa",
   "metadata": {},
   "outputs": [
    {
     "data": {
      "text/plain": [
       "True"
      ]
     },
     "execution_count": 111,
     "metadata": {},
     "output_type": "execute_result"
    }
   ],
   "source": [
    "s1.issuperset(s1)"
   ]
  },
  {
   "cell_type": "code",
   "execution_count": null,
   "id": "9bc92b00",
   "metadata": {},
   "outputs": [],
   "source": []
  }
 ],
 "metadata": {
  "kernelspec": {
   "display_name": "Python 3 (ipykernel)",
   "language": "python",
   "name": "python3"
  },
  "language_info": {
   "codemirror_mode": {
    "name": "ipython",
    "version": 3
   },
   "file_extension": ".py",
   "mimetype": "text/x-python",
   "name": "python",
   "nbconvert_exporter": "python",
   "pygments_lexer": "ipython3",
   "version": "3.10.12"
  }
 },
 "nbformat": 4,
 "nbformat_minor": 5
}
