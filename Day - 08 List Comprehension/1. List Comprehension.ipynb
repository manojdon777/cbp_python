{
 "cells": [
  {
   "cell_type": "code",
   "execution_count": 2,
   "id": "63bc7f89",
   "metadata": {},
   "outputs": [
    {
     "name": "stdout",
     "output_type": "stream",
     "text": [
      "print function\n"
     ]
    }
   ],
   "source": [
    "def abc():\n",
    "    print('print function')\n",
    "\n",
    "abc()"
   ]
  },
  {
   "cell_type": "code",
   "execution_count": 3,
   "id": "444c001e",
   "metadata": {},
   "outputs": [],
   "source": [
    "def square(num):\n",
    "    return num*num"
   ]
  },
  {
   "cell_type": "code",
   "execution_count": 4,
   "id": "df9ea582",
   "metadata": {},
   "outputs": [
    {
     "data": {
      "text/plain": [
       "64"
      ]
     },
     "execution_count": 4,
     "metadata": {},
     "output_type": "execute_result"
    }
   ],
   "source": [
    "square(8)"
   ]
  },
  {
   "cell_type": "code",
   "execution_count": 5,
   "id": "766fd4c9",
   "metadata": {},
   "outputs": [
    {
     "name": "stdout",
     "output_type": "stream",
     "text": [
      "[1, 4, 9, 16, 25, 36, 49, 64, 81, 100]\n"
     ]
    }
   ],
   "source": [
    "sq_list = []\n",
    "for i in range(1,11):\n",
    "    sq_list.append(i*i)\n",
    "print(sq_list)"
   ]
  },
  {
   "cell_type": "markdown",
   "id": "6eba2351",
   "metadata": {},
   "source": [
    "## List comprehension"
   ]
  },
  {
   "cell_type": "code",
   "execution_count": null,
   "id": "b9de5f02",
   "metadata": {},
   "outputs": [],
   "source": [
    "syntax:\n",
    "newlist = [expression(i) for i in Object]\n",
    "\n",
    "Runs faster than traditional for loop\n"
   ]
  },
  {
   "cell_type": "code",
   "execution_count": 7,
   "id": "45da5629",
   "metadata": {},
   "outputs": [
    {
     "data": {
      "text/plain": [
       "[0, 1, 2, 3, 4, 5, 6, 7, 8, 9]"
      ]
     },
     "execution_count": 7,
     "metadata": {},
     "output_type": "execute_result"
    }
   ],
   "source": [
    "newlist = [i for i in range(10)]\n",
    "newlist"
   ]
  },
  {
   "cell_type": "code",
   "execution_count": 8,
   "id": "9f126f48",
   "metadata": {},
   "outputs": [
    {
     "data": {
      "text/plain": [
       "[0, 1, 4, 9, 16, 25, 36, 49, 64, 81]"
      ]
     },
     "execution_count": 8,
     "metadata": {},
     "output_type": "execute_result"
    }
   ],
   "source": [
    "sqlist = [i*i for i in range(10)]\n",
    "sqlist"
   ]
  },
  {
   "cell_type": "code",
   "execution_count": 10,
   "id": "b91f18fa",
   "metadata": {},
   "outputs": [
    {
     "name": "stdout",
     "output_type": "stream",
     "text": [
      "[1.0, 1.4142135623730951, 1.7320508075688772, 2.0, 2.23606797749979, 2.449489742783178, 2.6457513110645907, 2.8284271247461903, 3.0, 3.1622776601683795]\n"
     ]
    }
   ],
   "source": [
    "import math\n",
    "sqrtl = [math.sqrt(item) for item in range(1,11)]\n",
    "print(sqrtl)"
   ]
  },
  {
   "cell_type": "code",
   "execution_count": 11,
   "id": "6c6406f7",
   "metadata": {},
   "outputs": [],
   "source": [
    "def fun(num):\n",
    "    return num * 100"
   ]
  },
  {
   "cell_type": "code",
   "execution_count": 12,
   "id": "933e2d57",
   "metadata": {},
   "outputs": [
    {
     "name": "stdout",
     "output_type": "stream",
     "text": [
      "[1100, 2200, 3300, 4400, 5500, 6600, 7700, 8800, 9900]\n"
     ]
    }
   ],
   "source": [
    "list1 = [11, 22, 33, 44, 55, 66, 77, 88, 99]\n",
    "nwlist = [ fun(i)  for i in list1]\n",
    "print(nwlist)"
   ]
  },
  {
   "cell_type": "code",
   "execution_count": 13,
   "id": "e82bc67d",
   "metadata": {},
   "outputs": [
    {
     "name": "stdout",
     "output_type": "stream",
     "text": [
      "[1100, 2200, 3300, 4400, 5500, 6600, 7700, 8800, 9900]\n"
     ]
    }
   ],
   "source": [
    "list1 = [11, 22, 33, 44, 55, 66, 77, 88, 99]\n",
    "print([ fun(i)  for i in list1])\n"
   ]
  },
  {
   "cell_type": "markdown",
   "id": "9c24c503",
   "metadata": {},
   "source": [
    "## List comprehension with if "
   ]
  },
  {
   "cell_type": "code",
   "execution_count": null,
   "id": "e3767cae",
   "metadata": {},
   "outputs": [],
   "source": [
    "syntax:\n",
    "    \n",
    "nwlist = [expression(variable) for variable in Object if condition ]"
   ]
  },
  {
   "cell_type": "code",
   "execution_count": 14,
   "id": "8be155c0",
   "metadata": {},
   "outputs": [
    {
     "data": {
      "text/plain": [
       "[0, 2, 4, 6, 8]"
      ]
     },
     "execution_count": 14,
     "metadata": {},
     "output_type": "execute_result"
    }
   ],
   "source": [
    "list1 = [0, 1, 2, 3, 4, 5, 6, 7, 8, 9]\n",
    "\n",
    "evenlist = [i for i in list1 if i%2 == 0]\n",
    "evenlist"
   ]
  },
  {
   "cell_type": "code",
   "execution_count": 16,
   "id": "6c043a3a",
   "metadata": {},
   "outputs": [
    {
     "name": "stdout",
     "output_type": "stream",
     "text": [
      "[0, 1, 2, 3, 4, 5, 6, 7, 8, 9, 10, 11, 12, 13, 14, 15, 16, 17, 18, 19, 20, 21, 22, 23, 24, 25, 26, 27, 28, 29, 30]\n"
     ]
    }
   ],
   "source": [
    "list1 = [i for i in range(31)]\n",
    "print(list1)"
   ]
  },
  {
   "cell_type": "code",
   "execution_count": 17,
   "id": "20dc717e",
   "metadata": {},
   "outputs": [
    {
     "name": "stdout",
     "output_type": "stream",
     "text": [
      "[0, 2, 4, 6, 8, 10, 12, 14, 16, 18, 20, 22, 24, 26, 28, 30]\n",
      "[1, 3, 5, 7, 9, 11, 13, 15, 17, 19, 21, 23, 25, 27, 29]\n"
     ]
    }
   ],
   "source": [
    "evenlist = []\n",
    "oddlist = []\n",
    "for i in list1:\n",
    "    if i%2 == 0:\n",
    "        evenlist.append(i)\n",
    "    else:\n",
    "        oddlist.append(i)\n",
    "print(evenlist)\n",
    "print(oddlist)"
   ]
  },
  {
   "cell_type": "code",
   "execution_count": 18,
   "id": "6c95fd95",
   "metadata": {},
   "outputs": [
    {
     "data": {
      "text/plain": [
       "[0, 2, 4, 6, 8, 10, 12, 14, 16, 18, 20, 22, 24, 26, 28, 30]"
      ]
     },
     "execution_count": 18,
     "metadata": {},
     "output_type": "execute_result"
    }
   ],
   "source": [
    "evenlist = [i for i in list1 if i%2 == 0]\n",
    "evenlist"
   ]
  },
  {
   "cell_type": "code",
   "execution_count": 20,
   "id": "e3f893de",
   "metadata": {},
   "outputs": [
    {
     "data": {
      "text/plain": [
       "[1, 3, 5, 7, 9, 11, 13, 15, 17, 19, 21, 23, 25, 27, 29]"
      ]
     },
     "execution_count": 20,
     "metadata": {},
     "output_type": "execute_result"
    }
   ],
   "source": [
    "oddlist = [i for i in list1 if i%2 != 0]\n",
    "oddlist"
   ]
  },
  {
   "cell_type": "code",
   "execution_count": 21,
   "id": "89d4ac65",
   "metadata": {},
   "outputs": [
    {
     "data": {
      "text/plain": [
       "['Pune', 'Guwahati', 'Kolkata', 'Trichy']"
      ]
     },
     "execution_count": 21,
     "metadata": {},
     "output_type": "execute_result"
    }
   ],
   "source": [
    "cities = ['Pune', 'Guwahati', 'Kolkata', 'Trichy']\n",
    "newcities = [city for city in cities]\n",
    "newcities"
   ]
  },
  {
   "cell_type": "code",
   "execution_count": 27,
   "id": "3787ffe8",
   "metadata": {},
   "outputs": [
    {
     "data": {
      "text/plain": [
       "['Pu', 'Gu', 'Ko', 'Tr']"
      ]
     },
     "execution_count": 27,
     "metadata": {},
     "output_type": "execute_result"
    }
   ],
   "source": [
    "cities = ['Pune', 'Guwahati', 'Kolkata', 'Trichy']\n",
    "newcities = [city[:2] for city in cities]\n",
    "newcities"
   ]
  },
  {
   "cell_type": "code",
   "execution_count": 23,
   "id": "6e4c6e4b",
   "metadata": {},
   "outputs": [
    {
     "data": {
      "text/plain": [
       "['PUNE', 'GUWAHATI', 'KOLKATA', 'TRICHY']"
      ]
     },
     "execution_count": 23,
     "metadata": {},
     "output_type": "execute_result"
    }
   ],
   "source": [
    "cities = ['Pune', 'Guwahati', 'Kolkata', 'Trichy']\n",
    "newcities = [city.upper() for city in cities]\n",
    "newcities"
   ]
  },
  {
   "cell_type": "markdown",
   "id": "ec0668af",
   "metadata": {},
   "source": [
    "## list comprehension with if-else"
   ]
  },
  {
   "cell_type": "code",
   "execution_count": null,
   "id": "b9703454",
   "metadata": {},
   "outputs": [],
   "source": [
    "syntax:\n",
    "    \n",
    "nwlist = [expr1 if cond1 else cond2 expr2  for i in Object]"
   ]
  },
  {
   "cell_type": "code",
   "execution_count": 24,
   "id": "68870501",
   "metadata": {},
   "outputs": [
    {
     "name": "stdout",
     "output_type": "stream",
     "text": [
      "[0, 1, 2, 3, 4, 5, 6, 7, 8, 9, 10, 11, 12, 13, 14, 15, 16, 17, 18, 19, 20, 21, 22, 23, 24, 25, 26, 27, 28, 29, 30]\n"
     ]
    }
   ],
   "source": [
    "list1 = [i for i in range(31)]\n",
    "print(list1)"
   ]
  },
  {
   "cell_type": "code",
   "execution_count": 26,
   "id": "f9728fee",
   "metadata": {},
   "outputs": [
    {
     "name": "stdout",
     "output_type": "stream",
     "text": [
      "['Even', 'Odd', 'Even', 'Odd', 'Even', 'Odd', 'Even', 'Odd', 'Even', 'Odd', 'Even', 'Odd', 'Even', 'Odd', 'Even', 'Odd', 'Even', 'Odd', 'Even', 'Odd', 'Even', 'Odd', 'Even', 'Odd', 'Even', 'Odd', 'Even', 'Odd', 'Even', 'Odd', 'Even']\n"
     ]
    }
   ],
   "source": [
    "result = [ 'Even' if i%2 == 0 else 'Odd' for i in list1]\n",
    "print(result)"
   ]
  },
  {
   "cell_type": "code",
   "execution_count": 30,
   "id": "af5c4a8c",
   "metadata": {},
   "outputs": [
    {
     "name": "stdout",
     "output_type": "stream",
     "text": [
      "['True', False, 'True', False, 'True', False, 'True', False, 'True', False, 'True', False, 'True', False, 'True', False, 'True', False, 'True', False, 'True', False, 'True', False, 'True', False, 'True', False, 'True', False, 'True']\n"
     ]
    }
   ],
   "source": [
    "result = [ True if i%2 == 0 else False for i in list1]\n",
    "print(result)"
   ]
  },
  {
   "cell_type": "markdown",
   "id": "917b15b6",
   "metadata": {},
   "source": [
    "## Nested list Comprehension"
   ]
  },
  {
   "cell_type": "code",
   "execution_count": 34,
   "id": "19b5fed2",
   "metadata": {},
   "outputs": [
    {
     "data": {
      "text/plain": [
       "[[0, 1, 4, 9],\n",
       " [0, 1, 4, 9],\n",
       " [0, 1, 4, 9],\n",
       " [0, 1, 4, 9],\n",
       " [0, 1, 4, 9],\n",
       " [0, 1, 4, 9],\n",
       " [0, 1, 4, 9]]"
      ]
     },
     "execution_count": 34,
     "metadata": {},
     "output_type": "execute_result"
    }
   ],
   "source": [
    "list1 = [[j**2 for j in range(4)] for i in range(7)]\n",
    "list1"
   ]
  },
  {
   "cell_type": "code",
   "execution_count": null,
   "id": "d07809ee",
   "metadata": {},
   "outputs": [],
   "source": []
  },
  {
   "cell_type": "code",
   "execution_count": null,
   "id": "32793554",
   "metadata": {},
   "outputs": [],
   "source": []
  },
  {
   "cell_type": "code",
   "execution_count": null,
   "id": "0d5fccb6",
   "metadata": {},
   "outputs": [],
   "source": []
  },
  {
   "cell_type": "code",
   "execution_count": null,
   "id": "50f6933c",
   "metadata": {},
   "outputs": [],
   "source": []
  },
  {
   "cell_type": "code",
   "execution_count": null,
   "id": "6a78ab60",
   "metadata": {},
   "outputs": [],
   "source": []
  },
  {
   "cell_type": "code",
   "execution_count": null,
   "id": "db325fa5",
   "metadata": {},
   "outputs": [],
   "source": []
  }
 ],
 "metadata": {
  "kernelspec": {
   "display_name": "Python 3 (ipykernel)",
   "language": "python",
   "name": "python3"
  },
  "language_info": {
   "codemirror_mode": {
    "name": "ipython",
    "version": 3
   },
   "file_extension": ".py",
   "mimetype": "text/x-python",
   "name": "python",
   "nbconvert_exporter": "python",
   "pygments_lexer": "ipython3",
   "version": "3.10.12"
  }
 },
 "nbformat": 4,
 "nbformat_minor": 5
}
