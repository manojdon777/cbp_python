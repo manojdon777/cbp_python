{
 "cells": [
  {
   "cell_type": "markdown",
   "id": "96754961",
   "metadata": {},
   "source": [
    "## 5. Bitwise\n",
    "    1. &\n",
    "    2. |\n",
    "    3. ~"
   ]
  },
  {
   "cell_type": "code",
   "execution_count": 1,
   "id": "82142c15",
   "metadata": {},
   "outputs": [
    {
     "name": "stdout",
     "output_type": "stream",
     "text": [
      "4\n"
     ]
    }
   ],
   "source": [
    "print(4 & 6)"
   ]
  },
  {
   "cell_type": "code",
   "execution_count": 2,
   "id": "7e04b5e6",
   "metadata": {},
   "outputs": [
    {
     "name": "stdout",
     "output_type": "stream",
     "text": [
      "0\n"
     ]
    }
   ],
   "source": [
    "print(4 & 3)"
   ]
  },
  {
   "cell_type": "code",
   "execution_count": 3,
   "id": "d1a2d19a",
   "metadata": {},
   "outputs": [
    {
     "name": "stdout",
     "output_type": "stream",
     "text": [
      "7\n"
     ]
    }
   ],
   "source": [
    "print(4 | 3)"
   ]
  },
  {
   "cell_type": "code",
   "execution_count": 4,
   "id": "1b9a31f4",
   "metadata": {},
   "outputs": [
    {
     "name": "stdout",
     "output_type": "stream",
     "text": [
      "-5\n"
     ]
    }
   ],
   "source": [
    "print(~4)"
   ]
  },
  {
   "cell_type": "markdown",
   "id": "fe4eb818",
   "metadata": {},
   "source": [
    "## 6. Membership Operator"
   ]
  },
  {
   "cell_type": "code",
   "execution_count": null,
   "id": "1f9c7af8",
   "metadata": {},
   "outputs": [],
   "source": [
    "in , not in"
   ]
  },
  {
   "cell_type": "code",
   "execution_count": 5,
   "id": "cb20ee7f",
   "metadata": {},
   "outputs": [
    {
     "name": "stdout",
     "output_type": "stream",
     "text": [
      "Yes\n"
     ]
    }
   ],
   "source": [
    "string = 'C-DAC Silchar'\n",
    "if '-' in string:\n",
    "    print('Yes')\n",
    "else:\n",
    "    print('No')"
   ]
  },
  {
   "cell_type": "code",
   "execution_count": 6,
   "id": "5dbbe709",
   "metadata": {},
   "outputs": [
    {
     "name": "stdout",
     "output_type": "stream",
     "text": [
      "No\n"
     ]
    }
   ],
   "source": [
    "string = 'C-DAC Silchar'\n",
    "if 'Z' in string:\n",
    "    print('Yes')\n",
    "else:\n",
    "    print('No')"
   ]
  },
  {
   "cell_type": "code",
   "execution_count": 7,
   "id": "a06839d0",
   "metadata": {},
   "outputs": [
    {
     "name": "stdout",
     "output_type": "stream",
     "text": [
      "Yes\n"
     ]
    }
   ],
   "source": [
    "string = 'C-DAC Silchar'\n",
    "if 'i' in string:\n",
    "    print('Yes')\n",
    "else:\n",
    "    print('No')"
   ]
  },
  {
   "cell_type": "code",
   "execution_count": 9,
   "id": "b5913305",
   "metadata": {},
   "outputs": [
    {
     "name": "stdout",
     "output_type": "stream",
     "text": [
      "False\n"
     ]
    }
   ],
   "source": [
    "list1 = [1, 2, 44, 55,77]\n",
    "print(33 in list1)"
   ]
  },
  {
   "cell_type": "code",
   "execution_count": 10,
   "id": "141e3a1d",
   "metadata": {},
   "outputs": [
    {
     "name": "stdout",
     "output_type": "stream",
     "text": [
      "Yes\n"
     ]
    }
   ],
   "source": [
    "string = 'C-DAC Silchar'\n",
    "if 'Z' not in string:\n",
    "    print('Yes')\n",
    "else:\n",
    "    print('No')"
   ]
  },
  {
   "cell_type": "markdown",
   "id": "d3213d04",
   "metadata": {},
   "source": [
    "## 6. Identity "
   ]
  },
  {
   "cell_type": "code",
   "execution_count": null,
   "id": "50a2cf41",
   "metadata": {},
   "outputs": [],
   "source": [
    "is -> compares value of two objects"
   ]
  },
  {
   "cell_type": "code",
   "execution_count": 13,
   "id": "7f129ca9",
   "metadata": {},
   "outputs": [
    {
     "name": "stdout",
     "output_type": "stream",
     "text": [
      "Yes\n"
     ]
    }
   ],
   "source": [
    "str1 = 'Python'\n",
    "str2 = 'Python'\n",
    "if str1 is str2:\n",
    "    print('Yes')\n",
    "else:\n",
    "    print('No')"
   ]
  },
  {
   "cell_type": "code",
   "execution_count": 14,
   "id": "9a0ef5cd",
   "metadata": {},
   "outputs": [
    {
     "name": "stdout",
     "output_type": "stream",
     "text": [
      "No\n"
     ]
    }
   ],
   "source": [
    "str1 = 'Python'\n",
    "str2 = 'python' # 'p' is in lower case\n",
    "if str1 is str2:\n",
    "    print('Yes')\n",
    "else:\n",
    "    print('No')"
   ]
  },
  {
   "cell_type": "code",
   "execution_count": null,
   "id": "94324069",
   "metadata": {},
   "outputs": [],
   "source": []
  }
 ],
 "metadata": {
  "kernelspec": {
   "display_name": "Python 3 (ipykernel)",
   "language": "python",
   "name": "python3"
  },
  "language_info": {
   "codemirror_mode": {
    "name": "ipython",
    "version": 3
   },
   "file_extension": ".py",
   "mimetype": "text/x-python",
   "name": "python",
   "nbconvert_exporter": "python",
   "pygments_lexer": "ipython3",
   "version": "3.10.12"
  }
 },
 "nbformat": 4,
 "nbformat_minor": 5
}
