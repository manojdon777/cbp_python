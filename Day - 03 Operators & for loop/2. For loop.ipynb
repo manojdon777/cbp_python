{
 "cells": [
  {
   "cell_type": "markdown",
   "id": "030dd2dc",
   "metadata": {},
   "source": [
    "## for loop"
   ]
  },
  {
   "cell_type": "code",
   "execution_count": null,
   "id": "3b6c16a3",
   "metadata": {},
   "outputs": [],
   "source": [
    "syntax:\n",
    "\n",
    "for var in iterable_object:\n",
    "    body of for loop\n",
    "    body of for loop\n",
    "    body of for loop\n",
    "    body of for loop\n",
    "    "
   ]
  },
  {
   "cell_type": "code",
   "execution_count": null,
   "id": "6f3c0fb9",
   "metadata": {},
   "outputs": [],
   "source": [
    "for i in 'abcdefgh':\n",
    "    print(i)"
   ]
  },
  {
   "cell_type": "code",
   "execution_count": null,
   "id": "1c0f6f34",
   "metadata": {},
   "outputs": [],
   "source": [
    "for i in 'abcdefgh':\n",
    "    print(i, end = ' ')"
   ]
  },
  {
   "cell_type": "markdown",
   "id": "c3d2c041",
   "metadata": {},
   "source": [
    "## pass"
   ]
  },
  {
   "cell_type": "code",
   "execution_count": null,
   "id": "02b0d597",
   "metadata": {},
   "outputs": [],
   "source": [
    "for i in 'abcdefgh':\n",
    "    pass"
   ]
  },
  {
   "cell_type": "code",
   "execution_count": null,
   "id": "81d0ee96",
   "metadata": {},
   "outputs": [],
   "source": [
    "def fun():\n",
    "    pass"
   ]
  },
  {
   "cell_type": "markdown",
   "id": "9eb2776a",
   "metadata": {},
   "source": [
    "## range()"
   ]
  },
  {
   "cell_type": "code",
   "execution_count": null,
   "id": "3aa8eb4d",
   "metadata": {},
   "outputs": [],
   "source": [
    "range(10) -> 0 to 9\n",
    "range(3, 10) -> 3 to 9\n",
    "range(2, 20, 4) -> 2 to 19 and third arg 4 is step_size "
   ]
  },
  {
   "cell_type": "code",
   "execution_count": null,
   "id": "c68b2519",
   "metadata": {},
   "outputs": [],
   "source": []
  },
  {
   "cell_type": "code",
   "execution_count": 14,
   "id": "230ffa69",
   "metadata": {},
   "outputs": [
    {
     "name": "stdout",
     "output_type": "stream",
     "text": [
      "0 1 2 3 4 5 6 7 8 9 "
     ]
    }
   ],
   "source": [
    "for i in range(10):\n",
    "    print(i, end = ' ')"
   ]
  },
  {
   "cell_type": "code",
   "execution_count": null,
   "id": "82ab694c",
   "metadata": {},
   "outputs": [],
   "source": [
    "for xyz in range(3,23):\n",
    "    print(xyz, end = ' ')"
   ]
  },
  {
   "cell_type": "code",
   "execution_count": null,
   "id": "aec5d8d3",
   "metadata": {},
   "outputs": [],
   "source": [
    "for i in range(6):\n",
    "    for j in range(6):\n",
    "        print(i,j, sep = ' ')"
   ]
  },
  {
   "cell_type": "code",
   "execution_count": null,
   "id": "16ea8bb5",
   "metadata": {},
   "outputs": [],
   "source": [
    "for i in range(6):\n",
    "    for j in range(6):\n",
    "        print(j,i, sep = ' ')"
   ]
  },
  {
   "cell_type": "code",
   "execution_count": 6,
   "id": "293815a9",
   "metadata": {},
   "outputs": [
    {
     "name": "stdout",
     "output_type": "stream",
     "text": [
      "(00),(01),(02),(03),(04),(05),\n",
      "(10),(11),(12),(13),(14),(15),\n",
      "(20),(21),(22),(23),(24),(25),\n",
      "(30),(31),(32),(33),(34),(35),\n",
      "(40),(41),(42),(43),(44),(45),\n",
      "(50),(51),(52),(53),(54),(55),\n"
     ]
    }
   ],
   "source": [
    "for i in range(6):\n",
    "    for j in range(6):\n",
    "        print('(', i, j, ')', end = ',', sep = '')\n",
    "    print()"
   ]
  },
  {
   "cell_type": "code",
   "execution_count": 8,
   "id": "0a7df52e",
   "metadata": {},
   "outputs": [
    {
     "name": "stdout",
     "output_type": "stream",
     "text": [
      "2 4 6 8 10 12 14 16 18 20 22 24 26 28 30 32 34 36 38 40 42 44 46 48 50 "
     ]
    }
   ],
   "source": [
    "for i in range(1,51):\n",
    "    if i%2 == 0:\n",
    "        print(i, end = ' ')"
   ]
  },
  {
   "cell_type": "code",
   "execution_count": 9,
   "id": "b5c5c8b7",
   "metadata": {},
   "outputs": [
    {
     "name": "stdout",
     "output_type": "stream",
     "text": [
      "1 3 5 7 9 11 13 15 17 19 21 23 25 27 29 31 33 35 37 39 41 43 45 47 49 "
     ]
    }
   ],
   "source": [
    "for i in range(1,51):\n",
    "    if i%2 != 0:\n",
    "        print(i, end = ' ')"
   ]
  },
  {
   "cell_type": "code",
   "execution_count": 10,
   "id": "d31c1923",
   "metadata": {},
   "outputs": [
    {
     "name": "stdout",
     "output_type": "stream",
     "text": [
      "7 14 21 28 35 42 49 56 63 70 77 84 91 98 "
     ]
    }
   ],
   "source": [
    "for i in range(1,100):\n",
    "    if i%7 == 0:\n",
    "        print(i, end = ' ')"
   ]
  },
  {
   "cell_type": "code",
   "execution_count": 11,
   "id": "acac6236",
   "metadata": {},
   "outputs": [
    {
     "name": "stdout",
     "output_type": "stream",
     "text": [
      "7 14 21 28 35 42 49 56 63 70 77 84 91 98 "
     ]
    }
   ],
   "source": [
    "for i in range(1,101):\n",
    "    if i%7 == 0:\n",
    "        print(i, end = ' ')"
   ]
  },
  {
   "cell_type": "code",
   "execution_count": 12,
   "id": "ac9cb055",
   "metadata": {},
   "outputs": [
    {
     "name": "stdout",
     "output_type": "stream",
     "text": [
      "1 3 5 7 9 11 13 15 17 19 "
     ]
    }
   ],
   "source": [
    "for i in range(1,20,2):\n",
    "    print(i, end = ' ')"
   ]
  },
  {
   "cell_type": "code",
   "execution_count": 13,
   "id": "81903183",
   "metadata": {},
   "outputs": [
    {
     "name": "stdout",
     "output_type": "stream",
     "text": [
      "1 5 9 13 17 "
     ]
    }
   ],
   "source": [
    "for i in range(1,20,4):\n",
    "    print(i, end = ' ')"
   ]
  },
  {
   "cell_type": "code",
   "execution_count": 15,
   "id": "fedcdcfc",
   "metadata": {},
   "outputs": [
    {
     "name": "stdout",
     "output_type": "stream",
     "text": [
      "0 0 0 0 0 0 0 \n",
      "1 1 1 1 1 1 1 \n",
      "2 2 2 2 2 2 2 \n",
      "3 3 3 3 3 3 3 \n",
      "4 4 4 4 4 4 4 \n",
      "5 5 5 5 5 5 5 \n",
      "6 6 6 6 6 6 6 \n"
     ]
    }
   ],
   "source": [
    "n = 7\n",
    "for i in range(n):\n",
    "    for j in range(n):\n",
    "        print(i, end = ' ')\n",
    "    print()"
   ]
  },
  {
   "cell_type": "code",
   "execution_count": 16,
   "id": "7442d0f7",
   "metadata": {},
   "outputs": [
    {
     "name": "stdout",
     "output_type": "stream",
     "text": [
      "0 1 2 3 4 5 6 \n",
      "0 1 2 3 4 5 6 \n",
      "0 1 2 3 4 5 6 \n",
      "0 1 2 3 4 5 6 \n",
      "0 1 2 3 4 5 6 \n",
      "0 1 2 3 4 5 6 \n",
      "0 1 2 3 4 5 6 \n"
     ]
    }
   ],
   "source": [
    "n = 7\n",
    "for i in range(n):\n",
    "    for j in range(n):\n",
    "        print(j, end = ' ')\n",
    "    print()"
   ]
  },
  {
   "cell_type": "code",
   "execution_count": 17,
   "id": "ee1532e2",
   "metadata": {},
   "outputs": [
    {
     "name": "stdout",
     "output_type": "stream",
     "text": [
      "\n",
      "1 \n",
      "2 2 \n",
      "3 3 3 \n",
      "4 4 4 4 \n",
      "5 5 5 5 5 \n",
      "6 6 6 6 6 6 \n"
     ]
    }
   ],
   "source": [
    "n = 7\n",
    "for i in range(n):\n",
    "    for j in range(i):\n",
    "        print(i, end = ' ')\n",
    "    print()"
   ]
  },
  {
   "cell_type": "code",
   "execution_count": 18,
   "id": "767a152b",
   "metadata": {},
   "outputs": [
    {
     "name": "stdout",
     "output_type": "stream",
     "text": [
      "\n",
      "0 \n",
      "0 1 \n",
      "0 1 2 \n",
      "0 1 2 3 \n",
      "0 1 2 3 4 \n",
      "0 1 2 3 4 5 \n"
     ]
    }
   ],
   "source": [
    "n = 7\n",
    "for i in range(n):\n",
    "    for j in range(i):\n",
    "        print(j, end = ' ')\n",
    "    print()"
   ]
  },
  {
   "cell_type": "code",
   "execution_count": 19,
   "id": "eba3910d",
   "metadata": {},
   "outputs": [
    {
     "name": "stdout",
     "output_type": "stream",
     "text": [
      "\n",
      "* \n",
      "* * \n",
      "* * * \n",
      "* * * * \n",
      "* * * * * \n",
      "* * * * * * \n"
     ]
    }
   ],
   "source": [
    "n = 7\n",
    "for i in range(n):\n",
    "    for j in range(i):\n",
    "        print('*', end = ' ')\n",
    "    print()"
   ]
  },
  {
   "cell_type": "markdown",
   "id": "6f1205ff",
   "metadata": {},
   "source": [
    "## enumerate()"
   ]
  },
  {
   "cell_type": "code",
   "execution_count": 1,
   "id": "7229f3f6",
   "metadata": {},
   "outputs": [
    {
     "data": {
      "text/plain": [
       "['00', '11', '22', '33', '44', '55', '66', '77', '88', '99']"
      ]
     },
     "execution_count": 1,
     "metadata": {},
     "output_type": "execute_result"
    }
   ],
   "source": [
    "list1 = ['00', '11', '22', '33', '44', '55', '66', '77', '88', '99']\n",
    "list1"
   ]
  },
  {
   "cell_type": "code",
   "execution_count": 3,
   "id": "c06e2247",
   "metadata": {},
   "outputs": [
    {
     "name": "stdout",
     "output_type": "stream",
     "text": [
      "00 11 22 33 44 55 66 77 88 99 "
     ]
    }
   ],
   "source": [
    "for i in range(len(list1)):\n",
    "    print(list1[i], end = ' ')"
   ]
  },
  {
   "cell_type": "code",
   "execution_count": 5,
   "id": "c5604aeb",
   "metadata": {},
   "outputs": [
    {
     "name": "stdout",
     "output_type": "stream",
     "text": [
      "0 00\n",
      "1 11\n",
      "2 22\n",
      "3 33\n",
      "4 44\n",
      "5 55\n",
      "6 66\n",
      "7 77\n",
      "8 88\n",
      "9 99\n"
     ]
    }
   ],
   "source": [
    "for index, value in enumerate(list1):\n",
    "    print(index, value)"
   ]
  },
  {
   "cell_type": "code",
   "execution_count": 6,
   "id": "5e4e6bd7",
   "metadata": {},
   "outputs": [
    {
     "name": "stdout",
     "output_type": "stream",
     "text": [
      "0 a\n",
      "1 b\n",
      "2 c\n",
      "3 d\n",
      "4 e\n",
      "5 f\n",
      "6 g\n",
      "7 h\n"
     ]
    }
   ],
   "source": [
    "for a, b in enumerate('abcdefgh'):\n",
    "    print(a, b)"
   ]
  },
  {
   "cell_type": "code",
   "execution_count": 7,
   "id": "41f6a922",
   "metadata": {},
   "outputs": [
    {
     "name": "stdout",
     "output_type": "stream",
     "text": [
      "(0, 'a')\n",
      "(1, 'b')\n",
      "(2, 'c')\n",
      "(3, 'd')\n",
      "(4, 'e')\n",
      "(5, 'f')\n",
      "(6, 'g')\n",
      "(7, 'h')\n"
     ]
    }
   ],
   "source": [
    "for var in enumerate('abcdefgh'):\n",
    "    print(var)"
   ]
  },
  {
   "cell_type": "code",
   "execution_count": 10,
   "id": "cd486d1d",
   "metadata": {},
   "outputs": [
    {
     "name": "stdout",
     "output_type": "stream",
     "text": [
      "(0, '00') <class 'tuple'>\n",
      "(1, '11') <class 'tuple'>\n",
      "(2, '22') <class 'tuple'>\n",
      "(3, '33') <class 'tuple'>\n",
      "(4, '44') <class 'tuple'>\n",
      "(5, '55') <class 'tuple'>\n",
      "(6, '66') <class 'tuple'>\n",
      "(7, '77') <class 'tuple'>\n",
      "(8, '88') <class 'tuple'>\n",
      "(9, '99') <class 'tuple'>\n"
     ]
    }
   ],
   "source": [
    "for var in enumerate(list1):\n",
    "    print(var, type(var))"
   ]
  },
  {
   "cell_type": "code",
   "execution_count": 12,
   "id": "f91e17aa",
   "metadata": {},
   "outputs": [
    {
     "name": "stdout",
     "output_type": "stream",
     "text": [
      "(0, '00') <class 'str'>\n",
      "(1, '11') <class 'str'>\n",
      "(2, '22') <class 'str'>\n",
      "(3, '33') <class 'str'>\n",
      "(4, '44') <class 'str'>\n",
      "(5, '55') <class 'str'>\n",
      "(6, '66') <class 'str'>\n",
      "(7, '77') <class 'str'>\n",
      "(8, '88') <class 'str'>\n",
      "(9, '99') <class 'str'>\n"
     ]
    }
   ],
   "source": [
    "for var in enumerate(list1):\n",
    "    print(var, type(var[1]))"
   ]
  },
  {
   "cell_type": "code",
   "execution_count": 1,
   "id": "40ad7313",
   "metadata": {},
   "outputs": [
    {
     "name": "stdout",
     "output_type": "stream",
     "text": [
      "0 11\n",
      "1 22\n",
      "2 33\n",
      "3 44\n"
     ]
    }
   ],
   "source": [
    "list1 = [11,22,33,44]\n",
    "for a,b in enumerate(list1):\n",
    "    print(a, b)"
   ]
  },
  {
   "cell_type": "code",
   "execution_count": 2,
   "id": "d711e695",
   "metadata": {},
   "outputs": [
    {
     "name": "stdout",
     "output_type": "stream",
     "text": [
      "0 11\n",
      "1 22\n",
      "2 33\n",
      "3 44\n"
     ]
    }
   ],
   "source": [
    "list1 = [11,22,33,44]\n",
    "for index, value in enumerate(list1):\n",
    "    print(index, value)"
   ]
  },
  {
   "cell_type": "code",
   "execution_count": 3,
   "id": "18284384",
   "metadata": {},
   "outputs": [
    {
     "name": "stdout",
     "output_type": "stream",
     "text": [
      "(0, 11)\n",
      "(1, 22)\n",
      "(2, 33)\n",
      "(3, 44)\n"
     ]
    }
   ],
   "source": [
    "list1 = [11,22,33,44]\n",
    "for item in enumerate(list1):\n",
    "    print(item)"
   ]
  },
  {
   "cell_type": "code",
   "execution_count": 4,
   "id": "fa764c65",
   "metadata": {},
   "outputs": [
    {
     "name": "stdout",
     "output_type": "stream",
     "text": [
      "<class 'tuple'>\n",
      "<class 'tuple'>\n",
      "<class 'tuple'>\n",
      "<class 'tuple'>\n"
     ]
    }
   ],
   "source": [
    "list1 = [11,22,33,44]\n",
    "for item in enumerate(list1):\n",
    "    print(type(item))"
   ]
  },
  {
   "cell_type": "code",
   "execution_count": 5,
   "id": "cb50c76d",
   "metadata": {},
   "outputs": [],
   "source": [
    "def mfun():\n",
    "    return 111, 222, 333, 444, 555\n"
   ]
  },
  {
   "cell_type": "code",
   "execution_count": 6,
   "id": "0369209c",
   "metadata": {},
   "outputs": [
    {
     "data": {
      "text/plain": [
       "(111, 222, 333, 444, 555)"
      ]
     },
     "execution_count": 6,
     "metadata": {},
     "output_type": "execute_result"
    }
   ],
   "source": [
    "mfun()"
   ]
  },
  {
   "cell_type": "code",
   "execution_count": 8,
   "id": "65fff18f",
   "metadata": {},
   "outputs": [
    {
     "data": {
      "text/plain": [
       "tuple"
      ]
     },
     "execution_count": 8,
     "metadata": {},
     "output_type": "execute_result"
    }
   ],
   "source": [
    "type(mfun())"
   ]
  },
  {
   "cell_type": "code",
   "execution_count": 9,
   "id": "76385921",
   "metadata": {},
   "outputs": [],
   "source": [
    "abc = mfun()"
   ]
  },
  {
   "cell_type": "code",
   "execution_count": 10,
   "id": "77cc4ff0",
   "metadata": {},
   "outputs": [
    {
     "name": "stdout",
     "output_type": "stream",
     "text": [
      "(111, 222, 333, 444, 555)\n"
     ]
    }
   ],
   "source": [
    "print(abc)"
   ]
  },
  {
   "cell_type": "code",
   "execution_count": 12,
   "id": "c94eed3a",
   "metadata": {},
   "outputs": [],
   "source": [
    "def mfun():\n",
    "    return 111, 222"
   ]
  },
  {
   "cell_type": "code",
   "execution_count": 13,
   "id": "96c1df9a",
   "metadata": {},
   "outputs": [
    {
     "name": "stdout",
     "output_type": "stream",
     "text": [
      "(111, 222)\n"
     ]
    }
   ],
   "source": [
    "print(mfun())"
   ]
  },
  {
   "cell_type": "code",
   "execution_count": 7,
   "id": "d430484d",
   "metadata": {},
   "outputs": [
    {
     "name": "stdout",
     "output_type": "stream",
     "text": [
      "[7, 4, 1, 6, 5, 8, 9, 2, 3, 10]\n"
     ]
    }
   ],
   "source": [
    "import random\n",
    "array=[]\n",
    "count = 1\n",
    "while count != 11:\n",
    "    random_number = random.randint(1,10)\n",
    "    if random_number in array:\n",
    "        pass\n",
    "    else:\n",
    "        array.append(random_number)\n",
    "        count += 1\n",
    "        \n",
    "print(array)"
   ]
  },
  {
   "cell_type": "code",
   "execution_count": 1,
   "id": "f02a274a",
   "metadata": {},
   "outputs": [
    {
     "data": {
      "text/plain": [
       "[9, 8, 8, 2, 5, 4, 1, 7, 2, 5]"
      ]
     },
     "execution_count": 1,
     "metadata": {},
     "output_type": "execute_result"
    }
   ],
   "source": [
    "import random\n",
    "random_list = []\n",
    "for i in range(10):\n",
    "    num = random.randint(1,10)\n",
    "    random_list.append(num)\n",
    "random_list\n"
   ]
  },
  {
   "cell_type": "code",
   "execution_count": 6,
   "id": "4eaa97da",
   "metadata": {},
   "outputs": [
    {
     "data": {
      "text/plain": [
       "[6, 4, 3, 5, 8, 10, 2]"
      ]
     },
     "execution_count": 6,
     "metadata": {},
     "output_type": "execute_result"
    }
   ],
   "source": [
    "import random\n",
    "random_list = []\n",
    "for i in range(10):\n",
    "    num = random.randint(1,10)\n",
    "    if num in random_list:\n",
    "        pass\n",
    "    else:\n",
    "        random_list.append(num)\n",
    "random_list\n"
   ]
  },
  {
   "cell_type": "code",
   "execution_count": 17,
   "id": "dafebc83",
   "metadata": {},
   "outputs": [
    {
     "data": {
      "text/plain": [
       "[2, 10, 7, 9, 4, 1, 8, 6, 3, 5]"
      ]
     },
     "execution_count": 17,
     "metadata": {},
     "output_type": "execute_result"
    }
   ],
   "source": [
    "import random\n",
    "random_list = []\n",
    "while True:\n",
    "    num = random.randint(1,10)\n",
    "    if num in random_list:\n",
    "        pass\n",
    "    else:\n",
    "        random_list.append(num)\n",
    "        if len(random_list) == 10:\n",
    "            break\n",
    "random_list\n"
   ]
  },
  {
   "cell_type": "code",
   "execution_count": 18,
   "id": "a73a468d",
   "metadata": {},
   "outputs": [
    {
     "data": {
      "text/plain": [
       "[10, 3, 4, 7, 8, 5, 1, 2, 6, 9]"
      ]
     },
     "execution_count": 18,
     "metadata": {},
     "output_type": "execute_result"
    }
   ],
   "source": [
    "import random\n",
    "random_list = []\n",
    "while True:\n",
    "    num = random.randint(1,10)\n",
    "    if num not in random_list:\n",
    "        random_list.append(num)\n",
    "        if len(random_list) == 10:\n",
    "            break\n",
    "\n",
    "random_list\n"
   ]
  },
  {
   "cell_type": "code",
   "execution_count": 27,
   "id": "10097f5a",
   "metadata": {},
   "outputs": [
    {
     "data": {
      "text/plain": [
       "[2, 1, 9, 3, 7]"
      ]
     },
     "execution_count": 27,
     "metadata": {},
     "output_type": "execute_result"
    }
   ],
   "source": [
    "import random\n",
    "random_list = []\n",
    "count = 1\n",
    "while count != 11:\n",
    "    num = random.randint(1,10)\n",
    "    if num not in random_list:\n",
    "        random_list.append(num)\n",
    "        count += 1        \n",
    "\n",
    "random_list\n"
   ]
  },
  {
   "cell_type": "code",
   "execution_count": 29,
   "id": "7d0e7e9e",
   "metadata": {},
   "outputs": [
    {
     "data": {
      "text/plain": [
       "[3, 2, 7, 8, 10, 1, 9, 6, 5, 4]"
      ]
     },
     "execution_count": 29,
     "metadata": {},
     "output_type": "execute_result"
    }
   ],
   "source": [
    "import random\n",
    "random_list = []\n",
    "count = 1\n",
    "while count <= 10:\n",
    "    num = random.randint(1,10)\n",
    "    if num not in random_list:\n",
    "        random_list.append(num)\n",
    "        count += 1        \n",
    "\n",
    "random_list\n"
   ]
  },
  {
   "cell_type": "code",
   "execution_count": 30,
   "id": "a7838b88",
   "metadata": {},
   "outputs": [
    {
     "data": {
      "text/plain": [
       "[]"
      ]
     },
     "execution_count": 30,
     "metadata": {},
     "output_type": "execute_result"
    }
   ],
   "source": [
    "list(range(0,0))"
   ]
  },
  {
   "cell_type": "code",
   "execution_count": 31,
   "id": "48b5e6f1",
   "metadata": {},
   "outputs": [
    {
     "data": {
      "text/plain": [
       "[0]"
      ]
     },
     "execution_count": 31,
     "metadata": {},
     "output_type": "execute_result"
    }
   ],
   "source": [
    "list(range(0,1))"
   ]
  },
  {
   "cell_type": "code",
   "execution_count": 34,
   "id": "6b1fbfe6",
   "metadata": {},
   "outputs": [
    {
     "name": "stdout",
     "output_type": "stream",
     "text": [
      "11 22 33 44 55 66 77 \n",
      "11 22 33 44 55 66 77 "
     ]
    }
   ],
   "source": [
    "list1 = [11,22,33,44,55,66,77]\n",
    "\n",
    "for var in range(len(list1)):\n",
    "    print(list1[var], end = ' ')\n",
    "print()  \n",
    "for var in list1:\n",
    "    print(var, end = ' ')"
   ]
  },
  {
   "cell_type": "code",
   "execution_count": 43,
   "id": "36c5c139",
   "metadata": {},
   "outputs": [
    {
     "name": "stdout",
     "output_type": "stream",
     "text": [
      "999\n"
     ]
    }
   ],
   "source": [
    "list1 = [ 5, 88, 2, 10, 3, 412, 7, 8, 6, 999]\n",
    "max_number = list1[0]\n",
    "for i in range(1, len(list1)):\n",
    "    if list1[i] > max_number:\n",
    "        max_number = list1[i]\n",
    "print(max_number)"
   ]
  },
  {
   "cell_type": "code",
   "execution_count": 45,
   "id": "aa9cea8d",
   "metadata": {},
   "outputs": [
    {
     "name": "stdout",
     "output_type": "stream",
     "text": [
      "2\n"
     ]
    }
   ],
   "source": [
    "list1 = [ 5, 88, 2, 10, 3, 412, 7, 8, 6, 9]\n",
    "# max_number = list1[0]\n",
    "min_number = list1[0]\n",
    "for i in range(1, len(list1)):\n",
    "    if list1[i] < min_number:\n",
    "        min_number = list1[i]\n",
    "print(min_number)"
   ]
  },
  {
   "cell_type": "code",
   "execution_count": 50,
   "id": "4827f9a5",
   "metadata": {},
   "outputs": [
    {
     "name": "stdout",
     "output_type": "stream",
     "text": [
      "99\n"
     ]
    }
   ],
   "source": [
    "def find_max(list_var):\n",
    "    max_number = list_var[0]\n",
    "    for i in range(1, len(list_var)):\n",
    "        if list_var[i] > max_number:\n",
    "            max_number = list_var[i]\n",
    "    return max_number\n",
    "\n",
    "\n",
    "list1 = [1,44,6,22,8,99,3,55,3]\n",
    "print(find_max(list1))"
   ]
  },
  {
   "cell_type": "code",
   "execution_count": 51,
   "id": "6dac7ec2",
   "metadata": {},
   "outputs": [
    {
     "data": {
      "text/plain": [
       "678"
      ]
     },
     "execution_count": 51,
     "metadata": {},
     "output_type": "execute_result"
    }
   ],
   "source": [
    "find_max([44,6,345,234,678,23])"
   ]
  },
  {
   "cell_type": "code",
   "execution_count": 52,
   "id": "9902f301",
   "metadata": {},
   "outputs": [
    {
     "data": {
      "text/plain": [
       "55"
      ]
     },
     "execution_count": 52,
     "metadata": {},
     "output_type": "execute_result"
    }
   ],
   "source": [
    "find_max([22,3,55])"
   ]
  },
  {
   "cell_type": "code",
   "execution_count": 54,
   "id": "1da48dc7",
   "metadata": {},
   "outputs": [
    {
     "name": "stdout",
     "output_type": "stream",
     "text": [
      "412\n",
      "2\n"
     ]
    }
   ],
   "source": [
    "list1 = [ 5, 88, 2, 10, 3, 412, 7, 8, 6, 9]\n",
    "max_number = list1[0]\n",
    "min_number = list1[0]\n",
    "for i in range(1, len(list1)):\n",
    "    if list1[i] < min_number:\n",
    "        min_number = list1[i]\n",
    "    elif list1[i] > max_number:\n",
    "        max_number = list1[i]\n",
    "print(max_number)\n",
    "print(min_number)\n"
   ]
  },
  {
   "cell_type": "code",
   "execution_count": 57,
   "id": "9834918c",
   "metadata": {},
   "outputs": [
    {
     "name": "stdout",
     "output_type": "stream",
     "text": [
      "0 11\n",
      "1 33\n",
      "2 55\n",
      "3 77\n",
      "4 99\n"
     ]
    }
   ],
   "source": [
    "list1 = [11,33,55,77,99]\n",
    "for a, b in enumerate(list1):\n",
    "    print(a, b)"
   ]
  },
  {
   "cell_type": "code",
   "execution_count": 59,
   "id": "13348cee",
   "metadata": {},
   "outputs": [
    {
     "name": "stdout",
     "output_type": "stream",
     "text": [
      "11 11\n",
      "33 33\n",
      "55 55\n",
      "77 77\n",
      "99 99\n"
     ]
    }
   ],
   "source": [
    "list1 = [11,33,55,77,99]\n",
    "for a, b in enumerate(list1):\n",
    "    print(list1[a], b)"
   ]
  },
  {
   "cell_type": "code",
   "execution_count": 60,
   "id": "0a4f5e45",
   "metadata": {},
   "outputs": [
    {
     "name": "stdout",
     "output_type": "stream",
     "text": [
      "At location 0 -> 11 11\n",
      "At location 1 -> 33 33\n",
      "At location 2 -> 55 55\n",
      "At location 3 -> 77 77\n",
      "At location 4 -> 99 99\n"
     ]
    }
   ],
   "source": [
    "list1 = [11,33,55,77,99]\n",
    "for a, b in enumerate(list1):\n",
    "    print('At location', a, '->',list1[a], b)"
   ]
  },
  {
   "cell_type": "code",
   "execution_count": null,
   "id": "e1f4e908",
   "metadata": {},
   "outputs": [],
   "source": []
  }
 ],
 "metadata": {
  "kernelspec": {
   "display_name": "Python 3 (ipykernel)",
   "language": "python",
   "name": "python3"
  },
  "language_info": {
   "codemirror_mode": {
    "name": "ipython",
    "version": 3
   },
   "file_extension": ".py",
   "mimetype": "text/x-python",
   "name": "python",
   "nbconvert_exporter": "python",
   "pygments_lexer": "ipython3",
   "version": "3.10.12"
  }
 },
 "nbformat": 4,
 "nbformat_minor": 5
}
