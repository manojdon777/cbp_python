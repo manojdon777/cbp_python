{
 "cells": [
  {
   "cell_type": "markdown",
   "id": "7140bf72",
   "metadata": {},
   "source": [
    "## Introduction"
   ]
  },
  {
   "cell_type": "code",
   "execution_count": null,
   "id": "32d0b885",
   "metadata": {},
   "outputs": [],
   "source": [
    "Class - abtract represnetation or blueprint\n",
    "Object - real time entity of class\n",
    "\n",
    "class methods should have self as first argument is reference\n",
    "     to current object"
   ]
  },
  {
   "cell_type": "code",
   "execution_count": null,
   "id": "f5fdd88b",
   "metadata": {},
   "outputs": [],
   "source": [
    "constructor\n",
    "    - defines using '__init__()' method\n",
    "    - self should be first argument."
   ]
  },
  {
   "cell_type": "code",
   "execution_count": null,
   "id": "e3ce20f6",
   "metadata": {},
   "outputs": [],
   "source": [
    "class classname_:\n",
    "    class_body"
   ]
  },
  {
   "cell_type": "code",
   "execution_count": 1,
   "id": "4f302838",
   "metadata": {},
   "outputs": [],
   "source": [
    "class abc:\n",
    "    pass"
   ]
  },
  {
   "cell_type": "code",
   "execution_count": 4,
   "id": "7265f2a2",
   "metadata": {},
   "outputs": [
    {
     "name": "stdout",
     "output_type": "stream",
     "text": [
      "in method of class\n"
     ]
    }
   ],
   "source": [
    "class abc:\n",
    "    def method1(self):\n",
    "        print('in method of class')\n",
    "        \n",
    "obj = abc()\n",
    "obj.method1()"
   ]
  },
  {
   "cell_type": "code",
   "execution_count": 9,
   "id": "27f6d08c",
   "metadata": {},
   "outputs": [
    {
     "name": "stdout",
     "output_type": "stream",
     "text": [
      "Red\n",
      "1300hp\n",
      "30000000\n",
      "Merc Benz\n"
     ]
    }
   ],
   "source": [
    "class Car:\n",
    "    \n",
    "    def __init__(self, color, engine_power, price, brand):\n",
    "        self.color = color\n",
    "        self.engine_power = engine_power\n",
    "        self.price = price\n",
    "        self.brand = brand\n",
    "        \n",
    "    def display(self):\n",
    "        print(self.color)\n",
    "        print(self.engine_power)\n",
    "        print(self.price)\n",
    "        print(self.brand)\n",
    "\n",
    "car_object1 = Car('Red', '1300hp', 30000000, 'Merc Benz')\n",
    "car_object1.display()"
   ]
  },
  {
   "cell_type": "code",
   "execution_count": 10,
   "id": "35457317",
   "metadata": {},
   "outputs": [
    {
     "name": "stdout",
     "output_type": "stream",
     "text": [
      "Bule\n",
      "1200hp\n",
      "40600000\n",
      "Hyundai\n"
     ]
    }
   ],
   "source": [
    "car_object2 = Car('Bule', '1200hp', 40600000, 'Hyundai')\n",
    "car_object2.display()"
   ]
  },
  {
   "cell_type": "code",
   "execution_count": 11,
   "id": "8d4d980f",
   "metadata": {},
   "outputs": [
    {
     "name": "stdout",
     "output_type": "stream",
     "text": [
      "Red\n",
      "1300hp\n",
      "30000000\n",
      "Merc Benz\n",
      "Red\n"
     ]
    }
   ],
   "source": [
    "class Car:\n",
    "    \n",
    "    def __init__(self, col, engine_pw, prc, brnd):\n",
    "        self.color = col\n",
    "        self.engine_power = engine_pw\n",
    "        self.price = prc\n",
    "        self.brand = brnd\n",
    "        \n",
    "    def display(self):\n",
    "        print(self.color)\n",
    "        print(self.engine_power)\n",
    "        print(self.price)\n",
    "        print(self.brand)\n",
    "\n",
    "car_object1 = Car('Red', '1300hp', 30000000, 'Merc Benz')\n",
    "car_object1.display()"
   ]
  },
  {
   "cell_type": "code",
   "execution_count": 13,
   "id": "7cdeb756",
   "metadata": {},
   "outputs": [
    {
     "name": "stdout",
     "output_type": "stream",
     "text": [
      "Indigo\n"
     ]
    }
   ],
   "source": [
    "class Car:\n",
    "    \n",
    "    def __init__(self, col, engine_pw, prc, brnd):\n",
    "        self.color = col\n",
    "        self.engine_power = engine_pw\n",
    "        self.price = prc\n",
    "        self.brand = brnd\n",
    "        \n",
    "    def display(self):\n",
    "        print(self.color)\n",
    "        print(self.engine_power)\n",
    "        print(self.price)\n",
    "        print(self.brand)\n",
    "\n",
    "car_object1 = Car('Indigo', '1300hp', 30000000, 'Merc Benz')\n",
    "print(car_object1.color)"
   ]
  },
  {
   "cell_type": "code",
   "execution_count": 14,
   "id": "ff3c48ab",
   "metadata": {},
   "outputs": [
    {
     "name": "stdout",
     "output_type": "stream",
     "text": [
      "abc def\n"
     ]
    }
   ],
   "source": [
    "class Trial:\n",
    "    def foo(self):\n",
    "        print('abc def')\n",
    "t_obj = Trial()\n",
    "t_obj.foo()"
   ]
  },
  {
   "cell_type": "code",
   "execution_count": 15,
   "id": "a5db356a",
   "metadata": {},
   "outputs": [
    {
     "name": "stdout",
     "output_type": "stream",
     "text": [
      "In constructor\n",
      "Inside class method\n",
      "45\n"
     ]
    }
   ],
   "source": [
    "class Test:\n",
    "    def __init__(abc, age):\n",
    "        print('In constructor')\n",
    "        abc.age = age\n",
    "        \n",
    "    def class_method(abc):\n",
    "        print('Inside class method')\n",
    "        print(abc.age)\n",
    "\n",
    "obj_test = Test(45)\n",
    "obj_test.class_method()"
   ]
  },
  {
   "cell_type": "markdown",
   "id": "99ca0488",
   "metadata": {},
   "source": [
    "### Private(__var) & Semi-private variables(_var)"
   ]
  },
  {
   "cell_type": "code",
   "execution_count": 19,
   "id": "0ebd3abd",
   "metadata": {},
   "outputs": [
    {
     "name": "stdout",
     "output_type": "stream",
     "text": [
      "Aman, 78\n"
     ]
    }
   ],
   "source": [
    "class Student:\n",
    "    def __init__(self, name, marks):\n",
    "        self.name = name\n",
    "        self.marks = marks\n",
    "    \n",
    "std_obj = Student('Aman', 78)\n",
    "print(std_obj.name, std_obj. marks, sep=', ')\n",
    "        "
   ]
  },
  {
   "cell_type": "code",
   "execution_count": 22,
   "id": "2ba98abc",
   "metadata": {},
   "outputs": [
    {
     "name": "stdout",
     "output_type": "stream",
     "text": [
      "Aman, 78\n"
     ]
    }
   ],
   "source": [
    "class Student:\n",
    "    def __init__(self, name, marks):\n",
    "        self._name = name\n",
    "        self._marks = marks\n",
    "    \n",
    "std_obj = Student('Aman', 78)\n",
    "print(std_obj._name, std_obj._marks, sep=', ')    "
   ]
  },
  {
   "cell_type": "code",
   "execution_count": 24,
   "id": "d7c6e4dd",
   "metadata": {},
   "outputs": [
    {
     "ename": "AttributeError",
     "evalue": "'Student' object has no attribute '__name'",
     "output_type": "error",
     "traceback": [
      "\u001b[0;31m---------------------------------------------------------------------------\u001b[0m",
      "\u001b[0;31mAttributeError\u001b[0m                            Traceback (most recent call last)",
      "\u001b[0;32m/tmp/ipykernel_635141/4071057.py\u001b[0m in \u001b[0;36m<module>\u001b[0;34m\u001b[0m\n\u001b[1;32m      6\u001b[0m \u001b[0mstd_obj\u001b[0m \u001b[0;34m=\u001b[0m \u001b[0mStudent\u001b[0m\u001b[0;34m(\u001b[0m\u001b[0;34m'Aman'\u001b[0m\u001b[0;34m,\u001b[0m \u001b[0;36m78\u001b[0m\u001b[0;34m)\u001b[0m\u001b[0;34m\u001b[0m\u001b[0;34m\u001b[0m\u001b[0m\n\u001b[1;32m      7\u001b[0m \u001b[0;34m\u001b[0m\u001b[0m\n\u001b[0;32m----> 8\u001b[0;31m \u001b[0mprint\u001b[0m\u001b[0;34m(\u001b[0m\u001b[0mstd_obj\u001b[0m\u001b[0;34m.\u001b[0m\u001b[0m__name\u001b[0m\u001b[0;34m,\u001b[0m \u001b[0mstd_obj\u001b[0m\u001b[0;34m.\u001b[0m\u001b[0m__marks\u001b[0m\u001b[0;34m,\u001b[0m \u001b[0msep\u001b[0m\u001b[0;34m=\u001b[0m\u001b[0;34m', '\u001b[0m\u001b[0;34m)\u001b[0m\u001b[0;34m\u001b[0m\u001b[0;34m\u001b[0m\u001b[0m\n\u001b[0m",
      "\u001b[0;31mAttributeError\u001b[0m: 'Student' object has no attribute '__name'"
     ]
    }
   ],
   "source": [
    "class Student:\n",
    "    def __init__(self, name, marks):\n",
    "        self.__name = name\n",
    "        self.__marks = marks\n",
    "    \n",
    "std_obj = Student('Aman', 78) \n",
    "\n",
    "print(std_obj.__name, std_obj.__marks, sep=', ')  "
   ]
  },
  {
   "cell_type": "code",
   "execution_count": null,
   "id": "a212b62a",
   "metadata": {},
   "outputs": [],
   "source": []
  }
 ],
 "metadata": {
  "kernelspec": {
   "display_name": "Python 3 (ipykernel)",
   "language": "python",
   "name": "python3"
  },
  "language_info": {
   "codemirror_mode": {
    "name": "ipython",
    "version": 3
   },
   "file_extension": ".py",
   "mimetype": "text/x-python",
   "name": "python",
   "nbconvert_exporter": "python",
   "pygments_lexer": "ipython3",
   "version": "3.10.12"
  }
 },
 "nbformat": 4,
 "nbformat_minor": 5
}
