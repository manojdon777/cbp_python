{
 "cells": [
  {
   "cell_type": "markdown",
   "id": "f3fc5f84",
   "metadata": {},
   "source": [
    "## Keyword Arg"
   ]
  },
  {
   "cell_type": "code",
   "execution_count": 1,
   "id": "6de28ab7",
   "metadata": {},
   "outputs": [
    {
     "name": "stdout",
     "output_type": "stream",
     "text": [
      "<class 'dict'>\n"
     ]
    }
   ],
   "source": [
    "def fun(**var):\n",
    "    print(type(var))\n",
    "    \n",
    "fun(a=10, b=20)"
   ]
  },
  {
   "cell_type": "code",
   "execution_count": 2,
   "id": "b789b4da",
   "metadata": {},
   "outputs": [
    {
     "name": "stdout",
     "output_type": "stream",
     "text": [
      "{'a': 10, 'b': 20}\n"
     ]
    }
   ],
   "source": [
    "def fun(**var):\n",
    "    print(var)\n",
    "    \n",
    "fun(a=10, b=20)"
   ]
  },
  {
   "cell_type": "code",
   "execution_count": 3,
   "id": "30c3d2c5",
   "metadata": {},
   "outputs": [],
   "source": [
    "def foo(var1, var2, *args, temp1=11, temp2=33, **kwargs):\n",
    "    print('Positiona args->', var1, var2)\n",
    "    print('Arbitrary args->', args)\n",
    "    print('Default args->', temp1, temp2)\n",
    "    print('Keyword args->', kwargs)"
   ]
  },
  {
   "cell_type": "code",
   "execution_count": 4,
   "id": "671df5df",
   "metadata": {},
   "outputs": [
    {
     "ename": "TypeError",
     "evalue": "foo() missing 2 required positional arguments: 'var1' and 'var2'",
     "output_type": "error",
     "traceback": [
      "\u001b[0;31m---------------------------------------------------------------------------\u001b[0m",
      "\u001b[0;31mTypeError\u001b[0m                                 Traceback (most recent call last)",
      "\u001b[0;32m/tmp/ipykernel_618166/3160684747.py\u001b[0m in \u001b[0;36m<module>\u001b[0;34m\u001b[0m\n\u001b[0;32m----> 1\u001b[0;31m \u001b[0mfoo\u001b[0m\u001b[0;34m(\u001b[0m\u001b[0;34m)\u001b[0m\u001b[0;34m\u001b[0m\u001b[0;34m\u001b[0m\u001b[0m\n\u001b[0m",
      "\u001b[0;31mTypeError\u001b[0m: foo() missing 2 required positional arguments: 'var1' and 'var2'"
     ]
    }
   ],
   "source": [
    "foo()"
   ]
  },
  {
   "cell_type": "code",
   "execution_count": 7,
   "id": "c03e6f09",
   "metadata": {},
   "outputs": [
    {
     "name": "stdout",
     "output_type": "stream",
     "text": [
      "Positiona args-> 101 202\n",
      "Arbitrary args-> ()\n",
      "Default args-> 11 33\n",
      "Keyword args-> {}\n"
     ]
    }
   ],
   "source": [
    "foo(101,202)"
   ]
  },
  {
   "cell_type": "code",
   "execution_count": 5,
   "id": "00083274",
   "metadata": {},
   "outputs": [
    {
     "name": "stdout",
     "output_type": "stream",
     "text": [
      "()\n"
     ]
    }
   ],
   "source": [
    "def fun(*args):\n",
    "    print(args)\n",
    "fun()"
   ]
  },
  {
   "cell_type": "code",
   "execution_count": 6,
   "id": "1e5feeb9",
   "metadata": {},
   "outputs": [
    {
     "name": "stdout",
     "output_type": "stream",
     "text": [
      "{}\n"
     ]
    }
   ],
   "source": [
    "def fun(**args):\n",
    "    print(args)\n",
    "fun()"
   ]
  },
  {
   "cell_type": "code",
   "execution_count": 8,
   "id": "13189172",
   "metadata": {},
   "outputs": [
    {
     "name": "stdout",
     "output_type": "stream",
     "text": [
      "1. Positiona args-> 101 202\n",
      "2. Arbitrary args-> (1.11, 2.22, 3.33)\n",
      "3. Default args-> 11 33\n",
      "4. Keyword args-> {}\n"
     ]
    }
   ],
   "source": [
    "def foo(var1, var2, *args, temp1=11, temp2=33, **kwargs):\n",
    "    print('1. Positiona args->', var1, var2)\n",
    "    print('2. Arbitrary args->', args)\n",
    "    print('3. Default args->', temp1, temp2)\n",
    "    print('4. Keyword args->', kwargs)\n",
    "\n",
    "foo(101, 202, 1.11, 2.22, 3.33)"
   ]
  },
  {
   "cell_type": "code",
   "execution_count": 9,
   "id": "75c32ffe",
   "metadata": {},
   "outputs": [
    {
     "name": "stdout",
     "output_type": "stream",
     "text": [
      "1. Positiona args-> 101 202\n",
      "2. Arbitrary args-> (1.11, 2.22, 3.33)\n",
      "3. Default args-> abc xyz\n",
      "4. Keyword args-> {}\n"
     ]
    }
   ],
   "source": [
    "def foo(var1, var2, *args, temp1=11, temp2=33, **kwargs):\n",
    "    print('1. Positiona args->', var1, var2)\n",
    "    print('2. Arbitrary args->', args)\n",
    "    print('3. Default args->', temp1, temp2)\n",
    "    print('4. Keyword args->', kwargs)\n",
    "\n",
    "foo(101, 202, 1.11, 2.22, 3.33,temp1='abc', temp2='xyz')"
   ]
  },
  {
   "cell_type": "code",
   "execution_count": 13,
   "id": "bc363738",
   "metadata": {},
   "outputs": [
    {
     "name": "stdout",
     "output_type": "stream",
     "text": [
      "1. Positiona args-> 101 202\n",
      "2. Arbitrary args-> (1.11, 2.22, 3.33)\n",
      "3. Default args-> 11 33\n",
      "4. Keyword args-> {'manoj': 34, 'temppp': 676776}\n"
     ]
    }
   ],
   "source": [
    "def foo(var1, var2, *args, temp1=11, temp2=33, **kwargs):\n",
    "    print('1. Positiona args->', var1, var2)\n",
    "    print('2. Arbitrary args->', args)\n",
    "    print('3. Default args->', temp1, temp2)\n",
    "    print('4. Keyword args->', kwargs)\n",
    "\n",
    "foo(101, 202, 1.11, 2.22, 3.33, manoj=34, temppp=676776)"
   ]
  },
  {
   "cell_type": "code",
   "execution_count": 14,
   "id": "80f00fdf",
   "metadata": {},
   "outputs": [
    {
     "name": "stdout",
     "output_type": "stream",
     "text": [
      "1. Positiona args-> 101 202\n",
      "2. Arbitrary args-> (1.11, 2.22, 3.33)\n",
      "3. Default args-> 99.99 33\n",
      "4. Keyword args-> {}\n"
     ]
    }
   ],
   "source": [
    "def foo(var1, var2, *args, temp1=11, temp2=33, **kwargs):\n",
    "    print('1. Positiona args->', var1, var2)\n",
    "    print('2. Arbitrary args->', args)\n",
    "    print('3. Default args->', temp1, temp2)\n",
    "    print('4. Keyword args->', kwargs)\n",
    "\n",
    "foo(101, 202, 1.11, 2.22, 3.33, temp1=99.99)"
   ]
  },
  {
   "cell_type": "markdown",
   "id": "73e7c79b",
   "metadata": {},
   "source": [
    "## Recursive function"
   ]
  },
  {
   "cell_type": "code",
   "execution_count": 18,
   "id": "fc3a112c",
   "metadata": {},
   "outputs": [
    {
     "name": "stdout",
     "output_type": "stream",
     "text": [
      "1 2 3 4 5 "
     ]
    }
   ],
   "source": [
    "def rec(n):\n",
    "    if n > 0:\n",
    "        rec(n-1)\n",
    "        print(n, end=' ')\n",
    "\n",
    "rec(5)"
   ]
  },
  {
   "cell_type": "code",
   "execution_count": 19,
   "id": "3b230f6f",
   "metadata": {},
   "outputs": [
    {
     "name": "stdout",
     "output_type": "stream",
     "text": [
      "5 4 3 2 1 "
     ]
    }
   ],
   "source": [
    "def rec(n):\n",
    "    if n > 0:\n",
    "        print(n, end=' ')\n",
    "        rec(n-1)\n",
    "        \n",
    "rec(5)"
   ]
  },
  {
   "cell_type": "code",
   "execution_count": 20,
   "id": "d3dad995",
   "metadata": {},
   "outputs": [
    {
     "name": "stdout",
     "output_type": "stream",
     "text": [
      "1 2 1 "
     ]
    }
   ],
   "source": [
    "def rec(n):\n",
    "    if n > 0:\n",
    "        rec(n-1)\n",
    "        print(n, end=' ')\n",
    "        rec(n-1)\n",
    "        \n",
    "rec(2)"
   ]
  },
  {
   "cell_type": "code",
   "execution_count": 21,
   "id": "219c2e4a",
   "metadata": {},
   "outputs": [
    {
     "name": "stdout",
     "output_type": "stream",
     "text": [
      "1 2 1 3 1 2 1 "
     ]
    }
   ],
   "source": [
    "def rec(n):\n",
    "    if n > 0:\n",
    "        rec(n-1)\n",
    "        print(n, end=' ')\n",
    "        rec(n-2)\n",
    "        \n",
    "rec(3)"
   ]
  },
  {
   "cell_type": "code",
   "execution_count": 28,
   "id": "f27ccd16",
   "metadata": {},
   "outputs": [],
   "source": [
    "#######################\n",
    "# def rec(n):\n",
    "#     if n > 0:\n",
    "#         print(n, end=' ')\n",
    "#         rec(n-1)\n",
    "        \n",
    "# rec(5)\n",
    "#######################\n",
    "\n",
    "def list_rev_recursive(list1_1, n):\n",
    "    if n > 0:\n",
    "        print(list1_1[n-1], end=' ')\n",
    "        list_rev_recursive(list1_1, n-1)\n",
    "        \n",
    " \n",
    "list1 = [11,22,33,44,55,66,77]\n",
    "list_rev_recursive(list1, len(list1))"
   ]
  },
  {
   "cell_type": "code",
   "execution_count": 27,
   "id": "4100d7d6",
   "metadata": {},
   "outputs": [
    {
     "name": "stdout",
     "output_type": "stream",
     "text": [
      "dfdfd\n"
     ]
    }
   ],
   "source": [
    "def fffff():\n",
    "    print('dfdfd')\n",
    "    \n",
    "fffff()    \n"
   ]
  },
  {
   "cell_type": "code",
   "execution_count": null,
   "id": "006d82e6",
   "metadata": {},
   "outputs": [],
   "source": []
  },
  {
   "cell_type": "code",
   "execution_count": null,
   "id": "80dd7389",
   "metadata": {},
   "outputs": [],
   "source": []
  },
  {
   "cell_type": "code",
   "execution_count": null,
   "id": "d4516f21",
   "metadata": {},
   "outputs": [],
   "source": []
  },
  {
   "cell_type": "code",
   "execution_count": null,
   "id": "7e4eaa96",
   "metadata": {},
   "outputs": [],
   "source": []
  },
  {
   "cell_type": "code",
   "execution_count": null,
   "id": "aad6c401",
   "metadata": {},
   "outputs": [],
   "source": []
  }
 ],
 "metadata": {
  "kernelspec": {
   "display_name": "Python 3 (ipykernel)",
   "language": "python",
   "name": "python3"
  },
  "language_info": {
   "codemirror_mode": {
    "name": "ipython",
    "version": 3
   },
   "file_extension": ".py",
   "mimetype": "text/x-python",
   "name": "python",
   "nbconvert_exporter": "python",
   "pygments_lexer": "ipython3",
   "version": "3.10.12"
  }
 },
 "nbformat": 4,
 "nbformat_minor": 5
}
