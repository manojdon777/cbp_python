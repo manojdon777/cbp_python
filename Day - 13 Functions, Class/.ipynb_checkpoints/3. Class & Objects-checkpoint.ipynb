{
 "cells": [
  {
   "cell_type": "markdown",
   "id": "9c0b2269",
   "metadata": {},
   "source": [
    "## Introduction"
   ]
  },
  {
   "cell_type": "code",
   "execution_count": null,
   "id": "c1725aee",
   "metadata": {},
   "outputs": [],
   "source": [
    "class classname_:\n",
    "    class_body"
   ]
  },
  {
   "cell_type": "code",
   "execution_count": 1,
   "id": "a0227342",
   "metadata": {},
   "outputs": [],
   "source": [
    "class abc:\n",
    "    pass"
   ]
  },
  {
   "cell_type": "code",
   "execution_count": null,
   "id": "2a3df28a",
   "metadata": {},
   "outputs": [],
   "source": [
    "class abc:\n",
    "    def method1():\n",
    "        print('in method of class')\n",
    "        \n"
   ]
  }
 ],
 "metadata": {
  "kernelspec": {
   "display_name": "Python 3 (ipykernel)",
   "language": "python",
   "name": "python3"
  },
  "language_info": {
   "codemirror_mode": {
    "name": "ipython",
    "version": 3
   },
   "file_extension": ".py",
   "mimetype": "text/x-python",
   "name": "python",
   "nbconvert_exporter": "python",
   "pygments_lexer": "ipython3",
   "version": "3.10.12"
  }
 },
 "nbformat": 4,
 "nbformat_minor": 5
}
