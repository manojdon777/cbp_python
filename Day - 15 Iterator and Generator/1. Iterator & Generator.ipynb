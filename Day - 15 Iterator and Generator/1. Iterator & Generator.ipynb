{
 "cells": [
  {
   "cell_type": "markdown",
   "id": "3da66f86",
   "metadata": {},
   "source": [
    "## 1. Iterator"
   ]
  },
  {
   "cell_type": "code",
   "execution_count": 1,
   "id": "30bb7253",
   "metadata": {},
   "outputs": [],
   "source": [
    "# iterable\n",
    "tup1 = (1,2,3,4,5,6)"
   ]
  },
  {
   "cell_type": "code",
   "execution_count": 33,
   "id": "def67891",
   "metadata": {},
   "outputs": [
    {
     "ename": "TypeError",
     "evalue": "'list' object is not an iterator",
     "output_type": "error",
     "traceback": [
      "\u001b[0;31m---------------------------------------------------------------------------\u001b[0m",
      "\u001b[0;31mTypeError\u001b[0m                                 Traceback (most recent call last)",
      "\u001b[0;32m/tmp/ipykernel_617349/1765369083.py\u001b[0m in \u001b[0;36m<module>\u001b[0;34m\u001b[0m\n\u001b[1;32m      1\u001b[0m \u001b[0mlist1\u001b[0m \u001b[0;34m=\u001b[0m \u001b[0;34m[\u001b[0m\u001b[0;34m'aaa'\u001b[0m\u001b[0;34m,\u001b[0m \u001b[0;34m'bbb'\u001b[0m\u001b[0;34m,\u001b[0m \u001b[0;34m'ccc'\u001b[0m\u001b[0;34m,\u001b[0m \u001b[0;34m'ddd'\u001b[0m\u001b[0;34m]\u001b[0m\u001b[0;34m\u001b[0m\u001b[0;34m\u001b[0m\u001b[0m\n\u001b[0;32m----> 2\u001b[0;31m \u001b[0mprint\u001b[0m\u001b[0;34m(\u001b[0m\u001b[0mnext\u001b[0m\u001b[0;34m(\u001b[0m\u001b[0mlist1\u001b[0m\u001b[0;34m)\u001b[0m\u001b[0;34m)\u001b[0m\u001b[0;34m\u001b[0m\u001b[0;34m\u001b[0m\u001b[0m\n\u001b[0m",
      "\u001b[0;31mTypeError\u001b[0m: 'list' object is not an iterator"
     ]
    }
   ],
   "source": [
    "list1 = ['aaa', 'bbb', 'ccc', 'ddd']\n",
    "print(next(list1))"
   ]
  },
  {
   "cell_type": "code",
   "execution_count": 2,
   "id": "1d9771a6",
   "metadata": {},
   "outputs": [
    {
     "name": "stdout",
     "output_type": "stream",
     "text": [
      "1\n",
      "2\n",
      "3\n",
      "4\n",
      "5\n",
      "6\n"
     ]
    }
   ],
   "source": [
    "for var in tup1:\n",
    "    print(var)"
   ]
  },
  {
   "cell_type": "code",
   "execution_count": 4,
   "id": "8430e8a5",
   "metadata": {},
   "outputs": [
    {
     "name": "stdout",
     "output_type": "stream",
     "text": [
      "aaa\n",
      "bbb\n",
      "ccc\n",
      "ddd\n"
     ]
    }
   ],
   "source": [
    "list1 = ['aaa', 'bbb', 'ccc', 'ddd']\n",
    "for i in list1:\n",
    "    print(i)"
   ]
  },
  {
   "cell_type": "code",
   "execution_count": 7,
   "id": "0df1ea08",
   "metadata": {},
   "outputs": [],
   "source": [
    "it = iter(list1)"
   ]
  },
  {
   "cell_type": "code",
   "execution_count": 8,
   "id": "2d9b6ef0",
   "metadata": {},
   "outputs": [
    {
     "data": {
      "text/plain": [
       "'aaa'"
      ]
     },
     "execution_count": 8,
     "metadata": {},
     "output_type": "execute_result"
    }
   ],
   "source": [
    "next(it)"
   ]
  },
  {
   "cell_type": "code",
   "execution_count": 9,
   "id": "dd769fec",
   "metadata": {},
   "outputs": [
    {
     "data": {
      "text/plain": [
       "'bbb'"
      ]
     },
     "execution_count": 9,
     "metadata": {},
     "output_type": "execute_result"
    }
   ],
   "source": [
    "next(it)"
   ]
  },
  {
   "cell_type": "code",
   "execution_count": 12,
   "id": "a49636a6",
   "metadata": {},
   "outputs": [
    {
     "name": "stdout",
     "output_type": "stream",
     "text": [
      "aaa\n",
      "bbb\n",
      "ccc\n",
      "ddd\n"
     ]
    }
   ],
   "source": [
    "list1 = ['aaa', 'bbb', 'ccc', 'ddd']\n",
    "it = iter(list1)\n",
    "print(next(it))\n",
    "print(next(it))\n",
    "print(next(it))\n",
    "print(next(it))\n"
   ]
  },
  {
   "cell_type": "code",
   "execution_count": 13,
   "id": "0c734c5b",
   "metadata": {},
   "outputs": [
    {
     "name": "stdout",
     "output_type": "stream",
     "text": [
      "aaa\n",
      "bbb\n",
      "ccc\n",
      "ddd\n"
     ]
    }
   ],
   "source": [
    "list1 = ['aaa', 'bbb', 'ccc', 'ddd']\n",
    "it = iter(list1)\n",
    "for i in range(4):\n",
    "    print(next(it))\n"
   ]
  },
  {
   "cell_type": "code",
   "execution_count": 16,
   "id": "91b4d67c",
   "metadata": {},
   "outputs": [
    {
     "name": "stdout",
     "output_type": "stream",
     "text": [
      "aaa\n",
      "bbb\n"
     ]
    }
   ],
   "source": [
    "list1 = ['aaa', 'bbb', 'ccc', 'ddd']\n",
    "it = iter(list1)\n",
    "print(next(it))\n",
    "print(it.__next__())\n"
   ]
  },
  {
   "cell_type": "code",
   "execution_count": 17,
   "id": "3d46e90a",
   "metadata": {},
   "outputs": [],
   "source": [
    "list1 = ['aaa', 'bbb', 'ccc', 'ddd']\n",
    "it = iter(list1)\n"
   ]
  },
  {
   "cell_type": "code",
   "execution_count": 18,
   "id": "db8d5f05",
   "metadata": {},
   "outputs": [
    {
     "name": "stdout",
     "output_type": "stream",
     "text": [
      "aaa\n"
     ]
    }
   ],
   "source": [
    "print(next(it))"
   ]
  },
  {
   "cell_type": "code",
   "execution_count": 19,
   "id": "ecb208af",
   "metadata": {},
   "outputs": [
    {
     "name": "stdout",
     "output_type": "stream",
     "text": [
      "bbb\n"
     ]
    }
   ],
   "source": [
    "print(next(it))"
   ]
  },
  {
   "cell_type": "code",
   "execution_count": 20,
   "id": "71bcbef4",
   "metadata": {},
   "outputs": [
    {
     "name": "stdout",
     "output_type": "stream",
     "text": [
      "ccc\n"
     ]
    }
   ],
   "source": [
    "print(next(it))"
   ]
  },
  {
   "cell_type": "code",
   "execution_count": 21,
   "id": "a33e6c7f",
   "metadata": {},
   "outputs": [
    {
     "name": "stdout",
     "output_type": "stream",
     "text": [
      "ddd\n"
     ]
    }
   ],
   "source": [
    "print(next(it))"
   ]
  },
  {
   "cell_type": "code",
   "execution_count": 22,
   "id": "d0ac4ced",
   "metadata": {},
   "outputs": [
    {
     "ename": "StopIteration",
     "evalue": "",
     "output_type": "error",
     "traceback": [
      "\u001b[0;31m---------------------------------------------------------------------------\u001b[0m",
      "\u001b[0;31mStopIteration\u001b[0m                             Traceback (most recent call last)",
      "\u001b[0;32m/tmp/ipykernel_617349/962129236.py\u001b[0m in \u001b[0;36m<module>\u001b[0;34m\u001b[0m\n\u001b[0;32m----> 1\u001b[0;31m \u001b[0mprint\u001b[0m\u001b[0;34m(\u001b[0m\u001b[0mnext\u001b[0m\u001b[0;34m(\u001b[0m\u001b[0mit\u001b[0m\u001b[0;34m)\u001b[0m\u001b[0;34m)\u001b[0m\u001b[0;34m\u001b[0m\u001b[0;34m\u001b[0m\u001b[0m\n\u001b[0m",
      "\u001b[0;31mStopIteration\u001b[0m: "
     ]
    }
   ],
   "source": [
    "print(next(it))"
   ]
  },
  {
   "cell_type": "code",
   "execution_count": 23,
   "id": "8b3c03c7",
   "metadata": {},
   "outputs": [
    {
     "name": "stdout",
     "output_type": "stream",
     "text": [
      "aaa\n",
      "bbb\n",
      "ccc\n",
      "ddd\n"
     ]
    },
    {
     "ename": "StopIteration",
     "evalue": "",
     "output_type": "error",
     "traceback": [
      "\u001b[0;31m---------------------------------------------------------------------------\u001b[0m",
      "\u001b[0;31mStopIteration\u001b[0m                             Traceback (most recent call last)",
      "\u001b[0;32m/tmp/ipykernel_617349/2856560062.py\u001b[0m in \u001b[0;36m<module>\u001b[0;34m\u001b[0m\n\u001b[1;32m      2\u001b[0m \u001b[0mit\u001b[0m \u001b[0;34m=\u001b[0m \u001b[0miter\u001b[0m\u001b[0;34m(\u001b[0m\u001b[0mlist1\u001b[0m\u001b[0;34m)\u001b[0m\u001b[0;34m\u001b[0m\u001b[0;34m\u001b[0m\u001b[0m\n\u001b[1;32m      3\u001b[0m \u001b[0;32mfor\u001b[0m \u001b[0mi\u001b[0m \u001b[0;32min\u001b[0m \u001b[0mrange\u001b[0m\u001b[0;34m(\u001b[0m\u001b[0;36m5\u001b[0m\u001b[0;34m)\u001b[0m\u001b[0;34m:\u001b[0m\u001b[0;34m\u001b[0m\u001b[0;34m\u001b[0m\u001b[0m\n\u001b[0;32m----> 4\u001b[0;31m     \u001b[0mprint\u001b[0m\u001b[0;34m(\u001b[0m\u001b[0mnext\u001b[0m\u001b[0;34m(\u001b[0m\u001b[0mit\u001b[0m\u001b[0;34m)\u001b[0m\u001b[0;34m)\u001b[0m\u001b[0;34m\u001b[0m\u001b[0;34m\u001b[0m\u001b[0m\n\u001b[0m",
      "\u001b[0;31mStopIteration\u001b[0m: "
     ]
    }
   ],
   "source": [
    "list1 = ['aaa', 'bbb', 'ccc', 'ddd']\n",
    "it = iter(list1)\n",
    "for i in range(5):\n",
    "    print(next(it))\n"
   ]
  },
  {
   "cell_type": "code",
   "execution_count": 24,
   "id": "13d30b78",
   "metadata": {},
   "outputs": [],
   "source": [
    "list1 = ['aaa', 'bbb', 'ccc', 'ddd']\n",
    "it = iter(list1)\n"
   ]
  },
  {
   "cell_type": "code",
   "execution_count": 25,
   "id": "bd6a00de",
   "metadata": {},
   "outputs": [
    {
     "name": "stdout",
     "output_type": "stream",
     "text": [
      "aaa\n"
     ]
    }
   ],
   "source": [
    "print(next(it))"
   ]
  },
  {
   "cell_type": "code",
   "execution_count": 26,
   "id": "01c9ab28",
   "metadata": {},
   "outputs": [
    {
     "name": "stdout",
     "output_type": "stream",
     "text": [
      "bbb\n"
     ]
    }
   ],
   "source": [
    "print(next(it))"
   ]
  },
  {
   "cell_type": "code",
   "execution_count": 27,
   "id": "2f38aa36",
   "metadata": {},
   "outputs": [
    {
     "name": "stdout",
     "output_type": "stream",
     "text": [
      "ccc\n"
     ]
    }
   ],
   "source": [
    "print(next(it))"
   ]
  },
  {
   "cell_type": "code",
   "execution_count": 28,
   "id": "8ff681f5",
   "metadata": {},
   "outputs": [
    {
     "name": "stdout",
     "output_type": "stream",
     "text": [
      "ddd\n"
     ]
    }
   ],
   "source": [
    "print(next(it))"
   ]
  },
  {
   "cell_type": "code",
   "execution_count": 29,
   "id": "090987bf",
   "metadata": {},
   "outputs": [
    {
     "ename": "StopIteration",
     "evalue": "",
     "output_type": "error",
     "traceback": [
      "\u001b[0;31m---------------------------------------------------------------------------\u001b[0m",
      "\u001b[0;31mStopIteration\u001b[0m                             Traceback (most recent call last)",
      "\u001b[0;32m/tmp/ipykernel_617349/962129236.py\u001b[0m in \u001b[0;36m<module>\u001b[0;34m\u001b[0m\n\u001b[0;32m----> 1\u001b[0;31m \u001b[0mprint\u001b[0m\u001b[0;34m(\u001b[0m\u001b[0mnext\u001b[0m\u001b[0;34m(\u001b[0m\u001b[0mit\u001b[0m\u001b[0;34m)\u001b[0m\u001b[0;34m)\u001b[0m\u001b[0;34m\u001b[0m\u001b[0;34m\u001b[0m\u001b[0m\n\u001b[0m",
      "\u001b[0;31mStopIteration\u001b[0m: "
     ]
    }
   ],
   "source": [
    "print(next(it))"
   ]
  },
  {
   "cell_type": "code",
   "execution_count": 30,
   "id": "be2910ae",
   "metadata": {},
   "outputs": [
    {
     "name": "stdout",
     "output_type": "stream",
     "text": [
      "no more elements\n"
     ]
    }
   ],
   "source": [
    "try:\n",
    "    print(next(it))\n",
    "except Exception:\n",
    "    print('no more elements')"
   ]
  },
  {
   "cell_type": "code",
   "execution_count": 31,
   "id": "d50cdc22",
   "metadata": {
    "collapsed": true
   },
   "outputs": [
    {
     "name": "stdout",
     "output_type": "stream",
     "text": [
      "aaa\n",
      "bbb\n",
      "ccc\n",
      "ddd\n",
      "No more lements\n"
     ]
    }
   ],
   "source": [
    "list1 = ['aaa', 'bbb', 'ccc', 'ddd']\n",
    "it = iter(list1)\n",
    "for i in range(5):\n",
    "    try:\n",
    "        print(next(it))\n",
    "    except Exception:\n",
    "        print('No more elements')"
   ]
  },
  {
   "cell_type": "code",
   "execution_count": 32,
   "id": "2bad6304",
   "metadata": {},
   "outputs": [
    {
     "name": "stdout",
     "output_type": "stream",
     "text": [
      "11\n",
      "22\n",
      "33\n",
      "44\n",
      "55\n",
      "66\n",
      "77\n",
      "88\n",
      "No More elements\n"
     ]
    }
   ],
   "source": [
    "list2 = [11,22,33,44,55,66,77,88]\n",
    "iterator = iter(list2)\n",
    "while True:\n",
    "    try:\n",
    "        print(next(iterator))\n",
    "    except Exception:\n",
    "        print('No More elements')\n",
    "        break"
   ]
  },
  {
   "cell_type": "markdown",
   "id": "8a4370a2",
   "metadata": {},
   "source": [
    "## 2. Generator"
   ]
  },
  {
   "cell_type": "code",
   "execution_count": null,
   "id": "8bc20159",
   "metadata": {},
   "outputs": [],
   "source": [
    "yield "
   ]
  },
  {
   "cell_type": "code",
   "execution_count": 37,
   "id": "525249d3",
   "metadata": {},
   "outputs": [
    {
     "name": "stdout",
     "output_type": "stream",
     "text": [
      "1\n",
      "2\n",
      "3\n"
     ]
    }
   ],
   "source": [
    "def generate_number():\n",
    "    yield 1\n",
    "    yield 2\n",
    "    yield 3\n",
    "\n",
    "gen = generate_number()\n",
    "print(next(gen))\n",
    "print(next(gen))\n",
    "print(next(gen))\n"
   ]
  },
  {
   "cell_type": "code",
   "execution_count": 38,
   "id": "82362885",
   "metadata": {},
   "outputs": [
    {
     "name": "stdout",
     "output_type": "stream",
     "text": [
      "1\n",
      "1\n",
      "1\n"
     ]
    }
   ],
   "source": [
    "def generate_number():\n",
    "    for i in range(3):\n",
    "        yield 1\n",
    "\n",
    "gen = generate_number()\n",
    "print(next(gen))\n",
    "print(next(gen))\n",
    "print(next(gen))\n"
   ]
  },
  {
   "cell_type": "code",
   "execution_count": 43,
   "id": "9d32a795",
   "metadata": {},
   "outputs": [
    {
     "name": "stdout",
     "output_type": "stream",
     "text": [
      "Hi people\n",
      "0\n",
      "1\n",
      "2\n",
      "3\n"
     ]
    }
   ],
   "source": [
    "def generate_number():\n",
    "    count = 0\n",
    "    print('Hi people')\n",
    "    for i in range(100000000000000):\n",
    "        yield count\n",
    "        count += 1\n",
    "\n",
    "gen = generate_number()\n",
    "print(next(gen))\n",
    "\n",
    "print(next(gen))\n",
    "\n",
    "print(next(gen))\n",
    "print(next(gen))\n"
   ]
  },
  {
   "cell_type": "code",
   "execution_count": 41,
   "id": "0c750382",
   "metadata": {},
   "outputs": [
    {
     "name": "stdout",
     "output_type": "stream",
     "text": [
      "Hi people\n",
      "Hey gems\n",
      "0\n",
      "Hey gems\n",
      "1\n",
      "Hey gems\n",
      "2\n"
     ]
    }
   ],
   "source": [
    "def generate_number():\n",
    "    count = 0\n",
    "    print('Hi people')\n",
    "    for i in range(3):\n",
    "        print('Hey gems')\n",
    "        yield count\n",
    "        count += 1\n",
    "\n",
    "gen = generate_number()\n",
    "print(next(gen))\n",
    "print(next(gen))\n",
    "print(next(gen))\n"
   ]
  },
  {
   "cell_type": "code",
   "execution_count": 45,
   "id": "4b17ef68",
   "metadata": {},
   "outputs": [
    {
     "name": "stdout",
     "output_type": "stream",
     "text": [
      "0\n",
      "1\n",
      "2\n",
      "3\n",
      "4\n",
      "5\n",
      "6\n",
      "7\n",
      "8\n",
      "9\n"
     ]
    }
   ],
   "source": [
    "for i in range(10):\n",
    "    print(i)"
   ]
  },
  {
   "cell_type": "code",
   "execution_count": 49,
   "id": "403981e3",
   "metadata": {},
   "outputs": [
    {
     "name": "stdout",
     "output_type": "stream",
     "text": [
      "0\n",
      "1\n",
      "2\n",
      "3\n",
      "4\n"
     ]
    }
   ],
   "source": [
    "def m_range(num):\n",
    "    i = 0;\n",
    "    while i < num:\n",
    "        yield i\n",
    "        i += 1\n",
    "\n",
    "\n",
    "for i in m_range(5):\n",
    "    print(i)"
   ]
  },
  {
   "cell_type": "code",
   "execution_count": null,
   "id": "4bb80c58",
   "metadata": {},
   "outputs": [],
   "source": []
  },
  {
   "cell_type": "code",
   "execution_count": null,
   "id": "430f1b67",
   "metadata": {},
   "outputs": [],
   "source": []
  },
  {
   "cell_type": "code",
   "execution_count": null,
   "id": "05981b32",
   "metadata": {},
   "outputs": [],
   "source": []
  },
  {
   "cell_type": "code",
   "execution_count": null,
   "id": "e5db851f",
   "metadata": {},
   "outputs": [],
   "source": []
  },
  {
   "cell_type": "code",
   "execution_count": null,
   "id": "6bc6a7e3",
   "metadata": {},
   "outputs": [],
   "source": []
  },
  {
   "cell_type": "code",
   "execution_count": null,
   "id": "c6247af7",
   "metadata": {},
   "outputs": [],
   "source": []
  }
 ],
 "metadata": {
  "kernelspec": {
   "display_name": "Python 3 (ipykernel)",
   "language": "python",
   "name": "python3"
  },
  "language_info": {
   "codemirror_mode": {
    "name": "ipython",
    "version": 3
   },
   "file_extension": ".py",
   "mimetype": "text/x-python",
   "name": "python",
   "nbconvert_exporter": "python",
   "pygments_lexer": "ipython3",
   "version": "3.10.12"
  }
 },
 "nbformat": 4,
 "nbformat_minor": 5
}
