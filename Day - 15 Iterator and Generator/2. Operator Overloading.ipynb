{
 "cells": [
  {
   "cell_type": "code",
   "execution_count": 1,
   "id": "fde311a3",
   "metadata": {},
   "outputs": [
    {
     "name": "stdout",
     "output_type": "stream",
     "text": [
      "5\n"
     ]
    }
   ],
   "source": [
    "class MyClass:\n",
    "    def __init__(self, x):\n",
    "        self.x = x\n",
    "\n",
    "obj1 = MyClass(22)\n",
    "obj2 = MyClass(33)\n",
    "\n",
    "print(2+3)"
   ]
  },
  {
   "cell_type": "code",
   "execution_count": 2,
   "id": "c7cbffde",
   "metadata": {},
   "outputs": [
    {
     "ename": "TypeError",
     "evalue": "unsupported operand type(s) for +: 'MyClass' and 'MyClass'",
     "output_type": "error",
     "traceback": [
      "\u001b[0;31m---------------------------------------------------------------------------\u001b[0m",
      "\u001b[0;31mTypeError\u001b[0m                                 Traceback (most recent call last)",
      "\u001b[0;32m/tmp/ipykernel_620433/1890616259.py\u001b[0m in \u001b[0;36m<module>\u001b[0;34m\u001b[0m\n\u001b[0;32m----> 1\u001b[0;31m \u001b[0mprint\u001b[0m\u001b[0;34m(\u001b[0m\u001b[0mobj1\u001b[0m \u001b[0;34m+\u001b[0m \u001b[0mobj2\u001b[0m\u001b[0;34m)\u001b[0m\u001b[0;34m\u001b[0m\u001b[0;34m\u001b[0m\u001b[0m\n\u001b[0m",
      "\u001b[0;31mTypeError\u001b[0m: unsupported operand type(s) for +: 'MyClass' and 'MyClass'"
     ]
    }
   ],
   "source": [
    "print(obj1 + obj2)"
   ]
  },
  {
   "cell_type": "code",
   "execution_count": 14,
   "id": "8d04c076",
   "metadata": {},
   "outputs": [
    {
     "data": {
      "text/plain": [
       "13"
      ]
     },
     "execution_count": 14,
     "metadata": {},
     "output_type": "execute_result"
    }
   ],
   "source": [
    "class MyClass:\n",
    "    def __init__(self, x):\n",
    "        self.x = x\n",
    "    \n",
    "    def __add__(self, other):\n",
    "        return self.x + other.x\n",
    "        \n",
    "\n",
    "obj1 = MyClass(22)\n",
    "obj2 = MyClass(33)\n",
    "\n",
    "# obj1.__add__(obj2)\n",
    "obj1 + obj2\n",
    "6+7"
   ]
  },
  {
   "cell_type": "code",
   "execution_count": 3,
   "id": "9d8406c9",
   "metadata": {},
   "outputs": [
    {
     "name": "stdout",
     "output_type": "stream",
     "text": [
      "9\n"
     ]
    }
   ],
   "source": [
    "print(4+5)"
   ]
  },
  {
   "cell_type": "code",
   "execution_count": null,
   "id": "6d894853",
   "metadata": {},
   "outputs": [],
   "source": [
    "print(int.__add__(4, 5))"
   ]
  },
  {
   "cell_type": "code",
   "execution_count": 6,
   "id": "171fd995",
   "metadata": {},
   "outputs": [
    {
     "name": "stdout",
     "output_type": "stream",
     "text": [
      "45\n"
     ]
    }
   ],
   "source": [
    "print(str.__add__('4','5'))"
   ]
  },
  {
   "cell_type": "code",
   "execution_count": 21,
   "id": "faa39f7b",
   "metadata": {},
   "outputs": [
    {
     "name": "stdout",
     "output_type": "stream",
     "text": [
      "True\n"
     ]
    }
   ],
   "source": [
    "class MyClass:\n",
    "    def __init__(self, x):\n",
    "        self.x = x\n",
    "    \n",
    "    def __gt__(self, other):\n",
    "        \n",
    "#         if self.x > other.x:\n",
    "#             return True\n",
    "#         else:\n",
    "#             return False\n",
    "        \n",
    "\n",
    "obj1 = MyClass(22)\n",
    "obj2 = MyClass(33)\n",
    "\n",
    "print(obj1 > obj2)"
   ]
  },
  {
   "cell_type": "code",
   "execution_count": 22,
   "id": "ccf1a101",
   "metadata": {},
   "outputs": [
    {
     "data": {
      "text/plain": [
       "True"
      ]
     },
     "execution_count": 22,
     "metadata": {},
     "output_type": "execute_result"
    }
   ],
   "source": [
    "def compare(a, b):\n",
    "    if a > b:\n",
    "        return True\n",
    "    else:\n",
    "        return False  \n",
    "compare(33,22)"
   ]
  },
  {
   "cell_type": "code",
   "execution_count": 23,
   "id": "6c3bcb3f",
   "metadata": {},
   "outputs": [
    {
     "data": {
      "text/plain": [
       "True"
      ]
     },
     "execution_count": 23,
     "metadata": {},
     "output_type": "execute_result"
    }
   ],
   "source": [
    "def compare(a, b):\n",
    "    return  a > b\n",
    "compare(33,22)"
   ]
  },
  {
   "cell_type": "code",
   "execution_count": 26,
   "id": "3498420a",
   "metadata": {},
   "outputs": [
    {
     "data": {
      "text/plain": [
       "True"
      ]
     },
     "execution_count": 26,
     "metadata": {},
     "output_type": "execute_result"
    }
   ],
   "source": [
    "4==4"
   ]
  },
  {
   "cell_type": "code",
   "execution_count": 25,
   "id": "d6cc3081",
   "metadata": {},
   "outputs": [
    {
     "name": "stdout",
     "output_type": "stream",
     "text": [
      "False\n"
     ]
    }
   ],
   "source": [
    "print(4==6)"
   ]
  },
  {
   "cell_type": "code",
   "execution_count": null,
   "id": "882b6240",
   "metadata": {},
   "outputs": [],
   "source": []
  },
  {
   "cell_type": "code",
   "execution_count": null,
   "id": "9e2eee01",
   "metadata": {},
   "outputs": [],
   "source": []
  },
  {
   "cell_type": "code",
   "execution_count": null,
   "id": "64d85d32",
   "metadata": {},
   "outputs": [],
   "source": []
  }
 ],
 "metadata": {
  "kernelspec": {
   "display_name": "Python 3 (ipykernel)",
   "language": "python",
   "name": "python3"
  },
  "language_info": {
   "codemirror_mode": {
    "name": "ipython",
    "version": 3
   },
   "file_extension": ".py",
   "mimetype": "text/x-python",
   "name": "python",
   "nbconvert_exporter": "python",
   "pygments_lexer": "ipython3",
   "version": "3.10.12"
  }
 },
 "nbformat": 4,
 "nbformat_minor": 5
}
