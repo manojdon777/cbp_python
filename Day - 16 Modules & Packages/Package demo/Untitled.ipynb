{
 "cells": [
  {
   "cell_type": "markdown",
   "id": "c9a80cfe",
   "metadata": {},
   "source": [
    "# 2. Package"
   ]
  },
  {
   "cell_type": "raw",
   "id": "d0d65ae7",
   "metadata": {},
   "source": [
    "- it collection of modules\n",
    "- it contains an empty file __init__.py"
   ]
  },
  {
   "cell_type": "code",
   "execution_count": 1,
   "id": "f9ec2683",
   "metadata": {},
   "outputs": [
    {
     "name": "stdout",
     "output_type": "stream",
     "text": [
      "Three largest elements are 678 89 76\n"
     ]
    }
   ],
   "source": [
    "import my_package.arraymodule as mpa\n",
    "list1 = [11,66,45,89,23,678,5,3,76,34]\n",
    "mpa.print3largest(list1)\n"
   ]
  },
  {
   "cell_type": "code",
   "execution_count": 2,
   "id": "29aba683",
   "metadata": {},
   "outputs": [
    {
     "name": "stdout",
     "output_type": "stream",
     "text": [
      "Strings are equal\n"
     ]
    }
   ],
   "source": [
    "import my_package.stringmodule as mp2\n",
    "mp2.isEqual('Abc', 'Abc')"
   ]
  },
  {
   "cell_type": "code",
   "execution_count": 3,
   "id": "c1f08b07",
   "metadata": {},
   "outputs": [
    {
     "name": "stdout",
     "output_type": "stream",
     "text": [
      "Strings are not equal\n"
     ]
    }
   ],
   "source": [
    "mp2.isEqual('Abc', 'ABc')"
   ]
  },
  {
   "cell_type": "code",
   "execution_count": 4,
   "id": "9a8945d9",
   "metadata": {},
   "outputs": [],
   "source": [
    "var1 = 0"
   ]
  },
  {
   "cell_type": "code",
   "execution_count": null,
   "id": "852c4926",
   "metadata": {},
   "outputs": [],
   "source": []
  },
  {
   "cell_type": "code",
   "execution_count": null,
   "id": "28250911",
   "metadata": {},
   "outputs": [],
   "source": []
  },
  {
   "cell_type": "code",
   "execution_count": null,
   "id": "df07aa80",
   "metadata": {},
   "outputs": [],
   "source": []
  },
  {
   "cell_type": "code",
   "execution_count": null,
   "id": "6c026459",
   "metadata": {},
   "outputs": [],
   "source": []
  },
  {
   "cell_type": "code",
   "execution_count": null,
   "id": "8ead7001",
   "metadata": {},
   "outputs": [],
   "source": []
  },
  {
   "cell_type": "code",
   "execution_count": 5,
   "id": "3b90ef36",
   "metadata": {},
   "outputs": [
    {
     "data": {
      "text/plain": [
       "0"
      ]
     },
     "execution_count": 5,
     "metadata": {},
     "output_type": "execute_result"
    }
   ],
   "source": [
    "var1"
   ]
  }
 ],
 "metadata": {
  "kernelspec": {
   "display_name": "Python 3 (ipykernel)",
   "language": "python",
   "name": "python3"
  },
  "language_info": {
   "codemirror_mode": {
    "name": "ipython",
    "version": 3
   },
   "file_extension": ".py",
   "mimetype": "text/x-python",
   "name": "python",
   "nbconvert_exporter": "python",
   "pygments_lexer": "ipython3",
   "version": "3.10.12"
  }
 },
 "nbformat": 4,
 "nbformat_minor": 5
}
