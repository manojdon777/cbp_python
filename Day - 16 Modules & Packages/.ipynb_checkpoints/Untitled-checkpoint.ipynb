{
 "cells": [
  {
   "cell_type": "raw",
   "id": "f32b6d87",
   "metadata": {},
   "source": [
    "For progarms refer to current directory"
   ]
  },
  {
   "cell_type": "code",
   "execution_count": 1,
   "id": "a28b749b",
   "metadata": {},
   "outputs": [],
   "source": [
    "import math"
   ]
  },
  {
   "cell_type": "code",
   "execution_count": 2,
   "id": "744d06e9",
   "metadata": {},
   "outputs": [
    {
     "data": {
      "text/plain": [
       "6.0"
      ]
     },
     "execution_count": 2,
     "metadata": {},
     "output_type": "execute_result"
    }
   ],
   "source": [
    "math.sqrt(36)"
   ]
  },
  {
   "cell_type": "code",
   "execution_count": 3,
   "id": "8dcc6627",
   "metadata": {},
   "outputs": [
    {
     "data": {
      "text/plain": [
       "3.141592653589793"
      ]
     },
     "execution_count": 3,
     "metadata": {},
     "output_type": "execute_result"
    }
   ],
   "source": [
    "math.pi"
   ]
  },
  {
   "cell_type": "markdown",
   "id": "c097340f",
   "metadata": {},
   "source": [
    "# 1. Module"
   ]
  },
  {
   "cell_type": "raw",
   "id": "01290561",
   "metadata": {},
   "source": [
    "Module - It is colletion of functions, classes, global variables"
   ]
  },
  {
   "cell_type": "code",
   "execution_count": null,
   "id": "c53e5c18",
   "metadata": {},
   "outputs": [],
   "source": [
    "Write functions, classes, and variables within python file whose extension is .py"
   ]
  },
  {
   "cell_type": "markdown",
   "id": "ed2a3aa0",
   "metadata": {},
   "source": [
    "## \\_\\_name\\_\\_"
   ]
  },
  {
   "cell_type": "markdown",
   "id": "95e7b900",
   "metadata": {},
   "source": [
    "If __name__ is written within module\n",
    "    - if same module being executed value of __name__ is \"__main__\"\n",
    "    - is same module is imported somewhere, value of __name__ is name of the same module"
   ]
  },
  {
   "cell_type": "code",
   "execution_count": 4,
   "id": "814d8320",
   "metadata": {},
   "outputs": [
    {
     "name": "stdout",
     "output_type": "stream",
     "text": [
      "6.082699999999997\n",
      "88\n",
      "33\n",
      "I am inside class of module\n"
     ]
    }
   ],
   "source": [
    "import mymodule\n",
    "\n",
    "print(mymodule.m_sqrt(37, 4))\n",
    "\n",
    "print(mymodule.m_add(33, 55))\n",
    "\n",
    "print(mymodule.m_sub(56, 23))\n",
    "\n",
    "object = mymodule.Person()\n",
    "object.fun()"
   ]
  },
  {
   "cell_type": "code",
   "execution_count": 5,
   "id": "0cc35172",
   "metadata": {},
   "outputs": [
    {
     "name": "stdout",
     "output_type": "stream",
     "text": [
      "6.082699999999997\n",
      "88\n",
      "33\n",
      "I am inside class of module\n"
     ]
    }
   ],
   "source": [
    "import mymodule as md\n",
    "\n",
    "\n",
    "print(md.m_sqrt(37, 4))\n",
    "\n",
    "print(md.m_add(33, 55))\n",
    "\n",
    "print(md.m_sub(56, 23))\n",
    "\n",
    "object = md.Person()\n",
    "object.fun()"
   ]
  },
  {
   "cell_type": "code",
   "execution_count": 6,
   "id": "05ddaa27",
   "metadata": {},
   "outputs": [
    {
     "name": "stdout",
     "output_type": "stream",
     "text": [
      "name__module\n",
      "name__module\n"
     ]
    }
   ],
   "source": [
    "import name__module\n",
    "name__module.call_me()"
   ]
  },
  {
   "cell_type": "code",
   "execution_count": 7,
   "id": "5549e24e",
   "metadata": {},
   "outputs": [
    {
     "name": "stdout",
     "output_type": "stream",
     "text": [
      "44\n"
     ]
    }
   ],
   "source": [
    "import module_calculator as mdc\n",
    "\n",
    "print(mdc.add(11,33))\n"
   ]
  },
  {
   "cell_type": "code",
   "execution_count": 9,
   "id": "67961dd7",
   "metadata": {},
   "outputs": [
    {
     "name": "stdout",
     "output_type": "stream",
     "text": [
      "77\n"
     ]
    }
   ],
   "source": [
    "from module_calculator import add\n",
    "print(add(44,33))"
   ]
  },
  {
   "cell_type": "code",
   "execution_count": 10,
   "id": "dc1f656d",
   "metadata": {},
   "outputs": [
    {
     "name": "stdout",
     "output_type": "stream",
     "text": [
      "1452\n"
     ]
    }
   ],
   "source": [
    "from module_calculator import add, mul\n",
    "print(mul(44,33))"
   ]
  }
 ],
 "metadata": {
  "kernelspec": {
   "display_name": "Python 3 (ipykernel)",
   "language": "python",
   "name": "python3"
  },
  "language_info": {
   "codemirror_mode": {
    "name": "ipython",
    "version": 3
   },
   "file_extension": ".py",
   "mimetype": "text/x-python",
   "name": "python",
   "nbconvert_exporter": "python",
   "pygments_lexer": "ipython3",
   "version": "3.10.12"
  }
 },
 "nbformat": 4,
 "nbformat_minor": 5
}
