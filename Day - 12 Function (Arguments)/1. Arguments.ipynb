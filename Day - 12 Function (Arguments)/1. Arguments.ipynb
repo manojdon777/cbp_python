{
 "cells": [
  {
   "cell_type": "code",
   "execution_count": 2,
   "id": "16d1b5ca",
   "metadata": {},
   "outputs": [
    {
     "name": "stdout",
     "output_type": "stream",
     "text": [
      "[1, 2, 3, 4, 5, 6, 7]\n"
     ]
    }
   ],
   "source": [
    "list_1 = [1,2,3,4,5,6,7]\n",
    "print(list_1)"
   ]
  },
  {
   "cell_type": "code",
   "execution_count": 3,
   "id": "037d8fdb",
   "metadata": {},
   "outputs": [
    {
     "name": "stdout",
     "output_type": "stream",
     "text": [
      "I am in functions\n"
     ]
    }
   ],
   "source": [
    "def display():\n",
    "    print('I am in functions')\n",
    "\n",
    "display()"
   ]
  },
  {
   "cell_type": "code",
   "execution_count": 4,
   "id": "c6df9e83",
   "metadata": {},
   "outputs": [
    {
     "name": "stdout",
     "output_type": "stream",
     "text": [
      "1 2 3 4 5 6 7 "
     ]
    }
   ],
   "source": [
    "def display():\n",
    "    list_1 = [1,2,3,4,5,6,7]\n",
    "    for i in list_1:\n",
    "        print(i, end = ' ')\n",
    "\n",
    "display()"
   ]
  },
  {
   "cell_type": "code",
   "execution_count": 8,
   "id": "b6f54f32",
   "metadata": {},
   "outputs": [
    {
     "name": "stdout",
     "output_type": "stream",
     "text": [
      "<class 'list'>\n"
     ]
    }
   ],
   "source": [
    "def display(var):\n",
    "    print(type(var))\n",
    "\n",
    "\n",
    "list_1 = [1,2,3,4,5,6,7]\n",
    "\n",
    "display(list_1)"
   ]
  },
  {
   "cell_type": "code",
   "execution_count": 9,
   "id": "60c47fd8",
   "metadata": {},
   "outputs": [
    {
     "name": "stdout",
     "output_type": "stream",
     "text": [
      "<class 'tuple'>\n"
     ]
    }
   ],
   "source": [
    "def display(var):\n",
    "    print(type(var))\n",
    "\n",
    "\n",
    "tu = (1,2,3,4,5,6,7)\n",
    "\n",
    "display(tu)"
   ]
  },
  {
   "cell_type": "code",
   "execution_count": 10,
   "id": "3b9fb313",
   "metadata": {},
   "outputs": [
    {
     "name": "stdout",
     "output_type": "stream",
     "text": [
      "1 2 3 4 5 6 7 "
     ]
    }
   ],
   "source": [
    "def display(var):    \n",
    "    for i in var:\n",
    "        print(i, end=' ')\n",
    "        \n",
    "list_1 = [1,2,3,4,5,6,7]\n",
    "display(list_1)"
   ]
  },
  {
   "cell_type": "code",
   "execution_count": 11,
   "id": "68aed0ad",
   "metadata": {},
   "outputs": [
    {
     "name": "stdout",
     "output_type": "stream",
     "text": [
      "1 2 3 4 5 6 7 "
     ]
    }
   ],
   "source": [
    "def display(var):    \n",
    "    for i in var:\n",
    "        print(i, end=' ')\n",
    "        \n",
    "\n",
    "display([1,2,3,4,5,6,7])"
   ]
  },
  {
   "cell_type": "code",
   "execution_count": null,
   "id": "caceb1a7",
   "metadata": {},
   "outputs": [],
   "source": [
    "def max(var):    \n",
    "    for i in var:\n",
    "        print(i, end=' ')\n",
    "        \n",
    "\n"
   ]
  },
  {
   "cell_type": "code",
   "execution_count": 12,
   "id": "6373f1ef",
   "metadata": {},
   "outputs": [
    {
     "name": "stdout",
     "output_type": "stream",
     "text": [
      "7\n"
     ]
    }
   ],
   "source": [
    "def my_max(list_1):\n",
    "    print(max(list_1))\n",
    "    \n",
    "    \n",
    "list_1 = [1,2,3,4,5,6,7]\n",
    "my_max(list_1)"
   ]
  },
  {
   "cell_type": "code",
   "execution_count": 13,
   "id": "a38b9e4c",
   "metadata": {},
   "outputs": [
    {
     "data": {
      "text/plain": [
       "7"
      ]
     },
     "execution_count": 13,
     "metadata": {},
     "output_type": "execute_result"
    }
   ],
   "source": [
    "def my_max(list_1):\n",
    "    return max(list_1)\n",
    "    \n",
    "    \n",
    "list_1 = [1,2,3,4,5,6,7]\n",
    "my_max(list_1)"
   ]
  },
  {
   "cell_type": "code",
   "execution_count": 14,
   "id": "0c1eb2d2",
   "metadata": {},
   "outputs": [
    {
     "name": "stdout",
     "output_type": "stream",
     "text": [
      "7\n"
     ]
    }
   ],
   "source": [
    "def my_max(list_1):\n",
    "    return max(list_1)\n",
    "    \n",
    "    \n",
    "list_1 = [1,2,3,4,5,6,7]\n",
    "abcd = my_max(list_1)\n",
    "print(abcd)"
   ]
  },
  {
   "cell_type": "code",
   "execution_count": 15,
   "id": "6a5c4f19",
   "metadata": {},
   "outputs": [
    {
     "name": "stdout",
     "output_type": "stream",
     "text": [
      "7\n"
     ]
    }
   ],
   "source": [
    "def my_max(list_1):\n",
    "    return max(list_1)\n",
    "    \n",
    "    \n",
    "list_1 = [1,2,3,4,5,6,7]\n",
    "print(my_max(list_1))"
   ]
  },
  {
   "cell_type": "code",
   "execution_count": 16,
   "id": "fa77f3bd",
   "metadata": {},
   "outputs": [
    {
     "name": "stdout",
     "output_type": "stream",
     "text": [
      "1 4 9 16 25 36 49 "
     ]
    }
   ],
   "source": [
    "\n",
    "def square_of_each(var):\n",
    "    for i in var:\n",
    "        print(i*i, end = ' ')\n",
    "\n",
    "list_1 = [1,2,3,4,5,6,7]\n",
    "\n",
    "square_of_each(list_1)"
   ]
  },
  {
   "cell_type": "code",
   "execution_count": 17,
   "id": "30c00fb2",
   "metadata": {},
   "outputs": [
    {
     "name": "stdout",
     "output_type": "stream",
     "text": [
      "[1, 4, 9, 16, 25, 36, 49]\n"
     ]
    }
   ],
   "source": [
    "def square_of_each(var):\n",
    "    new_list = []\n",
    "    for i in var:\n",
    "        new_list.append(i*i)\n",
    "    return new_list\n",
    "        \n",
    "        \n",
    "list_1 = [1,2,3,4,5,6,7]\n",
    "\n",
    "print(square_of_each(list_1))"
   ]
  },
  {
   "cell_type": "code",
   "execution_count": 23,
   "id": "058408a5",
   "metadata": {},
   "outputs": [
    {
     "name": "stdout",
     "output_type": "stream",
     "text": [
      "77\n"
     ]
    }
   ],
   "source": [
    "def my_sum(a,b):\n",
    "    my_ans = a+b\n",
    "    return my_ans\n",
    "\n",
    "print(my_sum(22,55))"
   ]
  },
  {
   "cell_type": "code",
   "execution_count": 19,
   "id": "0ee9f38a",
   "metadata": {},
   "outputs": [
    {
     "name": "stdout",
     "output_type": "stream",
     "text": [
      "467\n"
     ]
    }
   ],
   "source": [
    "def my_sum(a,b):\n",
    "    return a + b\n",
    "\n",
    "print(my_sum(11,456))"
   ]
  },
  {
   "cell_type": "code",
   "execution_count": 20,
   "id": "1477374a",
   "metadata": {},
   "outputs": [
    {
     "name": "stdout",
     "output_type": "stream",
     "text": [
      "23\n"
     ]
    }
   ],
   "source": [
    "def without_args():\n",
    "    return 23\n",
    "\n",
    "print(without_args())"
   ]
  },
  {
   "cell_type": "code",
   "execution_count": 21,
   "id": "28f35e4a",
   "metadata": {},
   "outputs": [
    {
     "name": "stdout",
     "output_type": "stream",
     "text": [
      "abcd -sodig\n"
     ]
    }
   ],
   "source": [
    "def without_args():\n",
    "    return 'abcd -sodig'\n",
    "\n",
    "print(without_args())"
   ]
  },
  {
   "cell_type": "code",
   "execution_count": 24,
   "id": "db9ae1df",
   "metadata": {},
   "outputs": [
    {
     "name": "stdout",
     "output_type": "stream",
     "text": [
      "22\n"
     ]
    }
   ],
   "source": [
    "def fun():\n",
    "    return 22\n",
    "\n",
    "print(fun())"
   ]
  },
  {
   "cell_type": "code",
   "execution_count": 25,
   "id": "d2a01a49",
   "metadata": {},
   "outputs": [
    {
     "name": "stdout",
     "output_type": "stream",
     "text": [
      "(22, 34)\n"
     ]
    }
   ],
   "source": [
    "def fun():\n",
    "    return 22, 34\n",
    "\n",
    "print(fun())"
   ]
  },
  {
   "cell_type": "code",
   "execution_count": 26,
   "id": "bce75cfd",
   "metadata": {},
   "outputs": [
    {
     "name": "stdout",
     "output_type": "stream",
     "text": [
      "<class 'tuple'>\n"
     ]
    }
   ],
   "source": [
    "def fun():\n",
    "    return 22, 34\n",
    "\n",
    "print(type(fun()))"
   ]
  },
  {
   "cell_type": "code",
   "execution_count": 27,
   "id": "250e8024",
   "metadata": {},
   "outputs": [
    {
     "name": "stdout",
     "output_type": "stream",
     "text": [
      "(22, 34, 'abc xyz')\n"
     ]
    }
   ],
   "source": [
    "def fun():\n",
    "    return 22, 34, 'abc xyz'\n",
    "\n",
    "print(fun())"
   ]
  },
  {
   "cell_type": "code",
   "execution_count": 28,
   "id": "839d034f",
   "metadata": {},
   "outputs": [
    {
     "name": "stdout",
     "output_type": "stream",
     "text": [
      "22 34\n"
     ]
    }
   ],
   "source": [
    "def fun():\n",
    "    return 22, 34\n",
    "\n",
    "first, second = fun()\n",
    "\n",
    "print(first, second)"
   ]
  },
  {
   "cell_type": "code",
   "execution_count": 29,
   "id": "6751a1b0",
   "metadata": {},
   "outputs": [
    {
     "name": "stdout",
     "output_type": "stream",
     "text": [
      "22 34 78\n"
     ]
    }
   ],
   "source": [
    "def fun():\n",
    "    return 22, 34, 78\n",
    "\n",
    "first, second, third = fun()\n",
    "\n",
    "print(first, second, third)"
   ]
  },
  {
   "cell_type": "code",
   "execution_count": 30,
   "id": "e9a9fd54",
   "metadata": {},
   "outputs": [
    {
     "name": "stdout",
     "output_type": "stream",
     "text": [
      "(22, 34, 78)\n"
     ]
    }
   ],
   "source": [
    "def fun():\n",
    "    return 22, 34, 78\n",
    "\n",
    "first = fun()\n",
    "\n",
    "print(first)"
   ]
  },
  {
   "cell_type": "code",
   "execution_count": 31,
   "id": "682cbbe6",
   "metadata": {},
   "outputs": [
    {
     "ename": "ValueError",
     "evalue": "too many values to unpack (expected 2)",
     "output_type": "error",
     "traceback": [
      "\u001b[0;31m---------------------------------------------------------------------------\u001b[0m",
      "\u001b[0;31mValueError\u001b[0m                                Traceback (most recent call last)",
      "\u001b[0;32m/tmp/ipykernel_559439/3536534143.py\u001b[0m in \u001b[0;36m<module>\u001b[0;34m\u001b[0m\n\u001b[1;32m      2\u001b[0m     \u001b[0;32mreturn\u001b[0m \u001b[0;36m22\u001b[0m\u001b[0;34m,\u001b[0m \u001b[0;36m34\u001b[0m\u001b[0;34m,\u001b[0m \u001b[0;36m78\u001b[0m\u001b[0;34m\u001b[0m\u001b[0;34m\u001b[0m\u001b[0m\n\u001b[1;32m      3\u001b[0m \u001b[0;34m\u001b[0m\u001b[0m\n\u001b[0;32m----> 4\u001b[0;31m \u001b[0mfirst\u001b[0m\u001b[0;34m,\u001b[0m \u001b[0msecond\u001b[0m \u001b[0;34m=\u001b[0m \u001b[0mfun\u001b[0m\u001b[0;34m(\u001b[0m\u001b[0;34m)\u001b[0m\u001b[0;34m\u001b[0m\u001b[0;34m\u001b[0m\u001b[0m\n\u001b[0m\u001b[1;32m      5\u001b[0m \u001b[0;34m\u001b[0m\u001b[0m\n\u001b[1;32m      6\u001b[0m \u001b[0mprint\u001b[0m\u001b[0;34m(\u001b[0m\u001b[0mfirst\u001b[0m\u001b[0;34m)\u001b[0m\u001b[0;34m\u001b[0m\u001b[0;34m\u001b[0m\u001b[0m\n",
      "\u001b[0;31mValueError\u001b[0m: too many values to unpack (expected 2)"
     ]
    }
   ],
   "source": [
    "def fun():\n",
    "    return 22, 34, 78\n",
    "\n",
    "first, second = fun()\n",
    "\n",
    "print(first)"
   ]
  },
  {
   "cell_type": "code",
   "execution_count": 32,
   "id": "b6009444",
   "metadata": {},
   "outputs": [
    {
     "name": "stdout",
     "output_type": "stream",
     "text": [
      "22\n"
     ]
    }
   ],
   "source": [
    "def fun():\n",
    "    return 22, 34, 78\n",
    "\n",
    "first, second, third = fun()\n",
    "\n",
    "print(first)"
   ]
  },
  {
   "cell_type": "code",
   "execution_count": 34,
   "id": "86461967",
   "metadata": {},
   "outputs": [
    {
     "name": "stdout",
     "output_type": "stream",
     "text": [
      "22 abc {'amay': 34, 'suman': 45}\n"
     ]
    }
   ],
   "source": [
    "def fun():\n",
    "    return 22, 'abc', {'amay': 34, 'suman': 45}\n",
    "\n",
    "first, second, third = fun()\n",
    "\n",
    "print(first, second, third)"
   ]
  },
  {
   "cell_type": "code",
   "execution_count": 35,
   "id": "c9e7e355",
   "metadata": {},
   "outputs": [
    {
     "name": "stdout",
     "output_type": "stream",
     "text": [
      "{'amay': 34, 'suman': 45}\n"
     ]
    }
   ],
   "source": [
    "def fun():\n",
    "    return 22, 'abc', {'amay': 34, 'suman': 45}\n",
    "\n",
    "first, second, third = fun()\n",
    "\n",
    "print(third)"
   ]
  },
  {
   "cell_type": "code",
   "execution_count": 36,
   "id": "3ce242b9",
   "metadata": {},
   "outputs": [
    {
     "name": "stdout",
     "output_type": "stream",
     "text": [
      "<class 'tuple'>\n"
     ]
    }
   ],
   "source": [
    "def fun():\n",
    "    return 22, 'abc', {'amay': 34, 'suman': 45}\n",
    "\n",
    "single = fun()\n",
    "\n",
    "print(type(single))"
   ]
  },
  {
   "cell_type": "code",
   "execution_count": 37,
   "id": "55ccea34",
   "metadata": {},
   "outputs": [
    {
     "name": "stdout",
     "output_type": "stream",
     "text": [
      "<class 'int'> <class 'str'> <class 'dict'>\n"
     ]
    }
   ],
   "source": [
    "def fun():\n",
    "    return 22, 'abc', {'amay': 34, 'suman': 45}\n",
    "\n",
    "first, second, third = fun()\n",
    "\n",
    "print(type(first), type(second), type(third))"
   ]
  },
  {
   "cell_type": "code",
   "execution_count": 38,
   "id": "fe23d743",
   "metadata": {},
   "outputs": [
    {
     "name": "stdout",
     "output_type": "stream",
     "text": [
      "15\n"
     ]
    }
   ],
   "source": [
    "def my_list_sum(l):\n",
    "    my_sum = 0\n",
    "    for i in l:\n",
    "        my_sum += i\n",
    "    return my_sum\n",
    "\n",
    "print(my_list_sum([1,2,3,4,5]))"
   ]
  },
  {
   "cell_type": "code",
   "execution_count": 40,
   "id": "7a5a1aaf",
   "metadata": {},
   "outputs": [
    {
     "name": "stdout",
     "output_type": "stream",
     "text": [
      "5050\n"
     ]
    }
   ],
   "source": [
    "def my_list_sum(l):\n",
    "    my_sum = 0\n",
    "    for i in l:\n",
    "        my_sum += i\n",
    "    return my_sum\n",
    "\n",
    "print(my_list_sum([i for i in range(1,101)]))"
   ]
  },
  {
   "cell_type": "markdown",
   "id": "78ffea8a",
   "metadata": {},
   "source": [
    "## Enumerate"
   ]
  },
  {
   "cell_type": "code",
   "execution_count": 68,
   "id": "5c8e60ec",
   "metadata": {},
   "outputs": [
    {
     "name": "stdout",
     "output_type": "stream",
     "text": [
      "1 2 3 4 5 "
     ]
    }
   ],
   "source": [
    "t = (1,2,3,4,5)\n",
    "\n",
    "for i in t:\n",
    "    print(i, end =' ')\n"
   ]
  },
  {
   "cell_type": "code",
   "execution_count": 71,
   "id": "c8d32668",
   "metadata": {},
   "outputs": [
    {
     "name": "stdout",
     "output_type": "stream",
     "text": [
      "0 11\n",
      "1 22\n",
      "2 33\n",
      "3 44\n",
      "4 55\n"
     ]
    }
   ],
   "source": [
    "t = (11,22,33,44,55)\n",
    "    \n",
    "for i in range(len(t)):\n",
    "    print(i, t[i])\n"
   ]
  },
  {
   "cell_type": "code",
   "execution_count": 72,
   "id": "f0eda77c",
   "metadata": {},
   "outputs": [
    {
     "name": "stdout",
     "output_type": "stream",
     "text": [
      "0 11\n",
      "1 22\n",
      "2 33\n",
      "3 44\n",
      "4 55\n"
     ]
    }
   ],
   "source": [
    "t = (11,22,33,44,55)\n",
    "    \n",
    "for i, j in enumerate(t):\n",
    "    print(i, j)\n"
   ]
  },
  {
   "cell_type": "code",
   "execution_count": 73,
   "id": "03c2cc53",
   "metadata": {},
   "outputs": [
    {
     "name": "stdout",
     "output_type": "stream",
     "text": [
      "(0, 11)\n",
      "(1, 22)\n",
      "(2, 33)\n",
      "(3, 44)\n",
      "(4, 55)\n"
     ]
    }
   ],
   "source": [
    "t = (11,22,33,44,55)\n",
    "    \n",
    "for single_var in enumerate(t):\n",
    "    print(single_var)\n"
   ]
  },
  {
   "cell_type": "markdown",
   "id": "249c9e4e",
   "metadata": {},
   "source": [
    "## Anonymous function"
   ]
  },
  {
   "cell_type": "code",
   "execution_count": null,
   "id": "5826a3fc",
   "metadata": {},
   "outputs": [],
   "source": [
    "- no name of function\n",
    "- created using keyword lambda\n",
    "- "
   ]
  },
  {
   "cell_type": "code",
   "execution_count": null,
   "id": "6ea67e7b",
   "metadata": {},
   "outputs": [],
   "source": [
    "syntax\n",
    "lambda [variables names separated by comma]: expression"
   ]
  },
  {
   "cell_type": "code",
   "execution_count": 74,
   "id": "420bb5c9",
   "metadata": {},
   "outputs": [
    {
     "name": "stdout",
     "output_type": "stream",
     "text": [
      "12\n"
     ]
    }
   ],
   "source": [
    "temp = lambda x: x+2\n",
    "print(temp(10))"
   ]
  },
  {
   "cell_type": "code",
   "execution_count": 75,
   "id": "1098a240",
   "metadata": {},
   "outputs": [
    {
     "name": "stdout",
     "output_type": "stream",
     "text": [
      "100\n"
     ]
    }
   ],
   "source": [
    "temp = lambda x: x*x\n",
    "print(temp(10))"
   ]
  },
  {
   "cell_type": "code",
   "execution_count": 76,
   "id": "c08c7e63",
   "metadata": {},
   "outputs": [
    {
     "name": "stdout",
     "output_type": "stream",
     "text": [
      "40\n"
     ]
    }
   ],
   "source": [
    "temp = lambda x,y:x+y\n",
    "print(temp(10,30))"
   ]
  },
  {
   "cell_type": "code",
   "execution_count": 77,
   "id": "9334f547",
   "metadata": {},
   "outputs": [
    {
     "name": "stdout",
     "output_type": "stream",
     "text": [
      "21\n"
     ]
    }
   ],
   "source": [
    "temp = lambda a,b,c,d,e,f : a+b+c+d+e+f\n",
    "print(temp(1,2,3,4,5,6))"
   ]
  },
  {
   "cell_type": "code",
   "execution_count": 78,
   "id": "ddbc625b",
   "metadata": {},
   "outputs": [
    {
     "ename": "TypeError",
     "evalue": "<lambda>() missing 1 required positional argument: 'f'",
     "output_type": "error",
     "traceback": [
      "\u001b[0;31m---------------------------------------------------------------------------\u001b[0m",
      "\u001b[0;31mTypeError\u001b[0m                                 Traceback (most recent call last)",
      "\u001b[0;32m/tmp/ipykernel_559439/843769149.py\u001b[0m in \u001b[0;36m<module>\u001b[0;34m\u001b[0m\n\u001b[1;32m      1\u001b[0m \u001b[0mtemp\u001b[0m \u001b[0;34m=\u001b[0m \u001b[0;32mlambda\u001b[0m \u001b[0ma\u001b[0m\u001b[0;34m,\u001b[0m\u001b[0mb\u001b[0m\u001b[0;34m,\u001b[0m\u001b[0mc\u001b[0m\u001b[0;34m,\u001b[0m\u001b[0md\u001b[0m\u001b[0;34m,\u001b[0m\u001b[0me\u001b[0m\u001b[0;34m,\u001b[0m\u001b[0mf\u001b[0m \u001b[0;34m:\u001b[0m \u001b[0ma\u001b[0m\u001b[0;34m+\u001b[0m\u001b[0mb\u001b[0m\u001b[0;34m+\u001b[0m\u001b[0mc\u001b[0m\u001b[0;34m+\u001b[0m\u001b[0md\u001b[0m\u001b[0;34m+\u001b[0m\u001b[0me\u001b[0m\u001b[0;34m+\u001b[0m\u001b[0mf\u001b[0m\u001b[0;34m\u001b[0m\u001b[0;34m\u001b[0m\u001b[0m\n\u001b[0;32m----> 2\u001b[0;31m \u001b[0mprint\u001b[0m\u001b[0;34m(\u001b[0m\u001b[0mtemp\u001b[0m\u001b[0;34m(\u001b[0m\u001b[0;36m1\u001b[0m\u001b[0;34m,\u001b[0m\u001b[0;36m2\u001b[0m\u001b[0;34m,\u001b[0m\u001b[0;36m3\u001b[0m\u001b[0;34m,\u001b[0m\u001b[0;36m4\u001b[0m\u001b[0;34m,\u001b[0m\u001b[0;36m5\u001b[0m\u001b[0;34m)\u001b[0m\u001b[0;34m)\u001b[0m\u001b[0;34m\u001b[0m\u001b[0;34m\u001b[0m\u001b[0m\n\u001b[0m",
      "\u001b[0;31mTypeError\u001b[0m: <lambda>() missing 1 required positional argument: 'f'"
     ]
    }
   ],
   "source": [
    "temp = lambda a,b,c,d,e,f : a+b+c+d+e+f\n",
    "print(temp(1,2,3,4,5))"
   ]
  },
  {
   "cell_type": "code",
   "execution_count": 79,
   "id": "09dac215",
   "metadata": {},
   "outputs": [
    {
     "ename": "TypeError",
     "evalue": "<lambda>() missing 1 required positional argument: 'b'",
     "output_type": "error",
     "traceback": [
      "\u001b[0;31m---------------------------------------------------------------------------\u001b[0m",
      "\u001b[0;31mTypeError\u001b[0m                                 Traceback (most recent call last)",
      "\u001b[0;32m/tmp/ipykernel_559439/742307081.py\u001b[0m in \u001b[0;36m<module>\u001b[0;34m\u001b[0m\n\u001b[1;32m      1\u001b[0m \u001b[0mtemp\u001b[0m \u001b[0;34m=\u001b[0m \u001b[0;32mlambda\u001b[0m \u001b[0ma\u001b[0m\u001b[0;34m,\u001b[0m\u001b[0mb\u001b[0m \u001b[0;34m:\u001b[0m \u001b[0ma\u001b[0m\u001b[0;34m+\u001b[0m\u001b[0mb\u001b[0m\u001b[0;34m\u001b[0m\u001b[0;34m\u001b[0m\u001b[0m\n\u001b[0;32m----> 2\u001b[0;31m \u001b[0mprint\u001b[0m\u001b[0;34m(\u001b[0m\u001b[0mtemp\u001b[0m\u001b[0;34m(\u001b[0m\u001b[0;36m100\u001b[0m\u001b[0;34m)\u001b[0m\u001b[0;34m)\u001b[0m\u001b[0;34m\u001b[0m\u001b[0;34m\u001b[0m\u001b[0m\n\u001b[0m",
      "\u001b[0;31mTypeError\u001b[0m: <lambda>() missing 1 required positional argument: 'b'"
     ]
    }
   ],
   "source": [
    "temp = lambda a,b : a+b\n",
    "print(temp(100))"
   ]
  },
  {
   "cell_type": "code",
   "execution_count": 80,
   "id": "b1605309",
   "metadata": {},
   "outputs": [
    {
     "name": "stdout",
     "output_type": "stream",
     "text": [
      "300\n"
     ]
    }
   ],
   "source": [
    "temp = lambda a,b : a+b\n",
    "print(temp(100, 200))"
   ]
  },
  {
   "cell_type": "code",
   "execution_count": 81,
   "id": "18727185",
   "metadata": {},
   "outputs": [
    {
     "name": "stdout",
     "output_type": "stream",
     "text": [
      "200\n"
     ]
    }
   ],
   "source": [
    "temp = lambda a,b : a+a\n",
    "print(temp(100, 200))"
   ]
  },
  {
   "cell_type": "code",
   "execution_count": 82,
   "id": "7b2ed730",
   "metadata": {},
   "outputs": [
    {
     "name": "stdout",
     "output_type": "stream",
     "text": [
      "666\n"
     ]
    }
   ],
   "source": [
    "temp = lambda a,b : a+a\n",
    "print(temp(333, 200))"
   ]
  },
  {
   "cell_type": "code",
   "execution_count": 83,
   "id": "5fd3a1de",
   "metadata": {},
   "outputs": [
    {
     "ename": "TypeError",
     "evalue": "<lambda>() takes 2 positional arguments but 3 were given",
     "output_type": "error",
     "traceback": [
      "\u001b[0;31m---------------------------------------------------------------------------\u001b[0m",
      "\u001b[0;31mTypeError\u001b[0m                                 Traceback (most recent call last)",
      "\u001b[0;32m/tmp/ipykernel_559439/3806942474.py\u001b[0m in \u001b[0;36m<module>\u001b[0;34m\u001b[0m\n\u001b[1;32m      1\u001b[0m \u001b[0mtemp\u001b[0m \u001b[0;34m=\u001b[0m \u001b[0;32mlambda\u001b[0m \u001b[0ma\u001b[0m\u001b[0;34m,\u001b[0m\u001b[0mb\u001b[0m \u001b[0;34m:\u001b[0m \u001b[0ma\u001b[0m\u001b[0;34m+\u001b[0m\u001b[0ma\u001b[0m\u001b[0;34m\u001b[0m\u001b[0;34m\u001b[0m\u001b[0m\n\u001b[0;32m----> 2\u001b[0;31m \u001b[0mprint\u001b[0m\u001b[0;34m(\u001b[0m\u001b[0mtemp\u001b[0m\u001b[0;34m(\u001b[0m\u001b[0;36m333\u001b[0m\u001b[0;34m,\u001b[0m \u001b[0;36m200\u001b[0m\u001b[0;34m,\u001b[0m \u001b[0;36m457\u001b[0m\u001b[0;34m)\u001b[0m\u001b[0;34m)\u001b[0m\u001b[0;34m\u001b[0m\u001b[0;34m\u001b[0m\u001b[0m\n\u001b[0m",
      "\u001b[0;31mTypeError\u001b[0m: <lambda>() takes 2 positional arguments but 3 were given"
     ]
    }
   ],
   "source": [
    "temp = lambda a,b : a+a\n",
    "print(temp(333, 200, 457))"
   ]
  },
  {
   "cell_type": "code",
   "execution_count": 84,
   "id": "328103ab",
   "metadata": {},
   "outputs": [
    {
     "name": "stdout",
     "output_type": "stream",
     "text": [
      "45\n"
     ]
    }
   ],
   "source": [
    "temp = lambda a,b : a if a>b else b\n",
    "print(temp(11,45))"
   ]
  },
  {
   "cell_type": "code",
   "execution_count": 85,
   "id": "62575c50",
   "metadata": {},
   "outputs": [
    {
     "name": "stdout",
     "output_type": "stream",
     "text": [
      "45\n"
     ]
    }
   ],
   "source": [
    "temp = lambda a,b : a if a>b else b\n",
    "print(temp(45, 11))"
   ]
  },
  {
   "cell_type": "code",
   "execution_count": 86,
   "id": "9253f529",
   "metadata": {},
   "outputs": [
    {
     "name": "stdout",
     "output_type": "stream",
     "text": [
      "[0, 1, 2, 3, 4, 5, 6, 7, 8, 9]\n"
     ]
    }
   ],
   "source": [
    "temp = lambda x : [i for i in range(x)]\n",
    "\n",
    "print(temp(10))"
   ]
  },
  {
   "cell_type": "code",
   "execution_count": 87,
   "id": "d314aeef",
   "metadata": {},
   "outputs": [
    {
     "name": "stdout",
     "output_type": "stream",
     "text": [
      "[0, 1, 4, 9, 16, 25, 36, 49, 64, 81]\n"
     ]
    }
   ],
   "source": [
    "temp = lambda x : [i*i for i in range(x)]\n",
    "\n",
    "print(temp(10))"
   ]
  },
  {
   "cell_type": "code",
   "execution_count": 88,
   "id": "cec2ee4b",
   "metadata": {},
   "outputs": [
    {
     "name": "stdout",
     "output_type": "stream",
     "text": [
      "[1, 4, 9, 16, 25, 36, 49, 64, 81, 100]\n"
     ]
    }
   ],
   "source": [
    "temp = lambda x : [i*i for i in range(1, x+1)]\n",
    "\n",
    "print(temp(10))"
   ]
  },
  {
   "cell_type": "code",
   "execution_count": 94,
   "id": "c568495f",
   "metadata": {},
   "outputs": [
    {
     "name": "stdout",
     "output_type": "stream",
     "text": [
      "['ram', 'ram', 'ram']\n"
     ]
    }
   ],
   "source": [
    "list1 = [['aman', 'suman', 'ram'],[33,24,56],[13000, 40000, 36000]]\n",
    "temp = lambda x: [x[0][-1] for i in x]\n",
    "print(temp(list1))"
   ]
  },
  {
   "cell_type": "code",
   "execution_count": null,
   "id": "c397b7ce",
   "metadata": {},
   "outputs": [],
   "source": []
  },
  {
   "cell_type": "code",
   "execution_count": null,
   "id": "2a497a04",
   "metadata": {},
   "outputs": [],
   "source": []
  },
  {
   "cell_type": "markdown",
   "id": "40bbfb1a",
   "metadata": {},
   "source": [
    "## scope of variable"
   ]
  },
  {
   "cell_type": "code",
   "execution_count": null,
   "id": "8991fb7b",
   "metadata": {},
   "outputs": [],
   "source": [
    "def fun():\n",
    "    pass\n",
    "    \n",
    "class abc:\n",
    "    pass\n",
    "\n",
    "for in range(10):    \n",
    "    pass\n",
    "\n",
    "while True:\n",
    "    pass\n"
   ]
  },
  {
   "cell_type": "code",
   "execution_count": 41,
   "id": "84ff1251",
   "metadata": {},
   "outputs": [
    {
     "name": "stdout",
     "output_type": "stream",
     "text": [
      "9\n"
     ]
    }
   ],
   "source": [
    "for i in range(5):\n",
    "    x = 9\n",
    "print(x)"
   ]
  },
  {
   "cell_type": "markdown",
   "id": "d59dddd5",
   "metadata": {},
   "source": [
    "### local variable and global variable"
   ]
  },
  {
   "cell_type": "code",
   "execution_count": null,
   "id": "a7481d89",
   "metadata": {},
   "outputs": [],
   "source": [
    "global variable:\n",
    "    - live throughout entire progarm\n",
    "local variable:\n",
    "    - live withing limited block or indentation of function or class"
   ]
  },
  {
   "cell_type": "code",
   "execution_count": 42,
   "id": "d08ed6cf",
   "metadata": {},
   "outputs": [
    {
     "ename": "NameError",
     "evalue": "name 'var_xyz' is not defined",
     "output_type": "error",
     "traceback": [
      "\u001b[0;31m---------------------------------------------------------------------------\u001b[0m",
      "\u001b[0;31mNameError\u001b[0m                                 Traceback (most recent call last)",
      "\u001b[0;32m/tmp/ipykernel_559439/1541612313.py\u001b[0m in \u001b[0;36m<module>\u001b[0;34m\u001b[0m\n\u001b[1;32m      2\u001b[0m     \u001b[0mvar_xyz\u001b[0m \u001b[0;34m=\u001b[0m \u001b[0;36m0\u001b[0m\u001b[0;34m\u001b[0m\u001b[0;34m\u001b[0m\u001b[0m\n\u001b[1;32m      3\u001b[0m \u001b[0;34m\u001b[0m\u001b[0m\n\u001b[0;32m----> 4\u001b[0;31m \u001b[0mprint\u001b[0m\u001b[0;34m(\u001b[0m\u001b[0mvar_xyz\u001b[0m\u001b[0;34m)\u001b[0m\u001b[0;34m\u001b[0m\u001b[0;34m\u001b[0m\u001b[0m\n\u001b[0m",
      "\u001b[0;31mNameError\u001b[0m: name 'var_xyz' is not defined"
     ]
    }
   ],
   "source": [
    "def fun():\n",
    "    var_xyz = 0 # local variable\n",
    "    \n",
    "print(var_xyz)"
   ]
  },
  {
   "cell_type": "code",
   "execution_count": 43,
   "id": "01f20ad0",
   "metadata": {},
   "outputs": [
    {
     "name": "stdout",
     "output_type": "stream",
     "text": [
      "10\n"
     ]
    }
   ],
   "source": [
    "def fun_1():\n",
    "    print(my_var_1)\n",
    "    \n",
    "my_var_1 = 10 # global variable\n",
    "print(my_var_1)"
   ]
  },
  {
   "cell_type": "code",
   "execution_count": 44,
   "id": "fbd5ebad",
   "metadata": {},
   "outputs": [
    {
     "name": "stdout",
     "output_type": "stream",
     "text": [
      "10\n"
     ]
    }
   ],
   "source": [
    "a = 10\n",
    "def fun():\n",
    "    print(a)\n",
    "\n",
    "fun()"
   ]
  },
  {
   "cell_type": "code",
   "execution_count": 45,
   "id": "e66be298",
   "metadata": {},
   "outputs": [
    {
     "name": "stdout",
     "output_type": "stream",
     "text": [
      "45\n"
     ]
    }
   ],
   "source": [
    "a = 10\n",
    "def fun():\n",
    "    a = 45\n",
    "    print(a)\n",
    "\n",
    "fun()"
   ]
  },
  {
   "cell_type": "code",
   "execution_count": 65,
   "id": "d2d073fb",
   "metadata": {},
   "outputs": [
    {
     "ename": "UnboundLocalError",
     "evalue": "local variable 'a' referenced before assignment",
     "output_type": "error",
     "traceback": [
      "\u001b[0;31m---------------------------------------------------------------------------\u001b[0m",
      "\u001b[0;31mUnboundLocalError\u001b[0m                         Traceback (most recent call last)",
      "\u001b[0;32m/tmp/ipykernel_559439/641323725.py\u001b[0m in \u001b[0;36m<module>\u001b[0;34m\u001b[0m\n\u001b[1;32m      6\u001b[0m \u001b[0;34m\u001b[0m\u001b[0m\n\u001b[1;32m      7\u001b[0m \u001b[0;31m# print(a)\u001b[0m\u001b[0;34m\u001b[0m\u001b[0;34m\u001b[0m\u001b[0m\n\u001b[0;32m----> 8\u001b[0;31m \u001b[0mfun_123\u001b[0m\u001b[0;34m(\u001b[0m\u001b[0;34m)\u001b[0m\u001b[0;34m\u001b[0m\u001b[0;34m\u001b[0m\u001b[0m\n\u001b[0m",
      "\u001b[0;32m/tmp/ipykernel_559439/641323725.py\u001b[0m in \u001b[0;36mfun_123\u001b[0;34m()\u001b[0m\n\u001b[1;32m      1\u001b[0m \u001b[0ma\u001b[0m \u001b[0;34m=\u001b[0m \u001b[0;36m10\u001b[0m\u001b[0;34m\u001b[0m\u001b[0;34m\u001b[0m\u001b[0m\n\u001b[1;32m      2\u001b[0m \u001b[0;32mdef\u001b[0m \u001b[0mfun_123\u001b[0m\u001b[0;34m(\u001b[0m\u001b[0;34m)\u001b[0m\u001b[0;34m:\u001b[0m\u001b[0;34m\u001b[0m\u001b[0;34m\u001b[0m\u001b[0m\n\u001b[0;32m----> 3\u001b[0;31m     \u001b[0mprint\u001b[0m\u001b[0;34m(\u001b[0m\u001b[0ma\u001b[0m\u001b[0;34m)\u001b[0m\u001b[0;34m\u001b[0m\u001b[0;34m\u001b[0m\u001b[0m\n\u001b[0m\u001b[1;32m      4\u001b[0m     \u001b[0ma\u001b[0m \u001b[0;34m=\u001b[0m \u001b[0;36m55\u001b[0m\u001b[0;34m\u001b[0m\u001b[0;34m\u001b[0m\u001b[0m\n\u001b[1;32m      5\u001b[0m     \u001b[0mprint\u001b[0m\u001b[0;34m(\u001b[0m\u001b[0ma\u001b[0m\u001b[0;34m)\u001b[0m\u001b[0;34m\u001b[0m\u001b[0;34m\u001b[0m\u001b[0m\n",
      "\u001b[0;31mUnboundLocalError\u001b[0m: local variable 'a' referenced before assignment"
     ]
    }
   ],
   "source": [
    "a = 10\n",
    "def fun_123():\n",
    "    print(a)\n",
    "    a = 55\n",
    "    print(a)\n",
    "    \n",
    "# print(a)\n",
    "fun_123()    "
   ]
  },
  {
   "cell_type": "code",
   "execution_count": null,
   "id": "a3cf71e0",
   "metadata": {},
   "outputs": [],
   "source": []
  },
  {
   "cell_type": "code",
   "execution_count": null,
   "id": "4f1f9922",
   "metadata": {},
   "outputs": [],
   "source": []
  },
  {
   "cell_type": "code",
   "execution_count": null,
   "id": "6a3b656f",
   "metadata": {},
   "outputs": [],
   "source": []
  },
  {
   "cell_type": "code",
   "execution_count": null,
   "id": "4a34a6c3",
   "metadata": {},
   "outputs": [],
   "source": []
  },
  {
   "cell_type": "code",
   "execution_count": null,
   "id": "b6c0c69e",
   "metadata": {},
   "outputs": [],
   "source": []
  },
  {
   "cell_type": "markdown",
   "id": "cb08bda3",
   "metadata": {},
   "source": [
    "## Arguments"
   ]
  },
  {
   "cell_type": "code",
   "execution_count": null,
   "id": "7a6405ad",
   "metadata": {},
   "outputs": [],
   "source": []
  },
  {
   "cell_type": "code",
   "execution_count": null,
   "id": "fc400c06",
   "metadata": {},
   "outputs": [],
   "source": []
  },
  {
   "cell_type": "code",
   "execution_count": null,
   "id": "1a9ede8e",
   "metadata": {},
   "outputs": [],
   "source": []
  },
  {
   "cell_type": "code",
   "execution_count": null,
   "id": "34cef09d",
   "metadata": {},
   "outputs": [],
   "source": []
  },
  {
   "cell_type": "code",
   "execution_count": null,
   "id": "e68d36bc",
   "metadata": {},
   "outputs": [],
   "source": []
  }
 ],
 "metadata": {
  "kernelspec": {
   "display_name": "Python 3 (ipykernel)",
   "language": "python",
   "name": "python3"
  },
  "language_info": {
   "codemirror_mode": {
    "name": "ipython",
    "version": 3
   },
   "file_extension": ".py",
   "mimetype": "text/x-python",
   "name": "python",
   "nbconvert_exporter": "python",
   "pygments_lexer": "ipython3",
   "version": "3.10.12"
  }
 },
 "nbformat": 4,
 "nbformat_minor": 5
}
