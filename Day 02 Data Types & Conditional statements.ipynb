{
 "cells": [
  {
   "cell_type": "markdown",
   "id": "fd3feab1",
   "metadata": {},
   "source": [
    "# Data Types"
   ]
  },
  {
   "cell_type": "code",
   "execution_count": null,
   "id": "7856b3ad",
   "metadata": {},
   "outputs": [],
   "source": [
    "number: int, float, complex\n",
    "\n",
    "string: str\n",
    "\n",
    "setDT: set, frozenset\n",
    "\n",
    "sequence: list, tuple, str\n",
    "\n",
    "hashmap: dict(dictionary)\n",
    "\n",
    "boolean: bool (True| False)"
   ]
  },
  {
   "cell_type": "code",
   "execution_count": 6,
   "id": "9bf7bdd0",
   "metadata": {},
   "outputs": [
    {
     "name": "stdout",
     "output_type": "stream",
     "text": [
      "value of a = 23 \n",
      "Data Type is: <class 'int'>\n"
     ]
    }
   ],
   "source": [
    "a = 23\n",
    "print('value of a =', a, '\\nData Type is:', type(a))"
   ]
  },
  {
   "cell_type": "code",
   "execution_count": 7,
   "id": "86d373f8",
   "metadata": {},
   "outputs": [
    {
     "name": "stdout",
     "output_type": "stream",
     "text": [
      "value of a = 33.56 \n",
      "Data Type is: <class 'float'>\n"
     ]
    }
   ],
   "source": [
    "a = 33.56\n",
    "print('value of a =', a, '\\nData Type is:', type(a))"
   ]
  },
  {
   "cell_type": "code",
   "execution_count": 8,
   "id": "c72a8210",
   "metadata": {},
   "outputs": [
    {
     "name": "stdout",
     "output_type": "stream",
     "text": [
      "value of a = Cdac \n",
      "Data Type is: <class 'str'>\n"
     ]
    }
   ],
   "source": [
    "a = 'Cdac'\n",
    "print('value of a =', a, '\\nData Type is:', type(a))"
   ]
  },
  {
   "cell_type": "code",
   "execution_count": 10,
   "id": "c292b07f",
   "metadata": {},
   "outputs": [],
   "source": [
    "var = complex(2,7)\n"
   ]
  },
  {
   "cell_type": "code",
   "execution_count": 11,
   "id": "b9b475a8",
   "metadata": {},
   "outputs": [
    {
     "name": "stdout",
     "output_type": "stream",
     "text": [
      "value of var = (2+7j) \n",
      "Data Type is: <class 'complex'>\n"
     ]
    }
   ],
   "source": [
    "print('value of var =', var, '\\nData Type is:', type(var))"
   ]
  },
  {
   "cell_type": "markdown",
   "id": "659681cd",
   "metadata": {},
   "source": [
    "## int to float"
   ]
  },
  {
   "cell_type": "code",
   "execution_count": 12,
   "id": "684f4d82",
   "metadata": {},
   "outputs": [
    {
     "name": "stdout",
     "output_type": "stream",
     "text": [
      "23.0\n"
     ]
    }
   ],
   "source": [
    "a = 23\n",
    "b = float(a)\n",
    "print(b)"
   ]
  },
  {
   "cell_type": "markdown",
   "id": "66a81376",
   "metadata": {},
   "source": [
    "## float to int"
   ]
  },
  {
   "cell_type": "code",
   "execution_count": 14,
   "id": "7f3704ae",
   "metadata": {},
   "outputs": [
    {
     "name": "stdout",
     "output_type": "stream",
     "text": [
      "2\n"
     ]
    }
   ],
   "source": [
    "a = 2.34\n",
    "b = int(a)\n",
    "print(b)"
   ]
  },
  {
   "cell_type": "markdown",
   "id": "c423d6eb",
   "metadata": {},
   "source": [
    "## string to int"
   ]
  },
  {
   "cell_type": "code",
   "execution_count": 15,
   "id": "47bce15b",
   "metadata": {},
   "outputs": [
    {
     "name": "stdout",
     "output_type": "stream",
     "text": [
      "value of marks before typecast = 78 \n",
      "Data Type is: <class 'str'>\n",
      "value of marks after typecast = 78 \n",
      "Data Type is: <class 'int'>\n"
     ]
    }
   ],
   "source": [
    "marks = '78'\n",
    "print('value of marks before typecast =', marks, '\\nData Type is:', type(marks))\n",
    "marks = int(marks)\n",
    "print('value of marks after typecast =', marks, '\\nData Type is:', type(marks))"
   ]
  },
  {
   "cell_type": "markdown",
   "id": "1ceca0c8",
   "metadata": {},
   "source": [
    "## string to float"
   ]
  },
  {
   "cell_type": "code",
   "execution_count": 17,
   "id": "cb05bd7f",
   "metadata": {},
   "outputs": [
    {
     "name": "stdout",
     "output_type": "stream",
     "text": [
      "78.98\n"
     ]
    }
   ],
   "source": [
    "marks = '78.98'\n",
    "marks = float(marks)\n",
    "print(marks)"
   ]
  },
  {
   "cell_type": "code",
   "execution_count": 18,
   "id": "6d1ef8ea",
   "metadata": {},
   "outputs": [
    {
     "ename": "ValueError",
     "evalue": "invalid literal for int() with base 10: '78.98'",
     "output_type": "error",
     "traceback": [
      "\u001b[0;31m---------------------------------------------------------------------------\u001b[0m",
      "\u001b[0;31mValueError\u001b[0m                                Traceback (most recent call last)",
      "\u001b[0;32m/tmp/ipykernel_91336/1477618568.py\u001b[0m in \u001b[0;36m<module>\u001b[0;34m\u001b[0m\n\u001b[1;32m      1\u001b[0m \u001b[0mmarks\u001b[0m \u001b[0;34m=\u001b[0m \u001b[0;34m'78.98'\u001b[0m\u001b[0;34m\u001b[0m\u001b[0;34m\u001b[0m\u001b[0m\n\u001b[0;32m----> 2\u001b[0;31m \u001b[0mmarks\u001b[0m \u001b[0;34m=\u001b[0m \u001b[0mint\u001b[0m\u001b[0;34m(\u001b[0m\u001b[0mmarks\u001b[0m\u001b[0;34m)\u001b[0m\u001b[0;34m\u001b[0m\u001b[0;34m\u001b[0m\u001b[0m\n\u001b[0m\u001b[1;32m      3\u001b[0m \u001b[0mprint\u001b[0m\u001b[0;34m(\u001b[0m\u001b[0mmarks\u001b[0m\u001b[0;34m)\u001b[0m\u001b[0;34m\u001b[0m\u001b[0;34m\u001b[0m\u001b[0m\n",
      "\u001b[0;31mValueError\u001b[0m: invalid literal for int() with base 10: '78.98'"
     ]
    }
   ],
   "source": [
    "marks = '78.98'\n",
    "marks = int(marks)\n",
    "print(marks)"
   ]
  },
  {
   "cell_type": "code",
   "execution_count": 21,
   "id": "d9796ee9",
   "metadata": {},
   "outputs": [
    {
     "name": "stdout",
     "output_type": "stream",
     "text": [
      "78\n"
     ]
    }
   ],
   "source": [
    "marks = '78.98'\n",
    "marks = float(marks)\n",
    "marks = int(marks)\n",
    "print(marks)"
   ]
  },
  {
   "cell_type": "code",
   "execution_count": 22,
   "id": "07eebb32",
   "metadata": {},
   "outputs": [
    {
     "name": "stdout",
     "output_type": "stream",
     "text": [
      "78\n"
     ]
    }
   ],
   "source": [
    "marks = '78.98'\n",
    "marks = int(float(marks))\n",
    "# marks = int(marks)\n",
    "print(marks)"
   ]
  },
  {
   "cell_type": "markdown",
   "id": "6ca878a9",
   "metadata": {},
   "source": [
    "## boolean"
   ]
  },
  {
   "cell_type": "code",
   "execution_count": 24,
   "id": "b1c96fef",
   "metadata": {},
   "outputs": [
    {
     "name": "stdout",
     "output_type": "stream",
     "text": [
      "True\n",
      "False\n"
     ]
    }
   ],
   "source": [
    "boolean_var1 = True\n",
    "boolean_var2 = False\n",
    "\n",
    "# boolean_var = true (error: 't' in true should be capital)\n",
    "print(boolean_var1)\n",
    "print(boolean_var2)\n"
   ]
  },
  {
   "cell_type": "code",
   "execution_count": 25,
   "id": "59ddab42",
   "metadata": {},
   "outputs": [
    {
     "name": "stdout",
     "output_type": "stream",
     "text": [
      "True\n"
     ]
    }
   ],
   "source": [
    "print(True)"
   ]
  },
  {
   "cell_type": "markdown",
   "id": "86825912",
   "metadata": {},
   "source": [
    "## set"
   ]
  },
  {
   "cell_type": "code",
   "execution_count": 28,
   "id": "57645804",
   "metadata": {},
   "outputs": [
    {
     "name": "stdout",
     "output_type": "stream",
     "text": [
      "{1, 2, 3, 4, 5}\n",
      "<class 'set'>\n"
     ]
    }
   ],
   "source": [
    "var = {1,2,3,4,5}\n",
    "print(var, type(var), sep = '\\n')"
   ]
  },
  {
   "cell_type": "markdown",
   "id": "ce9b5c8b",
   "metadata": {},
   "source": [
    "## list"
   ]
  },
  {
   "cell_type": "code",
   "execution_count": 29,
   "id": "5d081f11",
   "metadata": {},
   "outputs": [
    {
     "name": "stdout",
     "output_type": "stream",
     "text": [
      "[11, 22, 33, 44, 'abc']\n",
      "<class 'list'>\n"
     ]
    }
   ],
   "source": [
    "var = [11, 22, 33, 44, 'abc']\n",
    "print(var, type(var), sep = '\\n')"
   ]
  },
  {
   "cell_type": "code",
   "execution_count": 30,
   "id": "88e03386",
   "metadata": {},
   "outputs": [
    {
     "name": "stdout",
     "output_type": "stream",
     "text": [
      "11\n",
      "22\n",
      "33\n",
      "44\n",
      "abc\n"
     ]
    }
   ],
   "source": [
    "for item in var:\n",
    "    print(item)"
   ]
  },
  {
   "cell_type": "code",
   "execution_count": 32,
   "id": "6cd777bc",
   "metadata": {},
   "outputs": [
    {
     "name": "stdout",
     "output_type": "stream",
     "text": [
      "11 22 33 44 abc "
     ]
    }
   ],
   "source": [
    "for item in var:\n",
    "    print(item, end = ' ')"
   ]
  },
  {
   "cell_type": "markdown",
   "id": "ad33e0e8",
   "metadata": {},
   "source": [
    "## tuple"
   ]
  },
  {
   "cell_type": "code",
   "execution_count": 33,
   "id": "050269d7",
   "metadata": {},
   "outputs": [
    {
     "name": "stdout",
     "output_type": "stream",
     "text": [
      "(3, 5, 7, 2)\n",
      "<class 'tuple'>\n"
     ]
    }
   ],
   "source": [
    "tup1 = (3,5,7,2)\n",
    "print(tup1, type(tup1), sep = '\\n')"
   ]
  },
  {
   "cell_type": "markdown",
   "id": "a65fb27a",
   "metadata": {},
   "source": [
    "## dictionary"
   ]
  },
  {
   "cell_type": "code",
   "execution_count": null,
   "id": "750c51bc",
   "metadata": {},
   "outputs": [],
   "source": [
    "dict1 = {key1:value1, key2:value2}"
   ]
  },
  {
   "cell_type": "code",
   "execution_count": 34,
   "id": "7125b451",
   "metadata": {},
   "outputs": [
    {
     "name": "stdout",
     "output_type": "stream",
     "text": [
      "{'101': 'aaa', '202': 'bbb', '303': 'ccc'}\n"
     ]
    }
   ],
   "source": [
    "dict1 = {\"101\": \"aaa\", \"202\": \"bbb\", \"303\": \"ccc\"}\n",
    "print(dict1)"
   ]
  },
  {
   "cell_type": "code",
   "execution_count": 35,
   "id": "35cdbb64",
   "metadata": {},
   "outputs": [
    {
     "name": "stdout",
     "output_type": "stream",
     "text": [
      "{'101': 'aaa', '202': 'bbb', '303': 'ccc'}\n"
     ]
    }
   ],
   "source": [
    "dict1 = {'101': 'aaa', '202': 'bbb', '303': 'ccc'}\n",
    "print(dict1)"
   ]
  },
  {
   "cell_type": "markdown",
   "id": "0884686c",
   "metadata": {},
   "source": [
    "## Conditionals"
   ]
  },
  {
   "cell_type": "code",
   "execution_count": null,
   "id": "a3a333ee",
   "metadata": {},
   "outputs": [],
   "source": [
    "syntax:\n",
    "\n",
    "    if condition:\n",
    "        st1\n",
    "        st2\n",
    "        st3\n",
    "    else:\n",
    "        st4\n",
    "        st5"
   ]
  },
  {
   "cell_type": "code",
   "execution_count": 36,
   "id": "a8aa3e64",
   "metadata": {},
   "outputs": [
    {
     "name": "stdout",
     "output_type": "stream",
     "text": [
      "True\n"
     ]
    }
   ],
   "source": [
    "if True:\n",
    "    print('True')"
   ]
  },
  {
   "cell_type": "code",
   "execution_count": 37,
   "id": "989401e8",
   "metadata": {},
   "outputs": [],
   "source": [
    "if False:\n",
    "    print('True')"
   ]
  },
  {
   "cell_type": "code",
   "execution_count": 38,
   "id": "3977235a",
   "metadata": {},
   "outputs": [
    {
     "name": "stdout",
     "output_type": "stream",
     "text": [
      "You mentioned false in above if\n"
     ]
    }
   ],
   "source": [
    "if False:\n",
    "    print('True')\n",
    "else:\n",
    "    print('You mentioned false in above if')"
   ]
  },
  {
   "cell_type": "code",
   "execution_count": 39,
   "id": "8b327b65",
   "metadata": {},
   "outputs": [
    {
     "name": "stdout",
     "output_type": "stream",
     "text": [
      "pass\n"
     ]
    }
   ],
   "source": [
    "marks = 56\n",
    "if marks > 50:\n",
    "    print('pass')\n",
    "else:\n",
    "    print('fail')"
   ]
  },
  {
   "cell_type": "code",
   "execution_count": 40,
   "id": "c0994fc2",
   "metadata": {},
   "outputs": [
    {
     "name": "stdout",
     "output_type": "stream",
     "text": [
      "fail\n"
     ]
    }
   ],
   "source": [
    "marks = 34\n",
    "if marks > 50:\n",
    "    print('pass')\n",
    "else:\n",
    "    print('fail')"
   ]
  },
  {
   "cell_type": "code",
   "execution_count": 43,
   "id": "dc7b21cb",
   "metadata": {},
   "outputs": [
    {
     "name": "stdout",
     "output_type": "stream",
     "text": [
      "AAA\n"
     ]
    }
   ],
   "source": [
    "if 34 > 12: # True\n",
    "    print('AAA')\n",
    "elif 45 < 56: #True\n",
    "    print('BBB')\n",
    "elif 22 > 76:\n",
    "    print('CCC')\n",
    "        "
   ]
  },
  {
   "cell_type": "code",
   "execution_count": 44,
   "id": "9690b273",
   "metadata": {},
   "outputs": [
    {
     "name": "stdout",
     "output_type": "stream",
     "text": [
      "AAA\n",
      "BBB\n"
     ]
    }
   ],
   "source": [
    "if 34 > 12: # True\n",
    "    print('AAA')\n",
    "if 45 < 56: #True\n",
    "    print('BBB')\n",
    "if 22 > 76:\n",
    "    print('CCC')\n",
    "        "
   ]
  },
  {
   "cell_type": "code",
   "execution_count": 51,
   "id": "3cc6e8ab",
   "metadata": {},
   "outputs": [
    {
     "name": "stdout",
     "output_type": "stream",
     "text": [
      "B\n"
     ]
    }
   ],
   "source": [
    "# marks = 45\n",
    "marks = 75\n",
    "if marks <= 100 and marks > 75:\n",
    "    print('A')\n",
    "elif marks <= 75 and marks > 50:\n",
    "    print('B')\n",
    "elif marks <= 50 and marks > 25:\n",
    "    print('C')\n",
    "elif marks <= 25 and marks >= 0:\n",
    "    print('Fail')"
   ]
  },
  {
   "cell_type": "code",
   "execution_count": 55,
   "id": "aafd67df",
   "metadata": {},
   "outputs": [
    {
     "name": "stdout",
     "output_type": "stream",
     "text": [
      "Fail\n"
     ]
    }
   ],
   "source": [
    "# marks = 22\n",
    "marks = -32\n",
    "if marks <= 100 and marks > 75:\n",
    "    print('A')\n",
    "elif marks <= 75 and marks > 50:\n",
    "    print('B')\n",
    "elif marks <= 50 and marks > 25:\n",
    "    print('C')\n",
    "else:\n",
    "    print('Fail')"
   ]
  },
  {
   "cell_type": "code",
   "execution_count": 62,
   "id": "8b04ab68",
   "metadata": {},
   "outputs": [
    {
     "name": "stdout",
     "output_type": "stream",
     "text": [
      "marks1: 22\n",
      "marks2: 12\n",
      "FAIL\n"
     ]
    }
   ],
   "source": [
    "# input two numbers from user. if addition is geater than 50\n",
    "# print PASS otherwise print FAIL\n",
    "\n",
    "marks1 = int(input('marks1: '))\n",
    "marks2 = int(input('marks2: '))\n",
    "\n",
    "addition = marks1 + marks2\n",
    "if addition > 50:\n",
    "    print('PASS')\n",
    "else:\n",
    "    print('FAIL')"
   ]
  },
  {
   "cell_type": "code",
   "execution_count": 65,
   "id": "b0ef23b6",
   "metadata": {},
   "outputs": [
    {
     "name": "stdout",
     "output_type": "stream",
     "text": [
      "Yes\n",
      "acd\n",
      "sadsd\n",
      "dgdfg\n"
     ]
    }
   ],
   "source": [
    "if 33 < 45:\n",
    "    print('Yes')\n",
    "else:\n",
    "    print('No')\n"
   ]
  },
  {
   "cell_type": "markdown",
   "id": "a7b6fb46",
   "metadata": {},
   "source": [
    "## Operators"
   ]
  },
  {
   "cell_type": "code",
   "execution_count": null,
   "id": "fcd260a4",
   "metadata": {},
   "outputs": [],
   "source": []
  },
  {
   "cell_type": "code",
   "execution_count": null,
   "id": "46ec0274",
   "metadata": {},
   "outputs": [],
   "source": []
  },
  {
   "cell_type": "code",
   "execution_count": null,
   "id": "231cc75c",
   "metadata": {},
   "outputs": [],
   "source": []
  },
  {
   "cell_type": "code",
   "execution_count": null,
   "id": "8f762b09",
   "metadata": {},
   "outputs": [],
   "source": []
  },
  {
   "cell_type": "code",
   "execution_count": null,
   "id": "98bac8e8",
   "metadata": {},
   "outputs": [],
   "source": []
  },
  {
   "cell_type": "code",
   "execution_count": null,
   "id": "a682fde9",
   "metadata": {},
   "outputs": [],
   "source": []
  },
  {
   "cell_type": "code",
   "execution_count": null,
   "id": "399d2ddd",
   "metadata": {},
   "outputs": [],
   "source": []
  }
 ],
 "metadata": {
  "kernelspec": {
   "display_name": "Python 3 (ipykernel)",
   "language": "python",
   "name": "python3"
  },
  "language_info": {
   "codemirror_mode": {
    "name": "ipython",
    "version": 3
   },
   "file_extension": ".py",
   "mimetype": "text/x-python",
   "name": "python",
   "nbconvert_exporter": "python",
   "pygments_lexer": "ipython3",
   "version": "3.10.12"
  }
 },
 "nbformat": 4,
 "nbformat_minor": 5
}
