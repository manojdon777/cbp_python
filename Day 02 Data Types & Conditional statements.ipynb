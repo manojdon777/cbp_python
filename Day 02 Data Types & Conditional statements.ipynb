{
 "cells": [
  {
   "cell_type": "markdown",
   "id": "7191a73c",
   "metadata": {},
   "source": [
    "# Data Types"
   ]
  },
  {
   "cell_type": "code",
   "execution_count": null,
   "id": "7856b3ad",
   "metadata": {},
   "outputs": [],
   "source": [
    "number: int, float, complex\n",
    "\n",
    "string: str\n",
    "\n",
    "setDT: set, frozenset\n",
    "\n",
    "sequence: list, tuple, str\n",
    "\n",
    "hashmap: dict(dictionary)\n",
    "\n",
    "boolean: bool (True| False)"
   ]
  },
  {
   "cell_type": "code",
   "execution_count": 6,
   "id": "9bf7bdd0",
   "metadata": {},
   "outputs": [
    {
     "name": "stdout",
     "output_type": "stream",
     "text": [
      "value of a = 23 \n",
      "Data Type is: <class 'int'>\n"
     ]
    }
   ],
   "source": [
    "a = 23\n",
    "print('value of a =', a, '\\nData Type is:', type(a))"
   ]
  },
  {
   "cell_type": "code",
   "execution_count": 7,
   "id": "86d373f8",
   "metadata": {},
   "outputs": [
    {
     "name": "stdout",
     "output_type": "stream",
     "text": [
      "value of a = 33.56 \n",
      "Data Type is: <class 'float'>\n"
     ]
    }
   ],
   "source": [
    "a = 33.56\n",
    "print('value of a =', a, '\\nData Type is:', type(a))"
   ]
  },
  {
   "cell_type": "code",
   "execution_count": 8,
   "id": "c72a8210",
   "metadata": {},
   "outputs": [
    {
     "name": "stdout",
     "output_type": "stream",
     "text": [
      "value of a = Cdac \n",
      "Data Type is: <class 'str'>\n"
     ]
    }
   ],
   "source": [
    "a = 'Cdac'\n",
    "print('value of a =', a, '\\nData Type is:', type(a))"
   ]
  },
  {
   "cell_type": "code",
   "execution_count": 10,
   "id": "e638e382",
   "metadata": {},
   "outputs": [],
   "source": [
    "var = complex(2,7)\n"
   ]
  },
  {
   "cell_type": "code",
   "execution_count": 11,
   "id": "04668f3c",
   "metadata": {},
   "outputs": [
    {
     "name": "stdout",
     "output_type": "stream",
     "text": [
      "value of var = (2+7j) \n",
      "Data Type is: <class 'complex'>\n"
     ]
    }
   ],
   "source": [
    "print('value of var =', var, '\\nData Type is:', type(var))"
   ]
  },
  {
   "cell_type": "markdown",
   "id": "e7760ad1",
   "metadata": {},
   "source": [
    "## int to float"
   ]
  },
  {
   "cell_type": "code",
   "execution_count": 12,
   "id": "cdcf53e5",
   "metadata": {},
   "outputs": [
    {
     "name": "stdout",
     "output_type": "stream",
     "text": [
      "23.0\n"
     ]
    }
   ],
   "source": [
    "a = 23\n",
    "b = float(a)\n",
    "print(b)"
   ]
  },
  {
   "cell_type": "markdown",
   "id": "87687945",
   "metadata": {},
   "source": [
    "## float to int"
   ]
  },
  {
   "cell_type": "code",
   "execution_count": 14,
   "id": "eaccfbe9",
   "metadata": {},
   "outputs": [
    {
     "name": "stdout",
     "output_type": "stream",
     "text": [
      "2\n"
     ]
    }
   ],
   "source": [
    "a = 2.34\n",
    "b = int(a)\n",
    "print(b)"
   ]
  },
  {
   "cell_type": "markdown",
   "id": "a00bb69a",
   "metadata": {},
   "source": [
    "## string to int"
   ]
  },
  {
   "cell_type": "code",
   "execution_count": 15,
   "id": "4b0e01f4",
   "metadata": {},
   "outputs": [
    {
     "name": "stdout",
     "output_type": "stream",
     "text": [
      "value of marks before typecast = 78 \n",
      "Data Type is: <class 'str'>\n",
      "value of marks after typecast = 78 \n",
      "Data Type is: <class 'int'>\n"
     ]
    }
   ],
   "source": [
    "marks = '78'\n",
    "print('value of marks before typecast =', marks, '\\nData Type is:', type(marks))\n",
    "marks = int(marks)\n",
    "print('value of marks after typecast =', marks, '\\nData Type is:', type(marks))"
   ]
  },
  {
   "cell_type": "markdown",
   "id": "282fcc3c",
   "metadata": {},
   "source": [
    "## string to float"
   ]
  },
  {
   "cell_type": "code",
   "execution_count": 17,
   "id": "689abb98",
   "metadata": {},
   "outputs": [
    {
     "name": "stdout",
     "output_type": "stream",
     "text": [
      "78.98\n"
     ]
    }
   ],
   "source": [
    "marks = '78.98'\n",
    "marks = float(marks)\n",
    "print(marks)"
   ]
  },
  {
   "cell_type": "code",
   "execution_count": 18,
   "id": "a35bd6e4",
   "metadata": {},
   "outputs": [
    {
     "ename": "ValueError",
     "evalue": "invalid literal for int() with base 10: '78.98'",
     "output_type": "error",
     "traceback": [
      "\u001b[0;31m---------------------------------------------------------------------------\u001b[0m",
      "\u001b[0;31mValueError\u001b[0m                                Traceback (most recent call last)",
      "\u001b[0;32m/tmp/ipykernel_91336/1477618568.py\u001b[0m in \u001b[0;36m<module>\u001b[0;34m\u001b[0m\n\u001b[1;32m      1\u001b[0m \u001b[0mmarks\u001b[0m \u001b[0;34m=\u001b[0m \u001b[0;34m'78.98'\u001b[0m\u001b[0;34m\u001b[0m\u001b[0;34m\u001b[0m\u001b[0m\n\u001b[0;32m----> 2\u001b[0;31m \u001b[0mmarks\u001b[0m \u001b[0;34m=\u001b[0m \u001b[0mint\u001b[0m\u001b[0;34m(\u001b[0m\u001b[0mmarks\u001b[0m\u001b[0;34m)\u001b[0m\u001b[0;34m\u001b[0m\u001b[0;34m\u001b[0m\u001b[0m\n\u001b[0m\u001b[1;32m      3\u001b[0m \u001b[0mprint\u001b[0m\u001b[0;34m(\u001b[0m\u001b[0mmarks\u001b[0m\u001b[0;34m)\u001b[0m\u001b[0;34m\u001b[0m\u001b[0;34m\u001b[0m\u001b[0m\n",
      "\u001b[0;31mValueError\u001b[0m: invalid literal for int() with base 10: '78.98'"
     ]
    }
   ],
   "source": [
    "marks = '78.98'\n",
    "marks = int(marks)\n",
    "print(marks)"
   ]
  },
  {
   "cell_type": "code",
   "execution_count": 21,
   "id": "b3cfc592",
   "metadata": {},
   "outputs": [
    {
     "name": "stdout",
     "output_type": "stream",
     "text": [
      "78\n"
     ]
    }
   ],
   "source": [
    "marks = '78.98'\n",
    "marks = float(marks)\n",
    "marks = int(marks)\n",
    "print(marks)"
   ]
  },
  {
   "cell_type": "code",
   "execution_count": 22,
   "id": "3cb45b1d",
   "metadata": {},
   "outputs": [
    {
     "name": "stdout",
     "output_type": "stream",
     "text": [
      "78\n"
     ]
    }
   ],
   "source": [
    "marks = '78.98'\n",
    "marks = int(float(marks))\n",
    "# marks = int(marks)\n",
    "print(marks)"
   ]
  },
  {
   "cell_type": "markdown",
   "id": "8f0da069",
   "metadata": {},
   "source": [
    "## boolean"
   ]
  },
  {
   "cell_type": "code",
   "execution_count": 24,
   "id": "6361a22f",
   "metadata": {},
   "outputs": [
    {
     "name": "stdout",
     "output_type": "stream",
     "text": [
      "True\n",
      "False\n"
     ]
    }
   ],
   "source": [
    "boolean_var1 = True\n",
    "boolean_var2 = False\n",
    "\n",
    "# boolean_var = true (error: 't' in true should be capital)\n",
    "print(boolean_var1)\n",
    "print(boolean_var2)\n"
   ]
  },
  {
   "cell_type": "code",
   "execution_count": 25,
   "id": "fc1cc77b",
   "metadata": {},
   "outputs": [
    {
     "name": "stdout",
     "output_type": "stream",
     "text": [
      "True\n"
     ]
    }
   ],
   "source": [
    "print(True)"
   ]
  },
  {
   "cell_type": "markdown",
   "id": "9df1ddc6",
   "metadata": {},
   "source": [
    "## set"
   ]
  },
  {
   "cell_type": "code",
   "execution_count": 28,
   "id": "24da20f1",
   "metadata": {},
   "outputs": [
    {
     "name": "stdout",
     "output_type": "stream",
     "text": [
      "{1, 2, 3, 4, 5}\n",
      "<class 'set'>\n"
     ]
    }
   ],
   "source": [
    "var = {1,2,3,4,5}\n",
    "print(var, type(var), sep = '\\n')"
   ]
  },
  {
   "cell_type": "markdown",
   "id": "1ecad8cb",
   "metadata": {},
   "source": [
    "## list"
   ]
  },
  {
   "cell_type": "code",
   "execution_count": 29,
   "id": "d5fdf6e6",
   "metadata": {},
   "outputs": [
    {
     "name": "stdout",
     "output_type": "stream",
     "text": [
      "[11, 22, 33, 44, 'abc']\n",
      "<class 'list'>\n"
     ]
    }
   ],
   "source": [
    "var = [11, 22, 33, 44, 'abc']\n",
    "print(var, type(var), sep = '\\n')"
   ]
  },
  {
   "cell_type": "code",
   "execution_count": 30,
   "id": "cc271ac1",
   "metadata": {},
   "outputs": [
    {
     "name": "stdout",
     "output_type": "stream",
     "text": [
      "11\n",
      "22\n",
      "33\n",
      "44\n",
      "abc\n"
     ]
    }
   ],
   "source": [
    "for item in var:\n",
    "    print(item)"
   ]
  },
  {
   "cell_type": "code",
   "execution_count": 32,
   "id": "4a668b73",
   "metadata": {},
   "outputs": [
    {
     "name": "stdout",
     "output_type": "stream",
     "text": [
      "11 22 33 44 abc "
     ]
    }
   ],
   "source": [
    "for item in var:\n",
    "    print(item, end = ' ')"
   ]
  },
  {
   "cell_type": "markdown",
   "id": "97f88e1b",
   "metadata": {},
   "source": [
    "## tuple"
   ]
  },
  {
   "cell_type": "code",
   "execution_count": 33,
   "id": "dde896b5",
   "metadata": {},
   "outputs": [
    {
     "name": "stdout",
     "output_type": "stream",
     "text": [
      "(3, 5, 7, 2)\n",
      "<class 'tuple'>\n"
     ]
    }
   ],
   "source": [
    "tup1 = (3,5,7,2)\n",
    "print(tup1, type(tup1), sep = '\\n')"
   ]
  },
  {
   "cell_type": "markdown",
   "id": "7928297a",
   "metadata": {},
   "source": [
    "## dictionary"
   ]
  },
  {
   "cell_type": "code",
   "execution_count": null,
   "id": "e5843965",
   "metadata": {},
   "outputs": [],
   "source": [
    "dict1 = {key1:value1, key2:value2}"
   ]
  },
  {
   "cell_type": "code",
   "execution_count": 34,
   "id": "f33488d9",
   "metadata": {},
   "outputs": [
    {
     "name": "stdout",
     "output_type": "stream",
     "text": [
      "{'101': 'aaa', '202': 'bbb', '303': 'ccc'}\n"
     ]
    }
   ],
   "source": [
    "dict1 = {\"101\": \"aaa\", \"202\": \"bbb\", \"303\": \"ccc\"}\n",
    "print(dict1)"
   ]
  },
  {
   "cell_type": "code",
   "execution_count": 35,
   "id": "c781df9e",
   "metadata": {},
   "outputs": [
    {
     "name": "stdout",
     "output_type": "stream",
     "text": [
      "{'101': 'aaa', '202': 'bbb', '303': 'ccc'}\n"
     ]
    }
   ],
   "source": [
    "dict1 = {'101': 'aaa', '202': 'bbb', '303': 'ccc'}\n",
    "print(dict1)"
   ]
  },
  {
   "cell_type": "markdown",
   "id": "e54f0179",
   "metadata": {},
   "source": [
    "## Conditionals"
   ]
  },
  {
   "cell_type": "code",
   "execution_count": null,
   "id": "f698ac2c",
   "metadata": {},
   "outputs": [],
   "source": [
    "syntax:\n",
    "\n",
    "    if condition:\n",
    "        st1\n",
    "        st2\n",
    "        st3\n",
    "    else:\n",
    "        st4\n",
    "        st5"
   ]
  },
  {
   "cell_type": "code",
   "execution_count": 36,
   "id": "4807a3a4",
   "metadata": {},
   "outputs": [
    {
     "name": "stdout",
     "output_type": "stream",
     "text": [
      "True\n"
     ]
    }
   ],
   "source": [
    "if True:\n",
    "    print('True')"
   ]
  },
  {
   "cell_type": "code",
   "execution_count": 37,
   "id": "d451061d",
   "metadata": {},
   "outputs": [],
   "source": [
    "if False:\n",
    "    print('True')"
   ]
  },
  {
   "cell_type": "code",
   "execution_count": 38,
   "id": "c80339f8",
   "metadata": {},
   "outputs": [
    {
     "name": "stdout",
     "output_type": "stream",
     "text": [
      "You mentioned false in above if\n"
     ]
    }
   ],
   "source": [
    "if False:\n",
    "    print('True')\n",
    "else:\n",
    "    print('You mentioned false in above if')"
   ]
  },
  {
   "cell_type": "code",
   "execution_count": 39,
   "id": "6952032d",
   "metadata": {},
   "outputs": [
    {
     "name": "stdout",
     "output_type": "stream",
     "text": [
      "pass\n"
     ]
    }
   ],
   "source": [
    "marks = 56\n",
    "if marks > 50:\n",
    "    print('pass')\n",
    "else:\n",
    "    print('fail')"
   ]
  },
  {
   "cell_type": "code",
   "execution_count": 40,
   "id": "72747a88",
   "metadata": {},
   "outputs": [
    {
     "name": "stdout",
     "output_type": "stream",
     "text": [
      "fail\n"
     ]
    }
   ],
   "source": [
    "marks = 34\n",
    "if marks > 50:\n",
    "    print('pass')\n",
    "else:\n",
    "    print('fail')"
   ]
  },
  {
   "cell_type": "code",
   "execution_count": 43,
   "id": "b7cfa739",
   "metadata": {},
   "outputs": [
    {
     "name": "stdout",
     "output_type": "stream",
     "text": [
      "AAA\n"
     ]
    }
   ],
   "source": [
    "if 34 > 12: # True\n",
    "    print('AAA')\n",
    "elif 45 < 56: #True\n",
    "    print('BBB')\n",
    "elif 22 > 76:\n",
    "    print('CCC')\n",
    "        "
   ]
  },
  {
   "cell_type": "code",
   "execution_count": 44,
   "id": "a0bccfd9",
   "metadata": {},
   "outputs": [
    {
     "name": "stdout",
     "output_type": "stream",
     "text": [
      "AAA\n",
      "BBB\n"
     ]
    }
   ],
   "source": [
    "if 34 > 12: # True\n",
    "    print('AAA')\n",
    "if 45 < 56: #True\n",
    "    print('BBB')\n",
    "if 22 > 76:\n",
    "    print('CCC')\n",
    "        "
   ]
  },
  {
   "cell_type": "code",
   "execution_count": 51,
   "id": "a5bdc277",
   "metadata": {},
   "outputs": [
    {
     "name": "stdout",
     "output_type": "stream",
     "text": [
      "B\n"
     ]
    }
   ],
   "source": [
    "# marks = 45\n",
    "marks = 75\n",
    "if marks <= 100 and marks > 75:\n",
    "    print('A')\n",
    "elif marks <= 75 and marks > 50:\n",
    "    print('B')\n",
    "elif marks <= 50 and marks > 25:\n",
    "    print('C')\n",
    "elif marks <= 25 and marks >= 0:\n",
    "    print('Fail')"
   ]
  },
  {
   "cell_type": "code",
   "execution_count": 55,
   "id": "d9461c0f",
   "metadata": {},
   "outputs": [
    {
     "name": "stdout",
     "output_type": "stream",
     "text": [
      "Fail\n"
     ]
    }
   ],
   "source": [
    "# marks = 22\n",
    "marks = -32\n",
    "if marks <= 100 and marks > 75:\n",
    "    print('A')\n",
    "elif marks <= 75 and marks > 50:\n",
    "    print('B')\n",
    "elif marks <= 50 and marks > 25:\n",
    "    print('C')\n",
    "else:\n",
    "    print('Fail')"
   ]
  },
  {
   "cell_type": "code",
   "execution_count": 62,
   "id": "61ec88a2",
   "metadata": {},
   "outputs": [
    {
     "name": "stdout",
     "output_type": "stream",
     "text": [
      "marks1: 22\n",
      "marks2: 12\n",
      "FAIL\n"
     ]
    }
   ],
   "source": [
    "# input two numbers from user. if addition is geater than 50\n",
    "# print PASS otherwise print FAIL\n",
    "\n",
    "marks1 = int(input('marks1: '))\n",
    "marks2 = int(input('marks2: '))\n",
    "\n",
    "addition = marks1 + marks2\n",
    "if addition > 50:\n",
    "    print('PASS')\n",
    "else:\n",
    "    print('FAIL')"
   ]
  },
  {
   "cell_type": "code",
   "execution_count": 65,
   "id": "9c3fadf3",
   "metadata": {},
   "outputs": [
    {
     "name": "stdout",
     "output_type": "stream",
     "text": [
      "Yes\n",
      "acd\n",
      "sadsd\n",
      "dgdfg\n"
     ]
    }
   ],
   "source": [
    "if 33 < 45:\n",
    "    print('Yes')\n",
    "else:\n",
    "    print('No')\n"
   ]
  },
  {
   "cell_type": "markdown",
   "id": "12c36abb",
   "metadata": {},
   "source": [
    "## Operators\n",
    "1. Arithmetic\n",
    "2. Assignment\n",
    "3. Comparison\n",
    "4. Logical\n",
    "5. Bitwise\n",
    "6. membership\n",
    "7. Identity\n"
   ]
  },
  {
   "cell_type": "code",
   "execution_count": null,
   "id": "5fa08988",
   "metadata": {},
   "outputs": [],
   "source": [
    "1. Arithmetic operators\n",
    "    +\n",
    "    -\n",
    "    /\n",
    "    //\n",
    "    *\n",
    "    %\n",
    "    **"
   ]
  },
  {
   "cell_type": "code",
   "execution_count": 66,
   "id": "d939405f",
   "metadata": {},
   "outputs": [
    {
     "name": "stdout",
     "output_type": "stream",
     "text": [
      "11\n"
     ]
    }
   ],
   "source": [
    "print(55-44)"
   ]
  },
  {
   "cell_type": "code",
   "execution_count": 67,
   "id": "e41cf90a",
   "metadata": {},
   "outputs": [
    {
     "name": "stdout",
     "output_type": "stream",
     "text": [
      "4.0\n"
     ]
    }
   ],
   "source": [
    "print(8/2)"
   ]
  },
  {
   "cell_type": "code",
   "execution_count": 68,
   "id": "5f9b934d",
   "metadata": {},
   "outputs": [
    {
     "name": "stdout",
     "output_type": "stream",
     "text": [
      "4\n"
     ]
    }
   ],
   "source": [
    "print(8//2)"
   ]
  },
  {
   "cell_type": "code",
   "execution_count": 69,
   "id": "91519ad8",
   "metadata": {},
   "outputs": [
    {
     "name": "stdout",
     "output_type": "stream",
     "text": [
      "<class 'float'>\n"
     ]
    }
   ],
   "source": [
    "a = 8\n",
    "b = 2\n",
    "c = a/2\n",
    "print(type(c))"
   ]
  },
  {
   "cell_type": "code",
   "execution_count": 70,
   "id": "686298fb",
   "metadata": {},
   "outputs": [
    {
     "name": "stdout",
     "output_type": "stream",
     "text": [
      "<class 'int'>\n"
     ]
    }
   ],
   "source": [
    "a = 8\n",
    "b = 2\n",
    "c = a//2\n",
    "print(type(c))"
   ]
  },
  {
   "cell_type": "code",
   "execution_count": 71,
   "id": "a8debbfa",
   "metadata": {},
   "outputs": [
    {
     "name": "stdout",
     "output_type": "stream",
     "text": [
      "32\n"
     ]
    }
   ],
   "source": [
    "print(2**5)"
   ]
  },
  {
   "cell_type": "code",
   "execution_count": 72,
   "id": "f3a3eb4b",
   "metadata": {},
   "outputs": [
    {
     "name": "stdout",
     "output_type": "stream",
     "text": [
      "512\n"
     ]
    }
   ],
   "source": [
    "print(2**9)"
   ]
  },
  {
   "cell_type": "code",
   "execution_count": 73,
   "id": "34d11985",
   "metadata": {},
   "outputs": [
    {
     "name": "stdout",
     "output_type": "stream",
     "text": [
      "64\n"
     ]
    }
   ],
   "source": [
    "print(2**6)"
   ]
  },
  {
   "cell_type": "code",
   "execution_count": null,
   "id": "09066eef",
   "metadata": {},
   "outputs": [],
   "source": [
    "2. Assignment\n",
    "    =\n",
    "    +=\n",
    "    -=\n",
    "    *=\n",
    "    /=\n",
    "    %=\n",
    "    "
   ]
  },
  {
   "cell_type": "code",
   "execution_count": 76,
   "id": "f1434c23",
   "metadata": {},
   "outputs": [
    {
     "ename": "SyntaxError",
     "evalue": "invalid syntax (2777644652.py, line 2)",
     "output_type": "error",
     "traceback": [
      "\u001b[0;36m  File \u001b[0;32m\"/tmp/ipykernel_91336/2777644652.py\"\u001b[0;36m, line \u001b[0;32m2\u001b[0m\n\u001b[0;31m    a++\u001b[0m\n\u001b[0m       ^\u001b[0m\n\u001b[0;31mSyntaxError\u001b[0m\u001b[0;31m:\u001b[0m invalid syntax\n"
     ]
    }
   ],
   "source": [
    "a = 10\n",
    "a++"
   ]
  },
  {
   "cell_type": "code",
   "execution_count": 77,
   "id": "40b6cf88",
   "metadata": {},
   "outputs": [],
   "source": [
    "a = 10\n",
    "a += 1 # a = a + 1"
   ]
  },
  {
   "cell_type": "code",
   "execution_count": 78,
   "id": "58f0000b",
   "metadata": {},
   "outputs": [
    {
     "name": "stdout",
     "output_type": "stream",
     "text": [
      "6\n"
     ]
    }
   ],
   "source": [
    "a = 34\n",
    "a %= 7\n",
    "print(a)"
   ]
  },
  {
   "cell_type": "code",
   "execution_count": null,
   "id": "faa339b3",
   "metadata": {},
   "outputs": [],
   "source": [
    "3. Comparison\n",
    "    >\n",
    "    >=\n",
    "    <\n",
    "    <=\n",
    "    ==\n",
    "    !="
   ]
  },
  {
   "cell_type": "code",
   "execution_count": 79,
   "id": "21dc353b",
   "metadata": {},
   "outputs": [
    {
     "name": "stdout",
     "output_type": "stream",
     "text": [
      "True\n"
     ]
    }
   ],
   "source": [
    "print(55>=54)"
   ]
  },
  {
   "cell_type": "code",
   "execution_count": null,
   "id": "e369f319",
   "metadata": {},
   "outputs": [],
   "source": [
    "4. Logical\n",
    "    not\n",
    "    and\n",
    "    or"
   ]
  },
  {
   "cell_type": "code",
   "execution_count": 80,
   "id": "8f9f6e4b",
   "metadata": {},
   "outputs": [
    {
     "name": "stdout",
     "output_type": "stream",
     "text": [
      "False\n"
     ]
    }
   ],
   "source": [
    "var1 = True\n",
    "var2 = not var1\n",
    "print(var2)"
   ]
  },
  {
   "cell_type": "code",
   "execution_count": 81,
   "id": "b6bd0365",
   "metadata": {},
   "outputs": [
    {
     "name": "stdout",
     "output_type": "stream",
     "text": [
      "True\n"
     ]
    }
   ],
   "source": [
    "print(55>=54)"
   ]
  },
  {
   "cell_type": "code",
   "execution_count": 82,
   "id": "444adbe0",
   "metadata": {},
   "outputs": [
    {
     "name": "stdout",
     "output_type": "stream",
     "text": [
      "False\n"
     ]
    }
   ],
   "source": [
    "print( not 55>=54)"
   ]
  },
  {
   "cell_type": "code",
   "execution_count": 2,
   "id": "68cc01c7",
   "metadata": {},
   "outputs": [
    {
     "name": "stdout",
     "output_type": "stream",
     "text": [
      "Yes\n"
     ]
    }
   ],
   "source": [
    "marks = 45\n",
    "if marks > 34 and marks < 56:\n",
    "    print('Yes')\n",
    "else:\n",
    "    print('No')"
   ]
  },
  {
   "cell_type": "code",
   "execution_count": 3,
   "id": "c36abdbb",
   "metadata": {},
   "outputs": [
    {
     "name": "stdout",
     "output_type": "stream",
     "text": [
      "True\n"
     ]
    }
   ],
   "source": [
    "print(marks > 34 and marks < 56)"
   ]
  },
  {
   "cell_type": "code",
   "execution_count": 85,
   "id": "98e184e3",
   "metadata": {},
   "outputs": [
    {
     "name": "stdout",
     "output_type": "stream",
     "text": [
      "True\n",
      "True\n"
     ]
    }
   ],
   "source": [
    "print(marks > 34)\n",
    "print(marks < 56)"
   ]
  },
  {
   "cell_type": "code",
   "execution_count": 4,
   "id": "16db1fb3",
   "metadata": {},
   "outputs": [
    {
     "name": "stdout",
     "output_type": "stream",
     "text": [
      "False\n"
     ]
    }
   ],
   "source": [
    "print(marks > 34 and marks > 56)"
   ]
  },
  {
   "cell_type": "code",
   "execution_count": 5,
   "id": "4b3def85",
   "metadata": {},
   "outputs": [
    {
     "name": "stdout",
     "output_type": "stream",
     "text": [
      "True\n"
     ]
    }
   ],
   "source": [
    "print(marks > 34 or marks < 56)"
   ]
  },
  {
   "cell_type": "code",
   "execution_count": 6,
   "id": "863cf2e9",
   "metadata": {},
   "outputs": [
    {
     "name": "stdout",
     "output_type": "stream",
     "text": [
      "True\n"
     ]
    }
   ],
   "source": [
    "print(True and True)"
   ]
  },
  {
   "cell_type": "code",
   "execution_count": 7,
   "id": "3bd64fa8",
   "metadata": {},
   "outputs": [
    {
     "name": "stdout",
     "output_type": "stream",
     "text": [
      "False\n"
     ]
    }
   ],
   "source": [
    "print(True and False)"
   ]
  },
  {
   "cell_type": "code",
   "execution_count": 8,
   "id": "afe89b52",
   "metadata": {},
   "outputs": [
    {
     "name": "stdout",
     "output_type": "stream",
     "text": [
      "False\n"
     ]
    }
   ],
   "source": [
    "print(False and True)"
   ]
  },
  {
   "cell_type": "code",
   "execution_count": 9,
   "id": "046d8f77",
   "metadata": {},
   "outputs": [
    {
     "name": "stdout",
     "output_type": "stream",
     "text": [
      "False\n"
     ]
    }
   ],
   "source": [
    "print(False and False)"
   ]
  },
  {
   "cell_type": "code",
   "execution_count": 10,
   "id": "4bab0726",
   "metadata": {},
   "outputs": [
    {
     "name": "stdout",
     "output_type": "stream",
     "text": [
      "True\n"
     ]
    }
   ],
   "source": [
    "print(True or True)"
   ]
  },
  {
   "cell_type": "code",
   "execution_count": 11,
   "id": "8b3d858b",
   "metadata": {},
   "outputs": [
    {
     "name": "stdout",
     "output_type": "stream",
     "text": [
      "True\n"
     ]
    }
   ],
   "source": [
    "print(False or True)"
   ]
  },
  {
   "cell_type": "code",
   "execution_count": 12,
   "id": "b9d1760e",
   "metadata": {},
   "outputs": [
    {
     "name": "stdout",
     "output_type": "stream",
     "text": [
      "True\n"
     ]
    }
   ],
   "source": [
    "print(False or True)"
   ]
  },
  {
   "cell_type": "code",
   "execution_count": 13,
   "id": "bff6fdbc",
   "metadata": {},
   "outputs": [
    {
     "name": "stdout",
     "output_type": "stream",
     "text": [
      "False\n"
     ]
    }
   ],
   "source": [
    "print(False or False)"
   ]
  },
  {
   "cell_type": "code",
   "execution_count": null,
   "id": "638949d0",
   "metadata": {},
   "outputs": [],
   "source": [
    "5. Bitwise\n",
    "    &\n",
    "    |\n",
    "    ~"
   ]
  },
  {
   "cell_type": "code",
   "execution_count": 14,
   "id": "1f693969",
   "metadata": {},
   "outputs": [
    {
     "name": "stdout",
     "output_type": "stream",
     "text": [
      "0\n"
     ]
    }
   ],
   "source": [
    "a = 8 & 7\n",
    "print(a)"
   ]
  },
  {
   "cell_type": "code",
   "execution_count": 15,
   "id": "d1db71f3",
   "metadata": {},
   "outputs": [
    {
     "name": "stdout",
     "output_type": "stream",
     "text": [
      "15\n"
     ]
    }
   ],
   "source": [
    "a = 8 | 7\n",
    "print(a)"
   ]
  },
  {
   "cell_type": "code",
   "execution_count": 16,
   "id": "788e7363",
   "metadata": {},
   "outputs": [
    {
     "name": "stdout",
     "output_type": "stream",
     "text": [
      "-8\n"
     ]
    }
   ],
   "source": [
    "print(~7)"
   ]
  },
  {
   "cell_type": "code",
   "execution_count": null,
   "id": "dbc7870b",
   "metadata": {},
   "outputs": [],
   "source": []
  }
 ],
 "metadata": {
  "kernelspec": {
   "display_name": "Python 3 (ipykernel)",
   "language": "python",
   "name": "python3"
  },
  "language_info": {
   "codemirror_mode": {
    "name": "ipython",
    "version": 3
   },
   "file_extension": ".py",
   "mimetype": "text/x-python",
   "name": "python",
   "nbconvert_exporter": "python",
   "pygments_lexer": "ipython3",
   "version": "3.10.12"
  }
 },
 "nbformat": 4,
 "nbformat_minor": 5
}
